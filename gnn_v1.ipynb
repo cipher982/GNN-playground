{
 "cells": [
  {
   "cell_type": "markdown",
   "id": "70473da1-a976-4932-af67-2b5e811f39b3",
   "metadata": {},
   "source": [
    "# GNN V1"
   ]
  },
  {
   "cell_type": "markdown",
   "id": "fa5686f9-60be-4906-946b-11dc4007b198",
   "metadata": {},
   "source": [
    "An attempt to use keras to build out a graph neural network and predict the user (label) using the dataset columns (features)."
   ]
  },
  {
   "cell_type": "markdown",
   "id": "7f9a4073-f540-4673-9fe8-146fec64a01d",
   "metadata": {},
   "source": [
    "## Import and Initialize"
   ]
  },
  {
   "cell_type": "code",
   "execution_count": 1,
   "id": "d8a7291b-55c6-4938-b662-7a6b5364efbd",
   "metadata": {
    "execution": {
     "iopub.execute_input": "2021-07-30T20:25:31.312426Z",
     "iopub.status.busy": "2021-07-30T20:25:31.312182Z",
     "iopub.status.idle": "2021-07-30T20:25:32.760798Z",
     "shell.execute_reply": "2021-07-30T20:25:32.760020Z",
     "shell.execute_reply.started": "2021-07-30T20:25:31.312374Z"
    },
    "tags": []
   },
   "outputs": [
    {
     "name": "stderr",
     "output_type": "stream",
     "text": [
      "2021-07-30 16:25:32.109041: W tensorflow/stream_executor/platform/default/dso_loader.cc:64] Could not load dynamic library 'libcudart.so.11.0'; dlerror: libcudart.so.11.0: cannot open shared object file: No such file or directory\n",
      "2021-07-30 16:25:32.109086: I tensorflow/stream_executor/cuda/cudart_stub.cc:29] Ignore above cudart dlerror if you do not have a GPU set up on your machine.\n"
     ]
    }
   ],
   "source": [
    "import networkx as nx\n",
    "import numpy as np\n",
    "import pandas as pd\n",
    "import matplotlib.pyplot as plt\n",
    "from sklearn.model_selection import train_test_split\n",
    "from sklearn.preprocessing import OneHotEncoder, LabelEncoder\n",
    "import tensorflow as tf"
   ]
  },
  {
   "cell_type": "code",
   "execution_count": 2,
   "id": "b07be4bc-a8e9-45a6-a391-fd9444ebc4e9",
   "metadata": {
    "execution": {
     "iopub.execute_input": "2021-07-30T20:25:43.247506Z",
     "iopub.status.busy": "2021-07-30T20:25:43.247144Z",
     "iopub.status.idle": "2021-07-30T20:25:43.252516Z",
     "shell.execute_reply": "2021-07-30T20:25:43.251834Z",
     "shell.execute_reply.started": "2021-07-30T20:25:43.247491Z"
    },
    "tags": []
   },
   "outputs": [],
   "source": [
    "\n",
    "def display_learning_curves(history):\n",
    "    fig, (ax1, ax2) = plt.subplots(1, 2, figsize=(15, 5))\n",
    "\n",
    "    ax1.plot(history.history[\"loss\"])\n",
    "    ax1.plot(history.history[\"val_loss\"])\n",
    "    ax1.legend([\"train\", \"test\"], loc=\"upper right\")\n",
    "    ax1.set_xlabel(\"Epochs\")\n",
    "    ax1.set_ylabel(\"Loss\")\n",
    "\n",
    "    ax2.plot(history.history[\"acc\"])\n",
    "    ax2.plot(history.history[\"val_acc\"])\n",
    "    ax2.legend([\"train\", \"test\"], loc=\"upper right\")\n",
    "    ax2.set_xlabel(\"Epochs\")\n",
    "    ax2.set_ylabel(\"Accuracy\")\n",
    "    plt.show()\n"
   ]
  },
  {
   "cell_type": "markdown",
   "id": "a6c661f9-8924-4f02-b68b-227cb456b27c",
   "metadata": {},
   "source": [
    "## Load Data"
   ]
  },
  {
   "cell_type": "code",
   "execution_count": 3,
   "id": "746ff863-9108-4743-ac83-e7c5e1ec5a9e",
   "metadata": {
    "execution": {
     "iopub.execute_input": "2021-07-30T20:25:43.823936Z",
     "iopub.status.busy": "2021-07-30T20:25:43.823569Z",
     "iopub.status.idle": "2021-07-30T20:25:44.502630Z",
     "shell.execute_reply": "2021-07-30T20:25:44.501949Z",
     "shell.execute_reply.started": "2021-07-30T20:25:43.823905Z"
    },
    "tags": []
   },
   "outputs": [
    {
     "name": "stdout",
     "output_type": "stream",
     "text": [
      "Zync data shape: (99999, 16)\n",
      "Sizmek data shape: (10000, 16)\n"
     ]
    }
   ],
   "source": [
    "zync = pd.read_csv(\"data/zync_session_tracking_orc_20210625_all.csv\")\n",
    "print(f\"Zync data shape: {zync.shape}\")\n",
    "\n",
    "sizmek = pd.read_csv(\"data/sizmek_bidstream_raw_20210625_10k.csv\")\n",
    "print(f\"Sizmek data shape: {sizmek.shape}\")\n",
    "\n",
    "# Fix column headers\n",
    "zync.columns = [i.split(\".\")[1] for i in zync.columns]\n",
    "sizmek.columns = [i.split(\".\")[1] for i in sizmek.columns]\n",
    "\n",
    "def make_smaller(df, frac):\n",
    "    new_df = df.copy()\n",
    "    new_df = new_df.sample(frac=frac, replace=False)\n",
    "    return new_df\n",
    "\n",
    "zync = make_smaller(zync, 0.1)\n",
    "sizmek = make_smaller(sizmek, 0.1)"
   ]
  },
  {
   "cell_type": "markdown",
   "id": "0673574d-9821-4d8b-ba14-cf8c6de2391d",
   "metadata": {},
   "source": [
    "## Transform to Graph Format\n",
    "**Goal:** Achieve this format here: https://keras.io/examples/graph/gnn_citations/\n",
    "- Below are some examples of the current data structures:"
   ]
  },
  {
   "cell_type": "code",
   "execution_count": 4,
   "id": "07f4847c-3676-45dd-a759-3ce3702fbae7",
   "metadata": {
    "execution": {
     "iopub.execute_input": "2021-07-30T20:25:44.504299Z",
     "iopub.status.busy": "2021-07-30T20:25:44.504160Z",
     "iopub.status.idle": "2021-07-30T20:25:44.518609Z",
     "shell.execute_reply": "2021-07-30T20:25:44.517931Z",
     "shell.execute_reply.started": "2021-07-30T20:25:44.504284Z"
    },
    "tags": []
   },
   "outputs": [
    {
     "data": {
      "text/html": [
       "<div>\n",
       "<style scoped>\n",
       "    .dataframe tbody tr th:only-of-type {\n",
       "        vertical-align: middle;\n",
       "    }\n",
       "\n",
       "    .dataframe tbody tr th {\n",
       "        vertical-align: top;\n",
       "    }\n",
       "\n",
       "    .dataframe thead th {\n",
       "        text-align: right;\n",
       "    }\n",
       "</style>\n",
       "<table border=\"1\" class=\"dataframe\">\n",
       "  <thead>\n",
       "    <tr style=\"text-align: right;\">\n",
       "      <th></th>\n",
       "      <th>user_id</th>\n",
       "      <th>household_cluster_id</th>\n",
       "      <th>zeta_user_id</th>\n",
       "      <th>account_id</th>\n",
       "      <th>url</th>\n",
       "      <th>referrer_url</th>\n",
       "      <th>city_code</th>\n",
       "      <th>state_code</th>\n",
       "      <th>zip_code</th>\n",
       "      <th>dma_code</th>\n",
       "      <th>country_code</th>\n",
       "      <th>user_agent</th>\n",
       "      <th>mobile_id</th>\n",
       "      <th>ip</th>\n",
       "      <th>server_timestamp</th>\n",
       "      <th>dt</th>\n",
       "    </tr>\n",
       "  </thead>\n",
       "  <tbody>\n",
       "    <tr>\n",
       "      <th>9853</th>\n",
       "      <td>57052281873774128</td>\n",
       "      <td>NaN</td>\n",
       "      <td>fa3e335a-6b70-45b0-a9fb-ac71d098a924:161377748...</td>\n",
       "      <td>35927</td>\n",
       "      <td>https://centurylink.net/?inc=11</td>\n",
       "      <td>https://centurylink.net/?inc=10</td>\n",
       "      <td>5419384.0</td>\n",
       "      <td>CO</td>\n",
       "      <td>80219</td>\n",
       "      <td>751.0</td>\n",
       "      <td>US</td>\n",
       "      <td>Mozilla/5.0 (Windows NT 10.0; Win64; x64) Appl...</td>\n",
       "      <td>NaN</td>\n",
       "      <td>71.218.146.124</td>\n",
       "      <td>1624602605384</td>\n",
       "      <td>20210625</td>\n",
       "    </tr>\n",
       "  </tbody>\n",
       "</table>\n",
       "</div>"
      ],
      "text/plain": [
       "                user_id  household_cluster_id  \\\n",
       "9853  57052281873774128                   NaN   \n",
       "\n",
       "                                           zeta_user_id  account_id  \\\n",
       "9853  fa3e335a-6b70-45b0-a9fb-ac71d098a924:161377748...       35927   \n",
       "\n",
       "                                  url                     referrer_url  \\\n",
       "9853  https://centurylink.net/?inc=11  https://centurylink.net/?inc=10   \n",
       "\n",
       "      city_code state_code zip_code  dma_code country_code  \\\n",
       "9853  5419384.0         CO    80219     751.0           US   \n",
       "\n",
       "                                             user_agent mobile_id  \\\n",
       "9853  Mozilla/5.0 (Windows NT 10.0; Win64; x64) Appl...       NaN   \n",
       "\n",
       "                  ip  server_timestamp        dt  \n",
       "9853  71.218.146.124     1624602605384  20210625  "
      ]
     },
     "execution_count": 4,
     "metadata": {},
     "output_type": "execute_result"
    }
   ],
   "source": [
    "sizmek.head(1)"
   ]
  },
  {
   "cell_type": "code",
   "execution_count": 8,
   "id": "c820a7e2-724f-4248-95dd-35d869451dcc",
   "metadata": {
    "execution": {
     "iopub.execute_input": "2021-07-30T20:25:57.336525Z",
     "iopub.status.busy": "2021-07-30T20:25:57.336281Z",
     "iopub.status.idle": "2021-07-30T20:25:57.349615Z",
     "shell.execute_reply": "2021-07-30T20:25:57.348928Z",
     "shell.execute_reply.started": "2021-07-30T20:25:57.336509Z"
    },
    "tags": []
   },
   "outputs": [
    {
     "data": {
      "text/html": [
       "<div>\n",
       "<style scoped>\n",
       "    .dataframe tbody tr th:only-of-type {\n",
       "        vertical-align: middle;\n",
       "    }\n",
       "\n",
       "    .dataframe tbody tr th {\n",
       "        vertical-align: top;\n",
       "    }\n",
       "\n",
       "    .dataframe thead th {\n",
       "        text-align: right;\n",
       "    }\n",
       "</style>\n",
       "<table border=\"1\" class=\"dataframe\">\n",
       "  <thead>\n",
       "    <tr style=\"text-align: right;\">\n",
       "      <th></th>\n",
       "      <th>session_id</th>\n",
       "      <th>client</th>\n",
       "      <th>client_id</th>\n",
       "      <th>remote_addr</th>\n",
       "      <th>referrer</th>\n",
       "      <th>user_agent_platform</th>\n",
       "      <th>user_agent_language</th>\n",
       "      <th>user_agent_browser</th>\n",
       "      <th>user_agent_string</th>\n",
       "      <th>user_agent_version</th>\n",
       "      <th>timestamp</th>\n",
       "      <th>geo_data</th>\n",
       "      <th>partner_data</th>\n",
       "      <th>session</th>\n",
       "      <th>consent_data</th>\n",
       "      <th>dt</th>\n",
       "    </tr>\n",
       "  </thead>\n",
       "  <tbody>\n",
       "    <tr>\n",
       "      <th>89518</th>\n",
       "      <td>57896b96-7ca6-4348-83b6-b6a8790045f8:158789912...</td>\n",
       "      <td>disqus</td>\n",
       "      <td>c7af0rep17jm203</td>\n",
       "      <td>27.52.162.149</td>\n",
       "      <td>https://chinaq.tv/cn190731b/2.html</td>\n",
       "      <td>windows</td>\n",
       "      <td>NaN</td>\n",
       "      <td>chrome</td>\n",
       "      <td>Mozilla/5.0 (Windows NT 10.0; Win64; x64) Appl...</td>\n",
       "      <td>91.0.4472.114</td>\n",
       "      <td>1.624644e+09</td>\n",
       "      <td>{\"country\":\"TW\",\"subdivision\":\"CHA\",\"coordinat...</td>\n",
       "      <td>NaN</td>\n",
       "      <td>{\"clients\":{\"appnexus\":null,\"disqus\":\"c7af0rep...</td>\n",
       "      <td>{\"gdpr\":null,\"gdpr_consent\":null}</td>\n",
       "      <td>2021-06-25-18</td>\n",
       "    </tr>\n",
       "  </tbody>\n",
       "</table>\n",
       "</div>"
      ],
      "text/plain": [
       "                                              session_id  client  \\\n",
       "89518  57896b96-7ca6-4348-83b6-b6a8790045f8:158789912...  disqus   \n",
       "\n",
       "             client_id    remote_addr                            referrer  \\\n",
       "89518  c7af0rep17jm203  27.52.162.149  https://chinaq.tv/cn190731b/2.html   \n",
       "\n",
       "      user_agent_platform user_agent_language user_agent_browser  \\\n",
       "89518             windows                 NaN             chrome   \n",
       "\n",
       "                                       user_agent_string user_agent_version  \\\n",
       "89518  Mozilla/5.0 (Windows NT 10.0; Win64; x64) Appl...      91.0.4472.114   \n",
       "\n",
       "          timestamp                                           geo_data  \\\n",
       "89518  1.624644e+09  {\"country\":\"TW\",\"subdivision\":\"CHA\",\"coordinat...   \n",
       "\n",
       "      partner_data                                            session  \\\n",
       "89518          NaN  {\"clients\":{\"appnexus\":null,\"disqus\":\"c7af0rep...   \n",
       "\n",
       "                            consent_data             dt  \n",
       "89518  {\"gdpr\":null,\"gdpr_consent\":null}  2021-06-25-18  "
      ]
     },
     "execution_count": 8,
     "metadata": {},
     "output_type": "execute_result"
    }
   ],
   "source": [
    "zync.head(1)"
   ]
  },
  {
   "cell_type": "markdown",
   "id": "e7c745a3-2999-47f9-a922-b368513c7552",
   "metadata": {},
   "source": [
    "Ideally we want to get Source/Target interaction tuples. But what are the interactions in this dataset? There are no explicit sample-to-sample interactions here, it is all implicit via sample features such as URL, city, timestamp.\n",
    "\n",
    "One thought: If two samples ARE the same user the features should match up (IP, user_agent, geo), with the exception of timestamps."
   ]
  },
  {
   "cell_type": "markdown",
   "id": "12924f9b-9896-468b-b1ec-7bad384263a6",
   "metadata": {},
   "source": [
    "## Attempt 1: Do Some Loops\n",
    "Let's create a 'connection' by looping through all rows for each row if there are any matching attribtutes in one of the select features (IP, user-agent, email, etc)"
   ]
  },
  {
   "cell_type": "code",
   "execution_count": 8,
   "id": "50b22134-8c2b-4916-be3c-28c8f4a1903f",
   "metadata": {
    "execution": {
     "iopub.execute_input": "2021-07-23T20:13:14.813748Z",
     "iopub.status.busy": "2021-07-23T20:13:14.813364Z",
     "iopub.status.idle": "2021-07-23T20:13:14.853292Z",
     "shell.execute_reply": "2021-07-23T20:13:14.852729Z",
     "shell.execute_reply.started": "2021-07-23T20:13:14.813733Z"
    },
    "tags": []
   },
   "outputs": [
    {
     "name": "stdout",
     "output_type": "stream",
     "text": [
      "41527107883687338\n",
      "Found 2 matches\n",
      "CPU times: user 36.7 ms, sys: 0 ns, total: 36.7 ms\n",
      "Wall time: 35.7 ms\n"
     ]
    }
   ],
   "source": [
    "%%time\n",
    "\n",
    "matching_cols = [\"ip\", \"user_agent\"]\n",
    "\n",
    "def search_table(table, column, value):\n",
    "    match_indices = []\n",
    "    for ix, row in table.iterrows():\n",
    "        if value == row[column]:\n",
    "            match_indices.append(ix)\n",
    "    print(f\"Found {len(match_indices)} matches\")\n",
    "\n",
    "\n",
    "for ix, user_id in enumerate(sizmek[\"user_id\"]):\n",
    "    print(user_id)\n",
    "    search_table(sizmek, \"user_id\", user_id)\n",
    "    break"
   ]
  },
  {
   "cell_type": "markdown",
   "id": "8e8d95d3-3b04-4f2e-91e7-b355d67a829a",
   "metadata": {
    "execution": {
     "iopub.execute_input": "2021-07-16T21:05:29.333342Z",
     "iopub.status.busy": "2021-07-16T21:05:29.332978Z",
     "iopub.status.idle": "2021-07-16T21:05:29.337883Z",
     "shell.execute_reply": "2021-07-16T21:05:29.337230Z",
     "shell.execute_reply.started": "2021-07-16T21:05:29.333327Z"
    },
    "tags": []
   },
   "source": [
    "### Result: Not Good!\n",
    "It appears that a single search is on the order of `O(n^2)` complexity and for just 10k rows in this sample it takes ~300ms for a single iteration. This is completely infeasable for larger sizes. But that is something that can likely be fixed later on with pre-computed hashes. I'm thinking maybe a dictionary lookup where the dictionary key is the value we are searching for, and the dictionary value is the indices where this value is located. It can simply be updated as more rows are added."
   ]
  },
  {
   "cell_type": "markdown",
   "id": "4af77127-be72-470d-a775-73f8d09b8842",
   "metadata": {},
   "source": [
    "## Attempt 2: Dictionary Lookup\n",
    "There is no reason I should be iterating through the entire table for each value in the table, that's what hash lookups are for! So let's create a dictionary and use that to search for the value in each table."
   ]
  },
  {
   "cell_type": "code",
   "execution_count": 9,
   "id": "2b1f6e87-80bc-4120-97a9-f1fcc3f49483",
   "metadata": {
    "execution": {
     "iopub.execute_input": "2021-07-23T20:13:18.106026Z",
     "iopub.status.busy": "2021-07-23T20:13:18.105647Z",
     "iopub.status.idle": "2021-07-23T20:13:18.313422Z",
     "shell.execute_reply": "2021-07-23T20:13:18.312763Z",
     "shell.execute_reply.started": "2021-07-23T20:13:18.106010Z"
    },
    "tags": []
   },
   "outputs": [
    {
     "name": "stdout",
     "output_type": "stream",
     "text": [
      "CPU times: user 186 ms, sys: 18.7 ms, total: 205 ms\n",
      "Wall time: 203 ms\n"
     ]
    }
   ],
   "source": [
    "%%time\n",
    "\n",
    "def create_dict(table, col):\n",
    "    table_dict = {}\n",
    "    for ix, value in enumerate(table[col]):\n",
    "        #print(value)\n",
    "        if value in table_dict:\n",
    "            table_dict[value].append(ix)\n",
    "        else:\n",
    "            table_dict[value] = [ix]\n",
    "    return table_dict\n",
    "\n",
    "def search_table(table, column):\n",
    "    connections = []\n",
    "    lookup_dict = create_dict(table, column)\n",
    "    for ix, value in enumerate(table[column]):\n",
    "        if value in lookup_dict:\n",
    "            for item in lookup_dict[value]:\n",
    "                connections.append((ix, item, column, value))\n",
    "    connections = pd.DataFrame(\n",
    "        connections, \n",
    "        columns=['source', 'target', 'column', 'value']\n",
    "    )\n",
    "    return connections\n",
    "\n",
    "# Create three edge lists for some features\n",
    "ip_graph = search_table(sizmek, \"ip\")\n",
    "ua_graph = search_table(sizmek, \"user_agent\")\n",
    "zip_graph = search_table(sizmek, \"zip_code\")"
   ]
  },
  {
   "cell_type": "markdown",
   "id": "b5aad84c-3e0b-4ab2-8698-9afc17df6e7a",
   "metadata": {},
   "source": [
    "### Result: Very Good!\n",
    "I can now search the entire table for three different features in only 24 seconds, this will be much more managable to scale up in the future when using millions of rows."
   ]
  },
  {
   "cell_type": "code",
   "execution_count": 10,
   "id": "1355495e-9173-4bbf-a13b-395e062e3441",
   "metadata": {
    "execution": {
     "iopub.execute_input": "2021-07-23T20:13:19.250645Z",
     "iopub.status.busy": "2021-07-23T20:13:19.250193Z",
     "iopub.status.idle": "2021-07-23T20:13:19.259060Z",
     "shell.execute_reply": "2021-07-23T20:13:19.258379Z",
     "shell.execute_reply.started": "2021-07-23T20:13:19.250629Z"
    },
    "tags": []
   },
   "outputs": [
    {
     "data": {
      "text/html": [
       "<div>\n",
       "<style scoped>\n",
       "    .dataframe tbody tr th:only-of-type {\n",
       "        vertical-align: middle;\n",
       "    }\n",
       "\n",
       "    .dataframe tbody tr th {\n",
       "        vertical-align: top;\n",
       "    }\n",
       "\n",
       "    .dataframe thead th {\n",
       "        text-align: right;\n",
       "    }\n",
       "</style>\n",
       "<table border=\"1\" class=\"dataframe\">\n",
       "  <thead>\n",
       "    <tr style=\"text-align: right;\">\n",
       "      <th></th>\n",
       "      <th>source</th>\n",
       "      <th>target</th>\n",
       "      <th>column</th>\n",
       "      <th>value</th>\n",
       "    </tr>\n",
       "  </thead>\n",
       "  <tbody>\n",
       "    <tr>\n",
       "      <th>1660</th>\n",
       "      <td>11</td>\n",
       "      <td>104</td>\n",
       "      <td>ip</td>\n",
       "      <td>71.218.146.124</td>\n",
       "    </tr>\n",
       "    <tr>\n",
       "      <th>11192</th>\n",
       "      <td>66</td>\n",
       "      <td>982</td>\n",
       "      <td>ip</td>\n",
       "      <td>71.218.146.124</td>\n",
       "    </tr>\n",
       "    <tr>\n",
       "      <th>116603</th>\n",
       "      <td>753</td>\n",
       "      <td>857</td>\n",
       "      <td>ip</td>\n",
       "      <td>71.218.146.124</td>\n",
       "    </tr>\n",
       "  </tbody>\n",
       "</table>\n",
       "</div>"
      ],
      "text/plain": [
       "        source  target column           value\n",
       "1660        11     104     ip  71.218.146.124\n",
       "11192       66     982     ip  71.218.146.124\n",
       "116603     753     857     ip  71.218.146.124"
      ]
     },
     "execution_count": 10,
     "metadata": {},
     "output_type": "execute_result"
    }
   ],
   "source": [
    "ip_graph.sample(3)"
   ]
  },
  {
   "cell_type": "markdown",
   "id": "0a1b2fa7-0933-4b87-8514-e1a26d0a7599",
   "metadata": {},
   "source": [
    "### Example Plot of the Graph Network"
   ]
  },
  {
   "cell_type": "code",
   "execution_count": 11,
   "id": "d96c2835-7e86-4b4d-afc9-04ec51662057",
   "metadata": {
    "execution": {
     "iopub.execute_input": "2021-07-23T20:13:20.315685Z",
     "iopub.status.busy": "2021-07-23T20:13:20.315273Z",
     "iopub.status.idle": "2021-07-23T20:13:20.536080Z",
     "shell.execute_reply": "2021-07-23T20:13:20.535400Z",
     "shell.execute_reply.started": "2021-07-23T20:13:20.315665Z"
    },
    "tags": []
   },
   "outputs": [
    {
     "data": {
      "image/png": "[encoded data removed]",
      "text/plain": [
       "<Figure size 288x288 with 1 Axes>"
      ]
     },
     "metadata": {},
     "output_type": "display_data"
    }
   ],
   "source": [
    "plt.figure(figsize=(4, 4))\n",
    "g = nx.from_pandas_edgelist(zip_graph.sample(n=300))\n",
    "nx.draw_spring(g, node_size=10)"
   ]
  },
  {
   "cell_type": "markdown",
   "id": "498ae904-3124-4ed4-8788-1f5eee6cc9e3",
   "metadata": {},
   "source": [
    "## Create the Network"
   ]
  },
  {
   "cell_type": "code",
   "execution_count": 12,
   "id": "0198ad39-b428-4799-a2aa-d388df6ae728",
   "metadata": {
    "execution": {
     "iopub.execute_input": "2021-07-23T20:13:22.130297Z",
     "iopub.status.busy": "2021-07-23T20:13:22.129897Z",
     "iopub.status.idle": "2021-07-23T20:13:22.140904Z",
     "shell.execute_reply": "2021-07-23T20:13:22.140309Z",
     "shell.execute_reply.started": "2021-07-23T20:13:22.130281Z"
    },
    "tags": []
   },
   "outputs": [
    {
     "data": {
      "text/html": [
       "<div>\n",
       "<style scoped>\n",
       "    .dataframe tbody tr th:only-of-type {\n",
       "        vertical-align: middle;\n",
       "    }\n",
       "\n",
       "    .dataframe tbody tr th {\n",
       "        vertical-align: top;\n",
       "    }\n",
       "\n",
       "    .dataframe thead th {\n",
       "        text-align: right;\n",
       "    }\n",
       "</style>\n",
       "<table border=\"1\" class=\"dataframe\">\n",
       "  <thead>\n",
       "    <tr style=\"text-align: right;\">\n",
       "      <th></th>\n",
       "      <th>user_id</th>\n",
       "      <th>household_cluster_id</th>\n",
       "      <th>zeta_user_id</th>\n",
       "      <th>account_id</th>\n",
       "      <th>url</th>\n",
       "      <th>referrer_url</th>\n",
       "      <th>city_code</th>\n",
       "      <th>state_code</th>\n",
       "      <th>zip_code</th>\n",
       "      <th>dma_code</th>\n",
       "      <th>country_code</th>\n",
       "      <th>user_agent</th>\n",
       "      <th>mobile_id</th>\n",
       "      <th>ip</th>\n",
       "      <th>server_timestamp</th>\n",
       "      <th>dt</th>\n",
       "    </tr>\n",
       "  </thead>\n",
       "  <tbody>\n",
       "    <tr>\n",
       "      <th>5105</th>\n",
       "      <td>41527107883687338</td>\n",
       "      <td>NaN</td>\n",
       "      <td>NaN</td>\n",
       "      <td>19967</td>\n",
       "      <td>http://mob.app.com.eyecon.global</td>\n",
       "      <td>NaN</td>\n",
       "      <td>NaN</td>\n",
       "      <td>NaN</td>\n",
       "      <td>NaN</td>\n",
       "      <td>NaN</td>\n",
       "      <td>EG</td>\n",
       "      <td>Mozilla/5.0 (Linux; Android 10; JSN-L22 Build/...</td>\n",
       "      <td>dac52ca8-5d4a-430c-b0e8-b84b99c24f37</td>\n",
       "      <td>217.55.124.0</td>\n",
       "      <td>1624629780981</td>\n",
       "      <td>20210625</td>\n",
       "    </tr>\n",
       "    <tr>\n",
       "      <th>5509</th>\n",
       "      <td>49158092732748537</td>\n",
       "      <td>NaN</td>\n",
       "      <td>46acea72-4d42-4c25-83ae-e2a1ea8d1523:161655240...</td>\n",
       "      <td>19967</td>\n",
       "      <td>https://www.midwestliving.com/travel/ohio/akro...</td>\n",
       "      <td>NaN</td>\n",
       "      <td>5351549.0</td>\n",
       "      <td>CA</td>\n",
       "      <td>90247</td>\n",
       "      <td>803.0</td>\n",
       "      <td>US</td>\n",
       "      <td>Mozilla/5.0 (Linux; Android 10; moto g power (...</td>\n",
       "      <td>NaN</td>\n",
       "      <td>107.116.13.0</td>\n",
       "      <td>1624612096957</td>\n",
       "      <td>20210625</td>\n",
       "    </tr>\n",
       "  </tbody>\n",
       "</table>\n",
       "</div>"
      ],
      "text/plain": [
       "                user_id  household_cluster_id  \\\n",
       "5105  41527107883687338                   NaN   \n",
       "5509  49158092732748537                   NaN   \n",
       "\n",
       "                                           zeta_user_id  account_id  \\\n",
       "5105                                                NaN       19967   \n",
       "5509  46acea72-4d42-4c25-83ae-e2a1ea8d1523:161655240...       19967   \n",
       "\n",
       "                                                    url referrer_url  \\\n",
       "5105                   http://mob.app.com.eyecon.global          NaN   \n",
       "5509  https://www.midwestliving.com/travel/ohio/akro...          NaN   \n",
       "\n",
       "      city_code state_code zip_code  dma_code country_code  \\\n",
       "5105        NaN        NaN      NaN       NaN           EG   \n",
       "5509  5351549.0         CA    90247     803.0           US   \n",
       "\n",
       "                                             user_agent  \\\n",
       "5105  Mozilla/5.0 (Linux; Android 10; JSN-L22 Build/...   \n",
       "5509  Mozilla/5.0 (Linux; Android 10; moto g power (...   \n",
       "\n",
       "                                 mobile_id            ip  server_timestamp  \\\n",
       "5105  dac52ca8-5d4a-430c-b0e8-b84b99c24f37  217.55.124.0     1624629780981   \n",
       "5509                                   NaN  107.116.13.0     1624612096957   \n",
       "\n",
       "            dt  \n",
       "5105  20210625  \n",
       "5509  20210625  "
      ]
     },
     "execution_count": 12,
     "metadata": {},
     "output_type": "execute_result"
    }
   ],
   "source": [
    "sizmek.head(2)"
   ]
  },
  {
   "cell_type": "code",
   "execution_count": 13,
   "id": "341782c9-0508-4df4-ad9d-326ef23313e6",
   "metadata": {
    "execution": {
     "iopub.execute_input": "2021-07-23T20:13:22.704007Z",
     "iopub.status.busy": "2021-07-23T20:13:22.703624Z",
     "iopub.status.idle": "2021-07-23T20:13:22.709860Z",
     "shell.execute_reply": "2021-07-23T20:13:22.709291Z",
     "shell.execute_reply.started": "2021-07-23T20:13:22.703991Z"
    },
    "tags": []
   },
   "outputs": [
    {
     "data": {
      "text/html": [
       "<div>\n",
       "<style scoped>\n",
       "    .dataframe tbody tr th:only-of-type {\n",
       "        vertical-align: middle;\n",
       "    }\n",
       "\n",
       "    .dataframe tbody tr th {\n",
       "        vertical-align: top;\n",
       "    }\n",
       "\n",
       "    .dataframe thead th {\n",
       "        text-align: right;\n",
       "    }\n",
       "</style>\n",
       "<table border=\"1\" class=\"dataframe\">\n",
       "  <thead>\n",
       "    <tr style=\"text-align: right;\">\n",
       "      <th></th>\n",
       "      <th>source</th>\n",
       "      <th>target</th>\n",
       "      <th>column</th>\n",
       "      <th>value</th>\n",
       "    </tr>\n",
       "  </thead>\n",
       "  <tbody>\n",
       "    <tr>\n",
       "      <th>0</th>\n",
       "      <td>0</td>\n",
       "      <td>0</td>\n",
       "      <td>ip</td>\n",
       "      <td>217.55.124.0</td>\n",
       "    </tr>\n",
       "    <tr>\n",
       "      <th>1</th>\n",
       "      <td>0</td>\n",
       "      <td>209</td>\n",
       "      <td>ip</td>\n",
       "      <td>217.55.124.0</td>\n",
       "    </tr>\n",
       "    <tr>\n",
       "      <th>2</th>\n",
       "      <td>1</td>\n",
       "      <td>1</td>\n",
       "      <td>ip</td>\n",
       "      <td>107.116.13.0</td>\n",
       "    </tr>\n",
       "  </tbody>\n",
       "</table>\n",
       "</div>"
      ],
      "text/plain": [
       "   source  target column         value\n",
       "0       0       0     ip  217.55.124.0\n",
       "1       0     209     ip  217.55.124.0\n",
       "2       1       1     ip  107.116.13.0"
      ]
     },
     "execution_count": 13,
     "metadata": {},
     "output_type": "execute_result"
    }
   ],
   "source": [
    "ip_graph.head(3)"
   ]
  },
  {
   "cell_type": "code",
   "execution_count": 14,
   "id": "5e725202-8a82-48d7-8b8e-b8442cfcf71b",
   "metadata": {
    "execution": {
     "iopub.execute_input": "2021-07-23T20:13:23.181842Z",
     "iopub.status.busy": "2021-07-23T20:13:23.181472Z",
     "iopub.status.idle": "2021-07-23T20:13:23.191760Z",
     "shell.execute_reply": "2021-07-23T20:13:23.191200Z",
     "shell.execute_reply.started": "2021-07-23T20:13:23.181827Z"
    },
    "tags": []
   },
   "outputs": [
    {
     "name": "stdout",
     "output_type": "stream",
     "text": [
      "Unique features: 451\n",
      "Unique labels: 110\n"
     ]
    }
   ],
   "source": [
    "\n",
    "feature_cols = [\"account_id\", \"url\", \"referrer_url\", \"city_code\", \n",
    "                \"state_code\", \"dma_code\", \"country_code\"]\n",
    "\n",
    "feature_enc = OneHotEncoder(handle_unknown=\"ignore\")\n",
    "features_df = pd.DataFrame(\n",
    "    feature_enc.fit_transform(sizmek[feature_cols]).toarray(), \n",
    "    columns=feature_enc.get_feature_names(feature_cols)\n",
    ")\n",
    "print(f\"Unique features: {features_df.shape[1]}\")\n",
    "\n",
    "label_enc = LabelEncoder()\n",
    "labels = label_enc.fit_transform(sizmek[\"zip_code\"])\n",
    "print(f\"Unique labels: {max(labels)}\")"
   ]
  },
  {
   "cell_type": "code",
   "execution_count": 15,
   "id": "ab13efbd-001f-4fb9-90ac-e5906001f719",
   "metadata": {
    "execution": {
     "iopub.execute_input": "2021-07-23T20:13:24.603907Z",
     "iopub.status.busy": "2021-07-23T20:13:24.603531Z",
     "iopub.status.idle": "2021-07-23T20:13:24.655595Z",
     "shell.execute_reply": "2021-07-23T20:13:24.655031Z",
     "shell.execute_reply.started": "2021-07-23T20:13:24.603891Z"
    },
    "tags": []
   },
   "outputs": [
    {
     "name": "stderr",
     "output_type": "stream",
     "text": [
      "2021-07-23 16:13:24.614778: I tensorflow/stream_executor/platform/default/dso_loader.cc:53] Successfully opened dynamic library libcuda.so.1\n",
      "2021-07-23 16:13:24.639601: E tensorflow/stream_executor/cuda/cuda_driver.cc:328] failed call to cuInit: UNKNOWN ERROR (801)\n",
      "2021-07-23 16:13:24.639628: I tensorflow/stream_executor/cuda/cuda_diagnostics.cc:156] kernel driver does not appear to be running on this host (cube): /proc/driver/nvidia/version does not exist\n",
      "2021-07-23 16:13:24.640758: I tensorflow/core/platform/cpu_feature_guard.cc:142] This TensorFlow binary is optimized with oneAPI Deep Neural Network Library (oneDNN) to use the following CPU instructions in performance-critical operations:  AVX2 FMA\n",
      "To enable them in other operations, rebuild TensorFlow with the appropriate compiler flags.\n"
     ]
    }
   ],
   "source": [
    "# Edges array (sparse adjacency matrix) of shape [2, num_edges]\n",
    "edges = ip_graph[[\"source\", \"target\"]].to_numpy().T\n",
    "# Default edge weights to 1 (we don't have any in dataset)\n",
    "edge_weights = tf.ones(shape=edges.shape[1])\n",
    "# Node fatures array of shape [num_nodes, num_features]\n",
    "node_features = tf.cast(features_df.to_numpy(), dtype=tf.dtypes.float32)\n",
    "# Create the graph info with the above features\n",
    "graph_info = (node_features, edges, edge_weights)"
   ]
  },
  {
   "cell_type": "code",
   "execution_count": 19,
   "id": "037d4e1a-e219-494e-b63d-bb9325ed54bf",
   "metadata": {
    "execution": {
     "iopub.execute_input": "2021-07-23T20:13:56.327003Z",
     "iopub.status.busy": "2021-07-23T20:13:56.326633Z",
     "iopub.status.idle": "2021-07-23T20:13:56.622496Z",
     "shell.execute_reply": "2021-07-23T20:13:56.621955Z",
     "shell.execute_reply.started": "2021-07-23T20:13:56.326987Z"
    },
    "tags": []
   },
   "outputs": [
    {
     "name": "stdout",
     "output_type": "stream",
     "text": [
      "GNN output shape: (3, 111)\n",
      "Model: \"gnn_model\"\n",
      "_________________________________________________________________\n",
      "Layer (type)                 Output Shape              Param #   \n",
      "=================================================================\n",
      "preprocess (Sequential)      (1000, 32)                17452     \n",
      "_________________________________________________________________\n",
      "graph_conv1 (GraphConvLayer) multiple                  5888      \n",
      "_________________________________________________________________\n",
      "graph_conv2 (GraphConvLayer) multiple                  5888      \n",
      "_________________________________________________________________\n",
      "postprocess (Sequential)     (1000, 32)                2368      \n",
      "_________________________________________________________________\n",
      "logits (Dense)               multiple                  3663      \n",
      "=================================================================\n",
      "Total params: 35,259\n",
      "Trainable params: 33,525\n",
      "Non-trainable params: 1,734\n",
      "_________________________________________________________________\n"
     ]
    }
   ],
   "source": [
    "from graph_network import GNNNodeClassifier, create_ffn\n",
    "\n",
    "num_classes = len(sizmek[\"zip_code\"].unique())\n",
    "\n",
    "hidden_units = [32, 32]\n",
    "learning_rate = 0.01\n",
    "dropout_rate = 0.5\n",
    "num_epochs = 300\n",
    "batch_size = 256\n",
    "\n",
    "gnn_model = GNNNodeClassifier(\n",
    "    graph_info=graph_info,\n",
    "    num_classes=num_classes,\n",
    "    hidden_units=hidden_units,\n",
    "    dropout_rate=dropout_rate,\n",
    "    name=\"gnn_model\",\n",
    ")\n",
    "\n",
    "print(\"GNN output shape:\", gnn_model([1, 10, 100]).shape)\n",
    "\n",
    "gnn_model.summary()"
   ]
  },
  {
   "cell_type": "code",
   "execution_count": 25,
   "id": "95f4c576-6cf9-4d41-837f-40557b190b04",
   "metadata": {
    "execution": {
     "iopub.execute_input": "2021-07-23T20:22:05.192968Z",
     "iopub.status.busy": "2021-07-23T20:22:05.192568Z",
     "iopub.status.idle": "2021-07-23T20:22:05.199377Z",
     "shell.execute_reply": "2021-07-23T20:22:05.198700Z",
     "shell.execute_reply.started": "2021-07-23T20:22:05.192949Z"
    },
    "tags": []
   },
   "outputs": [],
   "source": [
    "split_indices = train_test_split(range(len(features_df)))\n",
    "\n",
    "# Features split\n",
    "X_train = features_df.iloc[split_indices[0], :]\n",
    "X_test = features_df.iloc[split_indices[1], :]\n",
    "\n",
    "# Labels split\n",
    "y_train = labels[split_indices[0]]\n",
    "y_test = labels[split_indices[1]]\n",
    "\n",
    "# HACKY FIX\n",
    "X_train = np.array(split_indices[0])\n",
    "y_train = pd.Series(data=y_train, index=split_indices[0])\n",
    "\n",
    "X_test = np.array(split_indices[1])\n",
    "y_test = pd.Series(data=y_test, index=split_indices[1])"
   ]
  },
  {
   "cell_type": "code",
   "execution_count": 21,
   "id": "a3f8ce33-0ad9-495a-a5e5-4429ccbc2cf4",
   "metadata": {
    "collapsed": true,
    "execution": {
     "iopub.execute_input": "2021-07-23T20:13:59.849941Z",
     "iopub.status.busy": "2021-07-23T20:13:59.849462Z",
     "iopub.status.idle": "2021-07-23T20:16:28.991032Z",
     "shell.execute_reply": "2021-07-23T20:16:28.990440Z",
     "shell.execute_reply.started": "2021-07-23T20:13:59.849922Z"
    },
    "jupyter": {
     "outputs_hidden": true
    },
    "tags": []
   },
   "outputs": [
    {
     "name": "stdout",
     "output_type": "stream",
     "text": [
      "Epoch 1/300\n",
      "WARNING:tensorflow:From /home/drose/github/.jupyter_383/lib/python3.8/site-packages/tensorflow/python/ops/array_ops.py:5043: calling gather (from tensorflow.python.ops.array_ops) with validate_indices is deprecated and will be removed in a future version.\n",
      "Instructions for updating:\n",
      "The `validate_indices` argument has no effect. Indices are always validated on CPU and never validated on GPU.\n"
     ]
    },
    {
     "name": "stderr",
     "output_type": "stream",
     "text": [
      "2021-07-23 16:13:59.889488: I tensorflow/compiler/mlir/mlir_graph_optimization_pass.cc:176] None of the MLIR Optimization Passes are enabled (registered 2)\n",
      "2021-07-23 16:13:59.891470: I tensorflow/core/platform/profile_utils/cpu_utils.cc:114] CPU Frequency: 3600010000 Hz\n"
     ]
    },
    {
     "name": "stdout",
     "output_type": "stream",
     "text": [
      "3/3 [==============================] - 4s 526ms/step - loss: 4.7341 - acc: 0.0377 - val_loss: 4.4998 - val_acc: 0.3628\n",
      "Epoch 2/300\n",
      "3/3 [==============================] - 1s 383ms/step - loss: 4.2066 - acc: 0.2245 - val_loss: 4.1672 - val_acc: 0.3628\n",
      "Epoch 3/300\n",
      "3/3 [==============================] - 1s 382ms/step - loss: 3.5037 - acc: 0.3893 - val_loss: 3.5773 - val_acc: 0.4071\n",
      "Epoch 4/300\n",
      "3/3 [==============================] - 1s 375ms/step - loss: 2.9762 - acc: 0.4207 - val_loss: 3.0911 - val_acc: 0.5221\n",
      "Epoch 5/300\n",
      "3/3 [==============================] - 1s 366ms/step - loss: 2.5886 - acc: 0.4537 - val_loss: 3.0309 - val_acc: 0.4867\n",
      "Epoch 6/300\n",
      "3/3 [==============================] - 1s 371ms/step - loss: 2.5363 - acc: 0.4584 - val_loss: 3.1794 - val_acc: 0.3717\n",
      "Epoch 7/300\n",
      "3/3 [==============================] - 1s 359ms/step - loss: 2.5229 - acc: 0.4631 - val_loss: 3.2524 - val_acc: 0.3540\n",
      "Epoch 8/300\n",
      "3/3 [==============================] - 1s 380ms/step - loss: 2.3884 - acc: 0.4804 - val_loss: 3.1742 - val_acc: 0.3540\n",
      "Epoch 9/300\n",
      "3/3 [==============================] - 1s 344ms/step - loss: 2.3016 - acc: 0.4882 - val_loss: 3.0820 - val_acc: 0.3717\n",
      "Epoch 10/300\n",
      "3/3 [==============================] - 1s 353ms/step - loss: 2.1933 - acc: 0.5024 - val_loss: 2.9238 - val_acc: 0.3717\n",
      "Epoch 11/300\n",
      "3/3 [==============================] - 1s 351ms/step - loss: 2.1774 - acc: 0.5243 - val_loss: 2.5999 - val_acc: 0.4956\n",
      "Epoch 12/300\n",
      "3/3 [==============================] - 1s 343ms/step - loss: 2.1193 - acc: 0.5322 - val_loss: 2.5346 - val_acc: 0.5487\n",
      "Epoch 13/300\n",
      "3/3 [==============================] - 1s 352ms/step - loss: 2.0435 - acc: 0.5322 - val_loss: 2.4919 - val_acc: 0.5487\n",
      "Epoch 14/300\n",
      "3/3 [==============================] - 1s 358ms/step - loss: 2.0285 - acc: 0.5463 - val_loss: 2.4482 - val_acc: 0.5929\n",
      "Epoch 15/300\n",
      "3/3 [==============================] - 1s 342ms/step - loss: 1.9661 - acc: 0.5651 - val_loss: 2.3868 - val_acc: 0.6372\n",
      "Epoch 16/300\n",
      "3/3 [==============================] - 1s 344ms/step - loss: 1.9642 - acc: 0.5620 - val_loss: 2.3265 - val_acc: 0.6726\n",
      "Epoch 17/300\n",
      "3/3 [==============================] - 1s 350ms/step - loss: 1.9352 - acc: 0.5651 - val_loss: 2.2667 - val_acc: 0.6726\n",
      "Epoch 18/300\n",
      "3/3 [==============================] - 1s 376ms/step - loss: 1.8707 - acc: 0.5761 - val_loss: 2.2166 - val_acc: 0.6549\n",
      "Epoch 19/300\n",
      "3/3 [==============================] - 1s 374ms/step - loss: 1.8613 - acc: 0.5667 - val_loss: 2.1562 - val_acc: 0.6549\n",
      "Epoch 20/300\n",
      "3/3 [==============================] - 1s 390ms/step - loss: 1.8582 - acc: 0.5793 - val_loss: 2.0906 - val_acc: 0.6549\n",
      "Epoch 21/300\n",
      "3/3 [==============================] - 1s 370ms/step - loss: 1.8094 - acc: 0.5981 - val_loss: 2.0301 - val_acc: 0.6637\n",
      "Epoch 22/300\n",
      "3/3 [==============================] - 1s 352ms/step - loss: 1.7797 - acc: 0.6091 - val_loss: 1.9792 - val_acc: 0.6903\n",
      "Epoch 23/300\n",
      "3/3 [==============================] - 1s 391ms/step - loss: 1.6807 - acc: 0.6138 - val_loss: 1.9175 - val_acc: 0.6903\n",
      "Epoch 24/300\n",
      "3/3 [==============================] - 1s 357ms/step - loss: 1.6825 - acc: 0.6264 - val_loss: 1.8610 - val_acc: 0.6991\n",
      "Epoch 25/300\n",
      "3/3 [==============================] - 1s 346ms/step - loss: 1.6661 - acc: 0.6311 - val_loss: 1.8036 - val_acc: 0.6637\n",
      "Epoch 26/300\n",
      "3/3 [==============================] - 1s 375ms/step - loss: 1.6380 - acc: 0.6405 - val_loss: 1.7519 - val_acc: 0.6991\n",
      "Epoch 27/300\n",
      "3/3 [==============================] - 1s 368ms/step - loss: 1.5971 - acc: 0.6436 - val_loss: 1.7270 - val_acc: 0.6549\n",
      "Epoch 28/300\n",
      "3/3 [==============================] - 1s 359ms/step - loss: 1.6159 - acc: 0.6295 - val_loss: 1.7537 - val_acc: 0.6814\n",
      "Epoch 29/300\n",
      "3/3 [==============================] - 1s 348ms/step - loss: 1.5992 - acc: 0.6436 - val_loss: 1.9101 - val_acc: 0.6814\n",
      "Epoch 30/300\n",
      "3/3 [==============================] - 1s 344ms/step - loss: 1.6057 - acc: 0.6405 - val_loss: 2.1612 - val_acc: 0.5841\n",
      "Epoch 31/300\n",
      "3/3 [==============================] - 1s 347ms/step - loss: 1.6079 - acc: 0.6342 - val_loss: 2.3735 - val_acc: 0.5929\n",
      "Epoch 32/300\n",
      "3/3 [==============================] - 1s 350ms/step - loss: 1.5445 - acc: 0.6546 - val_loss: 2.3280 - val_acc: 0.5841\n",
      "Epoch 33/300\n",
      "3/3 [==============================] - 1s 379ms/step - loss: 1.5703 - acc: 0.6311 - val_loss: 2.2339 - val_acc: 0.5575\n",
      "Epoch 34/300\n",
      "3/3 [==============================] - 1s 343ms/step - loss: 1.5317 - acc: 0.6546 - val_loss: 2.1652 - val_acc: 0.5664\n",
      "Epoch 35/300\n",
      "3/3 [==============================] - 1s 346ms/step - loss: 1.4731 - acc: 0.6609 - val_loss: 2.1308 - val_acc: 0.6106\n",
      "Epoch 36/300\n",
      "3/3 [==============================] - 1s 352ms/step - loss: 1.4705 - acc: 0.6641 - val_loss: 2.1019 - val_acc: 0.6106\n",
      "Epoch 37/300\n",
      "3/3 [==============================] - 1s 350ms/step - loss: 1.4713 - acc: 0.6625 - val_loss: 2.1553 - val_acc: 0.5752\n",
      "Epoch 38/300\n",
      "3/3 [==============================] - 1s 355ms/step - loss: 1.4123 - acc: 0.6766 - val_loss: 2.2843 - val_acc: 0.3894\n",
      "Epoch 39/300\n",
      "3/3 [==============================] - 1s 368ms/step - loss: 1.3998 - acc: 0.6656 - val_loss: 2.4280 - val_acc: 0.3363\n",
      "Epoch 40/300\n",
      "3/3 [==============================] - 1s 352ms/step - loss: 1.4230 - acc: 0.6625 - val_loss: 2.5083 - val_acc: 0.3982\n",
      "Epoch 41/300\n",
      "3/3 [==============================] - 1s 347ms/step - loss: 1.3814 - acc: 0.6688 - val_loss: 2.6719 - val_acc: 0.3628\n",
      "Epoch 42/300\n",
      "3/3 [==============================] - 1s 345ms/step - loss: 1.3843 - acc: 0.6766 - val_loss: 2.6787 - val_acc: 0.3363\n",
      "Epoch 43/300\n",
      "3/3 [==============================] - 1s 341ms/step - loss: 1.3066 - acc: 0.6892 - val_loss: 2.5150 - val_acc: 0.3363\n",
      "Epoch 44/300\n",
      "3/3 [==============================] - 1s 333ms/step - loss: 1.3284 - acc: 0.6719 - val_loss: 2.2830 - val_acc: 0.5044\n",
      "Epoch 45/300\n",
      "3/3 [==============================] - 1s 341ms/step - loss: 1.2981 - acc: 0.6860 - val_loss: 2.0959 - val_acc: 0.6549\n",
      "Epoch 46/300\n",
      "3/3 [==============================] - 1s 361ms/step - loss: 1.2605 - acc: 0.6939 - val_loss: 2.0553 - val_acc: 0.6018\n",
      "Epoch 47/300\n",
      "3/3 [==============================] - 1s 337ms/step - loss: 1.3862 - acc: 0.6876 - val_loss: 2.1370 - val_acc: 0.5221\n",
      "Epoch 48/300\n",
      "3/3 [==============================] - 1s 349ms/step - loss: 1.2599 - acc: 0.6907 - val_loss: 2.1092 - val_acc: 0.5310\n",
      "Epoch 49/300\n",
      "3/3 [==============================] - 1s 348ms/step - loss: 1.3467 - acc: 0.6892 - val_loss: 2.0058 - val_acc: 0.6283\n",
      "Epoch 50/300\n",
      "3/3 [==============================] - 1s 340ms/step - loss: 1.2472 - acc: 0.7002 - val_loss: 1.7677 - val_acc: 0.7080\n",
      "Epoch 51/300\n",
      "3/3 [==============================] - 1s 342ms/step - loss: 1.2412 - acc: 0.7033 - val_loss: 1.6715 - val_acc: 0.7080\n",
      "Epoch 52/300\n",
      "3/3 [==============================] - 1s 350ms/step - loss: 1.2833 - acc: 0.6970 - val_loss: 1.6492 - val_acc: 0.7168\n",
      "Epoch 53/300\n",
      "3/3 [==============================] - 1s 353ms/step - loss: 1.1944 - acc: 0.7096 - val_loss: 1.6367 - val_acc: 0.7345\n",
      "Epoch 54/300\n",
      "3/3 [==============================] - 1s 351ms/step - loss: 1.2848 - acc: 0.7033 - val_loss: 1.6630 - val_acc: 0.7080\n",
      "Epoch 55/300\n",
      "3/3 [==============================] - 1s 336ms/step - loss: 1.2806 - acc: 0.6876 - val_loss: 1.6803 - val_acc: 0.7168\n",
      "Epoch 56/300\n",
      "3/3 [==============================] - 1s 342ms/step - loss: 1.2039 - acc: 0.7284 - val_loss: 1.7059 - val_acc: 0.7168\n",
      "Epoch 57/300\n",
      "3/3 [==============================] - 1s 338ms/step - loss: 1.2392 - acc: 0.7096 - val_loss: 1.8835 - val_acc: 0.7168\n",
      "Epoch 58/300\n",
      "3/3 [==============================] - 1s 364ms/step - loss: 1.2356 - acc: 0.6892 - val_loss: 2.3532 - val_acc: 0.3982\n",
      "Epoch 59/300\n",
      "3/3 [==============================] - 1s 355ms/step - loss: 1.2802 - acc: 0.6876 - val_loss: 2.3160 - val_acc: 0.4336\n",
      "Epoch 60/300\n",
      "3/3 [==============================] - 1s 337ms/step - loss: 1.2044 - acc: 0.7111 - val_loss: 2.2545 - val_acc: 0.4425\n",
      "Epoch 61/300\n",
      "3/3 [==============================] - 1s 333ms/step - loss: 1.1152 - acc: 0.7190 - val_loss: 2.2706 - val_acc: 0.3805\n",
      "Epoch 62/300\n",
      "3/3 [==============================] - 1s 342ms/step - loss: 1.2354 - acc: 0.7190 - val_loss: 2.1179 - val_acc: 0.3805\n",
      "Epoch 63/300\n",
      "3/3 [==============================] - 1s 339ms/step - loss: 1.1936 - acc: 0.7127 - val_loss: 2.0250 - val_acc: 0.4159\n",
      "Epoch 64/300\n",
      "3/3 [==============================] - 1s 346ms/step - loss: 1.1683 - acc: 0.7190 - val_loss: 2.0757 - val_acc: 0.3982\n",
      "Epoch 65/300\n",
      "3/3 [==============================] - 1s 353ms/step - loss: 1.1438 - acc: 0.7268 - val_loss: 1.9853 - val_acc: 0.7168\n",
      "Epoch 66/300\n",
      "3/3 [==============================] - 1s 337ms/step - loss: 1.1557 - acc: 0.7331 - val_loss: 1.8975 - val_acc: 0.7257\n",
      "Epoch 67/300\n",
      "3/3 [==============================] - 1s 352ms/step - loss: 1.2633 - acc: 0.7049 - val_loss: 1.7575 - val_acc: 0.7345\n",
      "Epoch 68/300\n",
      "3/3 [==============================] - 1s 331ms/step - loss: 1.1383 - acc: 0.7410 - val_loss: 1.7228 - val_acc: 0.7345\n",
      "Epoch 69/300\n",
      "3/3 [==============================] - 1s 351ms/step - loss: 1.1678 - acc: 0.7237 - val_loss: 1.6891 - val_acc: 0.7257\n",
      "Epoch 70/300\n",
      "3/3 [==============================] - 1s 329ms/step - loss: 1.1293 - acc: 0.7174 - val_loss: 1.6822 - val_acc: 0.7257\n",
      "Epoch 71/300\n",
      "3/3 [==============================] - 1s 354ms/step - loss: 1.1254 - acc: 0.7080 - val_loss: 1.7494 - val_acc: 0.7522\n",
      "Epoch 72/300\n",
      "3/3 [==============================] - 1s 357ms/step - loss: 1.0784 - acc: 0.7221 - val_loss: 1.7828 - val_acc: 0.7434\n",
      "Epoch 73/300\n",
      "3/3 [==============================] - 1s 341ms/step - loss: 1.0990 - acc: 0.7206 - val_loss: 1.8378 - val_acc: 0.7434\n",
      "Epoch 74/300\n",
      "3/3 [==============================] - 1s 335ms/step - loss: 1.1300 - acc: 0.7190 - val_loss: 1.8678 - val_acc: 0.7434\n",
      "Epoch 75/300\n",
      "3/3 [==============================] - 1s 343ms/step - loss: 1.1949 - acc: 0.7096 - val_loss: 1.8662 - val_acc: 0.7434\n",
      "Epoch 76/300\n",
      "3/3 [==============================] - 1s 329ms/step - loss: 1.1985 - acc: 0.7002 - val_loss: 1.8266 - val_acc: 0.7434\n",
      "Epoch 77/300\n",
      "3/3 [==============================] - 1s 346ms/step - loss: 1.0632 - acc: 0.7316 - val_loss: 1.7592 - val_acc: 0.7434\n",
      "Epoch 78/300\n",
      "3/3 [==============================] - 1s 353ms/step - loss: 1.1185 - acc: 0.7237 - val_loss: 1.7226 - val_acc: 0.7522\n",
      "Epoch 79/300\n",
      "3/3 [==============================] - 1s 341ms/step - loss: 1.0277 - acc: 0.7535 - val_loss: 1.7635 - val_acc: 0.7522\n",
      "Epoch 80/300\n",
      "3/3 [==============================] - 1s 342ms/step - loss: 1.0594 - acc: 0.7473 - val_loss: 1.8272 - val_acc: 0.7434\n",
      "Epoch 81/300\n",
      "3/3 [==============================] - 1s 333ms/step - loss: 1.0924 - acc: 0.7284 - val_loss: 1.8811 - val_acc: 0.7168\n",
      "Epoch 82/300\n",
      "3/3 [==============================] - 1s 343ms/step - loss: 1.0910 - acc: 0.7237 - val_loss: 1.8989 - val_acc: 0.7345\n",
      "Epoch 83/300\n",
      "3/3 [==============================] - 1s 360ms/step - loss: 1.0475 - acc: 0.7394 - val_loss: 1.8564 - val_acc: 0.7345\n",
      "Epoch 84/300\n",
      "3/3 [==============================] - 1s 352ms/step - loss: 1.0609 - acc: 0.7488 - val_loss: 1.8576 - val_acc: 0.7168\n",
      "Epoch 85/300\n",
      "3/3 [==============================] - 1s 357ms/step - loss: 1.0607 - acc: 0.7394 - val_loss: 1.8851 - val_acc: 0.7345\n",
      "Epoch 86/300\n",
      "3/3 [==============================] - 1s 341ms/step - loss: 1.0462 - acc: 0.7425 - val_loss: 1.8908 - val_acc: 0.7345\n",
      "Epoch 87/300\n",
      "3/3 [==============================] - 1s 334ms/step - loss: 1.1258 - acc: 0.7300 - val_loss: 1.8885 - val_acc: 0.7434\n",
      "Epoch 88/300\n",
      "3/3 [==============================] - 1s 340ms/step - loss: 1.0391 - acc: 0.7363 - val_loss: 1.9483 - val_acc: 0.7345\n",
      "Epoch 89/300\n",
      "3/3 [==============================] - 1s 338ms/step - loss: 1.0455 - acc: 0.7363 - val_loss: 1.9284 - val_acc: 0.7434\n",
      "Epoch 90/300\n",
      "3/3 [==============================] - 1s 349ms/step - loss: 1.0599 - acc: 0.7237 - val_loss: 1.9788 - val_acc: 0.7168\n",
      "Epoch 91/300\n",
      "3/3 [==============================] - 1s 352ms/step - loss: 1.0359 - acc: 0.7457 - val_loss: 2.0203 - val_acc: 0.7168\n",
      "Epoch 92/300\n",
      "3/3 [==============================] - 1s 340ms/step - loss: 1.0895 - acc: 0.7425 - val_loss: 2.0308 - val_acc: 0.7080\n",
      "Epoch 93/300\n",
      "3/3 [==============================] - 1s 348ms/step - loss: 1.0500 - acc: 0.7363 - val_loss: 1.8843 - val_acc: 0.7168\n",
      "Epoch 94/300\n",
      "3/3 [==============================] - 1s 329ms/step - loss: 1.0223 - acc: 0.7488 - val_loss: 1.7735 - val_acc: 0.7522\n",
      "Epoch 95/300\n",
      "3/3 [==============================] - 1s 337ms/step - loss: 1.0050 - acc: 0.7394 - val_loss: 1.7568 - val_acc: 0.7699\n",
      "Epoch 96/300\n",
      "3/3 [==============================] - 1s 338ms/step - loss: 1.0471 - acc: 0.7316 - val_loss: 1.8361 - val_acc: 0.7168\n",
      "Epoch 97/300\n",
      "3/3 [==============================] - 1s 344ms/step - loss: 1.0509 - acc: 0.7441 - val_loss: 1.9205 - val_acc: 0.6991\n",
      "Epoch 98/300\n",
      "3/3 [==============================] - 1s 363ms/step - loss: 0.9878 - acc: 0.7410 - val_loss: 1.9570 - val_acc: 0.7080\n",
      "Epoch 99/300\n",
      "3/3 [==============================] - 1s 336ms/step - loss: 1.0655 - acc: 0.7284 - val_loss: 1.9475 - val_acc: 0.7080\n",
      "Epoch 100/300\n",
      "3/3 [==============================] - 1s 346ms/step - loss: 1.0490 - acc: 0.7457 - val_loss: 1.8520 - val_acc: 0.7080\n",
      "Epoch 101/300\n",
      "3/3 [==============================] - 1s 350ms/step - loss: 1.0393 - acc: 0.7300 - val_loss: 1.7952 - val_acc: 0.7434\n",
      "Epoch 102/300\n",
      "3/3 [==============================] - 1s 353ms/step - loss: 0.9464 - acc: 0.7598 - val_loss: 1.8235 - val_acc: 0.7168\n",
      "Epoch 103/300\n",
      "3/3 [==============================] - 1s 340ms/step - loss: 1.0047 - acc: 0.7504 - val_loss: 1.9040 - val_acc: 0.7168\n",
      "Epoch 104/300\n",
      "3/3 [==============================] - 1s 351ms/step - loss: 0.9897 - acc: 0.7535 - val_loss: 2.0525 - val_acc: 0.7080\n",
      "Epoch 105/300\n",
      "3/3 [==============================] - 1s 338ms/step - loss: 0.9705 - acc: 0.7504 - val_loss: 2.1659 - val_acc: 0.7080\n",
      "Epoch 106/300\n",
      "3/3 [==============================] - 1s 345ms/step - loss: 1.0388 - acc: 0.7457 - val_loss: 2.1919 - val_acc: 0.6903\n",
      "Epoch 107/300\n",
      "3/3 [==============================] - 1s 329ms/step - loss: 1.0456 - acc: 0.7441 - val_loss: 2.0263 - val_acc: 0.7080\n",
      "Epoch 108/300\n",
      "3/3 [==============================] - 1s 335ms/step - loss: 0.9781 - acc: 0.7551 - val_loss: 1.9375 - val_acc: 0.7434\n",
      "Epoch 109/300\n",
      "3/3 [==============================] - 1s 342ms/step - loss: 0.9469 - acc: 0.7582 - val_loss: 1.9403 - val_acc: 0.7434\n",
      "Epoch 110/300\n",
      "3/3 [==============================] - 1s 353ms/step - loss: 0.9941 - acc: 0.7535 - val_loss: 1.9740 - val_acc: 0.7080\n",
      "Epoch 111/300\n",
      "3/3 [==============================] - 1s 354ms/step - loss: 0.9502 - acc: 0.7567 - val_loss: 1.9805 - val_acc: 0.6814\n",
      "Epoch 112/300\n",
      "3/3 [==============================] - 1s 338ms/step - loss: 1.0002 - acc: 0.7504 - val_loss: 1.9656 - val_acc: 0.7080\n",
      "Epoch 113/300\n",
      "3/3 [==============================] - 1s 349ms/step - loss: 0.9733 - acc: 0.7488 - val_loss: 1.9574 - val_acc: 0.7434\n",
      "Epoch 114/300\n",
      "3/3 [==============================] - 1s 342ms/step - loss: 1.0131 - acc: 0.7582 - val_loss: 1.9687 - val_acc: 0.7434\n",
      "Epoch 115/300\n",
      "3/3 [==============================] - 1s 332ms/step - loss: 0.9933 - acc: 0.7457 - val_loss: 2.0477 - val_acc: 0.7345\n",
      "Epoch 116/300\n",
      "3/3 [==============================] - 1s 360ms/step - loss: 1.0218 - acc: 0.7582 - val_loss: 2.2277 - val_acc: 0.7080\n",
      "Epoch 117/300\n",
      "3/3 [==============================] - 1s 350ms/step - loss: 0.9111 - acc: 0.7724 - val_loss: 2.3599 - val_acc: 0.6991\n",
      "Epoch 118/300\n",
      "3/3 [==============================] - 1s 352ms/step - loss: 0.9913 - acc: 0.7582 - val_loss: 2.3281 - val_acc: 0.6991\n",
      "Epoch 119/300\n",
      "3/3 [==============================] - 1s 345ms/step - loss: 1.0061 - acc: 0.7473 - val_loss: 2.2568 - val_acc: 0.7080\n",
      "Epoch 120/300\n",
      "3/3 [==============================] - 1s 340ms/step - loss: 0.9920 - acc: 0.7331 - val_loss: 2.2379 - val_acc: 0.7080\n",
      "Epoch 121/300\n",
      "3/3 [==============================] - 1s 340ms/step - loss: 0.9293 - acc: 0.7630 - val_loss: 2.2680 - val_acc: 0.7080\n",
      "Epoch 122/300\n",
      "3/3 [==============================] - 1s 348ms/step - loss: 0.9911 - acc: 0.7457 - val_loss: 2.2793 - val_acc: 0.7080\n",
      "Epoch 123/300\n",
      "3/3 [==============================] - 1s 352ms/step - loss: 0.9125 - acc: 0.7598 - val_loss: 2.3430 - val_acc: 0.7080\n",
      "Epoch 124/300\n",
      "3/3 [==============================] - 1s 360ms/step - loss: 0.9018 - acc: 0.7849 - val_loss: 2.3792 - val_acc: 0.7080\n",
      "Epoch 125/300\n",
      "3/3 [==============================] - 1s 331ms/step - loss: 0.9599 - acc: 0.7630 - val_loss: 2.3230 - val_acc: 0.6814\n",
      "Epoch 126/300\n",
      "3/3 [==============================] - 1s 333ms/step - loss: 0.9163 - acc: 0.7598 - val_loss: 2.3714 - val_acc: 0.6814\n",
      "Epoch 127/300\n",
      "3/3 [==============================] - 1s 343ms/step - loss: 0.9410 - acc: 0.7551 - val_loss: 2.4644 - val_acc: 0.6814\n",
      "Epoch 128/300\n",
      "3/3 [==============================] - 1s 339ms/step - loss: 0.9035 - acc: 0.7645 - val_loss: 2.4450 - val_acc: 0.6814\n",
      "Epoch 129/300\n",
      "3/3 [==============================] - 1s 347ms/step - loss: 0.9079 - acc: 0.7582 - val_loss: 2.3217 - val_acc: 0.7168\n",
      "Epoch 130/300\n",
      "3/3 [==============================] - 1s 345ms/step - loss: 0.9151 - acc: 0.7598 - val_loss: 2.2052 - val_acc: 0.7168\n",
      "Epoch 131/300\n",
      "3/3 [==============================] - 1s 342ms/step - loss: 0.9551 - acc: 0.7441 - val_loss: 2.1856 - val_acc: 0.6903\n",
      "Epoch 132/300\n",
      "3/3 [==============================] - 1s 349ms/step - loss: 0.9345 - acc: 0.7598 - val_loss: 2.2349 - val_acc: 0.6903\n",
      "Epoch 133/300\n",
      "3/3 [==============================] - 1s 335ms/step - loss: 0.9116 - acc: 0.7551 - val_loss: 2.2339 - val_acc: 0.6903\n",
      "Epoch 134/300\n",
      "3/3 [==============================] - 1s 339ms/step - loss: 0.9371 - acc: 0.7567 - val_loss: 2.1135 - val_acc: 0.6903\n",
      "Epoch 135/300\n",
      "3/3 [==============================] - 1s 344ms/step - loss: 0.8918 - acc: 0.7849 - val_loss: 2.0515 - val_acc: 0.7168\n",
      "Epoch 136/300\n",
      "3/3 [==============================] - 1s 345ms/step - loss: 0.8815 - acc: 0.7677 - val_loss: 2.0241 - val_acc: 0.7168\n",
      "Epoch 137/300\n",
      "3/3 [==============================] - 1s 347ms/step - loss: 0.8838 - acc: 0.7881 - val_loss: 2.0424 - val_acc: 0.7257\n",
      "Epoch 138/300\n",
      "3/3 [==============================] - 1s 341ms/step - loss: 0.9496 - acc: 0.7771 - val_loss: 2.0793 - val_acc: 0.6991\n",
      "Epoch 139/300\n",
      "3/3 [==============================] - 1s 332ms/step - loss: 0.9335 - acc: 0.7661 - val_loss: 2.1309 - val_acc: 0.7168\n",
      "Epoch 140/300\n",
      "3/3 [==============================] - 1s 340ms/step - loss: 0.8927 - acc: 0.7739 - val_loss: 2.1006 - val_acc: 0.7434\n",
      "Epoch 141/300\n",
      "3/3 [==============================] - 1s 338ms/step - loss: 0.9002 - acc: 0.7692 - val_loss: 2.0872 - val_acc: 0.7168\n",
      "Epoch 142/300\n",
      "3/3 [==============================] - 1s 365ms/step - loss: 0.8989 - acc: 0.7708 - val_loss: 2.1466 - val_acc: 0.7080\n",
      "Epoch 143/300\n",
      "3/3 [==============================] - 1s 366ms/step - loss: 0.8881 - acc: 0.7708 - val_loss: 2.2555 - val_acc: 0.6991\n",
      "Epoch 144/300\n",
      "3/3 [==============================] - 1s 341ms/step - loss: 0.8994 - acc: 0.7677 - val_loss: 2.2999 - val_acc: 0.6991\n",
      "Epoch 145/300\n",
      "3/3 [==============================] - 1s 346ms/step - loss: 0.8957 - acc: 0.7661 - val_loss: 2.2936 - val_acc: 0.6726\n"
     ]
    }
   ],
   "source": [
    "def run_experiment(model, x_train, y_train):\n",
    "    # Compile the model.\n",
    "    model.compile(\n",
    "        optimizer=tf.keras.optimizers.Adam(learning_rate),\n",
    "        loss=tf.keras.losses.SparseCategoricalCrossentropy(from_logits=True),\n",
    "        metrics=[tf.keras.metrics.SparseCategoricalAccuracy(name=\"acc\")],\n",
    "    )\n",
    "    # Create an early stopping callback.\n",
    "    early_stopping = tf.keras.callbacks.EarlyStopping(\n",
    "        monitor=\"val_acc\", patience=50, restore_best_weights=True\n",
    "    )\n",
    "    # Fit the model.\n",
    "    history = model.fit(\n",
    "        x=x_train,\n",
    "        y=y_train,\n",
    "        epochs=num_epochs,\n",
    "        batch_size=batch_size,\n",
    "        validation_split=0.15,\n",
    "        callbacks=[early_stopping],\n",
    "    )\n",
    "\n",
    "    return history\n",
    "\n",
    "\n",
    "history = run_experiment(gnn_model, X_train, y_train)"
   ]
  },
  {
   "cell_type": "code",
   "execution_count": 24,
   "id": "b1cb90c0-182b-4fba-a51a-4b76e313e272",
   "metadata": {
    "execution": {
     "iopub.execute_input": "2021-07-23T20:19:50.047004Z",
     "iopub.status.busy": "2021-07-23T20:19:50.046613Z",
     "iopub.status.idle": "2021-07-23T20:19:50.232861Z",
     "shell.execute_reply": "2021-07-23T20:19:50.232273Z",
     "shell.execute_reply.started": "2021-07-23T20:19:50.046988Z"
    },
    "tags": []
   },
   "outputs": [
    {
     "data": {
      "image/png": "[encoded data removed]",
      "text/plain": [
       "<Figure size 1080x360 with 2 Axes>"
      ]
     },
     "metadata": {
      "needs_background": "light"
     },
     "output_type": "display_data"
    }
   ],
   "source": [
    "display_learning_curves(history)"
   ]
  },
  {
   "cell_type": "code",
   "execution_count": 26,
   "id": "a4220f91-41fa-4c0a-a459-d17af019679d",
   "metadata": {
    "execution": {
     "iopub.execute_input": "2021-07-23T20:22:15.113847Z",
     "iopub.status.busy": "2021-07-23T20:22:15.113449Z",
     "iopub.status.idle": "2021-07-23T20:22:15.592097Z",
     "shell.execute_reply": "2021-07-23T20:22:15.591497Z",
     "shell.execute_reply.started": "2021-07-23T20:22:15.113827Z"
    }
   },
   "outputs": [
    {
     "name": "stdout",
     "output_type": "stream",
     "text": [
      "Test accuracy: 82.8%\n"
     ]
    }
   ],
   "source": [
    "_, test_accuracy = gnn_model.evaluate(x=X_test, y=y_test, verbose=0)\n",
    "print(f\"Test accuracy: {round(test_accuracy * 100, 2)}%\")"
   ]
  },
  {
   "cell_type": "code",
   "execution_count": null,
   "id": "58eff8ae-b964-4dd3-85dc-a7197ab00fd9",
   "metadata": {},
   "outputs": [],
   "source": []
  }
 ],
 "metadata": {
  "kernelspec": {
   "display_name": "Python 3",
   "language": "python",
   "name": "python3"
  },
  "language_info": {
   "codemirror_mode": {
    "name": "ipython",
    "version": 3
   },
   "file_extension": ".py",
   "mimetype": "text/x-python",
   "name": "python",
   "nbconvert_exporter": "python",
   "pygments_lexer": "ipython3",
   "version": "3.8.3"
  }
 },
 "nbformat": 4,
 "nbformat_minor": 5
}
