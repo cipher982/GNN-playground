{
 "cells": [
  {
   "cell_type": "markdown",
   "id": "70473da1-a976-4932-af67-2b5e811f39b3",
   "metadata": {},
   "source": [
    "# GNN V1"
   ]
  },
  {
   "cell_type": "markdown",
   "id": "fa5686f9-60be-4906-946b-11dc4007b198",
   "metadata": {},
   "source": [
    "An attempt to use keras to build out a graph neural network and predict the user (label) using the dataset columns (features)."
   ]
  },
  {
   "cell_type": "markdown",
   "id": "7f9a4073-f540-4673-9fe8-146fec64a01d",
   "metadata": {},
   "source": [
    "## Import and Initialize"
   ]
  },
  {
   "cell_type": "code",
   "execution_count": 1,
   "id": "d8a7291b-55c6-4938-b662-7a6b5364efbd",
   "metadata": {
    "execution": {
     "iopub.execute_input": "2021-07-21T17:49:56.595040Z",
     "iopub.status.busy": "2021-07-21T17:49:56.594342Z",
     "iopub.status.idle": "2021-07-21T17:49:59.568153Z",
     "shell.execute_reply": "2021-07-21T17:49:59.567544Z",
     "shell.execute_reply.started": "2021-07-21T17:49:56.594981Z"
    },
    "tags": []
   },
   "outputs": [
    {
     "name": "stderr",
     "output_type": "stream",
     "text": [
      "2021-07-21 13:49:57.693277: W tensorflow/stream_executor/platform/default/dso_loader.cc:64] Could not load dynamic library 'libcudart.so.11.0'; dlerror: libcudart.so.11.0: cannot open shared object file: No such file or directory\n",
      "2021-07-21 13:49:57.693315: I tensorflow/stream_executor/cuda/cudart_stub.cc:29] Ignore above cudart dlerror if you do not have a GPU set up on your machine.\n"
     ]
    }
   ],
   "source": [
    "import networkx as nx\n",
    "import numpy as np\n",
    "import pandas as pd\n",
    "import matplotlib.pyplot as plt\n",
    "from sklearn.preprocessing import OneHotEncoder, LabelEncoder\n",
    "import tensorflow as tf"
   ]
  },
  {
   "cell_type": "markdown",
   "id": "a6c661f9-8924-4f02-b68b-227cb456b27c",
   "metadata": {},
   "source": [
    "## Load Data"
   ]
  },
  {
   "cell_type": "code",
   "execution_count": 22,
   "id": "746ff863-9108-4743-ac83-e7c5e1ec5a9e",
   "metadata": {
    "execution": {
     "iopub.execute_input": "2021-07-21T20:36:32.218827Z",
     "iopub.status.busy": "2021-07-21T20:36:32.218425Z",
     "iopub.status.idle": "2021-07-21T20:36:32.821946Z",
     "shell.execute_reply": "2021-07-21T20:36:32.821371Z",
     "shell.execute_reply.started": "2021-07-21T20:36:32.218807Z"
    },
    "tags": []
   },
   "outputs": [
    {
     "name": "stdout",
     "output_type": "stream",
     "text": [
      "Zync data shape: (99999, 16)\n",
      "Sizmek data shape: (10000, 16)\n"
     ]
    }
   ],
   "source": [
    "zync = pd.read_csv(\"data/zync_session_tracking_orc_20210625_all.csv\")\n",
    "print(f\"Zync data shape: {zync.shape}\")\n",
    "\n",
    "sizmek = pd.read_csv(\"data/sizmek_bidstream_raw_20210625_10k.csv\")\n",
    "print(f\"Sizmek data shape: {sizmek.shape}\")\n",
    "\n",
    "# Fix column headers\n",
    "zync.columns = [i.split(\".\")[1] for i in zync.columns]\n",
    "sizmek.columns = [i.split(\".\")[1] for i in sizmek.columns]"
   ]
  },
  {
   "cell_type": "markdown",
   "id": "0673574d-9821-4d8b-ba14-cf8c6de2391d",
   "metadata": {},
   "source": [
    "## Transform to Graph Format\n",
    "**Goal:** Achieve this format here: https://keras.io/examples/graph/gnn_citations/\n",
    "- Below are some examples of the current data structures:"
   ]
  },
  {
   "cell_type": "code",
   "execution_count": 3,
   "id": "07f4847c-3676-45dd-a759-3ce3702fbae7",
   "metadata": {
    "execution": {
     "iopub.execute_input": "2021-07-21T17:49:59.617451Z",
     "iopub.status.busy": "2021-07-21T17:49:59.616926Z",
     "iopub.status.idle": "2021-07-21T17:49:59.631973Z",
     "shell.execute_reply": "2021-07-21T17:49:59.631369Z",
     "shell.execute_reply.started": "2021-07-21T17:49:59.617422Z"
    },
    "tags": []
   },
   "outputs": [
    {
     "data": {
      "text/html": [
       "<div>\n",
       "<style scoped>\n",
       "    .dataframe tbody tr th:only-of-type {\n",
       "        vertical-align: middle;\n",
       "    }\n",
       "\n",
       "    .dataframe tbody tr th {\n",
       "        vertical-align: top;\n",
       "    }\n",
       "\n",
       "    .dataframe thead th {\n",
       "        text-align: right;\n",
       "    }\n",
       "</style>\n",
       "<table border=\"1\" class=\"dataframe\">\n",
       "  <thead>\n",
       "    <tr style=\"text-align: right;\">\n",
       "      <th></th>\n",
       "      <th>user_id</th>\n",
       "      <th>household_cluster_id</th>\n",
       "      <th>zeta_user_id</th>\n",
       "      <th>account_id</th>\n",
       "      <th>url</th>\n",
       "      <th>referrer_url</th>\n",
       "      <th>city_code</th>\n",
       "      <th>state_code</th>\n",
       "      <th>zip_code</th>\n",
       "      <th>dma_code</th>\n",
       "      <th>country_code</th>\n",
       "      <th>user_agent</th>\n",
       "      <th>mobile_id</th>\n",
       "      <th>ip</th>\n",
       "      <th>server_timestamp</th>\n",
       "      <th>dt</th>\n",
       "    </tr>\n",
       "  </thead>\n",
       "  <tbody>\n",
       "    <tr>\n",
       "      <th>0</th>\n",
       "      <td>163543465731194</td>\n",
       "      <td>NaN</td>\n",
       "      <td>NaN</td>\n",
       "      <td>19967</td>\n",
       "      <td>http://mob.app.de.wetteronline.wetterapp</td>\n",
       "      <td>NaN</td>\n",
       "      <td>3103824.0</td>\n",
       "      <td>NaN</td>\n",
       "      <td>NaN</td>\n",
       "      <td>NaN</td>\n",
       "      <td>PL</td>\n",
       "      <td>Mozilla/5.0 (Linux; Android 11; SM-A715F Build...</td>\n",
       "      <td>b7f4d610-7879-4394-aa2b-bfb9f2b1c25b</td>\n",
       "      <td>31.0.26.0</td>\n",
       "      <td>1624622086664</td>\n",
       "      <td>20210625</td>\n",
       "    </tr>\n",
       "  </tbody>\n",
       "</table>\n",
       "</div>"
      ],
      "text/plain": [
       "           user_id  household_cluster_id zeta_user_id  account_id  \\\n",
       "0  163543465731194                   NaN          NaN       19967   \n",
       "\n",
       "                                        url referrer_url  city_code  \\\n",
       "0  http://mob.app.de.wetteronline.wetterapp          NaN  3103824.0   \n",
       "\n",
       "  state_code zip_code  dma_code country_code  \\\n",
       "0        NaN      NaN       NaN           PL   \n",
       "\n",
       "                                          user_agent  \\\n",
       "0  Mozilla/5.0 (Linux; Android 11; SM-A715F Build...   \n",
       "\n",
       "                              mobile_id         ip  server_timestamp        dt  \n",
       "0  b7f4d610-7879-4394-aa2b-bfb9f2b1c25b  31.0.26.0     1624622086664  20210625  "
      ]
     },
     "execution_count": 3,
     "metadata": {},
     "output_type": "execute_result"
    }
   ],
   "source": [
    "sizmek.head(1)"
   ]
  },
  {
   "cell_type": "code",
   "execution_count": 23,
   "id": "c820a7e2-724f-4248-95dd-35d869451dcc",
   "metadata": {
    "execution": {
     "iopub.execute_input": "2021-07-21T21:20:26.196272Z",
     "iopub.status.busy": "2021-07-21T21:20:26.195862Z",
     "iopub.status.idle": "2021-07-21T21:20:26.208220Z",
     "shell.execute_reply": "2021-07-21T21:20:26.207593Z",
     "shell.execute_reply.started": "2021-07-21T21:20:26.196253Z"
    },
    "tags": []
   },
   "outputs": [
    {
     "data": {
      "text/html": [
       "<div>\n",
       "<style scoped>\n",
       "    .dataframe tbody tr th:only-of-type {\n",
       "        vertical-align: middle;\n",
       "    }\n",
       "\n",
       "    .dataframe tbody tr th {\n",
       "        vertical-align: top;\n",
       "    }\n",
       "\n",
       "    .dataframe thead th {\n",
       "        text-align: right;\n",
       "    }\n",
       "</style>\n",
       "<table border=\"1\" class=\"dataframe\">\n",
       "  <thead>\n",
       "    <tr style=\"text-align: right;\">\n",
       "      <th></th>\n",
       "      <th>session_id</th>\n",
       "      <th>client</th>\n",
       "      <th>client_id</th>\n",
       "      <th>remote_addr</th>\n",
       "      <th>referrer</th>\n",
       "      <th>user_agent_platform</th>\n",
       "      <th>user_agent_language</th>\n",
       "      <th>user_agent_browser</th>\n",
       "      <th>user_agent_string</th>\n",
       "      <th>user_agent_version</th>\n",
       "      <th>timestamp</th>\n",
       "      <th>geo_data</th>\n",
       "      <th>partner_data</th>\n",
       "      <th>session</th>\n",
       "      <th>consent_data</th>\n",
       "      <th>dt</th>\n",
       "    </tr>\n",
       "  </thead>\n",
       "  <tbody>\n",
       "    <tr>\n",
       "      <th>0</th>\n",
       "      <td>042daa1a-aa73-47f0-89f4-5ead6821767e:161417230...</td>\n",
       "      <td>disqus</td>\n",
       "      <td>c3rj9u181f91uc2</td>\n",
       "      <td>128.201.40.29</td>\n",
       "      <td>https://www.biorxiv.org/content/10.1101/560755...</td>\n",
       "      <td>windows</td>\n",
       "      <td>NaN</td>\n",
       "      <td>chrome</td>\n",
       "      <td>Mozilla/5.0 (Windows NT 10.0; Win64; x64) Appl...</td>\n",
       "      <td>91.0.4472.114</td>\n",
       "      <td>1.624644e+09</td>\n",
       "      <td>{\"country\":\"BR\",\"subdivision\":\"RJ\",\"coordinate...</td>\n",
       "      <td>NaN</td>\n",
       "      <td>{\"clients\":{\"appnexus\":null,\"disqus\":\"c3rj9u18...</td>\n",
       "      <td>{\"gdpr\":null,\"gdpr_consent\":null}</td>\n",
       "      <td>2021-06-25-18</td>\n",
       "    </tr>\n",
       "    <tr>\n",
       "      <th>1</th>\n",
       "      <td>61abba88-212a-408c-b274-f60d0cc738c1:161770412...</td>\n",
       "      <td>sizmek</td>\n",
       "      <td>3710029932679905832</td>\n",
       "      <td>177.76.103.102</td>\n",
       "      <td>https://123963fbfc0b24fafd1fe0c9e0b835ab.safef...</td>\n",
       "      <td>windows</td>\n",
       "      <td>NaN</td>\n",
       "      <td>chrome</td>\n",
       "      <td>Mozilla/5.0 (Windows NT 10.0; Win64; x64) Appl...</td>\n",
       "      <td>91.0.4472.114</td>\n",
       "      <td>1.624644e+09</td>\n",
       "      <td>{\"country\":\"BR\",\"subdivision\":\"SP\",\"coordinate...</td>\n",
       "      <td>NaN</td>\n",
       "      <td>{\"clients\":{\"appnexus\":null,\"disqus\":\"c743jlde...</td>\n",
       "      <td>{\"gdpr\":null,\"gdpr_consent\":null}</td>\n",
       "      <td>2021-06-25-18</td>\n",
       "    </tr>\n",
       "    <tr>\n",
       "      <th>2</th>\n",
       "      <td>bbceeddf-34a0-4d1b-916d-346ad02f0237:162464399...</td>\n",
       "      <td>sizmek</td>\n",
       "      <td>875739027850277969</td>\n",
       "      <td>87.122.112.108</td>\n",
       "      <td>https://www.intimissimi.com</td>\n",
       "      <td>iphone</td>\n",
       "      <td>NaN</td>\n",
       "      <td>webkit</td>\n",
       "      <td>Mozilla/5.0 (iPhone; CPU iPhone OS 14_6 like M...</td>\n",
       "      <td>8611</td>\n",
       "      <td>1.624644e+09</td>\n",
       "      <td>{\"country\":\"DE\",\"subdivision\":\"HE\",\"coordinate...</td>\n",
       "      <td>NaN</td>\n",
       "      <td>{\"clients\":null}</td>\n",
       "      <td>{\"gdpr\":null,\"gdpr_consent\":null}</td>\n",
       "      <td>2021-06-25-18</td>\n",
       "    </tr>\n",
       "  </tbody>\n",
       "</table>\n",
       "</div>"
      ],
      "text/plain": [
       "                                          session_id  client  \\\n",
       "0  042daa1a-aa73-47f0-89f4-5ead6821767e:161417230...  disqus   \n",
       "1  61abba88-212a-408c-b274-f60d0cc738c1:161770412...  sizmek   \n",
       "2  bbceeddf-34a0-4d1b-916d-346ad02f0237:162464399...  sizmek   \n",
       "\n",
       "             client_id     remote_addr  \\\n",
       "0      c3rj9u181f91uc2   128.201.40.29   \n",
       "1  3710029932679905832  177.76.103.102   \n",
       "2   875739027850277969  87.122.112.108   \n",
       "\n",
       "                                            referrer user_agent_platform  \\\n",
       "0  https://www.biorxiv.org/content/10.1101/560755...             windows   \n",
       "1  https://123963fbfc0b24fafd1fe0c9e0b835ab.safef...             windows   \n",
       "2                        https://www.intimissimi.com              iphone   \n",
       "\n",
       "  user_agent_language user_agent_browser  \\\n",
       "0                 NaN             chrome   \n",
       "1                 NaN             chrome   \n",
       "2                 NaN             webkit   \n",
       "\n",
       "                                   user_agent_string user_agent_version  \\\n",
       "0  Mozilla/5.0 (Windows NT 10.0; Win64; x64) Appl...      91.0.4472.114   \n",
       "1  Mozilla/5.0 (Windows NT 10.0; Win64; x64) Appl...      91.0.4472.114   \n",
       "2  Mozilla/5.0 (iPhone; CPU iPhone OS 14_6 like M...               8611   \n",
       "\n",
       "      timestamp                                           geo_data  \\\n",
       "0  1.624644e+09  {\"country\":\"BR\",\"subdivision\":\"RJ\",\"coordinate...   \n",
       "1  1.624644e+09  {\"country\":\"BR\",\"subdivision\":\"SP\",\"coordinate...   \n",
       "2  1.624644e+09  {\"country\":\"DE\",\"subdivision\":\"HE\",\"coordinate...   \n",
       "\n",
       "  partner_data                                            session  \\\n",
       "0          NaN  {\"clients\":{\"appnexus\":null,\"disqus\":\"c3rj9u18...   \n",
       "1          NaN  {\"clients\":{\"appnexus\":null,\"disqus\":\"c743jlde...   \n",
       "2          NaN                                   {\"clients\":null}   \n",
       "\n",
       "                        consent_data             dt  \n",
       "0  {\"gdpr\":null,\"gdpr_consent\":null}  2021-06-25-18  \n",
       "1  {\"gdpr\":null,\"gdpr_consent\":null}  2021-06-25-18  \n",
       "2  {\"gdpr\":null,\"gdpr_consent\":null}  2021-06-25-18  "
      ]
     },
     "execution_count": 23,
     "metadata": {},
     "output_type": "execute_result"
    }
   ],
   "source": [
    "zync.head(3)"
   ]
  },
  {
   "cell_type": "markdown",
   "id": "e7c745a3-2999-47f9-a922-b368513c7552",
   "metadata": {},
   "source": [
    "Ideally we want to get Source/Target interaction tuples. But what are the interactions in this dataset? There are no explicit sample-to-sample interactions here, it is all implicit via sample features such as URL, city, timestamp.\n",
    "\n",
    "One thought: If two samples ARE the same user the features should match up (IP, user_agent, geo), with the exception of timestamps."
   ]
  },
  {
   "cell_type": "markdown",
   "id": "12924f9b-9896-468b-b1ec-7bad384263a6",
   "metadata": {},
   "source": [
    "## Attempt 1: Do Some Loops\n",
    "Let's create a 'connection' by looping through all rows for each row if there are any matching attribtutes in one of the select features (IP, user-agent, email, etc)"
   ]
  },
  {
   "cell_type": "code",
   "execution_count": 24,
   "id": "50b22134-8c2b-4916-be3c-28c8f4a1903f",
   "metadata": {
    "execution": {
     "iopub.execute_input": "2021-07-21T21:20:52.360740Z",
     "iopub.status.busy": "2021-07-21T21:20:52.360372Z",
     "iopub.status.idle": "2021-07-21T21:20:52.681242Z",
     "shell.execute_reply": "2021-07-21T21:20:52.680612Z",
     "shell.execute_reply.started": "2021-07-21T21:20:52.360722Z"
    },
    "tags": []
   },
   "outputs": [
    {
     "name": "stdout",
     "output_type": "stream",
     "text": [
      "163543465731194\n",
      "Found 9 matches\n",
      "CPU times: user 320 ms, sys: 0 ns, total: 320 ms\n",
      "Wall time: 317 ms\n"
     ]
    }
   ],
   "source": [
    "%%time\n",
    "\n",
    "matching_cols = [\"ip\", \"user_agent\"]\n",
    "\n",
    "def search_table(table, column, value):\n",
    "    match_indices = []\n",
    "    for ix, row in table.iterrows():\n",
    "        if value == row[column]:\n",
    "            match_indices.append(ix)\n",
    "    print(f\"Found {len(match_indices)} matches\")\n",
    "\n",
    "\n",
    "for ix, user_id in enumerate(sizmek[\"user_id\"]):\n",
    "    print(user_id)\n",
    "    search_table(sizmek, \"user_id\", user_id)\n",
    "    break"
   ]
  },
  {
   "cell_type": "markdown",
   "id": "8e8d95d3-3b04-4f2e-91e7-b355d67a829a",
   "metadata": {
    "execution": {
     "iopub.execute_input": "2021-07-16T21:05:29.333342Z",
     "iopub.status.busy": "2021-07-16T21:05:29.332978Z",
     "iopub.status.idle": "2021-07-16T21:05:29.337883Z",
     "shell.execute_reply": "2021-07-16T21:05:29.337230Z",
     "shell.execute_reply.started": "2021-07-16T21:05:29.333327Z"
    },
    "tags": []
   },
   "source": [
    "### Result: Not Good!\n",
    "It appears that a single search is on the order of `O(n^2)` complexity and for just 10k rows in this sample it takes ~300ms for a single iteration. This is completely infeasable for larger sizes. But that is something that can likely be fixed later on with pre-computed hashes. I'm thinking maybe a dictionary lookup where the dictionary key is the value we are searching for, and the dictionary value is the indices where this value is located. It can simply be updated as more rows are added."
   ]
  },
  {
   "cell_type": "markdown",
   "id": "4af77127-be72-470d-a775-73f8d09b8842",
   "metadata": {},
   "source": [
    "## Attempt 2: Dictionary Lookup\n",
    "There is no reason I should be iterating through the entire table for each value in the table, that's what hash lookups are for! So let's create a dictionary and use that to search for the value in each table."
   ]
  },
  {
   "cell_type": "code",
   "execution_count": 7,
   "id": "2b1f6e87-80bc-4120-97a9-f1fcc3f49483",
   "metadata": {
    "execution": {
     "iopub.execute_input": "2021-07-21T17:49:59.982404Z",
     "iopub.status.busy": "2021-07-21T17:49:59.982046Z",
     "iopub.status.idle": "2021-07-21T17:50:22.266149Z",
     "shell.execute_reply": "2021-07-21T17:50:22.265563Z",
     "shell.execute_reply.started": "2021-07-21T17:49:59.982386Z"
    },
    "tags": []
   },
   "outputs": [
    {
     "name": "stdout",
     "output_type": "stream",
     "text": [
      "CPU times: user 20.3 s, sys: 1.95 s, total: 22.3 s\n",
      "Wall time: 22.3 s\n"
     ]
    }
   ],
   "source": [
    "%%time\n",
    "\n",
    "def create_dict(table, col):\n",
    "    table_dict = {}\n",
    "    for ix, value in enumerate(table[col]):\n",
    "        #print(value)\n",
    "        if value in table_dict:\n",
    "            table_dict[value].append(ix)\n",
    "        else:\n",
    "            table_dict[value] = [ix]\n",
    "    return table_dict\n",
    "\n",
    "def search_table(table, column):\n",
    "    connections = []\n",
    "    lookup_dict = create_dict(table, column)\n",
    "    for ix, value in enumerate(table[column]):\n",
    "        if value in lookup_dict:\n",
    "            for item in lookup_dict[value]:\n",
    "                connections.append((ix, item, column, value))\n",
    "    connections = pd.DataFrame(\n",
    "        connections, \n",
    "        columns=['source', 'target', 'column', 'value']\n",
    "    )\n",
    "    return connections\n",
    "\n",
    "# Create three edge lists for some features\n",
    "ip_graph = search_table(sizmek, \"ip\")\n",
    "ua_graph = search_table(sizmek, \"user_agent\")\n",
    "zip_graph = search_table(sizmek, \"zip_code\")"
   ]
  },
  {
   "cell_type": "markdown",
   "id": "b5aad84c-3e0b-4ab2-8698-9afc17df6e7a",
   "metadata": {},
   "source": [
    "### Result: Very Good!\n",
    "I can now search the entire table for three different features in only 24 seconds, this will be much more managable to scale up in the future when using millions of rows."
   ]
  },
  {
   "cell_type": "code",
   "execution_count": 8,
   "id": "1355495e-9173-4bbf-a13b-395e062e3441",
   "metadata": {
    "execution": {
     "iopub.execute_input": "2021-07-21T17:50:22.267841Z",
     "iopub.status.busy": "2021-07-21T17:50:22.267601Z",
     "iopub.status.idle": "2021-07-21T17:50:22.817767Z",
     "shell.execute_reply": "2021-07-21T17:50:22.817100Z",
     "shell.execute_reply.started": "2021-07-21T17:50:22.267827Z"
    },
    "tags": []
   },
   "outputs": [
    {
     "data": {
      "text/html": [
       "<div>\n",
       "<style scoped>\n",
       "    .dataframe tbody tr th:only-of-type {\n",
       "        vertical-align: middle;\n",
       "    }\n",
       "\n",
       "    .dataframe tbody tr th {\n",
       "        vertical-align: top;\n",
       "    }\n",
       "\n",
       "    .dataframe thead th {\n",
       "        text-align: right;\n",
       "    }\n",
       "</style>\n",
       "<table border=\"1\" class=\"dataframe\">\n",
       "  <thead>\n",
       "    <tr style=\"text-align: right;\">\n",
       "      <th></th>\n",
       "      <th>source</th>\n",
       "      <th>target</th>\n",
       "      <th>column</th>\n",
       "      <th>value</th>\n",
       "    </tr>\n",
       "  </thead>\n",
       "  <tbody>\n",
       "    <tr>\n",
       "      <th>6331124</th>\n",
       "      <td>7344</td>\n",
       "      <td>9891</td>\n",
       "      <td>ip</td>\n",
       "      <td>71.218.146.124</td>\n",
       "    </tr>\n",
       "    <tr>\n",
       "      <th>15827092</th>\n",
       "      <td>9710</td>\n",
       "      <td>6369</td>\n",
       "      <td>ip</td>\n",
       "      <td>71.218.146.124</td>\n",
       "    </tr>\n",
       "    <tr>\n",
       "      <th>1206750</th>\n",
       "      <td>6068</td>\n",
       "      <td>8657</td>\n",
       "      <td>ip</td>\n",
       "      <td>71.218.146.124</td>\n",
       "    </tr>\n",
       "  </tbody>\n",
       "</table>\n",
       "</div>"
      ],
      "text/plain": [
       "          source  target column           value\n",
       "6331124     7344    9891     ip  71.218.146.124\n",
       "15827092    9710    6369     ip  71.218.146.124\n",
       "1206750     6068    8657     ip  71.218.146.124"
      ]
     },
     "execution_count": 8,
     "metadata": {},
     "output_type": "execute_result"
    }
   ],
   "source": [
    "ip_graph.sample(3)"
   ]
  },
  {
   "cell_type": "markdown",
   "id": "0a1b2fa7-0933-4b87-8514-e1a26d0a7599",
   "metadata": {},
   "source": [
    "### Example Plot of the Graph Network"
   ]
  },
  {
   "cell_type": "code",
   "execution_count": 9,
   "id": "d96c2835-7e86-4b4d-afc9-04ec51662057",
   "metadata": {
    "execution": {
     "iopub.execute_input": "2021-07-21T17:50:22.818936Z",
     "iopub.status.busy": "2021-07-21T17:50:22.818568Z",
     "iopub.status.idle": "2021-07-21T17:50:25.448945Z",
     "shell.execute_reply": "2021-07-21T17:50:25.448223Z",
     "shell.execute_reply.started": "2021-07-21T17:50:22.818919Z"
    },
    "tags": []
   },
   "outputs": [
    {
     "data": {
      "image/png": "[encoded data removed]",
      "text/plain": [
       "<Figure size 288x288 with 1 Axes>"
      ]
     },
     "metadata": {},
     "output_type": "display_data"
    }
   ],
   "source": [
    "plt.figure(figsize=(4, 4))\n",
    "g = nx.from_pandas_edgelist(zip_graph.sample(n=300))\n",
    "nx.draw_spring(g, node_size=10)"
   ]
  },
  {
   "cell_type": "markdown",
   "id": "498ae904-3124-4ed4-8788-1f5eee6cc9e3",
   "metadata": {},
   "source": [
    "## Create the Network"
   ]
  },
  {
   "cell_type": "code",
   "execution_count": 10,
   "id": "0198ad39-b428-4799-a2aa-d388df6ae728",
   "metadata": {
    "execution": {
     "iopub.execute_input": "2021-07-21T17:50:25.449741Z",
     "iopub.status.busy": "2021-07-21T17:50:25.449610Z",
     "iopub.status.idle": "2021-07-21T17:50:25.461880Z",
     "shell.execute_reply": "2021-07-21T17:50:25.461190Z",
     "shell.execute_reply.started": "2021-07-21T17:50:25.449727Z"
    }
   },
   "outputs": [
    {
     "data": {
      "text/html": [
       "<div>\n",
       "<style scoped>\n",
       "    .dataframe tbody tr th:only-of-type {\n",
       "        vertical-align: middle;\n",
       "    }\n",
       "\n",
       "    .dataframe tbody tr th {\n",
       "        vertical-align: top;\n",
       "    }\n",
       "\n",
       "    .dataframe thead th {\n",
       "        text-align: right;\n",
       "    }\n",
       "</style>\n",
       "<table border=\"1\" class=\"dataframe\">\n",
       "  <thead>\n",
       "    <tr style=\"text-align: right;\">\n",
       "      <th></th>\n",
       "      <th>user_id</th>\n",
       "      <th>household_cluster_id</th>\n",
       "      <th>zeta_user_id</th>\n",
       "      <th>account_id</th>\n",
       "      <th>url</th>\n",
       "      <th>referrer_url</th>\n",
       "      <th>city_code</th>\n",
       "      <th>state_code</th>\n",
       "      <th>zip_code</th>\n",
       "      <th>dma_code</th>\n",
       "      <th>country_code</th>\n",
       "      <th>user_agent</th>\n",
       "      <th>mobile_id</th>\n",
       "      <th>ip</th>\n",
       "      <th>server_timestamp</th>\n",
       "      <th>dt</th>\n",
       "    </tr>\n",
       "  </thead>\n",
       "  <tbody>\n",
       "    <tr>\n",
       "      <th>0</th>\n",
       "      <td>163543465731194</td>\n",
       "      <td>NaN</td>\n",
       "      <td>NaN</td>\n",
       "      <td>19967</td>\n",
       "      <td>http://mob.app.de.wetteronline.wetterapp</td>\n",
       "      <td>NaN</td>\n",
       "      <td>3103824.0</td>\n",
       "      <td>NaN</td>\n",
       "      <td>NaN</td>\n",
       "      <td>NaN</td>\n",
       "      <td>PL</td>\n",
       "      <td>Mozilla/5.0 (Linux; Android 11; SM-A715F Build...</td>\n",
       "      <td>b7f4d610-7879-4394-aa2b-bfb9f2b1c25b</td>\n",
       "      <td>31.0.26.0</td>\n",
       "      <td>1624622086664</td>\n",
       "      <td>20210625</td>\n",
       "    </tr>\n",
       "    <tr>\n",
       "      <th>1</th>\n",
       "      <td>163543465731194</td>\n",
       "      <td>NaN</td>\n",
       "      <td>NaN</td>\n",
       "      <td>19967</td>\n",
       "      <td>http://mob.app.de.wetteronline.wetterapp</td>\n",
       "      <td>NaN</td>\n",
       "      <td>3103824.0</td>\n",
       "      <td>NaN</td>\n",
       "      <td>NaN</td>\n",
       "      <td>NaN</td>\n",
       "      <td>PL</td>\n",
       "      <td>Mozilla/5.0 (Linux; Android 11; SM-A715F Build...</td>\n",
       "      <td>b7f4d610-7879-4394-aa2b-bfb9f2b1c25b</td>\n",
       "      <td>31.0.26.0</td>\n",
       "      <td>1624622151478</td>\n",
       "      <td>20210625</td>\n",
       "    </tr>\n",
       "  </tbody>\n",
       "</table>\n",
       "</div>"
      ],
      "text/plain": [
       "           user_id  household_cluster_id zeta_user_id  account_id  \\\n",
       "0  163543465731194                   NaN          NaN       19967   \n",
       "1  163543465731194                   NaN          NaN       19967   \n",
       "\n",
       "                                        url referrer_url  city_code  \\\n",
       "0  http://mob.app.de.wetteronline.wetterapp          NaN  3103824.0   \n",
       "1  http://mob.app.de.wetteronline.wetterapp          NaN  3103824.0   \n",
       "\n",
       "  state_code zip_code  dma_code country_code  \\\n",
       "0        NaN      NaN       NaN           PL   \n",
       "1        NaN      NaN       NaN           PL   \n",
       "\n",
       "                                          user_agent  \\\n",
       "0  Mozilla/5.0 (Linux; Android 11; SM-A715F Build...   \n",
       "1  Mozilla/5.0 (Linux; Android 11; SM-A715F Build...   \n",
       "\n",
       "                              mobile_id         ip  server_timestamp        dt  \n",
       "0  b7f4d610-7879-4394-aa2b-bfb9f2b1c25b  31.0.26.0     1624622086664  20210625  \n",
       "1  b7f4d610-7879-4394-aa2b-bfb9f2b1c25b  31.0.26.0     1624622151478  20210625  "
      ]
     },
     "execution_count": 10,
     "metadata": {},
     "output_type": "execute_result"
    }
   ],
   "source": [
    "sizmek.head(2)"
   ]
  },
  {
   "cell_type": "code",
   "execution_count": 11,
   "id": "341782c9-0508-4df4-ad9d-326ef23313e6",
   "metadata": {
    "execution": {
     "iopub.execute_input": "2021-07-21T17:50:25.462672Z",
     "iopub.status.busy": "2021-07-21T17:50:25.462539Z",
     "iopub.status.idle": "2021-07-21T17:50:25.469512Z",
     "shell.execute_reply": "2021-07-21T17:50:25.468883Z",
     "shell.execute_reply.started": "2021-07-21T17:50:25.462657Z"
    }
   },
   "outputs": [
    {
     "data": {
      "text/html": [
       "<div>\n",
       "<style scoped>\n",
       "    .dataframe tbody tr th:only-of-type {\n",
       "        vertical-align: middle;\n",
       "    }\n",
       "\n",
       "    .dataframe tbody tr th {\n",
       "        vertical-align: top;\n",
       "    }\n",
       "\n",
       "    .dataframe thead th {\n",
       "        text-align: right;\n",
       "    }\n",
       "</style>\n",
       "<table border=\"1\" class=\"dataframe\">\n",
       "  <thead>\n",
       "    <tr style=\"text-align: right;\">\n",
       "      <th></th>\n",
       "      <th>source</th>\n",
       "      <th>target</th>\n",
       "      <th>column</th>\n",
       "      <th>value</th>\n",
       "    </tr>\n",
       "  </thead>\n",
       "  <tbody>\n",
       "    <tr>\n",
       "      <th>0</th>\n",
       "      <td>0</td>\n",
       "      <td>0</td>\n",
       "      <td>ip</td>\n",
       "      <td>31.0.26.0</td>\n",
       "    </tr>\n",
       "    <tr>\n",
       "      <th>1</th>\n",
       "      <td>0</td>\n",
       "      <td>1</td>\n",
       "      <td>ip</td>\n",
       "      <td>31.0.26.0</td>\n",
       "    </tr>\n",
       "    <tr>\n",
       "      <th>2</th>\n",
       "      <td>0</td>\n",
       "      <td>2</td>\n",
       "      <td>ip</td>\n",
       "      <td>31.0.26.0</td>\n",
       "    </tr>\n",
       "  </tbody>\n",
       "</table>\n",
       "</div>"
      ],
      "text/plain": [
       "   source  target column      value\n",
       "0       0       0     ip  31.0.26.0\n",
       "1       0       1     ip  31.0.26.0\n",
       "2       0       2     ip  31.0.26.0"
      ]
     },
     "execution_count": 11,
     "metadata": {},
     "output_type": "execute_result"
    }
   ],
   "source": [
    "ip_graph.head(3)"
   ]
  },
  {
   "cell_type": "code",
   "execution_count": 41,
   "id": "5e725202-8a82-48d7-8b8e-b8442cfcf71b",
   "metadata": {
    "execution": {
     "iopub.execute_input": "2021-07-21T23:33:26.853748Z",
     "iopub.status.busy": "2021-07-21T23:33:26.853369Z",
     "iopub.status.idle": "2021-07-21T23:33:26.918254Z",
     "shell.execute_reply": "2021-07-21T23:33:26.917670Z",
     "shell.execute_reply.started": "2021-07-21T23:33:26.853732Z"
    },
    "tags": []
   },
   "outputs": [
    {
     "name": "stdout",
     "output_type": "stream",
     "text": [
      "Unique features: 920\n",
      "Unique labels: 312\n"
     ]
    }
   ],
   "source": [
    "\n",
    "feature_cols = [\"account_id\", \"url\", \"referrer_url\", \"city_code\", \n",
    "                \"state_code\", \"dma_code\", \"country_code\"]\n",
    "\n",
    "feature_enc = OneHotEncoder(handle_unknown=\"ignore\")\n",
    "features_df = pd.DataFrame(\n",
    "    feature_enc.fit_transform(sizmek[feature_cols]).toarray(), \n",
    "    columns=feature_enc.get_feature_names(feature_cols)\n",
    ")\n",
    "print(f\"Unique features: {features_df.shape[1]}\")\n",
    "\n",
    "label_enc = LabelEncoder()\n",
    "labels = label_enc.fit_transform(sizmek[\"zip_code\"])\n",
    "print(f\"Unique labels: {max(labels)}\")"
   ]
  },
  {
   "cell_type": "code",
   "execution_count": 42,
   "id": "ab13efbd-001f-4fb9-90ac-e5906001f719",
   "metadata": {
    "execution": {
     "iopub.execute_input": "2021-07-21T23:34:09.105419Z",
     "iopub.status.busy": "2021-07-21T23:34:09.105011Z",
     "iopub.status.idle": "2021-07-21T23:34:09.204116Z",
     "shell.execute_reply": "2021-07-21T23:34:09.203498Z",
     "shell.execute_reply.started": "2021-07-21T23:34:09.105400Z"
    },
    "tags": []
   },
   "outputs": [],
   "source": [
    "# Edges array (sparse adjacency matrix) of shape [2, num_edges]\n",
    "edges = ip_graph[[\"source\", \"target\"]].to_numpy().T\n",
    "# Default edge weights to 1 (we don't have any in dataset)\n",
    "edge_weights = tf.ones(shape=edges.shape[1])\n",
    "# Node fatures array of shape [num_nodes, num_features]\n",
    "node_features = tf.cast(features_df.to_numpy(), dtype=tf.dtypes.float32)\n",
    "# Create the graph info with the above features\n",
    "graph_info = (node_features, edges, edge_weights)"
   ]
  },
  {
   "cell_type": "code",
   "execution_count": 43,
   "id": "037d4e1a-e219-494e-b63d-bb9325ed54bf",
   "metadata": {
    "execution": {
     "iopub.execute_input": "2021-07-21T23:34:14.508085Z",
     "iopub.status.busy": "2021-07-21T23:34:14.507711Z",
     "iopub.status.idle": "2021-07-21T23:34:28.411275Z",
     "shell.execute_reply": "2021-07-21T23:34:28.410409Z",
     "shell.execute_reply.started": "2021-07-21T23:34:14.508070Z"
    },
    "tags": []
   },
   "outputs": [
    {
     "name": "stdout",
     "output_type": "stream",
     "text": [
      "GNN output shape: (3, 313)\n",
      "Model: \"gnn_model\"\n",
      "_________________________________________________________________\n",
      "Layer (type)                 Output Shape              Param #   \n",
      "=================================================================\n",
      "preprocess (Sequential)      (10000, 32)               34336     \n",
      "_________________________________________________________________\n",
      "graph_conv1 (GraphConvLayer) multiple                  5888      \n",
      "_________________________________________________________________\n",
      "graph_conv2 (GraphConvLayer) multiple                  5888      \n",
      "_________________________________________________________________\n",
      "postprocess (Sequential)     (10000, 32)               2368      \n",
      "_________________________________________________________________\n",
      "logits (Dense)               multiple                  10329     \n",
      "=================================================================\n",
      "Total params: 58,809\n",
      "Trainable params: 56,137\n",
      "Non-trainable params: 2,672\n",
      "_________________________________________________________________\n"
     ]
    }
   ],
   "source": [
    "from graph_network import GNNNodeClassifier, create_ffn\n",
    "\n",
    "num_classes = len(sizmek[\"zip_code\"].unique())\n",
    "\n",
    "hidden_units = [32, 32]\n",
    "learning_rate = 0.01\n",
    "dropout_rate = 0.5\n",
    "num_epochs = 300\n",
    "batch_size = 256\n",
    "\n",
    "gnn_model = GNNNodeClassifier(\n",
    "    graph_info=graph_info,\n",
    "    num_classes=num_classes,\n",
    "    hidden_units=hidden_units,\n",
    "    dropout_rate=dropout_rate,\n",
    "    name=\"gnn_model\",\n",
    ")\n",
    "\n",
    "print(\"GNN output shape:\", gnn_model([1, 10, 100]).shape)\n",
    "\n",
    "gnn_model.summary()"
   ]
  },
  {
   "cell_type": "code",
   "execution_count": 86,
   "id": "95f4c576-6cf9-4d41-837f-40557b190b04",
   "metadata": {
    "execution": {
     "iopub.execute_input": "2021-07-22T00:26:51.174413Z",
     "iopub.status.busy": "2021-07-22T00:26:51.174032Z",
     "iopub.status.idle": "2021-07-22T00:26:51.199491Z",
     "shell.execute_reply": "2021-07-22T00:26:51.198763Z",
     "shell.execute_reply.started": "2021-07-22T00:26:51.174397Z"
    },
    "tags": []
   },
   "outputs": [],
   "source": [
    "split_indices = train_test_split(range(len(features_df)))\n",
    "\n",
    "# Features split\n",
    "X_train = features_df.iloc[split_indices[0], :]\n",
    "X_test = features_df.iloc[split_indices[1], :]\n",
    "\n",
    "# Labels split\n",
    "y_train = labels[split_indices[0]]\n",
    "y_test = labels[split_indices[1]]\n",
    "\n",
    "X_train = np.array(split_indices[0])\n",
    "y_train = pd.Series(data=y_train,index=split_indices[0])"
   ]
  },
  {
   "cell_type": "code",
   "execution_count": null,
   "id": "a3f8ce33-0ad9-495a-a5e5-4429ccbc2cf4",
   "metadata": {
    "execution": {
     "iopub.execute_input": "2021-07-22T00:26:56.864081Z",
     "iopub.status.busy": "2021-07-22T00:26:56.863685Z"
    },
    "tags": []
   },
   "outputs": [
    {
     "name": "stderr",
     "output_type": "stream",
     "text": [
      "2021-07-21 20:26:56.909950: I tensorflow/compiler/mlir/mlir_graph_optimization_pass.cc:176] None of the MLIR Optimization Passes are enabled (registered 2)\n",
      "2021-07-21 20:26:56.912064: I tensorflow/core/platform/profile_utils/cpu_utils.cc:114] CPU Frequency: 3600010000 Hz\n"
     ]
    },
    {
     "name": "stdout",
     "output_type": "stream",
     "text": [
      "Epoch 1/300\n",
      "WARNING:tensorflow:From /home/drose/github/.jupyter_383/lib/python3.8/site-packages/tensorflow/python/ops/array_ops.py:5043: calling gather (from tensorflow.python.ops.array_ops) with validate_indices is deprecated and will be removed in a future version.\n",
      "Instructions for updating:\n",
      "The `validate_indices` argument has no effect. Indices are always validated on CPU and never validated on GPU.\n"
     ]
    }
   ],
   "source": [
    "def run_experiment(model, x_train, y_train):\n",
    "    # Compile the model.\n",
    "    model.compile(\n",
    "        optimizer=tf.keras.optimizers.Adam(learning_rate),\n",
    "        loss=tf.keras.losses.SparseCategoricalCrossentropy(from_logits=True),\n",
    "        metrics=[tf.keras.metrics.SparseCategoricalAccuracy(name=\"acc\")],\n",
    "    )\n",
    "    # Create an early stopping callback.\n",
    "    early_stopping = tf.keras.callbacks.EarlyStopping(\n",
    "        monitor=\"val_acc\", patience=50, restore_best_weights=True\n",
    "    )\n",
    "    # Fit the model.\n",
    "    history = model.fit(\n",
    "        x=x_train,\n",
    "        y=y_train,\n",
    "        epochs=num_epochs,\n",
    "        batch_size=batch_size,\n",
    "        validation_split=0.15,\n",
    "        callbacks=[early_stopping],\n",
    "    )\n",
    "\n",
    "    return history\n",
    "\n",
    "\n",
    "history = run_experiment(gnn_model, X_train, y_train)"
   ]
  },
  {
   "cell_type": "code",
   "execution_count": null,
   "id": "0c5c5017-3ae1-40a5-ad70-d1bcc77d928c",
   "metadata": {
    "execution": {
     "iopub.status.busy": "2021-07-21T17:50:26.150042Z",
     "iopub.status.idle": "2021-07-21T17:50:26.150256Z",
     "shell.execute_reply": "2021-07-21T17:50:26.150158Z",
     "shell.execute_reply.started": "2021-07-21T17:50:26.150147Z"
    }
   },
   "outputs": [],
   "source": [
    "enc_df"
   ]
  },
  {
   "cell_type": "code",
   "execution_count": null,
   "id": "8ab2937b-55bd-4b5d-863b-3aa2c8661fd0",
   "metadata": {
    "execution": {
     "iopub.status.busy": "2021-07-21T17:50:26.151010Z",
     "iopub.status.idle": "2021-07-21T17:50:26.151223Z",
     "shell.execute_reply": "2021-07-21T17:50:26.151117Z",
     "shell.execute_reply.started": "2021-07-21T17:50:26.151107Z"
    }
   },
   "outputs": [],
   "source": []
  },
  {
   "cell_type": "code",
   "execution_count": null,
   "id": "fb4cb89d-84ca-4519-be19-98e93a034424",
   "metadata": {
    "execution": {
     "iopub.status.busy": "2021-07-21T17:50:26.152033Z",
     "iopub.status.idle": "2021-07-21T17:50:26.152270Z",
     "shell.execute_reply": "2021-07-21T17:50:26.152144Z",
     "shell.execute_reply.started": "2021-07-21T17:50:26.152124Z"
    }
   },
   "outputs": [],
   "source": [
    "\n",
    "\n",
    "x_train = train_data[feature_names].to_numpy()\n",
    "x_test = test_data[feature_names].to_numpy()"
   ]
  },
  {
   "cell_type": "code",
   "execution_count": null,
   "id": "8bea1df7-ae22-415f-bd20-a127fc8ca6ee",
   "metadata": {
    "execution": {
     "iopub.status.busy": "2021-07-21T17:50:26.153589Z",
     "iopub.status.idle": "2021-07-21T17:50:26.153789Z",
     "shell.execute_reply": "2021-07-21T17:50:26.153700Z",
     "shell.execute_reply.started": "2021-07-21T17:50:26.153689Z"
    }
   },
   "outputs": [],
   "source": [
    "enc_df."
   ]
  },
  {
   "cell_type": "code",
   "execution_count": null,
   "id": "5415050d-da97-45f4-814e-c016836f4777",
   "metadata": {},
   "outputs": [],
   "source": []
  }
 ],
 "metadata": {
  "kernelspec": {
   "display_name": "Python 3",
   "language": "python",
   "name": "python3"
  },
  "language_info": {
   "codemirror_mode": {
    "name": "ipython",
    "version": 3
   },
   "file_extension": ".py",
   "mimetype": "text/x-python",
   "name": "python",
   "nbconvert_exporter": "python",
   "pygments_lexer": "ipython3",
   "version": "3.8.3"
  }
 },
 "nbformat": 4,
 "nbformat_minor": 5
}
