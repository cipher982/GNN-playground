{
 "cells": [
  {
   "cell_type": "markdown",
   "id": "70473da1-a976-4932-af67-2b5e811f39b3",
   "metadata": {},
   "source": [
    "# GNN V1"
   ]
  },
  {
   "cell_type": "markdown",
   "id": "fa5686f9-60be-4906-946b-11dc4007b198",
   "metadata": {},
   "source": [
    "An attempt to use keras to build out a graph neural network and predict the user (label) using the dataset columns (features)."
   ]
  },
  {
   "cell_type": "markdown",
   "id": "7f9a4073-f540-4673-9fe8-146fec64a01d",
   "metadata": {},
   "source": [
    "## Import and Initialize"
   ]
  },
  {
   "cell_type": "code",
   "execution_count": 1,
   "id": "d8a7291b-55c6-4938-b662-7a6b5364efbd",
   "metadata": {
    "execution": {
     "iopub.execute_input": "2021-07-17T00:35:53.503261Z",
     "iopub.status.busy": "2021-07-17T00:35:53.502751Z",
     "iopub.status.idle": "2021-07-17T00:35:54.960869Z",
     "shell.execute_reply": "2021-07-17T00:35:54.960204Z",
     "shell.execute_reply.started": "2021-07-17T00:35:53.503211Z"
    },
    "tags": []
   },
   "outputs": [
    {
     "name": "stderr",
     "output_type": "stream",
     "text": [
      "2021-07-16 20:35:54.194010: W tensorflow/stream_executor/platform/default/dso_loader.cc:64] Could not load dynamic library 'libcudart.so.11.0'; dlerror: libcudart.so.11.0: cannot open shared object file: No such file or directory\n",
      "2021-07-16 20:35:54.194061: I tensorflow/stream_executor/cuda/cudart_stub.cc:29] Ignore above cudart dlerror if you do not have a GPU set up on your machine.\n"
     ]
    }
   ],
   "source": [
    "import networkx as nx\n",
    "import numpy as np\n",
    "import pandas as pd\n",
    "import matplotlib.pyplot as plt\n",
    "import tensorflow as tf"
   ]
  },
  {
   "cell_type": "markdown",
   "id": "a6c661f9-8924-4f02-b68b-227cb456b27c",
   "metadata": {},
   "source": [
    "## Load Data"
   ]
  },
  {
   "cell_type": "code",
   "execution_count": 2,
   "id": "746ff863-9108-4743-ac83-e7c5e1ec5a9e",
   "metadata": {
    "execution": {
     "iopub.execute_input": "2021-07-17T00:35:54.962231Z",
     "iopub.status.busy": "2021-07-17T00:35:54.962023Z",
     "iopub.status.idle": "2021-07-17T00:35:55.007010Z",
     "shell.execute_reply": "2021-07-17T00:35:55.006294Z",
     "shell.execute_reply.started": "2021-07-17T00:35:54.962215Z"
    }
   },
   "outputs": [
    {
     "name": "stdout",
     "output_type": "stream",
     "text": [
      "DSP data shape: (10000, 3)\n",
      "Sizmek data shape: (10000, 16)\n"
     ]
    }
   ],
   "source": [
    "dsp = pd.read_csv(\"data/dsp_cookies_export_20210625_10k.csv\")\n",
    "print(f\"DSP data shape: {dsp.shape}\")\n",
    "\n",
    "sizmek = pd.read_csv(\"data/sizmek_bidstream_raw_20210625_10k.csv\")\n",
    "print(f\"Sizmek data shape: {sizmek.shape}\")\n",
    "\n",
    "# Fix column headers\n",
    "dsp.columns = [i.split(\".\")[1] for i in dsp.columns]\n",
    "sizmek.columns = [i.split(\".\")[1] for i in sizmek.columns]"
   ]
  },
  {
   "cell_type": "markdown",
   "id": "0673574d-9821-4d8b-ba14-cf8c6de2391d",
   "metadata": {},
   "source": [
    "## Transform to Graph Format\n",
    "**Goal:** Achieve this format here: https://keras.io/examples/graph/gnn_citations/\n",
    "- Below are some examples of the current data structures:"
   ]
  },
  {
   "cell_type": "code",
   "execution_count": 3,
   "id": "07f4847c-3676-45dd-a759-3ce3702fbae7",
   "metadata": {
    "execution": {
     "iopub.execute_input": "2021-07-17T00:35:55.008036Z",
     "iopub.status.busy": "2021-07-17T00:35:55.007852Z",
     "iopub.status.idle": "2021-07-17T00:35:55.026591Z",
     "shell.execute_reply": "2021-07-17T00:35:55.025861Z",
     "shell.execute_reply.started": "2021-07-17T00:35:55.008020Z"
    },
    "tags": []
   },
   "outputs": [
    {
     "data": {
      "text/html": [
       "<div>\n",
       "<style scoped>\n",
       "    .dataframe tbody tr th:only-of-type {\n",
       "        vertical-align: middle;\n",
       "    }\n",
       "\n",
       "    .dataframe tbody tr th {\n",
       "        vertical-align: top;\n",
       "    }\n",
       "\n",
       "    .dataframe thead th {\n",
       "        text-align: right;\n",
       "    }\n",
       "</style>\n",
       "<table border=\"1\" class=\"dataframe\">\n",
       "  <thead>\n",
       "    <tr style=\"text-align: right;\">\n",
       "      <th></th>\n",
       "      <th>user_id</th>\n",
       "      <th>household_cluster_id</th>\n",
       "      <th>zeta_user_id</th>\n",
       "      <th>account_id</th>\n",
       "      <th>url</th>\n",
       "      <th>referrer_url</th>\n",
       "      <th>city_code</th>\n",
       "      <th>state_code</th>\n",
       "      <th>zip_code</th>\n",
       "      <th>dma_code</th>\n",
       "      <th>country_code</th>\n",
       "      <th>user_agent</th>\n",
       "      <th>mobile_id</th>\n",
       "      <th>ip</th>\n",
       "      <th>server_timestamp</th>\n",
       "      <th>dt</th>\n",
       "    </tr>\n",
       "  </thead>\n",
       "  <tbody>\n",
       "    <tr>\n",
       "      <th>0</th>\n",
       "      <td>163543465731194</td>\n",
       "      <td>NaN</td>\n",
       "      <td>NaN</td>\n",
       "      <td>19967</td>\n",
       "      <td>http://mob.app.de.wetteronline.wetterapp</td>\n",
       "      <td>NaN</td>\n",
       "      <td>3103824.0</td>\n",
       "      <td>NaN</td>\n",
       "      <td>NaN</td>\n",
       "      <td>NaN</td>\n",
       "      <td>PL</td>\n",
       "      <td>Mozilla/5.0 (Linux; Android 11; SM-A715F Build...</td>\n",
       "      <td>b7f4d610-7879-4394-aa2b-bfb9f2b1c25b</td>\n",
       "      <td>31.0.26.0</td>\n",
       "      <td>1624622086664</td>\n",
       "      <td>20210625</td>\n",
       "    </tr>\n",
       "  </tbody>\n",
       "</table>\n",
       "</div>"
      ],
      "text/plain": [
       "           user_id  household_cluster_id zeta_user_id  account_id  \\\n",
       "0  163543465731194                   NaN          NaN       19967   \n",
       "\n",
       "                                        url referrer_url  city_code  \\\n",
       "0  http://mob.app.de.wetteronline.wetterapp          NaN  3103824.0   \n",
       "\n",
       "  state_code zip_code  dma_code country_code  \\\n",
       "0        NaN      NaN       NaN           PL   \n",
       "\n",
       "                                          user_agent  \\\n",
       "0  Mozilla/5.0 (Linux; Android 11; SM-A715F Build...   \n",
       "\n",
       "                              mobile_id         ip  server_timestamp        dt  \n",
       "0  b7f4d610-7879-4394-aa2b-bfb9f2b1c25b  31.0.26.0     1624622086664  20210625  "
      ]
     },
     "execution_count": 3,
     "metadata": {},
     "output_type": "execute_result"
    }
   ],
   "source": [
    "sizmek.head(1)"
   ]
  },
  {
   "cell_type": "code",
   "execution_count": 4,
   "id": "c820a7e2-724f-4248-95dd-35d869451dcc",
   "metadata": {
    "execution": {
     "iopub.execute_input": "2021-07-17T00:35:55.027725Z",
     "iopub.status.busy": "2021-07-17T00:35:55.027349Z",
     "iopub.status.idle": "2021-07-17T00:35:55.035183Z",
     "shell.execute_reply": "2021-07-17T00:35:55.034051Z",
     "shell.execute_reply.started": "2021-07-17T00:35:55.027707Z"
    }
   },
   "outputs": [
    {
     "data": {
      "text/html": [
       "<div>\n",
       "<style scoped>\n",
       "    .dataframe tbody tr th:only-of-type {\n",
       "        vertical-align: middle;\n",
       "    }\n",
       "\n",
       "    .dataframe tbody tr th {\n",
       "        vertical-align: top;\n",
       "    }\n",
       "\n",
       "    .dataframe thead th {\n",
       "        text-align: right;\n",
       "    }\n",
       "</style>\n",
       "<table border=\"1\" class=\"dataframe\">\n",
       "  <thead>\n",
       "    <tr style=\"text-align: right;\">\n",
       "      <th></th>\n",
       "      <th>user_id</th>\n",
       "      <th>zeta_user_id</th>\n",
       "      <th>dt</th>\n",
       "    </tr>\n",
       "  </thead>\n",
       "  <tbody>\n",
       "    <tr>\n",
       "      <th>0</th>\n",
       "      <td>466393253621502</td>\n",
       "      <td>[\"4bbbcada-3976-44c8-8962-e5a99d2eda97:1591197...</td>\n",
       "      <td>20210625</td>\n",
       "    </tr>\n",
       "    <tr>\n",
       "      <th>1</th>\n",
       "      <td>516673890397218</td>\n",
       "      <td>[\"9ad67b74-2e30-423d-8532-9e6a56ff6176:1610871...</td>\n",
       "      <td>20210625</td>\n",
       "    </tr>\n",
       "    <tr>\n",
       "      <th>2</th>\n",
       "      <td>552427950674755</td>\n",
       "      <td>[\"b8f83981-fb82-429a-bf53-74c17001d341:1599091...</td>\n",
       "      <td>20210625</td>\n",
       "    </tr>\n",
       "  </tbody>\n",
       "</table>\n",
       "</div>"
      ],
      "text/plain": [
       "           user_id                                       zeta_user_id  \\\n",
       "0  466393253621502  [\"4bbbcada-3976-44c8-8962-e5a99d2eda97:1591197...   \n",
       "1  516673890397218  [\"9ad67b74-2e30-423d-8532-9e6a56ff6176:1610871...   \n",
       "2  552427950674755  [\"b8f83981-fb82-429a-bf53-74c17001d341:1599091...   \n",
       "\n",
       "         dt  \n",
       "0  20210625  \n",
       "1  20210625  \n",
       "2  20210625  "
      ]
     },
     "execution_count": 4,
     "metadata": {},
     "output_type": "execute_result"
    }
   ],
   "source": [
    "dsp.head(3)"
   ]
  },
  {
   "cell_type": "code",
   "execution_count": 5,
   "id": "d70d2f96-2afa-4eed-8504-cdf1cd876ebb",
   "metadata": {
    "execution": {
     "iopub.execute_input": "2021-07-17T00:35:55.036438Z",
     "iopub.status.busy": "2021-07-17T00:35:55.036286Z",
     "iopub.status.idle": "2021-07-17T00:35:55.044858Z",
     "shell.execute_reply": "2021-07-17T00:35:55.044135Z",
     "shell.execute_reply.started": "2021-07-17T00:35:55.036423Z"
    },
    "tags": []
   },
   "outputs": [
    {
     "data": {
      "text/html": [
       "<div>\n",
       "<style scoped>\n",
       "    .dataframe tbody tr th:only-of-type {\n",
       "        vertical-align: middle;\n",
       "    }\n",
       "\n",
       "    .dataframe tbody tr th {\n",
       "        vertical-align: top;\n",
       "    }\n",
       "\n",
       "    .dataframe thead th {\n",
       "        text-align: right;\n",
       "    }\n",
       "</style>\n",
       "<table border=\"1\" class=\"dataframe\">\n",
       "  <thead>\n",
       "    <tr style=\"text-align: right;\">\n",
       "      <th></th>\n",
       "      <th>user_id</th>\n",
       "      <th>zeta_user_id</th>\n",
       "    </tr>\n",
       "  </thead>\n",
       "  <tbody>\n",
       "    <tr>\n",
       "      <th>6333</th>\n",
       "      <td>57052281873774128</td>\n",
       "      <td>fa3e335a-6b70-45b0-a9fb-ac71d098a924:161377748...</td>\n",
       "    </tr>\n",
       "    <tr>\n",
       "      <th>5340</th>\n",
       "      <td>47789607384682366</td>\n",
       "      <td>NaN</td>\n",
       "    </tr>\n",
       "    <tr>\n",
       "      <th>9997</th>\n",
       "      <td>57052281873774128</td>\n",
       "      <td>fa3e335a-6b70-45b0-a9fb-ac71d098a924:161377748...</td>\n",
       "    </tr>\n",
       "  </tbody>\n",
       "</table>\n",
       "</div>"
      ],
      "text/plain": [
       "                user_id                                       zeta_user_id\n",
       "6333  57052281873774128  fa3e335a-6b70-45b0-a9fb-ac71d098a924:161377748...\n",
       "5340  47789607384682366                                                NaN\n",
       "9997  57052281873774128  fa3e335a-6b70-45b0-a9fb-ac71d098a924:161377748..."
      ]
     },
     "execution_count": 5,
     "metadata": {},
     "output_type": "execute_result"
    }
   ],
   "source": [
    "sizmek[['user_id','zeta_user_id']].sample(3)"
   ]
  },
  {
   "cell_type": "markdown",
   "id": "e7c745a3-2999-47f9-a922-b368513c7552",
   "metadata": {},
   "source": [
    "Ideally we want to get Source/Target interaction tuples. But what are the interactions in this dataset? There are no explicit sample-to-sample interactions here, it is all implicit via sample features such as URL, city, timestamp.\n",
    "\n",
    "One thought: If two samples ARE the same user the features should match up (IP, user_agent, geo), with the exception of timestamps."
   ]
  },
  {
   "cell_type": "markdown",
   "id": "12924f9b-9896-468b-b1ec-7bad384263a6",
   "metadata": {},
   "source": [
    "## Attempt 1: Do Some Loops\n",
    "Let's create a 'connection' by looping through all rows for each row if there are any matching attribtutes in one of the select features (IP, user-agent, email, etc)"
   ]
  },
  {
   "cell_type": "code",
   "execution_count": 6,
   "id": "50b22134-8c2b-4916-be3c-28c8f4a1903f",
   "metadata": {
    "execution": {
     "iopub.execute_input": "2021-07-17T00:35:55.046013Z",
     "iopub.status.busy": "2021-07-17T00:35:55.045808Z",
     "iopub.status.idle": "2021-07-17T00:35:55.407768Z",
     "shell.execute_reply": "2021-07-17T00:35:55.407063Z",
     "shell.execute_reply.started": "2021-07-17T00:35:55.045995Z"
    },
    "tags": []
   },
   "outputs": [
    {
     "name": "stdout",
     "output_type": "stream",
     "text": [
      "163543465731194\n",
      "Found 9 matches\n",
      "CPU times: user 360 ms, sys: 1.05 ms, total: 361 ms\n",
      "Wall time: 357 ms\n"
     ]
    }
   ],
   "source": [
    "%%time\n",
    "\n",
    "matching_cols = [\"ip\", \"user_agent\"]\n",
    "\n",
    "def search_table(table, column, value):\n",
    "    match_indices = []\n",
    "    for ix, row in table.iterrows():\n",
    "        if value == row[column]:\n",
    "            match_indices.append(ix)\n",
    "    print(f\"Found {len(match_indices)} matches\")\n",
    "\n",
    "\n",
    "for ix, user_id in enumerate(sizmek[\"user_id\"]):\n",
    "    print(user_id)\n",
    "    search_table(sizmek, \"user_id\", user_id)\n",
    "    break"
   ]
  },
  {
   "cell_type": "markdown",
   "id": "8e8d95d3-3b04-4f2e-91e7-b355d67a829a",
   "metadata": {
    "execution": {
     "iopub.execute_input": "2021-07-16T21:05:29.333342Z",
     "iopub.status.busy": "2021-07-16T21:05:29.332978Z",
     "iopub.status.idle": "2021-07-16T21:05:29.337883Z",
     "shell.execute_reply": "2021-07-16T21:05:29.337230Z",
     "shell.execute_reply.started": "2021-07-16T21:05:29.333327Z"
    },
    "tags": []
   },
   "source": [
    "### Result: Not Good!\n",
    "It appears that a single search is on the order of `O(n^2)` complexity and for just 10k rows in this sample it takes ~300ms for a single iteration. This is completely infeasable for larger sizes. But that is something that can likely be fixed later on with pre-computed hashes. I'm thinking maybe a dictionary lookup where the dictionary key is the value we are searching for, and the dictionary value is the indices where this value is located. It can simply be updated as more rows are added."
   ]
  },
  {
   "cell_type": "markdown",
   "id": "4af77127-be72-470d-a775-73f8d09b8842",
   "metadata": {},
   "source": [
    "## Attempt 2: Dictionary Lookup\n",
    "There is no reason I should be iterating through the entire table for each value in the table, that's what hash lookups are for! So let's create a dictionary and use that to search for the value in each table."
   ]
  },
  {
   "cell_type": "code",
   "execution_count": 7,
   "id": "2b1f6e87-80bc-4120-97a9-f1fcc3f49483",
   "metadata": {
    "execution": {
     "iopub.execute_input": "2021-07-17T00:35:55.408951Z",
     "iopub.status.busy": "2021-07-17T00:35:55.408578Z",
     "iopub.status.idle": "2021-07-17T00:36:18.850464Z",
     "shell.execute_reply": "2021-07-17T00:36:18.849879Z",
     "shell.execute_reply.started": "2021-07-17T00:35:55.408934Z"
    },
    "tags": []
   },
   "outputs": [
    {
     "name": "stdout",
     "output_type": "stream",
     "text": [
      "CPU times: user 21.4 s, sys: 2.07 s, total: 23.4 s\n",
      "Wall time: 23.4 s\n"
     ]
    }
   ],
   "source": [
    "%%time\n",
    "\n",
    "def create_dict(table, col):\n",
    "    table_dict = {}\n",
    "    for ix, value in enumerate(table[col]):\n",
    "        #print(value)\n",
    "        if value in table_dict:\n",
    "            table_dict[value].append(ix)\n",
    "        else:\n",
    "            table_dict[value] = [ix]\n",
    "    return table_dict\n",
    "\n",
    "def search_table(table, column):\n",
    "    connections = []\n",
    "    lookup_dict = create_dict(table, column)\n",
    "    for ix, value in enumerate(table[column]):\n",
    "        if value in lookup_dict:\n",
    "            for item in lookup_dict[value]:\n",
    "                connections.append((ix, item, column, value))\n",
    "    connections = pd.DataFrame(\n",
    "        connections, \n",
    "        columns=['source', 'target', 'column', 'value']\n",
    "    )\n",
    "    return connections\n",
    "\n",
    "# Create three edge lists for some features\n",
    "ip_graph = search_table(sizmek, \"ip\")\n",
    "ua_graph = search_table(sizmek, \"user_agent\")\n",
    "zip_graph = search_table(sizmek, \"zip_code\")"
   ]
  },
  {
   "cell_type": "markdown",
   "id": "b5aad84c-3e0b-4ab2-8698-9afc17df6e7a",
   "metadata": {},
   "source": [
    "### Result: Very Good!\n",
    "I can now search the entire table for three different features in only 24 seconds, this will be much more managable to scale up in the future when using millions of rows."
   ]
  },
  {
   "cell_type": "code",
   "execution_count": 8,
   "id": "1355495e-9173-4bbf-a13b-395e062e3441",
   "metadata": {
    "execution": {
     "iopub.execute_input": "2021-07-17T00:36:18.852491Z",
     "iopub.status.busy": "2021-07-17T00:36:18.852157Z",
     "iopub.status.idle": "2021-07-17T00:36:19.515276Z",
     "shell.execute_reply": "2021-07-17T00:36:19.514607Z",
     "shell.execute_reply.started": "2021-07-17T00:36:18.852473Z"
    },
    "tags": []
   },
   "outputs": [
    {
     "data": {
      "text/html": [
       "<div>\n",
       "<style scoped>\n",
       "    .dataframe tbody tr th:only-of-type {\n",
       "        vertical-align: middle;\n",
       "    }\n",
       "\n",
       "    .dataframe tbody tr th {\n",
       "        vertical-align: top;\n",
       "    }\n",
       "\n",
       "    .dataframe thead th {\n",
       "        text-align: right;\n",
       "    }\n",
       "</style>\n",
       "<table border=\"1\" class=\"dataframe\">\n",
       "  <thead>\n",
       "    <tr style=\"text-align: right;\">\n",
       "      <th></th>\n",
       "      <th>source</th>\n",
       "      <th>target</th>\n",
       "      <th>column</th>\n",
       "      <th>value</th>\n",
       "    </tr>\n",
       "  </thead>\n",
       "  <tbody>\n",
       "    <tr>\n",
       "      <th>5906812</th>\n",
       "      <td>7239</td>\n",
       "      <td>7154</td>\n",
       "      <td>ip</td>\n",
       "      <td>71.218.146.124</td>\n",
       "    </tr>\n",
       "    <tr>\n",
       "      <th>12531292</th>\n",
       "      <td>8889</td>\n",
       "      <td>6884</td>\n",
       "      <td>ip</td>\n",
       "      <td>71.218.146.124</td>\n",
       "    </tr>\n",
       "    <tr>\n",
       "      <th>7404275</th>\n",
       "      <td>7612</td>\n",
       "      <td>7022</td>\n",
       "      <td>ip</td>\n",
       "      <td>71.218.146.124</td>\n",
       "    </tr>\n",
       "  </tbody>\n",
       "</table>\n",
       "</div>"
      ],
      "text/plain": [
       "          source  target column           value\n",
       "5906812     7239    7154     ip  71.218.146.124\n",
       "12531292    8889    6884     ip  71.218.146.124\n",
       "7404275     7612    7022     ip  71.218.146.124"
      ]
     },
     "execution_count": 8,
     "metadata": {},
     "output_type": "execute_result"
    }
   ],
   "source": [
    "ip_graph.sample(3)"
   ]
  },
  {
   "cell_type": "markdown",
   "id": "0a1b2fa7-0933-4b87-8514-e1a26d0a7599",
   "metadata": {},
   "source": [
    "### Example Plot of the Graph Network"
   ]
  },
  {
   "cell_type": "code",
   "execution_count": 9,
   "id": "d96c2835-7e86-4b4d-afc9-04ec51662057",
   "metadata": {
    "execution": {
     "iopub.execute_input": "2021-07-17T00:36:19.516420Z",
     "iopub.status.busy": "2021-07-17T00:36:19.516094Z",
     "iopub.status.idle": "2021-07-17T00:36:47.715409Z",
     "shell.execute_reply": "2021-07-17T00:36:47.714781Z",
     "shell.execute_reply.started": "2021-07-17T00:36:19.516384Z"
    },
    "tags": []
   },
   "outputs": [
    {
     "data": {
      "image/png": "[encoded data removed]",
      "text/plain": [
       "<Figure size 288x288 with 1 Axes>"
      ]
     },
     "metadata": {},
     "output_type": "display_data"
    }
   ],
   "source": [
    "plt.figure(figsize=(4, 4))\n",
    "g = nx.from_pandas_edgelist(zip_graph.sample(n=3000))\n",
    "nx.draw_spring(g, node_size=10)"
   ]
  },
  {
   "cell_type": "markdown",
   "id": "498ae904-3124-4ed4-8788-1f5eee6cc9e3",
   "metadata": {},
   "source": [
    "## Create the Network"
   ]
  },
  {
   "cell_type": "code",
   "execution_count": 11,
   "id": "0198ad39-b428-4799-a2aa-d388df6ae728",
   "metadata": {
    "execution": {
     "iopub.execute_input": "2021-07-17T00:41:17.067941Z",
     "iopub.status.busy": "2021-07-17T00:41:17.067374Z",
     "iopub.status.idle": "2021-07-17T00:41:17.079885Z",
     "shell.execute_reply": "2021-07-17T00:41:17.079161Z",
     "shell.execute_reply.started": "2021-07-17T00:41:17.067919Z"
    }
   },
   "outputs": [
    {
     "data": {
      "text/html": [
       "<div>\n",
       "<style scoped>\n",
       "    .dataframe tbody tr th:only-of-type {\n",
       "        vertical-align: middle;\n",
       "    }\n",
       "\n",
       "    .dataframe tbody tr th {\n",
       "        vertical-align: top;\n",
       "    }\n",
       "\n",
       "    .dataframe thead th {\n",
       "        text-align: right;\n",
       "    }\n",
       "</style>\n",
       "<table border=\"1\" class=\"dataframe\">\n",
       "  <thead>\n",
       "    <tr style=\"text-align: right;\">\n",
       "      <th></th>\n",
       "      <th>user_id</th>\n",
       "      <th>household_cluster_id</th>\n",
       "      <th>zeta_user_id</th>\n",
       "      <th>account_id</th>\n",
       "      <th>url</th>\n",
       "      <th>referrer_url</th>\n",
       "      <th>city_code</th>\n",
       "      <th>state_code</th>\n",
       "      <th>zip_code</th>\n",
       "      <th>dma_code</th>\n",
       "      <th>country_code</th>\n",
       "      <th>user_agent</th>\n",
       "      <th>mobile_id</th>\n",
       "      <th>ip</th>\n",
       "      <th>server_timestamp</th>\n",
       "      <th>dt</th>\n",
       "    </tr>\n",
       "  </thead>\n",
       "  <tbody>\n",
       "    <tr>\n",
       "      <th>0</th>\n",
       "      <td>163543465731194</td>\n",
       "      <td>NaN</td>\n",
       "      <td>NaN</td>\n",
       "      <td>19967</td>\n",
       "      <td>http://mob.app.de.wetteronline.wetterapp</td>\n",
       "      <td>NaN</td>\n",
       "      <td>3103824.0</td>\n",
       "      <td>NaN</td>\n",
       "      <td>NaN</td>\n",
       "      <td>NaN</td>\n",
       "      <td>PL</td>\n",
       "      <td>Mozilla/5.0 (Linux; Android 11; SM-A715F Build...</td>\n",
       "      <td>b7f4d610-7879-4394-aa2b-bfb9f2b1c25b</td>\n",
       "      <td>31.0.26.0</td>\n",
       "      <td>1624622086664</td>\n",
       "      <td>20210625</td>\n",
       "    </tr>\n",
       "    <tr>\n",
       "      <th>1</th>\n",
       "      <td>163543465731194</td>\n",
       "      <td>NaN</td>\n",
       "      <td>NaN</td>\n",
       "      <td>19967</td>\n",
       "      <td>http://mob.app.de.wetteronline.wetterapp</td>\n",
       "      <td>NaN</td>\n",
       "      <td>3103824.0</td>\n",
       "      <td>NaN</td>\n",
       "      <td>NaN</td>\n",
       "      <td>NaN</td>\n",
       "      <td>PL</td>\n",
       "      <td>Mozilla/5.0 (Linux; Android 11; SM-A715F Build...</td>\n",
       "      <td>b7f4d610-7879-4394-aa2b-bfb9f2b1c25b</td>\n",
       "      <td>31.0.26.0</td>\n",
       "      <td>1624622151478</td>\n",
       "      <td>20210625</td>\n",
       "    </tr>\n",
       "  </tbody>\n",
       "</table>\n",
       "</div>"
      ],
      "text/plain": [
       "           user_id  household_cluster_id zeta_user_id  account_id  \\\n",
       "0  163543465731194                   NaN          NaN       19967   \n",
       "1  163543465731194                   NaN          NaN       19967   \n",
       "\n",
       "                                        url referrer_url  city_code  \\\n",
       "0  http://mob.app.de.wetteronline.wetterapp          NaN  3103824.0   \n",
       "1  http://mob.app.de.wetteronline.wetterapp          NaN  3103824.0   \n",
       "\n",
       "  state_code zip_code  dma_code country_code  \\\n",
       "0        NaN      NaN       NaN           PL   \n",
       "1        NaN      NaN       NaN           PL   \n",
       "\n",
       "                                          user_agent  \\\n",
       "0  Mozilla/5.0 (Linux; Android 11; SM-A715F Build...   \n",
       "1  Mozilla/5.0 (Linux; Android 11; SM-A715F Build...   \n",
       "\n",
       "                              mobile_id         ip  server_timestamp        dt  \n",
       "0  b7f4d610-7879-4394-aa2b-bfb9f2b1c25b  31.0.26.0     1624622086664  20210625  \n",
       "1  b7f4d610-7879-4394-aa2b-bfb9f2b1c25b  31.0.26.0     1624622151478  20210625  "
      ]
     },
     "execution_count": 11,
     "metadata": {},
     "output_type": "execute_result"
    }
   ],
   "source": [
    "sizmek.head(2)"
   ]
  },
  {
   "cell_type": "code",
   "execution_count": 12,
   "id": "341782c9-0508-4df4-ad9d-326ef23313e6",
   "metadata": {
    "execution": {
     "iopub.execute_input": "2021-07-17T00:41:26.443925Z",
     "iopub.status.busy": "2021-07-17T00:41:26.443539Z",
     "iopub.status.idle": "2021-07-17T00:41:26.451519Z",
     "shell.execute_reply": "2021-07-17T00:41:26.450792Z",
     "shell.execute_reply.started": "2021-07-17T00:41:26.443892Z"
    }
   },
   "outputs": [
    {
     "data": {
      "text/html": [
       "<div>\n",
       "<style scoped>\n",
       "    .dataframe tbody tr th:only-of-type {\n",
       "        vertical-align: middle;\n",
       "    }\n",
       "\n",
       "    .dataframe tbody tr th {\n",
       "        vertical-align: top;\n",
       "    }\n",
       "\n",
       "    .dataframe thead th {\n",
       "        text-align: right;\n",
       "    }\n",
       "</style>\n",
       "<table border=\"1\" class=\"dataframe\">\n",
       "  <thead>\n",
       "    <tr style=\"text-align: right;\">\n",
       "      <th></th>\n",
       "      <th>source</th>\n",
       "      <th>target</th>\n",
       "      <th>column</th>\n",
       "      <th>value</th>\n",
       "    </tr>\n",
       "  </thead>\n",
       "  <tbody>\n",
       "    <tr>\n",
       "      <th>0</th>\n",
       "      <td>0</td>\n",
       "      <td>0</td>\n",
       "      <td>ip</td>\n",
       "      <td>31.0.26.0</td>\n",
       "    </tr>\n",
       "    <tr>\n",
       "      <th>1</th>\n",
       "      <td>0</td>\n",
       "      <td>1</td>\n",
       "      <td>ip</td>\n",
       "      <td>31.0.26.0</td>\n",
       "    </tr>\n",
       "    <tr>\n",
       "      <th>2</th>\n",
       "      <td>0</td>\n",
       "      <td>2</td>\n",
       "      <td>ip</td>\n",
       "      <td>31.0.26.0</td>\n",
       "    </tr>\n",
       "  </tbody>\n",
       "</table>\n",
       "</div>"
      ],
      "text/plain": [
       "   source  target column      value\n",
       "0       0       0     ip  31.0.26.0\n",
       "1       0       1     ip  31.0.26.0\n",
       "2       0       2     ip  31.0.26.0"
      ]
     },
     "execution_count": 12,
     "metadata": {},
     "output_type": "execute_result"
    }
   ],
   "source": [
    "ip_graph.head(3)"
   ]
  },
  {
   "cell_type": "code",
   "execution_count": 22,
   "id": "1793f7e2-b884-4e35-8a28-94216268824e",
   "metadata": {
    "execution": {
     "iopub.execute_input": "2021-07-17T01:22:52.609357Z",
     "iopub.status.busy": "2021-07-17T01:22:52.608949Z",
     "iopub.status.idle": "2021-07-17T01:22:52.616846Z",
     "shell.execute_reply": "2021-07-17T01:22:52.615880Z",
     "shell.execute_reply.started": "2021-07-17T01:22:52.609337Z"
    },
    "tags": []
   },
   "outputs": [
    {
     "data": {
      "text/plain": [
       "19967    5194\n",
       "35927    4806\n",
       "Name: account_id, dtype: int64"
      ]
     },
     "execution_count": 22,
     "metadata": {},
     "output_type": "execute_result"
    }
   ],
   "source": [
    "sizmek['account_id'].value_counts()"
   ]
  },
  {
   "cell_type": "code",
   "execution_count": 20,
   "id": "5e725202-8a82-48d7-8b8e-b8442cfcf71b",
   "metadata": {
    "execution": {
     "iopub.execute_input": "2021-07-17T01:22:38.316601Z",
     "iopub.status.busy": "2021-07-17T01:22:38.316263Z",
     "iopub.status.idle": "2021-07-17T01:22:38.328158Z",
     "shell.execute_reply": "2021-07-17T01:22:38.327213Z",
     "shell.execute_reply.started": "2021-07-17T01:22:38.316581Z"
    },
    "tags": []
   },
   "outputs": [
    {
     "name": "stdout",
     "output_type": "stream",
     "text": [
      "account_id\n"
     ]
    },
    {
     "data": {
      "text/html": [
       "<div>\n",
       "<style scoped>\n",
       "    .dataframe tbody tr th:only-of-type {\n",
       "        vertical-align: middle;\n",
       "    }\n",
       "\n",
       "    .dataframe tbody tr th {\n",
       "        vertical-align: top;\n",
       "    }\n",
       "\n",
       "    .dataframe thead th {\n",
       "        text-align: right;\n",
       "    }\n",
       "</style>\n",
       "<table border=\"1\" class=\"dataframe\">\n",
       "  <thead>\n",
       "    <tr style=\"text-align: right;\">\n",
       "      <th></th>\n",
       "      <th>0</th>\n",
       "      <th>1</th>\n",
       "    </tr>\n",
       "  </thead>\n",
       "  <tbody>\n",
       "    <tr>\n",
       "      <th>0</th>\n",
       "      <td>1.0</td>\n",
       "      <td>0.0</td>\n",
       "    </tr>\n",
       "    <tr>\n",
       "      <th>1</th>\n",
       "      <td>1.0</td>\n",
       "      <td>0.0</td>\n",
       "    </tr>\n",
       "    <tr>\n",
       "      <th>2</th>\n",
       "      <td>1.0</td>\n",
       "      <td>0.0</td>\n",
       "    </tr>\n",
       "    <tr>\n",
       "      <th>3</th>\n",
       "      <td>1.0</td>\n",
       "      <td>0.0</td>\n",
       "    </tr>\n",
       "    <tr>\n",
       "      <th>4</th>\n",
       "      <td>1.0</td>\n",
       "      <td>0.0</td>\n",
       "    </tr>\n",
       "    <tr>\n",
       "      <th>...</th>\n",
       "      <td>...</td>\n",
       "      <td>...</td>\n",
       "    </tr>\n",
       "    <tr>\n",
       "      <th>9995</th>\n",
       "      <td>0.0</td>\n",
       "      <td>1.0</td>\n",
       "    </tr>\n",
       "    <tr>\n",
       "      <th>9996</th>\n",
       "      <td>0.0</td>\n",
       "      <td>1.0</td>\n",
       "    </tr>\n",
       "    <tr>\n",
       "      <th>9997</th>\n",
       "      <td>0.0</td>\n",
       "      <td>1.0</td>\n",
       "    </tr>\n",
       "    <tr>\n",
       "      <th>9998</th>\n",
       "      <td>0.0</td>\n",
       "      <td>1.0</td>\n",
       "    </tr>\n",
       "    <tr>\n",
       "      <th>9999</th>\n",
       "      <td>0.0</td>\n",
       "      <td>1.0</td>\n",
       "    </tr>\n",
       "  </tbody>\n",
       "</table>\n",
       "<p>10000 rows × 2 columns</p>\n",
       "</div>"
      ],
      "text/plain": [
       "        0    1\n",
       "0     1.0  0.0\n",
       "1     1.0  0.0\n",
       "2     1.0  0.0\n",
       "3     1.0  0.0\n",
       "4     1.0  0.0\n",
       "...   ...  ...\n",
       "9995  0.0  1.0\n",
       "9996  0.0  1.0\n",
       "9997  0.0  1.0\n",
       "9998  0.0  1.0\n",
       "9999  0.0  1.0\n",
       "\n",
       "[10000 rows x 2 columns]"
      ]
     },
     "execution_count": 20,
     "metadata": {},
     "output_type": "execute_result"
    }
   ],
   "source": [
    "from sklearn.preprocessing import OneHotEncoder\n",
    "feature_cols = [\"account_id\", \"url\", \"referrer_url\", \"city_code\", \"state_code\", \"dma_code\", \"country_code\"]\n",
    "\n",
    "encoder_list = []\n",
    "for feature in feature_cols:\n",
    "    print(feature)\n",
    "    enc = OneHotEncoder(handle_unknown='ignore')\n",
    "    enc_df = pd.DataFrame(enc.fit_transform(sizmek[[feature]]).toarray())\n",
    "    break\n",
    "\n",
    "enc_df"
   ]
  },
  {
   "cell_type": "code",
   "execution_count": 10,
   "id": "ab13efbd-001f-4fb9-90ac-e5906001f719",
   "metadata": {
    "execution": {
     "iopub.execute_input": "2021-07-17T00:36:47.716419Z",
     "iopub.status.busy": "2021-07-17T00:36:47.716083Z",
     "iopub.status.idle": "2021-07-17T00:36:47.983685Z",
     "shell.execute_reply": "2021-07-17T00:36:47.982854Z",
     "shell.execute_reply.started": "2021-07-17T00:36:47.716385Z"
    },
    "tags": []
   },
   "outputs": [
    {
     "name": "stderr",
     "output_type": "stream",
     "text": [
      "2021-07-16 20:36:47.793276: I tensorflow/stream_executor/platform/default/dso_loader.cc:53] Successfully opened dynamic library libcuda.so.1\n",
      "2021-07-16 20:36:47.830574: E tensorflow/stream_executor/cuda/cuda_driver.cc:328] failed call to cuInit: UNKNOWN ERROR (100)\n",
      "2021-07-16 20:36:47.830603: I tensorflow/stream_executor/cuda/cuda_diagnostics.cc:156] kernel driver does not appear to be running on this host (cube): /proc/driver/nvidia/version does not exist\n",
      "2021-07-16 20:36:47.831028: I tensorflow/core/platform/cpu_feature_guard.cc:142] This TensorFlow binary is optimized with oneAPI Deep Neural Network Library (oneDNN) to use the following CPU instructions in performance-critical operations:  AVX2 FMA\n",
      "To enable them in other operations, rebuild TensorFlow with the appropriate compiler flags.\n"
     ]
    },
    {
     "ename": "TypeError",
     "evalue": "cast() missing 2 required positional arguments: 'x' and 'dtype'",
     "output_type": "error",
     "traceback": [
      "\u001b[0;31m---------------------------------------------------------------------------\u001b[0m",
      "\u001b[0;31mTypeError\u001b[0m                                 Traceback (most recent call last)",
      "\u001b[0;32m/tmp/ipykernel_3846/911641114.py\u001b[0m in \u001b[0;36m<module>\u001b[0;34m\u001b[0m\n\u001b[1;32m      4\u001b[0m \u001b[0medge_weights\u001b[0m \u001b[0;34m=\u001b[0m \u001b[0mtf\u001b[0m\u001b[0;34m.\u001b[0m\u001b[0mones\u001b[0m\u001b[0;34m(\u001b[0m\u001b[0mshape\u001b[0m\u001b[0;34m=\u001b[0m\u001b[0medges\u001b[0m\u001b[0;34m.\u001b[0m\u001b[0mshape\u001b[0m\u001b[0;34m[\u001b[0m\u001b[0;36m1\u001b[0m\u001b[0;34m]\u001b[0m\u001b[0;34m)\u001b[0m\u001b[0;34m\u001b[0m\u001b[0;34m\u001b[0m\u001b[0m\n\u001b[1;32m      5\u001b[0m \u001b[0;31m# Node fatures array of shape [num_nodes, num_features]\u001b[0m\u001b[0;34m\u001b[0m\u001b[0;34m\u001b[0m\u001b[0;34m\u001b[0m\u001b[0m\n\u001b[0;32m----> 6\u001b[0;31m \u001b[0mnode_features\u001b[0m \u001b[0;34m=\u001b[0m \u001b[0mtf\u001b[0m\u001b[0;34m.\u001b[0m\u001b[0mcast\u001b[0m\u001b[0;34m(\u001b[0m\u001b[0;34m)\u001b[0m\u001b[0;34m\u001b[0m\u001b[0;34m\u001b[0m\u001b[0m\n\u001b[0m",
      "\u001b[0;32m~/github/.jupyter_383/lib/python3.8/site-packages/tensorflow/python/util/dispatch.py\u001b[0m in \u001b[0;36mwrapper\u001b[0;34m(*args, **kwargs)\u001b[0m\n\u001b[1;32m    204\u001b[0m     \u001b[0;34m\"\"\"Call target, and fall back on dispatchers if there is a TypeError.\"\"\"\u001b[0m\u001b[0;34m\u001b[0m\u001b[0;34m\u001b[0m\u001b[0m\n\u001b[1;32m    205\u001b[0m     \u001b[0;32mtry\u001b[0m\u001b[0;34m:\u001b[0m\u001b[0;34m\u001b[0m\u001b[0;34m\u001b[0m\u001b[0m\n\u001b[0;32m--> 206\u001b[0;31m       \u001b[0;32mreturn\u001b[0m \u001b[0mtarget\u001b[0m\u001b[0;34m(\u001b[0m\u001b[0;34m*\u001b[0m\u001b[0margs\u001b[0m\u001b[0;34m,\u001b[0m \u001b[0;34m**\u001b[0m\u001b[0mkwargs\u001b[0m\u001b[0;34m)\u001b[0m\u001b[0;34m\u001b[0m\u001b[0;34m\u001b[0m\u001b[0m\n\u001b[0m\u001b[1;32m    207\u001b[0m     \u001b[0;32mexcept\u001b[0m \u001b[0;34m(\u001b[0m\u001b[0mTypeError\u001b[0m\u001b[0;34m,\u001b[0m \u001b[0mValueError\u001b[0m\u001b[0;34m)\u001b[0m\u001b[0;34m:\u001b[0m\u001b[0;34m\u001b[0m\u001b[0;34m\u001b[0m\u001b[0m\n\u001b[1;32m    208\u001b[0m       \u001b[0;31m# Note: convert_to_eager_tensor currently raises a ValueError, not a\u001b[0m\u001b[0;34m\u001b[0m\u001b[0;34m\u001b[0m\u001b[0;34m\u001b[0m\u001b[0m\n",
      "\u001b[0;31mTypeError\u001b[0m: cast() missing 2 required positional arguments: 'x' and 'dtype'"
     ]
    }
   ],
   "source": [
    "feature_cols = [\"account_id\", \"url\", \"referrer_url\", \"city_code\", \"state_code\", \"dma_code\", \"country_code\"]\n",
    "\n",
    "# Edges array (sparse adjacency matrix) of shape [2, num_edges]\n",
    "edges = ip_graph[[\"source\", \"target\"]].to_numpy().T\n",
    "# Default edge weights to 1 (we don't have any in dataset)\n",
    "edge_weights = tf.ones(shape=edges.shape[1])\n",
    "# Node fatures array of shape [num_nodes, num_features]\n",
    "#node_features = tf.cast(sizmek.sort_index()[feature_cols].to_numpy(), dtype=tf.dtypes.float32"
   ]
  },
  {
   "cell_type": "code",
   "execution_count": null,
   "id": "037d4e1a-e219-494e-b63d-bb9325ed54bf",
   "metadata": {
    "execution": {
     "iopub.status.busy": "2021-07-17T00:36:47.984182Z",
     "iopub.status.idle": "2021-07-17T00:36:47.984388Z",
     "shell.execute_reply": "2021-07-17T00:36:47.984296Z",
     "shell.execute_reply.started": "2021-07-17T00:36:47.984286Z"
    },
    "tags": []
   },
   "outputs": [],
   "source": [
    "sizmek"
   ]
  },
  {
   "cell_type": "code",
   "execution_count": null,
   "id": "a3f8ce33-0ad9-495a-a5e5-4429ccbc2cf4",
   "metadata": {},
   "outputs": [],
   "source": []
  }
 ],
 "metadata": {
  "kernelspec": {
   "display_name": "Python 3",
   "language": "python",
   "name": "python3"
  },
  "language_info": {
   "codemirror_mode": {
    "name": "ipython",
    "version": 3
   },
   "file_extension": ".py",
   "mimetype": "text/x-python",
   "name": "python",
   "nbconvert_exporter": "python",
   "pygments_lexer": "ipython3",
   "version": "3.8.3"
  }
 },
 "nbformat": 4,
 "nbformat_minor": 5
}
