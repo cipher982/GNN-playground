{
 "cells": [
  {
   "cell_type": "code",
   "execution_count": 15,
   "metadata": {
    "execution": {
     "iopub.execute_input": "2021-09-10T14:11:39.843642Z",
     "iopub.status.busy": "2021-09-10T14:11:39.843224Z",
     "iopub.status.idle": "2021-09-10T14:11:41.294569Z",
     "shell.execute_reply": "2021-09-10T14:11:41.293908Z",
     "shell.execute_reply.started": "2021-09-10T14:11:39.843622Z"
    },
    "tags": []
   },
   "outputs": [
    {
     "data": {
      "text/plain": [
       "'cuda'"
      ]
     },
     "execution_count": 15,
     "metadata": {},
     "output_type": "execute_result"
    }
   ],
   "source": [
    "from typing import Optional, Callable, List, Dict, Tuple\n",
    "import os\n",
    "\n",
    "import dgmc\n",
    "import pandas as pd\n",
    "from sklearn.preprocessing import OneHotEncoder, LabelEncoder\n",
    "\n",
    "import torch\n",
    "from torch import Tensor\n",
    "import funcs\n",
    "#import pytorch_lightning as pl\n",
    "from torch.nn import Linear\n",
    "from torch_geometric.nn import GCNConv\n",
    "from torch_geometric.data import Data\n",
    "import torch_geometric\n",
    "\n",
    "%reload_ext autoreload\n",
    "%autoreload 2\n",
    "\n",
    "device = 'cuda' if torch.cuda.is_available() else 'cpu'\n",
    "device"
   ]
  },
  {
   "cell_type": "code",
   "execution_count": 62,
   "metadata": {},
   "outputs": [
    {
     "data": {
      "text/plain": [
       "(793073, 22)"
      ]
     },
     "execution_count": 62,
     "metadata": {},
     "output_type": "execute_result"
    }
   ],
   "source": [
    "df_raw.shape"
   ]
  },
  {
   "cell_type": "code",
   "execution_count": null,
   "metadata": {},
   "outputs": [],
   "source": [
    "dtypes = \"string\""
   ]
  },
  {
   "cell_type": "code",
   "execution_count": 64,
   "metadata": {
    "execution": {
     "iopub.execute_input": "2021-09-10T14:11:41.295753Z",
     "iopub.status.busy": "2021-09-10T14:11:41.295473Z",
     "iopub.status.idle": "2021-09-10T14:11:48.143268Z",
     "shell.execute_reply": "2021-09-10T14:11:48.142686Z",
     "shell.execute_reply.started": "2021-09-10T14:11:41.295737Z"
    },
    "tags": []
   },
   "outputs": [
    {
     "name": "stdout",
     "output_type": "stream",
     "text": [
      "Shape: 793,073 Memory: 1.55GB\n"
     ]
    }
   ],
   "source": [
    "file_path = f\"s3://drose-sandbox/sizmek_zync_cleaned_793k.csv\"\n",
    "\n",
    "df_raw = pd.read_csv(file_path, dtype=\"str\")\n",
    "print(f\"Shape: {df_raw.shape[0]:,} Memory: {df_raw.memory_usage(deep=True).sum()/1e9:.2f}GB\")"
   ]
  },
  {
   "cell_type": "code",
   "execution_count": 65,
   "metadata": {},
   "outputs": [
    {
     "data": {
      "text/html": [
       "<div>\n",
       "<style scoped>\n",
       "    .dataframe tbody tr th:only-of-type {\n",
       "        vertical-align: middle;\n",
       "    }\n",
       "\n",
       "    .dataframe tbody tr th {\n",
       "        vertical-align: top;\n",
       "    }\n",
       "\n",
       "    .dataframe thead th {\n",
       "        text-align: right;\n",
       "    }\n",
       "</style>\n",
       "<table border=\"1\" class=\"dataframe\">\n",
       "  <thead>\n",
       "    <tr style=\"text-align: right;\">\n",
       "      <th></th>\n",
       "      <th>0</th>\n",
       "    </tr>\n",
       "  </thead>\n",
       "  <tbody>\n",
       "    <tr>\n",
       "      <th>Unnamed: 0</th>\n",
       "      <td>0</td>\n",
       "    </tr>\n",
       "    <tr>\n",
       "      <th>account_id</th>\n",
       "      <td>19967</td>\n",
       "    </tr>\n",
       "    <tr>\n",
       "      <th>url</th>\n",
       "      <td>tvguide.com</td>\n",
       "    </tr>\n",
       "    <tr>\n",
       "      <th>city_code</th>\n",
       "      <td>5731371</td>\n",
       "    </tr>\n",
       "    <tr>\n",
       "      <th>state_code</th>\n",
       "      <td>OR</td>\n",
       "    </tr>\n",
       "    <tr>\n",
       "      <th>dma_code</th>\n",
       "      <td>820</td>\n",
       "    </tr>\n",
       "    <tr>\n",
       "      <th>country_code</th>\n",
       "      <td>US</td>\n",
       "    </tr>\n",
       "    <tr>\n",
       "      <th>user_id</th>\n",
       "      <td>5314600042548863</td>\n",
       "    </tr>\n",
       "    <tr>\n",
       "      <th>session_id</th>\n",
       "      <td>d1b6ae4f-7582-42d9-90bc-9b793bcc9ca7:162949223...</td>\n",
       "    </tr>\n",
       "    <tr>\n",
       "      <th>referrer</th>\n",
       "      <td>https://www.google.com/</td>\n",
       "    </tr>\n",
       "    <tr>\n",
       "      <th>client</th>\n",
       "      <td>sizmek</td>\n",
       "    </tr>\n",
       "    <tr>\n",
       "      <th>user_agent_platform</th>\n",
       "      <td>windows</td>\n",
       "    </tr>\n",
       "    <tr>\n",
       "      <th>user_agent_language</th>\n",
       "      <td>missing</td>\n",
       "    </tr>\n",
       "    <tr>\n",
       "      <th>user_agent_browser</th>\n",
       "      <td>chrome</td>\n",
       "    </tr>\n",
       "    <tr>\n",
       "      <th>zeta_user_id</th>\n",
       "      <td>missing</td>\n",
       "    </tr>\n",
       "    <tr>\n",
       "      <th>sizmek_ip</th>\n",
       "      <td>other</td>\n",
       "    </tr>\n",
       "    <tr>\n",
       "      <th>zync_ip</th>\n",
       "      <td>other</td>\n",
       "    </tr>\n",
       "    <tr>\n",
       "      <th>zync_country</th>\n",
       "      <td>US</td>\n",
       "    </tr>\n",
       "    <tr>\n",
       "      <th>zync_state</th>\n",
       "      <td>OR</td>\n",
       "    </tr>\n",
       "    <tr>\n",
       "      <th>zync_city</th>\n",
       "      <td>Hillsboro</td>\n",
       "    </tr>\n",
       "    <tr>\n",
       "      <th>zync_lat</th>\n",
       "      <td>45.5397</td>\n",
       "    </tr>\n",
       "    <tr>\n",
       "      <th>zync_long</th>\n",
       "      <td>-122.9638</td>\n",
       "    </tr>\n",
       "  </tbody>\n",
       "</table>\n",
       "</div>"
      ],
      "text/plain": [
       "                                                                     0\n",
       "Unnamed: 0                                                           0\n",
       "account_id                                                       19967\n",
       "url                                                        tvguide.com\n",
       "city_code                                                      5731371\n",
       "state_code                                                          OR\n",
       "dma_code                                                           820\n",
       "country_code                                                        US\n",
       "user_id                                               5314600042548863\n",
       "session_id           d1b6ae4f-7582-42d9-90bc-9b793bcc9ca7:162949223...\n",
       "referrer                                       https://www.google.com/\n",
       "client                                                          sizmek\n",
       "user_agent_platform                                            windows\n",
       "user_agent_language                                            missing\n",
       "user_agent_browser                                              chrome\n",
       "zeta_user_id                                                   missing\n",
       "sizmek_ip                                                        other\n",
       "zync_ip                                                          other\n",
       "zync_country                                                        US\n",
       "zync_state                                                          OR\n",
       "zync_city                                                    Hillsboro\n",
       "zync_lat                                                       45.5397\n",
       "zync_long                                                    -122.9638"
      ]
     },
     "execution_count": 65,
     "metadata": {},
     "output_type": "execute_result"
    }
   ],
   "source": [
    "df_raw.head(1).T"
   ]
  },
  {
   "cell_type": "code",
   "execution_count": 67,
   "metadata": {
    "execution": {
     "iopub.execute_input": "2021-09-10T14:11:48.144325Z",
     "iopub.status.busy": "2021-09-10T14:11:48.143948Z",
     "iopub.status.idle": "2021-09-10T14:11:48.918573Z",
     "shell.execute_reply": "2021-09-10T14:11:48.917851Z",
     "shell.execute_reply.started": "2021-09-10T14:11:48.144309Z"
    },
    "tags": []
   },
   "outputs": [
    {
     "name": "stdout",
     "output_type": "stream",
     "text": [
      "(793073, 20)\n",
      "(793073, 20)\n",
      "(793073, 20)\n",
      "(793073, 20)\n",
      "(44928, 20)\n",
      "(30818, 20)\n"
     ]
    }
   ],
   "source": [
    "sizmek_cols = [\"user_id\", \"url\", \"account_id\", \"city_code\",\n",
    "               \"state_code\", \"dma_code\", \"country_code\", \"sizmek_ip\"]\n",
    "zync_cols = [\"session_id\", \"referrer\", \"client\", \"user_agent_platform\",\n",
    "             \"user_agent_language\", \"user_agent_browser\", \"zync_ip\", \"zync_country\",\n",
    "             \"zync_state\", \"zync_city\", \"zync_lat\", \"zync_long\"]\n",
    "\n",
    "df = df_raw[sizmek_cols + zync_cols]\n",
    "print(df.shape)\n",
    "#df = df[df[sizmek_cols + zync_cols].astype(bool)]  \n",
    "#print(df.shape)\n",
    "df = df.fillna(\"missing\")\n",
    "print(df.shape)\n",
    "df = df.drop_duplicates()\n",
    "print(df.shape)\n",
    "df = df.reset_index(drop=True)\n",
    "print(df.shape)\n",
    "\n",
    "group_list = [e for e in (sizmek_cols + zync_cols) if e not in (\"url\", \"referrer\")]\n",
    "df = df.groupby(group_list)[[\"url\", \"referrer\"]].agg(lambda x: list(x))\n",
    "df = df.reset_index()\n",
    "print(df.shape)\n",
    "df= df[df[\"user_id\"].duplicated(keep=False)]\n",
    "print(df.shape)\n",
    "df = df.drop(\"user_id\", axis=1)\n",
    "\n",
    "sizmek_features = [\"url\", \"account_id\", \"city_code\", \"state_code\",\n",
    "               \"dma_code\", \"country_code\", \"sizmek_ip\"]\n",
    "zync_features = [\"referrer\", \"client\", \"user_agent_platform\", \"user_agent_language\", \n",
    "             \"user_agent_browser\", \"zync_ip\", \"zync_country\",\n",
    "             \"zync_state\", \"zync_city\", \"zync_lat\", \"zync_long\"]\n",
    "\n",
    "sizmek_df = df[sizmek_features]\n",
    "zync_df = df[zync_features]"
   ]
  },
  {
   "cell_type": "code",
   "execution_count": 68,
   "metadata": {
    "execution": {
     "iopub.execute_input": "2021-09-10T14:11:48.919928Z",
     "iopub.status.busy": "2021-09-10T14:11:48.919383Z",
     "iopub.status.idle": "2021-09-10T14:11:48.949453Z",
     "shell.execute_reply": "2021-09-10T14:11:48.948727Z",
     "shell.execute_reply.started": "2021-09-10T14:11:48.919906Z"
    },
    "tags": []
   },
   "outputs": [
    {
     "data": {
      "text/html": [
       "<div>\n",
       "<style scoped>\n",
       "    .dataframe tbody tr th:only-of-type {\n",
       "        vertical-align: middle;\n",
       "    }\n",
       "\n",
       "    .dataframe tbody tr th {\n",
       "        vertical-align: top;\n",
       "    }\n",
       "\n",
       "    .dataframe thead th {\n",
       "        text-align: right;\n",
       "    }\n",
       "</style>\n",
       "<table border=\"1\" class=\"dataframe\">\n",
       "  <thead>\n",
       "    <tr style=\"text-align: right;\">\n",
       "      <th></th>\n",
       "      <th>url</th>\n",
       "      <th>account_id</th>\n",
       "      <th>city_code</th>\n",
       "      <th>state_code</th>\n",
       "      <th>dma_code</th>\n",
       "      <th>country_code</th>\n",
       "      <th>sizmek_ip</th>\n",
       "    </tr>\n",
       "  </thead>\n",
       "  <tbody>\n",
       "    <tr>\n",
       "      <th>0</th>\n",
       "      <td>[foxnews.com]</td>\n",
       "      <td>19967</td>\n",
       "      <td>4167147</td>\n",
       "      <td>FL</td>\n",
       "      <td>534</td>\n",
       "      <td>US</td>\n",
       "      <td>other</td>\n",
       "    </tr>\n",
       "    <tr>\n",
       "      <th>1</th>\n",
       "      <td>[https://www.dailymail.co.uk/tvshowbiz/article...</td>\n",
       "      <td>35927</td>\n",
       "      <td>4167147</td>\n",
       "      <td>FL</td>\n",
       "      <td>534</td>\n",
       "      <td>US</td>\n",
       "      <td>other</td>\n",
       "    </tr>\n",
       "    <tr>\n",
       "      <th>2</th>\n",
       "      <td>[buzzaboutbees.net]</td>\n",
       "      <td>19967</td>\n",
       "      <td>5816861</td>\n",
       "      <td>WY</td>\n",
       "      <td>758</td>\n",
       "      <td>US</td>\n",
       "      <td>other</td>\n",
       "    </tr>\n",
       "  </tbody>\n",
       "</table>\n",
       "</div>"
      ],
      "text/plain": [
       "                                                 url account_id city_code  \\\n",
       "0                                      [foxnews.com]      19967   4167147   \n",
       "1  [https://www.dailymail.co.uk/tvshowbiz/article...      35927   4167147   \n",
       "2                                [buzzaboutbees.net]      19967   5816861   \n",
       "\n",
       "  state_code dma_code country_code sizmek_ip  \n",
       "0         FL      534           US     other  \n",
       "1         FL      534           US     other  \n",
       "2         WY      758           US     other  "
      ]
     },
     "execution_count": 68,
     "metadata": {},
     "output_type": "execute_result"
    }
   ],
   "source": [
    "sizmek_df.head(3)"
   ]
  },
  {
   "cell_type": "code",
   "execution_count": 69,
   "metadata": {
    "execution": {
     "iopub.execute_input": "2021-09-10T14:11:48.950389Z",
     "iopub.status.busy": "2021-09-10T14:11:48.950243Z",
     "iopub.status.idle": "2021-09-10T14:11:48.977566Z",
     "shell.execute_reply": "2021-09-10T14:11:48.976963Z",
     "shell.execute_reply.started": "2021-09-10T14:11:48.950373Z"
    },
    "tags": []
   },
   "outputs": [
    {
     "data": {
      "text/html": [
       "<div>\n",
       "<style scoped>\n",
       "    .dataframe tbody tr th:only-of-type {\n",
       "        vertical-align: middle;\n",
       "    }\n",
       "\n",
       "    .dataframe tbody tr th {\n",
       "        vertical-align: top;\n",
       "    }\n",
       "\n",
       "    .dataframe thead th {\n",
       "        text-align: right;\n",
       "    }\n",
       "</style>\n",
       "<table border=\"1\" class=\"dataframe\">\n",
       "  <thead>\n",
       "    <tr style=\"text-align: right;\">\n",
       "      <th></th>\n",
       "      <th>referrer</th>\n",
       "      <th>client</th>\n",
       "      <th>user_agent_platform</th>\n",
       "      <th>user_agent_language</th>\n",
       "      <th>user_agent_browser</th>\n",
       "      <th>zync_ip</th>\n",
       "      <th>zync_country</th>\n",
       "      <th>zync_state</th>\n",
       "      <th>zync_city</th>\n",
       "      <th>zync_lat</th>\n",
       "      <th>zync_long</th>\n",
       "    </tr>\n",
       "  </thead>\n",
       "  <tbody>\n",
       "    <tr>\n",
       "      <th>0</th>\n",
       "      <td>[https://www.giantfreakinrobot.com/ent/snake-e...</td>\n",
       "      <td>sizmek</td>\n",
       "      <td>android</td>\n",
       "      <td>10</td>\n",
       "      <td>chrome</td>\n",
       "      <td>other</td>\n",
       "      <td>US</td>\n",
       "      <td>FL</td>\n",
       "      <td>missing</td>\n",
       "      <td>28.6344</td>\n",
       "      <td>-81.6221</td>\n",
       "    </tr>\n",
       "    <tr>\n",
       "      <th>1</th>\n",
       "      <td>[https://www.giantfreakinrobot.com/ent/snake-e...</td>\n",
       "      <td>sizmek</td>\n",
       "      <td>android</td>\n",
       "      <td>10</td>\n",
       "      <td>chrome</td>\n",
       "      <td>other</td>\n",
       "      <td>US</td>\n",
       "      <td>FL</td>\n",
       "      <td>missing</td>\n",
       "      <td>28.6344</td>\n",
       "      <td>-81.6221</td>\n",
       "    </tr>\n",
       "    <tr>\n",
       "      <th>2</th>\n",
       "      <td>[https://www.wral.com/wake-county-assistant-pr...</td>\n",
       "      <td>sizmek</td>\n",
       "      <td>iphone</td>\n",
       "      <td>missing</td>\n",
       "      <td>safari</td>\n",
       "      <td>other</td>\n",
       "      <td>US</td>\n",
       "      <td>NC</td>\n",
       "      <td>Wake Forest</td>\n",
       "      <td>35.9825</td>\n",
       "      <td>-78.5376</td>\n",
       "    </tr>\n",
       "  </tbody>\n",
       "</table>\n",
       "</div>"
      ],
      "text/plain": [
       "                                            referrer  client  \\\n",
       "0  [https://www.giantfreakinrobot.com/ent/snake-e...  sizmek   \n",
       "1  [https://www.giantfreakinrobot.com/ent/snake-e...  sizmek   \n",
       "2  [https://www.wral.com/wake-county-assistant-pr...  sizmek   \n",
       "\n",
       "  user_agent_platform user_agent_language user_agent_browser zync_ip  \\\n",
       "0             android                  10             chrome   other   \n",
       "1             android                  10             chrome   other   \n",
       "2              iphone             missing             safari   other   \n",
       "\n",
       "  zync_country zync_state    zync_city zync_lat zync_long  \n",
       "0           US         FL      missing  28.6344  -81.6221  \n",
       "1           US         FL      missing  28.6344  -81.6221  \n",
       "2           US         NC  Wake Forest  35.9825  -78.5376  "
      ]
     },
     "execution_count": 69,
     "metadata": {},
     "output_type": "execute_result"
    }
   ],
   "source": [
    "zync_df.head(3)"
   ]
  },
  {
   "cell_type": "markdown",
   "metadata": {},
   "source": [
    "# Create Dataset"
   ]
  },
  {
   "cell_type": "code",
   "execution_count": 73,
   "metadata": {
    "execution": {
     "iopub.execute_input": "2021-09-10T14:14:35.740681Z",
     "iopub.status.busy": "2021-09-10T14:14:35.740211Z",
     "iopub.status.idle": "2021-09-10T14:14:35.768255Z",
     "shell.execute_reply": "2021-09-10T14:14:35.767594Z",
     "shell.execute_reply.started": "2021-09-10T14:14:35.740661Z"
    },
    "tags": []
   },
   "outputs": [],
   "source": [
    "class ZetaDataset(torch_geometric.data.InMemoryDataset):\n",
    "    def __init__(self, root: str, sizmek_df: pd.DataFrame, zync_df: pd.DataFrame, column: str, \n",
    "                 label: str, feature_cols=None, parse_url=False, expand_x=None, transform=None, \n",
    "                 pre_transform=None\n",
    "        ):\n",
    "        self.root = root\n",
    "        self.sizmek_df = sizmek_df\n",
    "        self.zync_df = zync_df\n",
    "        self.column = column\n",
    "        self.label = label\n",
    "        self.feature_cols = feature_cols\n",
    "        self.parse_url = parse_url\n",
    "        self.expand_x = expand_x\n",
    "        super(ZetaDataset, self).__init__(root, transform, pre_transform)\n",
    "        self.data, self.slices = torch.load(self.processed_paths[0])\n",
    "        print(\"Removing processed file. . .\")\n",
    "        os.remove(self.processed_paths[0])\n",
    "\n",
    "    @property\n",
    "    def raw_file_names(self) -> List[str]:\n",
    "        return [\n",
    "            \"sizmek_bidstream_raw_20210625_10k.csv\", \n",
    "            \"zync_session_tracking_orc_20210625_10k.csv\"\n",
    "        ]\n",
    "\n",
    "    @property\n",
    "    def processed_file_names(self):\n",
    "        return [\"ZetaDataset.pt\"]\n",
    "    \n",
    "    @property\n",
    "    def edge_count_1(self):\n",
    "        return zeta_data.data.edge_index1.shape[1]\n",
    "    \n",
    "    @property\n",
    "    def edge_count_2(self):\n",
    "        return zeta_data.data.edge_index2.shape[1]\n",
    "\n",
    "    def download(self):\n",
    "        pass\n",
    "\n",
    "    def process(self):\n",
    "        print(\"Creating Sizmek graph. . .\")\n",
    "        x1, edge_index1 = self.process_graph(\n",
    "            self.sizmek_df, \n",
    "            self.column[0], \n",
    "            self.feature_cols[\"sizmek\"][\"categorical\"])\n",
    "        print(\"Creating Zync graph. . .\")\n",
    "        x2, edge_index2 = self.process_graph(\n",
    "            self.zync_df, \n",
    "            self.column[1], \n",
    "            self.feature_cols[\"zync\"][\"categorical\"], \n",
    "            expand_x=1126)\n",
    "\n",
    "        train_y = self.process_y()\n",
    "        test_y = self.process_y()\n",
    "\n",
    "        data = Data(x1=x1, edge_index1=edge_index1, x2=x2,\n",
    "                    edge_index2=edge_index2, train_y=train_y,\n",
    "                    test_y=test_y)\n",
    "        torch.save(self.collate([data]), self.processed_paths[0])\n",
    "\n",
    "    def process_graph(self, df, column: str, feature_cols: List, expand_x: int=None):\n",
    "        #df = pd.read_csv(file_path, low_memory=False)\n",
    "        #df.columns = [i.split(\".\")[1] for i in df.columns]\n",
    "\n",
    "        # parse URLs\n",
    "        if self.parse_url == True and column in [\"url\", \"referrer\"]:\n",
    "            print(\"Parsing URL\")\n",
    "            df[column] = df[column].apply(\n",
    "                lambda x:funcs.urlparse(x).netloc if pd.notnull(x) else x\n",
    "            )\n",
    "\n",
    "        # Encode features\n",
    "        print(\"Encoding features\")\n",
    "        feature_enc = OneHotEncoder(handle_unknown=\"ignore\")\n",
    "        features = pd.DataFrame(\n",
    "            feature_enc.fit_transform(df[feature_cols]).toarray(), \n",
    "            columns=feature_enc.get_feature_names(feature_cols)\n",
    "        )\n",
    "        \n",
    "        if expand_x is not None:\n",
    "            print(f\"Expanding X to {expand_x}\")\n",
    "            new_cols = [f\"fake_{expand_x-i}\" for i in range(expand_x - features.shape[1])][::-1]\n",
    "            for col in new_cols:\n",
    "                features[col] = 0\n",
    "        x = torch.tensor(features.values, dtype=torch.float)\n",
    "        \n",
    "        #edges = funcs.connect_edges(df, column)\n",
    "        #edge_index = torch.tensor(\n",
    "        #    edges[['source','target']].T.values, dtype=torch.long\n",
    "        #)\n",
    "        print(f\"Creating edge list on {column}\")\n",
    "        edges = funcs.connect_edges_2(df, column)\n",
    "        edges = edges.sample(frac=.2)\n",
    "        edge_index = torch.tensor(\n",
    "            edges[[\"source\", \"target\"]].T.values, dtype=torch.long\n",
    "        )\n",
    "\n",
    "        return x, edge_index\n",
    "\n",
    "    def process_y(self) -> Tensor:\n",
    "        y_1 = torch.tensor([range(0,2_000)])[0]\n",
    "        y_2 = torch.tensor([range(0,2_000)])[0]\n",
    "        train_y = torch.stack([y_1, y_2], dim=0)\n",
    "        return train_y\n",
    "    \n",
    "    def __repr__(self) -> str:\n",
    "        return f\"{self.__class__.__name__}({self.edge_count_1:,}/{self.edge_count_2:,} edges)\"\n",
    "    \n",
    "class SumEmbedding(object):\n",
    "    def __call__(self, data):\n",
    "        data.x1, data.x2 = data.x1.sum(dim=1), data.x2.sum(dim=1)\n",
    "        return data"
   ]
  },
  {
   "cell_type": "code",
   "execution_count": 74,
   "metadata": {
    "execution": {
     "iopub.execute_input": "2021-09-10T14:14:36.136353Z",
     "iopub.status.busy": "2021-09-10T14:14:36.135948Z",
     "iopub.status.idle": "2021-09-10T14:14:36.153366Z",
     "shell.execute_reply": "2021-09-10T14:14:36.152713Z",
     "shell.execute_reply.started": "2021-09-10T14:14:36.136337Z"
    },
    "tags": []
   },
   "outputs": [],
   "source": [
    "#sizmek_small = sizmek_df.sample(n=20_000, random_state=0)\n",
    "#zync_small = zync_df.iloc[sizmek_small.index,:]\n",
    "\n",
    "sizmek_small = sizmek_df.copy()\n",
    "zync_small = zync_df.copy()"
   ]
  },
  {
   "cell_type": "code",
   "execution_count": 75,
   "metadata": {
    "execution": {
     "iopub.execute_input": "2021-09-10T14:14:36.293393Z",
     "iopub.status.busy": "2021-09-10T14:14:36.292891Z",
     "iopub.status.idle": "2021-09-10T14:14:36.660389Z",
     "shell.execute_reply": "2021-09-10T14:14:36.659774Z",
     "shell.execute_reply.started": "2021-09-10T14:14:36.293377Z"
    },
    "tags": []
   },
   "outputs": [
    {
     "name": "stdout",
     "output_type": "stream",
     "text": [
      "Processing...\n",
      "Creating Sizmek graph. . .\n",
      "Encoding features\n",
      "Creating edge list on url\n"
     ]
    },
    {
     "ename": "KeyboardInterrupt",
     "evalue": "",
     "output_type": "error",
     "traceback": [
      "\u001b[0;31m---------------------------------------------------------------------------\u001b[0m",
      "\u001b[0;31mKeyboardInterrupt\u001b[0m                         Traceback (most recent call last)",
      "\u001b[0;32m/tmp/ipykernel_25625/2063392915.py\u001b[0m in \u001b[0;36m<module>\u001b[0;34m\u001b[0m\n\u001b[1;32m     17\u001b[0m }\n\u001b[1;32m     18\u001b[0m \u001b[0;34m\u001b[0m\u001b[0m\n\u001b[0;32m---> 19\u001b[0;31m zeta_data = ZetaDataset(\n\u001b[0m\u001b[1;32m     20\u001b[0m     \u001b[0mroot\u001b[0m\u001b[0;34m=\u001b[0m\u001b[0;34m\"./data/\"\u001b[0m\u001b[0;34m,\u001b[0m\u001b[0;34m\u001b[0m\u001b[0;34m\u001b[0m\u001b[0m\n\u001b[1;32m     21\u001b[0m     \u001b[0msizmek_df\u001b[0m \u001b[0;34m=\u001b[0m \u001b[0msizmek_small\u001b[0m\u001b[0;34m,\u001b[0m\u001b[0;34m\u001b[0m\u001b[0;34m\u001b[0m\u001b[0m\n",
      "\u001b[0;32m/tmp/ipykernel_25625/4236620490.py\u001b[0m in \u001b[0;36m__init__\u001b[0;34m(self, root, sizmek_df, zync_df, column, label, feature_cols, parse_url, expand_x, transform, pre_transform)\u001b[0m\n\u001b[1;32m     12\u001b[0m         \u001b[0mself\u001b[0m\u001b[0;34m.\u001b[0m\u001b[0mparse_url\u001b[0m \u001b[0;34m=\u001b[0m \u001b[0mparse_url\u001b[0m\u001b[0;34m\u001b[0m\u001b[0;34m\u001b[0m\u001b[0m\n\u001b[1;32m     13\u001b[0m         \u001b[0mself\u001b[0m\u001b[0;34m.\u001b[0m\u001b[0mexpand_x\u001b[0m \u001b[0;34m=\u001b[0m \u001b[0mexpand_x\u001b[0m\u001b[0;34m\u001b[0m\u001b[0;34m\u001b[0m\u001b[0m\n\u001b[0;32m---> 14\u001b[0;31m         \u001b[0msuper\u001b[0m\u001b[0;34m(\u001b[0m\u001b[0mZetaDataset\u001b[0m\u001b[0;34m,\u001b[0m \u001b[0mself\u001b[0m\u001b[0;34m)\u001b[0m\u001b[0;34m.\u001b[0m\u001b[0m__init__\u001b[0m\u001b[0;34m(\u001b[0m\u001b[0mroot\u001b[0m\u001b[0;34m,\u001b[0m \u001b[0mtransform\u001b[0m\u001b[0;34m,\u001b[0m \u001b[0mpre_transform\u001b[0m\u001b[0;34m)\u001b[0m\u001b[0;34m\u001b[0m\u001b[0;34m\u001b[0m\u001b[0m\n\u001b[0m\u001b[1;32m     15\u001b[0m         \u001b[0mself\u001b[0m\u001b[0;34m.\u001b[0m\u001b[0mdata\u001b[0m\u001b[0;34m,\u001b[0m \u001b[0mself\u001b[0m\u001b[0;34m.\u001b[0m\u001b[0mslices\u001b[0m \u001b[0;34m=\u001b[0m \u001b[0mtorch\u001b[0m\u001b[0;34m.\u001b[0m\u001b[0mload\u001b[0m\u001b[0;34m(\u001b[0m\u001b[0mself\u001b[0m\u001b[0;34m.\u001b[0m\u001b[0mprocessed_paths\u001b[0m\u001b[0;34m[\u001b[0m\u001b[0;36m0\u001b[0m\u001b[0;34m]\u001b[0m\u001b[0;34m)\u001b[0m\u001b[0;34m\u001b[0m\u001b[0;34m\u001b[0m\u001b[0m\n\u001b[1;32m     16\u001b[0m         \u001b[0mprint\u001b[0m\u001b[0;34m(\u001b[0m\u001b[0;34m\"Removing processed file. . .\"\u001b[0m\u001b[0;34m)\u001b[0m\u001b[0;34m\u001b[0m\u001b[0;34m\u001b[0m\u001b[0m\n",
      "\u001b[0;32m~/anaconda/lib/python3.9/site-packages/torch_geometric/data/in_memory_dataset.py\u001b[0m in \u001b[0;36m__init__\u001b[0;34m(self, root, transform, pre_transform, pre_filter)\u001b[0m\n\u001b[1;32m     58\u001b[0m                  \u001b[0mpre_transform\u001b[0m\u001b[0;34m:\u001b[0m \u001b[0mOptional\u001b[0m\u001b[0;34m[\u001b[0m\u001b[0mCallable\u001b[0m\u001b[0;34m]\u001b[0m \u001b[0;34m=\u001b[0m \u001b[0;32mNone\u001b[0m\u001b[0;34m,\u001b[0m\u001b[0;34m\u001b[0m\u001b[0;34m\u001b[0m\u001b[0m\n\u001b[1;32m     59\u001b[0m                  pre_filter: Optional[Callable] = None):\n\u001b[0;32m---> 60\u001b[0;31m         \u001b[0msuper\u001b[0m\u001b[0;34m(\u001b[0m\u001b[0;34m)\u001b[0m\u001b[0;34m.\u001b[0m\u001b[0m__init__\u001b[0m\u001b[0;34m(\u001b[0m\u001b[0mroot\u001b[0m\u001b[0;34m,\u001b[0m \u001b[0mtransform\u001b[0m\u001b[0;34m,\u001b[0m \u001b[0mpre_transform\u001b[0m\u001b[0;34m,\u001b[0m \u001b[0mpre_filter\u001b[0m\u001b[0;34m)\u001b[0m\u001b[0;34m\u001b[0m\u001b[0;34m\u001b[0m\u001b[0m\n\u001b[0m\u001b[1;32m     61\u001b[0m         \u001b[0mself\u001b[0m\u001b[0;34m.\u001b[0m\u001b[0mdata\u001b[0m \u001b[0;34m=\u001b[0m \u001b[0;32mNone\u001b[0m\u001b[0;34m\u001b[0m\u001b[0;34m\u001b[0m\u001b[0m\n\u001b[1;32m     62\u001b[0m         \u001b[0mself\u001b[0m\u001b[0;34m.\u001b[0m\u001b[0mslices\u001b[0m \u001b[0;34m=\u001b[0m \u001b[0;32mNone\u001b[0m\u001b[0;34m\u001b[0m\u001b[0;34m\u001b[0m\u001b[0m\n",
      "\u001b[0;32m~/anaconda/lib/python3.9/site-packages/torch_geometric/data/dataset.py\u001b[0m in \u001b[0;36m__init__\u001b[0;34m(self, root, transform, pre_transform, pre_filter)\u001b[0m\n\u001b[1;32m     84\u001b[0m \u001b[0;34m\u001b[0m\u001b[0m\n\u001b[1;32m     85\u001b[0m         \u001b[0;32mif\u001b[0m \u001b[0;34m'process'\u001b[0m \u001b[0;32min\u001b[0m \u001b[0mself\u001b[0m\u001b[0;34m.\u001b[0m\u001b[0m__class__\u001b[0m\u001b[0;34m.\u001b[0m\u001b[0m__dict__\u001b[0m\u001b[0;34m.\u001b[0m\u001b[0mkeys\u001b[0m\u001b[0;34m(\u001b[0m\u001b[0;34m)\u001b[0m\u001b[0;34m:\u001b[0m\u001b[0;34m\u001b[0m\u001b[0;34m\u001b[0m\u001b[0m\n\u001b[0;32m---> 86\u001b[0;31m             \u001b[0mself\u001b[0m\u001b[0;34m.\u001b[0m\u001b[0m_process\u001b[0m\u001b[0;34m(\u001b[0m\u001b[0;34m)\u001b[0m\u001b[0;34m\u001b[0m\u001b[0;34m\u001b[0m\u001b[0m\n\u001b[0m\u001b[1;32m     87\u001b[0m \u001b[0;34m\u001b[0m\u001b[0m\n\u001b[1;32m     88\u001b[0m     \u001b[0;32mdef\u001b[0m \u001b[0mindices\u001b[0m\u001b[0;34m(\u001b[0m\u001b[0mself\u001b[0m\u001b[0;34m)\u001b[0m \u001b[0;34m->\u001b[0m \u001b[0mSequence\u001b[0m\u001b[0;34m:\u001b[0m\u001b[0;34m\u001b[0m\u001b[0;34m\u001b[0m\u001b[0m\n",
      "\u001b[0;32m~/anaconda/lib/python3.9/site-packages/torch_geometric/data/dataset.py\u001b[0m in \u001b[0;36m_process\u001b[0;34m(self)\u001b[0m\n\u001b[1;32m    163\u001b[0m \u001b[0;34m\u001b[0m\u001b[0m\n\u001b[1;32m    164\u001b[0m         \u001b[0mmakedirs\u001b[0m\u001b[0;34m(\u001b[0m\u001b[0mself\u001b[0m\u001b[0;34m.\u001b[0m\u001b[0mprocessed_dir\u001b[0m\u001b[0;34m)\u001b[0m\u001b[0;34m\u001b[0m\u001b[0;34m\u001b[0m\u001b[0m\n\u001b[0;32m--> 165\u001b[0;31m         \u001b[0mself\u001b[0m\u001b[0;34m.\u001b[0m\u001b[0mprocess\u001b[0m\u001b[0;34m(\u001b[0m\u001b[0;34m)\u001b[0m\u001b[0;34m\u001b[0m\u001b[0;34m\u001b[0m\u001b[0m\n\u001b[0m\u001b[1;32m    166\u001b[0m \u001b[0;34m\u001b[0m\u001b[0m\n\u001b[1;32m    167\u001b[0m         \u001b[0mpath\u001b[0m \u001b[0;34m=\u001b[0m \u001b[0mosp\u001b[0m\u001b[0;34m.\u001b[0m\u001b[0mjoin\u001b[0m\u001b[0;34m(\u001b[0m\u001b[0mself\u001b[0m\u001b[0;34m.\u001b[0m\u001b[0mprocessed_dir\u001b[0m\u001b[0;34m,\u001b[0m \u001b[0;34m'pre_transform.pt'\u001b[0m\u001b[0;34m)\u001b[0m\u001b[0;34m\u001b[0m\u001b[0;34m\u001b[0m\u001b[0m\n",
      "\u001b[0;32m/tmp/ipykernel_25625/4236620490.py\u001b[0m in \u001b[0;36mprocess\u001b[0;34m(self)\u001b[0m\n\u001b[1;32m     41\u001b[0m     \u001b[0;32mdef\u001b[0m \u001b[0mprocess\u001b[0m\u001b[0;34m(\u001b[0m\u001b[0mself\u001b[0m\u001b[0;34m)\u001b[0m\u001b[0;34m:\u001b[0m\u001b[0;34m\u001b[0m\u001b[0;34m\u001b[0m\u001b[0m\n\u001b[1;32m     42\u001b[0m         \u001b[0mprint\u001b[0m\u001b[0;34m(\u001b[0m\u001b[0;34m\"Creating Sizmek graph. . .\"\u001b[0m\u001b[0;34m)\u001b[0m\u001b[0;34m\u001b[0m\u001b[0;34m\u001b[0m\u001b[0m\n\u001b[0;32m---> 43\u001b[0;31m         x1, edge_index1 = self.process_graph(\n\u001b[0m\u001b[1;32m     44\u001b[0m             \u001b[0mself\u001b[0m\u001b[0;34m.\u001b[0m\u001b[0msizmek_df\u001b[0m\u001b[0;34m,\u001b[0m\u001b[0;34m\u001b[0m\u001b[0;34m\u001b[0m\u001b[0m\n\u001b[1;32m     45\u001b[0m             \u001b[0mself\u001b[0m\u001b[0;34m.\u001b[0m\u001b[0mcolumn\u001b[0m\u001b[0;34m[\u001b[0m\u001b[0;36m0\u001b[0m\u001b[0;34m]\u001b[0m\u001b[0;34m,\u001b[0m\u001b[0;34m\u001b[0m\u001b[0;34m\u001b[0m\u001b[0m\n",
      "\u001b[0;32m/tmp/ipykernel_25625/4236620490.py\u001b[0m in \u001b[0;36mprocess_graph\u001b[0;34m(self, df, column, feature_cols, expand_x)\u001b[0m\n\u001b[1;32m     91\u001b[0m         \u001b[0;31m#)\u001b[0m\u001b[0;34m\u001b[0m\u001b[0;34m\u001b[0m\u001b[0;34m\u001b[0m\u001b[0m\n\u001b[1;32m     92\u001b[0m         \u001b[0mprint\u001b[0m\u001b[0;34m(\u001b[0m\u001b[0;34mf\"Creating edge list on {column}\"\u001b[0m\u001b[0;34m)\u001b[0m\u001b[0;34m\u001b[0m\u001b[0;34m\u001b[0m\u001b[0m\n\u001b[0;32m---> 93\u001b[0;31m         \u001b[0medges\u001b[0m \u001b[0;34m=\u001b[0m \u001b[0mfuncs\u001b[0m\u001b[0;34m.\u001b[0m\u001b[0mconnect_edges_2\u001b[0m\u001b[0;34m(\u001b[0m\u001b[0mdf\u001b[0m\u001b[0;34m,\u001b[0m \u001b[0mcolumn\u001b[0m\u001b[0;34m)\u001b[0m\u001b[0;34m\u001b[0m\u001b[0;34m\u001b[0m\u001b[0m\n\u001b[0m\u001b[1;32m     94\u001b[0m         \u001b[0medges\u001b[0m \u001b[0;34m=\u001b[0m \u001b[0medges\u001b[0m\u001b[0;34m.\u001b[0m\u001b[0msample\u001b[0m\u001b[0;34m(\u001b[0m\u001b[0mfrac\u001b[0m\u001b[0;34m=\u001b[0m\u001b[0;36m.2\u001b[0m\u001b[0;34m)\u001b[0m\u001b[0;34m\u001b[0m\u001b[0;34m\u001b[0m\u001b[0m\n\u001b[1;32m     95\u001b[0m         edge_index = torch.tensor(\n",
      "\u001b[0;32m~/GNN-playground/funcs.py\u001b[0m in \u001b[0;36mconnect_edges_2\u001b[0;34m(df, column)\u001b[0m\n\u001b[1;32m     69\u001b[0m                 \u001b[0;32mfor\u001b[0m \u001b[0mitem\u001b[0m \u001b[0;32min\u001b[0m \u001b[0mlookup_dict\u001b[0m\u001b[0;34m[\u001b[0m\u001b[0mvalue\u001b[0m\u001b[0;34m]\u001b[0m\u001b[0;34m:\u001b[0m\u001b[0;34m\u001b[0m\u001b[0;34m\u001b[0m\u001b[0m\n\u001b[1;32m     70\u001b[0m                     \u001b[0medges\u001b[0m\u001b[0;34m.\u001b[0m\u001b[0mappend\u001b[0m\u001b[0;34m(\u001b[0m\u001b[0;34m(\u001b[0m\u001b[0mix\u001b[0m\u001b[0;34m,\u001b[0m \u001b[0mitem\u001b[0m\u001b[0;34m,\u001b[0m \u001b[0mcolumn\u001b[0m\u001b[0;34m,\u001b[0m \u001b[0mvalue\u001b[0m\u001b[0;34m)\u001b[0m\u001b[0;34m)\u001b[0m\u001b[0;34m\u001b[0m\u001b[0;34m\u001b[0m\u001b[0m\n\u001b[0;32m---> 71\u001b[0;31m     \u001b[0medges\u001b[0m \u001b[0;34m=\u001b[0m \u001b[0mpd\u001b[0m\u001b[0;34m.\u001b[0m\u001b[0mDataFrame\u001b[0m\u001b[0;34m(\u001b[0m\u001b[0medges\u001b[0m\u001b[0;34m,\u001b[0m \u001b[0mcolumns\u001b[0m\u001b[0;34m=\u001b[0m\u001b[0;34m[\u001b[0m\u001b[0;34m\"source\"\u001b[0m\u001b[0;34m,\u001b[0m\u001b[0;34m\"target\"\u001b[0m\u001b[0;34m,\u001b[0m\u001b[0;34m\"column\"\u001b[0m\u001b[0;34m,\u001b[0m\u001b[0;34m\"value\"\u001b[0m\u001b[0;34m]\u001b[0m\u001b[0;34m)\u001b[0m\u001b[0;34m\u001b[0m\u001b[0;34m\u001b[0m\u001b[0m\n\u001b[0m\u001b[1;32m     72\u001b[0m     \u001b[0;32mreturn\u001b[0m \u001b[0medges\u001b[0m\u001b[0;34m\u001b[0m\u001b[0;34m\u001b[0m\u001b[0m\n\u001b[1;32m     73\u001b[0m \u001b[0;34m\u001b[0m\u001b[0m\n",
      "\u001b[0;32m~/anaconda/lib/python3.9/site-packages/pandas/core/frame.py\u001b[0m in \u001b[0;36m__init__\u001b[0;34m(self, data, index, columns, dtype, copy)\u001b[0m\n\u001b[1;32m    692\u001b[0m                         \u001b[0;31m# ndarray], Index, Series], Sequence[Any]]\"\u001b[0m\u001b[0;34m\u001b[0m\u001b[0;34m\u001b[0m\u001b[0;34m\u001b[0m\u001b[0m\n\u001b[1;32m    693\u001b[0m                         \u001b[0mcolumns\u001b[0m \u001b[0;34m=\u001b[0m \u001b[0mensure_index\u001b[0m\u001b[0;34m(\u001b[0m\u001b[0mcolumns\u001b[0m\u001b[0;34m)\u001b[0m  \u001b[0;31m# type: ignore[arg-type]\u001b[0m\u001b[0;34m\u001b[0m\u001b[0;34m\u001b[0m\u001b[0m\n\u001b[0;32m--> 694\u001b[0;31m                     arrays, columns, index = nested_data_to_arrays(\n\u001b[0m\u001b[1;32m    695\u001b[0m                         \u001b[0;31m# error: Argument 3 to \"nested_data_to_arrays\" has incompatible\u001b[0m\u001b[0;34m\u001b[0m\u001b[0;34m\u001b[0m\u001b[0;34m\u001b[0m\u001b[0m\n\u001b[1;32m    696\u001b[0m                         \u001b[0;31m# type \"Optional[Collection[Any]]\"; expected \"Optional[Index]\"\u001b[0m\u001b[0;34m\u001b[0m\u001b[0;34m\u001b[0m\u001b[0;34m\u001b[0m\u001b[0m\n",
      "\u001b[0;32m~/anaconda/lib/python3.9/site-packages/pandas/core/internals/construction.py\u001b[0m in \u001b[0;36mnested_data_to_arrays\u001b[0;34m(data, columns, index, dtype)\u001b[0m\n\u001b[1;32m    479\u001b[0m         \u001b[0mcolumns\u001b[0m \u001b[0;34m=\u001b[0m \u001b[0mensure_index\u001b[0m\u001b[0;34m(\u001b[0m\u001b[0mdata\u001b[0m\u001b[0;34m[\u001b[0m\u001b[0;36m0\u001b[0m\u001b[0;34m]\u001b[0m\u001b[0;34m.\u001b[0m\u001b[0m_fields\u001b[0m\u001b[0;34m)\u001b[0m\u001b[0;34m\u001b[0m\u001b[0;34m\u001b[0m\u001b[0m\n\u001b[1;32m    480\u001b[0m \u001b[0;34m\u001b[0m\u001b[0m\n\u001b[0;32m--> 481\u001b[0;31m     \u001b[0marrays\u001b[0m\u001b[0;34m,\u001b[0m \u001b[0mcolumns\u001b[0m \u001b[0;34m=\u001b[0m \u001b[0mto_arrays\u001b[0m\u001b[0;34m(\u001b[0m\u001b[0mdata\u001b[0m\u001b[0;34m,\u001b[0m \u001b[0mcolumns\u001b[0m\u001b[0;34m,\u001b[0m \u001b[0mdtype\u001b[0m\u001b[0;34m=\u001b[0m\u001b[0mdtype\u001b[0m\u001b[0;34m)\u001b[0m\u001b[0;34m\u001b[0m\u001b[0;34m\u001b[0m\u001b[0m\n\u001b[0m\u001b[1;32m    482\u001b[0m     \u001b[0mcolumns\u001b[0m \u001b[0;34m=\u001b[0m \u001b[0mensure_index\u001b[0m\u001b[0;34m(\u001b[0m\u001b[0mcolumns\u001b[0m\u001b[0;34m)\u001b[0m\u001b[0;34m\u001b[0m\u001b[0;34m\u001b[0m\u001b[0m\n\u001b[1;32m    483\u001b[0m \u001b[0;34m\u001b[0m\u001b[0m\n",
      "\u001b[0;32m~/anaconda/lib/python3.9/site-packages/pandas/core/internals/construction.py\u001b[0m in \u001b[0;36mto_arrays\u001b[0;34m(data, columns, dtype)\u001b[0m\n\u001b[1;32m    785\u001b[0m         \u001b[0marr\u001b[0m \u001b[0;34m=\u001b[0m \u001b[0m_list_to_arrays\u001b[0m\u001b[0;34m(\u001b[0m\u001b[0mdata\u001b[0m\u001b[0;34m)\u001b[0m\u001b[0;34m\u001b[0m\u001b[0;34m\u001b[0m\u001b[0m\n\u001b[1;32m    786\u001b[0m \u001b[0;34m\u001b[0m\u001b[0m\n\u001b[0;32m--> 787\u001b[0;31m     \u001b[0mcontent\u001b[0m\u001b[0;34m,\u001b[0m \u001b[0mcolumns\u001b[0m \u001b[0;34m=\u001b[0m \u001b[0m_finalize_columns_and_data\u001b[0m\u001b[0;34m(\u001b[0m\u001b[0marr\u001b[0m\u001b[0;34m,\u001b[0m \u001b[0mcolumns\u001b[0m\u001b[0;34m,\u001b[0m \u001b[0mdtype\u001b[0m\u001b[0;34m)\u001b[0m\u001b[0;34m\u001b[0m\u001b[0;34m\u001b[0m\u001b[0m\n\u001b[0m\u001b[1;32m    788\u001b[0m     \u001b[0;32mreturn\u001b[0m \u001b[0mcontent\u001b[0m\u001b[0;34m,\u001b[0m \u001b[0mcolumns\u001b[0m\u001b[0;34m\u001b[0m\u001b[0;34m\u001b[0m\u001b[0m\n\u001b[1;32m    789\u001b[0m \u001b[0;34m\u001b[0m\u001b[0m\n",
      "\u001b[0;32m~/anaconda/lib/python3.9/site-packages/pandas/core/internals/construction.py\u001b[0m in \u001b[0;36m_finalize_columns_and_data\u001b[0;34m(content, columns, dtype)\u001b[0m\n\u001b[1;32m    890\u001b[0m \u001b[0;34m\u001b[0m\u001b[0m\n\u001b[1;32m    891\u001b[0m     \u001b[0;32mif\u001b[0m \u001b[0mlen\u001b[0m\u001b[0;34m(\u001b[0m\u001b[0mcontents\u001b[0m\u001b[0;34m)\u001b[0m \u001b[0;32mand\u001b[0m \u001b[0mcontents\u001b[0m\u001b[0;34m[\u001b[0m\u001b[0;36m0\u001b[0m\u001b[0;34m]\u001b[0m\u001b[0;34m.\u001b[0m\u001b[0mdtype\u001b[0m \u001b[0;34m==\u001b[0m \u001b[0mnp\u001b[0m\u001b[0;34m.\u001b[0m\u001b[0mobject_\u001b[0m\u001b[0;34m:\u001b[0m\u001b[0;34m\u001b[0m\u001b[0;34m\u001b[0m\u001b[0m\n\u001b[0;32m--> 892\u001b[0;31m         \u001b[0mcontents\u001b[0m \u001b[0;34m=\u001b[0m \u001b[0m_convert_object_array\u001b[0m\u001b[0;34m(\u001b[0m\u001b[0mcontents\u001b[0m\u001b[0;34m,\u001b[0m \u001b[0mdtype\u001b[0m\u001b[0;34m=\u001b[0m\u001b[0mdtype\u001b[0m\u001b[0;34m)\u001b[0m\u001b[0;34m\u001b[0m\u001b[0;34m\u001b[0m\u001b[0m\n\u001b[0m\u001b[1;32m    893\u001b[0m \u001b[0;34m\u001b[0m\u001b[0m\n\u001b[1;32m    894\u001b[0m     \u001b[0;32mreturn\u001b[0m \u001b[0mcontents\u001b[0m\u001b[0;34m,\u001b[0m \u001b[0mcolumns\u001b[0m\u001b[0;34m\u001b[0m\u001b[0;34m\u001b[0m\u001b[0m\n",
      "\u001b[0;32m~/anaconda/lib/python3.9/site-packages/pandas/core/internals/construction.py\u001b[0m in \u001b[0;36m_convert_object_array\u001b[0;34m(content, dtype)\u001b[0m\n\u001b[1;32m    975\u001b[0m         \u001b[0;32mreturn\u001b[0m \u001b[0marr\u001b[0m\u001b[0;34m\u001b[0m\u001b[0;34m\u001b[0m\u001b[0m\n\u001b[1;32m    976\u001b[0m \u001b[0;34m\u001b[0m\u001b[0m\n\u001b[0;32m--> 977\u001b[0;31m     \u001b[0marrays\u001b[0m \u001b[0;34m=\u001b[0m \u001b[0;34m[\u001b[0m\u001b[0mconvert\u001b[0m\u001b[0;34m(\u001b[0m\u001b[0marr\u001b[0m\u001b[0;34m)\u001b[0m \u001b[0;32mfor\u001b[0m \u001b[0marr\u001b[0m \u001b[0;32min\u001b[0m \u001b[0mcontent\u001b[0m\u001b[0;34m]\u001b[0m\u001b[0;34m\u001b[0m\u001b[0;34m\u001b[0m\u001b[0m\n\u001b[0m\u001b[1;32m    978\u001b[0m \u001b[0;34m\u001b[0m\u001b[0m\n\u001b[1;32m    979\u001b[0m     \u001b[0;32mreturn\u001b[0m \u001b[0marrays\u001b[0m\u001b[0;34m\u001b[0m\u001b[0;34m\u001b[0m\u001b[0m\n",
      "\u001b[0;32m~/anaconda/lib/python3.9/site-packages/pandas/core/internals/construction.py\u001b[0m in \u001b[0;36m<listcomp>\u001b[0;34m(.0)\u001b[0m\n\u001b[1;32m    975\u001b[0m         \u001b[0;32mreturn\u001b[0m \u001b[0marr\u001b[0m\u001b[0;34m\u001b[0m\u001b[0;34m\u001b[0m\u001b[0m\n\u001b[1;32m    976\u001b[0m \u001b[0;34m\u001b[0m\u001b[0m\n\u001b[0;32m--> 977\u001b[0;31m     \u001b[0marrays\u001b[0m \u001b[0;34m=\u001b[0m \u001b[0;34m[\u001b[0m\u001b[0mconvert\u001b[0m\u001b[0;34m(\u001b[0m\u001b[0marr\u001b[0m\u001b[0;34m)\u001b[0m \u001b[0;32mfor\u001b[0m \u001b[0marr\u001b[0m \u001b[0;32min\u001b[0m \u001b[0mcontent\u001b[0m\u001b[0;34m]\u001b[0m\u001b[0;34m\u001b[0m\u001b[0;34m\u001b[0m\u001b[0m\n\u001b[0m\u001b[1;32m    978\u001b[0m \u001b[0;34m\u001b[0m\u001b[0m\n\u001b[1;32m    979\u001b[0m     \u001b[0;32mreturn\u001b[0m \u001b[0marrays\u001b[0m\u001b[0;34m\u001b[0m\u001b[0;34m\u001b[0m\u001b[0m\n",
      "\u001b[0;32m~/anaconda/lib/python3.9/site-packages/pandas/core/internals/construction.py\u001b[0m in \u001b[0;36mconvert\u001b[0;34m(arr)\u001b[0m\n\u001b[1;32m    971\u001b[0m     \u001b[0;32mdef\u001b[0m \u001b[0mconvert\u001b[0m\u001b[0;34m(\u001b[0m\u001b[0marr\u001b[0m\u001b[0;34m)\u001b[0m\u001b[0;34m:\u001b[0m\u001b[0;34m\u001b[0m\u001b[0;34m\u001b[0m\u001b[0m\n\u001b[1;32m    972\u001b[0m         \u001b[0;32mif\u001b[0m \u001b[0mdtype\u001b[0m \u001b[0;34m!=\u001b[0m \u001b[0mnp\u001b[0m\u001b[0;34m.\u001b[0m\u001b[0mdtype\u001b[0m\u001b[0;34m(\u001b[0m\u001b[0;34m\"O\"\u001b[0m\u001b[0;34m)\u001b[0m\u001b[0;34m:\u001b[0m\u001b[0;34m\u001b[0m\u001b[0;34m\u001b[0m\u001b[0m\n\u001b[0;32m--> 973\u001b[0;31m             \u001b[0marr\u001b[0m \u001b[0;34m=\u001b[0m \u001b[0mlib\u001b[0m\u001b[0;34m.\u001b[0m\u001b[0mmaybe_convert_objects\u001b[0m\u001b[0;34m(\u001b[0m\u001b[0marr\u001b[0m\u001b[0;34m)\u001b[0m\u001b[0;34m\u001b[0m\u001b[0;34m\u001b[0m\u001b[0m\n\u001b[0m\u001b[1;32m    974\u001b[0m             \u001b[0marr\u001b[0m \u001b[0;34m=\u001b[0m \u001b[0mmaybe_cast_to_datetime\u001b[0m\u001b[0;34m(\u001b[0m\u001b[0marr\u001b[0m\u001b[0;34m,\u001b[0m \u001b[0mdtype\u001b[0m\u001b[0;34m)\u001b[0m\u001b[0;34m\u001b[0m\u001b[0;34m\u001b[0m\u001b[0m\n\u001b[1;32m    975\u001b[0m         \u001b[0;32mreturn\u001b[0m \u001b[0marr\u001b[0m\u001b[0;34m\u001b[0m\u001b[0;34m\u001b[0m\u001b[0m\n",
      "\u001b[0;31mKeyboardInterrupt\u001b[0m: "
     ]
    }
   ],
   "source": [
    "feature_cols = {\n",
    "    \"sizmek\": {\n",
    "        \"categorical\": [\n",
    "            \"account_id\", \"city_code\", \"state_code\",\n",
    "            \"dma_code\", \"country_code\", \"sizmek_ip\"\n",
    "        ],\n",
    "        \"numeric\": []\n",
    "    },\n",
    "    \"zync\": {\n",
    "        \"categorical\": [\n",
    "            \"client\", \"user_agent_platform\", \"user_agent_language\", \n",
    "            \"user_agent_browser\", \"zync_ip\", \"zync_country\",\n",
    "            \"zync_state\", \"zync_city\"\n",
    "        ],\n",
    "        \"numeric\": [\"zync_lat\", \"zync_long\"]\n",
    "    }\n",
    "}\n",
    "\n",
    "zeta_data = ZetaDataset(\n",
    "    root=\"./data/\",\n",
    "    sizmek_df = sizmek_small,\n",
    "    zync_df = zync_small,\n",
    "    column=[\"url\", \"referrer\"],\n",
    "    label=[\"zeta_user_id\", \"client_id\"],\n",
    "    feature_cols=feature_cols,\n",
    "    parse_url=False,\n",
    "    transform=SumEmbedding()\n",
    ")\n",
    "zeta_data"
   ]
  },
  {
   "cell_type": "code",
   "execution_count": null,
   "metadata": {
    "execution": {
     "iopub.execute_input": "2021-09-10T14:14:36.661577Z",
     "iopub.status.busy": "2021-09-10T14:14:36.661286Z",
     "iopub.status.idle": "2021-09-10T14:14:36.710999Z",
     "shell.execute_reply": "2021-09-10T14:14:36.710338Z",
     "shell.execute_reply.started": "2021-09-10T14:14:36.661556Z"
    },
    "tags": []
   },
   "outputs": [],
   "source": [
    "import argparse\n",
    "\n",
    "parser = argparse.ArgumentParser()\n",
    "parser.add_argument('--dim', type=int, default=256)\n",
    "parser.add_argument('--rnd_dim', type=int, default=32)\n",
    "parser.add_argument('--num_layers', type=int, default=3)\n",
    "parser.add_argument('--num_steps', type=int, default=10)\n",
    "parser.add_argument('--k', type=int, default=10)\n",
    "args = parser.parse_args(\"\")\n",
    "\n",
    "\n",
    "psi_1 = dgmc.models.RelCNN(zeta_data.data.x1.size(-1), args.dim, args.num_layers, batch_norm=False,\n",
    "               cat=True, lin=True, dropout=0.1)\n",
    "psi_2 = dgmc.models.RelCNN(args.rnd_dim, args.rnd_dim, args.num_layers, batch_norm=False,\n",
    "               cat=True, lin=True, dropout=0.0)\n",
    "\n",
    "psi_1\n",
    "#psi_2"
   ]
  },
  {
   "cell_type": "code",
   "execution_count": null,
   "metadata": {
    "execution": {
     "iopub.execute_input": "2021-09-10T14:14:36.712097Z",
     "iopub.status.busy": "2021-09-10T14:14:36.711766Z",
     "iopub.status.idle": "2021-09-10T14:14:36.738896Z",
     "shell.execute_reply": "2021-09-10T14:14:36.738089Z",
     "shell.execute_reply.started": "2021-09-10T14:14:36.712082Z"
    },
    "tags": []
   },
   "outputs": [],
   "source": [
    "model = dgmc.models.DGMC(psi_1, psi_2, num_steps=None, k=args.k).to(device)\n",
    "optimizer = torch.optim.Adam(model.parameters(), lr=0.0001)\n",
    "data = zeta_data.data\n",
    "\n",
    "def train():\n",
    "    model.train()\n",
    "    optimizer.zero_grad()\n",
    "\n",
    "    _, S_L = model(data.x1, data.edge_index1, None, None, data.x2,\n",
    "                   data.edge_index2, None, None, data.train_y)\n",
    "\n",
    "    loss = model.loss(S_L, data.train_y)\n",
    "    loss.backward()\n",
    "    optimizer.step()\n",
    "    return loss\n",
    "\n",
    "@torch.no_grad()\n",
    "def test():\n",
    "    model.eval()\n",
    "\n",
    "    _, S_L = model(data.x1, data.edge_index1, None, None, data.x2,\n",
    "                   data.edge_index2, None, None)\n",
    "\n",
    "    hits1 = model.acc(S_L, data.test_y)\n",
    "    hits10 = model.hits_at_k(10, S_L, data.test_y)\n",
    "\n",
    "    return hits1, hits10"
   ]
  },
  {
   "cell_type": "code",
   "execution_count": null,
   "metadata": {
    "execution": {
     "iopub.execute_input": "2021-09-10T14:14:37.125615Z",
     "iopub.status.busy": "2021-09-10T14:14:37.125102Z"
    },
    "tags": []
   },
   "outputs": [],
   "source": [
    "model.cuda()\n",
    "zeta_data.data.cuda()\n",
    "\n",
    "model.num_steps = 0\n",
    "with torch.profiler.profile(\n",
    "    schedule=torch.profiler.schedule(\n",
    "        wait=2,\n",
    "        warmup=2,\n",
    "        active=6,\n",
    "        repeat=1),\n",
    "    on_trace_ready=torch.profiler.tensorboard_trace_handler(\"./logs/gnn_v5\"),\n",
    "    with_stack=True\n",
    ") as profiler:\n",
    "    for epoch in range(1, 5000):\n",
    "        print(\"Epoch: {}\".format(epoch))\n",
    "        if epoch == 101:\n",
    "            print('Refine correspondence matrix...')\n",
    "            model.num_steps = args.num_steps\n",
    "            model.detach = True\n",
    "\n",
    "        loss = train()\n",
    "        profiler.step()\n",
    "        \n",
    "        if epoch % 5 == 0:\n",
    "            hits1, hits10 = test()\n",
    "            print((f\"{epoch:03d}: Loss: {loss:.4f}, Hits@1: {hits1:.4f}, \"\n",
    "               f\"Hits@10: {hits10:.4f}\"))"
   ]
  },
  {
   "cell_type": "raw",
   "metadata": {
    "execution": {
     "iopub.status.busy": "2021-09-09T14:42:14.653161Z",
     "iopub.status.idle": "2021-09-09T14:42:14.653355Z",
     "shell.execute_reply": "2021-09-09T14:42:14.653265Z",
     "shell.execute_reply.started": "2021-09-09T14:42:14.653255Z"
    },
    "jupyter": {
     "outputs_hidden": true
    },
    "tags": []
   },
   "source": [
    "print('Optimize initial feature matching...')\n",
    "model.num_steps = 0\n",
    "for epoch in range(1, 6):\n",
    "    if epoch == 3:\n",
    "        print('Refine correspondence matrix...')\n",
    "        model.num_steps = args.num_steps\n",
    "        model.detach = True\n",
    "\n",
    "    loss = train()\n",
    "\n",
    "    #if epoch % 10 == 0 or epoch > 100:\n",
    "    if True:\n",
    "        hits1, hits10 = test()\n",
    "        print((f'{epoch:03d}: Loss: {loss:.4f}, Hits@1: {hits1:.4f}, '\n",
    "               f'Hits@10: {hits10:.4f}'))"
   ]
  },
  {
   "cell_type": "code",
   "execution_count": null,
   "metadata": {},
   "outputs": [],
   "source": []
  }
 ],
 "metadata": {
  "kernelspec": {
   "display_name": "torch",
   "language": "python",
   "name": "torch"
  },
  "language_info": {
   "codemirror_mode": {
    "name": "ipython",
    "version": 3
   },
   "file_extension": ".py",
   "mimetype": "text/x-python",
   "name": "python",
   "nbconvert_exporter": "python",
   "pygments_lexer": "ipython3",
   "version": "3.9.5"
  }
 },
 "nbformat": 4,
 "nbformat_minor": 5
}
