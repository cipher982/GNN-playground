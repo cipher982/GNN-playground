{
 "cells": [
  {
   "cell_type": "code",
   "execution_count": 2,
   "metadata": {
    "execution": {
     "iopub.execute_input": "2021-09-10T14:11:39.843642Z",
     "iopub.status.busy": "2021-09-10T14:11:39.843224Z",
     "iopub.status.idle": "2021-09-10T14:11:41.294569Z",
     "shell.execute_reply": "2021-09-10T14:11:41.293908Z",
     "shell.execute_reply.started": "2021-09-10T14:11:39.843622Z"
    },
    "tags": []
   },
   "outputs": [
    {
     "data": {
      "text/plain": [
       "'cpu'"
      ]
     },
     "execution_count": 2,
     "metadata": {},
     "output_type": "execute_result"
    }
   ],
   "source": [
    "import os\n",
    "import random\n",
    "import sys\n",
    "from typing import Optional, Callable, List, Dict, Tuple\n",
    "\n",
    "import dgmc\n",
    "import pandas as pd\n",
    "from sklearn.preprocessing import OneHotEncoder, LabelEncoder\n",
    "\n",
    "import torch\n",
    "from torch import Tensor\n",
    "import funcs\n",
    "#import pytorch_lightning as pl\n",
    "from torch.nn import Linear\n",
    "from torch_geometric.nn import GCNConv\n",
    "from torch_geometric.data import Data\n",
    "import torch_geometric\n",
    "\n",
    "%reload_ext autoreload\n",
    "%autoreload 2\n",
    "\n",
    "#device = 'cuda' if torch.cuda.is_available() else 'cpu'\n",
    "device = 'cpu'\n",
    "device"
   ]
  },
  {
   "cell_type": "code",
   "execution_count": 3,
   "metadata": {
    "execution": {
     "iopub.execute_input": "2021-09-10T14:11:41.295753Z",
     "iopub.status.busy": "2021-09-10T14:11:41.295473Z",
     "iopub.status.idle": "2021-09-10T14:11:48.143268Z",
     "shell.execute_reply": "2021-09-10T14:11:48.142686Z",
     "shell.execute_reply.started": "2021-09-10T14:11:41.295737Z"
    },
    "tags": []
   },
   "outputs": [
    {
     "name": "stdout",
     "output_type": "stream",
     "text": [
      "Shape: 793,073 Memory: 1.55GB\n"
     ]
    }
   ],
   "source": [
    "file_path = f\"s3://drose-sandbox/sizmek_zync_cleaned_793k.csv\"\n",
    "\n",
    "df_raw = pd.read_csv(file_path, dtype=\"str\")\n",
    "print(f\"Shape: {df_raw.shape[0]:,} Memory: {df_raw.memory_usage(deep=True).sum()/1e9:.2f}GB\")"
   ]
  },
  {
   "cell_type": "code",
   "execution_count": 4,
   "metadata": {},
   "outputs": [
    {
     "data": {
      "text/html": [
       "<div>\n",
       "<style scoped>\n",
       "    .dataframe tbody tr th:only-of-type {\n",
       "        vertical-align: middle;\n",
       "    }\n",
       "\n",
       "    .dataframe tbody tr th {\n",
       "        vertical-align: top;\n",
       "    }\n",
       "\n",
       "    .dataframe thead th {\n",
       "        text-align: right;\n",
       "    }\n",
       "</style>\n",
       "<table border=\"1\" class=\"dataframe\">\n",
       "  <thead>\n",
       "    <tr style=\"text-align: right;\">\n",
       "      <th></th>\n",
       "      <th>0</th>\n",
       "    </tr>\n",
       "  </thead>\n",
       "  <tbody>\n",
       "    <tr>\n",
       "      <th>Unnamed: 0</th>\n",
       "      <td>0</td>\n",
       "    </tr>\n",
       "    <tr>\n",
       "      <th>account_id</th>\n",
       "      <td>19967</td>\n",
       "    </tr>\n",
       "    <tr>\n",
       "      <th>url</th>\n",
       "      <td>tvguide.com</td>\n",
       "    </tr>\n",
       "    <tr>\n",
       "      <th>city_code</th>\n",
       "      <td>5731371</td>\n",
       "    </tr>\n",
       "    <tr>\n",
       "      <th>state_code</th>\n",
       "      <td>OR</td>\n",
       "    </tr>\n",
       "    <tr>\n",
       "      <th>dma_code</th>\n",
       "      <td>820</td>\n",
       "    </tr>\n",
       "    <tr>\n",
       "      <th>country_code</th>\n",
       "      <td>US</td>\n",
       "    </tr>\n",
       "    <tr>\n",
       "      <th>user_id</th>\n",
       "      <td>5314600042548863</td>\n",
       "    </tr>\n",
       "    <tr>\n",
       "      <th>session_id</th>\n",
       "      <td>d1b6ae4f-7582-42d9-90bc-9b793bcc9ca7:162949223...</td>\n",
       "    </tr>\n",
       "    <tr>\n",
       "      <th>referrer</th>\n",
       "      <td>https://www.google.com/</td>\n",
       "    </tr>\n",
       "    <tr>\n",
       "      <th>client</th>\n",
       "      <td>sizmek</td>\n",
       "    </tr>\n",
       "    <tr>\n",
       "      <th>user_agent_platform</th>\n",
       "      <td>windows</td>\n",
       "    </tr>\n",
       "    <tr>\n",
       "      <th>user_agent_language</th>\n",
       "      <td>missing</td>\n",
       "    </tr>\n",
       "    <tr>\n",
       "      <th>user_agent_browser</th>\n",
       "      <td>chrome</td>\n",
       "    </tr>\n",
       "    <tr>\n",
       "      <th>zeta_user_id</th>\n",
       "      <td>missing</td>\n",
       "    </tr>\n",
       "    <tr>\n",
       "      <th>sizmek_ip</th>\n",
       "      <td>other</td>\n",
       "    </tr>\n",
       "    <tr>\n",
       "      <th>zync_ip</th>\n",
       "      <td>other</td>\n",
       "    </tr>\n",
       "    <tr>\n",
       "      <th>zync_country</th>\n",
       "      <td>US</td>\n",
       "    </tr>\n",
       "    <tr>\n",
       "      <th>zync_state</th>\n",
       "      <td>OR</td>\n",
       "    </tr>\n",
       "    <tr>\n",
       "      <th>zync_city</th>\n",
       "      <td>Hillsboro</td>\n",
       "    </tr>\n",
       "    <tr>\n",
       "      <th>zync_lat</th>\n",
       "      <td>45.5397</td>\n",
       "    </tr>\n",
       "    <tr>\n",
       "      <th>zync_long</th>\n",
       "      <td>-122.9638</td>\n",
       "    </tr>\n",
       "  </tbody>\n",
       "</table>\n",
       "</div>"
      ],
      "text/plain": [
       "                                                                     0\n",
       "Unnamed: 0                                                           0\n",
       "account_id                                                       19967\n",
       "url                                                        tvguide.com\n",
       "city_code                                                      5731371\n",
       "state_code                                                          OR\n",
       "dma_code                                                           820\n",
       "country_code                                                        US\n",
       "user_id                                               5314600042548863\n",
       "session_id           d1b6ae4f-7582-42d9-90bc-9b793bcc9ca7:162949223...\n",
       "referrer                                       https://www.google.com/\n",
       "client                                                          sizmek\n",
       "user_agent_platform                                            windows\n",
       "user_agent_language                                            missing\n",
       "user_agent_browser                                              chrome\n",
       "zeta_user_id                                                   missing\n",
       "sizmek_ip                                                        other\n",
       "zync_ip                                                          other\n",
       "zync_country                                                        US\n",
       "zync_state                                                          OR\n",
       "zync_city                                                    Hillsboro\n",
       "zync_lat                                                       45.5397\n",
       "zync_long                                                    -122.9638"
      ]
     },
     "execution_count": 4,
     "metadata": {},
     "output_type": "execute_result"
    }
   ],
   "source": [
    "df_raw.head(1).T"
   ]
  },
  {
   "cell_type": "code",
   "execution_count": 5,
   "metadata": {
    "execution": {
     "iopub.execute_input": "2021-09-10T14:11:48.144325Z",
     "iopub.status.busy": "2021-09-10T14:11:48.143948Z",
     "iopub.status.idle": "2021-09-10T14:11:48.918573Z",
     "shell.execute_reply": "2021-09-10T14:11:48.917851Z",
     "shell.execute_reply.started": "2021-09-10T14:11:48.144309Z"
    },
    "tags": []
   },
   "outputs": [
    {
     "name": "stdout",
     "output_type": "stream",
     "text": [
      "(793073, 20)\n",
      "(793073, 20)\n",
      "(793073, 20)\n",
      "(793073, 20)\n",
      "(87, 20)\n",
      "(14, 20)\n"
     ]
    }
   ],
   "source": [
    "sizmek_cols = [\"user_id\", \"url\", \"account_id\", \"city_code\",\n",
    "               \"state_code\", \"dma_code\", \"country_code\", \"sizmek_ip\"]\n",
    "zync_cols = [\"session_id\", \"referrer\", \"client\", \"user_agent_platform\",\n",
    "             \"user_agent_language\", \"user_agent_browser\", \"zync_ip\", \"zync_country\",\n",
    "             \"zync_state\", \"zync_city\", \"zync_lat\", \"zync_long\"]\n",
    "\n",
    "#sizmek_cols = [\"user_id\", \"url\", \"state_code\", \"country_code\"]\n",
    "#zync_cols = [\"session_id\", \"referrer\", \"zync_state\", \"zync_country\"]\n",
    "\n",
    "df = df_raw[sizmek_cols + zync_cols]\n",
    "print(df.shape)\n",
    "#df = df[df[sizmek_cols + zync_cols].astype(bool)]  \n",
    "#print(df.shape)\n",
    "df = df.fillna(\"missing\")\n",
    "print(df.shape)\n",
    "df = df.drop_duplicates()\n",
    "print(df.shape)\n",
    "df = df.reset_index(drop=True)\n",
    "print(df.shape)\n",
    "\n",
    "df = df.sample(n=100)\n",
    "\n",
    "#for column in [\"url\", \"referrer\"]:\n",
    "#    df[column] = df[column].apply(\n",
    "#        lambda x:funcs.urlparse(x).netloc if pd.notnull(x) else x\n",
    "#    )\n",
    "\n",
    "group_list = [e for e in (sizmek_cols + zync_cols) if e not in (\"url\", \"referrer\")]\n",
    "df = df.groupby(group_list)[[\"url\", \"referrer\"]].agg(lambda x: list(x))\n",
    "df = df.reset_index()\n",
    "print(df.shape)\n",
    "df= df[df[\"user_id\"].duplicated(keep=False)]\n",
    "print(df.shape)\n",
    "df = df.drop(\"user_id\", axis=1)\n",
    "\n",
    "sizmek_features = [\"url\", \"account_id\", \"city_code\", \"state_code\",\n",
    "               \"dma_code\", \"country_code\", \"sizmek_ip\"]\n",
    "zync_features = [\"referrer\", \"client\", \"user_agent_platform\", \"user_agent_language\", \n",
    "             \"user_agent_browser\", \"zync_ip\", \"zync_country\",\n",
    "             \"zync_state\", \"zync_city\", \"zync_lat\", \"zync_long\"]\n",
    "\n",
    "sizmek_df = df[sizmek_features]\n",
    "zync_df = df[zync_features]"
   ]
  },
  {
   "cell_type": "code",
   "execution_count": 6,
   "metadata": {
    "execution": {
     "iopub.execute_input": "2021-09-10T14:11:48.919928Z",
     "iopub.status.busy": "2021-09-10T14:11:48.919383Z",
     "iopub.status.idle": "2021-09-10T14:11:48.949453Z",
     "shell.execute_reply": "2021-09-10T14:11:48.948727Z",
     "shell.execute_reply.started": "2021-09-10T14:11:48.919906Z"
    },
    "tags": []
   },
   "outputs": [
    {
     "data": {
      "text/html": [
       "<div>\n",
       "<style scoped>\n",
       "    .dataframe tbody tr th:only-of-type {\n",
       "        vertical-align: middle;\n",
       "    }\n",
       "\n",
       "    .dataframe tbody tr th {\n",
       "        vertical-align: top;\n",
       "    }\n",
       "\n",
       "    .dataframe thead th {\n",
       "        text-align: right;\n",
       "    }\n",
       "</style>\n",
       "<table border=\"1\" class=\"dataframe\">\n",
       "  <thead>\n",
       "    <tr style=\"text-align: right;\">\n",
       "      <th></th>\n",
       "      <th>url</th>\n",
       "      <th>account_id</th>\n",
       "      <th>city_code</th>\n",
       "      <th>state_code</th>\n",
       "      <th>dma_code</th>\n",
       "      <th>country_code</th>\n",
       "      <th>sizmek_ip</th>\n",
       "    </tr>\n",
       "  </thead>\n",
       "  <tbody>\n",
       "    <tr>\n",
       "      <th>18</th>\n",
       "      <td>[https://www.windstream.net/?domain=windstream...</td>\n",
       "      <td>19967</td>\n",
       "      <td>5074472</td>\n",
       "      <td>NE</td>\n",
       "      <td>652</td>\n",
       "      <td>US</td>\n",
       "      <td>70.182.33.29</td>\n",
       "    </tr>\n",
       "    <tr>\n",
       "      <th>19</th>\n",
       "      <td>[https://www.windstream.net/?domain=windstream...</td>\n",
       "      <td>35927</td>\n",
       "      <td>5074472</td>\n",
       "      <td>NE</td>\n",
       "      <td>652</td>\n",
       "      <td>US</td>\n",
       "      <td>70.182.33.29</td>\n",
       "    </tr>\n",
       "    <tr>\n",
       "      <th>52</th>\n",
       "      <td>[https://www.mor-tv.com/vuz]</td>\n",
       "      <td>35927</td>\n",
       "      <td>4744870</td>\n",
       "      <td>VA</td>\n",
       "      <td>511</td>\n",
       "      <td>US</td>\n",
       "      <td>54.226.145.105</td>\n",
       "    </tr>\n",
       "  </tbody>\n",
       "</table>\n",
       "</div>"
      ],
      "text/plain": [
       "                                                  url account_id city_code  \\\n",
       "18  [https://www.windstream.net/?domain=windstream...      19967   5074472   \n",
       "19  [https://www.windstream.net/?domain=windstream...      35927   5074472   \n",
       "52                       [https://www.mor-tv.com/vuz]      35927   4744870   \n",
       "\n",
       "   state_code dma_code country_code       sizmek_ip  \n",
       "18         NE      652           US    70.182.33.29  \n",
       "19         NE      652           US    70.182.33.29  \n",
       "52         VA      511           US  54.226.145.105  "
      ]
     },
     "execution_count": 6,
     "metadata": {},
     "output_type": "execute_result"
    }
   ],
   "source": [
    "sizmek_df.head(3)"
   ]
  },
  {
   "cell_type": "code",
   "execution_count": 7,
   "metadata": {
    "execution": {
     "iopub.execute_input": "2021-09-10T14:11:48.950389Z",
     "iopub.status.busy": "2021-09-10T14:11:48.950243Z",
     "iopub.status.idle": "2021-09-10T14:11:48.977566Z",
     "shell.execute_reply": "2021-09-10T14:11:48.976963Z",
     "shell.execute_reply.started": "2021-09-10T14:11:48.950373Z"
    },
    "tags": []
   },
   "outputs": [
    {
     "data": {
      "text/html": [
       "<div>\n",
       "<style scoped>\n",
       "    .dataframe tbody tr th:only-of-type {\n",
       "        vertical-align: middle;\n",
       "    }\n",
       "\n",
       "    .dataframe tbody tr th {\n",
       "        vertical-align: top;\n",
       "    }\n",
       "\n",
       "    .dataframe thead th {\n",
       "        text-align: right;\n",
       "    }\n",
       "</style>\n",
       "<table border=\"1\" class=\"dataframe\">\n",
       "  <thead>\n",
       "    <tr style=\"text-align: right;\">\n",
       "      <th></th>\n",
       "      <th>referrer</th>\n",
       "      <th>client</th>\n",
       "      <th>user_agent_platform</th>\n",
       "      <th>user_agent_language</th>\n",
       "      <th>user_agent_browser</th>\n",
       "      <th>zync_ip</th>\n",
       "      <th>zync_country</th>\n",
       "      <th>zync_state</th>\n",
       "      <th>zync_city</th>\n",
       "      <th>zync_lat</th>\n",
       "      <th>zync_long</th>\n",
       "    </tr>\n",
       "  </thead>\n",
       "  <tbody>\n",
       "    <tr>\n",
       "      <th>18</th>\n",
       "      <td>[https://www.windstream.net/?domain=windstream...</td>\n",
       "      <td>sizmek</td>\n",
       "      <td>windows</td>\n",
       "      <td>missing</td>\n",
       "      <td>chrome</td>\n",
       "      <td>70.182.33.29</td>\n",
       "      <td>US</td>\n",
       "      <td>NE</td>\n",
       "      <td>Omaha</td>\n",
       "      <td>41.2315</td>\n",
       "      <td>-96.0519</td>\n",
       "    </tr>\n",
       "    <tr>\n",
       "      <th>19</th>\n",
       "      <td>[https://www.windstream.net/?domain=windstream...</td>\n",
       "      <td>sizmek</td>\n",
       "      <td>windows</td>\n",
       "      <td>missing</td>\n",
       "      <td>chrome</td>\n",
       "      <td>70.182.33.29</td>\n",
       "      <td>US</td>\n",
       "      <td>NE</td>\n",
       "      <td>Omaha</td>\n",
       "      <td>41.2315</td>\n",
       "      <td>-96.0519</td>\n",
       "    </tr>\n",
       "    <tr>\n",
       "      <th>52</th>\n",
       "      <td>[https://www.thenation.com/]</td>\n",
       "      <td>sizmek</td>\n",
       "      <td>android</td>\n",
       "      <td>missing</td>\n",
       "      <td>chrome</td>\n",
       "      <td>3.95.205.25</td>\n",
       "      <td>US</td>\n",
       "      <td>VA</td>\n",
       "      <td>Ashburn</td>\n",
       "      <td>39.0481</td>\n",
       "      <td>-77.4728</td>\n",
       "    </tr>\n",
       "  </tbody>\n",
       "</table>\n",
       "</div>"
      ],
      "text/plain": [
       "                                             referrer  client  \\\n",
       "18  [https://www.windstream.net/?domain=windstream...  sizmek   \n",
       "19  [https://www.windstream.net/?domain=windstream...  sizmek   \n",
       "52                       [https://www.thenation.com/]  sizmek   \n",
       "\n",
       "   user_agent_platform user_agent_language user_agent_browser       zync_ip  \\\n",
       "18             windows             missing             chrome  70.182.33.29   \n",
       "19             windows             missing             chrome  70.182.33.29   \n",
       "52             android             missing             chrome   3.95.205.25   \n",
       "\n",
       "   zync_country zync_state zync_city zync_lat zync_long  \n",
       "18           US         NE     Omaha  41.2315  -96.0519  \n",
       "19           US         NE     Omaha  41.2315  -96.0519  \n",
       "52           US         VA   Ashburn  39.0481  -77.4728  "
      ]
     },
     "execution_count": 7,
     "metadata": {},
     "output_type": "execute_result"
    }
   ],
   "source": [
    "zync_df.head(3)"
   ]
  },
  {
   "cell_type": "code",
   "execution_count": 8,
   "metadata": {},
   "outputs": [
    {
     "name": "stdout",
     "output_type": "stream",
     "text": [
      "[0, 1, 2, 3]\n",
      "[10068, 27670, 19868, 7280]\n"
     ]
    }
   ],
   "source": [
    "y_base = list(range(0,30_000))\n",
    "print(y_base[:4])\n",
    "random.shuffle(y_base)\n",
    "print(y_base[:4])"
   ]
  },
  {
   "cell_type": "markdown",
   "metadata": {},
   "source": [
    "# Define Dataset"
   ]
  },
  {
   "cell_type": "code",
   "execution_count": 9,
   "metadata": {
    "execution": {
     "iopub.execute_input": "2021-09-10T14:14:35.740681Z",
     "iopub.status.busy": "2021-09-10T14:14:35.740211Z",
     "iopub.status.idle": "2021-09-10T14:14:35.768255Z",
     "shell.execute_reply": "2021-09-10T14:14:35.767594Z",
     "shell.execute_reply.started": "2021-09-10T14:14:35.740661Z"
    },
    "tags": []
   },
   "outputs": [],
   "source": [
    "class ZetaDataset(torch_geometric.data.InMemoryDataset):\n",
    "    def __init__(self, root: str, sizmek_df: pd.DataFrame, zync_df: pd.DataFrame, column: str, \n",
    "                 label: str, feature_cols=None, parse_url=False, expand_x=None, transform=None, \n",
    "                 pre_transform=None\n",
    "        ):\n",
    "        self.root = root\n",
    "        self.sizmek_df = sizmek_df\n",
    "        self.zync_df = zync_df\n",
    "        self.column = column\n",
    "        self.label = label\n",
    "        self.feature_cols = feature_cols\n",
    "        self.parse_url = parse_url\n",
    "        self.expand_x = expand_x\n",
    "        super(ZetaDataset, self).__init__(root, transform, pre_transform)\n",
    "        self.data, self.slices = torch.load(self.processed_paths[0])\n",
    "        print(\"Removing processed file. . .\")\n",
    "        os.remove(self.processed_paths[0])\n",
    "\n",
    "    @property\n",
    "    def raw_file_names(self) -> List[str]:\n",
    "        return [\n",
    "            \"sizmek_bidstream_raw_20210625_10k.csv\", \n",
    "            \"zync_session_tracking_orc_20210625_10k.csv\"\n",
    "        ]\n",
    "\n",
    "    @property\n",
    "    def processed_file_names(self):\n",
    "        return [\"ZetaDataset.pt\"]\n",
    "    \n",
    "    @property\n",
    "    def edge_count_1(self):\n",
    "        return zeta_data.data.edge_index1.shape[1]\n",
    "    \n",
    "    @property\n",
    "    def edge_count_2(self):\n",
    "        return zeta_data.data.edge_index2.shape[1]\n",
    "\n",
    "    def download(self):\n",
    "        pass\n",
    "\n",
    "    def process(self):\n",
    "        print(\"Creating Sizmek graph. . .\")\n",
    "        x1, edge_index1 = self.process_graph(\n",
    "            self.sizmek_df, \n",
    "            self.column[0], \n",
    "            self.feature_cols[\"sizmek\"][\"categorical\"],\n",
    "            expand_x=256\n",
    "        )\n",
    "        print(\"Creating Zync graph. . .\")\n",
    "        x2, edge_index2 = self.process_graph(\n",
    "            self.zync_df, \n",
    "            self.column[1], \n",
    "            self.feature_cols[\"zync\"][\"categorical\"], \n",
    "            expand_x=256\n",
    "        )\n",
    "\n",
    "        train_y, test_y = self.process_y()\n",
    "\n",
    "        data = Data(x1=x1, edge_index1=edge_index1, x2=x2,\n",
    "                    edge_index2=edge_index2, train_y=train_y,\n",
    "                    test_y=test_y)\n",
    "        torch.save(self.collate([data]), self.processed_paths[0])\n",
    "\n",
    "    def process_graph(self, df, column: str, feature_cols: List, expand_x: int=None):\n",
    "        #df = pd.read_csv(file_path, low_memory=False)\n",
    "        #df.columns = [i.split(\".\")[1] for i in df.columns]\n",
    "\n",
    "        # parse URLs\n",
    "        if self.parse_url == True and column in [\"url\", \"referrer\"]:\n",
    "            print(\"Parsing URL\")\n",
    "            df[column] = df[column].apply(\n",
    "                lambda x:funcs.urlparse(x).netloc if pd.notnull(x) else x\n",
    "            )\n",
    "\n",
    "        # Encode features\n",
    "        print(\"Encoding features\")\n",
    "        feature_enc = OneHotEncoder(handle_unknown=\"ignore\")\n",
    "        features = pd.DataFrame(\n",
    "            feature_enc.fit_transform(df[feature_cols]).toarray(), \n",
    "            columns=feature_enc.get_feature_names(feature_cols)\n",
    "        )\n",
    "        \n",
    "        if expand_x is not None:\n",
    "            print(f\"Expanding X to {expand_x}\")\n",
    "            new_cols = [f\"fake_{expand_x-i}\" for i in range(expand_x - features.shape[1])][::-1]\n",
    "            for col in new_cols:\n",
    "                features[col] = 0\n",
    "        x = torch.tensor(features.values, dtype=torch.float)\n",
    "\n",
    "        # Create edge list\n",
    "        print(f\"Creating edge list on {column}\")\n",
    "        blocklist = funcs.count_edge_frequency(df, column)\n",
    "        print(f\"Unique URLs: {len(blocklist):,}\")\n",
    "        \n",
    "        blocklist = blocklist[blocklist[\"count\"] > 50][\"url\"]\n",
    "        print(f\"Common URLs blocked: {len(blocklist):,}\")\n",
    "\n",
    "        edges = funcs.connect_edges(df, column, blocklist)\n",
    "        edge_index = torch.tensor(\n",
    "            edges[[\"source\", \"target\"]].T.values, dtype=torch.long\n",
    "        )\n",
    "\n",
    "        return x, edge_index\n",
    "\n",
    "    def process_y(self) -> Tensor:\n",
    "        y = list(range(0,30_000))\n",
    "        random.shuffle(y)\n",
    "        \n",
    "        y_train = torch.tensor(y[:20_000])\n",
    "        y_test = torch.tensor(y[20_000:])\n",
    "        \n",
    "        y_train = torch.tensor(list(range(0,12)))\n",
    "        y_test = torch.tensor(list(range(0,12)))\n",
    "        \n",
    "        y_train = torch.stack([y_train, y_train], dim=0)\n",
    "        y_test = torch.stack([y_test, y_test], dim=0)\n",
    "        return y_train, y_test\n",
    "    \n",
    "    def __repr__(self) -> str:\n",
    "        return f\"{self.__class__.__name__}({self.edge_count_1:,}/{self.edge_count_2:,} edges)\"\n",
    "    \n",
    "class SumEmbedding(object):\n",
    "    def __call__(self, data):\n",
    "        data.x1, data.x2 = data.x1.sum(dim=1), data.x2.sum(dim=1)\n",
    "        return data"
   ]
  },
  {
   "cell_type": "code",
   "execution_count": 10,
   "metadata": {
    "execution": {
     "iopub.execute_input": "2021-09-10T14:14:36.136353Z",
     "iopub.status.busy": "2021-09-10T14:14:36.135948Z",
     "iopub.status.idle": "2021-09-10T14:14:36.153366Z",
     "shell.execute_reply": "2021-09-10T14:14:36.152713Z",
     "shell.execute_reply.started": "2021-09-10T14:14:36.136337Z"
    },
    "tags": []
   },
   "outputs": [],
   "source": [
    "#sizmek_small = sizmek_df.sample(n=20_000, random_state=0)\n",
    "#zync_small = zync_df.iloc[sizmek_small.index,:]\n",
    "\n",
    "sizmek_small = sizmek_df.copy()\n",
    "zync_small = zync_df.copy()"
   ]
  },
  {
   "cell_type": "code",
   "execution_count": 11,
   "metadata": {},
   "outputs": [
    {
     "data": {
      "text/html": [
       "<div>\n",
       "<style scoped>\n",
       "    .dataframe tbody tr th:only-of-type {\n",
       "        vertical-align: middle;\n",
       "    }\n",
       "\n",
       "    .dataframe tbody tr th {\n",
       "        vertical-align: top;\n",
       "    }\n",
       "\n",
       "    .dataframe thead th {\n",
       "        text-align: right;\n",
       "    }\n",
       "</style>\n",
       "<table border=\"1\" class=\"dataframe\">\n",
       "  <thead>\n",
       "    <tr style=\"text-align: right;\">\n",
       "      <th></th>\n",
       "      <th>account_id</th>\n",
       "      <th>city_code</th>\n",
       "      <th>state_code</th>\n",
       "      <th>dma_code</th>\n",
       "      <th>country_code</th>\n",
       "      <th>sizmek_ip</th>\n",
       "      <th>session_id</th>\n",
       "      <th>client</th>\n",
       "      <th>user_agent_platform</th>\n",
       "      <th>user_agent_language</th>\n",
       "      <th>user_agent_browser</th>\n",
       "      <th>zync_ip</th>\n",
       "      <th>zync_country</th>\n",
       "      <th>zync_state</th>\n",
       "      <th>zync_city</th>\n",
       "      <th>zync_lat</th>\n",
       "      <th>zync_long</th>\n",
       "      <th>url</th>\n",
       "      <th>referrer</th>\n",
       "    </tr>\n",
       "  </thead>\n",
       "  <tbody>\n",
       "    <tr>\n",
       "      <th>54</th>\n",
       "      <td>19967</td>\n",
       "      <td>5072006</td>\n",
       "      <td>NE</td>\n",
       "      <td>722</td>\n",
       "      <td>US</td>\n",
       "      <td>69.30.184.6</td>\n",
       "      <td>31b423df-5602-4ccc-8983-6c7ab6f65e99:162431114...</td>\n",
       "      <td>sizmek</td>\n",
       "      <td>windows</td>\n",
       "      <td>missing</td>\n",
       "      <td>chrome</td>\n",
       "      <td>69.30.184.6</td>\n",
       "      <td>US</td>\n",
       "      <td>NE</td>\n",
       "      <td>Lincoln</td>\n",
       "      <td>40.8339</td>\n",
       "      <td>-96.5444</td>\n",
       "      <td>[https://www.windstream.net/?inc=513]</td>\n",
       "      <td>[https://www.windstream.net/?inc=1039]</td>\n",
       "    </tr>\n",
       "  </tbody>\n",
       "</table>\n",
       "</div>"
      ],
      "text/plain": [
       "   account_id city_code state_code dma_code country_code    sizmek_ip  \\\n",
       "54      19967   5072006         NE      722           US  69.30.184.6   \n",
       "\n",
       "                                           session_id  client  \\\n",
       "54  31b423df-5602-4ccc-8983-6c7ab6f65e99:162431114...  sizmek   \n",
       "\n",
       "   user_agent_platform user_agent_language user_agent_browser      zync_ip  \\\n",
       "54             windows             missing             chrome  69.30.184.6   \n",
       "\n",
       "   zync_country zync_state zync_city zync_lat zync_long  \\\n",
       "54           US         NE   Lincoln  40.8339  -96.5444   \n",
       "\n",
       "                                      url  \\\n",
       "54  [https://www.windstream.net/?inc=513]   \n",
       "\n",
       "                                  referrer  \n",
       "54  [https://www.windstream.net/?inc=1039]  "
      ]
     },
     "execution_count": 11,
     "metadata": {},
     "output_type": "execute_result"
    }
   ],
   "source": [
    "df.sample()"
   ]
  },
  {
   "cell_type": "markdown",
   "metadata": {},
   "source": [
    "# Create Dataset"
   ]
  },
  {
   "cell_type": "code",
   "execution_count": 12,
   "metadata": {
    "execution": {
     "iopub.execute_input": "2021-09-10T14:14:36.293393Z",
     "iopub.status.busy": "2021-09-10T14:14:36.292891Z",
     "iopub.status.idle": "2021-09-10T14:14:36.660389Z",
     "shell.execute_reply": "2021-09-10T14:14:36.659774Z",
     "shell.execute_reply.started": "2021-09-10T14:14:36.293377Z"
    },
    "tags": []
   },
   "outputs": [
    {
     "name": "stdout",
     "output_type": "stream",
     "text": [
      "Creating Sizmek graph. . .\n",
      "Encoding features\n",
      "Expanding X to 256\n",
      "Creating edge list on url\n",
      "Unique URLs: 26\n",
      "Common URLs blocked: 0\n",
      "Creating Zync graph. . .\n",
      "Encoding features\n",
      "Expanding X to 256\n",
      "Creating edge list on referrer\n",
      "Unique URLs: 23\n",
      "Common URLs blocked: 0\n",
      "Removing processed file. . .\n"
     ]
    },
    {
     "name": "stderr",
     "output_type": "stream",
     "text": [
      "Processing...\n",
      "/tmp/ipykernel_31441/3789954831.py:87: PerformanceWarning: DataFrame is highly fragmented.  This is usually the result of calling `frame.insert` many times, which has poor performance.  Consider using pd.concat instead.  To get a de-fragmented frame, use `newframe = frame.copy()`\n",
      "  features[col] = 0\n",
      "/tmp/ipykernel_31441/3789954831.py:87: PerformanceWarning: DataFrame is highly fragmented.  This is usually the result of calling `frame.insert` many times, which has poor performance.  Consider using pd.concat instead.  To get a de-fragmented frame, use `newframe = frame.copy()`\n",
      "  features[col] = 0\n",
      "Done!\n"
     ]
    },
    {
     "data": {
      "text/plain": [
       "ZetaDataset(26/32 edges)"
      ]
     },
     "execution_count": 12,
     "metadata": {},
     "output_type": "execute_result"
    }
   ],
   "source": [
    "feature_cols = {\n",
    "    \"sizmek\": {\n",
    "        \"categorical\": [\n",
    "            \"account_id\", \"city_code\", \"state_code\",\n",
    "            \"dma_code\", \"country_code\", \"sizmek_ip\"\n",
    "        ],\n",
    "        \"numeric\": []\n",
    "    },\n",
    "    \"zync\": {\n",
    "        \"categorical\": [\n",
    "            \"client\", \"user_agent_platform\", \"user_agent_language\", \n",
    "            \"user_agent_browser\", \"zync_ip\", \"zync_country\",\n",
    "            \"zync_state\", \"zync_city\"\n",
    "        ],\n",
    "        \"numeric\": [\"zync_lat\", \"zync_long\"]\n",
    "    }\n",
    "}\n",
    "\n",
    "zeta_data = ZetaDataset(\n",
    "    root=\"./data/\",\n",
    "    sizmek_df = sizmek_small,\n",
    "    zync_df = zync_small,\n",
    "    column=[\"url\", \"referrer\"],\n",
    "    label=[\"zeta_user_id\", \"client_id\"],\n",
    "    feature_cols=feature_cols,\n",
    "    parse_url=False,\n",
    "    transform=SumEmbedding()\n",
    ")\n",
    "zeta_data"
   ]
  },
  {
   "cell_type": "code",
   "execution_count": 13,
   "metadata": {
    "execution": {
     "iopub.execute_input": "2021-09-10T14:14:36.661577Z",
     "iopub.status.busy": "2021-09-10T14:14:36.661286Z",
     "iopub.status.idle": "2021-09-10T14:14:36.710999Z",
     "shell.execute_reply": "2021-09-10T14:14:36.710338Z",
     "shell.execute_reply.started": "2021-09-10T14:14:36.661556Z"
    },
    "tags": []
   },
   "outputs": [
    {
     "name": "stdout",
     "output_type": "stream",
     "text": [
      "RelCNN(256, 256, num_layers=3, batch_norm=False, cat=True, lin=True, dropout=0.0)\n",
      "RelCNN(32, 32, num_layers=3, batch_norm=False, cat=True, lin=True, dropout=0.0)\n",
      "torch.Size([14, 256])\n",
      "torch.Size([14, 256])\n"
     ]
    }
   ],
   "source": [
    "import argparse\n",
    "\n",
    "parser = argparse.ArgumentParser()\n",
    "parser.add_argument('--dim', type=int, default=256)\n",
    "parser.add_argument('--rnd_dim', type=int, default=32)\n",
    "parser.add_argument('--num_layers', type=int, default=3)\n",
    "parser.add_argument('--num_steps', type=int, default=10)\n",
    "parser.add_argument('--k', type=int, default=10)\n",
    "args = parser.parse_args(\"\")\n",
    "\n",
    "\n",
    "psi_1 = dgmc.models.RelCNN(zeta_data.data.x1.size(-1), args.dim, args.num_layers, batch_norm=False,\n",
    "               cat=True, lin=True, dropout=0.0)\n",
    "psi_2 = dgmc.models.RelCNN(args.rnd_dim, args.rnd_dim, args.num_layers, batch_norm=False,\n",
    "               cat=True, lin=True, dropout=0.0)\n",
    "\n",
    "print(psi_1)\n",
    "print(psi_2)\n",
    "print(zeta_data.data.x1.size())\n",
    "print(zeta_data.data.x2.size())"
   ]
  },
  {
   "cell_type": "code",
   "execution_count": 16,
   "metadata": {
    "execution": {
     "iopub.execute_input": "2021-09-10T14:14:36.712097Z",
     "iopub.status.busy": "2021-09-10T14:14:36.711766Z",
     "iopub.status.idle": "2021-09-10T14:14:36.738896Z",
     "shell.execute_reply": "2021-09-10T14:14:36.738089Z",
     "shell.execute_reply.started": "2021-09-10T14:14:36.712082Z"
    },
    "tags": []
   },
   "outputs": [],
   "source": [
    "model = dgmc.models.DGMC(psi_1, psi_2, num_steps=None, k=args.k).to(device)\n",
    "optimizer = torch.optim.Adam(model.parameters(), lr=0.00001)\n",
    "data = zeta_data.data\n",
    "\n",
    "def train():\n",
    "    model.train()\n",
    "    optimizer.zero_grad()\n",
    "\n",
    "    _, S_L = model(data.x1, data.edge_index1, None, None, data.x2,\n",
    "                   data.edge_index2, None, None, data.train_y)\n",
    "\n",
    "    loss = model.loss(S_L, data.train_y)\n",
    "    loss.backward()\n",
    "    optimizer.step()\n",
    "    return loss\n",
    "\n",
    "@torch.no_grad()\n",
    "def test():\n",
    "    model.eval()\n",
    "\n",
    "    _, S_L = model(data.x1, data.edge_index1, None, None, data.x2,\n",
    "                   data.edge_index2, None, None)\n",
    "\n",
    "    hits1 = model.acc(S_L, data.test_y)\n",
    "    hits10 = model.hits_at_k(10, S_L, data.test_y)\n",
    "\n",
    "    return hits1, hits10"
   ]
  },
  {
   "cell_type": "code",
   "execution_count": 18,
   "metadata": {
    "collapsed": true,
    "execution": {
     "iopub.execute_input": "2021-09-10T14:14:37.125615Z",
     "iopub.status.busy": "2021-09-10T14:14:37.125102Z"
    },
    "jupyter": {
     "outputs_hidden": true
    },
    "tags": []
   },
   "outputs": [
    {
     "name": "stdout",
     "output_type": "stream",
     "text": [
      "005: Loss: 11.9517, Hits@1: 0.0833, Hits@10: 0.6667\n",
      "010: Loss: 12.8142, Hits@1: 0.0833, Hits@10: 0.6667\n",
      "015: Loss: 10.6789, Hits@1: 0.0833, Hits@10: 0.6667\n",
      "020: Loss: 12.8321, Hits@1: 0.0833, Hits@10: 0.6667\n",
      "025: Loss: 11.2920, Hits@1: 0.0000, Hits@10: 0.6667\n",
      "030: Loss: 13.6256, Hits@1: 0.0833, Hits@10: 0.6667\n",
      "035: Loss: 12.1114, Hits@1: 0.0833, Hits@10: 0.6667\n",
      "040: Loss: 11.6813, Hits@1: 0.0000, Hits@10: 0.6667\n",
      "045: Loss: 10.6119, Hits@1: 0.0833, Hits@10: 0.6667\n",
      "050: Loss: 13.2480, Hits@1: 0.0833, Hits@10: 0.6667\n",
      "055: Loss: 12.8488, Hits@1: 0.0000, Hits@10: 0.6667\n",
      "060: Loss: 13.2567, Hits@1: 0.0833, Hits@10: 0.6667\n",
      "065: Loss: 13.2137, Hits@1: 0.0833, Hits@10: 0.6667\n",
      "070: Loss: 11.7832, Hits@1: 0.0833, Hits@10: 0.6667\n",
      "075: Loss: 12.1165, Hits@1: 0.0833, Hits@10: 0.6667\n",
      "080: Loss: 11.9517, Hits@1: 0.0833, Hits@10: 0.6667\n",
      "085: Loss: 11.5091, Hits@1: 0.0833, Hits@10: 0.6667\n",
      "090: Loss: 12.4108, Hits@1: 0.0000, Hits@10: 0.6667\n",
      "095: Loss: 13.2449, Hits@1: 0.1667, Hits@10: 0.6667\n",
      "Refine correspondence matrix...\n",
      "100: Loss: 11.4246, Hits@1: 0.0833, Hits@10: 0.6667\n",
      "105: Loss: 11.1354, Hits@1: 0.0833, Hits@10: 0.6667\n",
      "110: Loss: 12.7702, Hits@1: 0.0000, Hits@10: 0.6667\n",
      "115: Loss: 12.4497, Hits@1: 0.0833, Hits@10: 0.6667\n",
      "120: Loss: 12.7992, Hits@1: 0.0000, Hits@10: 0.6667\n",
      "125: Loss: 13.2890, Hits@1: 0.0000, Hits@10: 0.6667\n",
      "130: Loss: 13.9271, Hits@1: 0.0000, Hits@10: 0.6667\n",
      "135: Loss: 12.8261, Hits@1: 0.1667, Hits@10: 0.6667\n",
      "140: Loss: 12.7741, Hits@1: 0.0833, Hits@10: 0.6667\n",
      "145: Loss: 11.2377, Hits@1: 0.1667, Hits@10: 0.6667\n",
      "150: Loss: 11.2560, Hits@1: 0.0833, Hits@10: 0.6667\n",
      "155: Loss: 12.5176, Hits@1: 0.0833, Hits@10: 0.6667\n",
      "160: Loss: 12.8103, Hits@1: 0.0000, Hits@10: 0.6667\n",
      "165: Loss: 12.4421, Hits@1: 0.0833, Hits@10: 0.6667\n",
      "170: Loss: 12.4275, Hits@1: 0.1667, Hits@10: 0.6667\n",
      "175: Loss: 13.2310, Hits@1: 0.0833, Hits@10: 0.6667\n",
      "180: Loss: 11.2693, Hits@1: 0.0833, Hits@10: 0.6667\n",
      "185: Loss: 11.7053, Hits@1: 0.1667, Hits@10: 0.6667\n",
      "190: Loss: 11.7356, Hits@1: 0.0833, Hits@10: 0.6667\n",
      "195: Loss: 11.9843, Hits@1: 0.0000, Hits@10: 0.6667\n",
      "200: Loss: 10.6273, Hits@1: 0.0000, Hits@10: 0.6667\n",
      "205: Loss: 11.9591, Hits@1: 0.0000, Hits@10: 0.6667\n",
      "210: Loss: 12.8570, Hits@1: 0.0000, Hits@10: 0.6667\n",
      "215: Loss: 10.0622, Hits@1: 0.0000, Hits@10: 0.6667\n",
      "220: Loss: 12.5347, Hits@1: 0.0000, Hits@10: 0.6667\n",
      "225: Loss: 12.1213, Hits@1: 0.0833, Hits@10: 0.6667\n",
      "230: Loss: 13.6196, Hits@1: 0.0000, Hits@10: 0.6667\n",
      "235: Loss: 12.8249, Hits@1: 0.0000, Hits@10: 0.6667\n",
      "240: Loss: 11.9793, Hits@1: 0.0000, Hits@10: 0.6667\n",
      "245: Loss: 12.5833, Hits@1: 0.0000, Hits@10: 0.6667\n",
      "250: Loss: 11.2235, Hits@1: 0.0833, Hits@10: 0.6667\n",
      "255: Loss: 13.6066, Hits@1: 0.0833, Hits@10: 0.6667\n",
      "260: Loss: 11.2728, Hits@1: 0.0833, Hits@10: 0.6667\n",
      "265: Loss: 12.8501, Hits@1: 0.0000, Hits@10: 0.6667\n",
      "270: Loss: 12.1245, Hits@1: 0.0000, Hits@10: 0.6667\n",
      "275: Loss: 12.4687, Hits@1: 0.0833, Hits@10: 0.6667\n",
      "280: Loss: 12.0830, Hits@1: 0.0000, Hits@10: 0.6667\n",
      "285: Loss: 11.2391, Hits@1: 0.0000, Hits@10: 0.6667\n",
      "290: Loss: 11.9314, Hits@1: 0.0000, Hits@10: 0.6667\n",
      "295: Loss: 13.5987, Hits@1: 0.0000, Hits@10: 0.6667\n",
      "300: Loss: 12.8081, Hits@1: 0.0000, Hits@10: 0.6667\n",
      "305: Loss: 12.3944, Hits@1: 0.0833, Hits@10: 0.6667\n",
      "310: Loss: 10.6624, Hits@1: 0.0000, Hits@10: 0.6667\n",
      "315: Loss: 11.7180, Hits@1: 0.0833, Hits@10: 0.6667\n",
      "320: Loss: 13.1970, Hits@1: 0.0000, Hits@10: 0.6667\n",
      "325: Loss: 11.7739, Hits@1: 0.0000, Hits@10: 0.6667\n",
      "330: Loss: 13.1551, Hits@1: 0.0833, Hits@10: 0.6667\n",
      "335: Loss: 11.7414, Hits@1: 0.0000, Hits@10: 0.6667\n",
      "340: Loss: 13.2122, Hits@1: 0.0000, Hits@10: 0.6667\n",
      "345: Loss: 13.9301, Hits@1: 0.0000, Hits@10: 0.6667\n",
      "350: Loss: 13.2427, Hits@1: 0.0000, Hits@10: 0.6667\n",
      "355: Loss: 11.2774, Hits@1: 0.0000, Hits@10: 0.6667\n",
      "360: Loss: 12.3909, Hits@1: 0.0000, Hits@10: 0.6667\n",
      "365: Loss: 12.8527, Hits@1: 0.0000, Hits@10: 0.6667\n",
      "370: Loss: 12.8124, Hits@1: 0.0000, Hits@10: 0.6667\n",
      "375: Loss: 12.4266, Hits@1: 0.0833, Hits@10: 0.6667\n",
      "380: Loss: 10.6867, Hits@1: 0.0833, Hits@10: 0.6667\n",
      "385: Loss: 12.8469, Hits@1: 0.0000, Hits@10: 0.6667\n",
      "390: Loss: 11.7245, Hits@1: 0.0000, Hits@10: 0.6667\n",
      "395: Loss: 11.1442, Hits@1: 0.0000, Hits@10: 0.6667\n"
     ]
    }
   ],
   "source": [
    "#torch.cuda.empty_cache()\n",
    "#model.to(device)\n",
    "#zeta_data.data.to(device)\n",
    "\n",
    "model.num_steps = 0\n",
    "with torch.profiler.profile(\n",
    "    schedule=torch.profiler.schedule(\n",
    "        wait=2,\n",
    "        warmup=2,\n",
    "        active=6,\n",
    "        repeat=1),\n",
    "    on_trace_ready=torch.profiler.tensorboard_trace_handler(\"./logs/gnn_v5\"),\n",
    "    with_stack=True\n",
    ") as profiler:\n",
    "    for epoch in range(1, 400):\n",
    "        #print(\"Epoch: {}\".format(epoch))\n",
    "        if epoch == 100:\n",
    "            print('Refine correspondence matrix...')\n",
    "            model.num_steps = args.num_steps\n",
    "            model.detach = True\n",
    "\n",
    "        loss = train()\n",
    "        profiler.step()\n",
    "        \n",
    "        if epoch % 5 == 0:\n",
    "            hits1, hits10 = test()\n",
    "            print((f\"{epoch:03d}: Loss: {loss:.4f}, Hits@1: {hits1:.4f}, \"\n",
    "               f\"Hits@10: {hits10:.4f}\"))"
   ]
  },
  {
   "cell_type": "code",
   "execution_count": 20,
   "metadata": {},
   "outputs": [
    {
     "data": {
      "text/plain": [
       "0.0"
      ]
     },
     "execution_count": 20,
     "metadata": {},
     "output_type": "execute_result"
    }
   ],
   "source": [
    "model.eval()\n",
    "_, S_L = model(\n",
    "    data.x1, data.edge_index1, None, None, data.x2,\n",
    "    data.edge_index2, None, None\n",
    ")\n",
    "\n",
    "model.acc(S_L, data.test_y)"
   ]
  },
  {
   "cell_type": "code",
   "execution_count": 26,
   "metadata": {},
   "outputs": [
    {
     "data": {
      "text/plain": [
       "tensor([ 8, 10, 10, 10,  8,  8,  8,  8,  6, 10,  8,  6])"
      ]
     },
     "execution_count": 26,
     "metadata": {},
     "output_type": "execute_result"
    }
   ],
   "source": [
    "S = S_L\n",
    "y = data.test_y\n",
    "pred = S.__idx__[y[0], S.__val__[y[0]].argmax(dim=-1)]\n",
    "pred"
   ]
  },
  {
   "cell_type": "code",
   "execution_count": 23,
   "metadata": {},
   "outputs": [
    {
     "data": {
      "text/plain": [
       "tensor([[ 0,  1,  2,  3,  4,  5,  6,  7,  8,  9, 10, 11],\n",
       "        [ 0,  1,  2,  3,  4,  5,  6,  7,  8,  9, 10, 11]])"
      ]
     },
     "execution_count": 23,
     "metadata": {},
     "output_type": "execute_result"
    }
   ],
   "source": [
    "data.test_y"
   ]
  },
  {
   "cell_type": "code",
   "execution_count": 27,
   "metadata": {},
   "outputs": [
    {
     "data": {
      "text/plain": [
       "0"
      ]
     },
     "execution_count": 27,
     "metadata": {},
     "output_type": "execute_result"
    }
   ],
   "source": [
    "(pred == y[1]).sum().item()\n"
   ]
  },
  {
   "cell_type": "raw",
   "metadata": {
    "execution": {
     "iopub.status.busy": "2021-09-09T14:42:14.653161Z",
     "iopub.status.idle": "2021-09-09T14:42:14.653355Z",
     "shell.execute_reply": "2021-09-09T14:42:14.653265Z",
     "shell.execute_reply.started": "2021-09-09T14:42:14.653255Z"
    },
    "jupyter": {
     "outputs_hidden": true
    },
    "tags": []
   },
   "source": [
    "print('Optimize initial feature matching...')\n",
    "model.num_steps = 0\n",
    "for epoch in range(1, 6):\n",
    "    if epoch == 3:\n",
    "        print('Refine correspondence matrix...')\n",
    "        model.num_steps = args.num_steps\n",
    "        model.detach = True\n",
    "\n",
    "    loss = train()\n",
    "\n",
    "    #if epoch % 10 == 0 or epoch > 100:\n",
    "    if True:\n",
    "        hits1, hits10 = test()\n",
    "        print((f'{epoch:03d}: Loss: {loss:.4f}, Hits@1: {hits1:.4f}, '\n",
    "               f'Hits@10: {hits10:.4f}'))"
   ]
  },
  {
   "cell_type": "code",
   "execution_count": null,
   "metadata": {},
   "outputs": [],
   "source": []
  },
  {
   "cell_type": "code",
   "execution_count": null,
   "metadata": {},
   "outputs": [],
   "source": []
  },
  {
   "cell_type": "code",
   "execution_count": null,
   "metadata": {},
   "outputs": [],
   "source": []
  },
  {
   "cell_type": "code",
   "execution_count": null,
   "metadata": {},
   "outputs": [],
   "source": []
  },
  {
   "cell_type": "code",
   "execution_count": null,
   "metadata": {},
   "outputs": [],
   "source": []
  },
  {
   "cell_type": "code",
   "execution_count": null,
   "metadata": {},
   "outputs": [],
   "source": []
  }
 ],
 "metadata": {
  "kernelspec": {
   "display_name": "torch",
   "language": "python",
   "name": "torch"
  },
  "language_info": {
   "codemirror_mode": {
    "name": "ipython",
    "version": 3
   },
   "file_extension": ".py",
   "mimetype": "text/x-python",
   "name": "python",
   "nbconvert_exporter": "python",
   "pygments_lexer": "ipython3",
   "version": "3.9.5"
  }
 },
 "nbformat": 4,
 "nbformat_minor": 5
}
