{
 "cells": [
  {
   "cell_type": "markdown",
   "id": "719c2d46-01df-4713-a214-8bc9c970faec",
   "metadata": {},
   "source": [
    "# Graph Matching Consensus\n",
    "This version (4) uses a custom `pytorch_geometric` Dataset.\n",
    "\n",
    "## Import and Initialize"
   ]
  },
  {
   "cell_type": "code",
   "execution_count": 1,
   "id": "4b8855ed-bd55-453e-96fd-0f93a4fee129",
   "metadata": {
    "execution": {
     "iopub.execute_input": "2021-08-18T21:49:38.103539Z",
     "iopub.status.busy": "2021-08-18T21:49:38.103191Z",
     "iopub.status.idle": "2021-08-18T21:49:39.352670Z",
     "shell.execute_reply": "2021-08-18T21:49:39.352007Z",
     "shell.execute_reply.started": "2021-08-18T21:49:38.103492Z"
    }
   },
   "outputs": [],
   "source": [
    "from typing import Optional, Callable, List, Dict, Tuple\n",
    "import os\n",
    "\n",
    "import dgmc\n",
    "import pandas as pd\n",
    "from sklearn.preprocessing import OneHotEncoder, LabelEncoder\n",
    "\n",
    "import torch\n",
    "from torch import Tensor\n",
    "import funcs\n",
    "import pytorch_lightning as pl\n",
    "from torch.nn import Linear\n",
    "from torch_geometric.nn import GCNConv\n",
    "from torch_geometric.data import Data\n",
    "import torch_geometric\n",
    "\n",
    "%reload_ext autoreload\n",
    "%autoreload 2\n",
    "\n",
    "device = 'cuda' if torch.cuda.is_available() else 'cpu'"
   ]
  },
  {
   "cell_type": "markdown",
   "id": "5806554f-e090-4cdd-80b8-2b68e34b6265",
   "metadata": {},
   "source": [
    "## Load Dataset"
   ]
  },
  {
   "cell_type": "code",
   "execution_count": 4,
   "id": "6125d024-ed90-4465-bbe3-ccbab5ca755e",
   "metadata": {
    "execution": {
     "iopub.execute_input": "2021-08-18T21:52:42.508648Z",
     "iopub.status.busy": "2021-08-18T21:52:42.508293Z",
     "iopub.status.idle": "2021-08-18T21:52:42.530674Z",
     "shell.execute_reply": "2021-08-18T21:52:42.530003Z",
     "shell.execute_reply.started": "2021-08-18T21:52:42.508631Z"
    },
    "tags": []
   },
   "outputs": [],
   "source": [
    "class ZetaDataset(torch_geometric.data.InMemoryDataset):\n",
    "    def __init__(self, root: str, column: str, label: str, feature_cols=None,\n",
    "                 parse_url=False, expand_x=None, transform=None, pre_transform=None\n",
    "        ):\n",
    "        self.root = root\n",
    "        self.column = column\n",
    "        self.label = label\n",
    "        self.feature_cols = feature_cols\n",
    "        self.parse_url = parse_url\n",
    "        self.expand_x = expand_x\n",
    "        super(ZetaDataset, self).__init__(root, transform, pre_transform)\n",
    "        self.data, self.slices = torch.load(self.processed_paths[0])\n",
    "\n",
    "    @property\n",
    "    def raw_file_names(self) -> List[str]:\n",
    "        return [\n",
    "            \"sizmek_bidstream_raw_20210625_10k.csv\", \n",
    "            \"zync_session_tracking_orc_20210625_10k.csv\"\n",
    "        ]\n",
    "\n",
    "    @property\n",
    "    def processed_file_names(self):\n",
    "        return [\"ZetaDataset.pt\"]\n",
    "\n",
    "    def download(self):\n",
    "        pass\n",
    "\n",
    "    def process(self):\n",
    "        sizmek_path = os.path.join(self.root, self.raw_file_names[0])\n",
    "        zync_path = os.path.join(self.root, self.raw_file_names[1])\n",
    "        \n",
    "        print(\"Loading\", sizmek_path)\n",
    "        x1, edge_index1 = self.process_graph(sizmek_path, self.column[0], self.feature_cols[0])\n",
    "        x2, edge_index2 = self.process_graph(zync_path, self.column[1], self.feature_cols[1])\n",
    "\n",
    "        train_y = self.process_y()\n",
    "        test_y = self.process_y()\n",
    "\n",
    "        data = Data(x1=x1, edge_index1=edge_index1, x2=x2,\n",
    "                    edge_index2=edge_index2, train_y=train_y,\n",
    "                    test_y=test_y)\n",
    "        torch.save(self.collate([data]), self.processed_paths[0])\n",
    "\n",
    "    def process_graph(self, file_path, column, feature_cols):\n",
    "        print(f\"Processing graph for {file_path} on {column}\")\n",
    "        df = pd.read_csv(file_path, low_memory=False)\n",
    "        df.columns = [i.split(\".\")[1] for i in df.columns]\n",
    "\n",
    "        # parse URLs\n",
    "        if self.parse_url == True and column in [\"url\", \"referrer\"]:\n",
    "            df[column] = df[column].apply(\n",
    "                lambda x:urlparse(x).netloc if pd.notnull(x) else x\n",
    "            )\n",
    "\n",
    "        # Encode features\n",
    "        feature_enc = OneHotEncoder(handle_unknown=\"ignore\")\n",
    "        features = pd.DataFrame(\n",
    "            feature_enc.fit_transform(df[feature_cols]).toarray(), \n",
    "            columns=feature_enc.get_feature_names(feature_cols)\n",
    "        )\n",
    "\n",
    "        if self.expand_x is not None:\n",
    "            new_cols = [f\"fake_{self.expand_x-i}\" for i in range(self.expand_x - features.shape[1])][::-1]\n",
    "            for column in new_cols:\n",
    "                features[column] = 0\n",
    "        x = torch.tensor(features.values, dtype=torch.float)\n",
    "        \n",
    "        edges = funcs.connect_edges(df, column)\n",
    "        edge_index = torch.tensor(\n",
    "            edges[['source','target']].T.values, dtype=torch.long\n",
    "        )\n",
    "\n",
    "        return x, edge_index\n",
    "\n",
    "    def process_y(self) -> Tensor:\n",
    "        y_1 = torch.tensor([range(0,2000)])[0]\n",
    "        y_2 = torch.tensor([range(0,2000)])[0]\n",
    "        train_y = torch.stack([y_1, y_2], dim=0)\n",
    "        return train_y"
   ]
  },
  {
   "cell_type": "code",
   "execution_count": 5,
   "id": "a3830bb3-6a3c-46cd-9460-ac5b5e48a662",
   "metadata": {
    "execution": {
     "iopub.execute_input": "2021-08-18T21:52:47.666297Z",
     "iopub.status.busy": "2021-08-18T21:52:47.665910Z",
     "iopub.status.idle": "2021-08-18T21:52:47.732314Z",
     "shell.execute_reply": "2021-08-18T21:52:47.731590Z",
     "shell.execute_reply.started": "2021-08-18T21:52:47.666277Z"
    }
   },
   "outputs": [],
   "source": [
    "sizmek_cols = [\"account_id\", \"referrer_url\", \"city_code\",\n",
    "               \"state_code\", \"dma_code\", \"country_code\"]\n",
    "zync_cols = [\"client\", \"user_agent_platform\",\n",
    "             \"user_agent_language\", \"user_agent_browser\"]\n",
    "\n",
    "\n",
    "zeta_data = ZetaDataset(\n",
    "    root=\"./data/\",\n",
    "    column=[\"url\", \"referrer\"], \n",
    "    label=[\"zeta_user_id\", \"client_id\"], \n",
    "    feature_cols=[sizmek_cols, zync_cols], \n",
    "    parse_url=False\n",
    ")"
   ]
  },
  {
   "cell_type": "code",
   "execution_count": null,
   "id": "f68ed71f-23dd-4cf5-abe3-bb30d45fa646",
   "metadata": {},
   "outputs": [],
   "source": []
  }
 ],
 "metadata": {
  "kernelspec": {
   "display_name": "Python 3",
   "language": "python",
   "name": "python3"
  },
  "language_info": {
   "codemirror_mode": {
    "name": "ipython",
    "version": 3
   },
   "file_extension": ".py",
   "mimetype": "text/x-python",
   "name": "python",
   "nbconvert_exporter": "python",
   "pygments_lexer": "ipython3",
   "version": "3.8.3"
  }
 },
 "nbformat": 4,
 "nbformat_minor": 5
}
