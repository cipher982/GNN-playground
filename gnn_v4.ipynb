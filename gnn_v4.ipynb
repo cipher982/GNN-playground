{
 "cells": [
  {
   "cell_type": "markdown",
   "id": "719c2d46-01df-4713-a214-8bc9c970faec",
   "metadata": {},
   "source": [
    "# Graph Matching Consensus\n",
    "This version (4) uses a custom `pytorch_geometric` Dataset.\n",
    "\n",
    "## Import and Initialize"
   ]
  },
  {
   "cell_type": "code",
   "execution_count": 1,
   "id": "4b8855ed-bd55-453e-96fd-0f93a4fee129",
   "metadata": {
    "execution": {
     "iopub.execute_input": "2021-09-02T15:42:02.592329Z",
     "iopub.status.busy": "2021-09-02T15:42:02.591780Z",
     "iopub.status.idle": "2021-09-02T15:42:04.665397Z",
     "shell.execute_reply": "2021-09-02T15:42:04.664734Z",
     "shell.execute_reply.started": "2021-09-02T15:42:02.592273Z"
    },
    "tags": []
   },
   "outputs": [],
   "source": [
    "from typing import Optional, Callable, List, Dict, Tuple\n",
    "import os\n",
    "\n",
    "import dgmc\n",
    "import pandas as pd\n",
    "from sklearn.preprocessing import OneHotEncoder, LabelEncoder\n",
    "\n",
    "import torch\n",
    "from torch import Tensor\n",
    "import funcs\n",
    "import pytorch_lightning as pl\n",
    "from torch.nn import Linear\n",
    "from torch_geometric.nn import GCNConv\n",
    "from torch_geometric.data import Data\n",
    "import torch_geometric\n",
    "\n",
    "\n",
    "%reload_ext autoreload\n",
    "%autoreload 2\n",
    "\n",
    "device = 'cuda' if torch.cuda.is_available() else 'cpu'"
   ]
  },
  {
   "cell_type": "markdown",
   "id": "5806554f-e090-4cdd-80b8-2b68e34b6265",
   "metadata": {},
   "source": [
    "## Load Dataset"
   ]
  },
  {
   "cell_type": "code",
   "execution_count": 2,
   "id": "6125d024-ed90-4465-bbe3-ccbab5ca755e",
   "metadata": {
    "execution": {
     "iopub.execute_input": "2021-09-02T15:42:04.666802Z",
     "iopub.status.busy": "2021-09-02T15:42:04.666671Z",
     "iopub.status.idle": "2021-09-02T15:42:04.696630Z",
     "shell.execute_reply": "2021-09-02T15:42:04.695860Z",
     "shell.execute_reply.started": "2021-09-02T15:42:04.666786Z"
    },
    "tags": []
   },
   "outputs": [],
   "source": [
    "class ZetaDataset(torch_geometric.data.InMemoryDataset):\n",
    "    def __init__(self, root: str, column: str, label: str, feature_cols=None,\n",
    "                 parse_url=False, expand_x=None, transform=None, pre_transform=None\n",
    "        ):\n",
    "        self.root = root\n",
    "        self.column = column\n",
    "        self.label = label\n",
    "        self.feature_cols = feature_cols\n",
    "        self.parse_url = parse_url\n",
    "        self.expand_x = expand_x\n",
    "        super(ZetaDataset, self).__init__(root, transform, pre_transform)\n",
    "        self.data, self.slices = torch.load(self.processed_paths[0])\n",
    "        print(\"Removing processed file. . .\")\n",
    "        os.remove(self.processed_paths[0])\n",
    "\n",
    "    @property\n",
    "    def raw_file_names(self) -> List[str]:\n",
    "        return [\n",
    "            \"sizmek_bidstream_raw_20210625_10k.csv\", \n",
    "            \"zync_session_tracking_orc_20210625_10k.csv\"\n",
    "        ]\n",
    "\n",
    "    @property\n",
    "    def processed_file_names(self):\n",
    "        return [\"ZetaDataset.pt\"]\n",
    "\n",
    "    def download(self):\n",
    "        pass\n",
    "\n",
    "    def process(self):\n",
    "        sizmek_path = os.path.join(self.root, self.raw_file_names[0])\n",
    "        zync_path = os.path.join(self.root, self.raw_file_names[1])\n",
    "        \n",
    "        print(\"Loading\", sizmek_path)\n",
    "        x1, edge_index1 = self.process_graph(sizmek_path, self.column[0], self.feature_cols[0])\n",
    "        x2, edge_index2 = self.process_graph(zync_path, self.column[1], self.feature_cols[1], 596)\n",
    "\n",
    "        train_y = self.process_y()\n",
    "        test_y = self.process_y()\n",
    "\n",
    "        data = Data(x1=x1, edge_index1=edge_index1, x2=x2,\n",
    "                    edge_index2=edge_index2, train_y=train_y,\n",
    "                    test_y=test_y)\n",
    "        torch.save(self.collate([data]), self.processed_paths[0])\n",
    "\n",
    "    def process_graph(self, file_path, column: str, feature_cols: List, expand_x: int=None):\n",
    "        print(f\"Processing graph for {file_path} on {column}\")\n",
    "        df = pd.read_csv(file_path, low_memory=False)\n",
    "        df.columns = [i.split(\".\")[1] for i in df.columns]\n",
    "\n",
    "        # parse URLs\n",
    "        if self.parse_url == True and column in [\"url\", \"referrer\"]:\n",
    "            df[column] = df[column].apply(\n",
    "                lambda x:urlparse(x).netloc if pd.notnull(x) else x\n",
    "            )\n",
    "\n",
    "        # Encode features\n",
    "        feature_enc = OneHotEncoder(handle_unknown=\"ignore\")\n",
    "        features = pd.DataFrame(\n",
    "            feature_enc.fit_transform(df[feature_cols]).toarray(), \n",
    "            columns=feature_enc.get_feature_names(feature_cols)\n",
    "        )\n",
    "        if expand_x is not None:\n",
    "            print(f\"Expanding X to {expand_x}\")\n",
    "            new_cols = [f\"fake_{expand_x-i}\" for i in range(expand_x - features.shape[1])][::-1]\n",
    "            for col in new_cols:\n",
    "                features[col] = 0\n",
    "        x = torch.tensor(features.values, dtype=torch.float)\n",
    "        \n",
    "        edges = funcs.connect_edges(df, column)\n",
    "        edge_index = torch.tensor(\n",
    "            edges[['source','target']].T.values, dtype=torch.long\n",
    "        )\n",
    "\n",
    "        return x, edge_index\n",
    "\n",
    "    def process_y(self) -> Tensor:\n",
    "        y_1 = torch.tensor([range(0,2000)])[0]\n",
    "        y_2 = torch.tensor([range(0,2000)])[0]\n",
    "        train_y = torch.stack([y_1, y_2], dim=0)\n",
    "        return train_y\n",
    "    \n",
    "    def __repr__(self) -> str:\n",
    "        return f\"{self.__class__.__name__}(sizmek/zync)\""
   ]
  },
  {
   "cell_type": "code",
   "execution_count": 3,
   "id": "a3830bb3-6a3c-46cd-9460-ac5b5e48a662",
   "metadata": {
    "execution": {
     "iopub.execute_input": "2021-09-02T15:42:05.467157Z",
     "iopub.status.busy": "2021-09-02T15:42:05.466644Z",
     "iopub.status.idle": "2021-09-02T15:42:06.977835Z",
     "shell.execute_reply": "2021-09-02T15:42:06.977086Z",
     "shell.execute_reply.started": "2021-09-02T15:42:05.467140Z"
    },
    "tags": []
   },
   "outputs": [
    {
     "name": "stdout",
     "output_type": "stream",
     "text": [
      "Processing...\n",
      "Loading data/sizmek_bidstream_raw_20210625_10k.csv\n",
      "Processing graph for data/sizmek_bidstream_raw_20210625_10k.csv on url\n",
      "Create dict for url\n",
      "Processing graph for data/zync_session_tracking_orc_20210625_10k.csv on referrer\n",
      "Expanding X to 596\n"
     ]
    },
    {
     "name": "stderr",
     "output_type": "stream",
     "text": [
      "/tmp/ipykernel_29243/3048041613.py:67: PerformanceWarning: DataFrame is highly fragmented.  This is usually the result of calling `frame.insert` many times, which has poor performance.  Consider using pd.concat instead.  To get a de-fragmented frame, use `newframe = frame.copy()`\n",
      "  features[col] = 0\n"
     ]
    },
    {
     "name": "stdout",
     "output_type": "stream",
     "text": [
      "Create dict for referrer\n",
      "Done!\n",
      "Removing processed file. . .\n"
     ]
    },
    {
     "data": {
      "text/plain": [
       "ZetaDataset(sizmek/zync)"
      ]
     },
     "execution_count": 3,
     "metadata": {},
     "output_type": "execute_result"
    }
   ],
   "source": [
    "class SumEmbedding(object):\n",
    "    def __call__(self, data):\n",
    "        data.x1, data.x2 = data.x1.sum(dim=1), data.x2.sum(dim=1)\n",
    "        return data\n",
    "\n",
    "\n",
    "sizmek_cols = [\"account_id\", \"referrer_url\", \"city_code\",\n",
    "               \"state_code\", \"dma_code\", \"country_code\"]\n",
    "zync_cols = [\"client\", \"user_agent_platform\",\n",
    "             \"user_agent_language\", \"user_agent_browser\"]\n",
    "\n",
    "\n",
    "zeta_data = ZetaDataset(\n",
    "    root=\"./data/\",\n",
    "    column=[\"url\", \"referrer\"],\n",
    "    label=[\"zeta_user_id\", \"client_id\"],\n",
    "    feature_cols=[sizmek_cols, zync_cols],\n",
    "    parse_url=False,\n",
    "    transform=SumEmbedding()\n",
    ")\n",
    "zeta_data"
   ]
  },
  {
   "cell_type": "code",
   "execution_count": 4,
   "id": "f68ed71f-23dd-4cf5-abe3-bb30d45fa646",
   "metadata": {
    "execution": {
     "iopub.execute_input": "2021-09-02T15:42:06.979212Z",
     "iopub.status.busy": "2021-09-02T15:42:06.978903Z",
     "iopub.status.idle": "2021-09-02T15:42:07.023894Z",
     "shell.execute_reply": "2021-09-02T15:42:07.023279Z",
     "shell.execute_reply.started": "2021-09-02T15:42:06.979193Z"
    },
    "tags": []
   },
   "outputs": [
    {
     "data": {
      "text/plain": [
       "RelCNN(596, 256, num_layers=3, batch_norm=False, cat=True, lin=True, dropout=0.5)"
      ]
     },
     "execution_count": 4,
     "metadata": {},
     "output_type": "execute_result"
    }
   ],
   "source": [
    "import argparse\n",
    "\n",
    "parser = argparse.ArgumentParser()\n",
    "parser.add_argument('--dim', type=int, default=256)\n",
    "parser.add_argument('--rnd_dim', type=int, default=32)\n",
    "parser.add_argument('--num_layers', type=int, default=3)\n",
    "parser.add_argument('--num_steps', type=int, default=10)\n",
    "parser.add_argument('--k', type=int, default=10)\n",
    "args = parser.parse_args(\"\")\n",
    "\n",
    "\n",
    "psi_1 = dgmc.models.RelCNN(zeta_data.data.x1.size(-1), args.dim, args.num_layers, batch_norm=False,\n",
    "               cat=True, lin=True, dropout=0.5)\n",
    "psi_2 = dgmc.models.RelCNN(args.rnd_dim, args.rnd_dim, args.num_layers, batch_norm=False,\n",
    "               cat=True, lin=True, dropout=0.0)\n",
    "\n",
    "psi_1"
   ]
  },
  {
   "cell_type": "code",
   "execution_count": 5,
   "id": "f7d9b9f8-e85a-4a2b-95a5-d99606dd643d",
   "metadata": {
    "execution": {
     "iopub.execute_input": "2021-09-02T15:42:08.601057Z",
     "iopub.status.busy": "2021-09-02T15:42:08.600546Z",
     "iopub.status.idle": "2021-09-02T15:42:08.627274Z",
     "shell.execute_reply": "2021-09-02T15:42:08.626508Z",
     "shell.execute_reply.started": "2021-09-02T15:42:08.601036Z"
    },
    "tags": []
   },
   "outputs": [],
   "source": [
    "model = dgmc.models.DGMC(psi_1, psi_2, num_steps=None, k=args.k).to(device)\n",
    "optimizer = torch.optim.Adam(model.parameters(), lr=0.001)\n",
    "data = zeta_data.data\n",
    "\n",
    "def train():\n",
    "    model.train()\n",
    "    optimizer.zero_grad()\n",
    "\n",
    "    _, S_L = model(data.x1, data.edge_index1, None, None, data.x2,\n",
    "                   data.edge_index2, None, None, data.train_y)\n",
    "\n",
    "    loss = model.loss(S_L, data.train_y)\n",
    "    loss.backward()\n",
    "    optimizer.step()\n",
    "    return loss\n",
    "\n",
    "@torch.no_grad()\n",
    "def test():\n",
    "    model.eval()\n",
    "\n",
    "    _, S_L = model(data.x1, data.edge_index1, None, None, data.x2,\n",
    "                   data.edge_index2, None, None)\n",
    "\n",
    "    hits1 = model.acc(S_L, data.test_y)\n",
    "    hits10 = model.hits_at_k(10, S_L, data.test_y)\n",
    "\n",
    "    return hits1, hits10"
   ]
  },
  {
   "cell_type": "code",
   "execution_count": 13,
   "id": "fe2c7886-a188-4f6e-9f6a-f64e2cd15f10",
   "metadata": {
    "collapsed": true,
    "execution": {
     "iopub.execute_input": "2021-08-30T16:34:42.918941Z",
     "iopub.status.busy": "2021-08-30T16:34:42.918719Z",
     "iopub.status.idle": "2021-08-30T16:44:31.503844Z",
     "shell.execute_reply": "2021-08-30T16:44:31.502978Z",
     "shell.execute_reply.started": "2021-08-30T16:34:42.918925Z"
    },
    "jupyter": {
     "outputs_hidden": true
    },
    "tags": []
   },
   "outputs": [
    {
     "name": "stdout",
     "output_type": "stream",
     "text": [
      "Optimize initial feature matching...\n",
      "S: torch.Size([10000, 596]), torch.Size([2, 2212814])\n",
      "T: torch.Size([10000, 596]), torch.Size([2, 110023])\n",
      "S: torch.Size([10000, 596]), torch.Size([2, 2212814])\n",
      "T: torch.Size([10000, 596]), torch.Size([2, 110023])\n",
      "001: Loss: 3.0940, Hits@1: 0.0000, Hits@10: 0.0025\n",
      "S: torch.Size([10000, 596]), torch.Size([2, 2212814])\n",
      "T: torch.Size([10000, 596]), torch.Size([2, 110023])\n",
      "S: torch.Size([10000, 596]), torch.Size([2, 2212814])\n",
      "T: torch.Size([10000, 596]), torch.Size([2, 110023])\n",
      "002: Loss: 3.0814, Hits@1: 0.0000, Hits@10: 0.0030\n",
      "Refine correspondence matrix...\n",
      "S: torch.Size([10000, 596]), torch.Size([2, 2212814])\n",
      "T: torch.Size([10000, 596]), torch.Size([2, 110023])\n",
      "S: torch.Size([10000, 596]), torch.Size([2, 2212814])\n",
      "T: torch.Size([10000, 596]), torch.Size([2, 110023])\n",
      "003: Loss: 2.9844, Hits@1: 0.0010, Hits@10: 0.0040\n",
      "S: torch.Size([10000, 596]), torch.Size([2, 2212814])\n",
      "T: torch.Size([10000, 596]), torch.Size([2, 110023])\n",
      "S: torch.Size([10000, 596]), torch.Size([2, 2212814])\n",
      "T: torch.Size([10000, 596]), torch.Size([2, 110023])\n"
     ]
    },
    {
     "ename": "KeyboardInterrupt",
     "evalue": "",
     "output_type": "error",
     "traceback": [
      "\u001b[0;31m---------------------------------------------------------------------------\u001b[0m",
      "\u001b[0;31mKeyboardInterrupt\u001b[0m                         Traceback (most recent call last)",
      "\u001b[0;32m/tmp/ipykernel_1337/505232808.py\u001b[0m in \u001b[0;36m<module>\u001b[0;34m\u001b[0m\n\u001b[1;32m     11\u001b[0m     \u001b[0;31m#if epoch % 10 == 0 or epoch > 100:\u001b[0m\u001b[0;34m\u001b[0m\u001b[0;34m\u001b[0m\u001b[0;34m\u001b[0m\u001b[0m\n\u001b[1;32m     12\u001b[0m     \u001b[0;32mif\u001b[0m \u001b[0;32mTrue\u001b[0m\u001b[0;34m:\u001b[0m\u001b[0;34m\u001b[0m\u001b[0;34m\u001b[0m\u001b[0m\n\u001b[0;32m---> 13\u001b[0;31m         \u001b[0mhits1\u001b[0m\u001b[0;34m,\u001b[0m \u001b[0mhits10\u001b[0m \u001b[0;34m=\u001b[0m \u001b[0mtest\u001b[0m\u001b[0;34m(\u001b[0m\u001b[0;34m)\u001b[0m\u001b[0;34m\u001b[0m\u001b[0;34m\u001b[0m\u001b[0m\n\u001b[0m\u001b[1;32m     14\u001b[0m         print((f'{epoch:03d}: Loss: {loss:.4f}, Hits@1: {hits1:.4f}, '\n\u001b[1;32m     15\u001b[0m                f'Hits@10: {hits10:.4f}'))\n",
      "\u001b[0;32m~/github/.envs/.gmc/lib/python3.8/site-packages/torch/autograd/grad_mode.py\u001b[0m in \u001b[0;36mdecorate_context\u001b[0;34m(*args, **kwargs)\u001b[0m\n\u001b[1;32m     26\u001b[0m         \u001b[0;32mdef\u001b[0m \u001b[0mdecorate_context\u001b[0m\u001b[0;34m(\u001b[0m\u001b[0;34m*\u001b[0m\u001b[0margs\u001b[0m\u001b[0;34m,\u001b[0m \u001b[0;34m**\u001b[0m\u001b[0mkwargs\u001b[0m\u001b[0;34m)\u001b[0m\u001b[0;34m:\u001b[0m\u001b[0;34m\u001b[0m\u001b[0;34m\u001b[0m\u001b[0m\n\u001b[1;32m     27\u001b[0m             \u001b[0;32mwith\u001b[0m \u001b[0mself\u001b[0m\u001b[0;34m.\u001b[0m\u001b[0m__class__\u001b[0m\u001b[0;34m(\u001b[0m\u001b[0;34m)\u001b[0m\u001b[0;34m:\u001b[0m\u001b[0;34m\u001b[0m\u001b[0;34m\u001b[0m\u001b[0m\n\u001b[0;32m---> 28\u001b[0;31m                 \u001b[0;32mreturn\u001b[0m \u001b[0mfunc\u001b[0m\u001b[0;34m(\u001b[0m\u001b[0;34m*\u001b[0m\u001b[0margs\u001b[0m\u001b[0;34m,\u001b[0m \u001b[0;34m**\u001b[0m\u001b[0mkwargs\u001b[0m\u001b[0;34m)\u001b[0m\u001b[0;34m\u001b[0m\u001b[0;34m\u001b[0m\u001b[0m\n\u001b[0m\u001b[1;32m     29\u001b[0m         \u001b[0;32mreturn\u001b[0m \u001b[0mcast\u001b[0m\u001b[0;34m(\u001b[0m\u001b[0mF\u001b[0m\u001b[0;34m,\u001b[0m \u001b[0mdecorate_context\u001b[0m\u001b[0;34m)\u001b[0m\u001b[0;34m\u001b[0m\u001b[0;34m\u001b[0m\u001b[0m\n\u001b[1;32m     30\u001b[0m \u001b[0;34m\u001b[0m\u001b[0m\n",
      "\u001b[0;32m/tmp/ipykernel_1337/1193754241.py\u001b[0m in \u001b[0;36mtest\u001b[0;34m()\u001b[0m\n\u001b[1;32m     19\u001b[0m     \u001b[0mmodel\u001b[0m\u001b[0;34m.\u001b[0m\u001b[0meval\u001b[0m\u001b[0;34m(\u001b[0m\u001b[0;34m)\u001b[0m\u001b[0;34m\u001b[0m\u001b[0;34m\u001b[0m\u001b[0m\n\u001b[1;32m     20\u001b[0m \u001b[0;34m\u001b[0m\u001b[0m\n\u001b[0;32m---> 21\u001b[0;31m     _, S_L = model(data.x1, data.edge_index1, None, None, data.x2,\n\u001b[0m\u001b[1;32m     22\u001b[0m                    data.edge_index2, None, None)\n\u001b[1;32m     23\u001b[0m \u001b[0;34m\u001b[0m\u001b[0m\n",
      "\u001b[0;32m~/github/.envs/.gmc/lib/python3.8/site-packages/torch/nn/modules/module.py\u001b[0m in \u001b[0;36m_call_impl\u001b[0;34m(self, *input, **kwargs)\u001b[0m\n\u001b[1;32m   1049\u001b[0m         if not (self._backward_hooks or self._forward_hooks or self._forward_pre_hooks or _global_backward_hooks\n\u001b[1;32m   1050\u001b[0m                 or _global_forward_hooks or _global_forward_pre_hooks):\n\u001b[0;32m-> 1051\u001b[0;31m             \u001b[0;32mreturn\u001b[0m \u001b[0mforward_call\u001b[0m\u001b[0;34m(\u001b[0m\u001b[0;34m*\u001b[0m\u001b[0minput\u001b[0m\u001b[0;34m,\u001b[0m \u001b[0;34m**\u001b[0m\u001b[0mkwargs\u001b[0m\u001b[0;34m)\u001b[0m\u001b[0;34m\u001b[0m\u001b[0;34m\u001b[0m\u001b[0m\n\u001b[0m\u001b[1;32m   1052\u001b[0m         \u001b[0;31m# Do not call functions when jit is used\u001b[0m\u001b[0;34m\u001b[0m\u001b[0;34m\u001b[0m\u001b[0;34m\u001b[0m\u001b[0m\n\u001b[1;32m   1053\u001b[0m         \u001b[0mfull_backward_hooks\u001b[0m\u001b[0;34m,\u001b[0m \u001b[0mnon_full_backward_hooks\u001b[0m \u001b[0;34m=\u001b[0m \u001b[0;34m[\u001b[0m\u001b[0;34m]\u001b[0m\u001b[0;34m,\u001b[0m \u001b[0;34m[\u001b[0m\u001b[0;34m]\u001b[0m\u001b[0;34m\u001b[0m\u001b[0;34m\u001b[0m\u001b[0m\n",
      "\u001b[0;32m~/github/deep-graph-matching-consensus/dgmc/models/dgmc.py\u001b[0m in \u001b[0;36mforward\u001b[0;34m(self, x_s, edge_index_s, edge_attr_s, batch_s, x_t, edge_index_t, edge_attr_t, batch_t, y)\u001b[0m\n\u001b[1;32m    219\u001b[0m \u001b[0;34m\u001b[0m\u001b[0m\n\u001b[1;32m    220\u001b[0m                 \u001b[0mr_s\u001b[0m\u001b[0;34m,\u001b[0m \u001b[0mr_t\u001b[0m \u001b[0;34m=\u001b[0m \u001b[0mto_sparse\u001b[0m\u001b[0;34m(\u001b[0m\u001b[0mr_s\u001b[0m\u001b[0;34m,\u001b[0m \u001b[0ms_mask\u001b[0m\u001b[0;34m)\u001b[0m\u001b[0;34m,\u001b[0m \u001b[0mto_sparse\u001b[0m\u001b[0;34m(\u001b[0m\u001b[0mr_t\u001b[0m\u001b[0;34m,\u001b[0m \u001b[0mt_mask\u001b[0m\u001b[0;34m)\u001b[0m\u001b[0;34m\u001b[0m\u001b[0;34m\u001b[0m\u001b[0m\n\u001b[0;32m--> 221\u001b[0;31m                 \u001b[0mo_s\u001b[0m \u001b[0;34m=\u001b[0m \u001b[0mself\u001b[0m\u001b[0;34m.\u001b[0m\u001b[0mpsi_2\u001b[0m\u001b[0;34m(\u001b[0m\u001b[0mr_s\u001b[0m\u001b[0;34m,\u001b[0m \u001b[0medge_index_s\u001b[0m\u001b[0;34m,\u001b[0m \u001b[0medge_attr_s\u001b[0m\u001b[0;34m)\u001b[0m\u001b[0;34m\u001b[0m\u001b[0;34m\u001b[0m\u001b[0m\n\u001b[0m\u001b[1;32m    222\u001b[0m                 \u001b[0mo_t\u001b[0m \u001b[0;34m=\u001b[0m \u001b[0mself\u001b[0m\u001b[0;34m.\u001b[0m\u001b[0mpsi_2\u001b[0m\u001b[0;34m(\u001b[0m\u001b[0mr_t\u001b[0m\u001b[0;34m,\u001b[0m \u001b[0medge_index_t\u001b[0m\u001b[0;34m,\u001b[0m \u001b[0medge_attr_t\u001b[0m\u001b[0;34m)\u001b[0m\u001b[0;34m\u001b[0m\u001b[0;34m\u001b[0m\u001b[0m\n\u001b[1;32m    223\u001b[0m                 \u001b[0mo_s\u001b[0m\u001b[0;34m,\u001b[0m \u001b[0mo_t\u001b[0m \u001b[0;34m=\u001b[0m \u001b[0mto_dense\u001b[0m\u001b[0;34m(\u001b[0m\u001b[0mo_s\u001b[0m\u001b[0;34m,\u001b[0m \u001b[0ms_mask\u001b[0m\u001b[0;34m)\u001b[0m\u001b[0;34m,\u001b[0m \u001b[0mto_dense\u001b[0m\u001b[0;34m(\u001b[0m\u001b[0mo_t\u001b[0m\u001b[0;34m,\u001b[0m \u001b[0mt_mask\u001b[0m\u001b[0;34m)\u001b[0m\u001b[0;34m\u001b[0m\u001b[0;34m\u001b[0m\u001b[0m\n",
      "\u001b[0;32m~/github/.envs/.gmc/lib/python3.8/site-packages/torch/nn/modules/module.py\u001b[0m in \u001b[0;36m_call_impl\u001b[0;34m(self, *input, **kwargs)\u001b[0m\n\u001b[1;32m   1049\u001b[0m         if not (self._backward_hooks or self._forward_hooks or self._forward_pre_hooks or _global_backward_hooks\n\u001b[1;32m   1050\u001b[0m                 or _global_forward_hooks or _global_forward_pre_hooks):\n\u001b[0;32m-> 1051\u001b[0;31m             \u001b[0;32mreturn\u001b[0m \u001b[0mforward_call\u001b[0m\u001b[0;34m(\u001b[0m\u001b[0;34m*\u001b[0m\u001b[0minput\u001b[0m\u001b[0;34m,\u001b[0m \u001b[0;34m**\u001b[0m\u001b[0mkwargs\u001b[0m\u001b[0;34m)\u001b[0m\u001b[0;34m\u001b[0m\u001b[0;34m\u001b[0m\u001b[0m\n\u001b[0m\u001b[1;32m   1052\u001b[0m         \u001b[0;31m# Do not call functions when jit is used\u001b[0m\u001b[0;34m\u001b[0m\u001b[0;34m\u001b[0m\u001b[0;34m\u001b[0m\u001b[0m\n\u001b[1;32m   1053\u001b[0m         \u001b[0mfull_backward_hooks\u001b[0m\u001b[0;34m,\u001b[0m \u001b[0mnon_full_backward_hooks\u001b[0m \u001b[0;34m=\u001b[0m \u001b[0;34m[\u001b[0m\u001b[0;34m]\u001b[0m\u001b[0;34m,\u001b[0m \u001b[0;34m[\u001b[0m\u001b[0;34m]\u001b[0m\u001b[0;34m\u001b[0m\u001b[0;34m\u001b[0m\u001b[0m\n",
      "\u001b[0;32m~/github/deep-graph-matching-consensus/dgmc/models/rel.py\u001b[0m in \u001b[0;36mforward\u001b[0;34m(self, x, edge_index, *args)\u001b[0m\n\u001b[1;32m     83\u001b[0m \u001b[0;34m\u001b[0m\u001b[0m\n\u001b[1;32m     84\u001b[0m         \u001b[0;32mfor\u001b[0m \u001b[0mconv\u001b[0m\u001b[0;34m,\u001b[0m \u001b[0mbatch_norm\u001b[0m \u001b[0;32min\u001b[0m \u001b[0mzip\u001b[0m\u001b[0;34m(\u001b[0m\u001b[0mself\u001b[0m\u001b[0;34m.\u001b[0m\u001b[0mconvs\u001b[0m\u001b[0;34m,\u001b[0m \u001b[0mself\u001b[0m\u001b[0;34m.\u001b[0m\u001b[0mbatch_norms\u001b[0m\u001b[0;34m)\u001b[0m\u001b[0;34m:\u001b[0m\u001b[0;34m\u001b[0m\u001b[0;34m\u001b[0m\u001b[0m\n\u001b[0;32m---> 85\u001b[0;31m             \u001b[0mx\u001b[0m \u001b[0;34m=\u001b[0m \u001b[0mconv\u001b[0m\u001b[0;34m(\u001b[0m\u001b[0mxs\u001b[0m\u001b[0;34m[\u001b[0m\u001b[0;34m-\u001b[0m\u001b[0;36m1\u001b[0m\u001b[0;34m]\u001b[0m\u001b[0;34m,\u001b[0m \u001b[0medge_index\u001b[0m\u001b[0;34m)\u001b[0m\u001b[0;34m\u001b[0m\u001b[0;34m\u001b[0m\u001b[0m\n\u001b[0m\u001b[1;32m     86\u001b[0m             \u001b[0mx\u001b[0m \u001b[0;34m=\u001b[0m \u001b[0mbatch_norm\u001b[0m\u001b[0;34m(\u001b[0m\u001b[0mF\u001b[0m\u001b[0;34m.\u001b[0m\u001b[0mrelu\u001b[0m\u001b[0;34m(\u001b[0m\u001b[0mx\u001b[0m\u001b[0;34m)\u001b[0m\u001b[0;34m)\u001b[0m \u001b[0;32mif\u001b[0m \u001b[0mself\u001b[0m\u001b[0;34m.\u001b[0m\u001b[0mbatch_norm\u001b[0m \u001b[0;32melse\u001b[0m \u001b[0mF\u001b[0m\u001b[0;34m.\u001b[0m\u001b[0mrelu\u001b[0m\u001b[0;34m(\u001b[0m\u001b[0mx\u001b[0m\u001b[0;34m)\u001b[0m\u001b[0;34m\u001b[0m\u001b[0;34m\u001b[0m\u001b[0m\n\u001b[1;32m     87\u001b[0m             \u001b[0mx\u001b[0m \u001b[0;34m=\u001b[0m \u001b[0mF\u001b[0m\u001b[0;34m.\u001b[0m\u001b[0mdropout\u001b[0m\u001b[0;34m(\u001b[0m\u001b[0mx\u001b[0m\u001b[0;34m,\u001b[0m \u001b[0mp\u001b[0m\u001b[0;34m=\u001b[0m\u001b[0mself\u001b[0m\u001b[0;34m.\u001b[0m\u001b[0mdropout\u001b[0m\u001b[0;34m,\u001b[0m \u001b[0mtraining\u001b[0m\u001b[0;34m=\u001b[0m\u001b[0mself\u001b[0m\u001b[0;34m.\u001b[0m\u001b[0mtraining\u001b[0m\u001b[0;34m)\u001b[0m\u001b[0;34m\u001b[0m\u001b[0;34m\u001b[0m\u001b[0m\n",
      "\u001b[0;32m~/github/.envs/.gmc/lib/python3.8/site-packages/torch/nn/modules/module.py\u001b[0m in \u001b[0;36m_call_impl\u001b[0;34m(self, *input, **kwargs)\u001b[0m\n\u001b[1;32m   1049\u001b[0m         if not (self._backward_hooks or self._forward_hooks or self._forward_pre_hooks or _global_backward_hooks\n\u001b[1;32m   1050\u001b[0m                 or _global_forward_hooks or _global_forward_pre_hooks):\n\u001b[0;32m-> 1051\u001b[0;31m             \u001b[0;32mreturn\u001b[0m \u001b[0mforward_call\u001b[0m\u001b[0;34m(\u001b[0m\u001b[0;34m*\u001b[0m\u001b[0minput\u001b[0m\u001b[0;34m,\u001b[0m \u001b[0;34m**\u001b[0m\u001b[0mkwargs\u001b[0m\u001b[0;34m)\u001b[0m\u001b[0;34m\u001b[0m\u001b[0;34m\u001b[0m\u001b[0m\n\u001b[0m\u001b[1;32m   1052\u001b[0m         \u001b[0;31m# Do not call functions when jit is used\u001b[0m\u001b[0;34m\u001b[0m\u001b[0;34m\u001b[0m\u001b[0;34m\u001b[0m\u001b[0m\n\u001b[1;32m   1053\u001b[0m         \u001b[0mfull_backward_hooks\u001b[0m\u001b[0;34m,\u001b[0m \u001b[0mnon_full_backward_hooks\u001b[0m \u001b[0;34m=\u001b[0m \u001b[0;34m[\u001b[0m\u001b[0;34m]\u001b[0m\u001b[0;34m,\u001b[0m \u001b[0;34m[\u001b[0m\u001b[0;34m]\u001b[0m\u001b[0;34m\u001b[0m\u001b[0;34m\u001b[0m\u001b[0m\n",
      "\u001b[0;32m~/github/deep-graph-matching-consensus/dgmc/models/rel.py\u001b[0m in \u001b[0;36mforward\u001b[0;34m(self, x, edge_index)\u001b[0m\n\u001b[1;32m     28\u001b[0m         \u001b[0mout1\u001b[0m \u001b[0;34m=\u001b[0m \u001b[0mself\u001b[0m\u001b[0;34m.\u001b[0m\u001b[0mpropagate\u001b[0m\u001b[0;34m(\u001b[0m\u001b[0medge_index\u001b[0m\u001b[0;34m,\u001b[0m \u001b[0mx\u001b[0m\u001b[0;34m=\u001b[0m\u001b[0mself\u001b[0m\u001b[0;34m.\u001b[0m\u001b[0mlin1\u001b[0m\u001b[0;34m(\u001b[0m\u001b[0mx\u001b[0m\u001b[0;34m)\u001b[0m\u001b[0;34m)\u001b[0m\u001b[0;34m\u001b[0m\u001b[0;34m\u001b[0m\u001b[0m\n\u001b[1;32m     29\u001b[0m         \u001b[0mself\u001b[0m\u001b[0;34m.\u001b[0m\u001b[0mflow\u001b[0m \u001b[0;34m=\u001b[0m \u001b[0;34m'target_to_source'\u001b[0m\u001b[0;34m\u001b[0m\u001b[0;34m\u001b[0m\u001b[0m\n\u001b[0;32m---> 30\u001b[0;31m         \u001b[0mout2\u001b[0m \u001b[0;34m=\u001b[0m \u001b[0mself\u001b[0m\u001b[0;34m.\u001b[0m\u001b[0mpropagate\u001b[0m\u001b[0;34m(\u001b[0m\u001b[0medge_index\u001b[0m\u001b[0;34m,\u001b[0m \u001b[0mx\u001b[0m\u001b[0;34m=\u001b[0m\u001b[0mself\u001b[0m\u001b[0;34m.\u001b[0m\u001b[0mlin2\u001b[0m\u001b[0;34m(\u001b[0m\u001b[0mx\u001b[0m\u001b[0;34m)\u001b[0m\u001b[0;34m)\u001b[0m\u001b[0;34m\u001b[0m\u001b[0;34m\u001b[0m\u001b[0m\n\u001b[0m\u001b[1;32m     31\u001b[0m         \u001b[0;32mreturn\u001b[0m \u001b[0mself\u001b[0m\u001b[0;34m.\u001b[0m\u001b[0mroot\u001b[0m\u001b[0;34m(\u001b[0m\u001b[0mx\u001b[0m\u001b[0;34m)\u001b[0m \u001b[0;34m+\u001b[0m \u001b[0mout1\u001b[0m \u001b[0;34m+\u001b[0m \u001b[0mout2\u001b[0m\u001b[0;34m\u001b[0m\u001b[0;34m\u001b[0m\u001b[0m\n\u001b[1;32m     32\u001b[0m \u001b[0;34m\u001b[0m\u001b[0m\n",
      "\u001b[0;32m~/github/pytorch_geometric/torch_geometric/nn/conv/message_passing.py\u001b[0m in \u001b[0;36mpropagate\u001b[0;34m(self, edge_index, size, **kwargs)\u001b[0m\n\u001b[1;32m    254\u001b[0m \u001b[0;34m\u001b[0m\u001b[0m\n\u001b[1;32m    255\u001b[0m             \u001b[0maggr_kwargs\u001b[0m \u001b[0;34m=\u001b[0m \u001b[0mself\u001b[0m\u001b[0;34m.\u001b[0m\u001b[0minspector\u001b[0m\u001b[0;34m.\u001b[0m\u001b[0mdistribute\u001b[0m\u001b[0;34m(\u001b[0m\u001b[0;34m'aggregate'\u001b[0m\u001b[0;34m,\u001b[0m \u001b[0mcoll_dict\u001b[0m\u001b[0;34m)\u001b[0m\u001b[0;34m\u001b[0m\u001b[0;34m\u001b[0m\u001b[0m\n\u001b[0;32m--> 256\u001b[0;31m             \u001b[0mout\u001b[0m \u001b[0;34m=\u001b[0m \u001b[0mself\u001b[0m\u001b[0;34m.\u001b[0m\u001b[0maggregate\u001b[0m\u001b[0;34m(\u001b[0m\u001b[0mout\u001b[0m\u001b[0;34m,\u001b[0m \u001b[0;34m**\u001b[0m\u001b[0maggr_kwargs\u001b[0m\u001b[0;34m)\u001b[0m\u001b[0;34m\u001b[0m\u001b[0;34m\u001b[0m\u001b[0m\n\u001b[0m\u001b[1;32m    257\u001b[0m \u001b[0;34m\u001b[0m\u001b[0m\n\u001b[1;32m    258\u001b[0m             \u001b[0mupdate_kwargs\u001b[0m \u001b[0;34m=\u001b[0m \u001b[0mself\u001b[0m\u001b[0;34m.\u001b[0m\u001b[0minspector\u001b[0m\u001b[0;34m.\u001b[0m\u001b[0mdistribute\u001b[0m\u001b[0;34m(\u001b[0m\u001b[0;34m'update'\u001b[0m\u001b[0;34m,\u001b[0m \u001b[0mcoll_dict\u001b[0m\u001b[0;34m)\u001b[0m\u001b[0;34m\u001b[0m\u001b[0;34m\u001b[0m\u001b[0m\n",
      "\u001b[0;32m~/github/pytorch_geometric/torch_geometric/nn/conv/message_passing.py\u001b[0m in \u001b[0;36maggregate\u001b[0;34m(self, inputs, index, ptr, dim_size)\u001b[0m\n\u001b[1;32m    288\u001b[0m             \u001b[0;32mreturn\u001b[0m \u001b[0msegment_csr\u001b[0m\u001b[0;34m(\u001b[0m\u001b[0minputs\u001b[0m\u001b[0;34m,\u001b[0m \u001b[0mptr\u001b[0m\u001b[0;34m,\u001b[0m \u001b[0mreduce\u001b[0m\u001b[0;34m=\u001b[0m\u001b[0mself\u001b[0m\u001b[0;34m.\u001b[0m\u001b[0maggr\u001b[0m\u001b[0;34m)\u001b[0m\u001b[0;34m\u001b[0m\u001b[0;34m\u001b[0m\u001b[0m\n\u001b[1;32m    289\u001b[0m         \u001b[0;32melse\u001b[0m\u001b[0;34m:\u001b[0m\u001b[0;34m\u001b[0m\u001b[0;34m\u001b[0m\u001b[0m\n\u001b[0;32m--> 290\u001b[0;31m             return scatter(inputs, index, dim=self.node_dim, dim_size=dim_size,\n\u001b[0m\u001b[1;32m    291\u001b[0m                            reduce=self.aggr)\n\u001b[1;32m    292\u001b[0m \u001b[0;34m\u001b[0m\u001b[0m\n",
      "\u001b[0;32m~/github/.envs/.gmc/lib/python3.8/site-packages/torch_scatter/scatter.py\u001b[0m in \u001b[0;36mscatter\u001b[0;34m(src, index, dim, out, dim_size, reduce)\u001b[0m\n\u001b[1;32m    155\u001b[0m         \u001b[0;32mreturn\u001b[0m \u001b[0mscatter_mul\u001b[0m\u001b[0;34m(\u001b[0m\u001b[0msrc\u001b[0m\u001b[0;34m,\u001b[0m \u001b[0mindex\u001b[0m\u001b[0;34m,\u001b[0m \u001b[0mdim\u001b[0m\u001b[0;34m,\u001b[0m \u001b[0mout\u001b[0m\u001b[0;34m,\u001b[0m \u001b[0mdim_size\u001b[0m\u001b[0;34m)\u001b[0m\u001b[0;34m\u001b[0m\u001b[0;34m\u001b[0m\u001b[0m\n\u001b[1;32m    156\u001b[0m     \u001b[0;32melif\u001b[0m \u001b[0mreduce\u001b[0m \u001b[0;34m==\u001b[0m \u001b[0;34m'mean'\u001b[0m\u001b[0;34m:\u001b[0m\u001b[0;34m\u001b[0m\u001b[0;34m\u001b[0m\u001b[0m\n\u001b[0;32m--> 157\u001b[0;31m         \u001b[0;32mreturn\u001b[0m \u001b[0mscatter_mean\u001b[0m\u001b[0;34m(\u001b[0m\u001b[0msrc\u001b[0m\u001b[0;34m,\u001b[0m \u001b[0mindex\u001b[0m\u001b[0;34m,\u001b[0m \u001b[0mdim\u001b[0m\u001b[0;34m,\u001b[0m \u001b[0mout\u001b[0m\u001b[0;34m,\u001b[0m \u001b[0mdim_size\u001b[0m\u001b[0;34m)\u001b[0m\u001b[0;34m\u001b[0m\u001b[0;34m\u001b[0m\u001b[0m\n\u001b[0m\u001b[1;32m    158\u001b[0m     \u001b[0;32melif\u001b[0m \u001b[0mreduce\u001b[0m \u001b[0;34m==\u001b[0m \u001b[0;34m'min'\u001b[0m\u001b[0;34m:\u001b[0m\u001b[0;34m\u001b[0m\u001b[0;34m\u001b[0m\u001b[0m\n\u001b[1;32m    159\u001b[0m         \u001b[0;32mreturn\u001b[0m \u001b[0mscatter_min\u001b[0m\u001b[0;34m(\u001b[0m\u001b[0msrc\u001b[0m\u001b[0;34m,\u001b[0m \u001b[0mindex\u001b[0m\u001b[0;34m,\u001b[0m \u001b[0mdim\u001b[0m\u001b[0;34m,\u001b[0m \u001b[0mout\u001b[0m\u001b[0;34m,\u001b[0m \u001b[0mdim_size\u001b[0m\u001b[0;34m)\u001b[0m\u001b[0;34m[\u001b[0m\u001b[0;36m0\u001b[0m\u001b[0;34m]\u001b[0m\u001b[0;34m\u001b[0m\u001b[0;34m\u001b[0m\u001b[0m\n",
      "\u001b[0;32m~/github/.envs/.gmc/lib/python3.8/site-packages/torch_scatter/scatter.py\u001b[0m in \u001b[0;36mscatter_mean\u001b[0;34m(src, index, dim, out, dim_size)\u001b[0m\n\u001b[1;32m     40\u001b[0m                  dim_size: Optional[int] = None) -> torch.Tensor:\n\u001b[1;32m     41\u001b[0m \u001b[0;34m\u001b[0m\u001b[0m\n\u001b[0;32m---> 42\u001b[0;31m     \u001b[0mout\u001b[0m \u001b[0;34m=\u001b[0m \u001b[0mscatter_sum\u001b[0m\u001b[0;34m(\u001b[0m\u001b[0msrc\u001b[0m\u001b[0;34m,\u001b[0m \u001b[0mindex\u001b[0m\u001b[0;34m,\u001b[0m \u001b[0mdim\u001b[0m\u001b[0;34m,\u001b[0m \u001b[0mout\u001b[0m\u001b[0;34m,\u001b[0m \u001b[0mdim_size\u001b[0m\u001b[0;34m)\u001b[0m\u001b[0;34m\u001b[0m\u001b[0;34m\u001b[0m\u001b[0m\n\u001b[0m\u001b[1;32m     43\u001b[0m     \u001b[0mdim_size\u001b[0m \u001b[0;34m=\u001b[0m \u001b[0mout\u001b[0m\u001b[0;34m.\u001b[0m\u001b[0msize\u001b[0m\u001b[0;34m(\u001b[0m\u001b[0mdim\u001b[0m\u001b[0;34m)\u001b[0m\u001b[0;34m\u001b[0m\u001b[0;34m\u001b[0m\u001b[0m\n\u001b[1;32m     44\u001b[0m \u001b[0;34m\u001b[0m\u001b[0m\n",
      "\u001b[0;32m~/github/.envs/.gmc/lib/python3.8/site-packages/torch_scatter/scatter.py\u001b[0m in \u001b[0;36mscatter_sum\u001b[0;34m(src, index, dim, out, dim_size)\u001b[0m\n\u001b[1;32m     19\u001b[0m             \u001b[0msize\u001b[0m\u001b[0;34m[\u001b[0m\u001b[0mdim\u001b[0m\u001b[0;34m]\u001b[0m \u001b[0;34m=\u001b[0m \u001b[0mint\u001b[0m\u001b[0;34m(\u001b[0m\u001b[0mindex\u001b[0m\u001b[0;34m.\u001b[0m\u001b[0mmax\u001b[0m\u001b[0;34m(\u001b[0m\u001b[0;34m)\u001b[0m\u001b[0;34m)\u001b[0m \u001b[0;34m+\u001b[0m \u001b[0;36m1\u001b[0m\u001b[0;34m\u001b[0m\u001b[0;34m\u001b[0m\u001b[0m\n\u001b[1;32m     20\u001b[0m         \u001b[0mout\u001b[0m \u001b[0;34m=\u001b[0m \u001b[0mtorch\u001b[0m\u001b[0;34m.\u001b[0m\u001b[0mzeros\u001b[0m\u001b[0;34m(\u001b[0m\u001b[0msize\u001b[0m\u001b[0;34m,\u001b[0m \u001b[0mdtype\u001b[0m\u001b[0;34m=\u001b[0m\u001b[0msrc\u001b[0m\u001b[0;34m.\u001b[0m\u001b[0mdtype\u001b[0m\u001b[0;34m,\u001b[0m \u001b[0mdevice\u001b[0m\u001b[0;34m=\u001b[0m\u001b[0msrc\u001b[0m\u001b[0;34m.\u001b[0m\u001b[0mdevice\u001b[0m\u001b[0;34m)\u001b[0m\u001b[0;34m\u001b[0m\u001b[0;34m\u001b[0m\u001b[0m\n\u001b[0;32m---> 21\u001b[0;31m         \u001b[0;32mreturn\u001b[0m \u001b[0mout\u001b[0m\u001b[0;34m.\u001b[0m\u001b[0mscatter_add_\u001b[0m\u001b[0;34m(\u001b[0m\u001b[0mdim\u001b[0m\u001b[0;34m,\u001b[0m \u001b[0mindex\u001b[0m\u001b[0;34m,\u001b[0m \u001b[0msrc\u001b[0m\u001b[0;34m)\u001b[0m\u001b[0;34m\u001b[0m\u001b[0;34m\u001b[0m\u001b[0m\n\u001b[0m\u001b[1;32m     22\u001b[0m     \u001b[0;32melse\u001b[0m\u001b[0;34m:\u001b[0m\u001b[0;34m\u001b[0m\u001b[0;34m\u001b[0m\u001b[0m\n\u001b[1;32m     23\u001b[0m         \u001b[0;32mreturn\u001b[0m \u001b[0mout\u001b[0m\u001b[0;34m.\u001b[0m\u001b[0mscatter_add_\u001b[0m\u001b[0;34m(\u001b[0m\u001b[0mdim\u001b[0m\u001b[0;34m,\u001b[0m \u001b[0mindex\u001b[0m\u001b[0;34m,\u001b[0m \u001b[0msrc\u001b[0m\u001b[0;34m)\u001b[0m\u001b[0;34m\u001b[0m\u001b[0;34m\u001b[0m\u001b[0m\n",
      "\u001b[0;31mKeyboardInterrupt\u001b[0m: "
     ]
    }
   ],
   "source": [
    "print('Optimize initial feature matching...')\n",
    "model.num_steps = 0\n",
    "for epoch in range(1, 6):\n",
    "    if epoch == 3:\n",
    "        print('Refine correspondence matrix...')\n",
    "        model.num_steps = args.num_steps\n",
    "        model.detach = True\n",
    "\n",
    "    loss = train()\n",
    "\n",
    "    #if epoch % 10 == 0 or epoch > 100:\n",
    "    if True:\n",
    "        hits1, hits10 = test()\n",
    "        print((f'{epoch:03d}: Loss: {loss:.4f}, Hits@1: {hits1:.4f}, '\n",
    "               f'Hits@10: {hits10:.4f}'))"
   ]
  },
  {
   "cell_type": "markdown",
   "id": "8143ed64-c293-45f6-a1d0-3e3b73b40b48",
   "metadata": {},
   "source": [
    "## Link Cookies"
   ]
  },
  {
   "cell_type": "code",
   "execution_count": 9,
   "id": "b8412ab3-790d-464e-9458-07f395dd677f",
   "metadata": {
    "tags": []
   },
   "outputs": [
    {
     "name": "stdout",
     "output_type": "stream",
     "text": [
      "Filtering Zync for sizmek clients 99,999 -> 37,999\n"
     ]
    }
   ],
   "source": [
    "sizmek_path = \"data/sizmek_bidstream_raw_20210825.csv\"\n",
    "zync_path = \"data/zync_session_tracking_raw_20210825.csv\"\n",
    "\n",
    "sizmek_cols = [\"account_id\", \"referrer_url\", \"city_code\",\n",
    "               \"state_code\", \"dma_code\", \"country_code\"]\n",
    "zync_cols = [\"client\", \"user_agent_platform\",\n",
    "             \"user_agent_language\", \"user_agent_browser\"]\n",
    "\n",
    "# Load and Create Sizmek Data\n",
    "sizmek_data = funcs.ZetaData(sizmek_path, \"url\", \"zeta_user_id\", sizmek_cols, parse_url=False)\n",
    "\n",
    "# Load and Create Zync Data\n",
    "zync_data = funcs.ZetaData(zync_path, \"referrer\", \"client_id\", zync_cols, parse_url=False, expand_x=596)"
   ]
  },
  {
   "cell_type": "code",
   "execution_count": 63,
   "id": "988b1866-52ec-40d5-b00e-1d2de6f2c295",
   "metadata": {
    "execution": {
     "iopub.execute_input": "2021-08-30T20:13:50.548908Z",
     "iopub.status.busy": "2021-08-30T20:13:50.548511Z",
     "iopub.status.idle": "2021-08-30T20:13:50.615370Z",
     "shell.execute_reply": "2021-08-30T20:13:50.614717Z",
     "shell.execute_reply.started": "2021-08-30T20:13:50.548892Z"
    },
    "tags": []
   },
   "outputs": [
    {
     "data": {
      "text/plain": [
       "18    77995\n",
       "17    20141\n",
       "16     1749\n",
       "15      114\n",
       "Name: user_id, dtype: int64"
      ]
     },
     "execution_count": 63,
     "metadata": {},
     "output_type": "execute_result"
    }
   ],
   "source": [
    "def check_len(x):\n",
    "    return len(str(x))\n",
    "\n",
    "sizmek_data.df['user_id'].apply(check_len).value_counts()"
   ]
  },
  {
   "cell_type": "code",
   "execution_count": 50,
   "id": "922a93de-2c59-4d9e-9384-b93bde8a7538",
   "metadata": {
    "execution": {
     "iopub.execute_input": "2021-08-30T20:04:33.591053Z",
     "iopub.status.busy": "2021-08-30T20:04:33.590546Z",
     "iopub.status.idle": "2021-08-30T20:04:33.633955Z",
     "shell.execute_reply": "2021-08-30T20:04:33.633056Z",
     "shell.execute_reply.started": "2021-08-30T20:04:33.591034Z"
    },
    "tags": []
   },
   "outputs": [
    {
     "data": {
      "text/plain": [
       "19    29809\n",
       "18     8164\n",
       "17       23\n",
       "16        3\n",
       "Name: client_id, dtype: int64"
      ]
     },
     "execution_count": 50,
     "metadata": {},
     "output_type": "execute_result"
    }
   ],
   "source": [
    "zync_data.df[\"client_id\"].apply(check_len).value_counts()"
   ]
  },
  {
   "cell_type": "code",
   "execution_count": 67,
   "id": "853bde8f-2ee3-4a5e-8814-94ce55a3b6ae",
   "metadata": {
    "execution": {
     "iopub.execute_input": "2021-08-30T22:44:22.901309Z",
     "iopub.status.busy": "2021-08-30T22:44:22.900751Z",
     "iopub.status.idle": "2021-08-30T22:44:22.939516Z",
     "shell.execute_reply": "2021-08-30T22:44:22.938875Z",
     "shell.execute_reply.started": "2021-08-30T22:44:22.901288Z"
    },
    "tags": []
   },
   "outputs": [
    {
     "data": {
      "text/plain": [
       "52460    1649795207585121800\n",
       "19353    2809753598636800729\n",
       "14107    1871597494038725103\n",
       "5230     1871597497705077888\n",
       "12660     875739028935293343\n",
       "Name: client_id, dtype: object"
      ]
     },
     "execution_count": 67,
     "metadata": {},
     "output_type": "execute_result"
    }
   ],
   "source": [
    "zync_data.df[\"client_id\"].sample(5)"
   ]
  },
  {
   "cell_type": "code",
   "execution_count": 68,
   "id": "d95d7207-f5ca-41a8-aed6-cbf661b9f9b0",
   "metadata": {
    "execution": {
     "iopub.execute_input": "2021-08-30T22:44:26.190664Z",
     "iopub.status.busy": "2021-08-30T22:44:26.190165Z",
     "iopub.status.idle": "2021-08-30T22:44:26.222958Z",
     "shell.execute_reply": "2021-08-30T22:44:26.222306Z",
     "shell.execute_reply.started": "2021-08-30T22:44:26.190646Z"
    },
    "tags": []
   },
   "outputs": [
    {
     "data": {
      "text/plain": [
       "96072    478178280695061649\n",
       "18415     82157053064335430\n",
       "5481      33954821492091540\n",
       "616        3636596773267333\n",
       "27965    125194804811511992\n",
       "Name: user_id, dtype: int64"
      ]
     },
     "execution_count": 68,
     "metadata": {},
     "output_type": "execute_result"
    }
   ],
   "source": [
    "sizmek_data.df[\"user_id\"].sample(5)"
   ]
  },
  {
   "cell_type": "code",
   "execution_count": 70,
   "id": "1f0c0bdb-9683-4ed3-9b36-1b83dcbf41fa",
   "metadata": {
    "execution": {
     "iopub.execute_input": "2021-08-30T22:48:10.457441Z",
     "iopub.status.busy": "2021-08-30T22:48:10.457185Z",
     "iopub.status.idle": "2021-08-30T22:48:10.559928Z",
     "shell.execute_reply": "2021-08-30T22:48:10.559291Z",
     "shell.execute_reply.started": "2021-08-30T22:48:10.457420Z"
    },
    "tags": []
   },
   "outputs": [],
   "source": [
    "def append_z(x):\n",
    "    return \"zync::\"+x\n",
    "\n",
    "new_z = zync_data.df[\"session_id\"].apply(append_z)\n",
    "new_z.to_csv(\"data/zync_ids.csv\")"
   ]
  },
  {
   "cell_type": "code",
   "execution_count": 72,
   "id": "511fb305-0a4f-4543-bcc5-8b7a34aa2893",
   "metadata": {
    "execution": {
     "iopub.execute_input": "2021-08-31T00:18:59.693217Z",
     "iopub.status.busy": "2021-08-31T00:18:59.692819Z",
     "iopub.status.idle": "2021-08-31T00:18:59.768370Z",
     "shell.execute_reply": "2021-08-31T00:18:59.767734Z",
     "shell.execute_reply.started": "2021-08-31T00:18:59.693201Z"
    },
    "tags": []
   },
   "outputs": [
    {
     "name": "stdout",
     "output_type": "stream",
     "text": [
      "0\n"
     ]
    }
   ],
   "source": [
    "zync_ids = set(zync_data.df[\"client_id\"].apply(lambda x: x[1:]))\n",
    "\n",
    "count = 0\n",
    "for sizmek_id in sizmek_data.df[\"user_id\"]:\n",
    "    if str(sizmek_id) in zync_ids:\n",
    "        count += 1\n",
    "    \n",
    "print(count)"
   ]
  },
  {
   "cell_type": "markdown",
   "id": "6a9cc739-073a-4bc3-8fec-757acef48c49",
   "metadata": {},
   "source": [
    "## Labels"
   ]
  },
  {
   "cell_type": "code",
   "execution_count": 37,
   "id": "aaaac8df-b8cb-4d9d-a7df-273e4195c2e9",
   "metadata": {
    "execution": {
     "iopub.execute_input": "2021-09-03T17:16:36.368083Z",
     "iopub.status.busy": "2021-09-03T17:16:36.367491Z",
     "iopub.status.idle": "2021-09-03T17:16:59.684152Z",
     "shell.execute_reply": "2021-09-03T17:16:59.683368Z",
     "shell.execute_reply.started": "2021-09-03T17:16:36.368060Z"
    },
    "tags": []
   },
   "outputs": [
    {
     "data": {
      "text/html": [
       "<div>\n",
       "<style scoped>\n",
       "    .dataframe tbody tr th:only-of-type {\n",
       "        vertical-align: middle;\n",
       "    }\n",
       "\n",
       "    .dataframe tbody tr th {\n",
       "        vertical-align: top;\n",
       "    }\n",
       "\n",
       "    .dataframe thead th {\n",
       "        text-align: right;\n",
       "    }\n",
       "</style>\n",
       "<table border=\"1\" class=\"dataframe\">\n",
       "  <thead>\n",
       "    <tr style=\"text-align: right;\">\n",
       "      <th></th>\n",
       "      <th>session_id</th>\n",
       "      <th>client</th>\n",
       "      <th>client_id</th>\n",
       "      <th>source</th>\n",
       "      <th>cookie_source</th>\n",
       "      <th>destination</th>\n",
       "      <th>cookie_destination</th>\n",
       "      <th>last_updated</th>\n",
       "    </tr>\n",
       "  </thead>\n",
       "  <tbody>\n",
       "    <tr>\n",
       "      <th>0</th>\n",
       "      <td>00017d1d-306c-4cd6-bb45-972e05fc4be2:158362206...</td>\n",
       "      <td>sizmek</td>\n",
       "      <td>4410950902343682109</td>\n",
       "      <td>zync</td>\n",
       "      <td>00017d1d-306c-4cd6-bb45-972e05fc4be2:158362206...</td>\n",
       "      <td>sizmek</td>\n",
       "      <td>4410950902343682109</td>\n",
       "      <td>2021-06-23 01:17:27.983</td>\n",
       "    </tr>\n",
       "    <tr>\n",
       "      <th>1</th>\n",
       "      <td>00017d1d-306c-4cd6-bb45-972e05fc4be2:158362206...</td>\n",
       "      <td>sizmek</td>\n",
       "      <td>4410950902343682109</td>\n",
       "      <td>zync</td>\n",
       "      <td>00017d1d-306c-4cd6-bb45-972e05fc4be2:158362206...</td>\n",
       "      <td>33across</td>\n",
       "      <td>CmUMLmBdFwg6zA3jDzgDAg==</td>\n",
       "      <td>2021-05-03 01:33:52.386</td>\n",
       "    </tr>\n",
       "    <tr>\n",
       "      <th>2</th>\n",
       "      <td>00017d1d-306c-4cd6-bb45-972e05fc4be2:158362206...</td>\n",
       "      <td>sizmek</td>\n",
       "      <td>4410950902343682109</td>\n",
       "      <td>zync</td>\n",
       "      <td>00017d1d-306c-4cd6-bb45-972e05fc4be2:158362206...</td>\n",
       "      <td>zync</td>\n",
       "      <td>00017d1d-306c-4cd6-bb45-972e05fc4be2:158362206...</td>\n",
       "      <td>2021-07-19 15:45:47.298</td>\n",
       "    </tr>\n",
       "  </tbody>\n",
       "</table>\n",
       "</div>"
      ],
      "text/plain": [
       "                                          session_id  client  \\\n",
       "0  00017d1d-306c-4cd6-bb45-972e05fc4be2:158362206...  sizmek   \n",
       "1  00017d1d-306c-4cd6-bb45-972e05fc4be2:158362206...  sizmek   \n",
       "2  00017d1d-306c-4cd6-bb45-972e05fc4be2:158362206...  sizmek   \n",
       "\n",
       "             client_id source  \\\n",
       "0  4410950902343682109   zync   \n",
       "1  4410950902343682109   zync   \n",
       "2  4410950902343682109   zync   \n",
       "\n",
       "                                       cookie_source destination  \\\n",
       "0  00017d1d-306c-4cd6-bb45-972e05fc4be2:158362206...      sizmek   \n",
       "1  00017d1d-306c-4cd6-bb45-972e05fc4be2:158362206...    33across   \n",
       "2  00017d1d-306c-4cd6-bb45-972e05fc4be2:158362206...        zync   \n",
       "\n",
       "                                  cookie_destination            last_updated  \n",
       "0                                4410950902343682109 2021-06-23 01:17:27.983  \n",
       "1                           CmUMLmBdFwg6zA3jDzgDAg== 2021-05-03 01:33:52.386  \n",
       "2  00017d1d-306c-4cd6-bb45-972e05fc4be2:158362206... 2021-07-19 15:45:47.298  "
      ]
     },
     "execution_count": 37,
     "metadata": {},
     "output_type": "execute_result"
    }
   ],
   "source": [
    "file_path = \"s3://drose-sandbox/join_output_full_256/part-00000-55e5bf82-ca6d-47ab-940d-a0e6093f7868-c000.snappy.orc\"\n",
    "labels_zync = pd.read_orc(file_path)\n",
    "labels_zync.head(3)"
   ]
  },
  {
   "cell_type": "code",
   "execution_count": 43,
   "id": "b4399093-f09c-42e0-b147-66a287bca3df",
   "metadata": {
    "execution": {
     "iopub.execute_input": "2021-09-03T17:18:10.645366Z",
     "iopub.status.busy": "2021-09-03T17:18:10.645113Z",
     "iopub.status.idle": "2021-09-03T17:18:10.859263Z",
     "shell.execute_reply": "2021-09-03T17:18:10.858566Z",
     "shell.execute_reply.started": "2021-09-03T17:18:10.645341Z"
    },
    "tags": []
   },
   "outputs": [
    {
     "data": {
      "text/plain": [
       "(294860, 3)"
      ]
     },
     "execution_count": 43,
     "metadata": {},
     "output_type": "execute_result"
    }
   ],
   "source": [
    "labels_zync = labels_zync[labels_zync[\"destination\"] == \"sizmek\"]\n",
    "labels_zync = labels_zync[[\"session_id\", \"client_id\",\"last_updated\"]]\n",
    "labels_zync = labels_zync.drop_duplicates()\n",
    "labels_zync.shape\n",
    "                          "
   ]
  },
  {
   "cell_type": "code",
   "execution_count": 44,
   "id": "6eddef8f-c1eb-4e3c-b460-a58a137574f7",
   "metadata": {
    "execution": {
     "iopub.execute_input": "2021-09-03T17:18:13.425528Z",
     "iopub.status.busy": "2021-09-03T17:18:13.425011Z",
     "iopub.status.idle": "2021-09-03T17:18:13.448056Z",
     "shell.execute_reply": "2021-09-03T17:18:13.447389Z",
     "shell.execute_reply.started": "2021-09-03T17:18:13.425490Z"
    },
    "tags": []
   },
   "outputs": [
    {
     "data": {
      "text/html": [
       "<div>\n",
       "<style scoped>\n",
       "    .dataframe tbody tr th:only-of-type {\n",
       "        vertical-align: middle;\n",
       "    }\n",
       "\n",
       "    .dataframe tbody tr th {\n",
       "        vertical-align: top;\n",
       "    }\n",
       "\n",
       "    .dataframe thead th {\n",
       "        text-align: right;\n",
       "    }\n",
       "</style>\n",
       "<table border=\"1\" class=\"dataframe\">\n",
       "  <thead>\n",
       "    <tr style=\"text-align: right;\">\n",
       "      <th></th>\n",
       "      <th>session_id</th>\n",
       "      <th>client_id</th>\n",
       "      <th>last_updated</th>\n",
       "    </tr>\n",
       "  </thead>\n",
       "  <tbody>\n",
       "    <tr>\n",
       "      <th>0</th>\n",
       "      <td>00017d1d-306c-4cd6-bb45-972e05fc4be2:158362206...</td>\n",
       "      <td>4410950902343682109</td>\n",
       "      <td>2021-06-23 01:17:27.983</td>\n",
       "    </tr>\n",
       "    <tr>\n",
       "      <th>17</th>\n",
       "      <td>00049465-865e-4963-8f90-accf825995fc:162466122...</td>\n",
       "      <td>978477395011556699</td>\n",
       "      <td>2021-06-28 07:53:34.530</td>\n",
       "    </tr>\n",
       "    <tr>\n",
       "      <th>20</th>\n",
       "      <td>00057459-b734-4598-ad80-b6d6fcad7534:161058225...</td>\n",
       "      <td>1921700038071637220</td>\n",
       "      <td>2021-07-20 01:13:36.584</td>\n",
       "    </tr>\n",
       "    <tr>\n",
       "      <th>39</th>\n",
       "      <td>0005c1c3-ee92-4c7b-be53-726abff0236c:161874444...</td>\n",
       "      <td>1870471591102619145</td>\n",
       "      <td>2021-05-13 01:34:26.281</td>\n",
       "    </tr>\n",
       "    <tr>\n",
       "      <th>43</th>\n",
       "      <td>000786bc-1754-4326-a048-0c864962a79e:162493260...</td>\n",
       "      <td>969470196508896635</td>\n",
       "      <td>2021-07-13 01:20:01.597</td>\n",
       "    </tr>\n",
       "  </tbody>\n",
       "</table>\n",
       "</div>"
      ],
      "text/plain": [
       "                                           session_id            client_id  \\\n",
       "0   00017d1d-306c-4cd6-bb45-972e05fc4be2:158362206...  4410950902343682109   \n",
       "17  00049465-865e-4963-8f90-accf825995fc:162466122...   978477395011556699   \n",
       "20  00057459-b734-4598-ad80-b6d6fcad7534:161058225...  1921700038071637220   \n",
       "39  0005c1c3-ee92-4c7b-be53-726abff0236c:161874444...  1870471591102619145   \n",
       "43  000786bc-1754-4326-a048-0c864962a79e:162493260...   969470196508896635   \n",
       "\n",
       "              last_updated  \n",
       "0  2021-06-23 01:17:27.983  \n",
       "17 2021-06-28 07:53:34.530  \n",
       "20 2021-07-20 01:13:36.584  \n",
       "39 2021-05-13 01:34:26.281  \n",
       "43 2021-07-13 01:20:01.597  "
      ]
     },
     "execution_count": 44,
     "metadata": {},
     "output_type": "execute_result"
    }
   ],
   "source": [
    "labels_zync.head(5)"
   ]
  },
  {
   "cell_type": "code",
   "execution_count": 54,
   "id": "2c081241-116a-4a29-b7d3-1f2149e31637",
   "metadata": {
    "execution": {
     "iopub.execute_input": "2021-09-03T17:27:35.913233Z",
     "iopub.status.busy": "2021-09-03T17:27:35.912712Z",
     "iopub.status.idle": "2021-09-03T17:27:35.938845Z",
     "shell.execute_reply": "2021-09-03T17:27:35.938151Z",
     "shell.execute_reply.started": "2021-09-03T17:27:35.913218Z"
    },
    "tags": []
   },
   "outputs": [
    {
     "name": "stdout",
     "output_type": "stream",
     "text": [
      "000\n",
      "001\n",
      "002\n",
      "003\n",
      "004\n"
     ]
    }
   ],
   "source": [
    "for i in list(range(0,5)):\n",
    "    print(f\"{i:03d}\")"
   ]
  },
  {
   "cell_type": "code",
   "execution_count": null,
   "id": "d4e3772e-4ede-4a39-b746-2413a50ba447",
   "metadata": {
    "collapsed": true,
    "execution": {
     "iopub.execute_input": "2021-09-03T17:47:41.267750Z",
     "iopub.status.busy": "2021-09-03T17:47:41.267188Z"
    },
    "jupyter": {
     "outputs_hidden": true
    },
    "tags": []
   },
   "outputs": [
    {
     "name": "stdout",
     "output_type": "stream",
     "text": [
      "i: 0 Shape: 528,570 Memory: 0.10GB\n",
      "i: 1 Shape: 1,046,315 Memory: 0.20GB\n",
      "i: 2 Shape: 1,599,481 Memory: 0.30GB\n",
      "i: 3 Shape: 2,178,268 Memory: 0.42GB\n",
      "i: 4 Shape: 2,769,761 Memory: 0.53GB\n",
      "i: 5 Shape: 3,471,151 Memory: 0.66GB\n",
      "i: 6 Shape: 3,992,121 Memory: 0.76GB\n",
      "i: 7 Shape: 4,560,313 Memory: 0.87GB\n",
      "i: 8 Shape: 5,092,256 Memory: 0.97GB\n",
      "i: 9 Shape: 5,759,823 Memory: 1.10GB\n",
      "i: 10 Shape: 6,302,511 Memory: 1.20GB\n",
      "i: 11 Shape: 6,833,746 Memory: 1.30GB\n",
      "i: 12 Shape: 7,451,605 Memory: 1.42GB\n",
      "i: 13 Shape: 7,993,403 Memory: 1.52GB\n",
      "i: 14 Shape: 8,491,208 Memory: 1.62GB\n",
      "i: 15 Shape: 9,029,417 Memory: 1.72GB\n",
      "i: 16 Shape: 9,608,769 Memory: 1.83GB\n",
      "i: 17 Shape: 10,146,041 Memory: 1.93GB\n",
      "i: 18 Shape: 10,674,563 Memory: 2.03GB\n",
      "i: 19 Shape: 11,262,749 Memory: 2.15GB\n",
      "i: 20 Shape: 11,799,766 Memory: 2.25GB\n",
      "i: 21 Shape: 12,327,970 Memory: 2.35GB\n",
      "i: 22 Shape: 12,871,710 Memory: 2.45GB\n",
      "i: 23 Shape: 13,389,414 Memory: 2.55GB\n",
      "i: 24 Shape: 13,895,449 Memory: 2.65GB\n",
      "i: 25 Shape: 14,399,882 Memory: 2.74GB\n",
      "i: 26 Shape: 14,989,909 Memory: 2.86GB\n",
      "i: 27 Shape: 15,539,247 Memory: 2.96GB\n",
      "i: 28 Shape: 16,179,927 Memory: 3.08GB\n",
      "i: 29 Shape: 16,697,395 Memory: 3.18GB\n",
      "i: 30 Shape: 17,226,810 Memory: 3.28GB\n",
      "i: 31 Shape: 17,771,501 Memory: 3.39GB\n",
      "i: 32 Shape: 18,315,073 Memory: 3.49GB\n",
      "i: 33 Shape: 18,828,642 Memory: 3.59GB\n",
      "i: 34 Shape: 19,336,183 Memory: 3.68GB\n",
      "i: 35 Shape: 19,875,656 Memory: 3.79GB\n",
      "i: 36 Shape: 20,410,592 Memory: 3.89GB\n",
      "i: 37 Shape: 20,905,103 Memory: 3.98GB\n",
      "i: 38 Shape: 21,511,137 Memory: 4.10GB\n",
      "i: 39 Shape: 22,036,610 Memory: 4.20GB\n",
      "i: 40 Shape: 22,584,164 Memory: 4.30GB\n",
      "i: 41 Shape: 23,179,851 Memory: 4.42GB\n",
      "i: 42 Shape: 23,703,908 Memory: 4.52GB\n",
      "i: 43 Shape: 24,224,731 Memory: 4.62GB\n",
      "i: 44 Shape: 24,846,985 Memory: 4.73GB\n",
      "i: 45 Shape: 25,396,582 Memory: 4.84GB\n",
      "i: 46 Shape: 25,917,477 Memory: 4.94GB\n",
      "i: 47 Shape: 26,403,848 Memory: 5.03GB\n",
      "i: 48 Shape: 26,972,833 Memory: 5.14GB\n",
      "i: 49 Shape: 27,489,979 Memory: 5.24GB\n",
      "i: 50 Shape: 28,025,311 Memory: 5.34GB\n",
      "i: 51 Shape: 28,599,987 Memory: 5.45GB\n",
      "i: 52 Shape: 29,204,293 Memory: 5.57GB\n",
      "i: 53 Shape: 29,781,157 Memory: 5.68GB\n"
     ]
    }
   ],
   "source": [
    "import pandas as pd\n",
    "\n",
    "combined_df = []\n",
    "for i, partition in enumerate(range(0,200)):\n",
    "    file_path = f\"s3://drose-sandbox/join_output_full_256/part-00{i:03d}-55e5bf82-ca6d-47ab-940d-a0e6093f7868-c000.snappy.orc\"\n",
    "    if i == 0:\n",
    "        combined_df = pd.read_orc(file_path)\n",
    "        combined_df = combined_df[[\"session_id\", \"client_id\",\"last_updated\"]]\n",
    "        combined_df = combined_df.drop_duplicates()\n",
    "    else:\n",
    "        partial_df = pd.read_orc(file_path)\n",
    "        partial_df = partial_df[[\"session_id\", \"client_id\",\"last_updated\"]]\n",
    "        partial_df = partial_df.drop_duplicates()\n",
    "        combined_df = pd.concat([combined_df, partial_df], ignore_index=True)\n",
    "    print(f\"i: {i} Shape: {combined_df.shape[0]:,} Memory: {combined_df.memory_usage(deep=True).sum()/1e9:.2f}GB\")"
   ]
  },
  {
   "cell_type": "code",
   "execution_count": 1,
   "id": "8be30ee5-19b4-43d9-9574-8aa10787902c",
   "metadata": {
    "execution": {
     "iopub.execute_input": "2021-09-03T19:27:33.367329Z",
     "iopub.status.busy": "2021-09-03T19:27:33.366767Z",
     "iopub.status.idle": "2021-09-03T19:27:41.897445Z",
     "shell.execute_reply": "2021-09-03T19:27:41.896800Z",
     "shell.execute_reply.started": "2021-09-03T19:27:33.367279Z"
    },
    "tags": []
   },
   "outputs": [
    {
     "name": "stdout",
     "output_type": "stream",
     "text": [
      "Shape: 1,000,000 Memory: 2.72GB\n"
     ]
    }
   ],
   "source": [
    "import pandas as pd\n",
    "\n",
    "file_path = f\"s3://drose-sandbox/sizmek_zync_1m\"\n",
    "df = pd.read_parquet(file_path)\n",
    "print(f\"Shape: {df.shape[0]:,} Memory: {df.memory_usage(deep=True).sum()/1e9:.2f}GB\")"
   ]
  },
  {
   "cell_type": "code",
   "execution_count": 13,
   "id": "13a362ba-0df6-4be2-aa93-1d920730f7f0",
   "metadata": {
    "execution": {
     "iopub.execute_input": "2021-09-03T19:32:31.829986Z",
     "iopub.status.busy": "2021-09-03T19:32:31.829445Z",
     "iopub.status.idle": "2021-09-03T19:32:31.832945Z",
     "shell.execute_reply": "2021-09-03T19:32:31.832373Z",
     "shell.execute_reply.started": "2021-09-03T19:32:31.829969Z"
    },
    "tags": []
   },
   "outputs": [],
   "source": [
    "sizmek_cols = [\"account_id\", \"url\", \"referrer_url\", \"city_code\",\n",
    "               \"state_code\", \"dma_code\", \"country_code\"]\n",
    "zync_cols = [\"session_id\", \"referrer\", \"client\", \"user_agent_platform\",\n",
    "             \"user_agent_language\", \"user_agent_browser\"]\n",
    "\n"
   ]
  },
  {
   "cell_type": "code",
   "execution_count": 14,
   "id": "b2319442-f117-4a8f-a903-f627343f0c3d",
   "metadata": {
    "execution": {
     "iopub.execute_input": "2021-09-03T19:32:32.317561Z",
     "iopub.status.busy": "2021-09-03T19:32:32.317109Z",
     "iopub.status.idle": "2021-09-03T19:32:32.379303Z",
     "shell.execute_reply": "2021-09-03T19:32:32.378648Z",
     "shell.execute_reply.started": "2021-09-03T19:32:32.317528Z"
    },
    "tags": []
   },
   "outputs": [],
   "source": [
    "sizmek_df = df[sizmek_cols]\n",
    "zync_df = df[zync_cols]"
   ]
  },
  {
   "cell_type": "code",
   "execution_count": 15,
   "id": "32a5630d-0067-4ecc-a7f6-a3b6e5d260f4",
   "metadata": {
    "execution": {
     "iopub.execute_input": "2021-09-03T19:32:33.185797Z",
     "iopub.status.busy": "2021-09-03T19:32:33.185349Z",
     "iopub.status.idle": "2021-09-03T19:32:33.193679Z",
     "shell.execute_reply": "2021-09-03T19:32:33.193040Z",
     "shell.execute_reply.started": "2021-09-03T19:32:33.185780Z"
    },
    "tags": []
   },
   "outputs": [
    {
     "data": {
      "text/html": [
       "<div>\n",
       "<style scoped>\n",
       "    .dataframe tbody tr th:only-of-type {\n",
       "        vertical-align: middle;\n",
       "    }\n",
       "\n",
       "    .dataframe tbody tr th {\n",
       "        vertical-align: top;\n",
       "    }\n",
       "\n",
       "    .dataframe thead th {\n",
       "        text-align: right;\n",
       "    }\n",
       "</style>\n",
       "<table border=\"1\" class=\"dataframe\">\n",
       "  <thead>\n",
       "    <tr style=\"text-align: right;\">\n",
       "      <th></th>\n",
       "      <th>account_id</th>\n",
       "      <th>url</th>\n",
       "      <th>referrer_url</th>\n",
       "      <th>city_code</th>\n",
       "      <th>state_code</th>\n",
       "      <th>dma_code</th>\n",
       "      <th>country_code</th>\n",
       "    </tr>\n",
       "  </thead>\n",
       "  <tbody>\n",
       "    <tr>\n",
       "      <th>0</th>\n",
       "      <td>19967</td>\n",
       "      <td>windstream.net</td>\n",
       "      <td></td>\n",
       "      <td>5072006</td>\n",
       "      <td>NE</td>\n",
       "      <td>722</td>\n",
       "      <td>US</td>\n",
       "    </tr>\n",
       "    <tr>\n",
       "      <th>1</th>\n",
       "      <td>19967</td>\n",
       "      <td>windstream.net</td>\n",
       "      <td></td>\n",
       "      <td>5072006</td>\n",
       "      <td>NE</td>\n",
       "      <td>722</td>\n",
       "      <td>US</td>\n",
       "    </tr>\n",
       "    <tr>\n",
       "      <th>2</th>\n",
       "      <td>35927</td>\n",
       "      <td>https://www.windstream.net/?inc=1176</td>\n",
       "      <td>https://www.windstream.net/?inc=1175</td>\n",
       "      <td>5072006</td>\n",
       "      <td>NE</td>\n",
       "      <td>722</td>\n",
       "      <td>US</td>\n",
       "    </tr>\n",
       "  </tbody>\n",
       "</table>\n",
       "</div>"
      ],
      "text/plain": [
       "   account_id                                   url  \\\n",
       "0       19967                        windstream.net   \n",
       "1       19967                        windstream.net   \n",
       "2       35927  https://www.windstream.net/?inc=1176   \n",
       "\n",
       "                           referrer_url city_code state_code dma_code  \\\n",
       "0                                         5072006         NE      722   \n",
       "1                                         5072006         NE      722   \n",
       "2  https://www.windstream.net/?inc=1175   5072006         NE      722   \n",
       "\n",
       "  country_code  \n",
       "0           US  \n",
       "1           US  \n",
       "2           US  "
      ]
     },
     "execution_count": 15,
     "metadata": {},
     "output_type": "execute_result"
    }
   ],
   "source": [
    "sizmek_df.head(3)"
   ]
  },
  {
   "cell_type": "code",
   "execution_count": 16,
   "id": "ca58fb62-f84e-4c7d-8784-9909725bdaa2",
   "metadata": {
    "execution": {
     "iopub.execute_input": "2021-09-03T19:32:35.042077Z",
     "iopub.status.busy": "2021-09-03T19:32:35.041554Z",
     "iopub.status.idle": "2021-09-03T19:32:35.049542Z",
     "shell.execute_reply": "2021-09-03T19:32:35.048953Z",
     "shell.execute_reply.started": "2021-09-03T19:32:35.042055Z"
    },
    "tags": []
   },
   "outputs": [
    {
     "data": {
      "text/html": [
       "<div>\n",
       "<style scoped>\n",
       "    .dataframe tbody tr th:only-of-type {\n",
       "        vertical-align: middle;\n",
       "    }\n",
       "\n",
       "    .dataframe tbody tr th {\n",
       "        vertical-align: top;\n",
       "    }\n",
       "\n",
       "    .dataframe thead th {\n",
       "        text-align: right;\n",
       "    }\n",
       "</style>\n",
       "<table border=\"1\" class=\"dataframe\">\n",
       "  <thead>\n",
       "    <tr style=\"text-align: right;\">\n",
       "      <th></th>\n",
       "      <th>session_id</th>\n",
       "      <th>referrer</th>\n",
       "      <th>client</th>\n",
       "      <th>user_agent_platform</th>\n",
       "      <th>user_agent_language</th>\n",
       "      <th>user_agent_browser</th>\n",
       "    </tr>\n",
       "  </thead>\n",
       "  <tbody>\n",
       "    <tr>\n",
       "      <th>0</th>\n",
       "      <td>31b423df-5602-4ccc-8983-6c7ab6f65e99:162431114...</td>\n",
       "      <td>https://www.windstream.net/?inc=532</td>\n",
       "      <td>sizmek</td>\n",
       "      <td>windows</td>\n",
       "      <td>None</td>\n",
       "      <td>chrome</td>\n",
       "    </tr>\n",
       "    <tr>\n",
       "      <th>1</th>\n",
       "      <td>31b423df-5602-4ccc-8983-6c7ab6f65e99:162431114...</td>\n",
       "      <td>https://www.windstream.net/?inc=532</td>\n",
       "      <td>sizmek</td>\n",
       "      <td>windows</td>\n",
       "      <td>None</td>\n",
       "      <td>chrome</td>\n",
       "    </tr>\n",
       "    <tr>\n",
       "      <th>2</th>\n",
       "      <td>31b423df-5602-4ccc-8983-6c7ab6f65e99:162431114...</td>\n",
       "      <td>https://www.windstream.net/?inc=532</td>\n",
       "      <td>sizmek</td>\n",
       "      <td>windows</td>\n",
       "      <td>None</td>\n",
       "      <td>chrome</td>\n",
       "    </tr>\n",
       "  </tbody>\n",
       "</table>\n",
       "</div>"
      ],
      "text/plain": [
       "                                          session_id  \\\n",
       "0  31b423df-5602-4ccc-8983-6c7ab6f65e99:162431114...   \n",
       "1  31b423df-5602-4ccc-8983-6c7ab6f65e99:162431114...   \n",
       "2  31b423df-5602-4ccc-8983-6c7ab6f65e99:162431114...   \n",
       "\n",
       "                              referrer  client user_agent_platform  \\\n",
       "0  https://www.windstream.net/?inc=532  sizmek             windows   \n",
       "1  https://www.windstream.net/?inc=532  sizmek             windows   \n",
       "2  https://www.windstream.net/?inc=532  sizmek             windows   \n",
       "\n",
       "  user_agent_language user_agent_browser  \n",
       "0                None             chrome  \n",
       "1                None             chrome  \n",
       "2                None             chrome  "
      ]
     },
     "execution_count": 16,
     "metadata": {},
     "output_type": "execute_result"
    }
   ],
   "source": [
    "zync_df.head(3)"
   ]
  },
  {
   "cell_type": "code",
   "execution_count": null,
   "id": "4ef907f6-fc18-4f3f-ae99-323aa61503cb",
   "metadata": {},
   "outputs": [],
   "source": []
  },
  {
   "cell_type": "code",
   "execution_count": null,
   "id": "1ebd8a14-bd73-4101-b648-1c8d8a038c56",
   "metadata": {
    "execution": {
     "iopub.execute_input": "2021-09-03T18:35:10.157186Z",
     "iopub.status.busy": "2021-09-03T18:35:10.156706Z"
    },
    "tags": []
   },
   "outputs": [],
   "source": [
    "bucket = \"drose-sandbox\"\n",
    "key = \"join_output_zync_sizmek_12b/part-00000-18886b6d-2535-401d-962d-6c0ca631a7e8-c000.snappy.orc\"\n",
    "#labels_zync = pd.read_orc(file_path)\n",
    "\n",
    "import boto3\n",
    "import pyorc\n",
    "import io\n",
    "import pandas as pd\n",
    "\n",
    "session = boto3.Session()\n",
    "s3_client = session.client('s3')\n",
    "\n",
    "def load_s3_orc_to_local_df(key, bucket):\n",
    "    data = s3_client.get_object(Bucket=bucket, Key=key)\n",
    "    orc_bytes = io.BytesIO(data['Body'].read())   \n",
    "    reader = pyorc.Reader(orc_bytes)\n",
    "    schema = reader.schema\n",
    "    columns = [item for item in schema.fields]\n",
    "    rows = [row for row in reader]   \n",
    "    df = pd.DataFrame(data=rows, columns=columns)\n",
    "    return df\n",
    "\n",
    "df = load_s3_orc_to_local_df(bucket=bucket, key=key)"
   ]
  },
  {
   "cell_type": "code",
   "execution_count": 27,
   "id": "ff6d5ea6-d127-44e2-9e6c-0d9144cb68d3",
   "metadata": {
    "execution": {
     "iopub.execute_input": "2021-09-03T01:41:04.311222Z",
     "iopub.status.busy": "2021-09-03T01:41:04.310834Z",
     "iopub.status.idle": "2021-09-03T01:41:04.346099Z",
     "shell.execute_reply": "2021-09-03T01:41:04.345404Z",
     "shell.execute_reply.started": "2021-09-03T01:41:04.311191Z"
    },
    "tags": []
   },
   "outputs": [
    {
     "data": {
      "text/html": [
       "<div>\n",
       "<style scoped>\n",
       "    .dataframe tbody tr th:only-of-type {\n",
       "        vertical-align: middle;\n",
       "    }\n",
       "\n",
       "    .dataframe tbody tr th {\n",
       "        vertical-align: top;\n",
       "    }\n",
       "\n",
       "    .dataframe thead th {\n",
       "        text-align: right;\n",
       "    }\n",
       "</style>\n",
       "<table border=\"1\" class=\"dataframe\">\n",
       "  <thead>\n",
       "    <tr style=\"text-align: right;\">\n",
       "      <th></th>\n",
       "      <th>session_id</th>\n",
       "      <th>client</th>\n",
       "      <th>client_id</th>\n",
       "      <th>source</th>\n",
       "      <th>cookie_source</th>\n",
       "      <th>destination</th>\n",
       "      <th>cookie_destination</th>\n",
       "      <th>last_updated</th>\n",
       "    </tr>\n",
       "  </thead>\n",
       "  <tbody>\n",
       "    <tr>\n",
       "      <th>0</th>\n",
       "      <td>000062b8-478c-4183-a050-7d8d998317fd:161042276...</td>\n",
       "      <td>sizmek</td>\n",
       "      <td>1791377133413228020</td>\n",
       "      <td>zync</td>\n",
       "      <td>000062b8-478c-4183-a050-7d8d998317fd:161042276...</td>\n",
       "      <td>zync</td>\n",
       "      <td>000062b8-478c-4183-a050-7d8d998317fd:161042276...</td>\n",
       "      <td>2021-07-20 14:48:05.554</td>\n",
       "    </tr>\n",
       "    <tr>\n",
       "      <th>1</th>\n",
       "      <td>000062b8-478c-4183-a050-7d8d998317fd:161042276...</td>\n",
       "      <td>sizmek</td>\n",
       "      <td>1791377133413228020</td>\n",
       "      <td>zync</td>\n",
       "      <td>000062b8-478c-4183-a050-7d8d998317fd:161042276...</td>\n",
       "      <td>33across</td>\n",
       "      <td>jnoCcWACKR1MvRCJT7ARdg==</td>\n",
       "      <td>2021-06-11 01:18:49.753</td>\n",
       "    </tr>\n",
       "    <tr>\n",
       "      <th>2</th>\n",
       "      <td>000062b8-478c-4183-a050-7d8d998317fd:161042276...</td>\n",
       "      <td>sizmek</td>\n",
       "      <td>1797288107662702191</td>\n",
       "      <td>zync</td>\n",
       "      <td>000062b8-478c-4183-a050-7d8d998317fd:161042276...</td>\n",
       "      <td>zync</td>\n",
       "      <td>000062b8-478c-4183-a050-7d8d998317fd:161042276...</td>\n",
       "      <td>2021-07-20 14:48:05.554</td>\n",
       "    </tr>\n",
       "    <tr>\n",
       "      <th>3</th>\n",
       "      <td>000062b8-478c-4183-a050-7d8d998317fd:161042276...</td>\n",
       "      <td>sizmek</td>\n",
       "      <td>1797288107662702191</td>\n",
       "      <td>zync</td>\n",
       "      <td>000062b8-478c-4183-a050-7d8d998317fd:161042276...</td>\n",
       "      <td>33across</td>\n",
       "      <td>jnoCcWACKR1MvRCJT7ARdg==</td>\n",
       "      <td>2021-06-11 01:18:49.753</td>\n",
       "    </tr>\n",
       "    <tr>\n",
       "      <th>4</th>\n",
       "      <td>000133f5-b2d7-45b3-85b1-f8c79094c40c:152056974...</td>\n",
       "      <td>sizmek</td>\n",
       "      <td>772156240587009617</td>\n",
       "      <td>zync</td>\n",
       "      <td>000133f5-b2d7-45b3-85b1-f8c79094c40c:152056974...</td>\n",
       "      <td>disqus</td>\n",
       "      <td>c6glsundvd6ij</td>\n",
       "      <td>2021-07-18 01:03:55.836</td>\n",
       "    </tr>\n",
       "    <tr>\n",
       "      <th>...</th>\n",
       "      <td>...</td>\n",
       "      <td>...</td>\n",
       "      <td>...</td>\n",
       "      <td>...</td>\n",
       "      <td>...</td>\n",
       "      <td>...</td>\n",
       "      <td>...</td>\n",
       "      <td>...</td>\n",
       "    </tr>\n",
       "    <tr>\n",
       "      <th>2337526</th>\n",
       "      <td>ffffca79-68aa-4b38-8173-de3e599cecca:160668316...</td>\n",
       "      <td>sizmek</td>\n",
       "      <td>1040964862404651652</td>\n",
       "      <td>zync</td>\n",
       "      <td>ffffca79-68aa-4b38-8173-de3e599cecca:160668316...</td>\n",
       "      <td>zync</td>\n",
       "      <td>ffffca79-68aa-4b38-8173-de3e599cecca:160668316...</td>\n",
       "      <td>2021-07-10 15:32:43.629</td>\n",
       "    </tr>\n",
       "    <tr>\n",
       "      <th>2337527</th>\n",
       "      <td>ffffca79-68aa-4b38-8173-de3e599cecca:160668316...</td>\n",
       "      <td>sizmek</td>\n",
       "      <td>1040964862404651652</td>\n",
       "      <td>zync</td>\n",
       "      <td>ffffca79-68aa-4b38-8173-de3e599cecca:160668316...</td>\n",
       "      <td>disqus</td>\n",
       "      <td>c66v1e8e1ei3295</td>\n",
       "      <td>2020-11-29 20:00:00.000</td>\n",
       "    </tr>\n",
       "    <tr>\n",
       "      <th>2337528</th>\n",
       "      <td>ffffca79-68aa-4b38-8173-de3e599cecca:160668316...</td>\n",
       "      <td>sizmek</td>\n",
       "      <td>1040964862404651652</td>\n",
       "      <td>zync</td>\n",
       "      <td>ffffca79-68aa-4b38-8173-de3e599cecca:160668316...</td>\n",
       "      <td>sizmek</td>\n",
       "      <td>1040964862404651652</td>\n",
       "      <td>2021-07-10 01:20:09.781</td>\n",
       "    </tr>\n",
       "    <tr>\n",
       "      <th>2337529</th>\n",
       "      <td>ffffca79-68aa-4b38-8173-de3e599cecca:160668316...</td>\n",
       "      <td>sizmek</td>\n",
       "      <td>1040964862404651652</td>\n",
       "      <td>zync</td>\n",
       "      <td>ffffca79-68aa-4b38-8173-de3e599cecca:160668316...</td>\n",
       "      <td>zync</td>\n",
       "      <td>ffffca79-68aa-4b38-8173-de3e599cecca:160668316...</td>\n",
       "      <td>2021-07-10 15:32:43.629</td>\n",
       "    </tr>\n",
       "    <tr>\n",
       "      <th>2337530</th>\n",
       "      <td>ffffca79-68aa-4b38-8173-de3e599cecca:160668316...</td>\n",
       "      <td>sizmek</td>\n",
       "      <td>1040964862404651652</td>\n",
       "      <td>zync</td>\n",
       "      <td>ffffca79-68aa-4b38-8173-de3e599cecca:160668316...</td>\n",
       "      <td>disqus</td>\n",
       "      <td>c66v1e8e1ei3295</td>\n",
       "      <td>2020-11-29 20:00:00.000</td>\n",
       "    </tr>\n",
       "  </tbody>\n",
       "</table>\n",
       "<p>2337531 rows × 8 columns</p>\n",
       "</div>"
      ],
      "text/plain": [
       "                                                session_id  client  \\\n",
       "0        000062b8-478c-4183-a050-7d8d998317fd:161042276...  sizmek   \n",
       "1        000062b8-478c-4183-a050-7d8d998317fd:161042276...  sizmek   \n",
       "2        000062b8-478c-4183-a050-7d8d998317fd:161042276...  sizmek   \n",
       "3        000062b8-478c-4183-a050-7d8d998317fd:161042276...  sizmek   \n",
       "4        000133f5-b2d7-45b3-85b1-f8c79094c40c:152056974...  sizmek   \n",
       "...                                                    ...     ...   \n",
       "2337526  ffffca79-68aa-4b38-8173-de3e599cecca:160668316...  sizmek   \n",
       "2337527  ffffca79-68aa-4b38-8173-de3e599cecca:160668316...  sizmek   \n",
       "2337528  ffffca79-68aa-4b38-8173-de3e599cecca:160668316...  sizmek   \n",
       "2337529  ffffca79-68aa-4b38-8173-de3e599cecca:160668316...  sizmek   \n",
       "2337530  ffffca79-68aa-4b38-8173-de3e599cecca:160668316...  sizmek   \n",
       "\n",
       "                   client_id source  \\\n",
       "0        1791377133413228020   zync   \n",
       "1        1791377133413228020   zync   \n",
       "2        1797288107662702191   zync   \n",
       "3        1797288107662702191   zync   \n",
       "4         772156240587009617   zync   \n",
       "...                      ...    ...   \n",
       "2337526  1040964862404651652   zync   \n",
       "2337527  1040964862404651652   zync   \n",
       "2337528  1040964862404651652   zync   \n",
       "2337529  1040964862404651652   zync   \n",
       "2337530  1040964862404651652   zync   \n",
       "\n",
       "                                             cookie_source destination  \\\n",
       "0        000062b8-478c-4183-a050-7d8d998317fd:161042276...        zync   \n",
       "1        000062b8-478c-4183-a050-7d8d998317fd:161042276...    33across   \n",
       "2        000062b8-478c-4183-a050-7d8d998317fd:161042276...        zync   \n",
       "3        000062b8-478c-4183-a050-7d8d998317fd:161042276...    33across   \n",
       "4        000133f5-b2d7-45b3-85b1-f8c79094c40c:152056974...      disqus   \n",
       "...                                                    ...         ...   \n",
       "2337526  ffffca79-68aa-4b38-8173-de3e599cecca:160668316...        zync   \n",
       "2337527  ffffca79-68aa-4b38-8173-de3e599cecca:160668316...      disqus   \n",
       "2337528  ffffca79-68aa-4b38-8173-de3e599cecca:160668316...      sizmek   \n",
       "2337529  ffffca79-68aa-4b38-8173-de3e599cecca:160668316...        zync   \n",
       "2337530  ffffca79-68aa-4b38-8173-de3e599cecca:160668316...      disqus   \n",
       "\n",
       "                                        cookie_destination  \\\n",
       "0        000062b8-478c-4183-a050-7d8d998317fd:161042276...   \n",
       "1                                 jnoCcWACKR1MvRCJT7ARdg==   \n",
       "2        000062b8-478c-4183-a050-7d8d998317fd:161042276...   \n",
       "3                                 jnoCcWACKR1MvRCJT7ARdg==   \n",
       "4                                            c6glsundvd6ij   \n",
       "...                                                    ...   \n",
       "2337526  ffffca79-68aa-4b38-8173-de3e599cecca:160668316...   \n",
       "2337527                                    c66v1e8e1ei3295   \n",
       "2337528                                1040964862404651652   \n",
       "2337529  ffffca79-68aa-4b38-8173-de3e599cecca:160668316...   \n",
       "2337530                                    c66v1e8e1ei3295   \n",
       "\n",
       "                   last_updated  \n",
       "0       2021-07-20 14:48:05.554  \n",
       "1       2021-06-11 01:18:49.753  \n",
       "2       2021-07-20 14:48:05.554  \n",
       "3       2021-06-11 01:18:49.753  \n",
       "4       2021-07-18 01:03:55.836  \n",
       "...                         ...  \n",
       "2337526 2021-07-10 15:32:43.629  \n",
       "2337527 2020-11-29 20:00:00.000  \n",
       "2337528 2021-07-10 01:20:09.781  \n",
       "2337529 2021-07-10 15:32:43.629  \n",
       "2337530 2020-11-29 20:00:00.000  \n",
       "\n",
       "[2337531 rows x 8 columns]"
      ]
     },
     "execution_count": 27,
     "metadata": {},
     "output_type": "execute_result"
    }
   ],
   "source": [
    "labels_zync"
   ]
  },
  {
   "cell_type": "code",
   "execution_count": 8,
   "id": "aca0ca2a-1d92-452c-bb81-fb5096ec3142",
   "metadata": {
    "execution": {
     "iopub.execute_input": "2021-09-02T18:17:59.671488Z",
     "iopub.status.busy": "2021-09-02T18:17:59.671073Z",
     "iopub.status.idle": "2021-09-02T18:17:59.787660Z",
     "shell.execute_reply": "2021-09-02T18:17:59.786974Z",
     "shell.execute_reply.started": "2021-09-02T18:17:59.671417Z"
    },
    "tags": []
   },
   "outputs": [
    {
     "data": {
      "text/html": [
       "<div>\n",
       "<style scoped>\n",
       "    .dataframe tbody tr th:only-of-type {\n",
       "        vertical-align: middle;\n",
       "    }\n",
       "\n",
       "    .dataframe tbody tr th {\n",
       "        vertical-align: top;\n",
       "    }\n",
       "\n",
       "    .dataframe thead th {\n",
       "        text-align: right;\n",
       "    }\n",
       "</style>\n",
       "<table border=\"1\" class=\"dataframe\">\n",
       "  <thead>\n",
       "    <tr style=\"text-align: right;\">\n",
       "      <th></th>\n",
       "      <th>session_id</th>\n",
       "      <th>client</th>\n",
       "      <th>client_id</th>\n",
       "      <th>source</th>\n",
       "      <th>cookie_source</th>\n",
       "      <th>destination</th>\n",
       "      <th>cookie_destination</th>\n",
       "      <th>last_updated</th>\n",
       "    </tr>\n",
       "  </thead>\n",
       "  <tbody>\n",
       "    <tr>\n",
       "      <th>1</th>\n",
       "      <td>0001be29-f16b-4fe3-b83a-a5535ea2804f:159457497...</td>\n",
       "      <td>sizmek</td>\n",
       "      <td>969751667156161598</td>\n",
       "      <td>zync</td>\n",
       "      <td>0001be29-f16b-4fe3-b83a-a5535ea2804f:159457497...</td>\n",
       "      <td>sizmek</td>\n",
       "      <td>969751667156161598</td>\n",
       "      <td>2021-07-14 01:04:00.959</td>\n",
       "    </tr>\n",
       "    <tr>\n",
       "      <th>5</th>\n",
       "      <td>0001be29-f16b-4fe3-b83a-a5535ea2804f:159457497...</td>\n",
       "      <td>sizmek</td>\n",
       "      <td>969751667156161598</td>\n",
       "      <td>zync</td>\n",
       "      <td>0001be29-f16b-4fe3-b83a-a5535ea2804f:159457497...</td>\n",
       "      <td>sizmek</td>\n",
       "      <td>969751667156161598</td>\n",
       "      <td>2021-07-14 01:04:00.959</td>\n",
       "    </tr>\n",
       "    <tr>\n",
       "      <th>9</th>\n",
       "      <td>0001be29-f16b-4fe3-b83a-a5535ea2804f:159457497...</td>\n",
       "      <td>sizmek</td>\n",
       "      <td>969751667156161598</td>\n",
       "      <td>zync</td>\n",
       "      <td>0001be29-f16b-4fe3-b83a-a5535ea2804f:159457497...</td>\n",
       "      <td>sizmek</td>\n",
       "      <td>969751667156161598</td>\n",
       "      <td>2021-07-14 01:04:00.959</td>\n",
       "    </tr>\n",
       "    <tr>\n",
       "      <th>13</th>\n",
       "      <td>0001be29-f16b-4fe3-b83a-a5535ea2804f:159457497...</td>\n",
       "      <td>sizmek</td>\n",
       "      <td>969751667156161598</td>\n",
       "      <td>zync</td>\n",
       "      <td>0001be29-f16b-4fe3-b83a-a5535ea2804f:159457497...</td>\n",
       "      <td>sizmek</td>\n",
       "      <td>969751667156161598</td>\n",
       "      <td>2021-07-14 01:04:00.959</td>\n",
       "    </tr>\n",
       "    <tr>\n",
       "      <th>17</th>\n",
       "      <td>0001be29-f16b-4fe3-b83a-a5535ea2804f:159457497...</td>\n",
       "      <td>sizmek</td>\n",
       "      <td>969751667156161598</td>\n",
       "      <td>zync</td>\n",
       "      <td>0001be29-f16b-4fe3-b83a-a5535ea2804f:159457497...</td>\n",
       "      <td>sizmek</td>\n",
       "      <td>969751667156161598</td>\n",
       "      <td>2021-07-14 01:04:00.959</td>\n",
       "    </tr>\n",
       "    <tr>\n",
       "      <th>...</th>\n",
       "      <td>...</td>\n",
       "      <td>...</td>\n",
       "      <td>...</td>\n",
       "      <td>...</td>\n",
       "      <td>...</td>\n",
       "      <td>...</td>\n",
       "      <td>...</td>\n",
       "      <td>...</td>\n",
       "    </tr>\n",
       "    <tr>\n",
       "      <th>999942</th>\n",
       "      <td>78afed92-90be-4620-aec6-ee4aedf510d5:156502932...</td>\n",
       "      <td>sizmek</td>\n",
       "      <td>1192116895925446876</td>\n",
       "      <td>zync</td>\n",
       "      <td>78afed92-90be-4620-aec6-ee4aedf510d5:156502932...</td>\n",
       "      <td>sizmek</td>\n",
       "      <td>1192116895925446876</td>\n",
       "      <td>2021-07-20 01:13:36.584</td>\n",
       "    </tr>\n",
       "    <tr>\n",
       "      <th>999954</th>\n",
       "      <td>78afed92-90be-4620-aec6-ee4aedf510d5:156502932...</td>\n",
       "      <td>sizmek</td>\n",
       "      <td>1192116895925446876</td>\n",
       "      <td>zync</td>\n",
       "      <td>78afed92-90be-4620-aec6-ee4aedf510d5:156502932...</td>\n",
       "      <td>sizmek</td>\n",
       "      <td>1192116895925446876</td>\n",
       "      <td>2021-07-20 01:13:36.584</td>\n",
       "    </tr>\n",
       "    <tr>\n",
       "      <th>999966</th>\n",
       "      <td>78afed92-90be-4620-aec6-ee4aedf510d5:156502932...</td>\n",
       "      <td>sizmek</td>\n",
       "      <td>1192116895925446876</td>\n",
       "      <td>zync</td>\n",
       "      <td>78afed92-90be-4620-aec6-ee4aedf510d5:156502932...</td>\n",
       "      <td>sizmek</td>\n",
       "      <td>1192116895925446876</td>\n",
       "      <td>2021-07-20 01:13:36.584</td>\n",
       "    </tr>\n",
       "    <tr>\n",
       "      <th>999978</th>\n",
       "      <td>78afed92-90be-4620-aec6-ee4aedf510d5:156502932...</td>\n",
       "      <td>sizmek</td>\n",
       "      <td>1192116895925446876</td>\n",
       "      <td>zync</td>\n",
       "      <td>78afed92-90be-4620-aec6-ee4aedf510d5:156502932...</td>\n",
       "      <td>sizmek</td>\n",
       "      <td>1192116895925446876</td>\n",
       "      <td>2021-07-20 01:13:36.584</td>\n",
       "    </tr>\n",
       "    <tr>\n",
       "      <th>999990</th>\n",
       "      <td>78afed92-90be-4620-aec6-ee4aedf510d5:156502932...</td>\n",
       "      <td>sizmek</td>\n",
       "      <td>1192116895925446876</td>\n",
       "      <td>zync</td>\n",
       "      <td>78afed92-90be-4620-aec6-ee4aedf510d5:156502932...</td>\n",
       "      <td>sizmek</td>\n",
       "      <td>1192116895925446876</td>\n",
       "      <td>2021-07-20 01:13:36.584</td>\n",
       "    </tr>\n",
       "  </tbody>\n",
       "</table>\n",
       "<p>456931 rows × 8 columns</p>\n",
       "</div>"
      ],
      "text/plain": [
       "                                               session_id  client  \\\n",
       "1       0001be29-f16b-4fe3-b83a-a5535ea2804f:159457497...  sizmek   \n",
       "5       0001be29-f16b-4fe3-b83a-a5535ea2804f:159457497...  sizmek   \n",
       "9       0001be29-f16b-4fe3-b83a-a5535ea2804f:159457497...  sizmek   \n",
       "13      0001be29-f16b-4fe3-b83a-a5535ea2804f:159457497...  sizmek   \n",
       "17      0001be29-f16b-4fe3-b83a-a5535ea2804f:159457497...  sizmek   \n",
       "...                                                   ...     ...   \n",
       "999942  78afed92-90be-4620-aec6-ee4aedf510d5:156502932...  sizmek   \n",
       "999954  78afed92-90be-4620-aec6-ee4aedf510d5:156502932...  sizmek   \n",
       "999966  78afed92-90be-4620-aec6-ee4aedf510d5:156502932...  sizmek   \n",
       "999978  78afed92-90be-4620-aec6-ee4aedf510d5:156502932...  sizmek   \n",
       "999990  78afed92-90be-4620-aec6-ee4aedf510d5:156502932...  sizmek   \n",
       "\n",
       "                  client_id source  \\\n",
       "1        969751667156161598   zync   \n",
       "5        969751667156161598   zync   \n",
       "9        969751667156161598   zync   \n",
       "13       969751667156161598   zync   \n",
       "17       969751667156161598   zync   \n",
       "...                     ...    ...   \n",
       "999942  1192116895925446876   zync   \n",
       "999954  1192116895925446876   zync   \n",
       "999966  1192116895925446876   zync   \n",
       "999978  1192116895925446876   zync   \n",
       "999990  1192116895925446876   zync   \n",
       "\n",
       "                                            cookie_source destination  \\\n",
       "1       0001be29-f16b-4fe3-b83a-a5535ea2804f:159457497...      sizmek   \n",
       "5       0001be29-f16b-4fe3-b83a-a5535ea2804f:159457497...      sizmek   \n",
       "9       0001be29-f16b-4fe3-b83a-a5535ea2804f:159457497...      sizmek   \n",
       "13      0001be29-f16b-4fe3-b83a-a5535ea2804f:159457497...      sizmek   \n",
       "17      0001be29-f16b-4fe3-b83a-a5535ea2804f:159457497...      sizmek   \n",
       "...                                                   ...         ...   \n",
       "999942  78afed92-90be-4620-aec6-ee4aedf510d5:156502932...      sizmek   \n",
       "999954  78afed92-90be-4620-aec6-ee4aedf510d5:156502932...      sizmek   \n",
       "999966  78afed92-90be-4620-aec6-ee4aedf510d5:156502932...      sizmek   \n",
       "999978  78afed92-90be-4620-aec6-ee4aedf510d5:156502932...      sizmek   \n",
       "999990  78afed92-90be-4620-aec6-ee4aedf510d5:156502932...      sizmek   \n",
       "\n",
       "         cookie_destination            last_updated  \n",
       "1        969751667156161598 2021-07-14 01:04:00.959  \n",
       "5        969751667156161598 2021-07-14 01:04:00.959  \n",
       "9        969751667156161598 2021-07-14 01:04:00.959  \n",
       "13       969751667156161598 2021-07-14 01:04:00.959  \n",
       "17       969751667156161598 2021-07-14 01:04:00.959  \n",
       "...                     ...                     ...  \n",
       "999942  1192116895925446876 2021-07-20 01:13:36.584  \n",
       "999954  1192116895925446876 2021-07-20 01:13:36.584  \n",
       "999966  1192116895925446876 2021-07-20 01:13:36.584  \n",
       "999978  1192116895925446876 2021-07-20 01:13:36.584  \n",
       "999990  1192116895925446876 2021-07-20 01:13:36.584  \n",
       "\n",
       "[456931 rows x 8 columns]"
      ]
     },
     "execution_count": 8,
     "metadata": {},
     "output_type": "execute_result"
    }
   ],
   "source": [
    "labels_zync[labels_zync[\"destination\"] == \"sizmek\"]"
   ]
  },
  {
   "cell_type": "code",
   "execution_count": 12,
   "id": "4e7caf63-2555-4a32-b4cb-95ed688445fa",
   "metadata": {
    "execution": {
     "iopub.execute_input": "2021-09-02T19:35:52.351767Z",
     "iopub.status.busy": "2021-09-02T19:35:52.351435Z",
     "iopub.status.idle": "2021-09-02T19:35:52.385161Z",
     "shell.execute_reply": "2021-09-02T19:35:52.384301Z",
     "shell.execute_reply.started": "2021-09-02T19:35:52.351751Z"
    },
    "tags": []
   },
   "outputs": [
    {
     "data": {
      "text/html": [
       "<div>\n",
       "<style scoped>\n",
       "    .dataframe tbody tr th:only-of-type {\n",
       "        vertical-align: middle;\n",
       "    }\n",
       "\n",
       "    .dataframe tbody tr th {\n",
       "        vertical-align: top;\n",
       "    }\n",
       "\n",
       "    .dataframe thead th {\n",
       "        text-align: right;\n",
       "    }\n",
       "</style>\n",
       "<table border=\"1\" class=\"dataframe\">\n",
       "  <thead>\n",
       "    <tr style=\"text-align: right;\">\n",
       "      <th></th>\n",
       "      <th>session_id</th>\n",
       "      <th>client</th>\n",
       "      <th>client_id</th>\n",
       "      <th>remote_addr</th>\n",
       "      <th>referrer</th>\n",
       "      <th>user_agent_platform</th>\n",
       "      <th>user_agent_language</th>\n",
       "      <th>user_agent_browser</th>\n",
       "      <th>user_agent_string</th>\n",
       "      <th>user_agent_version</th>\n",
       "      <th>timestamp</th>\n",
       "      <th>geo_data</th>\n",
       "      <th>partner_data</th>\n",
       "      <th>session</th>\n",
       "      <th>consent_data</th>\n",
       "      <th>cohort_id</th>\n",
       "      <th>dt</th>\n",
       "    </tr>\n",
       "  </thead>\n",
       "  <tbody>\n",
       "    <tr>\n",
       "      <th>2</th>\n",
       "      <td>3c25676a-99b3-4de4-bd3e-1c6ab35dc7c3:162988199...</td>\n",
       "      <td>sizmek</td>\n",
       "      <td>1871878972619855645</td>\n",
       "      <td>93.115.62.74</td>\n",
       "      <td>https://adservice.google.com</td>\n",
       "      <td>iphone</td>\n",
       "      <td>NaN</td>\n",
       "      <td>safari</td>\n",
       "      <td>Mozilla/5.0 (iPhone; CPU iPhone OS 14_7_1 like...</td>\n",
       "      <td>14.1.2</td>\n",
       "      <td>1.629882e+09</td>\n",
       "      <td>{\"country\":\"IT\",\"subdivision\":\"MI\",\"coordinate...</td>\n",
       "      <td>NaN</td>\n",
       "      <td>{\"clients\":null}</td>\n",
       "      <td>{\"gdpr\":null,\"gdpr_consent\":null}</td>\n",
       "      <td>NaN</td>\n",
       "      <td>2021-08-25-09</td>\n",
       "    </tr>\n",
       "    <tr>\n",
       "      <th>4</th>\n",
       "      <td>cf5486d7-ab3b-4da3-81f2-eaa89682365e:161850408...</td>\n",
       "      <td>sizmek</td>\n",
       "      <td>1783777303354223291</td>\n",
       "      <td>72.50.7.204</td>\n",
       "      <td>https://mx.investing.com/magazine/famosos-que-...</td>\n",
       "      <td>android</td>\n",
       "      <td>10</td>\n",
       "      <td>chrome</td>\n",
       "      <td>Mozilla/5.0 (Linux; Android 10; LM-Q730) Apple...</td>\n",
       "      <td>92.0.4515.159</td>\n",
       "      <td>1.629882e+09</td>\n",
       "      <td>{\"country\":\"PR\",\"subdivision\":null,\"coordinate...</td>\n",
       "      <td>NaN</td>\n",
       "      <td>{\"clients\":{\"appnexus\":null,\"disqus\":\"c7t72tjh...</td>\n",
       "      <td>{\"gdpr\":null,\"gdpr_consent\":null}</td>\n",
       "      <td>NaN</td>\n",
       "      <td>2021-08-25-09</td>\n",
       "    </tr>\n",
       "    <tr>\n",
       "      <th>6</th>\n",
       "      <td>c87ee888-8740-4e27-b095-87b929f7126c:162988199...</td>\n",
       "      <td>sizmek</td>\n",
       "      <td>875739029317923369</td>\n",
       "      <td>151.73.147.144</td>\n",
       "      <td>https://primigi.it/it/</td>\n",
       "      <td>iphone</td>\n",
       "      <td>NaN</td>\n",
       "      <td>safari</td>\n",
       "      <td>Mozilla/5.0 (iPhone; CPU iPhone OS 14_6 like M...</td>\n",
       "      <td>14.1.1</td>\n",
       "      <td>1.629882e+09</td>\n",
       "      <td>{\"country\":\"IT\",\"subdivision\":\"NA\",\"coordinate...</td>\n",
       "      <td>NaN</td>\n",
       "      <td>{\"clients\":null}</td>\n",
       "      <td>{\"gdpr\":null,\"gdpr_consent\":null}</td>\n",
       "      <td>NaN</td>\n",
       "      <td>2021-08-25-09</td>\n",
       "    </tr>\n",
       "  </tbody>\n",
       "</table>\n",
       "</div>"
      ],
      "text/plain": [
       "                                          session_id  client  \\\n",
       "2  3c25676a-99b3-4de4-bd3e-1c6ab35dc7c3:162988199...  sizmek   \n",
       "4  cf5486d7-ab3b-4da3-81f2-eaa89682365e:161850408...  sizmek   \n",
       "6  c87ee888-8740-4e27-b095-87b929f7126c:162988199...  sizmek   \n",
       "\n",
       "             client_id     remote_addr  \\\n",
       "2  1871878972619855645    93.115.62.74   \n",
       "4  1783777303354223291     72.50.7.204   \n",
       "6   875739029317923369  151.73.147.144   \n",
       "\n",
       "                                            referrer user_agent_platform  \\\n",
       "2                       https://adservice.google.com              iphone   \n",
       "4  https://mx.investing.com/magazine/famosos-que-...             android   \n",
       "6                             https://primigi.it/it/              iphone   \n",
       "\n",
       "  user_agent_language user_agent_browser  \\\n",
       "2                 NaN             safari   \n",
       "4                  10             chrome   \n",
       "6                 NaN             safari   \n",
       "\n",
       "                                   user_agent_string user_agent_version  \\\n",
       "2  Mozilla/5.0 (iPhone; CPU iPhone OS 14_7_1 like...             14.1.2   \n",
       "4  Mozilla/5.0 (Linux; Android 10; LM-Q730) Apple...      92.0.4515.159   \n",
       "6  Mozilla/5.0 (iPhone; CPU iPhone OS 14_6 like M...             14.1.1   \n",
       "\n",
       "      timestamp                                           geo_data  \\\n",
       "2  1.629882e+09  {\"country\":\"IT\",\"subdivision\":\"MI\",\"coordinate...   \n",
       "4  1.629882e+09  {\"country\":\"PR\",\"subdivision\":null,\"coordinate...   \n",
       "6  1.629882e+09  {\"country\":\"IT\",\"subdivision\":\"NA\",\"coordinate...   \n",
       "\n",
       "  partner_data                                            session  \\\n",
       "2          NaN                                   {\"clients\":null}   \n",
       "4          NaN  {\"clients\":{\"appnexus\":null,\"disqus\":\"c7t72tjh...   \n",
       "6          NaN                                   {\"clients\":null}   \n",
       "\n",
       "                        consent_data  cohort_id             dt  \n",
       "2  {\"gdpr\":null,\"gdpr_consent\":null}        NaN  2021-08-25-09  \n",
       "4  {\"gdpr\":null,\"gdpr_consent\":null}        NaN  2021-08-25-09  \n",
       "6  {\"gdpr\":null,\"gdpr_consent\":null}        NaN  2021-08-25-09  "
      ]
     },
     "execution_count": 12,
     "metadata": {},
     "output_type": "execute_result"
    }
   ],
   "source": [
    "zync_data.df.head(3)"
   ]
  },
  {
   "cell_type": "code",
   "execution_count": 18,
   "id": "81966d4e-305a-4ff7-9315-893130cbacaa",
   "metadata": {
    "execution": {
     "iopub.execute_input": "2021-09-02T19:43:03.853718Z",
     "iopub.status.busy": "2021-09-02T19:43:03.853200Z",
     "iopub.status.idle": "2021-09-02T19:43:03.873071Z",
     "shell.execute_reply": "2021-09-02T19:43:03.872339Z",
     "shell.execute_reply.started": "2021-09-02T19:43:03.853701Z"
    }
   },
   "outputs": [
    {
     "data": {
      "text/plain": [
       "(1000000, 8)"
      ]
     },
     "execution_count": 18,
     "metadata": {},
     "output_type": "execute_result"
    }
   ],
   "source": [
    "labels_zync.shape"
   ]
  },
  {
   "cell_type": "code",
   "execution_count": 20,
   "id": "8330f6d7-36c4-434f-b8f0-d4ad62d63dcf",
   "metadata": {
    "execution": {
     "iopub.execute_input": "2021-09-02T19:43:17.259239Z",
     "iopub.status.busy": "2021-09-02T19:43:17.258710Z",
     "iopub.status.idle": "2021-09-02T19:43:17.284433Z",
     "shell.execute_reply": "2021-09-02T19:43:17.283797Z",
     "shell.execute_reply.started": "2021-09-02T19:43:17.259219Z"
    },
    "tags": []
   },
   "outputs": [
    {
     "data": {
      "text/plain": [
       "(37999, 17)"
      ]
     },
     "execution_count": 20,
     "metadata": {},
     "output_type": "execute_result"
    }
   ],
   "source": [
    "zync_data.df.shape"
   ]
  },
  {
   "cell_type": "code",
   "execution_count": 17,
   "id": "5b523193-ba38-4d19-9c47-cc0e394950b7",
   "metadata": {
    "execution": {
     "iopub.execute_input": "2021-09-02T19:42:49.432338Z",
     "iopub.status.busy": "2021-09-02T19:42:49.431640Z",
     "iopub.status.idle": "2021-09-02T19:42:49.537277Z",
     "shell.execute_reply": "2021-09-02T19:42:49.536656Z",
     "shell.execute_reply.started": "2021-09-02T19:42:49.432315Z"
    },
    "tags": []
   },
   "outputs": [
    {
     "data": {
      "text/plain": [
       "(42, 4)"
      ]
     },
     "execution_count": 17,
     "metadata": {},
     "output_type": "execute_result"
    }
   ],
   "source": [
    "links_cols = [\"session_id\",\"client_id\"]\n",
    "zync_cols = [\"session_id\",\"client\",\"client_id\"]\n",
    "labels_zync[links_cols].merge(zync_data.df[zync_cols], how=\"inner\", on=\"client_id\")"
   ]
  },
  {
   "cell_type": "markdown",
   "id": "88f6800f-f4d4-4eae-8f94-b849314ab8d7",
   "metadata": {},
   "source": [
    "## SnowFlake"
   ]
  },
  {
   "cell_type": "code",
   "execution_count": 9,
   "id": "db1b825d-c4df-434e-9eba-0543c3280646",
   "metadata": {
    "execution": {
     "iopub.execute_input": "2021-08-20T19:46:26.646692Z",
     "iopub.status.busy": "2021-08-20T19:46:26.646315Z",
     "iopub.status.idle": "2021-08-20T19:46:32.915840Z",
     "shell.execute_reply": "2021-08-20T19:46:32.915047Z",
     "shell.execute_reply.started": "2021-08-20T19:46:26.646672Z"
    },
    "tags": []
   },
   "outputs": [],
   "source": [
    "import sqlalchemy\n",
    "\n",
    "class Snowflake:\n",
    "    def __init__(self):\n",
    "        with open(\".creds\") as f:\n",
    "            creds = f.read().splitlines()\n",
    "            creds = {\n",
    "                \"account\": creds[0],\n",
    "                \"user\": creds[1],\n",
    "                \"password\": creds[2]\n",
    "            }\n",
    "        self.snowflake_credentials = creds\n",
    "\n",
    "    def connection(self):\n",
    "        uri = 'snowflake://{user}:{password}@{account}/'.format(**self.snowflake_credentials)\n",
    "        return sqlalchemy.create_engine(uri)\n",
    "    \n",
    "with Snowflake().connection().begin() as conn:\n",
    "    result = conn.execute(\n",
    "        \"\"\"SELECT 6,6\n",
    "        \"\"\"\n",
    "    )\n",
    "df = pd.DataFrame(result.fetchall())\n",
    "df.columns = result.keys()\n",
    "df"
   ]
  },
  {
   "cell_type": "code",
   "execution_count": null,
   "id": "d039cfe4-d5f6-4120-a1f5-8039489db55a",
   "metadata": {},
   "outputs": [],
   "source": [
    "# Create a function to read from s3 using python:\n",
    "def read_s3(path: str) -> pd.DataFrame:\n",
    "    \"\"\"\n",
    "    Reads a csv file from s3 into a pandas dataframe.\n",
    "    \n",
    "    :param path: The s3 location of the file.\n",
    "    :return: A pandas dataframe.\n",
    "    \"\"\"\n",
    "    obj = s3.get_object(Bucket='data-eng-capstone', Key=path)\n",
    "    return pd.read_csv(io.BytesIO(obj['Body'].read()))\n",
    "# Read in the data from s3:\n",
    "df = read_s3('data/raw/df_raw.csv')"
   ]
  },
  {
   "cell_type": "code",
   "execution_count": 12,
   "id": "d6abf4ec-9253-4206-ac2f-656c60384e78",
   "metadata": {
    "collapsed": true,
    "execution": {
     "iopub.execute_input": "2021-08-22T20:13:28.793431Z",
     "iopub.status.busy": "2021-08-22T20:13:28.792401Z",
     "iopub.status.idle": "2021-08-22T20:13:29.166608Z",
     "shell.execute_reply": "2021-08-22T20:13:29.165209Z",
     "shell.execute_reply.started": "2021-08-22T20:13:28.793376Z"
    },
    "jupyter": {
     "outputs_hidden": true
    },
    "tags": []
   },
   "outputs": [
    {
     "ename": "ImportError",
     "evalue": "Missing optional dependency 'pyarrow'. pyarrow is required for parquet support. Use pip or conda to install pyarrow.",
     "output_type": "error",
     "traceback": [
      "\u001b[0;31m---------------------------------------------------------------------------\u001b[0m",
      "\u001b[0;31mImportError\u001b[0m                               Traceback (most recent call last)",
      "\u001b[0;32m/tmp/ipykernel_19327/1304321599.py\u001b[0m in \u001b[0;36m<module>\u001b[0;34m\u001b[0m\n\u001b[0;32m----> 1\u001b[0;31m \u001b[0mpd\u001b[0m\u001b[0;34m.\u001b[0m\u001b[0mread_parquet\u001b[0m\u001b[0;34m(\u001b[0m\u001b[0;34m\"s3://zeta-dcp-prod-private-tables/datacloud_cookie_cookies_relations_links_export/\"\u001b[0m\u001b[0;34m,\u001b[0m \u001b[0mengine\u001b[0m\u001b[0;34m=\u001b[0m\u001b[0;34m'pyarrow'\u001b[0m\u001b[0;34m)\u001b[0m\u001b[0;34m\u001b[0m\u001b[0;34m\u001b[0m\u001b[0m\n\u001b[0m",
      "\u001b[0;32m~/github/.envs/.gmc/lib/python3.8/site-packages/pandas/io/parquet.py\u001b[0m in \u001b[0;36mread_parquet\u001b[0;34m(path, engine, columns, storage_options, use_nullable_dtypes, **kwargs)\u001b[0m\n\u001b[1;32m    486\u001b[0m     \u001b[0mDataFrame\u001b[0m\u001b[0;34m\u001b[0m\u001b[0;34m\u001b[0m\u001b[0m\n\u001b[1;32m    487\u001b[0m     \"\"\"\n\u001b[0;32m--> 488\u001b[0;31m     \u001b[0mimpl\u001b[0m \u001b[0;34m=\u001b[0m \u001b[0mget_engine\u001b[0m\u001b[0;34m(\u001b[0m\u001b[0mengine\u001b[0m\u001b[0;34m)\u001b[0m\u001b[0;34m\u001b[0m\u001b[0;34m\u001b[0m\u001b[0m\n\u001b[0m\u001b[1;32m    489\u001b[0m \u001b[0;34m\u001b[0m\u001b[0m\n\u001b[1;32m    490\u001b[0m     return impl.read(\n",
      "\u001b[0;32m~/github/.envs/.gmc/lib/python3.8/site-packages/pandas/io/parquet.py\u001b[0m in \u001b[0;36mget_engine\u001b[0;34m(engine)\u001b[0m\n\u001b[1;32m     62\u001b[0m \u001b[0;34m\u001b[0m\u001b[0m\n\u001b[1;32m     63\u001b[0m     \u001b[0;32mif\u001b[0m \u001b[0mengine\u001b[0m \u001b[0;34m==\u001b[0m \u001b[0;34m\"pyarrow\"\u001b[0m\u001b[0;34m:\u001b[0m\u001b[0;34m\u001b[0m\u001b[0;34m\u001b[0m\u001b[0m\n\u001b[0;32m---> 64\u001b[0;31m         \u001b[0;32mreturn\u001b[0m \u001b[0mPyArrowImpl\u001b[0m\u001b[0;34m(\u001b[0m\u001b[0;34m)\u001b[0m\u001b[0;34m\u001b[0m\u001b[0;34m\u001b[0m\u001b[0m\n\u001b[0m\u001b[1;32m     65\u001b[0m     \u001b[0;32melif\u001b[0m \u001b[0mengine\u001b[0m \u001b[0;34m==\u001b[0m \u001b[0;34m\"fastparquet\"\u001b[0m\u001b[0;34m:\u001b[0m\u001b[0;34m\u001b[0m\u001b[0;34m\u001b[0m\u001b[0m\n\u001b[1;32m     66\u001b[0m         \u001b[0;32mreturn\u001b[0m \u001b[0mFastParquetImpl\u001b[0m\u001b[0;34m(\u001b[0m\u001b[0;34m)\u001b[0m\u001b[0;34m\u001b[0m\u001b[0;34m\u001b[0m\u001b[0m\n",
      "\u001b[0;32m~/github/.envs/.gmc/lib/python3.8/site-packages/pandas/io/parquet.py\u001b[0m in \u001b[0;36m__init__\u001b[0;34m(self)\u001b[0m\n\u001b[1;32m    145\u001b[0m \u001b[0;32mclass\u001b[0m \u001b[0mPyArrowImpl\u001b[0m\u001b[0;34m(\u001b[0m\u001b[0mBaseImpl\u001b[0m\u001b[0;34m)\u001b[0m\u001b[0;34m:\u001b[0m\u001b[0;34m\u001b[0m\u001b[0;34m\u001b[0m\u001b[0m\n\u001b[1;32m    146\u001b[0m     \u001b[0;32mdef\u001b[0m \u001b[0m__init__\u001b[0m\u001b[0;34m(\u001b[0m\u001b[0mself\u001b[0m\u001b[0;34m)\u001b[0m\u001b[0;34m:\u001b[0m\u001b[0;34m\u001b[0m\u001b[0;34m\u001b[0m\u001b[0m\n\u001b[0;32m--> 147\u001b[0;31m         import_optional_dependency(\n\u001b[0m\u001b[1;32m    148\u001b[0m             \u001b[0;34m\"pyarrow\"\u001b[0m\u001b[0;34m,\u001b[0m \u001b[0mextra\u001b[0m\u001b[0;34m=\u001b[0m\u001b[0;34m\"pyarrow is required for parquet support.\"\u001b[0m\u001b[0;34m\u001b[0m\u001b[0;34m\u001b[0m\u001b[0m\n\u001b[1;32m    149\u001b[0m         )\n",
      "\u001b[0;32m~/github/.envs/.gmc/lib/python3.8/site-packages/pandas/compat/_optional.py\u001b[0m in \u001b[0;36mimport_optional_dependency\u001b[0;34m(name, extra, errors, min_version)\u001b[0m\n\u001b[1;32m    116\u001b[0m     \u001b[0;32mexcept\u001b[0m \u001b[0mImportError\u001b[0m\u001b[0;34m:\u001b[0m\u001b[0;34m\u001b[0m\u001b[0;34m\u001b[0m\u001b[0m\n\u001b[1;32m    117\u001b[0m         \u001b[0;32mif\u001b[0m \u001b[0merrors\u001b[0m \u001b[0;34m==\u001b[0m \u001b[0;34m\"raise\"\u001b[0m\u001b[0;34m:\u001b[0m\u001b[0;34m\u001b[0m\u001b[0;34m\u001b[0m\u001b[0m\n\u001b[0;32m--> 118\u001b[0;31m             \u001b[0;32mraise\u001b[0m \u001b[0mImportError\u001b[0m\u001b[0;34m(\u001b[0m\u001b[0mmsg\u001b[0m\u001b[0;34m)\u001b[0m \u001b[0;32mfrom\u001b[0m \u001b[0;32mNone\u001b[0m\u001b[0;34m\u001b[0m\u001b[0;34m\u001b[0m\u001b[0m\n\u001b[0m\u001b[1;32m    119\u001b[0m         \u001b[0;32melse\u001b[0m\u001b[0;34m:\u001b[0m\u001b[0;34m\u001b[0m\u001b[0;34m\u001b[0m\u001b[0m\n\u001b[1;32m    120\u001b[0m             \u001b[0;32mreturn\u001b[0m \u001b[0;32mNone\u001b[0m\u001b[0;34m\u001b[0m\u001b[0;34m\u001b[0m\u001b[0m\n",
      "\u001b[0;31mImportError\u001b[0m: Missing optional dependency 'pyarrow'. pyarrow is required for parquet support. Use pip or conda to install pyarrow."
     ]
    }
   ],
   "source": [
    "pd.read_parquet(\"s3://zeta-dcp-prod-private-tables/datacloud_cookie_cookies_relations_links_export/\", engine='pyarrow')"
   ]
  },
  {
   "cell_type": "code",
   "execution_count": 18,
   "id": "3888343a-c219-449e-be7f-abaf8507b728",
   "metadata": {
    "collapsed": true,
    "execution": {
     "iopub.execute_input": "2021-08-22T20:17:28.443595Z",
     "iopub.status.busy": "2021-08-22T20:17:28.443310Z",
     "iopub.status.idle": "2021-08-22T20:17:37.164304Z",
     "shell.execute_reply": "2021-08-22T20:17:37.163480Z",
     "shell.execute_reply.started": "2021-08-22T20:17:28.443575Z"
    },
    "jupyter": {
     "outputs_hidden": true
    },
    "tags": []
   },
   "outputs": [
    {
     "ename": "InvalidObjectState",
     "evalue": "An error occurred (InvalidObjectState) when calling the GetObject operation: The operation is not valid for the object's storage class",
     "output_type": "error",
     "traceback": [
      "\u001b[0;31m---------------------------------------------------------------------------\u001b[0m",
      "\u001b[0;31mInvalidObjectState\u001b[0m                        Traceback (most recent call last)",
      "\u001b[0;32m/tmp/ipykernel_19327/3212041747.py\u001b[0m in \u001b[0;36m<module>\u001b[0;34m\u001b[0m\n\u001b[1;32m      8\u001b[0m \u001b[0;32mfor\u001b[0m \u001b[0mobj\u001b[0m \u001b[0;32min\u001b[0m \u001b[0mbucket\u001b[0m\u001b[0;34m.\u001b[0m\u001b[0mobjects\u001b[0m\u001b[0;34m.\u001b[0m\u001b[0mall\u001b[0m\u001b[0;34m(\u001b[0m\u001b[0;34m)\u001b[0m\u001b[0;34m:\u001b[0m\u001b[0;34m\u001b[0m\u001b[0;34m\u001b[0m\u001b[0m\n\u001b[1;32m      9\u001b[0m     \u001b[0mkey\u001b[0m \u001b[0;34m=\u001b[0m \u001b[0mobj\u001b[0m\u001b[0;34m.\u001b[0m\u001b[0mkey\u001b[0m\u001b[0;34m\u001b[0m\u001b[0;34m\u001b[0m\u001b[0m\n\u001b[0;32m---> 10\u001b[0;31m     \u001b[0mbody\u001b[0m \u001b[0;34m=\u001b[0m \u001b[0mobj\u001b[0m\u001b[0;34m.\u001b[0m\u001b[0mget\u001b[0m\u001b[0;34m(\u001b[0m\u001b[0;34m)\u001b[0m\u001b[0;34m[\u001b[0m\u001b[0;34m'Body'\u001b[0m\u001b[0;34m]\u001b[0m\u001b[0;34m.\u001b[0m\u001b[0mread\u001b[0m\u001b[0;34m(\u001b[0m\u001b[0;34m)\u001b[0m\u001b[0;34m\u001b[0m\u001b[0;34m\u001b[0m\u001b[0m\n\u001b[0m",
      "\u001b[0;32m~/github/.envs/.gmc/lib/python3.8/site-packages/boto3/resources/factory.py\u001b[0m in \u001b[0;36mdo_action\u001b[0;34m(self, *args, **kwargs)\u001b[0m\n\u001b[1;32m    518\u001b[0m             \u001b[0;31m# instance via ``self``.\u001b[0m\u001b[0;34m\u001b[0m\u001b[0;34m\u001b[0m\u001b[0;34m\u001b[0m\u001b[0m\n\u001b[1;32m    519\u001b[0m             \u001b[0;32mdef\u001b[0m \u001b[0mdo_action\u001b[0m\u001b[0;34m(\u001b[0m\u001b[0mself\u001b[0m\u001b[0;34m,\u001b[0m \u001b[0;34m*\u001b[0m\u001b[0margs\u001b[0m\u001b[0;34m,\u001b[0m \u001b[0;34m**\u001b[0m\u001b[0mkwargs\u001b[0m\u001b[0;34m)\u001b[0m\u001b[0;34m:\u001b[0m\u001b[0;34m\u001b[0m\u001b[0;34m\u001b[0m\u001b[0m\n\u001b[0;32m--> 520\u001b[0;31m                 \u001b[0mresponse\u001b[0m \u001b[0;34m=\u001b[0m \u001b[0maction\u001b[0m\u001b[0;34m(\u001b[0m\u001b[0mself\u001b[0m\u001b[0;34m,\u001b[0m \u001b[0;34m*\u001b[0m\u001b[0margs\u001b[0m\u001b[0;34m,\u001b[0m \u001b[0;34m**\u001b[0m\u001b[0mkwargs\u001b[0m\u001b[0;34m)\u001b[0m\u001b[0;34m\u001b[0m\u001b[0;34m\u001b[0m\u001b[0m\n\u001b[0m\u001b[1;32m    521\u001b[0m \u001b[0;34m\u001b[0m\u001b[0m\n\u001b[1;32m    522\u001b[0m                 \u001b[0;32mif\u001b[0m \u001b[0mhasattr\u001b[0m\u001b[0;34m(\u001b[0m\u001b[0mself\u001b[0m\u001b[0;34m,\u001b[0m \u001b[0;34m'load'\u001b[0m\u001b[0;34m)\u001b[0m\u001b[0;34m:\u001b[0m\u001b[0;34m\u001b[0m\u001b[0;34m\u001b[0m\u001b[0m\n",
      "\u001b[0;32m~/github/.envs/.gmc/lib/python3.8/site-packages/boto3/resources/action.py\u001b[0m in \u001b[0;36m__call__\u001b[0;34m(self, parent, *args, **kwargs)\u001b[0m\n\u001b[1;32m     81\u001b[0m                      operation_name, params)\n\u001b[1;32m     82\u001b[0m \u001b[0;34m\u001b[0m\u001b[0m\n\u001b[0;32m---> 83\u001b[0;31m         \u001b[0mresponse\u001b[0m \u001b[0;34m=\u001b[0m \u001b[0mgetattr\u001b[0m\u001b[0;34m(\u001b[0m\u001b[0mparent\u001b[0m\u001b[0;34m.\u001b[0m\u001b[0mmeta\u001b[0m\u001b[0;34m.\u001b[0m\u001b[0mclient\u001b[0m\u001b[0;34m,\u001b[0m \u001b[0moperation_name\u001b[0m\u001b[0;34m)\u001b[0m\u001b[0;34m(\u001b[0m\u001b[0;34m*\u001b[0m\u001b[0margs\u001b[0m\u001b[0;34m,\u001b[0m \u001b[0;34m**\u001b[0m\u001b[0mparams\u001b[0m\u001b[0;34m)\u001b[0m\u001b[0;34m\u001b[0m\u001b[0;34m\u001b[0m\u001b[0m\n\u001b[0m\u001b[1;32m     84\u001b[0m \u001b[0;34m\u001b[0m\u001b[0m\n\u001b[1;32m     85\u001b[0m         \u001b[0mlogger\u001b[0m\u001b[0;34m.\u001b[0m\u001b[0mdebug\u001b[0m\u001b[0;34m(\u001b[0m\u001b[0;34m'Response: %r'\u001b[0m\u001b[0;34m,\u001b[0m \u001b[0mresponse\u001b[0m\u001b[0;34m)\u001b[0m\u001b[0;34m\u001b[0m\u001b[0;34m\u001b[0m\u001b[0m\n",
      "\u001b[0;32m~/github/.envs/.gmc/lib/python3.8/site-packages/botocore/client.py\u001b[0m in \u001b[0;36m_api_call\u001b[0;34m(self, *args, **kwargs)\u001b[0m\n\u001b[1;32m    384\u001b[0m                     \"%s() only accepts keyword arguments.\" % py_operation_name)\n\u001b[1;32m    385\u001b[0m             \u001b[0;31m# The \"self\" in this scope is referring to the BaseClient.\u001b[0m\u001b[0;34m\u001b[0m\u001b[0;34m\u001b[0m\u001b[0;34m\u001b[0m\u001b[0m\n\u001b[0;32m--> 386\u001b[0;31m             \u001b[0;32mreturn\u001b[0m \u001b[0mself\u001b[0m\u001b[0;34m.\u001b[0m\u001b[0m_make_api_call\u001b[0m\u001b[0;34m(\u001b[0m\u001b[0moperation_name\u001b[0m\u001b[0;34m,\u001b[0m \u001b[0mkwargs\u001b[0m\u001b[0;34m)\u001b[0m\u001b[0;34m\u001b[0m\u001b[0;34m\u001b[0m\u001b[0m\n\u001b[0m\u001b[1;32m    387\u001b[0m \u001b[0;34m\u001b[0m\u001b[0m\n\u001b[1;32m    388\u001b[0m         \u001b[0m_api_call\u001b[0m\u001b[0;34m.\u001b[0m\u001b[0m__name__\u001b[0m \u001b[0;34m=\u001b[0m \u001b[0mstr\u001b[0m\u001b[0;34m(\u001b[0m\u001b[0mpy_operation_name\u001b[0m\u001b[0;34m)\u001b[0m\u001b[0;34m\u001b[0m\u001b[0;34m\u001b[0m\u001b[0m\n",
      "\u001b[0;32m~/github/.envs/.gmc/lib/python3.8/site-packages/botocore/client.py\u001b[0m in \u001b[0;36m_make_api_call\u001b[0;34m(self, operation_name, api_params)\u001b[0m\n\u001b[1;32m    703\u001b[0m             \u001b[0merror_code\u001b[0m \u001b[0;34m=\u001b[0m \u001b[0mparsed_response\u001b[0m\u001b[0;34m.\u001b[0m\u001b[0mget\u001b[0m\u001b[0;34m(\u001b[0m\u001b[0;34m\"Error\"\u001b[0m\u001b[0;34m,\u001b[0m \u001b[0;34m{\u001b[0m\u001b[0;34m}\u001b[0m\u001b[0;34m)\u001b[0m\u001b[0;34m.\u001b[0m\u001b[0mget\u001b[0m\u001b[0;34m(\u001b[0m\u001b[0;34m\"Code\"\u001b[0m\u001b[0;34m)\u001b[0m\u001b[0;34m\u001b[0m\u001b[0;34m\u001b[0m\u001b[0m\n\u001b[1;32m    704\u001b[0m             \u001b[0merror_class\u001b[0m \u001b[0;34m=\u001b[0m \u001b[0mself\u001b[0m\u001b[0;34m.\u001b[0m\u001b[0mexceptions\u001b[0m\u001b[0;34m.\u001b[0m\u001b[0mfrom_code\u001b[0m\u001b[0;34m(\u001b[0m\u001b[0merror_code\u001b[0m\u001b[0;34m)\u001b[0m\u001b[0;34m\u001b[0m\u001b[0;34m\u001b[0m\u001b[0m\n\u001b[0;32m--> 705\u001b[0;31m             \u001b[0;32mraise\u001b[0m \u001b[0merror_class\u001b[0m\u001b[0;34m(\u001b[0m\u001b[0mparsed_response\u001b[0m\u001b[0;34m,\u001b[0m \u001b[0moperation_name\u001b[0m\u001b[0;34m)\u001b[0m\u001b[0;34m\u001b[0m\u001b[0;34m\u001b[0m\u001b[0m\n\u001b[0m\u001b[1;32m    706\u001b[0m         \u001b[0;32melse\u001b[0m\u001b[0;34m:\u001b[0m\u001b[0;34m\u001b[0m\u001b[0;34m\u001b[0m\u001b[0m\n\u001b[1;32m    707\u001b[0m             \u001b[0;32mreturn\u001b[0m \u001b[0mparsed_response\u001b[0m\u001b[0;34m\u001b[0m\u001b[0;34m\u001b[0m\u001b[0m\n",
      "\u001b[0;31mInvalidObjectState\u001b[0m: An error occurred (InvalidObjectState) when calling the GetObject operation: The operation is not valid for the object's storage class"
     ]
    }
   ],
   "source": [
    "import boto3\n",
    "\n",
    "s3 = boto3.resource('s3')\n",
    "bucket = s3.Bucket('zeta-dcp-prod-private-tables')\n",
    "# Iterates through all the objects, doing the pagination for you. Each obj\n",
    "# is an ObjectSummary, so it doesn't contain the body. You'll need to call\n",
    "# get to get the whole body.\n",
    "for obj in bucket.objects.all():\n",
    "    key = obj.key\n",
    "    body = obj.get()['Body'].read()"
   ]
  },
  {
   "cell_type": "code",
   "execution_count": 19,
   "id": "9e986319-816a-49b8-bdc7-e7a72925b9fb",
   "metadata": {
    "execution": {
     "iopub.execute_input": "2021-08-22T20:18:24.455871Z",
     "iopub.status.busy": "2021-08-22T20:18:24.455472Z",
     "iopub.status.idle": "2021-08-22T20:18:24.497015Z",
     "shell.execute_reply": "2021-08-22T20:18:24.496198Z",
     "shell.execute_reply.started": "2021-08-22T20:18:24.455851Z"
    },
    "tags": []
   },
   "outputs": [
    {
     "ename": "AttributeError",
     "evalue": "'s3.ServiceResource' object has no attribute 'list_objects_v2'",
     "output_type": "error",
     "traceback": [
      "\u001b[0;31m---------------------------------------------------------------------------\u001b[0m",
      "\u001b[0;31mAttributeError\u001b[0m                            Traceback (most recent call last)",
      "\u001b[0;32m/tmp/ipykernel_19327/3539772469.py\u001b[0m in \u001b[0;36m<module>\u001b[0;34m\u001b[0m\n\u001b[1;32m     30\u001b[0m     \u001b[0;32mreturn\u001b[0m \u001b[0mkeys\u001b[0m\u001b[0;34m,\u001b[0m \u001b[0mdirs\u001b[0m\u001b[0;34m\u001b[0m\u001b[0;34m\u001b[0m\u001b[0m\n\u001b[1;32m     31\u001b[0m \u001b[0;34m\u001b[0m\u001b[0m\n\u001b[0;32m---> 32\u001b[0;31m \u001b[0mlist_files\u001b[0m\u001b[0;34m(\u001b[0m\u001b[0ms3\u001b[0m\u001b[0;34m,\u001b[0m \u001b[0;34m\"zeta-dcp-prod-private-tables\"\u001b[0m\u001b[0;34m,\u001b[0m \u001b[0;34m\"datacloud_cookie_cookies_relations_links_export\"\u001b[0m\u001b[0;34m)\u001b[0m\u001b[0;34m\u001b[0m\u001b[0;34m\u001b[0m\u001b[0m\n\u001b[0m",
      "\u001b[0;32m/tmp/ipykernel_19327/3539772469.py\u001b[0m in \u001b[0;36mlist_files\u001b[0;34m(s3, bucket, prefix)\u001b[0m\n\u001b[1;32m     19\u001b[0m         \u001b[0;32mif\u001b[0m \u001b[0mnext_token\u001b[0m \u001b[0;34m!=\u001b[0m \u001b[0;34m''\u001b[0m\u001b[0;34m:\u001b[0m\u001b[0;34m\u001b[0m\u001b[0;34m\u001b[0m\u001b[0m\n\u001b[1;32m     20\u001b[0m             \u001b[0mkwargs\u001b[0m\u001b[0;34m.\u001b[0m\u001b[0mupdate\u001b[0m\u001b[0;34m(\u001b[0m\u001b[0;34m{\u001b[0m\u001b[0;34m'ContinuationToken'\u001b[0m\u001b[0;34m:\u001b[0m \u001b[0mnext_token\u001b[0m\u001b[0;34m}\u001b[0m\u001b[0;34m)\u001b[0m\u001b[0;34m\u001b[0m\u001b[0;34m\u001b[0m\u001b[0m\n\u001b[0;32m---> 21\u001b[0;31m         \u001b[0mresults\u001b[0m \u001b[0;34m=\u001b[0m \u001b[0ms3\u001b[0m\u001b[0;34m.\u001b[0m\u001b[0mlist_objects_v2\u001b[0m\u001b[0;34m(\u001b[0m\u001b[0;34m**\u001b[0m\u001b[0mkwargs\u001b[0m\u001b[0;34m)\u001b[0m\u001b[0;34m\u001b[0m\u001b[0;34m\u001b[0m\u001b[0m\n\u001b[0m\u001b[1;32m     22\u001b[0m         \u001b[0mcontents\u001b[0m \u001b[0;34m=\u001b[0m \u001b[0mresults\u001b[0m\u001b[0;34m.\u001b[0m\u001b[0mget\u001b[0m\u001b[0;34m(\u001b[0m\u001b[0;34m'Contents'\u001b[0m\u001b[0;34m)\u001b[0m\u001b[0;34m\u001b[0m\u001b[0;34m\u001b[0m\u001b[0m\n\u001b[1;32m     23\u001b[0m         \u001b[0;32mfor\u001b[0m \u001b[0mi\u001b[0m \u001b[0;32min\u001b[0m \u001b[0mcontents\u001b[0m\u001b[0;34m:\u001b[0m\u001b[0;34m\u001b[0m\u001b[0;34m\u001b[0m\u001b[0m\n",
      "\u001b[0;31mAttributeError\u001b[0m: 's3.ServiceResource' object has no attribute 'list_objects_v2'"
     ]
    }
   ],
   "source": [
    "def list_files(s3, bucket, prefix):\n",
    "    \"\"\"\n",
    "    List files in specific S3 URL\n",
    "\n",
    "    :param s3: S3 resource\n",
    "    :param bucket: S3 bucket name\n",
    "    :param prefix: S3 key path\n",
    "    :return: list of files in the S3 URL\n",
    "    \"\"\"\n",
    "    keys = []\n",
    "    dirs = []\n",
    "    next_token = ''\n",
    "    base_kwargs = {\n",
    "        'Bucket':bucket,\n",
    "        'Prefix':prefix,\n",
    "    }\n",
    "    while next_token is not None:\n",
    "        kwargs = base_kwargs.copy()\n",
    "        if next_token != '':\n",
    "            kwargs.update({'ContinuationToken': next_token})\n",
    "        results = s3.list_objects_v2(**kwargs)\n",
    "        contents = results.get('Contents')\n",
    "        for i in contents:\n",
    "            k = i.get('Key')\n",
    "            if k[-1] != '/':\n",
    "                keys.append(k)\n",
    "            else:\n",
    "                dirs.append(k)\n",
    "        next_token = results.get('NextContinuationToken')\n",
    "    return keys, dirs\n",
    "\n",
    "list_files(s3, \"zeta-dcp-prod-private-tables\", \"datacloud_cookie_cookies_relations_links_export\")"
   ]
  },
  {
   "cell_type": "code",
   "execution_count": null,
   "id": "f58ff4ac-7d31-439a-a86e-d032dac39e3b",
   "metadata": {},
   "outputs": [],
   "source": [
    "s3://zeta-dcp-prod-private-tables/datacloud_cookie_cookies_relations_links_export/"
   ]
  }
 ],
 "metadata": {
  "kernelspec": {
   "display_name": "Python 3",
   "language": "python",
   "name": "python3"
  },
  "language_info": {
   "codemirror_mode": {
    "name": "ipython",
    "version": 3
   },
   "file_extension": ".py",
   "mimetype": "text/x-python",
   "name": "python",
   "nbconvert_exporter": "python",
   "pygments_lexer": "ipython3",
   "version": "3.8.3"
  }
 },
 "nbformat": 4,
 "nbformat_minor": 5
}
