{
 "cells": [
  {
   "cell_type": "markdown",
   "id": "ffce9438-a411-41e9-b076-9466fd97067b",
   "metadata": {},
   "source": [
    "# Match Zeta Identities\n",
    "The goal of this notebook is to attempt to create links between different datasets to see what the current situation is regarding identity resolution. Thoughts: 20%"
   ]
  },
  {
   "cell_type": "markdown",
   "id": "623d275e-776d-4e84-a105-41eedccb9014",
   "metadata": {},
   "source": [
    "## Import and Initialize"
   ]
  },
  {
   "cell_type": "code",
   "execution_count": 39,
   "id": "80b7f11c-7e57-4077-83b3-18539a2a29f2",
   "metadata": {
    "execution": {
     "iopub.execute_input": "2021-07-15T19:16:14.708128Z",
     "iopub.status.busy": "2021-07-15T19:16:14.707752Z",
     "iopub.status.idle": "2021-07-15T19:16:14.710748Z",
     "shell.execute_reply": "2021-07-15T19:16:14.710194Z",
     "shell.execute_reply.started": "2021-07-15T19:16:14.708112Z"
    },
    "tags": []
   },
   "outputs": [],
   "source": [
    "import networkx as nx\n",
    "import numpy as np\n",
    "import pandas as pd"
   ]
  },
  {
   "cell_type": "markdown",
   "id": "bad6a7fc-0a3f-49ae-9159-e86029d17161",
   "metadata": {},
   "source": [
    "## Load Data\n",
    "Load the datasets with 10,000 rows each."
   ]
  },
  {
   "cell_type": "code",
   "execution_count": 14,
   "id": "0d26967f-41c6-4929-8bca-a68f86d10ed7",
   "metadata": {
    "execution": {
     "iopub.execute_input": "2021-07-15T02:45:41.461297Z",
     "iopub.status.busy": "2021-07-15T02:45:41.460904Z",
     "iopub.status.idle": "2021-07-15T02:45:41.495719Z",
     "shell.execute_reply": "2021-07-15T02:45:41.495077Z",
     "shell.execute_reply.started": "2021-07-15T02:45:41.461281Z"
    },
    "tags": []
   },
   "outputs": [
    {
     "name": "stdout",
     "output_type": "stream",
     "text": [
      "DSP data shape: (10000, 3)\n",
      "Sizmek data shape: (10000, 16)\n"
     ]
    }
   ],
   "source": [
    "dsp = pd.read_csv(\"data/dsp_cookies_export_20210625_10k.csv\")\n",
    "print(f\"DSP data shape: {dsp.shape}\")\n",
    "\n",
    "sizmek = pd.read_csv(\"data/sizmek_bidstream_raw_20210625_10k.csv\")\n",
    "print(f\"Sizmek data shape: {sizmek.shape}\")\n",
    "\n",
    "# Fix column headers\n",
    "dsp.columns = [i.split(\".\")[1] for i in dsp.columns]\n",
    "sizmek.columns = [i.split(\".\")[1] for i in sizmek.columns]"
   ]
  },
  {
   "cell_type": "markdown",
   "id": "a1140e63-2af3-4206-a968-0743380a2a4f",
   "metadata": {},
   "source": [
    "We can use any of the three columns below to create graph connections with."
   ]
  },
  {
   "cell_type": "code",
   "execution_count": 16,
   "id": "ef01e9df-a738-434c-8902-21f44741c18f",
   "metadata": {
    "execution": {
     "iopub.execute_input": "2021-07-15T02:46:11.166249Z",
     "iopub.status.busy": "2021-07-15T02:46:11.165934Z",
     "iopub.status.idle": "2021-07-15T02:46:11.169347Z",
     "shell.execute_reply": "2021-07-15T02:46:11.168704Z",
     "shell.execute_reply.started": "2021-07-15T02:46:11.166233Z"
    },
    "tags": []
   },
   "outputs": [
    {
     "name": "stdout",
     "output_type": "stream",
     "text": [
      "Common columns: {'zeta_user_id', 'user_id', 'dt'}\n"
     ]
    }
   ],
   "source": [
    "print(\"Common columns:\", set(dsp.columns).intersection(set(sizmek.columns)))"
   ]
  },
  {
   "cell_type": "markdown",
   "id": "3243948c-e6d5-487d-b7ff-17042e40d853",
   "metadata": {
    "execution": {
     "iopub.execute_input": "2021-07-15T19:13:41.177533Z",
     "iopub.status.busy": "2021-07-15T19:13:41.177054Z",
     "iopub.status.idle": "2021-07-15T19:13:41.180993Z",
     "shell.execute_reply": "2021-07-15T19:13:41.180320Z",
     "shell.execute_reply.started": "2021-07-15T19:13:41.177514Z"
    }
   },
   "source": [
    "## Match Data\n",
    "We first see that there are no direct matches of the `zeta_user_id` between datasets."
   ]
  },
  {
   "cell_type": "code",
   "execution_count": 21,
   "id": "2b7d3c29-b389-4fb1-91fa-4912b744d449",
   "metadata": {
    "execution": {
     "iopub.execute_input": "2021-07-15T02:50:12.875112Z",
     "iopub.status.busy": "2021-07-15T02:50:12.874748Z",
     "iopub.status.idle": "2021-07-15T02:50:12.887370Z",
     "shell.execute_reply": "2021-07-15T02:50:12.886779Z",
     "shell.execute_reply.started": "2021-07-15T02:50:12.875094Z"
    },
    "tags": []
   },
   "outputs": [
    {
     "data": {
      "text/html": [
       "<div>\n",
       "<style scoped>\n",
       "    .dataframe tbody tr th:only-of-type {\n",
       "        vertical-align: middle;\n",
       "    }\n",
       "\n",
       "    .dataframe tbody tr th {\n",
       "        vertical-align: top;\n",
       "    }\n",
       "\n",
       "    .dataframe thead th {\n",
       "        text-align: right;\n",
       "    }\n",
       "</style>\n",
       "<table border=\"1\" class=\"dataframe\">\n",
       "  <thead>\n",
       "    <tr style=\"text-align: right;\">\n",
       "      <th></th>\n",
       "      <th>zeta_user_id</th>\n",
       "    </tr>\n",
       "  </thead>\n",
       "  <tbody>\n",
       "  </tbody>\n",
       "</table>\n",
       "</div>"
      ],
      "text/plain": [
       "Empty DataFrame\n",
       "Columns: [zeta_user_id]\n",
       "Index: []"
      ]
     },
     "execution_count": 21,
     "metadata": {},
     "output_type": "execute_result"
    }
   ],
   "source": [
    "dsp[[\"zeta_user_id\"]].merge(sizmek[[\"zeta_user_id\"]], on=\"zeta_user_id\")"
   ]
  },
  {
   "cell_type": "markdown",
   "id": "5d10d67b-c5ab-4d39-bbf8-7f28d77f6348",
   "metadata": {},
   "source": [
    "This is because the DSP dataset has them formatted as a list for each row."
   ]
  },
  {
   "cell_type": "code",
   "execution_count": 23,
   "id": "012776d7-5ede-47f9-a42c-bed496f47fcd",
   "metadata": {
    "execution": {
     "iopub.execute_input": "2021-07-15T02:50:27.040855Z",
     "iopub.status.busy": "2021-07-15T02:50:27.040472Z",
     "iopub.status.idle": "2021-07-15T02:50:27.044908Z",
     "shell.execute_reply": "2021-07-15T02:50:27.044347Z",
     "shell.execute_reply.started": "2021-07-15T02:50:27.040840Z"
    },
    "tags": []
   },
   "outputs": [
    {
     "data": {
      "text/plain": [
       "0    [\"4bbbcada-3976-44c8-8962-e5a99d2eda97:1591197...\n",
       "1    [\"9ad67b74-2e30-423d-8532-9e6a56ff6176:1610871...\n",
       "2    [\"b8f83981-fb82-429a-bf53-74c17001d341:1599091...\n",
       "Name: zeta_user_id, dtype: object"
      ]
     },
     "execution_count": 23,
     "metadata": {},
     "output_type": "execute_result"
    }
   ],
   "source": [
    "dsp[\"zeta_user_id\"].head(3)"
   ]
  },
  {
   "cell_type": "markdown",
   "id": "9146c828-1305-440c-a2a1-ff6adf875a32",
   "metadata": {},
   "source": [
    "While Sizmek has single ids with some amount of NaNs."
   ]
  },
  {
   "cell_type": "code",
   "execution_count": 31,
   "id": "60954766-fc08-4046-8f3f-d84790eeeb74",
   "metadata": {
    "execution": {
     "iopub.execute_input": "2021-07-15T18:37:15.099966Z",
     "iopub.status.busy": "2021-07-15T18:37:15.099599Z",
     "iopub.status.idle": "2021-07-15T18:37:15.104181Z",
     "shell.execute_reply": "2021-07-15T18:37:15.103598Z",
     "shell.execute_reply.started": "2021-07-15T18:37:15.099951Z"
    },
    "tags": []
   },
   "outputs": [
    {
     "data": {
      "text/plain": [
       "6724    fa3e335a-6b70-45b0-a9fb-ac71d098a924:161377748...\n",
       "5743                                                  NaN\n",
       "7587    fa3e335a-6b70-45b0-a9fb-ac71d098a924:161377748...\n",
       "Name: zeta_user_id, dtype: object"
      ]
     },
     "execution_count": 31,
     "metadata": {},
     "output_type": "execute_result"
    }
   ],
   "source": [
    "sizmek[\"zeta_user_id\"].sample(3)"
   ]
  },
  {
   "cell_type": "code",
   "execution_count": 44,
   "id": "04d64f87-84d7-4187-bf02-7669507d8b95",
   "metadata": {
    "execution": {
     "iopub.execute_input": "2021-07-15T19:17:39.509072Z",
     "iopub.status.busy": "2021-07-15T19:17:39.508606Z",
     "iopub.status.idle": "2021-07-15T19:17:39.513582Z",
     "shell.execute_reply": "2021-07-15T19:17:39.512829Z",
     "shell.execute_reply.started": "2021-07-15T19:17:39.509057Z"
    },
    "tags": []
   },
   "outputs": [
    {
     "name": "stdout",
     "output_type": "stream",
     "text": [
      "Avg length of DSP user ids: 54.1386\n"
     ]
    }
   ],
   "source": [
    "print(f\"Avg length of DSP user ids: {np.mean([len(i) for i in dsp['zeta_user_id']])}\")"
   ]
  },
  {
   "cell_type": "markdown",
   "id": "89989200-3df0-4b07-b101-5d3947e592ce",
   "metadata": {
    "execution": {
     "iopub.execute_input": "2021-07-15T19:15:55.186962Z",
     "iopub.status.busy": "2021-07-15T19:15:55.186581Z",
     "iopub.status.idle": "2021-07-15T19:15:55.189538Z",
     "shell.execute_reply": "2021-07-15T19:15:55.188927Z",
     "shell.execute_reply.started": "2021-07-15T19:15:55.186937Z"
    }
   },
   "source": [
    "So now I wonder **why** are there around 54 ids in each row?\n",
    "First I would like to see the proportion of NaNs in the Sizmek dataset."
   ]
  },
  {
   "cell_type": "code",
   "execution_count": 49,
   "id": "fafa3721-da25-4e0b-acb9-d55aa4267c9d",
   "metadata": {
    "execution": {
     "iopub.execute_input": "2021-07-15T19:32:29.760429Z",
     "iopub.status.busy": "2021-07-15T19:32:29.759963Z",
     "iopub.status.idle": "2021-07-15T19:32:29.764026Z",
     "shell.execute_reply": "2021-07-15T19:32:29.763431Z",
     "shell.execute_reply.started": "2021-07-15T19:32:29.760414Z"
    },
    "tags": []
   },
   "outputs": [
    {
     "name": "stdout",
     "output_type": "stream",
     "text": [
      "Percent of NaNs: 29.68%\n"
     ]
    }
   ],
   "source": [
    "print(f\"Percent of NaNs: {sizmek['zeta_user_id'].isna().sum() / len(sizmek):.2%}\")"
   ]
  },
  {
   "cell_type": "code",
   "execution_count": null,
   "id": "a93b672a-1c77-4d47-9638-937926dd0a46",
   "metadata": {},
   "outputs": [],
   "source": []
  }
 ],
 "metadata": {
  "kernelspec": {
   "display_name": "Python 3",
   "language": "python",
   "name": "python3"
  },
  "language_info": {
   "codemirror_mode": {
    "name": "ipython",
    "version": 3
   },
   "file_extension": ".py",
   "mimetype": "text/x-python",
   "name": "python",
   "nbconvert_exporter": "python",
   "pygments_lexer": "ipython3",
   "version": "3.8.3"
  }
 },
 "nbformat": 4,
 "nbformat_minor": 5
}
