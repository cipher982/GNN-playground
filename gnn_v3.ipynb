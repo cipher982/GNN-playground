{
 "cells": [
  {
   "cell_type": "markdown",
   "id": "ed216c3c-3c61-4539-98e7-1873002d0921",
   "metadata": {},
   "source": [
    "# Graph Matching Concensus"
   ]
  },
  {
   "cell_type": "markdown",
   "id": "e40d80be-11f3-4524-b8e2-7e01866e1dc5",
   "metadata": {},
   "source": [
    "## Initialize and Import"
   ]
  },
  {
   "cell_type": "code",
   "execution_count": 15,
   "id": "b8bf27d8-6641-4b29-9686-0c48cb6bdcc9",
   "metadata": {
    "execution": {
     "iopub.execute_input": "2021-08-03T20:16:03.883173Z",
     "iopub.status.busy": "2021-08-03T20:16:03.882817Z",
     "iopub.status.idle": "2021-08-03T20:16:04.012743Z",
     "shell.execute_reply": "2021-08-03T20:16:04.012101Z",
     "shell.execute_reply.started": "2021-08-03T20:16:03.883157Z"
    },
    "tags": []
   },
   "outputs": [],
   "source": [
    "import funcs\n",
    "\n",
    "%reload_ext autoreload\n",
    "%autoreload 2"
   ]
  },
  {
   "cell_type": "markdown",
   "id": "403c6389-151c-47ff-b6f0-392133121eba",
   "metadata": {},
   "source": [
    "## Load Data"
   ]
  },
  {
   "cell_type": "code",
   "execution_count": 52,
   "id": "54705da4-5bce-4515-a23a-16e9742f68d5",
   "metadata": {
    "execution": {
     "iopub.execute_input": "2021-08-03T20:43:30.799166Z",
     "iopub.status.busy": "2021-08-03T20:43:30.798848Z",
     "iopub.status.idle": "2021-08-03T20:43:31.228992Z",
     "shell.execute_reply": "2021-08-03T20:43:31.228282Z",
     "shell.execute_reply.started": "2021-08-03T20:43:30.799150Z"
    },
    "tags": []
   },
   "outputs": [
    {
     "name": "stderr",
     "output_type": "stream",
     "text": [
      "/tmp/ipykernel_5267/3811118776.py:4: DtypeWarning: Columns (5) have mixed types.Specify dtype option on import or set low_memory=False.\n",
      "  sizmek = funcs.ZetaData(sizmek_path, \"url\", \"zeta_user_id\")\n"
     ]
    }
   ],
   "source": [
    "sizmek_path = \"data/sizmek_bidstream_raw_20210625_10m.csv\"\n",
    "\n",
    "# make dataset\n",
    "sizmek = funcs.ZetaData(sizmek_path, \"url\", \"zeta_user_id\")\n",
    "\n"
   ]
  },
  {
   "cell_type": "code",
   "execution_count": 55,
   "id": "b31d00b7-9e2b-4d8c-a4bc-2385c78974a7",
   "metadata": {
    "execution": {
     "iopub.execute_input": "2021-08-03T20:43:38.805859Z",
     "iopub.status.busy": "2021-08-03T20:43:38.805586Z",
     "iopub.status.idle": "2021-08-03T20:43:38.876212Z",
     "shell.execute_reply": "2021-08-03T20:43:38.875296Z",
     "shell.execute_reply.started": "2021-08-03T20:43:38.805842Z"
    },
    "tags": []
   },
   "outputs": [],
   "source": [
    "sizmek_model = funcs.GCN(sizmek)"
   ]
  },
  {
   "cell_type": "code",
   "execution_count": 60,
   "id": "cc9154b1-5091-44c5-a394-1a828e9d3097",
   "metadata": {
    "execution": {
     "iopub.execute_input": "2021-08-03T20:47:13.276461Z",
     "iopub.status.busy": "2021-08-03T20:47:13.276126Z",
     "iopub.status.idle": "2021-08-03T20:47:13.339271Z",
     "shell.execute_reply": "2021-08-03T20:47:13.338359Z",
     "shell.execute_reply.started": "2021-08-03T20:47:13.276445Z"
    },
    "tags": []
   },
   "outputs": [
    {
     "ename": "AttributeError",
     "evalue": "'GCN' object has no attribute 'out_channels'",
     "output_type": "error",
     "traceback": [
      "\u001b[0;31m---------------------------------------------------------------------------\u001b[0m",
      "\u001b[0;31mAttributeError\u001b[0m                            Traceback (most recent call last)",
      "\u001b[0;32m/tmp/ipykernel_5267/301762297.py\u001b[0m in \u001b[0;36m<module>\u001b[0;34m\u001b[0m\n\u001b[1;32m      1\u001b[0m \u001b[0;32mimport\u001b[0m \u001b[0mdgmc\u001b[0m\u001b[0;34m\u001b[0m\u001b[0;34m\u001b[0m\u001b[0m\n\u001b[1;32m      2\u001b[0m \u001b[0;34m\u001b[0m\u001b[0m\n\u001b[0;32m----> 3\u001b[0;31m \u001b[0mdgmc\u001b[0m\u001b[0;34m.\u001b[0m\u001b[0mDGMC\u001b[0m\u001b[0;34m(\u001b[0m\u001b[0msizmek_model\u001b[0m\u001b[0;34m,\u001b[0m \u001b[0msizmek_model\u001b[0m\u001b[0;34m,\u001b[0m \u001b[0;36m3\u001b[0m\u001b[0;34m)\u001b[0m\u001b[0;34m\u001b[0m\u001b[0;34m\u001b[0m\u001b[0m\n\u001b[0m",
      "\u001b[0;32m~/github/.envs/.gmc/lib/python3.8/site-packages/dgmc-1.0.0-py3.8.egg/dgmc/models/dgmc.py\u001b[0m in \u001b[0;36m__init__\u001b[0;34m(self, psi_1, psi_2, num_steps, k, detach)\u001b[0m\n\u001b[1;32m     73\u001b[0m \u001b[0;34m\u001b[0m\u001b[0m\n\u001b[1;32m     74\u001b[0m         self.mlp = Seq(\n\u001b[0;32m---> 75\u001b[0;31m             \u001b[0mLin\u001b[0m\u001b[0;34m(\u001b[0m\u001b[0mpsi_2\u001b[0m\u001b[0;34m.\u001b[0m\u001b[0mout_channels\u001b[0m\u001b[0;34m,\u001b[0m \u001b[0mpsi_2\u001b[0m\u001b[0;34m.\u001b[0m\u001b[0mout_channels\u001b[0m\u001b[0;34m)\u001b[0m\u001b[0;34m,\u001b[0m\u001b[0;34m\u001b[0m\u001b[0;34m\u001b[0m\u001b[0m\n\u001b[0m\u001b[1;32m     76\u001b[0m             \u001b[0mReLU\u001b[0m\u001b[0;34m(\u001b[0m\u001b[0;34m)\u001b[0m\u001b[0;34m,\u001b[0m\u001b[0;34m\u001b[0m\u001b[0;34m\u001b[0m\u001b[0m\n\u001b[1;32m     77\u001b[0m             \u001b[0mLin\u001b[0m\u001b[0;34m(\u001b[0m\u001b[0mpsi_2\u001b[0m\u001b[0;34m.\u001b[0m\u001b[0mout_channels\u001b[0m\u001b[0;34m,\u001b[0m \u001b[0;36m1\u001b[0m\u001b[0;34m)\u001b[0m\u001b[0;34m,\u001b[0m\u001b[0;34m\u001b[0m\u001b[0;34m\u001b[0m\u001b[0m\n",
      "\u001b[0;32m~/github/.envs/.gmc/lib/python3.8/site-packages/torch/nn/modules/module.py\u001b[0m in \u001b[0;36m__getattr__\u001b[0;34m(self, name)\u001b[0m\n\u001b[1;32m   1128\u001b[0m             \u001b[0;32mif\u001b[0m \u001b[0mname\u001b[0m \u001b[0;32min\u001b[0m \u001b[0mmodules\u001b[0m\u001b[0;34m:\u001b[0m\u001b[0;34m\u001b[0m\u001b[0;34m\u001b[0m\u001b[0m\n\u001b[1;32m   1129\u001b[0m                 \u001b[0;32mreturn\u001b[0m \u001b[0mmodules\u001b[0m\u001b[0;34m[\u001b[0m\u001b[0mname\u001b[0m\u001b[0;34m]\u001b[0m\u001b[0;34m\u001b[0m\u001b[0;34m\u001b[0m\u001b[0m\n\u001b[0;32m-> 1130\u001b[0;31m         raise AttributeError(\"'{}' object has no attribute '{}'\".format(\n\u001b[0m\u001b[1;32m   1131\u001b[0m             type(self).__name__, name))\n\u001b[1;32m   1132\u001b[0m \u001b[0;34m\u001b[0m\u001b[0m\n",
      "\u001b[0;31mAttributeError\u001b[0m: 'GCN' object has no attribute 'out_channels'"
     ]
    }
   ],
   "source": [
    "import dgmc\n",
    "\n",
    "dgmc.DGMC(sizmek_model, sizmek_model, 3)"
   ]
  },
  {
   "cell_type": "code",
   "execution_count": null,
   "id": "dcc63d64-8363-4346-9cfc-ab34fe675441",
   "metadata": {},
   "outputs": [],
   "source": []
  }
 ],
 "metadata": {
  "kernelspec": {
   "display_name": "Python 3",
   "language": "python",
   "name": "python3"
  },
  "language_info": {
   "codemirror_mode": {
    "name": "ipython",
    "version": 3
   },
   "file_extension": ".py",
   "mimetype": "text/x-python",
   "name": "python",
   "nbconvert_exporter": "python",
   "pygments_lexer": "ipython3",
   "version": "3.8.3"
  }
 },
 "nbformat": 4,
 "nbformat_minor": 5
}
