{
  "nbformat": 4,
  "nbformat_minor": 5,
  "metadata": {
    "kernelspec": {
      "display_name": "Python 3",
      "language": "python",
      "name": "python3"
    },
    "language_info": {
      "codemirror_mode": {
        "name": "ipython",
        "version": 3
      },
      "file_extension": ".py",
      "mimetype": "text/x-python",
      "name": "python",
      "nbconvert_exporter": "python",
      "pygments_lexer": "ipython3",
      "version": "3.8.2"
    },
    "colab": {
      "name": "gnn.ipynb",
      "provenance": []
    }
  },
  "cells": [
    {
      "cell_type": "code",
      "metadata": {
        "id": "Q0YmKZbJElmm"
      },
      "source": [
        "!pip install spektral"
      ],
      "id": "Q0YmKZbJElmm",
      "execution_count": null,
      "outputs": []
    },
    {
      "cell_type": "code",
      "metadata": {
        "id": "454fab6f-7c4f-4a43-9560-d911374e60ee"
      },
      "source": [
        "import spektral"
      ],
      "id": "454fab6f-7c4f-4a43-9560-d911374e60ee",
      "execution_count": 5,
      "outputs": []
    },
    {
      "cell_type": "code",
      "metadata": {
        "id": "6e364ca0-8249-497b-b603-fa2b21a6458f"
      },
      "source": [
        "from spektral import datasets"
      ],
      "id": "6e364ca0-8249-497b-b603-fa2b21a6458f",
      "execution_count": 10,
      "outputs": []
    },
    {
      "cell_type": "code",
      "metadata": {
        "colab": {
          "base_uri": "https://localhost:8080/"
        },
        "id": "d8a91065-eebf-46da-aacd-2e94d21c5f24",
        "outputId": "1ef78f64-f41b-46ab-c7c0-05e8c86b1484"
      },
      "source": [
        "print(dir(datasets))"
      ],
      "id": "d8a91065-eebf-46da-aacd-2e94d21c5f24",
      "execution_count": 11,
      "outputs": [
        {
          "output_type": "stream",
          "text": [
            "['Citation', 'Citeseer', 'Cora', 'GraphSage', 'MNIST', 'ModelNet', 'OGB', 'PPI', 'Pubmed', 'QM7', 'QM9', 'Reddit', 'TUDataset', '__builtins__', '__cached__', '__doc__', '__file__', '__loader__', '__name__', '__package__', '__path__', '__spec__', 'citation', 'graphsage', 'mnist', 'modelnet', 'ogb', 'qm7', 'qm9', 'tudataset', 'utils']\n"
          ],
          "name": "stdout"
        }
      ]
    },
    {
      "cell_type": "code",
      "metadata": {
        "id": "3e756742-b5e8-47de-a843-685b5e89baff"
      },
      "source": [
        "reddit = datasets.Reddit"
      ],
      "id": "3e756742-b5e8-47de-a843-685b5e89baff",
      "execution_count": 12,
      "outputs": []
    },
    {
      "cell_type": "code",
      "metadata": {
        "id": "_h6E05_VFAdi",
        "outputId": "3ab5b829-6772-48c8-cbd5-97b865cdd883",
        "colab": {
          "base_uri": "https://localhost:8080/"
        }
      },
      "source": [
        "reddit"
      ],
      "id": "_h6E05_VFAdi",
      "execution_count": 15,
      "outputs": [
        {
          "output_type": "execute_result",
          "data": {
            "text/plain": [
              "spektral.datasets.graphsage.Reddit"
            ]
          },
          "metadata": {
            "tags": []
          },
          "execution_count": 15
        }
      ]
    },
    {
      "cell_type": "code",
      "metadata": {
        "id": "hrnvGfl5FBKU"
      },
      "source": [
        ""
      ],
      "id": "hrnvGfl5FBKU",
      "execution_count": null,
      "outputs": []
    }
  ]
}