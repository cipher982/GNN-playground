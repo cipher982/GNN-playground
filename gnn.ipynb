{
  "nbformat": 4,
  "nbformat_minor": 5,
  "metadata": {
    "kernelspec": {
      "display_name": "Python 3",
      "language": "python",
      "name": "python3"
    },
    "language_info": {
      "codemirror_mode": {
        "name": "ipython",
        "version": 3
      },
      "file_extension": ".py",
      "mimetype": "text/x-python",
      "name": "python",
      "nbconvert_exporter": "python",
      "pygments_lexer": "ipython3",
      "version": "3.8.2"
    },
    "colab": {
      "name": "gnn.ipynb",
      "provenance": []
    }
  },
  "cells": [
    {
      "cell_type": "code",
      "metadata": {
        "id": "454fab6f-7c4f-4a43-9560-d911374e60ee",
        "outputId": "e375308a-9fb2-4772-84fb-84c28f5b5d38"
      },
      "source": [
        "import spektral"
      ],
      "id": "454fab6f-7c4f-4a43-9560-d911374e60ee",
      "execution_count": null,
      "outputs": [
        {
          "output_type": "error",
          "ename": "ModuleNotFoundError",
          "evalue": "No module named 'spektral'",
          "traceback": [
            "\u001b[0;31m---------------------------------------------------------------------------\u001b[0m",
            "\u001b[0;31mModuleNotFoundError\u001b[0m                       Traceback (most recent call last)",
            "\u001b[0;32m<ipython-input-1-73b32ce98c7d>\u001b[0m in \u001b[0;36m<module>\u001b[0;34m\u001b[0m\n\u001b[0;32m----> 1\u001b[0;31m \u001b[0;32mimport\u001b[0m \u001b[0mspektral\u001b[0m\u001b[0;34m\u001b[0m\u001b[0;34m\u001b[0m\u001b[0m\n\u001b[0m",
            "\u001b[0;31mModuleNotFoundError\u001b[0m: No module named 'spektral'"
          ]
        }
      ]
    },
    {
      "cell_type": "code",
      "metadata": {
        "id": "6e364ca0-8249-497b-b603-fa2b21a6458f"
      },
      "source": [
        ""
      ],
      "id": "6e364ca0-8249-497b-b603-fa2b21a6458f",
      "execution_count": null,
      "outputs": []
    },
    {
      "cell_type": "code",
      "metadata": {
        "id": "d8a91065-eebf-46da-aacd-2e94d21c5f24"
      },
      "source": [
        ""
      ],
      "id": "d8a91065-eebf-46da-aacd-2e94d21c5f24",
      "execution_count": null,
      "outputs": []
    },
    {
      "cell_type": "code",
      "metadata": {
        "id": "3e756742-b5e8-47de-a843-685b5e89baff"
      },
      "source": [
        ""
      ],
      "id": "3e756742-b5e8-47de-a843-685b5e89baff",
      "execution_count": null,
      "outputs": []
    }
  ]
}