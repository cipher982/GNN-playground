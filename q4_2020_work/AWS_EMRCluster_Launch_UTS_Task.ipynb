{
 "cells": [
  {
   "cell_type": "code",
   "execution_count": 1,
   "metadata": {
    "ExecuteTime": {
     "end_time": "2020-03-05T06:31:56.096647Z",
     "start_time": "2020-03-05T06:31:55.738502Z"
    }
   },
   "outputs": [],
   "source": [
    "%matplotlib inline\n",
    "%load_ext autoreload\n",
    "%autoreload 2"
   ]
  },
  {
   "cell_type": "code",
   "execution_count": 2,
   "metadata": {
    "ExecuteTime": {
     "end_time": "2020-03-05T06:31:57.374104Z",
     "start_time": "2020-03-05T06:31:57.359935Z"
    }
   },
   "outputs": [],
   "source": [
    "from IPython.core.interactiveshell import InteractiveShell\n",
    "InteractiveShell.ast_node_interactivity = 'all'"
   ]
  },
  {
   "cell_type": "code",
   "execution_count": 3,
   "metadata": {
    "ExecuteTime": {
     "end_time": "2020-03-05T06:31:59.280725Z",
     "start_time": "2020-03-05T06:31:58.902756Z"
    }
   },
   "outputs": [],
   "source": [
    "import numpy as np\n",
    "import pandas as pd\n",
    "\n",
    "from datetime import date, timedelta\n",
    "import luigi\n",
    "import os\n",
    "import logging\n",
    "\n",
    "from bt_ai.stable.data_input.user_trait_store import UserTraitsUnloadTask\n",
    "from bt_ai.stable.data_input.dataframe import DataFrameTarget\n",
    "\n",
    "from notebook_utils.logging import setup_logging  #pip3 install bt-notebook-utils\n",
    "from notebook_utils.luigi import run_luigi_tasks"
   ]
  },
  {
   "cell_type": "code",
   "execution_count": 6,
   "metadata": {
    "ExecuteTime": {
     "end_time": "2020-03-05T06:32:05.501208Z",
     "start_time": "2020-03-05T06:32:05.478488Z"
    }
   },
   "outputs": [],
   "source": [
    "import warnings\n",
    "warnings.filterwarnings(action='ignore')\n",
    "\n",
    "pd.options.display.max_columns = 999"
   ]
  },
  {
   "cell_type": "code",
   "execution_count": 7,
   "metadata": {
    "ExecuteTime": {
     "end_time": "2020-03-05T06:32:08.591461Z",
     "start_time": "2020-03-05T06:32:08.565932Z"
    }
   },
   "outputs": [],
   "source": [
    "luigi_planner_uri = 'http://localhost:8082'\n",
    "\n",
    "logging_overrides = {\n",
    "    'luigi-interface': logging.INFO,\n",
    "}\n",
    "\n",
    "LOG = logging.getLogger('jupyter')"
   ]
  },
  {
   "cell_type": "code",
   "execution_count": 8,
   "metadata": {
    "ExecuteTime": {
     "end_time": "2020-03-05T06:32:14.760993Z",
     "start_time": "2020-03-05T06:32:14.734918Z"
    }
   },
   "outputs": [],
   "source": [
    "class TrainingUsers(luigi.ExternalTask):\n",
    "    path = luigi.Parameter()\n",
    "\n",
    "    def output(self):\n",
    "        root_path = os.path.dirname(self.path)\n",
    "        filename = os.path.basename(self.path)\n",
    "\n",
    "        return DataFrameTarget(\n",
    "            root_path=root_path,\n",
    "            column_names=[],\n",
    "            filenames=[filename],\n",
    "            field_sep=',',\n",
    "            compute=True,\n",
    "            compression=None\n",
    "        )"
   ]
  },
  {
   "cell_type": "code",
   "execution_count": 9,
   "metadata": {
    "ExecuteTime": {
     "end_time": "2020-03-05T06:32:17.441327Z",
     "start_time": "2020-03-05T06:32:17.416827Z"
    }
   },
   "outputs": [],
   "source": [
    "users = TrainingUsers(\n",
    "    path='s3://manish-sandbox/ml-dumps/zcode_project/large-scale/email_md5_df_sample200.csv'\n",
    ")"
   ]
  },
  {
   "cell_type": "code",
   "execution_count": 16,
   "metadata": {
    "ExecuteTime": {
     "end_time": "2020-03-05T07:33:46.597226Z",
     "start_time": "2020-03-05T07:33:46.565521Z"
    }
   },
   "outputs": [],
   "source": [
    "end_date = date(2019, 9, 30)\n",
    "start_date = end_date - timedelta(days=30)\n",
    "s3_bucket = 'kalyan-sandbox' # change this to point to your sandbox.\n",
    "spark_job_name = 'kalyan_Sprint_PlaceIQ_Pyarrow'#change this to your name, so that you identify your launched cluster."
   ]
  },
  {
   "cell_type": "markdown",
   "metadata": {},
   "source": [
    "- 'm5.4xlarge' is not allowed in 1e aws_az"
   ]
  },
  {
   "cell_type": "code",
   "execution_count": 25,
   "metadata": {
    "ExecuteTime": {
     "end_time": "2020-03-20T05:23:29.575181Z",
     "start_time": "2020-03-20T05:23:29.190732Z"
    }
   },
   "outputs": [],
   "source": [
    "partition_date = date(2019, 7, 28)\n",
    "\n",
    "user_traits = UserTraitsUnloadTask(\n",
    "    site_id='sprint',\n",
    "    partition_date=partition_date,\n",
    "    spark_job_name=spark_job_name,\n",
    "    instance_type='r5.4xlarge',\n",
    "    core_count=48,\n",
    "    use_spots=True,\n",
    "    aws_az = 'us-east-1a',\n",
    "    keep_alive=True,\n",
    "    write_partitions=200,\n",
    "    \n",
    "    staging_bucket=s3_bucket,\n",
    "    unload_bucket=s3_bucket,\n",
    "    dependencies=[users]\n",
    ")"
   ]
  },
  {
   "cell_type": "code",
   "execution_count": 27,
   "metadata": {
    "ExecuteTime": {
     "end_time": "2020-03-20T05:39:50.908177Z",
     "start_time": "2020-03-20T05:26:53.662055Z"
    }
   },
   "outputs": [
    {
     "name": "stderr",
     "output_type": "stream",
     "text": [
      "Cluster will not auto shutdown.  Please ensure you shut it down manually\n",
      "Cluster will not terminate when job finishes.  Please ensure you shut it down manually.\n",
      "Cluster has termination protection set; auto shutdown will be disabled.  Please ensure you shut it down manually.\n"
     ]
    }
   ],
   "source": [
    "# do not forget to initiat luigi from terminal by typing 'luigid'\n",
    "run_luigi_tasks([user_traits], scheduler_uri=luigi_planner_uri)"
   ]
  },
  {
   "cell_type": "code",
   "execution_count": null,
   "metadata": {},
   "outputs": [],
   "source": []
  },
  {
   "cell_type": "code",
   "execution_count": null,
   "metadata": {},
   "outputs": [],
   "source": []
  },
  {
   "cell_type": "code",
   "execution_count": null,
   "metadata": {},
   "outputs": [],
   "source": []
  }
 ],
 "metadata": {
  "kernelspec": {
   "display_name": "ml-pipeline_env",
   "language": "python",
   "name": "ml-pipeline_env"
  },
  "toc": {
   "base_numbering": 1,
   "nav_menu": {},
   "number_sections": true,
   "sideBar": true,
   "skip_h1_title": false,
   "title_cell": "Table of Contents",
   "title_sidebar": "Contents",
   "toc_cell": false,
   "toc_position": {},
   "toc_section_display": true,
   "toc_window_display": false
  },
  "varInspector": {
   "cols": {
    "lenName": 16,
    "lenType": 16,
    "lenVar": 40
   },
   "kernels_config": {
    "python": {
     "delete_cmd_postfix": "",
     "delete_cmd_prefix": "del ",
     "library": "var_list.py",
     "varRefreshCmd": "print(var_dic_list())"
    },
    "r": {
     "delete_cmd_postfix": ") ",
     "delete_cmd_prefix": "rm(",
     "library": "var_list.r",
     "varRefreshCmd": "cat(var_dic_list()) "
    }
   },
   "types_to_exclude": [
    "module",
    "function",
    "builtin_function_or_method",
    "instance",
    "_Feature"
   ],
   "window_display": false
  }
 },
 "nbformat": 4,
 "nbformat_minor": 2
}
