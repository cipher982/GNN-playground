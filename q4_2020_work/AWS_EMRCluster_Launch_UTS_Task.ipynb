{
 "cells": [
  {
   "cell_type": "code",
   "execution_count": 1,
   "metadata": {
    "ExecuteTime": {
     "end_time": "2020-03-05T06:31:57.374104Z",
     "start_time": "2020-03-05T06:31:57.359935Z"
    },
    "execution": {
     "iopub.execute_input": "2021-07-21T16:55:22.615495Z",
     "iopub.status.busy": "2021-07-21T16:55:22.614918Z",
     "iopub.status.idle": "2021-07-21T16:55:22.620891Z",
     "shell.execute_reply": "2021-07-21T16:55:22.620300Z",
     "shell.execute_reply.started": "2021-07-21T16:55:22.615449Z"
    },
    "tags": []
   },
   "outputs": [],
   "source": [
    "from IPython.core.interactiveshell import InteractiveShell\n",
    "InteractiveShell.ast_node_interactivity = 'all'"
   ]
  },
  {
   "cell_type": "code",
   "execution_count": 2,
   "metadata": {
    "ExecuteTime": {
     "end_time": "2020-03-05T06:31:59.280725Z",
     "start_time": "2020-03-05T06:31:58.902756Z"
    },
    "execution": {
     "iopub.execute_input": "2021-07-21T16:55:22.621875Z",
     "iopub.status.busy": "2021-07-21T16:55:22.621724Z",
     "iopub.status.idle": "2021-07-21T16:55:23.130168Z",
     "shell.execute_reply": "2021-07-21T16:55:23.129525Z",
     "shell.execute_reply.started": "2021-07-21T16:55:22.621860Z"
    },
    "tags": []
   },
   "outputs": [],
   "source": [
    "import numpy as np\n",
    "import pandas as pd\n",
    "\n",
    "from datetime import date, timedelta\n",
    "import luigi\n",
    "import os\n",
    "import logging\n",
    "\n",
    "from bt_ai.stable.data_input.user_trait_store import UserTraitsUnloadTask\n",
    "from bt_ai.stable.data_input.dataframe import DataFrameTarget\n",
    "\n",
    "from notebook_utils.logging import setup_logging  #pip3 install bt-notebook-utils\n",
    "from notebook_utils.luigi import run_luigi_tasks"
   ]
  },
  {
   "cell_type": "code",
   "execution_count": 3,
   "metadata": {
    "ExecuteTime": {
     "end_time": "2020-03-05T06:32:05.501208Z",
     "start_time": "2020-03-05T06:32:05.478488Z"
    },
    "execution": {
     "iopub.execute_input": "2021-07-21T16:55:23.131316Z",
     "iopub.status.busy": "2021-07-21T16:55:23.130895Z",
     "iopub.status.idle": "2021-07-21T16:55:23.134310Z",
     "shell.execute_reply": "2021-07-21T16:55:23.133573Z",
     "shell.execute_reply.started": "2021-07-21T16:55:23.131302Z"
    },
    "tags": []
   },
   "outputs": [],
   "source": [
    "import warnings\n",
    "warnings.filterwarnings(action='ignore')\n",
    "\n",
    "pd.options.display.max_columns = 999"
   ]
  },
  {
   "cell_type": "code",
   "execution_count": 4,
   "metadata": {
    "ExecuteTime": {
     "end_time": "2020-03-05T06:32:08.591461Z",
     "start_time": "2020-03-05T06:32:08.565932Z"
    },
    "execution": {
     "iopub.execute_input": "2021-07-21T16:55:23.136043Z",
     "iopub.status.busy": "2021-07-21T16:55:23.135587Z",
     "iopub.status.idle": "2021-07-21T16:55:23.139448Z",
     "shell.execute_reply": "2021-07-21T16:55:23.138645Z",
     "shell.execute_reply.started": "2021-07-21T16:55:23.136024Z"
    },
    "tags": []
   },
   "outputs": [],
   "source": [
    "luigi_planner_uri = 'http://localhost:8082'\n",
    "\n",
    "logging_overrides = {\n",
    "    'luigi-interface': logging.INFO,\n",
    "}\n",
    "\n",
    "LOG = logging.getLogger('jupyter')"
   ]
  },
  {
   "cell_type": "code",
   "execution_count": 5,
   "metadata": {
    "ExecuteTime": {
     "end_time": "2020-03-05T06:32:14.760993Z",
     "start_time": "2020-03-05T06:32:14.734918Z"
    },
    "execution": {
     "iopub.execute_input": "2021-07-21T16:55:23.140510Z",
     "iopub.status.busy": "2021-07-21T16:55:23.140341Z",
     "iopub.status.idle": "2021-07-21T16:55:23.144933Z",
     "shell.execute_reply": "2021-07-21T16:55:23.144273Z",
     "shell.execute_reply.started": "2021-07-21T16:55:23.140494Z"
    },
    "tags": []
   },
   "outputs": [],
   "source": [
    "class TrainingUsers(luigi.ExternalTask):\n",
    "    path = luigi.Parameter()\n",
    "\n",
    "    def output(self):\n",
    "        root_path = os.path.dirname(self.path)\n",
    "        filename = os.path.basename(self.path)\n",
    "\n",
    "        return DataFrameTarget(\n",
    "            root_path=root_path,\n",
    "            column_names=[],\n",
    "            filenames=[filename],\n",
    "            field_sep=',',\n",
    "            compute=True,\n",
    "            compression=None\n",
    "        )"
   ]
  },
  {
   "cell_type": "code",
   "execution_count": 15,
   "metadata": {
    "ExecuteTime": {
     "end_time": "2020-03-05T06:32:17.441327Z",
     "start_time": "2020-03-05T06:32:17.416827Z"
    },
    "execution": {
     "iopub.execute_input": "2021-07-21T17:28:56.606599Z",
     "iopub.status.busy": "2021-07-21T17:28:56.606121Z",
     "iopub.status.idle": "2021-07-21T17:28:56.610165Z",
     "shell.execute_reply": "2021-07-21T17:28:56.609159Z",
     "shell.execute_reply.started": "2021-07-21T17:28:56.606579Z"
    },
    "tags": []
   },
   "outputs": [],
   "source": [
    "users = TrainingUsers(\n",
    "    path='s3://kalyan-sandbox/ml-dumps/zcode_project/large-scale/email_md5_df_sample200.csv'\n",
    "    #path=\"/tmp/email_md5_sample.csv\"\n",
    ")"
   ]
  },
  {
   "cell_type": "code",
   "execution_count": 16,
   "metadata": {
    "ExecuteTime": {
     "end_time": "2020-03-05T07:33:46.597226Z",
     "start_time": "2020-03-05T07:33:46.565521Z"
    },
    "execution": {
     "iopub.execute_input": "2021-07-21T17:28:57.192741Z",
     "iopub.status.busy": "2021-07-21T17:28:57.192415Z",
     "iopub.status.idle": "2021-07-21T17:28:57.197198Z",
     "shell.execute_reply": "2021-07-21T17:28:57.196108Z",
     "shell.execute_reply.started": "2021-07-21T17:28:57.192723Z"
    },
    "tags": []
   },
   "outputs": [],
   "source": [
    "end_date = date(2021, 6, 25)\n",
    "start_date = end_date - timedelta(days=3)\n",
    "s3_bucket = 'drose-sandbox' # change this to point to your sandbox.\n",
    "spark_job_name = 'drose_Sprint_PlaceIQ_Pyarrow'#change this to your name, so that you identify your launched cluster."
   ]
  },
  {
   "cell_type": "markdown",
   "metadata": {},
   "source": [
    "- 'm5.4xlarge' is not allowed in 1e aws_az"
   ]
  },
  {
   "cell_type": "code",
   "execution_count": 17,
   "metadata": {
    "ExecuteTime": {
     "end_time": "2020-03-20T05:23:29.575181Z",
     "start_time": "2020-03-20T05:23:29.190732Z"
    },
    "execution": {
     "iopub.execute_input": "2021-07-21T17:28:57.834768Z",
     "iopub.status.busy": "2021-07-21T17:28:57.834335Z",
     "iopub.status.idle": "2021-07-21T17:28:57.839115Z",
     "shell.execute_reply": "2021-07-21T17:28:57.838358Z",
     "shell.execute_reply.started": "2021-07-21T17:28:57.834748Z"
    },
    "tags": []
   },
   "outputs": [],
   "source": [
    "partition_date = date(2021, 6, 25)\n",
    "\n",
    "user_traits = UserTraitsUnloadTask(\n",
    "    site_id='sprint',\n",
    "    partition_date=partition_date,\n",
    "    spark_job_name=spark_job_name,\n",
    "    instance_type='r5.4xlarge',\n",
    "    core_count=48,\n",
    "    use_spots=True,\n",
    "    aws_az = 'us-east-1a',\n",
    "    keep_alive=True,\n",
    "    write_partitions=200,\n",
    "    \n",
    "    staging_bucket=s3_bucket,\n",
    "    unload_bucket=s3_bucket,\n",
    "    dependencies=[users]\n",
    ")"
   ]
  },
  {
   "cell_type": "code",
   "execution_count": 18,
   "metadata": {
    "ExecuteTime": {
     "end_time": "2020-03-20T05:39:50.908177Z",
     "start_time": "2020-03-20T05:26:53.662055Z"
    },
    "execution": {
     "iopub.execute_input": "2021-07-21T17:28:58.421187Z",
     "iopub.status.busy": "2021-07-21T17:28:58.420801Z",
     "iopub.status.idle": "2021-07-21T17:28:58.994917Z",
     "shell.execute_reply": "2021-07-21T17:28:58.994228Z",
     "shell.execute_reply.started": "2021-07-21T17:28:58.421170Z"
    },
    "tags": []
   },
   "outputs": [
    {
     "name": "stderr",
     "output_type": "stream",
     "text": [
      "Data for TrainingUsers(path=s3://kalyan-sandbox/ml-dumps/zcode_project/large-scale/email_md5_df_sample200.csv) does not exist (yet?). The task is an external data dependency, so it cannot be run from this luigi process.\n"
     ]
    }
   ],
   "source": [
    "# do not forget to initiat luigi from terminal by typing 'luigid'\n",
    "run_luigi_tasks([user_traits], scheduler_uri=luigi_planner_uri)"
   ]
  },
  {
   "cell_type": "code",
   "execution_count": null,
   "metadata": {},
   "outputs": [],
   "source": []
  },
  {
   "cell_type": "code",
   "execution_count": null,
   "metadata": {},
   "outputs": [],
   "source": []
  }
 ],
 "metadata": {
  "kernelspec": {
   "display_name": "Python 3",
   "language": "python",
   "name": "python3"
  },
  "language_info": {
   "codemirror_mode": {
    "name": "ipython",
    "version": 3
   },
   "file_extension": ".py",
   "mimetype": "text/x-python",
   "name": "python",
   "nbconvert_exporter": "python",
   "pygments_lexer": "ipython3",
   "version": "3.8.3"
  },
  "toc": {
   "base_numbering": 1,
   "nav_menu": {},
   "number_sections": true,
   "sideBar": true,
   "skip_h1_title": false,
   "title_cell": "Table of Contents",
   "title_sidebar": "Contents",
   "toc_cell": false,
   "toc_position": {},
   "toc_section_display": true,
   "toc_window_display": false
  },
  "varInspector": {
   "cols": {
    "lenName": 16,
    "lenType": 16,
    "lenVar": 40
   },
   "kernels_config": {
    "python": {
     "delete_cmd_postfix": "",
     "delete_cmd_prefix": "del ",
     "library": "var_list.py",
     "varRefreshCmd": "print(var_dic_list())"
    },
    "r": {
     "delete_cmd_postfix": ") ",
     "delete_cmd_prefix": "rm(",
     "library": "var_list.r",
     "varRefreshCmd": "cat(var_dic_list()) "
    }
   },
   "types_to_exclude": [
    "module",
    "function",
    "builtin_function_or_method",
    "instance",
    "_Feature"
   ],
   "window_display": false
  }
 },
 "nbformat": 4,
 "nbformat_minor": 4
}
