{
 "cells": [
  {
   "cell_type": "code",
   "execution_count": 14,
   "metadata": {
    "execution": {
     "iopub.execute_input": "2021-09-10T14:11:39.843642Z",
     "iopub.status.busy": "2021-09-10T14:11:39.843224Z",
     "iopub.status.idle": "2021-09-10T14:11:41.294569Z",
     "shell.execute_reply": "2021-09-10T14:11:41.293908Z",
     "shell.execute_reply.started": "2021-09-10T14:11:39.843622Z"
    },
    "tags": []
   },
   "outputs": [
    {
     "data": {
      "text/plain": [
       "'cuda'"
      ]
     },
     "execution_count": 14,
     "metadata": {},
     "output_type": "execute_result"
    }
   ],
   "source": [
    "import os\n",
    "from pathlib import Path\n",
    "import random\n",
    "import sys\n",
    "from typing import Optional, Callable, List, Dict, Tuple\n",
    "\n",
    "import dgmc\n",
    "import numpy as np\n",
    "import pandas as pd\n",
    "from sklearn.preprocessing import OneHotEncoder, LabelEncoder\n",
    "\n",
    "import torch\n",
    "from torch import Tensor\n",
    "import funcs\n",
    "#import pytorch_lightning as pl\n",
    "from torch.nn import Linear\n",
    "from torch_geometric.nn import GCNConv\n",
    "from torch_geometric.data import Data\n",
    "import torch_geometric\n",
    "\n",
    "%reload_ext autoreload\n",
    "%autoreload 2\n",
    "\n",
    "device = 'cuda' if torch.cuda.is_available() else 'cpu'\n",
    "#device = 'cpu'\n",
    "device"
   ]
  },
  {
   "cell_type": "code",
   "execution_count": 2,
   "metadata": {
    "execution": {
     "iopub.execute_input": "2021-09-10T14:11:41.295753Z",
     "iopub.status.busy": "2021-09-10T14:11:41.295473Z",
     "iopub.status.idle": "2021-09-10T14:11:48.143268Z",
     "shell.execute_reply": "2021-09-10T14:11:48.142686Z",
     "shell.execute_reply.started": "2021-09-10T14:11:41.295737Z"
    },
    "tags": []
   },
   "outputs": [
    {
     "name": "stdout",
     "output_type": "stream",
     "text": [
      "Shape: 793,073 Memory: 1.55GB\n"
     ]
    }
   ],
   "source": [
    "file_name = \"sizmek_zync_cleaned_793k.csv\"\n",
    "local_file = Path(f\"~/{file_name}\")\n",
    "\n",
    "if local_file.is_file():\n",
    "    df_raw = pd.read_csv(local_file, dtype=\"str\")\n",
    "else:\n",
    "    remote_file = f\"s3://drose-sandbox/{file_name}\"\n",
    "    df_raw = pd.read_csv(remote_file, dtype=\"str\")\n",
    "\n",
    "\n",
    "print(f\"Shape: {df_raw.shape[0]:,} Memory: {df_raw.memory_usage(deep=True).sum()/1e9:.2f}GB\")"
   ]
  },
  {
   "cell_type": "code",
   "execution_count": 3,
   "metadata": {},
   "outputs": [
    {
     "data": {
      "text/html": [
       "<div>\n",
       "<style scoped>\n",
       "    .dataframe tbody tr th:only-of-type {\n",
       "        vertical-align: middle;\n",
       "    }\n",
       "\n",
       "    .dataframe tbody tr th {\n",
       "        vertical-align: top;\n",
       "    }\n",
       "\n",
       "    .dataframe thead th {\n",
       "        text-align: right;\n",
       "    }\n",
       "</style>\n",
       "<table border=\"1\" class=\"dataframe\">\n",
       "  <thead>\n",
       "    <tr style=\"text-align: right;\">\n",
       "      <th></th>\n",
       "      <th>0</th>\n",
       "    </tr>\n",
       "  </thead>\n",
       "  <tbody>\n",
       "    <tr>\n",
       "      <th>Unnamed: 0</th>\n",
       "      <td>0</td>\n",
       "    </tr>\n",
       "    <tr>\n",
       "      <th>account_id</th>\n",
       "      <td>19967</td>\n",
       "    </tr>\n",
       "    <tr>\n",
       "      <th>url</th>\n",
       "      <td>tvguide.com</td>\n",
       "    </tr>\n",
       "    <tr>\n",
       "      <th>city_code</th>\n",
       "      <td>5731371</td>\n",
       "    </tr>\n",
       "    <tr>\n",
       "      <th>state_code</th>\n",
       "      <td>OR</td>\n",
       "    </tr>\n",
       "    <tr>\n",
       "      <th>dma_code</th>\n",
       "      <td>820</td>\n",
       "    </tr>\n",
       "    <tr>\n",
       "      <th>country_code</th>\n",
       "      <td>US</td>\n",
       "    </tr>\n",
       "    <tr>\n",
       "      <th>user_id</th>\n",
       "      <td>5314600042548863</td>\n",
       "    </tr>\n",
       "    <tr>\n",
       "      <th>session_id</th>\n",
       "      <td>d1b6ae4f-7582-42d9-90bc-9b793bcc9ca7:162949223...</td>\n",
       "    </tr>\n",
       "    <tr>\n",
       "      <th>referrer</th>\n",
       "      <td>https://www.google.com/</td>\n",
       "    </tr>\n",
       "    <tr>\n",
       "      <th>client</th>\n",
       "      <td>sizmek</td>\n",
       "    </tr>\n",
       "    <tr>\n",
       "      <th>user_agent_platform</th>\n",
       "      <td>windows</td>\n",
       "    </tr>\n",
       "    <tr>\n",
       "      <th>user_agent_language</th>\n",
       "      <td>missing</td>\n",
       "    </tr>\n",
       "    <tr>\n",
       "      <th>user_agent_browser</th>\n",
       "      <td>chrome</td>\n",
       "    </tr>\n",
       "    <tr>\n",
       "      <th>zeta_user_id</th>\n",
       "      <td>missing</td>\n",
       "    </tr>\n",
       "    <tr>\n",
       "      <th>sizmek_ip</th>\n",
       "      <td>other</td>\n",
       "    </tr>\n",
       "    <tr>\n",
       "      <th>zync_ip</th>\n",
       "      <td>other</td>\n",
       "    </tr>\n",
       "    <tr>\n",
       "      <th>zync_country</th>\n",
       "      <td>US</td>\n",
       "    </tr>\n",
       "    <tr>\n",
       "      <th>zync_state</th>\n",
       "      <td>OR</td>\n",
       "    </tr>\n",
       "    <tr>\n",
       "      <th>zync_city</th>\n",
       "      <td>Hillsboro</td>\n",
       "    </tr>\n",
       "    <tr>\n",
       "      <th>zync_lat</th>\n",
       "      <td>45.5397</td>\n",
       "    </tr>\n",
       "    <tr>\n",
       "      <th>zync_long</th>\n",
       "      <td>-122.9638</td>\n",
       "    </tr>\n",
       "  </tbody>\n",
       "</table>\n",
       "</div>"
      ],
      "text/plain": [
       "                                                                     0\n",
       "Unnamed: 0                                                           0\n",
       "account_id                                                       19967\n",
       "url                                                        tvguide.com\n",
       "city_code                                                      5731371\n",
       "state_code                                                          OR\n",
       "dma_code                                                           820\n",
       "country_code                                                        US\n",
       "user_id                                               5314600042548863\n",
       "session_id           d1b6ae4f-7582-42d9-90bc-9b793bcc9ca7:162949223...\n",
       "referrer                                       https://www.google.com/\n",
       "client                                                          sizmek\n",
       "user_agent_platform                                            windows\n",
       "user_agent_language                                            missing\n",
       "user_agent_browser                                              chrome\n",
       "zeta_user_id                                                   missing\n",
       "sizmek_ip                                                        other\n",
       "zync_ip                                                          other\n",
       "zync_country                                                        US\n",
       "zync_state                                                          OR\n",
       "zync_city                                                    Hillsboro\n",
       "zync_lat                                                       45.5397\n",
       "zync_long                                                    -122.9638"
      ]
     },
     "execution_count": 3,
     "metadata": {},
     "output_type": "execute_result"
    }
   ],
   "source": [
    "df_raw.head(1).T"
   ]
  },
  {
   "cell_type": "code",
   "execution_count": 4,
   "metadata": {
    "execution": {
     "iopub.execute_input": "2021-09-10T14:11:48.144325Z",
     "iopub.status.busy": "2021-09-10T14:11:48.143948Z",
     "iopub.status.idle": "2021-09-10T14:11:48.918573Z",
     "shell.execute_reply": "2021-09-10T14:11:48.917851Z",
     "shell.execute_reply.started": "2021-09-10T14:11:48.144309Z"
    },
    "tags": []
   },
   "outputs": [
    {
     "name": "stdout",
     "output_type": "stream",
     "text": [
      "(793073, 20)\n",
      "(793073, 20)\n",
      "(793073, 20)\n",
      "(793073, 20)\n",
      "(44928, 20)\n",
      "(30818, 20)\n"
     ]
    }
   ],
   "source": [
    "sizmek_cols = [\"user_id\", \"url\", \"account_id\", \"city_code\",\n",
    "               \"state_code\", \"dma_code\", \"country_code\", \"sizmek_ip\"]\n",
    "zync_cols = [\"session_id\", \"referrer\", \"client\", \"user_agent_platform\",\n",
    "             \"user_agent_language\", \"user_agent_browser\", \"zync_ip\", \"zync_country\",\n",
    "             \"zync_state\", \"zync_city\", \"zync_lat\", \"zync_long\"]\n",
    "\n",
    "#sizmek_cols = [\"user_id\", \"url\", \"state_code\", \"country_code\"]\n",
    "#zync_cols = [\"session_id\", \"referrer\", \"zync_state\", \"zync_country\"]\n",
    "\n",
    "df = df_raw[sizmek_cols + zync_cols]\n",
    "print(df.shape)\n",
    "#df = df[df[sizmek_cols + zync_cols].astype(bool)]  \n",
    "#print(df.shape)\n",
    "df = df.fillna(\"missing\")\n",
    "print(df.shape)\n",
    "df = df.drop_duplicates()\n",
    "print(df.shape)\n",
    "df = df.reset_index(drop=True)\n",
    "print(df.shape)\n",
    "\n",
    "df = df.sample(frac=1)\n",
    "\n",
    "#for column in [\"url\", \"referrer\"]:\n",
    "#    df[column] = df[column].apply(\n",
    "#        lambda x:funcs.urlparse(x).netloc if pd.notnull(x) else x\n",
    "#    )\n",
    "\n",
    "group_list = [e for e in (sizmek_cols + zync_cols) if e not in (\"url\", \"referrer\")]\n",
    "df = df.groupby(group_list)[[\"url\", \"referrer\"]].agg(lambda x: list(x))\n",
    "df = df.reset_index()\n",
    "print(df.shape)\n",
    "df= df[df[\"user_id\"].duplicated(keep=False)]\n",
    "print(df.shape)\n",
    "df = df.drop(\"user_id\", axis=1)\n",
    "\n",
    "sizmek_features = [\"url\", \"account_id\", \"city_code\", \"state_code\",\n",
    "               \"dma_code\", \"country_code\", \"sizmek_ip\"]\n",
    "zync_features = [\"referrer\", \"client\", \"user_agent_platform\", \"user_agent_language\", \n",
    "             \"user_agent_browser\", \"zync_ip\", \"zync_country\",\n",
    "             \"zync_state\", \"zync_city\", \"zync_lat\", \"zync_long\"]\n",
    "\n",
    "sizmek_df = df[sizmek_features]\n",
    "zync_df = df[zync_features]"
   ]
  },
  {
   "cell_type": "code",
   "execution_count": 5,
   "metadata": {
    "execution": {
     "iopub.execute_input": "2021-09-10T14:11:48.919928Z",
     "iopub.status.busy": "2021-09-10T14:11:48.919383Z",
     "iopub.status.idle": "2021-09-10T14:11:48.949453Z",
     "shell.execute_reply": "2021-09-10T14:11:48.948727Z",
     "shell.execute_reply.started": "2021-09-10T14:11:48.919906Z"
    },
    "tags": []
   },
   "outputs": [
    {
     "data": {
      "text/html": [
       "<div>\n",
       "<style scoped>\n",
       "    .dataframe tbody tr th:only-of-type {\n",
       "        vertical-align: middle;\n",
       "    }\n",
       "\n",
       "    .dataframe tbody tr th {\n",
       "        vertical-align: top;\n",
       "    }\n",
       "\n",
       "    .dataframe thead th {\n",
       "        text-align: right;\n",
       "    }\n",
       "</style>\n",
       "<table border=\"1\" class=\"dataframe\">\n",
       "  <thead>\n",
       "    <tr style=\"text-align: right;\">\n",
       "      <th></th>\n",
       "      <th>url</th>\n",
       "      <th>account_id</th>\n",
       "      <th>city_code</th>\n",
       "      <th>state_code</th>\n",
       "      <th>dma_code</th>\n",
       "      <th>country_code</th>\n",
       "      <th>sizmek_ip</th>\n",
       "    </tr>\n",
       "  </thead>\n",
       "  <tbody>\n",
       "    <tr>\n",
       "      <th>0</th>\n",
       "      <td>[foxnews.com]</td>\n",
       "      <td>19967</td>\n",
       "      <td>4167147</td>\n",
       "      <td>FL</td>\n",
       "      <td>534</td>\n",
       "      <td>US</td>\n",
       "      <td>other</td>\n",
       "    </tr>\n",
       "    <tr>\n",
       "      <th>1</th>\n",
       "      <td>[https://findanyanswer.com/why-does-my-cats-vo...</td>\n",
       "      <td>35927</td>\n",
       "      <td>4167147</td>\n",
       "      <td>FL</td>\n",
       "      <td>534</td>\n",
       "      <td>US</td>\n",
       "      <td>other</td>\n",
       "    </tr>\n",
       "    <tr>\n",
       "      <th>2</th>\n",
       "      <td>[buzzaboutbees.net]</td>\n",
       "      <td>19967</td>\n",
       "      <td>5816861</td>\n",
       "      <td>WY</td>\n",
       "      <td>758</td>\n",
       "      <td>US</td>\n",
       "      <td>other</td>\n",
       "    </tr>\n",
       "  </tbody>\n",
       "</table>\n",
       "</div>"
      ],
      "text/plain": [
       "                                                 url account_id city_code  \\\n",
       "0                                      [foxnews.com]      19967   4167147   \n",
       "1  [https://findanyanswer.com/why-does-my-cats-vo...      35927   4167147   \n",
       "2                                [buzzaboutbees.net]      19967   5816861   \n",
       "\n",
       "  state_code dma_code country_code sizmek_ip  \n",
       "0         FL      534           US     other  \n",
       "1         FL      534           US     other  \n",
       "2         WY      758           US     other  "
      ]
     },
     "execution_count": 5,
     "metadata": {},
     "output_type": "execute_result"
    }
   ],
   "source": [
    "sizmek_df.head(3)"
   ]
  },
  {
   "cell_type": "code",
   "execution_count": 6,
   "metadata": {
    "execution": {
     "iopub.execute_input": "2021-09-10T14:11:48.950389Z",
     "iopub.status.busy": "2021-09-10T14:11:48.950243Z",
     "iopub.status.idle": "2021-09-10T14:11:48.977566Z",
     "shell.execute_reply": "2021-09-10T14:11:48.976963Z",
     "shell.execute_reply.started": "2021-09-10T14:11:48.950373Z"
    },
    "tags": []
   },
   "outputs": [
    {
     "data": {
      "text/html": [
       "<div>\n",
       "<style scoped>\n",
       "    .dataframe tbody tr th:only-of-type {\n",
       "        vertical-align: middle;\n",
       "    }\n",
       "\n",
       "    .dataframe tbody tr th {\n",
       "        vertical-align: top;\n",
       "    }\n",
       "\n",
       "    .dataframe thead th {\n",
       "        text-align: right;\n",
       "    }\n",
       "</style>\n",
       "<table border=\"1\" class=\"dataframe\">\n",
       "  <thead>\n",
       "    <tr style=\"text-align: right;\">\n",
       "      <th></th>\n",
       "      <th>referrer</th>\n",
       "      <th>client</th>\n",
       "      <th>user_agent_platform</th>\n",
       "      <th>user_agent_language</th>\n",
       "      <th>user_agent_browser</th>\n",
       "      <th>zync_ip</th>\n",
       "      <th>zync_country</th>\n",
       "      <th>zync_state</th>\n",
       "      <th>zync_city</th>\n",
       "      <th>zync_lat</th>\n",
       "      <th>zync_long</th>\n",
       "    </tr>\n",
       "  </thead>\n",
       "  <tbody>\n",
       "    <tr>\n",
       "      <th>0</th>\n",
       "      <td>[https://www.giantfreakinrobot.com/ent/snake-e...</td>\n",
       "      <td>sizmek</td>\n",
       "      <td>android</td>\n",
       "      <td>10</td>\n",
       "      <td>chrome</td>\n",
       "      <td>other</td>\n",
       "      <td>US</td>\n",
       "      <td>FL</td>\n",
       "      <td>missing</td>\n",
       "      <td>28.6344</td>\n",
       "      <td>-81.6221</td>\n",
       "    </tr>\n",
       "    <tr>\n",
       "      <th>1</th>\n",
       "      <td>[https://www.giantfreakinrobot.com/ent/snake-e...</td>\n",
       "      <td>sizmek</td>\n",
       "      <td>android</td>\n",
       "      <td>10</td>\n",
       "      <td>chrome</td>\n",
       "      <td>other</td>\n",
       "      <td>US</td>\n",
       "      <td>FL</td>\n",
       "      <td>missing</td>\n",
       "      <td>28.6344</td>\n",
       "      <td>-81.6221</td>\n",
       "    </tr>\n",
       "    <tr>\n",
       "      <th>2</th>\n",
       "      <td>[https://www.wral.com/wake-county-assistant-pr...</td>\n",
       "      <td>sizmek</td>\n",
       "      <td>iphone</td>\n",
       "      <td>missing</td>\n",
       "      <td>safari</td>\n",
       "      <td>other</td>\n",
       "      <td>US</td>\n",
       "      <td>NC</td>\n",
       "      <td>Wake Forest</td>\n",
       "      <td>35.9825</td>\n",
       "      <td>-78.5376</td>\n",
       "    </tr>\n",
       "  </tbody>\n",
       "</table>\n",
       "</div>"
      ],
      "text/plain": [
       "                                            referrer  client  \\\n",
       "0  [https://www.giantfreakinrobot.com/ent/snake-e...  sizmek   \n",
       "1  [https://www.giantfreakinrobot.com/ent/snake-e...  sizmek   \n",
       "2  [https://www.wral.com/wake-county-assistant-pr...  sizmek   \n",
       "\n",
       "  user_agent_platform user_agent_language user_agent_browser zync_ip  \\\n",
       "0             android                  10             chrome   other   \n",
       "1             android                  10             chrome   other   \n",
       "2              iphone             missing             safari   other   \n",
       "\n",
       "  zync_country zync_state    zync_city zync_lat zync_long  \n",
       "0           US         FL      missing  28.6344  -81.6221  \n",
       "1           US         FL      missing  28.6344  -81.6221  \n",
       "2           US         NC  Wake Forest  35.9825  -78.5376  "
      ]
     },
     "execution_count": 6,
     "metadata": {},
     "output_type": "execute_result"
    }
   ],
   "source": [
    "zync_df.head(3)"
   ]
  },
  {
   "cell_type": "code",
   "execution_count": 7,
   "metadata": {},
   "outputs": [
    {
     "data": {
      "text/plain": [
       "Index(['url', 'account_id', 'city_code', 'state_code', 'dma_code',\n",
       "       'country_code', 'sizmek_ip'],\n",
       "      dtype='object')"
      ]
     },
     "execution_count": 7,
     "metadata": {},
     "output_type": "execute_result"
    }
   ],
   "source": [
    "sizmek_df.columns"
   ]
  },
  {
   "cell_type": "code",
   "execution_count": 8,
   "metadata": {},
   "outputs": [
    {
     "data": {
      "text/plain": [
       "Index(['referrer', 'client', 'user_agent_platform', 'user_agent_language',\n",
       "       'user_agent_browser', 'zync_ip', 'zync_country', 'zync_state',\n",
       "       'zync_city', 'zync_lat', 'zync_long'],\n",
       "      dtype='object')"
      ]
     },
     "execution_count": 8,
     "metadata": {},
     "output_type": "execute_result"
    }
   ],
   "source": [
    "zync_df.columns"
   ]
  },
  {
   "cell_type": "markdown",
   "metadata": {},
   "source": [
    "# Define Dataset"
   ]
  },
  {
   "cell_type": "code",
   "execution_count": 9,
   "metadata": {
    "execution": {
     "iopub.execute_input": "2021-09-10T14:14:35.740681Z",
     "iopub.status.busy": "2021-09-10T14:14:35.740211Z",
     "iopub.status.idle": "2021-09-10T14:14:35.768255Z",
     "shell.execute_reply": "2021-09-10T14:14:35.767594Z",
     "shell.execute_reply.started": "2021-09-10T14:14:35.740661Z"
    },
    "tags": []
   },
   "outputs": [],
   "source": [
    "class ZetaDataset(torch_geometric.data.InMemoryDataset):\n",
    "    def __init__(self, root: str, sizmek_df: pd.DataFrame, zync_df: pd.DataFrame, column: str, \n",
    "                 label: str, feature_cols=None, parse_url=False, expand_x=None, transform=None, \n",
    "                 pre_transform=None\n",
    "        ):\n",
    "        self.root = root\n",
    "        self.sizmek_df = sizmek_df\n",
    "        self.zync_df = zync_df\n",
    "        self.column = column\n",
    "        self.label = label\n",
    "        self.feature_cols = feature_cols\n",
    "        self.parse_url = parse_url\n",
    "        self.expand_x = expand_x\n",
    "        super(ZetaDataset, self).__init__(root, transform, pre_transform)\n",
    "        self.data, self.slices = torch.load(self.processed_paths[0])\n",
    "        print(\"Removing processed file. . .\")\n",
    "        os.remove(self.processed_paths[0])\n",
    "\n",
    "    @property\n",
    "    def raw_file_names(self) -> List[str]:\n",
    "        return [\n",
    "            \"sizmek_bidstream_raw_20210625_10k.csv\", \n",
    "            \"zync_session_tracking_orc_20210625_10k.csv\"\n",
    "        ]\n",
    "\n",
    "    @property\n",
    "    def processed_file_names(self):\n",
    "        return [\"ZetaDataset.pt\"]\n",
    "    \n",
    "    @property\n",
    "    def edge_count_1(self):\n",
    "        return zeta_data.data.edge_index1.shape[1]\n",
    "    \n",
    "    @property\n",
    "    def edge_count_2(self):\n",
    "        return zeta_data.data.edge_index2.shape[1]\n",
    "\n",
    "    def download(self):\n",
    "        pass\n",
    "    \n",
    "    def encode_features(self, sizmek_df, zync_df):\n",
    "        print(\"Encoding features. . .\")\n",
    "        \n",
    "        siz_features = [\"sizmek_ip\", \"country_code\", \"state_code\", \"city_code\"]\n",
    "        zyn_features = [\"zync_ip\", \"zync_country\", \"zync_state\", \"zync_city\"]\n",
    "\n",
    "        sizmek_x = []\n",
    "        zync_x = []\n",
    "        for ix, column in enumerate(siz_features):\n",
    "            print(f\"Columns: {siz_features[ix]}, {zyn_features[ix]}\")\n",
    "\n",
    "            # Declare encoder for new column set\n",
    "            enc = OneHotEncoder(handle_unknown=\"ignore\")\n",
    "\n",
    "            # Fit to combined data and transform\n",
    "            combined_df = pd.DataFrame(\n",
    "                pd.concat(\n",
    "                    objs=[sizmek_df[siz_features[ix]], zync_df[zyn_features[ix]]],\n",
    "                    axis=0\n",
    "                )\n",
    "            )\n",
    "            enc.fit(combined_df)\n",
    "            siz_enc = enc.transform(sizmek_df[[siz_features[ix]]]).toarray()\n",
    "            zyn_enc = enc.transform(zync_df[[zyn_features[ix]]]).toarray()\n",
    "\n",
    "            # append to dataset list\n",
    "            sizmek_x.append(siz_enc)\n",
    "            zync_x.append(zyn_enc)\n",
    "\n",
    "        # Combine to a single array for each dataset\n",
    "        sizmek_x = np.concatenate(sizmek_x, axis=1)\n",
    "        zync_x = np.concatenate(zync_x, axis=1)\n",
    "        print(f\"Sizmek encoded array shape: {sizmek_x.shape}\")\n",
    "        print(f\"Zync encoded array shape: {zync_x.shape}\")\n",
    "        return sizmek_x, zync_x\n",
    "\n",
    "    def process(self):\n",
    "        # Encode features\n",
    "        sizmek_x, zync_x = self.encode_features(sizmek_df, zync_df)\n",
    "        \n",
    "        print(\"Creating Sizmek graph. . .\")\n",
    "        x1, edge_index1 = self.process_graph(\n",
    "            self.sizmek_df, \n",
    "            self.column[0], \n",
    "            self.feature_cols[\"sizmek\"][\"categorical\"],\n",
    "            encoded_features=sizmek_x,\n",
    "            expand_x=None\n",
    "        )\n",
    "        print(\"Creating Zync graph. . .\")\n",
    "        x2, edge_index2 = self.process_graph(\n",
    "            self.zync_df, \n",
    "            self.column[1], \n",
    "            self.feature_cols[\"zync\"][\"categorical\"], \n",
    "            encoded_features=zync_x,\n",
    "            expand_x=None\n",
    "        )\n",
    "\n",
    "        train_y, test_y = self.process_y(x1)\n",
    "\n",
    "        data = Data(x1=x1, edge_index1=edge_index1, x2=x2,\n",
    "                    edge_index2=edge_index2, train_y=train_y,\n",
    "                    test_y=test_y)\n",
    "        torch.save(self.collate([data]), self.processed_paths[0])\n",
    "\n",
    "    def process_graph(self, df, column: str, feature_cols: List, encoded_features=None, expand_x: int=None):\n",
    "        #df = pd.read_csv(file_path, low_memory=False)\n",
    "        #df.columns = [i.split(\".\")[1] for i in df.columns]\n",
    "\n",
    "        # parse URLs\n",
    "        if self.parse_url == True and column in [\"url\", \"referrer\"]:\n",
    "            print(\"Parsing URL\")\n",
    "            df[column] = df[column].apply(\n",
    "                lambda x:funcs.urlparse(x).netloc if pd.notnull(x) else x\n",
    "            )\n",
    "\n",
    "        # Encode features\n",
    "        if encoded_features is None:\n",
    "            print(\"Encoding features\")\n",
    "            feature_enc = OneHotEncoder(handle_unknown=\"ignore\")\n",
    "            features = pd.DataFrame(\n",
    "                feature_enc.fit_transform(df[feature_cols]).toarray(), \n",
    "                columns=feature_enc.get_feature_names(feature_cols)\n",
    "            )\n",
    "        else:\n",
    "            print(\"Features already encoded\")\n",
    "            features = encoded_features\n",
    "            \n",
    "        if expand_x is not None:\n",
    "            print(f\"Expanding X to {expand_x}\")\n",
    "            new_cols = [f\"fake_{expand_x-i}\" for i in range(expand_x - features.shape[1])][::-1]\n",
    "            for col in new_cols:\n",
    "                features[col] = 0\n",
    "            features = features.values\n",
    "\n",
    "        x = torch.tensor(features, dtype=torch.float)\n",
    "\n",
    "        # Create edge list\n",
    "        print(f\"Creating edge list on {column}\")\n",
    "        blocklist = funcs.count_edge_frequency(df, column)\n",
    "        print(f\"Unique URLs: {len(blocklist):,}\")\n",
    "        \n",
    "        blocklist = blocklist[blocklist[\"count\"] > 10][\"url\"]\n",
    "        print(f\"Common URLs blocked: {len(blocklist):,}\")\n",
    "\n",
    "        edges = funcs.connect_edges(df, column, blocklist)\n",
    "        edge_index = torch.tensor(\n",
    "            edges[[\"source\", \"target\"]].T.values, dtype=torch.long\n",
    "        )\n",
    "\n",
    "        return x, edge_index\n",
    "\n",
    "    def process_y(self, x1, train_frac=.8) -> Tensor:\n",
    "        y = list(range(0,x1.shape[0]))\n",
    "        #random.shuffle(y)\n",
    "        \n",
    "        train_samples = int(len(y)*train_frac)\n",
    "        y_train = torch.tensor(y[:train_samples])\n",
    "        y_test = torch.tensor(y[train_samples:])\n",
    "        \n",
    "        y_train = torch.stack([y_train, y_train], dim=0)\n",
    "        y_test = torch.stack([y_test, y_test], dim=0)\n",
    "        return y_train, y_test\n",
    "    \n",
    "    #def process_fake_y(self, x1) -> Tensor:\n",
    "    #    y = range(0, x1.shape[0])\n",
    "    #    y_1 = torch.tensor(y)\n",
    "    #    y_2 = torch.tensor(y)\n",
    "    #    train_y = torch.stack([y_1, y_2], dim=0)\n",
    "    #    return train_y, train_y\n",
    "    \n",
    "    def __repr__(self) -> str:\n",
    "        return f\"{self.__class__.__name__}({self.edge_count_1:,}/{self.edge_count_2:,} edges)\"\n",
    "    \n",
    "class SumEmbedding(object):\n",
    "    def __call__(self, data):\n",
    "        data.x1, data.x2 = data.x1.sum(dim=1), data.x2.sum(dim=1)\n",
    "        return data"
   ]
  },
  {
   "cell_type": "code",
   "execution_count": 10,
   "metadata": {
    "execution": {
     "iopub.execute_input": "2021-09-10T14:14:36.136353Z",
     "iopub.status.busy": "2021-09-10T14:14:36.135948Z",
     "iopub.status.idle": "2021-09-10T14:14:36.153366Z",
     "shell.execute_reply": "2021-09-10T14:14:36.152713Z",
     "shell.execute_reply.started": "2021-09-10T14:14:36.136337Z"
    },
    "tags": []
   },
   "outputs": [],
   "source": [
    "#sizmek_small = sizmek_df.sample(n=20_000, random_state=0)\n",
    "#zync_small = zync_df.iloc[sizmek_small.index,:]\n",
    "\n",
    "sizmek_small = sizmek_df.copy()\n",
    "zync_small = zync_df.copy()"
   ]
  },
  {
   "cell_type": "code",
   "execution_count": 11,
   "metadata": {},
   "outputs": [],
   "source": [
    "#%history -g -f history.txt"
   ]
  },
  {
   "cell_type": "code",
   "execution_count": 12,
   "metadata": {},
   "outputs": [
    {
     "data": {
      "text/html": [
       "<div>\n",
       "<style scoped>\n",
       "    .dataframe tbody tr th:only-of-type {\n",
       "        vertical-align: middle;\n",
       "    }\n",
       "\n",
       "    .dataframe tbody tr th {\n",
       "        vertical-align: top;\n",
       "    }\n",
       "\n",
       "    .dataframe thead th {\n",
       "        text-align: right;\n",
       "    }\n",
       "</style>\n",
       "<table border=\"1\" class=\"dataframe\">\n",
       "  <thead>\n",
       "    <tr style=\"text-align: right;\">\n",
       "      <th></th>\n",
       "      <th>account_id</th>\n",
       "      <th>city_code</th>\n",
       "      <th>state_code</th>\n",
       "      <th>dma_code</th>\n",
       "      <th>country_code</th>\n",
       "      <th>sizmek_ip</th>\n",
       "      <th>session_id</th>\n",
       "      <th>client</th>\n",
       "      <th>user_agent_platform</th>\n",
       "      <th>user_agent_language</th>\n",
       "      <th>user_agent_browser</th>\n",
       "      <th>zync_ip</th>\n",
       "      <th>zync_country</th>\n",
       "      <th>zync_state</th>\n",
       "      <th>zync_city</th>\n",
       "      <th>zync_lat</th>\n",
       "      <th>zync_long</th>\n",
       "      <th>url</th>\n",
       "      <th>referrer</th>\n",
       "    </tr>\n",
       "  </thead>\n",
       "  <tbody>\n",
       "    <tr>\n",
       "      <th>33512</th>\n",
       "      <td>19967</td>\n",
       "      <td>4751839</td>\n",
       "      <td>VA</td>\n",
       "      <td>511</td>\n",
       "      <td>US</td>\n",
       "      <td>other</td>\n",
       "      <td>cc49812d-7894-44dd-8d04-00369b3e0f7c:162145669...</td>\n",
       "      <td>sizmek</td>\n",
       "      <td>android</td>\n",
       "      <td>11</td>\n",
       "      <td>chrome</td>\n",
       "      <td>other</td>\n",
       "      <td>US</td>\n",
       "      <td>VA</td>\n",
       "      <td>Chantilly</td>\n",
       "      <td>38.8879</td>\n",
       "      <td>-77.4448</td>\n",
       "      <td>[restonnow.com]</td>\n",
       "      <td>[https://7cf96f93cc140850fe4d2b469f57f7f6.safe...</td>\n",
       "    </tr>\n",
       "  </tbody>\n",
       "</table>\n",
       "</div>"
      ],
      "text/plain": [
       "      account_id city_code state_code dma_code country_code sizmek_ip  \\\n",
       "33512      19967   4751839         VA      511           US     other   \n",
       "\n",
       "                                              session_id  client  \\\n",
       "33512  cc49812d-7894-44dd-8d04-00369b3e0f7c:162145669...  sizmek   \n",
       "\n",
       "      user_agent_platform user_agent_language user_agent_browser zync_ip  \\\n",
       "33512             android                  11             chrome   other   \n",
       "\n",
       "      zync_country zync_state  zync_city zync_lat zync_long              url  \\\n",
       "33512           US         VA  Chantilly  38.8879  -77.4448  [restonnow.com]   \n",
       "\n",
       "                                                referrer  \n",
       "33512  [https://7cf96f93cc140850fe4d2b469f57f7f6.safe...  "
      ]
     },
     "execution_count": 12,
     "metadata": {},
     "output_type": "execute_result"
    }
   ],
   "source": [
    "df.sample()"
   ]
  },
  {
   "cell_type": "markdown",
   "metadata": {},
   "source": [
    "# Create Dataset"
   ]
  },
  {
   "cell_type": "code",
   "execution_count": 15,
   "metadata": {
    "execution": {
     "iopub.execute_input": "2021-09-10T14:14:36.293393Z",
     "iopub.status.busy": "2021-09-10T14:14:36.292891Z",
     "iopub.status.idle": "2021-09-10T14:14:36.660389Z",
     "shell.execute_reply": "2021-09-10T14:14:36.659774Z",
     "shell.execute_reply.started": "2021-09-10T14:14:36.293377Z"
    },
    "tags": []
   },
   "outputs": [
    {
     "name": "stderr",
     "output_type": "stream",
     "text": [
      "Processing...\n"
     ]
    },
    {
     "name": "stdout",
     "output_type": "stream",
     "text": [
      "Encoding features. . .\n",
      "Columns: sizmek_ip, zync_ip\n",
      "Columns: country_code, zync_country\n",
      "Columns: state_code, zync_state\n",
      "Columns: city_code, zync_city\n",
      "Sizmek encoded array shape: (30818, 11282)\n",
      "Zync encoded array shape: (30818, 11282)\n",
      "Creating Sizmek graph. . .\n",
      "Features already encoded\n",
      "Creating edge list on url\n",
      "Unique URLs: 88,218\n",
      "Common URLs blocked: 10,156\n",
      "Creating Zync graph. . .\n",
      "Features already encoded\n",
      "Creating edge list on referrer\n",
      "Unique URLs: 18,801\n",
      "Common URLs blocked: 9,685\n"
     ]
    },
    {
     "name": "stderr",
     "output_type": "stream",
     "text": [
      "Done!\n"
     ]
    },
    {
     "name": "stdout",
     "output_type": "stream",
     "text": [
      "Removing processed file. . .\n"
     ]
    },
    {
     "data": {
      "text/plain": [
       "ZetaDataset(848,363/296,109 edges)"
      ]
     },
     "execution_count": 15,
     "metadata": {},
     "output_type": "execute_result"
    }
   ],
   "source": [
    "feature_cols = {\n",
    "    \"sizmek\": {\n",
    "        \"categorical\": [\n",
    "            \"account_id\", \"city_code\", \"state_code\",\n",
    "            \"dma_code\", \"country_code\", \"sizmek_ip\"\n",
    "        ],\n",
    "        \"numeric\": []\n",
    "    },\n",
    "    \"zync\": {\n",
    "        \"categorical\": [\n",
    "#            \"client\", \"user_agent_platform\", \"user_agent_language\", \n",
    "            \"user_agent_browser\", \"zync_ip\", \"zync_country\",\n",
    "            \"zync_state\", \"zync_city\"\n",
    "        ],\n",
    "        \"numeric\": [\"zync_lat\", \"zync_long\"]\n",
    "    }\n",
    "}\n",
    "\n",
    "zeta_data = ZetaDataset(\n",
    "    root=\"./data/\",\n",
    "    sizmek_df = sizmek_small,\n",
    "    zync_df = zync_small,\n",
    "    column=[\"url\", \"referrer\"],\n",
    "    label=[\"zeta_user_id\", \"client_id\"],\n",
    "    feature_cols=feature_cols,\n",
    "    parse_url=False,\n",
    "    transform=SumEmbedding()\n",
    ")\n",
    "zeta_data"
   ]
  },
  {
   "cell_type": "code",
   "execution_count": 19,
   "metadata": {
    "execution": {
     "iopub.execute_input": "2021-09-10T14:14:36.661577Z",
     "iopub.status.busy": "2021-09-10T14:14:36.661286Z",
     "iopub.status.idle": "2021-09-10T14:14:36.710999Z",
     "shell.execute_reply": "2021-09-10T14:14:36.710338Z",
     "shell.execute_reply.started": "2021-09-10T14:14:36.661556Z"
    },
    "tags": []
   },
   "outputs": [
    {
     "name": "stdout",
     "output_type": "stream",
     "text": [
      "RelCNN(11282, 256, num_layers=3, batch_norm=False, cat=True, lin=True, dropout=0.5)\n",
      "RelCNN(32, 32, num_layers=3, batch_norm=False, cat=True, lin=True, dropout=0.5)\n",
      "torch.Size([30818, 11282])\n",
      "torch.Size([30818, 11282])\n"
     ]
    }
   ],
   "source": [
    "import argparse\n",
    "\n",
    "parser = argparse.ArgumentParser()\n",
    "parser.add_argument('--dim', type=int, default=256)\n",
    "parser.add_argument('--rnd_dim', type=int, default=32)\n",
    "parser.add_argument('--num_layers', type=int, default=3)\n",
    "parser.add_argument('--num_steps', type=int, default=10)\n",
    "parser.add_argument('--k', type=int, default=20)\n",
    "args = parser.parse_args(\"\")\n",
    "\n",
    "\n",
    "psi_1 = dgmc.models.RelCNN(zeta_data.data.x1.size(-1), args.dim, args.num_layers, batch_norm=False,\n",
    "               cat=True, lin=True, dropout=0.5)\n",
    "psi_2 = dgmc.models.RelCNN(args.rnd_dim, args.rnd_dim, args.num_layers, batch_norm=False,\n",
    "               cat=True, lin=True, dropout=0.5)\n",
    "\n",
    "print(psi_1)\n",
    "print(psi_2)\n",
    "print(zeta_data.data.x1.size())\n",
    "print(zeta_data.data.x2.size())"
   ]
  },
  {
   "cell_type": "code",
   "execution_count": 20,
   "metadata": {
    "execution": {
     "iopub.execute_input": "2021-09-10T14:14:36.712097Z",
     "iopub.status.busy": "2021-09-10T14:14:36.711766Z",
     "iopub.status.idle": "2021-09-10T14:14:36.738896Z",
     "shell.execute_reply": "2021-09-10T14:14:36.738089Z",
     "shell.execute_reply.started": "2021-09-10T14:14:36.712082Z"
    },
    "tags": []
   },
   "outputs": [],
   "source": [
    "model = dgmc.models.DGMC(psi_1, psi_2, num_steps=None, k=args.k).to(device)\n",
    "optimizer = torch.optim.Adam(model.parameters(), lr=0.00001)\n",
    "data = zeta_data.data\n",
    "\n",
    "def train():\n",
    "    model.train()\n",
    "    optimizer.zero_grad()\n",
    "\n",
    "    _, S_L = model(data.x1, data.edge_index1, None, None, data.x2,\n",
    "                   data.edge_index2, None, None, data.train_y)\n",
    "\n",
    "    loss = model.loss(S_L, data.train_y)\n",
    "    loss.backward()\n",
    "    optimizer.step()\n",
    "    return loss\n",
    "\n",
    "@torch.no_grad()\n",
    "def test():\n",
    "    model.eval()\n",
    "\n",
    "    _, S_L = model(data.x1, data.edge_index1, None, None, data.x2,\n",
    "                   data.edge_index2, None, None)\n",
    "\n",
    "    train_hits1 = model.acc(S_L, data.train_y)\n",
    "    train_hits10 = model.hits_at_k(10, S_L, data.train_y)\n",
    "    train_hits100 = model.hits_at_k(10000, S_L, data.train_y)\n",
    "    \n",
    "    test_hits1 = model.acc(S_L, data.test_y)\n",
    "    test_hits10 = model.hits_at_k(10, S_L, data.test_y)\n",
    "    test_hits100 = model.hits_at_k(10000, S_L, data.test_y)\n",
    "\n",
    "    return train_hits1, train_hits10, train_hits100, test_hits1, test_hits10, test_hits100"
   ]
  },
  {
   "cell_type": "code",
   "execution_count": null,
   "metadata": {
    "execution": {
     "iopub.execute_input": "2021-09-10T14:14:37.125615Z",
     "iopub.status.busy": "2021-09-10T14:14:37.125102Z"
    },
    "tags": []
   },
   "outputs": [
    {
     "name": "stdout",
     "output_type": "stream",
     "text": [
      "005: Loss: 3.69, Train: 0.0332, 0.1151, 0.1382, Test: 0.0318, 0.1064, 0.1267\n",
      "010: Loss: 3.69, Train: 0.0342, 0.1190, 0.1456, Test: 0.0354, 0.1059, 0.1298\n",
      "015: Loss: 3.69, Train: 0.0357, 0.1248, 0.1530, Test: 0.0341, 0.1085, 0.1316\n",
      "020: Loss: 3.69, Train: 0.0355, 0.1307, 0.1629, Test: 0.0341, 0.1097, 0.1308\n",
      "025: Loss: 3.69, Train: 0.0357, 0.1370, 0.1731, Test: 0.0346, 0.1103, 0.1319\n",
      "030: Loss: 3.69, Train: 0.0383, 0.1432, 0.1848, Test: 0.0320, 0.1092, 0.1322\n",
      "035: Loss: 3.69, Train: 0.0395, 0.1539, 0.1988, Test: 0.0323, 0.1102, 0.1325\n"
     ]
    }
   ],
   "source": [
    "torch.cuda.empty_cache()\n",
    "model.cuda()\n",
    "zeta_data.data.cuda()\n",
    "\n",
    "model.num_steps = 0\n",
    "with torch.profiler.profile(\n",
    "    schedule=torch.profiler.schedule(\n",
    "        wait=2,\n",
    "        warmup=2,\n",
    "        active=6,\n",
    "        repeat=1),\n",
    "    on_trace_ready=torch.profiler.tensorboard_trace_handler(\"./logs/gnn_v5\"),\n",
    "    with_stack=True\n",
    ") as profiler:\n",
    "    for epoch in range(1, 50):\n",
    "        #print(\"Epoch: {}\".format(epoch))\n",
    "        if epoch == 100:\n",
    "            print('Refine correspondence matrix...')\n",
    "            model.num_steps = args.num_steps\n",
    "            model.detach = True\n",
    "\n",
    "        loss = train()\n",
    "        profiler.step()\n",
    "        \n",
    "        if epoch % 5 == 0:\n",
    "            train_hits1, train_hits10, train_hits100, test_hits1, test_hits10, test_hits100 = test()\n",
    "            print((\n",
    "                f\"{epoch:03d}: Loss: {loss:.2f}, \"\n",
    "                f\"Train: {train_hits1:.4f}, {train_hits10:.4f}, {train_hits100:.4f}, \"\n",
    "                f\"Test: {test_hits1:.4f}, {test_hits10:.4f}, {test_hits100:.4f}\"\n",
    "            ))"
   ]
  },
  {
   "cell_type": "raw",
   "metadata": {},
   "source": [
    ".5 .5 attempt 1\n",
    "\n",
    "005: Loss: 3.69, Train: 0.0484, 0.1853, 0.2419, Test: 0.0336, 0.1074, 0.1325\n",
    "010: Loss: 3.68, Train: 0.0677, 0.2858, 0.3583, Test: 0.0365, 0.1348, 0.1705\n",
    "015: Loss: 3.68, Train: 0.0829, 0.3455, 0.4241, Test: 0.0341, 0.1544, 0.1939\n",
    "020: Loss: 3.68, Train: 0.0883, 0.3722, 0.4542, Test: 0.0264, 0.1478, 0.1940\n",
    "025: Loss: 3.68, Train: 0.0891, 0.3832, 0.4641, Test: 0.0211, 0.1379, 0.1836\n",
    "030: Loss: 3.67, Train: 0.0884, 0.3733, 0.4531, Test: 0.0148, 0.1124, 0.1591\n",
    "035: Loss: 3.67, Train: 0.0869, 0.3472, 0.4222, Test: 0.0131, 0.0861, 0.1254\n",
    "040: Loss: 3.66, Train: 0.0810, 0.3243, 0.3917, Test: 0.0112, 0.0689, 0.0972\n",
    "045: Loss: 3.66, Train: 0.0763, 0.3068, 0.3683, Test: 0.0101, 0.0569, 0.0845"
   ]
  },
  {
   "cell_type": "markdown",
   "metadata": {},
   "source": [
    "# Debug"
   ]
  },
  {
   "cell_type": "code",
   "execution_count": null,
   "metadata": {},
   "outputs": [],
   "source": [
    "torch.cuda.empty_cache()\n",
    "#model.to('cpu')\n",
    "#zeta_data.data.to('cpu')\n",
    "\n",
    "model.eval()\n",
    "_, S_L = model(data.x1, data.edge_index1, None, None, data.x2,\n",
    "                   data.edge_index2, None, None)\n",
    "\n",
    "k = 1000\n",
    "S = S_L\n",
    "y = data.train_y\n",
    "\n",
    "perm = S.__val__[y[0]].argsort(dim=-1, descending=True)[:, :20]\n",
    "pred = torch.gather(S.__idx__[y[0]], -1, perm)\n",
    "pred[0,:]"
   ]
  },
  {
   "cell_type": "code",
   "execution_count": null,
   "metadata": {},
   "outputs": [],
   "source": [
    "S"
   ]
  },
  {
   "cell_type": "code",
   "execution_count": null,
   "metadata": {},
   "outputs": [],
   "source": [
    "S.__val__.shape"
   ]
  },
  {
   "cell_type": "code",
   "execution_count": null,
   "metadata": {},
   "outputs": [],
   "source": [
    "model.eval()\n",
    "_, S_L = model(\n",
    "    data.x1, data.edge_index1, None, None, data.x2,\n",
    "    data.edge_index2, None, None\n",
    ")\n",
    "\n",
    "model.acc(S_L, data.test_y)"
   ]
  },
  {
   "cell_type": "code",
   "execution_count": null,
   "metadata": {},
   "outputs": [],
   "source": [
    "S = S_L\n",
    "y = data.test_y\n",
    "pred = S.__idx__[y[0], S.__val__[y[0]].argmax(dim=-1)]\n",
    "pred"
   ]
  },
  {
   "cell_type": "code",
   "execution_count": null,
   "metadata": {},
   "outputs": [],
   "source": [
    "data.test_y"
   ]
  },
  {
   "cell_type": "code",
   "execution_count": null,
   "metadata": {},
   "outputs": [],
   "source": [
    "(pred == y[1]).sum().item()\n"
   ]
  },
  {
   "cell_type": "raw",
   "metadata": {
    "execution": {
     "iopub.status.busy": "2021-09-09T14:42:14.653161Z",
     "iopub.status.idle": "2021-09-09T14:42:14.653355Z",
     "shell.execute_reply": "2021-09-09T14:42:14.653265Z",
     "shell.execute_reply.started": "2021-09-09T14:42:14.653255Z"
    },
    "jupyter": {
     "outputs_hidden": true
    },
    "tags": []
   },
   "source": [
    "print('Optimize initial feature matching...')\n",
    "model.num_steps = 0\n",
    "for epoch in range(1, 6):\n",
    "    if epoch == 3:\n",
    "        print('Refine correspondence matrix...')\n",
    "        model.num_steps = args.num_steps\n",
    "        model.detach = True\n",
    "\n",
    "    loss = train()\n",
    "\n",
    "    #if epoch % 10 == 0 or epoch > 100:\n",
    "    if True:\n",
    "        hits1, hits10 = test()\n",
    "        print((f'{epoch:03d}: Loss: {loss:.4f}, Hits@1: {hits1:.4f}, '\n",
    "               f'Hits@10: {hits10:.4f}'))"
   ]
  },
  {
   "cell_type": "code",
   "execution_count": null,
   "metadata": {},
   "outputs": [],
   "source": []
  },
  {
   "cell_type": "code",
   "execution_count": null,
   "metadata": {},
   "outputs": [],
   "source": []
  },
  {
   "cell_type": "code",
   "execution_count": null,
   "metadata": {},
   "outputs": [],
   "source": []
  },
  {
   "cell_type": "code",
   "execution_count": null,
   "metadata": {},
   "outputs": [],
   "source": []
  },
  {
   "cell_type": "code",
   "execution_count": null,
   "metadata": {},
   "outputs": [],
   "source": []
  },
  {
   "cell_type": "code",
   "execution_count": null,
   "metadata": {},
   "outputs": [],
   "source": []
  }
 ],
 "metadata": {
  "kernelspec": {
   "display_name": "torch",
   "language": "python",
   "name": "torch"
  },
  "language_info": {
   "codemirror_mode": {
    "name": "ipython",
    "version": 3
   },
   "file_extension": ".py",
   "mimetype": "text/x-python",
   "name": "python",
   "nbconvert_exporter": "python",
   "pygments_lexer": "ipython3",
   "version": "3.9.5"
  }
 },
 "nbformat": 4,
 "nbformat_minor": 5
}
