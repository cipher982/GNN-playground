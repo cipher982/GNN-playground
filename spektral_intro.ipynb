{
  "nbformat": 4,
  "nbformat_minor": 5,
  "metadata": {
    "kernelspec": {
      "display_name": "Python 3",
      "language": "python",
      "name": "python3"
    },
    "language_info": {
      "codemirror_mode": {
        "name": "ipython",
        "version": 3
      },
      "file_extension": ".py",
      "mimetype": "text/x-python",
      "name": "python",
      "nbconvert_exporter": "python",
      "pygments_lexer": "ipython3",
      "version": "3.8.2"
    },
    "colab": {
      "name": "gnn.ipynb",
      "provenance": [],
      "machine_shape": "hm"
    }
  },
  "cells": [
    {
      "cell_type": "code",
      "metadata": {
        "colab": {
          "base_uri": "https://localhost:8080/"
        },
        "id": "Q0YmKZbJElmm",
        "outputId": "7df45dd1-5580-4091-b6ac-669e28ae8ba9"
      },
      "source": [
        "!pip install spektral"
      ],
      "id": "Q0YmKZbJElmm",
      "execution_count": 77,
      "outputs": [
        {
          "output_type": "stream",
          "text": [
            "Requirement already satisfied: spektral in /usr/local/lib/python3.7/dist-packages (1.0.6)\n",
            "Requirement already satisfied: numpy in /usr/local/lib/python3.7/dist-packages (from spektral) (1.19.5)\n",
            "Requirement already satisfied: joblib in /usr/local/lib/python3.7/dist-packages (from spektral) (1.0.1)\n",
            "Requirement already satisfied: scipy in /usr/local/lib/python3.7/dist-packages (from spektral) (1.4.1)\n",
            "Requirement already satisfied: requests in /usr/local/lib/python3.7/dist-packages (from spektral) (2.23.0)\n",
            "Requirement already satisfied: lxml in /usr/local/lib/python3.7/dist-packages (from spektral) (4.2.6)\n",
            "Requirement already satisfied: tqdm in /usr/local/lib/python3.7/dist-packages (from spektral) (4.41.1)\n",
            "Requirement already satisfied: tensorflow>=2.1.0 in /usr/local/lib/python3.7/dist-packages (from spektral) (2.5.0)\n",
            "Requirement already satisfied: scikit-learn in /usr/local/lib/python3.7/dist-packages (from spektral) (0.22.2.post1)\n",
            "Requirement already satisfied: pandas in /usr/local/lib/python3.7/dist-packages (from spektral) (1.1.5)\n",
            "Requirement already satisfied: networkx in /usr/local/lib/python3.7/dist-packages (from spektral) (2.5.1)\n",
            "Requirement already satisfied: certifi>=2017.4.17 in /usr/local/lib/python3.7/dist-packages (from requests->spektral) (2021.5.30)\n",
            "Requirement already satisfied: idna<3,>=2.5 in /usr/local/lib/python3.7/dist-packages (from requests->spektral) (2.10)\n",
            "Requirement already satisfied: urllib3!=1.25.0,!=1.25.1,<1.26,>=1.21.1 in /usr/local/lib/python3.7/dist-packages (from requests->spektral) (1.24.3)\n",
            "Requirement already satisfied: chardet<4,>=3.0.2 in /usr/local/lib/python3.7/dist-packages (from requests->spektral) (3.0.4)\n",
            "Requirement already satisfied: wheel~=0.35 in /usr/local/lib/python3.7/dist-packages (from tensorflow>=2.1.0->spektral) (0.36.2)\n",
            "Requirement already satisfied: keras-nightly~=2.5.0.dev in /usr/local/lib/python3.7/dist-packages (from tensorflow>=2.1.0->spektral) (2.5.0.dev2021032900)\n",
            "Requirement already satisfied: grpcio~=1.34.0 in /usr/local/lib/python3.7/dist-packages (from tensorflow>=2.1.0->spektral) (1.34.1)\n",
            "Requirement already satisfied: wrapt~=1.12.1 in /usr/local/lib/python3.7/dist-packages (from tensorflow>=2.1.0->spektral) (1.12.1)\n",
            "Requirement already satisfied: six~=1.15.0 in /usr/local/lib/python3.7/dist-packages (from tensorflow>=2.1.0->spektral) (1.15.0)\n",
            "Requirement already satisfied: tensorflow-estimator<2.6.0,>=2.5.0rc0 in /usr/local/lib/python3.7/dist-packages (from tensorflow>=2.1.0->spektral) (2.5.0)\n",
            "Requirement already satisfied: flatbuffers~=1.12.0 in /usr/local/lib/python3.7/dist-packages (from tensorflow>=2.1.0->spektral) (1.12)\n",
            "Requirement already satisfied: protobuf>=3.9.2 in /usr/local/lib/python3.7/dist-packages (from tensorflow>=2.1.0->spektral) (3.12.4)\n",
            "Requirement already satisfied: h5py~=3.1.0 in /usr/local/lib/python3.7/dist-packages (from tensorflow>=2.1.0->spektral) (3.1.0)\n",
            "Requirement already satisfied: typing-extensions~=3.7.4 in /usr/local/lib/python3.7/dist-packages (from tensorflow>=2.1.0->spektral) (3.7.4.3)\n",
            "Requirement already satisfied: absl-py~=0.10 in /usr/local/lib/python3.7/dist-packages (from tensorflow>=2.1.0->spektral) (0.12.0)\n",
            "Requirement already satisfied: keras-preprocessing~=1.1.2 in /usr/local/lib/python3.7/dist-packages (from tensorflow>=2.1.0->spektral) (1.1.2)\n",
            "Requirement already satisfied: opt-einsum~=3.3.0 in /usr/local/lib/python3.7/dist-packages (from tensorflow>=2.1.0->spektral) (3.3.0)\n",
            "Requirement already satisfied: tensorboard~=2.5 in /usr/local/lib/python3.7/dist-packages (from tensorflow>=2.1.0->spektral) (2.5.0)\n",
            "Requirement already satisfied: gast==0.4.0 in /usr/local/lib/python3.7/dist-packages (from tensorflow>=2.1.0->spektral) (0.4.0)\n",
            "Requirement already satisfied: google-pasta~=0.2 in /usr/local/lib/python3.7/dist-packages (from tensorflow>=2.1.0->spektral) (0.2.0)\n",
            "Requirement already satisfied: termcolor~=1.1.0 in /usr/local/lib/python3.7/dist-packages (from tensorflow>=2.1.0->spektral) (1.1.0)\n",
            "Requirement already satisfied: astunparse~=1.6.3 in /usr/local/lib/python3.7/dist-packages (from tensorflow>=2.1.0->spektral) (1.6.3)\n",
            "Requirement already satisfied: pytz>=2017.2 in /usr/local/lib/python3.7/dist-packages (from pandas->spektral) (2018.9)\n",
            "Requirement already satisfied: python-dateutil>=2.7.3 in /usr/local/lib/python3.7/dist-packages (from pandas->spektral) (2.8.1)\n",
            "Requirement already satisfied: decorator<5,>=4.3 in /usr/local/lib/python3.7/dist-packages (from networkx->spektral) (4.4.2)\n",
            "Requirement already satisfied: setuptools in /usr/local/lib/python3.7/dist-packages (from protobuf>=3.9.2->tensorflow>=2.1.0->spektral) (57.0.0)\n",
            "Requirement already satisfied: cached-property; python_version < \"3.8\" in /usr/local/lib/python3.7/dist-packages (from h5py~=3.1.0->tensorflow>=2.1.0->spektral) (1.5.2)\n",
            "Requirement already satisfied: google-auth<2,>=1.6.3 in /usr/local/lib/python3.7/dist-packages (from tensorboard~=2.5->tensorflow>=2.1.0->spektral) (1.31.0)\n",
            "Requirement already satisfied: tensorboard-plugin-wit>=1.6.0 in /usr/local/lib/python3.7/dist-packages (from tensorboard~=2.5->tensorflow>=2.1.0->spektral) (1.8.0)\n",
            "Requirement already satisfied: werkzeug>=0.11.15 in /usr/local/lib/python3.7/dist-packages (from tensorboard~=2.5->tensorflow>=2.1.0->spektral) (1.0.1)\n",
            "Requirement already satisfied: google-auth-oauthlib<0.5,>=0.4.1 in /usr/local/lib/python3.7/dist-packages (from tensorboard~=2.5->tensorflow>=2.1.0->spektral) (0.4.4)\n",
            "Requirement already satisfied: markdown>=2.6.8 in /usr/local/lib/python3.7/dist-packages (from tensorboard~=2.5->tensorflow>=2.1.0->spektral) (3.3.4)\n",
            "Requirement already satisfied: tensorboard-data-server<0.7.0,>=0.6.0 in /usr/local/lib/python3.7/dist-packages (from tensorboard~=2.5->tensorflow>=2.1.0->spektral) (0.6.1)\n",
            "Requirement already satisfied: rsa<5,>=3.1.4; python_version >= \"3.6\" in /usr/local/lib/python3.7/dist-packages (from google-auth<2,>=1.6.3->tensorboard~=2.5->tensorflow>=2.1.0->spektral) (4.7.2)\n",
            "Requirement already satisfied: pyasn1-modules>=0.2.1 in /usr/local/lib/python3.7/dist-packages (from google-auth<2,>=1.6.3->tensorboard~=2.5->tensorflow>=2.1.0->spektral) (0.2.8)\n",
            "Requirement already satisfied: cachetools<5.0,>=2.0.0 in /usr/local/lib/python3.7/dist-packages (from google-auth<2,>=1.6.3->tensorboard~=2.5->tensorflow>=2.1.0->spektral) (4.2.2)\n",
            "Requirement already satisfied: requests-oauthlib>=0.7.0 in /usr/local/lib/python3.7/dist-packages (from google-auth-oauthlib<0.5,>=0.4.1->tensorboard~=2.5->tensorflow>=2.1.0->spektral) (1.3.0)\n",
            "Requirement already satisfied: importlib-metadata; python_version < \"3.8\" in /usr/local/lib/python3.7/dist-packages (from markdown>=2.6.8->tensorboard~=2.5->tensorflow>=2.1.0->spektral) (4.5.0)\n",
            "Requirement already satisfied: pyasn1>=0.1.3 in /usr/local/lib/python3.7/dist-packages (from rsa<5,>=3.1.4; python_version >= \"3.6\"->google-auth<2,>=1.6.3->tensorboard~=2.5->tensorflow>=2.1.0->spektral) (0.4.8)\n",
            "Requirement already satisfied: oauthlib>=3.0.0 in /usr/local/lib/python3.7/dist-packages (from requests-oauthlib>=0.7.0->google-auth-oauthlib<0.5,>=0.4.1->tensorboard~=2.5->tensorflow>=2.1.0->spektral) (3.1.1)\n",
            "Requirement already satisfied: zipp>=0.5 in /usr/local/lib/python3.7/dist-packages (from importlib-metadata; python_version < \"3.8\"->markdown>=2.6.8->tensorboard~=2.5->tensorflow>=2.1.0->spektral) (3.4.1)\n"
          ],
          "name": "stdout"
        }
      ]
    },
    {
      "cell_type": "code",
      "metadata": {
        "id": "454fab6f-7c4f-4a43-9560-d911374e60ee"
      },
      "source": [
        "import spektral\n",
        "from spektral import datasets, transforms"
      ],
      "id": "454fab6f-7c4f-4a43-9560-d911374e60ee",
      "execution_count": 78,
      "outputs": []
    },
    {
      "cell_type": "code",
      "metadata": {
        "colab": {
          "base_uri": "https://localhost:8080/"
        },
        "id": "6e364ca0-8249-497b-b603-fa2b21a6458f",
        "outputId": "947ce6f2-54c4-44b9-d316-e346f8bad05c"
      },
      "source": [
        "dataset = datasets.TUDataset('PROTEINS')"
      ],
      "id": "6e364ca0-8249-497b-b603-fa2b21a6458f",
      "execution_count": 79,
      "outputs": [
        {
          "output_type": "stream",
          "text": [
            "Successfully loaded PROTEINS.\n"
          ],
          "name": "stdout"
        }
      ]
    },
    {
      "cell_type": "code",
      "metadata": {
        "colab": {
          "base_uri": "https://localhost:8080/"
        },
        "id": "hrnvGfl5FBKU",
        "outputId": "0798923a-7883-445f-fe5e-eb96086f5f00"
      },
      "source": [
        "dataset"
      ],
      "id": "hrnvGfl5FBKU",
      "execution_count": 80,
      "outputs": [
        {
          "output_type": "execute_result",
          "data": {
            "text/plain": [
              "TUDataset(n_graphs=1113)"
            ]
          },
          "metadata": {
            "tags": []
          },
          "execution_count": 80
        }
      ]
    },
    {
      "cell_type": "code",
      "metadata": {
        "colab": {
          "base_uri": "https://localhost:8080/"
        },
        "id": "DQ2hHEYLMlnk",
        "outputId": "57084294-8424-44ff-8ecc-d71a957698db"
      },
      "source": [
        "max_degree = dataset.map(lambda g: g.a.sum(-1).max(), reduce=max)\n",
        "print(\"Max degree: \", max_degree)"
      ],
      "id": "DQ2hHEYLMlnk",
      "execution_count": 81,
      "outputs": [
        {
          "output_type": "stream",
          "text": [
            "Max degree:  25.0\n"
          ],
          "name": "stdout"
        }
      ]
    },
    {
      "cell_type": "code",
      "metadata": {
        "colab": {
          "base_uri": "https://localhost:8080/"
        },
        "id": "LOvmm_ZIN2lQ",
        "outputId": "60cac0d4-5b31-436d-c8fd-0e2c1a6cdc2f"
      },
      "source": [
        "dataset[0]"
      ],
      "id": "LOvmm_ZIN2lQ",
      "execution_count": 82,
      "outputs": [
        {
          "output_type": "execute_result",
          "data": {
            "text/plain": [
              "Graph(n_nodes=42, n_node_features=4, n_edge_features=None, n_labels=2)"
            ]
          },
          "metadata": {
            "tags": []
          },
          "execution_count": 82
        }
      ]
    },
    {
      "cell_type": "code",
      "metadata": {
        "id": "CnJH9zfBPgO7"
      },
      "source": [
        "dataset.apply(transforms.Degree(int(max_degree)))"
      ],
      "id": "CnJH9zfBPgO7",
      "execution_count": 83,
      "outputs": []
    },
    {
      "cell_type": "code",
      "metadata": {
        "colab": {
          "base_uri": "https://localhost:8080/"
        },
        "id": "W0gYFv18QK9n",
        "outputId": "ad0e3020-0fe4-46d6-f36f-42019f9aebb0"
      },
      "source": [
        "dataset[0]"
      ],
      "id": "W0gYFv18QK9n",
      "execution_count": 84,
      "outputs": [
        {
          "output_type": "execute_result",
          "data": {
            "text/plain": [
              "Graph(n_nodes=42, n_node_features=30, n_edge_features=None, n_labels=2)"
            ]
          },
          "metadata": {
            "tags": []
          },
          "execution_count": 84
        }
      ]
    },
    {
      "cell_type": "code",
      "metadata": {
        "id": "H9ASo-3KcWWu",
        "outputId": "d02592ee-2595-40ff-d560-7022b633f243",
        "colab": {
          "base_uri": "https://localhost:8080/"
        }
      },
      "source": [
        "dataset[0].a.todense()"
      ],
      "id": "H9ASo-3KcWWu",
      "execution_count": 85,
      "outputs": [
        {
          "output_type": "execute_result",
          "data": {
            "text/plain": [
              "matrix([[0., 0., 0., ..., 0., 0., 0.],\n",
              "        [0., 0., 0., ..., 0., 0., 1.],\n",
              "        [0., 0., 0., ..., 0., 0., 0.],\n",
              "        ...,\n",
              "        [0., 0., 0., ..., 0., 0., 0.],\n",
              "        [0., 0., 0., ..., 0., 0., 1.],\n",
              "        [0., 1., 0., ..., 0., 1., 0.]])"
            ]
          },
          "metadata": {
            "tags": []
          },
          "execution_count": 85
        }
      ]
    },
    {
      "cell_type": "code",
      "metadata": {
        "id": "mRiHBPdoX5Pl"
      },
      "source": [
        "dataset.apply(transforms.GCNFilter())"
      ],
      "id": "mRiHBPdoX5Pl",
      "execution_count": 86,
      "outputs": []
    },
    {
      "cell_type": "code",
      "metadata": {
        "colab": {
          "base_uri": "https://localhost:8080/"
        },
        "id": "lzp8ADRQcC6v",
        "outputId": "54a23d69-aa19-4126-bc02-a040feb422e5"
      },
      "source": [
        "dataset[0].a.todense()"
      ],
      "id": "lzp8ADRQcC6v",
      "execution_count": 87,
      "outputs": [
        {
          "output_type": "execute_result",
          "data": {
            "text/plain": [
              "matrix([[0.25      , 0.        , 0.        , ..., 0.        , 0.        ,\n",
              "         0.        ],\n",
              "        [0.        , 0.25      , 0.        , ..., 0.        , 0.        ,\n",
              "         0.18898224],\n",
              "        [0.        , 0.        , 0.25      , ..., 0.        , 0.        ,\n",
              "         0.        ],\n",
              "        ...,\n",
              "        [0.        , 0.        , 0.        , ..., 0.2       , 0.        ,\n",
              "         0.        ],\n",
              "        [0.        , 0.        , 0.        , ..., 0.        , 0.25      ,\n",
              "         0.18898224],\n",
              "        [0.        , 0.18898224, 0.        , ..., 0.        , 0.18898224,\n",
              "         0.14285714]])"
            ]
          },
          "metadata": {
            "tags": []
          },
          "execution_count": 87
        }
      ]
    },
    {
      "cell_type": "code",
      "metadata": {
        "colab": {
          "base_uri": "https://localhost:8080/"
        },
        "id": "uIYGA5gOcGXz",
        "outputId": "39a477e4-4a01-4478-a0c3-b758b13622bc"
      },
      "source": [
        "dataset[0].a.todense().mean()"
      ],
      "id": "uIYGA5gOcGXz",
      "execution_count": 88,
      "outputs": [
        {
          "output_type": "execute_result",
          "data": {
            "text/plain": [
              "0.023547617650508366"
            ]
          },
          "metadata": {
            "tags": []
          },
          "execution_count": 88
        }
      ]
    },
    {
      "cell_type": "code",
      "metadata": {
        "id": "NmxtcGSQulw-"
      },
      "source": [
        "from tensorflow.keras.models import Model\n",
        "from tensorflow.keras.layers import Dense, Dropout\n",
        "from spektral.layers import GCNConv, GlobalSumPool"
      ],
      "id": "NmxtcGSQulw-",
      "execution_count": 89,
      "outputs": []
    },
    {
      "cell_type": "code",
      "metadata": {
        "id": "Ma1bcHvgTkz_"
      },
      "source": [
        "class MyFirstGNN(Model):\n",
        "    def __init__(self, n_hidden, n_labels):\n",
        "        super().__init__()\n",
        "        self.graph_conv = GCNConv(n_hidden)\n",
        "        self.pool = GlobalSumPool()\n",
        "        self.dropout = Dropout(0.5)\n",
        "        self.dense = Dense(n_labels, 'softmax')\n",
        "\n",
        "    def call(self, inputs):\n",
        "        out = self.graph_conv(inputs)\n",
        "        out = self.dropout(out)\n",
        "        out = self.pool(out)\n",
        "        out = self.dense(out)\n",
        "\n",
        "        return out"
      ],
      "id": "Ma1bcHvgTkz_",
      "execution_count": 90,
      "outputs": []
    },
    {
      "cell_type": "code",
      "metadata": {
        "id": "d3P2dp4kaKFK"
      },
      "source": [
        ""
      ],
      "id": "d3P2dp4kaKFK",
      "execution_count": 90,
      "outputs": []
    },
    {
      "cell_type": "code",
      "metadata": {
        "id": "ATh7uahphLXs",
        "outputId": "f6a17ab8-650e-4384-e5c1-231d4e088956",
        "colab": {
          "base_uri": "https://localhost:8080/"
        }
      },
      "source": [
        "print(f\"There are a total of {len(dataset):,} graphs in this dataset\\n\")\n",
        "\n",
        "print(\"In the first graph we have an adjacency matrix (A) of shape: [nodes, nodes]\")\n",
        "print(dataset[0].a.shape)\n",
        "\n",
        "print(\"And we have the nodes features (X) of shape: [nodes, n_feat]\")\n",
        "print(dataset[0].x.shape)\n",
        "\n",
        "print(\"Lastly we have the edge features (E) of shape: [edges, e_feat]\")\n",
        "print(dataset[0].e)"
      ],
      "id": "ATh7uahphLXs",
      "execution_count": 91,
      "outputs": [
        {
          "output_type": "stream",
          "text": [
            "There are a total of 1,113 graphs in this dataset\n",
            "\n",
            "In the first graph we have an adjacency matrix (A) of shape: [nodes, nodes]\n",
            "(42, 42)\n",
            "And we have the nodes features (X) of shape: [nodes, n_feat]\n",
            "(42, 30)\n",
            "Lastly we have the edge features (E) of shape: [edges, e_feat]\n",
            "None\n"
          ],
          "name": "stdout"
        }
      ]
    },
    {
      "cell_type": "code",
      "metadata": {
        "id": "7vzKzg4EhZq0"
      },
      "source": [
        "model = MyFirstGNN(32, dataset.n_labels)\n",
        "model.compile('adam', 'categorical_crossentropy')"
      ],
      "id": "7vzKzg4EhZq0",
      "execution_count": 92,
      "outputs": []
    },
    {
      "cell_type": "code",
      "metadata": {
        "id": "iSXAhu74TpJa",
        "outputId": "eef4ec21-ae83-4cac-f81b-3ca54c6becc3",
        "colab": {
          "base_uri": "https://localhost:8080/"
        }
      },
      "source": [
        "from spektral.data import DisjointLoader\n",
        "loader = DisjointLoader(dataset, batch_size=5, shuffle=True)\n",
        "batch = loader.__next__()\n",
        "inputs, target = batch\n",
        "x, a, i = inputs\n",
        "print(f\"Combined graph now has shape (X) of: {x.shape}\")"
      ],
      "id": "iSXAhu74TpJa",
      "execution_count": 98,
      "outputs": [
        {
          "output_type": "stream",
          "text": [
            "Combined graph now has shape (X) of: (198, 30)\n"
          ],
          "name": "stdout"
        }
      ]
    },
    {
      "cell_type": "code",
      "metadata": {
        "id": "LZSC0z5hWtiX",
        "outputId": "c24ad28f-2f9c-4e6d-fd1d-6d877a22ab72",
        "colab": {
          "base_uri": "https://localhost:8080/"
        }
      },
      "source": [
        "from spektral.data import BatchLoader\n",
        "loader = BatchLoader(dataset, batch_size=32)\n",
        "model.fit(loader.load(), steps_per_epoch=loader.steps_per_epoch, epochs=5)"
      ],
      "id": "LZSC0z5hWtiX",
      "execution_count": 119,
      "outputs": [
        {
          "output_type": "stream",
          "text": [
            "Epoch 1/5\n",
            "35/35 [==============================] - 1s 21ms/step - loss: 1.8221\n",
            "Epoch 2/5\n",
            "35/35 [==============================] - 1s 19ms/step - loss: 1.8630\n",
            "Epoch 3/5\n",
            "35/35 [==============================] - 1s 20ms/step - loss: 2.0234\n",
            "Epoch 4/5\n",
            "35/35 [==============================] - 1s 20ms/step - loss: 1.5795\n",
            "Epoch 5/5\n",
            "35/35 [==============================] - 1s 19ms/step - loss: 1.6672\n"
          ],
          "name": "stdout"
        },
        {
          "output_type": "execute_result",
          "data": {
            "text/plain": [
              "<tensorflow.python.keras.callbacks.History at 0x7fd8b0b9e890>"
            ]
          },
          "metadata": {
            "tags": []
          },
          "execution_count": 119
        }
      ]
    },
    {
      "cell_type": "code",
      "metadata": {
        "id": "ykEFAtp9j6gN",
        "outputId": "7e84e7b5-84e0-47f0-d360-786b71f6949c",
        "colab": {
          "base_uri": "https://localhost:8080/"
        }
      },
      "source": [
        "loader = BatchLoader(dataset, batch_size=32)\n",
        "loss = model.evaluate(loader.load(), steps=loader.steps_per_epoch)\n",
        "print(f'Test loss: {loss}')"
      ],
      "id": "ykEFAtp9j6gN",
      "execution_count": 120,
      "outputs": [
        {
          "output_type": "stream",
          "text": [
            "35/35 [==============================] - 0s 13ms/step - loss: 0.9086\n",
            "Test loss: 0.9085749387741089\n"
          ],
          "name": "stdout"
        }
      ]
    },
    {
      "cell_type": "code",
      "metadata": {
        "id": "E-ihHalq-gSI"
      },
      "source": [
        ""
      ],
      "id": "E-ihHalq-gSI",
      "execution_count": null,
      "outputs": []
    }
  ]
}