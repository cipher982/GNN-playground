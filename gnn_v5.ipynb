{
 "cells": [
  {
   "cell_type": "code",
   "execution_count": 1,
   "metadata": {
    "execution": {
     "iopub.execute_input": "2021-09-10T14:11:39.843642Z",
     "iopub.status.busy": "2021-09-10T14:11:39.843224Z",
     "iopub.status.idle": "2021-09-10T14:11:41.294569Z",
     "shell.execute_reply": "2021-09-10T14:11:41.293908Z",
     "shell.execute_reply.started": "2021-09-10T14:11:39.843622Z"
    },
    "tags": []
   },
   "outputs": [
    {
     "data": {
      "text/plain": [
       "'cuda'"
      ]
     },
     "execution_count": 1,
     "metadata": {},
     "output_type": "execute_result"
    }
   ],
   "source": [
    "from typing import Optional, Callable, List, Dict, Tuple\n",
    "import os\n",
    "\n",
    "import dgmc\n",
    "import pandas as pd\n",
    "from sklearn.preprocessing import OneHotEncoder, LabelEncoder\n",
    "\n",
    "import torch\n",
    "from torch import Tensor\n",
    "import funcs\n",
    "#import pytorch_lightning as pl\n",
    "from torch.nn import Linear\n",
    "from torch_geometric.nn import GCNConv\n",
    "from torch_geometric.data import Data\n",
    "import torch_geometric\n",
    "\n",
    "\n",
    "%reload_ext autoreload\n",
    "%autoreload 2\n",
    "\n",
    "device = 'cuda' if torch.cuda.is_available() else 'cpu'\n",
    "device"
   ]
  },
  {
   "cell_type": "code",
   "execution_count": 2,
   "metadata": {
    "execution": {
     "iopub.execute_input": "2021-09-10T14:11:41.295753Z",
     "iopub.status.busy": "2021-09-10T14:11:41.295473Z",
     "iopub.status.idle": "2021-09-10T14:11:48.143268Z",
     "shell.execute_reply": "2021-09-10T14:11:48.142686Z",
     "shell.execute_reply.started": "2021-09-10T14:11:41.295737Z"
    },
    "tags": []
   },
   "outputs": [
    {
     "name": "stdout",
     "output_type": "stream",
     "text": [
      "Shape: 1,000,000 Memory: 2.72GB\n"
     ]
    }
   ],
   "source": [
    "file_path = f\"s3://drose-sandbox/sizmek_zync_1m\"\n",
    "df_raw = pd.read_parquet(file_path)\n",
    "print(f\"Shape: {df_raw.shape[0]:,} Memory: {df_raw.memory_usage(deep=True).sum()/1e9:.2f}GB\")"
   ]
  },
  {
   "cell_type": "code",
   "execution_count": 4,
   "metadata": {
    "execution": {
     "iopub.execute_input": "2021-09-10T14:11:48.144325Z",
     "iopub.status.busy": "2021-09-10T14:11:48.143948Z",
     "iopub.status.idle": "2021-09-10T14:11:48.918573Z",
     "shell.execute_reply": "2021-09-10T14:11:48.917851Z",
     "shell.execute_reply.started": "2021-09-10T14:11:48.144309Z"
    },
    "tags": []
   },
   "outputs": [
    {
     "name": "stdout",
     "output_type": "stream",
     "text": [
      "(1000000, 13)\n",
      "(1000000, 13)\n",
      "(1000000, 13)\n",
      "(1000000, 13)\n",
      "(4167, 13)\n",
      "(2492, 13)\n"
     ]
    }
   ],
   "source": [
    "sizmek_cols = [\"account_id\", \"url\", \"city_code\",\n",
    "               \"state_code\", \"dma_code\", \"country_code\",\"user_id\"]\n",
    "zync_cols = [\"session_id\", \"referrer\", \"client\", \"user_agent_platform\",\n",
    "             \"user_agent_language\", \"user_agent_browser\"]\n",
    "\n",
    "df = df_raw[sizmek_cols + zync_cols]\n",
    "print(df.shape)\n",
    "#df = df[df[sizmek_cols + zync_cols].astype(bool)]  \n",
    "print(df.shape)\n",
    "df = df.fillna(\"missing\")\n",
    "print(df.shape)\n",
    "#df = df.drop_duplicates()\n",
    "print(df.shape)\n",
    "df = df.reset_index(drop=True)\n",
    "\n",
    "group_list = [e for e in (sizmek_cols + zync_cols) if e not in (\"url\", \"referrer\")]\n",
    "df = df.groupby(group_list)[[\"url\", \"referrer\"]].agg(lambda x: list(x))\n",
    "df = df.reset_index()\n",
    "print(df.shape)\n",
    "df= df[df[\"user_id\"].duplicated(keep=False)]\n",
    "print(df.shape)\n",
    "df = df.drop(\"user_id\", axis=1)\n",
    "\n",
    "sizmek_cols = [\"account_id\", \"url\", \"city_code\",\n",
    "               \"state_code\", \"dma_code\", \"country_code\"]\n",
    "sizmek_df = df[sizmek_cols]\n",
    "zync_df = df[zync_cols]"
   ]
  },
  {
   "cell_type": "code",
   "execution_count": 5,
   "metadata": {},
   "outputs": [
    {
     "data": {
      "text/html": [
       "<div>\n",
       "<style scoped>\n",
       "    .dataframe tbody tr th:only-of-type {\n",
       "        vertical-align: middle;\n",
       "    }\n",
       "\n",
       "    .dataframe tbody tr th {\n",
       "        vertical-align: top;\n",
       "    }\n",
       "\n",
       "    .dataframe thead th {\n",
       "        text-align: right;\n",
       "    }\n",
       "</style>\n",
       "<table border=\"1\" class=\"dataframe\">\n",
       "  <thead>\n",
       "    <tr style=\"text-align: right;\">\n",
       "      <th></th>\n",
       "      <th>0</th>\n",
       "    </tr>\n",
       "  </thead>\n",
       "  <tbody>\n",
       "    <tr>\n",
       "      <th>session_id</th>\n",
       "      <td>31b423df-5602-4ccc-8983-6c7ab6f65e99:162431114...</td>\n",
       "    </tr>\n",
       "    <tr>\n",
       "      <th>client</th>\n",
       "      <td>sizmek</td>\n",
       "    </tr>\n",
       "    <tr>\n",
       "      <th>client_id</th>\n",
       "      <td>969470197007663742</td>\n",
       "    </tr>\n",
       "    <tr>\n",
       "      <th>remote_addr</th>\n",
       "      <td>98.22.94.69</td>\n",
       "    </tr>\n",
       "    <tr>\n",
       "      <th>referrer</th>\n",
       "      <td>https://www.windstream.net/?inc=532</td>\n",
       "    </tr>\n",
       "    <tr>\n",
       "      <th>user_agent_platform</th>\n",
       "      <td>windows</td>\n",
       "    </tr>\n",
       "    <tr>\n",
       "      <th>user_agent_language</th>\n",
       "      <td>None</td>\n",
       "    </tr>\n",
       "    <tr>\n",
       "      <th>user_agent_browser</th>\n",
       "      <td>chrome</td>\n",
       "    </tr>\n",
       "    <tr>\n",
       "      <th>user_agent_string</th>\n",
       "      <td>Mozilla/5.0 (Windows NT 10.0; Win64; x64) Appl...</td>\n",
       "    </tr>\n",
       "    <tr>\n",
       "      <th>user_agent_version</th>\n",
       "      <td>92.0.4515.159</td>\n",
       "    </tr>\n",
       "    <tr>\n",
       "      <th>timestamp</th>\n",
       "      <td>1629449154.866578</td>\n",
       "    </tr>\n",
       "    <tr>\n",
       "      <th>geo_data</th>\n",
       "      <td>{'country': 'US', 'subdivision': 'NE', 'coordi...</td>\n",
       "    </tr>\n",
       "    <tr>\n",
       "      <th>partner_data</th>\n",
       "      <td>None</td>\n",
       "    </tr>\n",
       "    <tr>\n",
       "      <th>session</th>\n",
       "      <td>{'clients': {'appnexus': '8716740763275603421'...</td>\n",
       "    </tr>\n",
       "    <tr>\n",
       "      <th>consent_data</th>\n",
       "      <td>{'gdpr': None, 'gdpr_consent': None}</td>\n",
       "    </tr>\n",
       "    <tr>\n",
       "      <th>user_id</th>\n",
       "      <td>969470197007663742</td>\n",
       "    </tr>\n",
       "    <tr>\n",
       "      <th>household_cluster_id</th>\n",
       "      <td></td>\n",
       "    </tr>\n",
       "    <tr>\n",
       "      <th>zeta_user_id</th>\n",
       "      <td>31b423df-5602-4ccc-8983-6c7ab6f65e99:162431114...</td>\n",
       "    </tr>\n",
       "    <tr>\n",
       "      <th>account_id</th>\n",
       "      <td>19967</td>\n",
       "    </tr>\n",
       "    <tr>\n",
       "      <th>url</th>\n",
       "      <td>windstream.net</td>\n",
       "    </tr>\n",
       "    <tr>\n",
       "      <th>referrer_url</th>\n",
       "      <td></td>\n",
       "    </tr>\n",
       "    <tr>\n",
       "      <th>city_code</th>\n",
       "      <td>5072006</td>\n",
       "    </tr>\n",
       "    <tr>\n",
       "      <th>state_code</th>\n",
       "      <td>NE</td>\n",
       "    </tr>\n",
       "    <tr>\n",
       "      <th>zip_code</th>\n",
       "      <td>68516</td>\n",
       "    </tr>\n",
       "    <tr>\n",
       "      <th>dma_code</th>\n",
       "      <td>722</td>\n",
       "    </tr>\n",
       "    <tr>\n",
       "      <th>country_code</th>\n",
       "      <td>US</td>\n",
       "    </tr>\n",
       "    <tr>\n",
       "      <th>user_agent</th>\n",
       "      <td>Mozilla/5.0 (Windows NT 10.0; Win64; x64) Appl...</td>\n",
       "    </tr>\n",
       "    <tr>\n",
       "      <th>mobile_id</th>\n",
       "      <td>None</td>\n",
       "    </tr>\n",
       "    <tr>\n",
       "      <th>ip</th>\n",
       "      <td>98.22.94.69</td>\n",
       "    </tr>\n",
       "    <tr>\n",
       "      <th>server_timestamp</th>\n",
       "      <td>1629490224044</td>\n",
       "    </tr>\n",
       "  </tbody>\n",
       "</table>\n",
       "</div>"
      ],
      "text/plain": [
       "                                                                      0\n",
       "session_id            31b423df-5602-4ccc-8983-6c7ab6f65e99:162431114...\n",
       "client                                                           sizmek\n",
       "client_id                                            969470197007663742\n",
       "remote_addr                                                 98.22.94.69\n",
       "referrer                            https://www.windstream.net/?inc=532\n",
       "user_agent_platform                                             windows\n",
       "user_agent_language                                                None\n",
       "user_agent_browser                                               chrome\n",
       "user_agent_string     Mozilla/5.0 (Windows NT 10.0; Win64; x64) Appl...\n",
       "user_agent_version                                        92.0.4515.159\n",
       "timestamp                                             1629449154.866578\n",
       "geo_data              {'country': 'US', 'subdivision': 'NE', 'coordi...\n",
       "partner_data                                                       None\n",
       "session               {'clients': {'appnexus': '8716740763275603421'...\n",
       "consent_data                       {'gdpr': None, 'gdpr_consent': None}\n",
       "user_id                                              969470197007663742\n",
       "household_cluster_id                                                   \n",
       "zeta_user_id          31b423df-5602-4ccc-8983-6c7ab6f65e99:162431114...\n",
       "account_id                                                        19967\n",
       "url                                                      windstream.net\n",
       "referrer_url                                                           \n",
       "city_code                                                       5072006\n",
       "state_code                                                           NE\n",
       "zip_code                                                          68516\n",
       "dma_code                                                            722\n",
       "country_code                                                         US\n",
       "user_agent            Mozilla/5.0 (Windows NT 10.0; Win64; x64) Appl...\n",
       "mobile_id                                                          None\n",
       "ip                                                          98.22.94.69\n",
       "server_timestamp                                          1629490224044"
      ]
     },
     "execution_count": 5,
     "metadata": {},
     "output_type": "execute_result"
    }
   ],
   "source": [
    "df_raw.head(1).T"
   ]
  },
  {
   "cell_type": "code",
   "execution_count": 6,
   "metadata": {
    "execution": {
     "iopub.execute_input": "2021-09-10T14:11:48.919928Z",
     "iopub.status.busy": "2021-09-10T14:11:48.919383Z",
     "iopub.status.idle": "2021-09-10T14:11:48.949453Z",
     "shell.execute_reply": "2021-09-10T14:11:48.948727Z",
     "shell.execute_reply.started": "2021-09-10T14:11:48.919906Z"
    },
    "tags": []
   },
   "outputs": [
    {
     "data": {
      "text/html": [
       "<div>\n",
       "<style scoped>\n",
       "    .dataframe tbody tr th:only-of-type {\n",
       "        vertical-align: middle;\n",
       "    }\n",
       "\n",
       "    .dataframe tbody tr th {\n",
       "        vertical-align: top;\n",
       "    }\n",
       "\n",
       "    .dataframe thead th {\n",
       "        text-align: right;\n",
       "    }\n",
       "</style>\n",
       "<table border=\"1\" class=\"dataframe\">\n",
       "  <thead>\n",
       "    <tr style=\"text-align: right;\">\n",
       "      <th></th>\n",
       "      <th>account_id</th>\n",
       "      <th>url</th>\n",
       "      <th>city_code</th>\n",
       "      <th>state_code</th>\n",
       "      <th>dma_code</th>\n",
       "      <th>country_code</th>\n",
       "    </tr>\n",
       "  </thead>\n",
       "  <tbody>\n",
       "    <tr>\n",
       "      <th>1</th>\n",
       "      <td>19967</td>\n",
       "      <td>[wkrn.com, wkrn.com, wkrn.com]</td>\n",
       "      <td></td>\n",
       "      <td></td>\n",
       "      <td></td>\n",
       "      <td>PR</td>\n",
       "    </tr>\n",
       "    <tr>\n",
       "      <th>4</th>\n",
       "      <td>19967</td>\n",
       "      <td>[unscramblex.com, unscramblex.com, unscramblex...</td>\n",
       "      <td></td>\n",
       "      <td></td>\n",
       "      <td></td>\n",
       "      <td>PR</td>\n",
       "    </tr>\n",
       "    <tr>\n",
       "      <th>6</th>\n",
       "      <td>19967</td>\n",
       "      <td>[penguinmd.com, penguinmd.com, penguinmd.com, ...</td>\n",
       "      <td></td>\n",
       "      <td></td>\n",
       "      <td></td>\n",
       "      <td>PR</td>\n",
       "    </tr>\n",
       "  </tbody>\n",
       "</table>\n",
       "</div>"
      ],
      "text/plain": [
       "   account_id                                                url city_code  \\\n",
       "1       19967                     [wkrn.com, wkrn.com, wkrn.com]             \n",
       "4       19967  [unscramblex.com, unscramblex.com, unscramblex...             \n",
       "6       19967  [penguinmd.com, penguinmd.com, penguinmd.com, ...             \n",
       "\n",
       "  state_code dma_code country_code  \n",
       "1                               PR  \n",
       "4                               PR  \n",
       "6                               PR  "
      ]
     },
     "execution_count": 6,
     "metadata": {},
     "output_type": "execute_result"
    }
   ],
   "source": [
    "sizmek_df.head(3)"
   ]
  },
  {
   "cell_type": "code",
   "execution_count": 7,
   "metadata": {
    "execution": {
     "iopub.execute_input": "2021-09-10T14:11:48.950389Z",
     "iopub.status.busy": "2021-09-10T14:11:48.950243Z",
     "iopub.status.idle": "2021-09-10T14:11:48.977566Z",
     "shell.execute_reply": "2021-09-10T14:11:48.976963Z",
     "shell.execute_reply.started": "2021-09-10T14:11:48.950373Z"
    },
    "tags": []
   },
   "outputs": [
    {
     "data": {
      "text/html": [
       "<div>\n",
       "<style scoped>\n",
       "    .dataframe tbody tr th:only-of-type {\n",
       "        vertical-align: middle;\n",
       "    }\n",
       "\n",
       "    .dataframe tbody tr th {\n",
       "        vertical-align: top;\n",
       "    }\n",
       "\n",
       "    .dataframe thead th {\n",
       "        text-align: right;\n",
       "    }\n",
       "</style>\n",
       "<table border=\"1\" class=\"dataframe\">\n",
       "  <thead>\n",
       "    <tr style=\"text-align: right;\">\n",
       "      <th></th>\n",
       "      <th>session_id</th>\n",
       "      <th>referrer</th>\n",
       "      <th>client</th>\n",
       "      <th>user_agent_platform</th>\n",
       "      <th>user_agent_language</th>\n",
       "      <th>user_agent_browser</th>\n",
       "    </tr>\n",
       "  </thead>\n",
       "  <tbody>\n",
       "    <tr>\n",
       "      <th>1</th>\n",
       "      <td>d1cae259-cc64-480b-94aa-db38cd464628:157987491...</td>\n",
       "      <td>[https://globosterraqueos.net/globo-terraqueo-...</td>\n",
       "      <td>sizmek</td>\n",
       "      <td>windows</td>\n",
       "      <td>missing</td>\n",
       "      <td>chrome</td>\n",
       "    </tr>\n",
       "    <tr>\n",
       "      <th>4</th>\n",
       "      <td>6ee31f2e-ee82-40e1-832f-f9ad49a8e0bd:162587158...</td>\n",
       "      <td>[https://unscramblex.com/anagram/pghtuti, http...</td>\n",
       "      <td>sizmek</td>\n",
       "      <td>android</td>\n",
       "      <td>11</td>\n",
       "      <td>chrome</td>\n",
       "    </tr>\n",
       "    <tr>\n",
       "      <th>6</th>\n",
       "      <td>6d7265b0-c88a-4519-bebf-bc2c970c78c8:162827312...</td>\n",
       "      <td>[https://0dbafac881f416faf35e959c459c4531.safe...</td>\n",
       "      <td>sizmek</td>\n",
       "      <td>android</td>\n",
       "      <td>11</td>\n",
       "      <td>chrome</td>\n",
       "    </tr>\n",
       "  </tbody>\n",
       "</table>\n",
       "</div>"
      ],
      "text/plain": [
       "                                          session_id  \\\n",
       "1  d1cae259-cc64-480b-94aa-db38cd464628:157987491...   \n",
       "4  6ee31f2e-ee82-40e1-832f-f9ad49a8e0bd:162587158...   \n",
       "6  6d7265b0-c88a-4519-bebf-bc2c970c78c8:162827312...   \n",
       "\n",
       "                                            referrer  client  \\\n",
       "1  [https://globosterraqueos.net/globo-terraqueo-...  sizmek   \n",
       "4  [https://unscramblex.com/anagram/pghtuti, http...  sizmek   \n",
       "6  [https://0dbafac881f416faf35e959c459c4531.safe...  sizmek   \n",
       "\n",
       "  user_agent_platform user_agent_language user_agent_browser  \n",
       "1             windows             missing             chrome  \n",
       "4             android                  11             chrome  \n",
       "6             android                  11             chrome  "
      ]
     },
     "execution_count": 7,
     "metadata": {},
     "output_type": "execute_result"
    }
   ],
   "source": [
    "zync_df.head(3)"
   ]
  },
  {
   "cell_type": "markdown",
   "metadata": {},
   "source": [
    "# Make new edges"
   ]
  },
  {
   "cell_type": "code",
   "execution_count": null,
   "metadata": {
    "execution": {
     "iopub.execute_input": "2021-09-10T14:12:45.148148Z",
     "iopub.status.busy": "2021-09-10T14:12:45.147729Z",
     "iopub.status.idle": "2021-09-10T14:12:45.216434Z",
     "shell.execute_reply": "2021-09-10T14:12:45.215771Z",
     "shell.execute_reply.started": "2021-09-10T14:12:45.148128Z"
    },
    "tags": []
   },
   "outputs": [],
   "source": [
    "edge_list = funcs.connect_edges_2(sizmek_df, \"url\")\n",
    "edge_list = edge_list[edge_list['source'] != edge_list['target']]\n",
    "edge_list.head(5)"
   ]
  },
  {
   "cell_type": "code",
   "execution_count": null,
   "metadata": {},
   "outputs": [],
   "source": []
  },
  {
   "cell_type": "code",
   "execution_count": null,
   "metadata": {},
   "outputs": [],
   "source": []
  },
  {
   "cell_type": "code",
   "execution_count": null,
   "metadata": {
    "execution": {
     "iopub.execute_input": "2021-09-10T14:14:35.740681Z",
     "iopub.status.busy": "2021-09-10T14:14:35.740211Z",
     "iopub.status.idle": "2021-09-10T14:14:35.768255Z",
     "shell.execute_reply": "2021-09-10T14:14:35.767594Z",
     "shell.execute_reply.started": "2021-09-10T14:14:35.740661Z"
    },
    "tags": []
   },
   "outputs": [],
   "source": [
    "class ZetaDataset(torch_geometric.data.InMemoryDataset):\n",
    "    def __init__(self, root: str, sizmek_df: pd.DataFrame, zync_df: pd.DataFrame, column: str, \n",
    "                 label: str, feature_cols=None, parse_url=False, expand_x=None, transform=None, \n",
    "                 pre_transform=None\n",
    "        ):\n",
    "        self.root = root\n",
    "        self.sizmek_df = sizmek_df\n",
    "        self.zync_df = zync_df\n",
    "        self.column = column\n",
    "        self.label = label\n",
    "        self.feature_cols = feature_cols\n",
    "        self.parse_url = parse_url\n",
    "        self.expand_x = expand_x\n",
    "        super(ZetaDataset, self).__init__(root, transform, pre_transform)\n",
    "        self.data, self.slices = torch.load(self.processed_paths[0])\n",
    "        print(\"Removing processed file. . .\")\n",
    "        os.remove(self.processed_paths[0])\n",
    "\n",
    "    @property\n",
    "    def raw_file_names(self) -> List[str]:\n",
    "        return [\n",
    "            \"sizmek_bidstream_raw_20210625_10k.csv\", \n",
    "            \"zync_session_tracking_orc_20210625_10k.csv\"\n",
    "        ]\n",
    "\n",
    "    @property\n",
    "    def processed_file_names(self):\n",
    "        return [\"ZetaDataset.pt\"]\n",
    "    \n",
    "    @property\n",
    "    def edge_count_1(self):\n",
    "        return zeta_data.data.edge_index1.shape[1]\n",
    "    \n",
    "    @property\n",
    "    def edge_count_2(self):\n",
    "        return zeta_data.data.edge_index2.shape[1]\n",
    "\n",
    "    def download(self):\n",
    "        pass\n",
    "\n",
    "    def process(self):\n",
    "        x1, edge_index1 = self.process_graph(self.sizmek_df, self.column[0], self.feature_cols[\"sizmek\"])\n",
    "        x2, edge_index2 = self.process_graph(self.zync_df, self.column[1], self.feature_cols[\"zync\"], 1126)\n",
    "\n",
    "        train_y = self.process_y()\n",
    "        test_y = self.process_y()\n",
    "\n",
    "        data = Data(x1=x1, edge_index1=edge_index1, x2=x2,\n",
    "                    edge_index2=edge_index2, train_y=train_y,\n",
    "                    test_y=test_y)\n",
    "        torch.save(self.collate([data]), self.processed_paths[0])\n",
    "\n",
    "    def process_graph(self, df, column: str, feature_cols: List, expand_x: int=None):\n",
    "        print(f\"Processing graph on {column}\")\n",
    "        #df = pd.read_csv(file_path, low_memory=False)\n",
    "        #df.columns = [i.split(\".\")[1] for i in df.columns]\n",
    "\n",
    "        # parse URLs\n",
    "        if self.parse_url == True and column in [\"url\", \"referrer\"]:\n",
    "            df[column] = df[column].apply(\n",
    "                lambda x:funcs.urlparse(x).netloc if pd.notnull(x) else x\n",
    "            )\n",
    "\n",
    "        # Encode features\n",
    "        feature_enc = OneHotEncoder(handle_unknown=\"ignore\")\n",
    "        features = pd.DataFrame(\n",
    "            feature_enc.fit_transform(df[feature_cols]).toarray(), \n",
    "            columns=feature_enc.get_feature_names(feature_cols)\n",
    "        )\n",
    "        if expand_x is not None:\n",
    "            print(f\"Expanding X to {expand_x}\")\n",
    "            new_cols = [f\"fake_{expand_x-i}\" for i in range(expand_x - features.shape[1])][::-1]\n",
    "            for col in new_cols:\n",
    "                features[col] = 0\n",
    "        x = torch.tensor(features.values, dtype=torch.float)\n",
    "        \n",
    "        #edges = funcs.connect_edges(df, column)\n",
    "        #edge_index = torch.tensor(\n",
    "        #    edges[['source','target']].T.values, dtype=torch.long\n",
    "        #)\n",
    "        \n",
    "        edges = funcs.connect_edges_2(df, column)\n",
    "        edges = edges.sample(frac=.2)\n",
    "        edge_index = torch.tensor(\n",
    "            edges[[\"source\", \"target\"]].T.values, dtype=torch.long\n",
    "        )\n",
    "\n",
    "        return x, edge_index\n",
    "\n",
    "    def process_y(self) -> Tensor:\n",
    "        y_1 = torch.tensor([range(0,2_000)])[0]\n",
    "        y_2 = torch.tensor([range(0,2_000)])[0]\n",
    "        train_y = torch.stack([y_1, y_2], dim=0)\n",
    "        return train_y\n",
    "    \n",
    "    def __repr__(self) -> str:\n",
    "        return f\"{self.__class__.__name__}({self.edge_count_1:,}/{self.edge_count_2:,} edges)\""
   ]
  },
  {
   "cell_type": "code",
   "execution_count": null,
   "metadata": {
    "execution": {
     "iopub.execute_input": "2021-09-10T14:14:35.959486Z",
     "iopub.status.busy": "2021-09-10T14:14:35.959057Z",
     "iopub.status.idle": "2021-09-10T14:14:35.981644Z",
     "shell.execute_reply": "2021-09-10T14:14:35.980927Z",
     "shell.execute_reply.started": "2021-09-10T14:14:35.959470Z"
    },
    "tags": []
   },
   "outputs": [],
   "source": [
    "class SumEmbedding(object):\n",
    "    def __call__(self, data):\n",
    "        data.x1, data.x2 = data.x1.sum(dim=1), data.x2.sum(dim=1)\n",
    "        return data"
   ]
  },
  {
   "cell_type": "code",
   "execution_count": null,
   "metadata": {
    "execution": {
     "iopub.execute_input": "2021-09-10T14:14:36.136353Z",
     "iopub.status.busy": "2021-09-10T14:14:36.135948Z",
     "iopub.status.idle": "2021-09-10T14:14:36.153366Z",
     "shell.execute_reply": "2021-09-10T14:14:36.152713Z",
     "shell.execute_reply.started": "2021-09-10T14:14:36.136337Z"
    },
    "tags": []
   },
   "outputs": [],
   "source": [
    "#sizmek_small = sizmek_df.sample(n=20_000, random_state=0)\n",
    "#zync_small = zync_df.iloc[sizmek_small.index,:]\n",
    "\n",
    "sizmek_small = sizmek_df.copy()\n",
    "zync_small = zync_df.copy()"
   ]
  },
  {
   "cell_type": "code",
   "execution_count": null,
   "metadata": {
    "execution": {
     "iopub.execute_input": "2021-09-10T14:14:36.293393Z",
     "iopub.status.busy": "2021-09-10T14:14:36.292891Z",
     "iopub.status.idle": "2021-09-10T14:14:36.660389Z",
     "shell.execute_reply": "2021-09-10T14:14:36.659774Z",
     "shell.execute_reply.started": "2021-09-10T14:14:36.293377Z"
    },
    "tags": []
   },
   "outputs": [],
   "source": [
    "feature_cols = {\n",
    "    \"sizmek\": [\"account_id\", \"city_code\",\"state_code\", \"dma_code\", \"country_code\"],\n",
    "    \"zync\": [\"client\", \"user_agent_platform\",\"user_agent_language\", \"user_agent_browser\"]\n",
    "}\n",
    "\n",
    "zeta_data = ZetaDataset(\n",
    "    root=\"./data/\",\n",
    "    sizmek_df = sizmek_small,\n",
    "    zync_df = zync_small,\n",
    "    column=[\"url\", \"referrer\"],\n",
    "    label=[\"zeta_user_id\", \"client_id\"],\n",
    "    feature_cols=feature_cols,\n",
    "    parse_url=False,\n",
    "    transform=SumEmbedding()\n",
    ")\n",
    "zeta_data"
   ]
  },
  {
   "cell_type": "code",
   "execution_count": null,
   "metadata": {
    "execution": {
     "iopub.execute_input": "2021-09-10T14:14:36.661577Z",
     "iopub.status.busy": "2021-09-10T14:14:36.661286Z",
     "iopub.status.idle": "2021-09-10T14:14:36.710999Z",
     "shell.execute_reply": "2021-09-10T14:14:36.710338Z",
     "shell.execute_reply.started": "2021-09-10T14:14:36.661556Z"
    },
    "tags": []
   },
   "outputs": [],
   "source": [
    "import argparse\n",
    "\n",
    "parser = argparse.ArgumentParser()\n",
    "parser.add_argument('--dim', type=int, default=256)\n",
    "parser.add_argument('--rnd_dim', type=int, default=32)\n",
    "parser.add_argument('--num_layers', type=int, default=3)\n",
    "parser.add_argument('--num_steps', type=int, default=10)\n",
    "parser.add_argument('--k', type=int, default=10)\n",
    "args = parser.parse_args(\"\")\n",
    "\n",
    "\n",
    "psi_1 = dgmc.models.RelCNN(zeta_data.data.x1.size(-1), args.dim, args.num_layers, batch_norm=False,\n",
    "               cat=True, lin=True, dropout=0.1)\n",
    "psi_2 = dgmc.models.RelCNN(args.rnd_dim, args.rnd_dim, args.num_layers, batch_norm=False,\n",
    "               cat=True, lin=True, dropout=0.0)\n",
    "\n",
    "psi_1\n",
    "#psi_2"
   ]
  },
  {
   "cell_type": "code",
   "execution_count": null,
   "metadata": {
    "execution": {
     "iopub.execute_input": "2021-09-10T14:14:36.712097Z",
     "iopub.status.busy": "2021-09-10T14:14:36.711766Z",
     "iopub.status.idle": "2021-09-10T14:14:36.738896Z",
     "shell.execute_reply": "2021-09-10T14:14:36.738089Z",
     "shell.execute_reply.started": "2021-09-10T14:14:36.712082Z"
    },
    "tags": []
   },
   "outputs": [],
   "source": [
    "model = dgmc.models.DGMC(psi_1, psi_2, num_steps=None, k=args.k).to(device)\n",
    "optimizer = torch.optim.Adam(model.parameters(), lr=0.0001)\n",
    "data = zeta_data.data\n",
    "\n",
    "def train():\n",
    "    model.train()\n",
    "    optimizer.zero_grad()\n",
    "\n",
    "    _, S_L = model(data.x1, data.edge_index1, None, None, data.x2,\n",
    "                   data.edge_index2, None, None, data.train_y)\n",
    "\n",
    "    loss = model.loss(S_L, data.train_y)\n",
    "    loss.backward()\n",
    "    optimizer.step()\n",
    "    return loss\n",
    "\n",
    "@torch.no_grad()\n",
    "def test():\n",
    "    model.eval()\n",
    "\n",
    "    _, S_L = model(data.x1, data.edge_index1, None, None, data.x2,\n",
    "                   data.edge_index2, None, None)\n",
    "\n",
    "    hits1 = model.acc(S_L, data.test_y)\n",
    "    hits10 = model.hits_at_k(10, S_L, data.test_y)\n",
    "\n",
    "    return hits1, hits10"
   ]
  },
  {
   "cell_type": "code",
   "execution_count": null,
   "metadata": {
    "execution": {
     "iopub.execute_input": "2021-09-10T14:14:37.125615Z",
     "iopub.status.busy": "2021-09-10T14:14:37.125102Z"
    },
    "tags": []
   },
   "outputs": [],
   "source": [
    "model.cuda()\n",
    "zeta_data.data.cuda()\n",
    "\n",
    "model.num_steps = 0\n",
    "with torch.profiler.profile(\n",
    "    schedule=torch.profiler.schedule(\n",
    "        wait=2,\n",
    "        warmup=2,\n",
    "        active=6,\n",
    "        repeat=1),\n",
    "    on_trace_ready=torch.profiler.tensorboard_trace_handler(\"./logs/gnn_v5\"),\n",
    "    with_stack=True\n",
    ") as profiler:\n",
    "    for epoch in range(1, 5000):\n",
    "        print(\"Epoch: {}\".format(epoch))\n",
    "        if epoch == 101:\n",
    "            print('Refine correspondence matrix...')\n",
    "            model.num_steps = args.num_steps\n",
    "            model.detach = True\n",
    "\n",
    "        loss = train()\n",
    "        profiler.step()\n",
    "        \n",
    "        if epoch % 5 == 0:\n",
    "            hits1, hits10 = test()\n",
    "            print((f\"{epoch:03d}: Loss: {loss:.4f}, Hits@1: {hits1:.4f}, \"\n",
    "               f\"Hits@10: {hits10:.4f}\"))"
   ]
  },
  {
   "cell_type": "raw",
   "metadata": {
    "execution": {
     "iopub.status.busy": "2021-09-09T14:42:14.653161Z",
     "iopub.status.idle": "2021-09-09T14:42:14.653355Z",
     "shell.execute_reply": "2021-09-09T14:42:14.653265Z",
     "shell.execute_reply.started": "2021-09-09T14:42:14.653255Z"
    },
    "jupyter": {
     "outputs_hidden": true
    },
    "tags": []
   },
   "source": [
    "print('Optimize initial feature matching...')\n",
    "model.num_steps = 0\n",
    "for epoch in range(1, 6):\n",
    "    if epoch == 3:\n",
    "        print('Refine correspondence matrix...')\n",
    "        model.num_steps = args.num_steps\n",
    "        model.detach = True\n",
    "\n",
    "    loss = train()\n",
    "\n",
    "    #if epoch % 10 == 0 or epoch > 100:\n",
    "    if True:\n",
    "        hits1, hits10 = test()\n",
    "        print((f'{epoch:03d}: Loss: {loss:.4f}, Hits@1: {hits1:.4f}, '\n",
    "               f'Hits@10: {hits10:.4f}'))"
   ]
  },
  {
   "cell_type": "code",
   "execution_count": null,
   "metadata": {},
   "outputs": [],
   "source": []
  }
 ],
 "metadata": {
  "kernelspec": {
   "display_name": "torch",
   "language": "python",
   "name": "torch"
  },
  "language_info": {
   "codemirror_mode": {
    "name": "ipython",
    "version": 3
   },
   "file_extension": ".py",
   "mimetype": "text/x-python",
   "name": "python",
   "nbconvert_exporter": "python",
   "pygments_lexer": "ipython3",
   "version": "3.9.5"
  }
 },
 "nbformat": 4,
 "nbformat_minor": 5
}
