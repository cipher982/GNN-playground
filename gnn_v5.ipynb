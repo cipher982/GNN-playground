{
 "cells": [
  {
   "cell_type": "code",
   "execution_count": 2,
   "id": "8c911de7-dedf-460b-96e6-14d214cbe4e1",
   "metadata": {
    "execution": {
     "iopub.execute_input": "2021-09-10T14:11:39.843642Z",
     "iopub.status.busy": "2021-09-10T14:11:39.843224Z",
     "iopub.status.idle": "2021-09-10T14:11:41.294569Z",
     "shell.execute_reply": "2021-09-10T14:11:41.293908Z",
     "shell.execute_reply.started": "2021-09-10T14:11:39.843622Z"
    },
    "tags": []
   },
   "outputs": [],
   "source": [
    "from typing import Optional, Callable, List, Dict, Tuple\n",
    "import os\n",
    "\n",
    "import dgmc\n",
    "import pandas as pd\n",
    "from sklearn.preprocessing import OneHotEncoder, LabelEncoder\n",
    "\n",
    "import torch\n",
    "from torch import Tensor\n",
    "import funcs\n",
    "import pytorch_lightning as pl\n",
    "from torch.nn import Linear\n",
    "from torch_geometric.nn import GCNConv\n",
    "from torch_geometric.data import Data\n",
    "import torch_geometric\n",
    "\n",
    "\n",
    "%reload_ext autoreload\n",
    "%autoreload 2\n",
    "\n",
    "device = 'cuda' if torch.cuda.is_available() else 'cpu'"
   ]
  },
  {
   "cell_type": "code",
   "execution_count": 3,
   "id": "832d50d4-851f-470b-b0dc-a7d3b8d324be",
   "metadata": {
    "execution": {
     "iopub.execute_input": "2021-09-10T14:11:41.295753Z",
     "iopub.status.busy": "2021-09-10T14:11:41.295473Z",
     "iopub.status.idle": "2021-09-10T14:11:48.143268Z",
     "shell.execute_reply": "2021-09-10T14:11:48.142686Z",
     "shell.execute_reply.started": "2021-09-10T14:11:41.295737Z"
    },
    "tags": []
   },
   "outputs": [
    {
     "name": "stdout",
     "output_type": "stream",
     "text": [
      "Shape: 1,000,000 Memory: 2.72GB\n"
     ]
    }
   ],
   "source": [
    "file_path = f\"s3://drose-sandbox/sizmek_zync_1m\"\n",
    "df_raw = pd.read_parquet(file_path)\n",
    "print(f\"Shape: {df_raw.shape[0]:,} Memory: {df_raw.memory_usage(deep=True).sum()/1e9:.2f}GB\")"
   ]
  },
  {
   "cell_type": "code",
   "execution_count": 4,
   "id": "aaf12700-b42f-4a12-9de4-89384494e815",
   "metadata": {
    "execution": {
     "iopub.execute_input": "2021-09-10T14:11:48.144325Z",
     "iopub.status.busy": "2021-09-10T14:11:48.143948Z",
     "iopub.status.idle": "2021-09-10T14:11:48.918573Z",
     "shell.execute_reply": "2021-09-10T14:11:48.917851Z",
     "shell.execute_reply.started": "2021-09-10T14:11:48.144309Z"
    },
    "tags": []
   },
   "outputs": [
    {
     "name": "stdout",
     "output_type": "stream",
     "text": [
      "(1000000, 12)\n",
      "(1000000, 12)\n",
      "(67894, 12)\n",
      "(8386, 12)\n"
     ]
    }
   ],
   "source": [
    "sizmek_cols = [\"account_id\", \"url\", \"city_code\",\n",
    "               \"state_code\", \"dma_code\", \"country_code\"]\n",
    "zync_cols = [\"session_id\", \"referrer\", \"client\", \"user_agent_platform\",\n",
    "             \"user_agent_language\", \"user_agent_browser\"]\n",
    "\n",
    "df = df_raw[sizmek_cols + zync_cols]\n",
    "print(df.shape)\n",
    "df = df[df[sizmek_cols + zync_cols].astype(bool)]  \n",
    "print(df.shape)\n",
    "df = df.dropna()\n",
    "print(df.shape)\n",
    "df = df.drop_duplicates()\n",
    "print(df.shape)\n",
    "df = df.reset_index(drop=True)\n",
    "\n",
    "group_list = [e for e in (sizmek_cols + zync_cols) if e not in (\"url\", \"referrer\")]\n",
    "df = df.groupby(group_list)[[\"url\", \"referrer\"]].agg(lambda x: list(x))\n",
    "df = df.reset_index()\n",
    "\n",
    "sizmek_df = df[sizmek_cols]\n",
    "zync_df = df[zync_cols]"
   ]
  },
  {
   "cell_type": "code",
   "execution_count": 5,
   "id": "b62b05c5-15d4-49a5-8de5-5d265bf77664",
   "metadata": {
    "execution": {
     "iopub.execute_input": "2021-09-10T14:11:48.919928Z",
     "iopub.status.busy": "2021-09-10T14:11:48.919383Z",
     "iopub.status.idle": "2021-09-10T14:11:48.949453Z",
     "shell.execute_reply": "2021-09-10T14:11:48.948727Z",
     "shell.execute_reply.started": "2021-09-10T14:11:48.919906Z"
    },
    "tags": []
   },
   "outputs": [
    {
     "data": {
      "text/html": [
       "<div>\n",
       "<style scoped>\n",
       "    .dataframe tbody tr th:only-of-type {\n",
       "        vertical-align: middle;\n",
       "    }\n",
       "\n",
       "    .dataframe tbody tr th {\n",
       "        vertical-align: top;\n",
       "    }\n",
       "\n",
       "    .dataframe thead th {\n",
       "        text-align: right;\n",
       "    }\n",
       "</style>\n",
       "<table border=\"1\" class=\"dataframe\">\n",
       "  <thead>\n",
       "    <tr style=\"text-align: right;\">\n",
       "      <th></th>\n",
       "      <th>account_id</th>\n",
       "      <th>url</th>\n",
       "      <th>city_code</th>\n",
       "      <th>state_code</th>\n",
       "      <th>dma_code</th>\n",
       "      <th>country_code</th>\n",
       "    </tr>\n",
       "  </thead>\n",
       "  <tbody>\n",
       "    <tr>\n",
       "      <th>0</th>\n",
       "      <td>19967</td>\n",
       "      <td>[milesquest.com, theroot.com, https://milesque...</td>\n",
       "      <td>4049979</td>\n",
       "      <td>AL</td>\n",
       "      <td>630</td>\n",
       "      <td>US</td>\n",
       "    </tr>\n",
       "    <tr>\n",
       "      <th>1</th>\n",
       "      <td>19967</td>\n",
       "      <td>[caninehq.com, https://caninehq.com/can-dogs-e...</td>\n",
       "      <td>4049979</td>\n",
       "      <td>AL</td>\n",
       "      <td>630</td>\n",
       "      <td>US</td>\n",
       "    </tr>\n",
       "    <tr>\n",
       "      <th>2</th>\n",
       "      <td>19967</td>\n",
       "      <td>[pagesix.com, cbssports.com, https://pagesix.c...</td>\n",
       "      <td>4049979</td>\n",
       "      <td>AL</td>\n",
       "      <td>630</td>\n",
       "      <td>US</td>\n",
       "    </tr>\n",
       "  </tbody>\n",
       "</table>\n",
       "</div>"
      ],
      "text/plain": [
       "   account_id                                                url city_code  \\\n",
       "0       19967  [milesquest.com, theroot.com, https://milesque...   4049979   \n",
       "1       19967  [caninehq.com, https://caninehq.com/can-dogs-e...   4049979   \n",
       "2       19967  [pagesix.com, cbssports.com, https://pagesix.c...   4049979   \n",
       "\n",
       "  state_code dma_code country_code  \n",
       "0         AL      630           US  \n",
       "1         AL      630           US  \n",
       "2         AL      630           US  "
      ]
     },
     "execution_count": 5,
     "metadata": {},
     "output_type": "execute_result"
    }
   ],
   "source": [
    "sizmek_df.head(3)"
   ]
  },
  {
   "cell_type": "code",
   "execution_count": 6,
   "id": "ac3883d3-ab56-4aab-9aaf-09816cb396c5",
   "metadata": {
    "execution": {
     "iopub.execute_input": "2021-09-10T14:11:48.950389Z",
     "iopub.status.busy": "2021-09-10T14:11:48.950243Z",
     "iopub.status.idle": "2021-09-10T14:11:48.977566Z",
     "shell.execute_reply": "2021-09-10T14:11:48.976963Z",
     "shell.execute_reply.started": "2021-09-10T14:11:48.950373Z"
    },
    "tags": []
   },
   "outputs": [
    {
     "data": {
      "text/html": [
       "<div>\n",
       "<style scoped>\n",
       "    .dataframe tbody tr th:only-of-type {\n",
       "        vertical-align: middle;\n",
       "    }\n",
       "\n",
       "    .dataframe tbody tr th {\n",
       "        vertical-align: top;\n",
       "    }\n",
       "\n",
       "    .dataframe thead th {\n",
       "        text-align: right;\n",
       "    }\n",
       "</style>\n",
       "<table border=\"1\" class=\"dataframe\">\n",
       "  <thead>\n",
       "    <tr style=\"text-align: right;\">\n",
       "      <th></th>\n",
       "      <th>session_id</th>\n",
       "      <th>referrer</th>\n",
       "      <th>client</th>\n",
       "      <th>user_agent_platform</th>\n",
       "      <th>user_agent_language</th>\n",
       "      <th>user_agent_browser</th>\n",
       "    </tr>\n",
       "  </thead>\n",
       "  <tbody>\n",
       "    <tr>\n",
       "      <th>0</th>\n",
       "      <td>1ca15a3a-fc41-466b-8ecc-2ad5f0997f80:162840229...</td>\n",
       "      <td>[https://d7b2b2ad4fc14f6b19acf619d54f1e63.safe...</td>\n",
       "      <td>sizmek</td>\n",
       "      <td>android</td>\n",
       "      <td>11</td>\n",
       "      <td>chrome</td>\n",
       "    </tr>\n",
       "    <tr>\n",
       "      <th>1</th>\n",
       "      <td>1cc3d46f-ea7e-400b-bf16-6462dbdf69de:1628096090.3</td>\n",
       "      <td>[https://www.yahoo.com/lifestyle/14-9-million-...</td>\n",
       "      <td>sizmek</td>\n",
       "      <td>android</td>\n",
       "      <td>11</td>\n",
       "      <td>chrome</td>\n",
       "    </tr>\n",
       "    <tr>\n",
       "      <th>2</th>\n",
       "      <td>6f41bed7-a384-4540-bcb9-65ed800e62e6:162524377...</td>\n",
       "      <td>[https://www.wyndhamhotels.com/, https://www.w...</td>\n",
       "      <td>sizmek</td>\n",
       "      <td>android</td>\n",
       "      <td>11</td>\n",
       "      <td>chrome</td>\n",
       "    </tr>\n",
       "  </tbody>\n",
       "</table>\n",
       "</div>"
      ],
      "text/plain": [
       "                                          session_id  \\\n",
       "0  1ca15a3a-fc41-466b-8ecc-2ad5f0997f80:162840229...   \n",
       "1  1cc3d46f-ea7e-400b-bf16-6462dbdf69de:1628096090.3   \n",
       "2  6f41bed7-a384-4540-bcb9-65ed800e62e6:162524377...   \n",
       "\n",
       "                                            referrer  client  \\\n",
       "0  [https://d7b2b2ad4fc14f6b19acf619d54f1e63.safe...  sizmek   \n",
       "1  [https://www.yahoo.com/lifestyle/14-9-million-...  sizmek   \n",
       "2  [https://www.wyndhamhotels.com/, https://www.w...  sizmek   \n",
       "\n",
       "  user_agent_platform user_agent_language user_agent_browser  \n",
       "0             android                  11             chrome  \n",
       "1             android                  11             chrome  \n",
       "2             android                  11             chrome  "
      ]
     },
     "execution_count": 6,
     "metadata": {},
     "output_type": "execute_result"
    }
   ],
   "source": [
    "zync_df.head(3)"
   ]
  },
  {
   "cell_type": "markdown",
   "id": "7f56d2e7-20fd-4f13-adc5-bd3a9d6989b3",
   "metadata": {},
   "source": [
    "# Make new edges"
   ]
  },
  {
   "cell_type": "code",
   "execution_count": 16,
   "id": "feb6e278-fc4c-4edd-954a-0f6a0736c0a9",
   "metadata": {
    "execution": {
     "iopub.execute_input": "2021-09-10T14:12:45.148148Z",
     "iopub.status.busy": "2021-09-10T14:12:45.147729Z",
     "iopub.status.idle": "2021-09-10T14:12:45.216434Z",
     "shell.execute_reply": "2021-09-10T14:12:45.215771Z",
     "shell.execute_reply.started": "2021-09-10T14:12:45.148128Z"
    },
    "tags": []
   },
   "outputs": [
    {
     "data": {
      "text/html": [
       "<div>\n",
       "<style scoped>\n",
       "    .dataframe tbody tr th:only-of-type {\n",
       "        vertical-align: middle;\n",
       "    }\n",
       "\n",
       "    .dataframe tbody tr th {\n",
       "        vertical-align: top;\n",
       "    }\n",
       "\n",
       "    .dataframe thead th {\n",
       "        text-align: right;\n",
       "    }\n",
       "</style>\n",
       "<table border=\"1\" class=\"dataframe\">\n",
       "  <thead>\n",
       "    <tr style=\"text-align: right;\">\n",
       "      <th></th>\n",
       "      <th>source</th>\n",
       "      <th>target</th>\n",
       "      <th>column</th>\n",
       "      <th>value</th>\n",
       "    </tr>\n",
       "  </thead>\n",
       "  <tbody>\n",
       "    <tr>\n",
       "      <th>1</th>\n",
       "      <td>0</td>\n",
       "      <td>398</td>\n",
       "      <td>url</td>\n",
       "      <td>milesquest.com</td>\n",
       "    </tr>\n",
       "    <tr>\n",
       "      <th>5</th>\n",
       "      <td>0</td>\n",
       "      <td>65</td>\n",
       "      <td>url</td>\n",
       "      <td>oo-syringe.com</td>\n",
       "    </tr>\n",
       "    <tr>\n",
       "      <th>7</th>\n",
       "      <td>0</td>\n",
       "      <td>88</td>\n",
       "      <td>url</td>\n",
       "      <td>newsweek.com</td>\n",
       "    </tr>\n",
       "    <tr>\n",
       "      <th>8</th>\n",
       "      <td>0</td>\n",
       "      <td>445</td>\n",
       "      <td>url</td>\n",
       "      <td>newsweek.com</td>\n",
       "    </tr>\n",
       "    <tr>\n",
       "      <th>12</th>\n",
       "      <td>1</td>\n",
       "      <td>4</td>\n",
       "      <td>url</td>\n",
       "      <td>yahoo.com</td>\n",
       "    </tr>\n",
       "    <tr>\n",
       "      <th>...</th>\n",
       "      <td>...</td>\n",
       "      <td>...</td>\n",
       "      <td>...</td>\n",
       "      <td>...</td>\n",
       "    </tr>\n",
       "    <tr>\n",
       "      <th>101164</th>\n",
       "      <td>1106</td>\n",
       "      <td>860</td>\n",
       "      <td>url</td>\n",
       "      <td>https://variety.com/2021/tv/news/mike-richards...</td>\n",
       "    </tr>\n",
       "    <tr>\n",
       "      <th>101165</th>\n",
       "      <td>1106</td>\n",
       "      <td>885</td>\n",
       "      <td>url</td>\n",
       "      <td>https://variety.com/2021/tv/news/mike-richards...</td>\n",
       "    </tr>\n",
       "    <tr>\n",
       "      <th>101166</th>\n",
       "      <td>1106</td>\n",
       "      <td>1029</td>\n",
       "      <td>url</td>\n",
       "      <td>https://variety.com/2021/tv/news/mike-richards...</td>\n",
       "    </tr>\n",
       "    <tr>\n",
       "      <th>101167</th>\n",
       "      <td>1106</td>\n",
       "      <td>1104</td>\n",
       "      <td>url</td>\n",
       "      <td>https://variety.com/2021/tv/news/mike-richards...</td>\n",
       "    </tr>\n",
       "    <tr>\n",
       "      <th>101206</th>\n",
       "      <td>1109</td>\n",
       "      <td>731</td>\n",
       "      <td>url</td>\n",
       "      <td>https://www.foxnews.com/entertainment/candace-...</td>\n",
       "    </tr>\n",
       "  </tbody>\n",
       "</table>\n",
       "<p>36962 rows × 4 columns</p>\n",
       "</div>"
      ],
      "text/plain": [
       "        source  target column  \\\n",
       "1            0     398    url   \n",
       "5            0      65    url   \n",
       "7            0      88    url   \n",
       "8            0     445    url   \n",
       "12           1       4    url   \n",
       "...        ...     ...    ...   \n",
       "101164    1106     860    url   \n",
       "101165    1106     885    url   \n",
       "101166    1106    1029    url   \n",
       "101167    1106    1104    url   \n",
       "101206    1109     731    url   \n",
       "\n",
       "                                                    value  \n",
       "1                                          milesquest.com  \n",
       "5                                          oo-syringe.com  \n",
       "7                                            newsweek.com  \n",
       "8                                            newsweek.com  \n",
       "12                                              yahoo.com  \n",
       "...                                                   ...  \n",
       "101164  https://variety.com/2021/tv/news/mike-richards...  \n",
       "101165  https://variety.com/2021/tv/news/mike-richards...  \n",
       "101166  https://variety.com/2021/tv/news/mike-richards...  \n",
       "101167  https://variety.com/2021/tv/news/mike-richards...  \n",
       "101206  https://www.foxnews.com/entertainment/candace-...  \n",
       "\n",
       "[36962 rows x 4 columns]"
      ]
     },
     "execution_count": 16,
     "metadata": {},
     "output_type": "execute_result"
    }
   ],
   "source": [
    "edge_list = funcs.connect_edges_2(sizmek_df, \"url\")\n",
    "edge_list = edge_list[edge_list['source'] != edge_list['target']]\n",
    "edge_list"
   ]
  },
  {
   "cell_type": "code",
   "execution_count": 24,
   "id": "65124950-7be0-4691-90be-2b0ad2fecbd4",
   "metadata": {
    "execution": {
     "iopub.execute_input": "2021-09-10T14:14:35.740681Z",
     "iopub.status.busy": "2021-09-10T14:14:35.740211Z",
     "iopub.status.idle": "2021-09-10T14:14:35.768255Z",
     "shell.execute_reply": "2021-09-10T14:14:35.767594Z",
     "shell.execute_reply.started": "2021-09-10T14:14:35.740661Z"
    },
    "tags": []
   },
   "outputs": [],
   "source": [
    "class ZetaDataset(torch_geometric.data.InMemoryDataset):\n",
    "    def __init__(self, root: str, sizmek_df: pd.DataFrame, zync_df: pd.DataFrame, column: str, \n",
    "                 label: str, feature_cols=None, parse_url=False, expand_x=None, transform=None, \n",
    "                 pre_transform=None\n",
    "        ):\n",
    "        self.root = root\n",
    "        self.sizmek_df = sizmek_df\n",
    "        self.zync_df = zync_df\n",
    "        self.column = column\n",
    "        self.label = label\n",
    "        self.feature_cols = feature_cols\n",
    "        self.parse_url = parse_url\n",
    "        self.expand_x = expand_x\n",
    "        super(ZetaDataset, self).__init__(root, transform, pre_transform)\n",
    "        self.data, self.slices = torch.load(self.processed_paths[0])\n",
    "        print(\"Removing processed file. . .\")\n",
    "        os.remove(self.processed_paths[0])\n",
    "\n",
    "    @property\n",
    "    def raw_file_names(self) -> List[str]:\n",
    "        return [\n",
    "            \"sizmek_bidstream_raw_20210625_10k.csv\", \n",
    "            \"zync_session_tracking_orc_20210625_10k.csv\"\n",
    "        ]\n",
    "\n",
    "    @property\n",
    "    def processed_file_names(self):\n",
    "        return [\"ZetaDataset.pt\"]\n",
    "    \n",
    "    @property\n",
    "    def edge_count_1(self):\n",
    "        return zeta_data.data.edge_index1.shape[1]\n",
    "    \n",
    "    @property\n",
    "    def edge_count_2(self):\n",
    "        return zeta_data.data.edge_index2.shape[1]\n",
    "\n",
    "    def download(self):\n",
    "        pass\n",
    "\n",
    "    def process(self):\n",
    "        x1, edge_index1 = self.process_graph(self.sizmek_df, self.column[0], self.feature_cols[\"sizmek\"])\n",
    "        x2, edge_index2 = self.process_graph(self.zync_df, self.column[1], self.feature_cols[\"zync\"], 715)\n",
    "\n",
    "        train_y = self.process_y()\n",
    "        test_y = self.process_y()\n",
    "\n",
    "        data = Data(x1=x1, edge_index1=edge_index1, x2=x2,\n",
    "                    edge_index2=edge_index2, train_y=train_y,\n",
    "                    test_y=test_y)\n",
    "        torch.save(self.collate([data]), self.processed_paths[0])\n",
    "\n",
    "    def process_graph(self, df, column: str, feature_cols: List, expand_x: int=None):\n",
    "        print(f\"Processing graph on {column}\")\n",
    "        #df = pd.read_csv(file_path, low_memory=False)\n",
    "        #df.columns = [i.split(\".\")[1] for i in df.columns]\n",
    "\n",
    "        # parse URLs\n",
    "        if self.parse_url == True and column in [\"url\", \"referrer\"]:\n",
    "            df[column] = df[column].apply(\n",
    "                lambda x:funcs.urlparse(x).netloc if pd.notnull(x) else x\n",
    "            )\n",
    "\n",
    "        # Encode features\n",
    "        feature_enc = OneHotEncoder(handle_unknown=\"ignore\")\n",
    "        features = pd.DataFrame(\n",
    "            feature_enc.fit_transform(df[feature_cols]).toarray(), \n",
    "            columns=feature_enc.get_feature_names(feature_cols)\n",
    "        )\n",
    "        if expand_x is not None:\n",
    "            print(f\"Expanding X to {expand_x}\")\n",
    "            new_cols = [f\"fake_{expand_x-i}\" for i in range(expand_x - features.shape[1])][::-1]\n",
    "            for col in new_cols:\n",
    "                features[col] = 0\n",
    "        x = torch.tensor(features.values, dtype=torch.float)\n",
    "        \n",
    "        #edges = funcs.connect_edges(df, column)\n",
    "        #edge_index = torch.tensor(\n",
    "        #    edges[['source','target']].T.values, dtype=torch.long\n",
    "        #)\n",
    "        \n",
    "        edges = funcs.connect_edges_2(df, column)\n",
    "        edge_index = torch.tensor(\n",
    "            edges[[\"source\", \"target\"]].T.values, dtype=torch.long\n",
    "        )\n",
    "\n",
    "        return x, edge_index\n",
    "\n",
    "    def process_y(self) -> Tensor:\n",
    "        y_1 = torch.tensor([range(0,1_000)])[0]\n",
    "        y_2 = torch.tensor([range(0,1_000)])[0]\n",
    "        train_y = torch.stack([y_1, y_2], dim=0)\n",
    "        return train_y\n",
    "    \n",
    "    def __repr__(self) -> str:\n",
    "        return f\"{self.__class__.__name__}({self.edge_count_1:,}/{self.edge_count_2:,} edges)\""
   ]
  },
  {
   "cell_type": "code",
   "execution_count": 25,
   "id": "e50140f6-7ae9-49de-88a6-7414fee2781c",
   "metadata": {
    "execution": {
     "iopub.execute_input": "2021-09-10T14:14:35.959486Z",
     "iopub.status.busy": "2021-09-10T14:14:35.959057Z",
     "iopub.status.idle": "2021-09-10T14:14:35.981644Z",
     "shell.execute_reply": "2021-09-10T14:14:35.980927Z",
     "shell.execute_reply.started": "2021-09-10T14:14:35.959470Z"
    },
    "tags": []
   },
   "outputs": [],
   "source": [
    "class SumEmbedding(object):\n",
    "    def __call__(self, data):\n",
    "        data.x1, data.x2 = data.x1.sum(dim=1), data.x2.sum(dim=1)\n",
    "        return data"
   ]
  },
  {
   "cell_type": "code",
   "execution_count": 26,
   "id": "ac86e9c8-9603-4c34-b193-63fd5c2f6674",
   "metadata": {
    "execution": {
     "iopub.execute_input": "2021-09-10T14:14:36.136353Z",
     "iopub.status.busy": "2021-09-10T14:14:36.135948Z",
     "iopub.status.idle": "2021-09-10T14:14:36.153366Z",
     "shell.execute_reply": "2021-09-10T14:14:36.152713Z",
     "shell.execute_reply.started": "2021-09-10T14:14:36.136337Z"
    },
    "tags": []
   },
   "outputs": [],
   "source": [
    "#sizmek_small = sizmek_df.sample(n=20_000, random_state=0)\n",
    "#zync_small = zync_df.iloc[sizmek_small.index,:]\n",
    "\n",
    "sizmek_small = sizmek_df.copy()\n",
    "zync_small = zync_df.copy()"
   ]
  },
  {
   "cell_type": "code",
   "execution_count": 27,
   "id": "0b74141a-fa41-4c10-9633-959fec9c3388",
   "metadata": {
    "execution": {
     "iopub.execute_input": "2021-09-10T14:14:36.293393Z",
     "iopub.status.busy": "2021-09-10T14:14:36.292891Z",
     "iopub.status.idle": "2021-09-10T14:14:36.660389Z",
     "shell.execute_reply": "2021-09-10T14:14:36.659774Z",
     "shell.execute_reply.started": "2021-09-10T14:14:36.293377Z"
    },
    "tags": []
   },
   "outputs": [
    {
     "name": "stdout",
     "output_type": "stream",
     "text": [
      "Processing...\n",
      "Processing graph on url\n",
      "Processing graph on referrer\n",
      "Expanding X to 715\n"
     ]
    },
    {
     "name": "stderr",
     "output_type": "stream",
     "text": [
      "/tmp/ipykernel_23610/3005345540.py:74: PerformanceWarning: DataFrame is highly fragmented.  This is usually the result of calling `frame.insert` many times, which has poor performance.  Consider using pd.concat instead.  To get a de-fragmented frame, use `newframe = frame.copy()`\n",
      "  features[col] = 0\n"
     ]
    },
    {
     "name": "stdout",
     "output_type": "stream",
     "text": [
      "Done!\n",
      "Removing processed file. . .\n"
     ]
    },
    {
     "data": {
      "text/plain": [
       "ZetaDataset(101,208/187,554 edges)"
      ]
     },
     "execution_count": 27,
     "metadata": {},
     "output_type": "execute_result"
    }
   ],
   "source": [
    "feature_cols = {\n",
    "    \"sizmek\": [\"account_id\", \"city_code\",\"state_code\", \"dma_code\", \"country_code\"],\n",
    "    \"zync\": [\"client\", \"user_agent_platform\",\"user_agent_language\", \"user_agent_browser\"]\n",
    "}\n",
    "\n",
    "zeta_data = ZetaDataset(\n",
    "    root=\"./data/\",\n",
    "    sizmek_df = sizmek_small,\n",
    "    zync_df = zync_small,\n",
    "    column=[\"url\", \"referrer\"],\n",
    "    label=[\"zeta_user_id\", \"client_id\"],\n",
    "    feature_cols=feature_cols,\n",
    "    parse_url=False,\n",
    "    transform=SumEmbedding()\n",
    ")\n",
    "zeta_data"
   ]
  },
  {
   "cell_type": "code",
   "execution_count": 28,
   "id": "96df15cd-ce79-46ba-9366-b4385665c33b",
   "metadata": {
    "execution": {
     "iopub.execute_input": "2021-09-10T14:14:36.661577Z",
     "iopub.status.busy": "2021-09-10T14:14:36.661286Z",
     "iopub.status.idle": "2021-09-10T14:14:36.710999Z",
     "shell.execute_reply": "2021-09-10T14:14:36.710338Z",
     "shell.execute_reply.started": "2021-09-10T14:14:36.661556Z"
    },
    "tags": []
   },
   "outputs": [
    {
     "data": {
      "text/plain": [
       "RelCNN(32, 32, num_layers=3, batch_norm=False, cat=True, lin=True, dropout=0.0)"
      ]
     },
     "execution_count": 28,
     "metadata": {},
     "output_type": "execute_result"
    }
   ],
   "source": [
    "import argparse\n",
    "\n",
    "parser = argparse.ArgumentParser()\n",
    "parser.add_argument('--dim', type=int, default=256)\n",
    "parser.add_argument('--rnd_dim', type=int, default=32)\n",
    "parser.add_argument('--num_layers', type=int, default=3)\n",
    "parser.add_argument('--num_steps', type=int, default=10)\n",
    "parser.add_argument('--k', type=int, default=10)\n",
    "args = parser.parse_args(\"\")\n",
    "\n",
    "\n",
    "psi_1 = dgmc.models.RelCNN(zeta_data.data.x1.size(-1), args.dim, args.num_layers, batch_norm=False,\n",
    "               cat=True, lin=True, dropout=0.5)\n",
    "psi_2 = dgmc.models.RelCNN(args.rnd_dim, args.rnd_dim, args.num_layers, batch_norm=False,\n",
    "               cat=True, lin=True, dropout=0.0)\n",
    "\n",
    "psi_1\n",
    "psi_2"
   ]
  },
  {
   "cell_type": "code",
   "execution_count": 29,
   "id": "01d79f80-2d5e-4231-81fd-a771b3ecc71b",
   "metadata": {
    "execution": {
     "iopub.execute_input": "2021-09-10T14:14:36.712097Z",
     "iopub.status.busy": "2021-09-10T14:14:36.711766Z",
     "iopub.status.idle": "2021-09-10T14:14:36.738896Z",
     "shell.execute_reply": "2021-09-10T14:14:36.738089Z",
     "shell.execute_reply.started": "2021-09-10T14:14:36.712082Z"
    },
    "tags": []
   },
   "outputs": [],
   "source": [
    "model = dgmc.models.DGMC(psi_1, psi_2, num_steps=None, k=args.k).to(device)\n",
    "optimizer = torch.optim.Adam(model.parameters(), lr=0.001)\n",
    "data = zeta_data.data\n",
    "\n",
    "def train():\n",
    "    model.train()\n",
    "    optimizer.zero_grad()\n",
    "\n",
    "    _, S_L = model(data.x1, data.edge_index1, None, None, data.x2,\n",
    "                   data.edge_index2, None, None, data.train_y)\n",
    "\n",
    "    loss = model.loss(S_L, data.train_y)\n",
    "    loss.backward()\n",
    "    optimizer.step()\n",
    "    return loss\n",
    "\n",
    "@torch.no_grad()\n",
    "def test():\n",
    "    model.eval()\n",
    "\n",
    "    _, S_L = model(data.x1, data.edge_index1, None, None, data.x2,\n",
    "                   data.edge_index2, None, None)\n",
    "\n",
    "    hits1 = model.acc(S_L, data.test_y)\n",
    "    hits10 = model.hits_at_k(10, S_L, data.test_y)\n",
    "\n",
    "    return hits1, hits10"
   ]
  },
  {
   "cell_type": "code",
   "execution_count": null,
   "id": "dd900aed-ab46-4813-953f-2e4931b022ed",
   "metadata": {
    "execution": {
     "iopub.execute_input": "2021-09-10T14:14:37.125615Z",
     "iopub.status.busy": "2021-09-10T14:14:37.125102Z"
    },
    "tags": []
   },
   "outputs": [
    {
     "name": "stdout",
     "output_type": "stream",
     "text": [
      "Epoch: 1\n",
      "Epoch: 2\n",
      "Epoch: 3\n",
      "Epoch: 4\n",
      "Epoch: 5\n",
      "005: Loss: 3.0029, Hits@1: 0.0060, Hits@10: 0.0270\n",
      "Epoch: 6\n",
      "Epoch: 7\n",
      "Epoch: 8\n",
      "Epoch: 9\n",
      "Epoch: 10\n",
      "010: Loss: 2.9946, Hits@1: 0.0080, Hits@10: 0.0370\n",
      "Epoch: 11\n",
      "Epoch: 12\n",
      "Epoch: 13\n",
      "Epoch: 14\n",
      "Epoch: 15\n",
      "015: Loss: 2.9889, Hits@1: 0.0050, Hits@10: 0.0420\n",
      "Epoch: 16\n",
      "Epoch: 17\n",
      "Epoch: 18\n",
      "Epoch: 19\n",
      "Epoch: 20\n",
      "020: Loss: 2.9803, Hits@1: 0.0040, Hits@10: 0.0400\n",
      "Epoch: 21\n",
      "Epoch: 22\n",
      "Epoch: 23\n",
      "Epoch: 24\n",
      "Epoch: 25\n",
      "025: Loss: 2.9652, Hits@1: 0.0030, Hits@10: 0.0380\n",
      "Epoch: 26\n",
      "Epoch: 27\n",
      "Epoch: 28\n",
      "Epoch: 29\n",
      "Epoch: 30\n",
      "030: Loss: 2.9380, Hits@1: 0.0020, Hits@10: 0.0350\n",
      "Epoch: 31\n",
      "Epoch: 32\n",
      "Epoch: 33\n",
      "Epoch: 34\n",
      "Epoch: 35\n",
      "035: Loss: 2.9101, Hits@1: 0.0040, Hits@10: 0.0410\n",
      "Epoch: 36\n",
      "Epoch: 37\n",
      "Epoch: 38\n",
      "Epoch: 39\n",
      "Epoch: 40\n",
      "040: Loss: 2.8735, Hits@1: 0.0080, Hits@10: 0.0480\n",
      "Epoch: 41\n",
      "Epoch: 42\n",
      "Epoch: 43\n",
      "Epoch: 44\n",
      "Epoch: 45\n",
      "045: Loss: 2.8401, Hits@1: 0.0080, Hits@10: 0.0460\n",
      "Epoch: 46\n",
      "Epoch: 47\n",
      "Epoch: 48\n",
      "Epoch: 49\n",
      "Epoch: 50\n",
      "050: Loss: 2.8246, Hits@1: 0.0100, Hits@10: 0.0560\n",
      "Epoch: 51\n",
      "Epoch: 52\n",
      "Epoch: 53\n",
      "Epoch: 54\n",
      "Epoch: 55\n",
      "055: Loss: 2.8003, Hits@1: 0.0100, Hits@10: 0.0480\n",
      "Epoch: 56\n",
      "Epoch: 57\n",
      "Epoch: 58\n",
      "Epoch: 59\n",
      "Epoch: 60\n",
      "060: Loss: 2.7848, Hits@1: 0.0110, Hits@10: 0.0520\n",
      "Epoch: 61\n",
      "Epoch: 62\n",
      "Epoch: 63\n",
      "Epoch: 64\n",
      "Epoch: 65\n",
      "065: Loss: 2.7768, Hits@1: 0.0140, Hits@10: 0.0720\n",
      "Epoch: 66\n",
      "Epoch: 67\n",
      "Epoch: 68\n",
      "Epoch: 69\n",
      "Epoch: 70\n",
      "070: Loss: 2.7635, Hits@1: 0.0040, Hits@10: 0.0500\n",
      "Epoch: 71\n",
      "Epoch: 72\n",
      "Epoch: 73\n"
     ]
    }
   ],
   "source": [
    "model.num_steps = 0\n",
    "with torch.profiler.profile(\n",
    "    schedule=torch.profiler.schedule(\n",
    "        wait=2,\n",
    "        warmup=2,\n",
    "        active=6,\n",
    "        repeat=1),\n",
    "    on_trace_ready=torch.profiler.tensorboard_trace_handler(\"./logs/gnn_v5\"),\n",
    "    with_stack=True\n",
    ") as profiler:\n",
    "    for epoch in range(1, 500):\n",
    "        print(\"Epoch: {}\".format(epoch))\n",
    "        loss = train()\n",
    "        profiler.step()\n",
    "        \n",
    "        if epoch % 5 == 0:\n",
    "            hits1, hits10 = test()\n",
    "            print((f\"{epoch:03d}: Loss: {loss:.4f}, Hits@1: {hits1:.4f}, \"\n",
    "               f\"Hits@10: {hits10:.4f}\"))"
   ]
  },
  {
   "cell_type": "code",
   "execution_count": null,
   "id": "3e27d8fc-e1ec-4648-bd2c-c06a6bcf1abf",
   "metadata": {
    "execution": {
     "iopub.status.busy": "2021-09-09T14:42:14.653161Z",
     "iopub.status.idle": "2021-09-09T14:42:14.653355Z",
     "shell.execute_reply": "2021-09-09T14:42:14.653265Z",
     "shell.execute_reply.started": "2021-09-09T14:42:14.653255Z"
    },
    "tags": []
   },
   "outputs": [],
   "source": [
    "print('Optimize initial feature matching...')\n",
    "model.num_steps = 0\n",
    "for epoch in range(1, 6):\n",
    "    if epoch == 3:\n",
    "        print('Refine correspondence matrix...')\n",
    "        model.num_steps = args.num_steps\n",
    "        model.detach = True\n",
    "\n",
    "    loss = train()\n",
    "\n",
    "    #if epoch % 10 == 0 or epoch > 100:\n",
    "    if True:\n",
    "        hits1, hits10 = test()\n",
    "        print((f'{epoch:03d}: Loss: {loss:.4f}, Hits@1: {hits1:.4f}, '\n",
    "               f'Hits@10: {hits10:.4f}'))"
   ]
  },
  {
   "cell_type": "code",
   "execution_count": null,
   "id": "bd60c78d-b161-414c-937e-efc783657ca4",
   "metadata": {},
   "outputs": [],
   "source": []
  }
 ],
 "metadata": {
  "kernelspec": {
   "display_name": "Python 3",
   "language": "python",
   "name": "python3"
  },
  "language_info": {
   "codemirror_mode": {
    "name": "ipython",
    "version": 3
   },
   "file_extension": ".py",
   "mimetype": "text/x-python",
   "name": "python",
   "nbconvert_exporter": "python",
   "pygments_lexer": "ipython3",
   "version": "3.8.3"
  }
 },
 "nbformat": 4,
 "nbformat_minor": 5
}
