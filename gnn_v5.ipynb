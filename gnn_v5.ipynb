{
 "cells": [
  {
   "cell_type": "code",
   "execution_count": 1,
   "id": "8c911de7-dedf-460b-96e6-14d214cbe4e1",
   "metadata": {
    "execution": {
     "iopub.execute_input": "2021-09-08T19:02:23.693693Z",
     "iopub.status.busy": "2021-09-08T19:02:23.693181Z",
     "iopub.status.idle": "2021-09-08T19:02:25.138258Z",
     "shell.execute_reply": "2021-09-08T19:02:25.137619Z",
     "shell.execute_reply.started": "2021-09-08T19:02:23.693640Z"
    },
    "tags": []
   },
   "outputs": [],
   "source": [
    "from typing import Optional, Callable, List, Dict, Tuple\n",
    "import os\n",
    "\n",
    "import dgmc\n",
    "import pandas as pd\n",
    "from sklearn.preprocessing import OneHotEncoder, LabelEncoder\n",
    "\n",
    "import torch\n",
    "from torch import Tensor\n",
    "import funcs\n",
    "import pytorch_lightning as pl\n",
    "from torch.nn import Linear\n",
    "from torch_geometric.nn import GCNConv\n",
    "from torch_geometric.data import Data\n",
    "import torch_geometric\n",
    "\n",
    "\n",
    "%reload_ext autoreload\n",
    "%autoreload 2\n",
    "\n",
    "device = 'cuda' if torch.cuda.is_available() else 'cpu'"
   ]
  },
  {
   "cell_type": "code",
   "execution_count": 2,
   "id": "832d50d4-851f-470b-b0dc-a7d3b8d324be",
   "metadata": {
    "execution": {
     "iopub.execute_input": "2021-09-08T19:02:25.139400Z",
     "iopub.status.busy": "2021-09-08T19:02:25.139110Z",
     "iopub.status.idle": "2021-09-08T19:02:31.864284Z",
     "shell.execute_reply": "2021-09-08T19:02:31.863630Z",
     "shell.execute_reply.started": "2021-09-08T19:02:25.139385Z"
    },
    "tags": []
   },
   "outputs": [
    {
     "name": "stdout",
     "output_type": "stream",
     "text": [
      "Shape: 1,000,000 Memory: 2.72GB\n"
     ]
    }
   ],
   "source": [
    "file_path = f\"s3://drose-sandbox/sizmek_zync_1m\"\n",
    "df = pd.read_parquet(file_path)\n",
    "print(f\"Shape: {df.shape[0]:,} Memory: {df.memory_usage(deep=True).sum()/1e9:.2f}GB\")"
   ]
  },
  {
   "cell_type": "code",
   "execution_count": 3,
   "id": "aaf12700-b42f-4a12-9de4-89384494e815",
   "metadata": {
    "execution": {
     "iopub.execute_input": "2021-09-08T19:02:31.865398Z",
     "iopub.status.busy": "2021-09-08T19:02:31.865239Z",
     "iopub.status.idle": "2021-09-08T19:02:31.962905Z",
     "shell.execute_reply": "2021-09-08T19:02:31.962107Z",
     "shell.execute_reply.started": "2021-09-08T19:02:31.865382Z"
    },
    "tags": []
   },
   "outputs": [],
   "source": [
    "sizmek_cols = [\"account_id\", \"url\", \"referrer_url\", \"city_code\",\n",
    "               \"state_code\", \"dma_code\", \"country_code\"]\n",
    "zync_cols = [\"session_id\", \"referrer\", \"client\", \"user_agent_platform\",\n",
    "             \"user_agent_language\", \"user_agent_browser\"]\n",
    "\n",
    "sizmek_df = df[sizmek_cols]\n",
    "zync_df = df[zync_cols]"
   ]
  },
  {
   "cell_type": "code",
   "execution_count": 4,
   "id": "b62b05c5-15d4-49a5-8de5-5d265bf77664",
   "metadata": {
    "execution": {
     "iopub.execute_input": "2021-09-08T19:02:31.964436Z",
     "iopub.status.busy": "2021-09-08T19:02:31.964062Z",
     "iopub.status.idle": "2021-09-08T19:02:31.989409Z",
     "shell.execute_reply": "2021-09-08T19:02:31.988750Z",
     "shell.execute_reply.started": "2021-09-08T19:02:31.964418Z"
    },
    "tags": []
   },
   "outputs": [
    {
     "data": {
      "text/html": [
       "<div>\n",
       "<style scoped>\n",
       "    .dataframe tbody tr th:only-of-type {\n",
       "        vertical-align: middle;\n",
       "    }\n",
       "\n",
       "    .dataframe tbody tr th {\n",
       "        vertical-align: top;\n",
       "    }\n",
       "\n",
       "    .dataframe thead th {\n",
       "        text-align: right;\n",
       "    }\n",
       "</style>\n",
       "<table border=\"1\" class=\"dataframe\">\n",
       "  <thead>\n",
       "    <tr style=\"text-align: right;\">\n",
       "      <th></th>\n",
       "      <th>account_id</th>\n",
       "      <th>url</th>\n",
       "      <th>referrer_url</th>\n",
       "      <th>city_code</th>\n",
       "      <th>state_code</th>\n",
       "      <th>dma_code</th>\n",
       "      <th>country_code</th>\n",
       "    </tr>\n",
       "  </thead>\n",
       "  <tbody>\n",
       "    <tr>\n",
       "      <th>0</th>\n",
       "      <td>19967</td>\n",
       "      <td>windstream.net</td>\n",
       "      <td></td>\n",
       "      <td>5072006</td>\n",
       "      <td>NE</td>\n",
       "      <td>722</td>\n",
       "      <td>US</td>\n",
       "    </tr>\n",
       "    <tr>\n",
       "      <th>1</th>\n",
       "      <td>19967</td>\n",
       "      <td>windstream.net</td>\n",
       "      <td></td>\n",
       "      <td>5072006</td>\n",
       "      <td>NE</td>\n",
       "      <td>722</td>\n",
       "      <td>US</td>\n",
       "    </tr>\n",
       "    <tr>\n",
       "      <th>2</th>\n",
       "      <td>35927</td>\n",
       "      <td>https://www.windstream.net/?inc=1176</td>\n",
       "      <td>https://www.windstream.net/?inc=1175</td>\n",
       "      <td>5072006</td>\n",
       "      <td>NE</td>\n",
       "      <td>722</td>\n",
       "      <td>US</td>\n",
       "    </tr>\n",
       "  </tbody>\n",
       "</table>\n",
       "</div>"
      ],
      "text/plain": [
       "   account_id                                   url  \\\n",
       "0       19967                        windstream.net   \n",
       "1       19967                        windstream.net   \n",
       "2       35927  https://www.windstream.net/?inc=1176   \n",
       "\n",
       "                           referrer_url city_code state_code dma_code  \\\n",
       "0                                         5072006         NE      722   \n",
       "1                                         5072006         NE      722   \n",
       "2  https://www.windstream.net/?inc=1175   5072006         NE      722   \n",
       "\n",
       "  country_code  \n",
       "0           US  \n",
       "1           US  \n",
       "2           US  "
      ]
     },
     "execution_count": 4,
     "metadata": {},
     "output_type": "execute_result"
    }
   ],
   "source": [
    "sizmek_df.head(3)"
   ]
  },
  {
   "cell_type": "code",
   "execution_count": 5,
   "id": "ac3883d3-ab56-4aab-9aaf-09816cb396c5",
   "metadata": {
    "execution": {
     "iopub.execute_input": "2021-09-08T19:02:31.990549Z",
     "iopub.status.busy": "2021-09-08T19:02:31.990099Z",
     "iopub.status.idle": "2021-09-08T19:02:32.018736Z",
     "shell.execute_reply": "2021-09-08T19:02:32.018005Z",
     "shell.execute_reply.started": "2021-09-08T19:02:31.990533Z"
    },
    "tags": []
   },
   "outputs": [
    {
     "data": {
      "text/html": [
       "<div>\n",
       "<style scoped>\n",
       "    .dataframe tbody tr th:only-of-type {\n",
       "        vertical-align: middle;\n",
       "    }\n",
       "\n",
       "    .dataframe tbody tr th {\n",
       "        vertical-align: top;\n",
       "    }\n",
       "\n",
       "    .dataframe thead th {\n",
       "        text-align: right;\n",
       "    }\n",
       "</style>\n",
       "<table border=\"1\" class=\"dataframe\">\n",
       "  <thead>\n",
       "    <tr style=\"text-align: right;\">\n",
       "      <th></th>\n",
       "      <th>session_id</th>\n",
       "      <th>referrer</th>\n",
       "      <th>client</th>\n",
       "      <th>user_agent_platform</th>\n",
       "      <th>user_agent_language</th>\n",
       "      <th>user_agent_browser</th>\n",
       "    </tr>\n",
       "  </thead>\n",
       "  <tbody>\n",
       "    <tr>\n",
       "      <th>0</th>\n",
       "      <td>31b423df-5602-4ccc-8983-6c7ab6f65e99:162431114...</td>\n",
       "      <td>https://www.windstream.net/?inc=532</td>\n",
       "      <td>sizmek</td>\n",
       "      <td>windows</td>\n",
       "      <td>None</td>\n",
       "      <td>chrome</td>\n",
       "    </tr>\n",
       "    <tr>\n",
       "      <th>1</th>\n",
       "      <td>31b423df-5602-4ccc-8983-6c7ab6f65e99:162431114...</td>\n",
       "      <td>https://www.windstream.net/?inc=532</td>\n",
       "      <td>sizmek</td>\n",
       "      <td>windows</td>\n",
       "      <td>None</td>\n",
       "      <td>chrome</td>\n",
       "    </tr>\n",
       "    <tr>\n",
       "      <th>2</th>\n",
       "      <td>31b423df-5602-4ccc-8983-6c7ab6f65e99:162431114...</td>\n",
       "      <td>https://www.windstream.net/?inc=532</td>\n",
       "      <td>sizmek</td>\n",
       "      <td>windows</td>\n",
       "      <td>None</td>\n",
       "      <td>chrome</td>\n",
       "    </tr>\n",
       "  </tbody>\n",
       "</table>\n",
       "</div>"
      ],
      "text/plain": [
       "                                          session_id  \\\n",
       "0  31b423df-5602-4ccc-8983-6c7ab6f65e99:162431114...   \n",
       "1  31b423df-5602-4ccc-8983-6c7ab6f65e99:162431114...   \n",
       "2  31b423df-5602-4ccc-8983-6c7ab6f65e99:162431114...   \n",
       "\n",
       "                              referrer  client user_agent_platform  \\\n",
       "0  https://www.windstream.net/?inc=532  sizmek             windows   \n",
       "1  https://www.windstream.net/?inc=532  sizmek             windows   \n",
       "2  https://www.windstream.net/?inc=532  sizmek             windows   \n",
       "\n",
       "  user_agent_language user_agent_browser  \n",
       "0                None             chrome  \n",
       "1                None             chrome  \n",
       "2                None             chrome  "
      ]
     },
     "execution_count": 5,
     "metadata": {},
     "output_type": "execute_result"
    }
   ],
   "source": [
    "zync_df.head(3)"
   ]
  },
  {
   "cell_type": "code",
   "execution_count": 23,
   "id": "65124950-7be0-4691-90be-2b0ad2fecbd4",
   "metadata": {
    "execution": {
     "iopub.execute_input": "2021-09-08T19:04:41.281650Z",
     "iopub.status.busy": "2021-09-08T19:04:41.281493Z",
     "iopub.status.idle": "2021-09-08T19:04:41.305430Z",
     "shell.execute_reply": "2021-09-08T19:04:41.304798Z",
     "shell.execute_reply.started": "2021-09-08T19:04:41.281634Z"
    },
    "tags": []
   },
   "outputs": [],
   "source": [
    "class ZetaDataset(torch_geometric.data.InMemoryDataset):\n",
    "    def __init__(self, root: str, sizmek_df: pd.DataFrame, zync_df: pd.DataFrame, column: str, \n",
    "                 label: str, feature_cols=None, parse_url=False, expand_x=None, transform=None, \n",
    "                 pre_transform=None\n",
    "        ):\n",
    "        self.root = root\n",
    "        self.sizmek_df = sizmek_df\n",
    "        self.zync_df = zync_df\n",
    "        self.column = column\n",
    "        self.label = label\n",
    "        self.feature_cols = feature_cols\n",
    "        self.parse_url = parse_url\n",
    "        self.expand_x = expand_x\n",
    "        super(ZetaDataset, self).__init__(root, transform, pre_transform)\n",
    "        self.data, self.slices = torch.load(self.processed_paths[0])\n",
    "        print(\"Removing processed file. . .\")\n",
    "        os.remove(self.processed_paths[0])\n",
    "\n",
    "    @property\n",
    "    def raw_file_names(self) -> List[str]:\n",
    "        return [\n",
    "            \"sizmek_bidstream_raw_20210625_10k.csv\", \n",
    "            \"zync_session_tracking_orc_20210625_10k.csv\"\n",
    "        ]\n",
    "\n",
    "    @property\n",
    "    def processed_file_names(self):\n",
    "        return [\"ZetaDataset.pt\"]\n",
    "\n",
    "    def download(self):\n",
    "        pass\n",
    "\n",
    "    def process(self):\n",
    "        x1, edge_index1 = self.process_graph(self.sizmek_df, self.column[0], self.feature_cols[\"sizmek\"])\n",
    "        x2, edge_index2 = self.process_graph(self.zync_df, self.column[1], self.feature_cols[\"zync\"], 976)\n",
    "\n",
    "        train_y = self.process_y()\n",
    "        test_y = self.process_y()\n",
    "\n",
    "        data = Data(x1=x1, edge_index1=edge_index1, x2=x2,\n",
    "                    edge_index2=edge_index2, train_y=train_y,\n",
    "                    test_y=test_y)\n",
    "        torch.save(self.collate([data]), self.processed_paths[0])\n",
    "\n",
    "    def process_graph(self, df, column: str, feature_cols: List, expand_x: int=None):\n",
    "        print(f\"Processing graph on {column}\")\n",
    "        #df = pd.read_csv(file_path, low_memory=False)\n",
    "        #df.columns = [i.split(\".\")[1] for i in df.columns]\n",
    "\n",
    "        # parse URLs\n",
    "        if self.parse_url == True and column in [\"url\", \"referrer\"]:\n",
    "            df[column] = df[column].apply(\n",
    "                lambda x:urlparse(x).netloc if pd.notnull(x) else x\n",
    "            )\n",
    "\n",
    "        # Encode features\n",
    "        feature_enc = OneHotEncoder(handle_unknown=\"ignore\")\n",
    "        features = pd.DataFrame(\n",
    "            feature_enc.fit_transform(df[feature_cols]).toarray(), \n",
    "            columns=feature_enc.get_feature_names(feature_cols)\n",
    "        )\n",
    "        if expand_x is not None:\n",
    "            print(f\"Expanding X to {expand_x}\")\n",
    "            new_cols = [f\"fake_{expand_x-i}\" for i in range(expand_x - features.shape[1])][::-1]\n",
    "            for col in new_cols:\n",
    "                features[col] = 0\n",
    "        x = torch.tensor(features.values, dtype=torch.float)\n",
    "        \n",
    "        edges = funcs.connect_edges(df, column)\n",
    "        edge_index = torch.tensor(\n",
    "            edges[['source','target']].T.values, dtype=torch.long\n",
    "        )\n",
    "\n",
    "        return x, edge_index\n",
    "\n",
    "    def process_y(self) -> Tensor:\n",
    "        y_1 = torch.tensor([range(0,2000)])[0]\n",
    "        y_2 = torch.tensor([range(0,2000)])[0]\n",
    "        train_y = torch.stack([y_1, y_2], dim=0)\n",
    "        return train_y\n",
    "    \n",
    "    def __repr__(self) -> str:\n",
    "        return f\"{self.__class__.__name__}(sizmek/zync)\""
   ]
  },
  {
   "cell_type": "code",
   "execution_count": 24,
   "id": "e50140f6-7ae9-49de-88a6-7414fee2781c",
   "metadata": {
    "execution": {
     "iopub.execute_input": "2021-09-08T19:04:41.764642Z",
     "iopub.status.busy": "2021-09-08T19:04:41.764148Z",
     "iopub.status.idle": "2021-09-08T19:04:41.786175Z",
     "shell.execute_reply": "2021-09-08T19:04:41.785530Z",
     "shell.execute_reply.started": "2021-09-08T19:04:41.764625Z"
    },
    "tags": []
   },
   "outputs": [],
   "source": [
    "class SumEmbedding(object):\n",
    "    def __call__(self, data):\n",
    "        data.x1, data.x2 = data.x1.sum(dim=1), data.x2.sum(dim=1)\n",
    "        return data"
   ]
  },
  {
   "cell_type": "code",
   "execution_count": 25,
   "id": "ac86e9c8-9603-4c34-b193-63fd5c2f6674",
   "metadata": {
    "execution": {
     "iopub.execute_input": "2021-09-08T19:04:41.974484Z",
     "iopub.status.busy": "2021-09-08T19:04:41.974013Z",
     "iopub.status.idle": "2021-09-08T19:04:42.014710Z",
     "shell.execute_reply": "2021-09-08T19:04:42.014111Z",
     "shell.execute_reply.started": "2021-09-08T19:04:41.974469Z"
    },
    "tags": []
   },
   "outputs": [],
   "source": [
    "sizmek_small = sizmek_df.sample(n=5_000, random_state=0)\n",
    "zync_small = zync_df.iloc[sizmek_small.index,:]"
   ]
  },
  {
   "cell_type": "code",
   "execution_count": 26,
   "id": "0b74141a-fa41-4c10-9633-959fec9c3388",
   "metadata": {
    "execution": {
     "iopub.execute_input": "2021-09-08T19:04:42.133006Z",
     "iopub.status.busy": "2021-09-08T19:04:42.132535Z",
     "iopub.status.idle": "2021-09-08T19:04:43.147146Z",
     "shell.execute_reply": "2021-09-08T19:04:43.146585Z",
     "shell.execute_reply.started": "2021-09-08T19:04:42.132990Z"
    },
    "tags": []
   },
   "outputs": [
    {
     "name": "stdout",
     "output_type": "stream",
     "text": [
      "Processing...\n",
      "Processing graph on url\n",
      "Create dict for url\n",
      "Processing graph on referrer\n",
      "Expanding X to 976\n"
     ]
    },
    {
     "name": "stderr",
     "output_type": "stream",
     "text": [
      "/tmp/ipykernel_1549/1613211072.py:66: PerformanceWarning: DataFrame is highly fragmented.  This is usually the result of calling `frame.insert` many times, which has poor performance.  Consider using pd.concat instead.  To get a de-fragmented frame, use `newframe = frame.copy()`\n",
      "  features[col] = 0\n"
     ]
    },
    {
     "name": "stdout",
     "output_type": "stream",
     "text": [
      "Create dict for referrer\n",
      "Done!\n",
      "Removing processed file. . .\n"
     ]
    },
    {
     "data": {
      "text/plain": [
       "ZetaDataset(sizmek/zync)"
      ]
     },
     "execution_count": 26,
     "metadata": {},
     "output_type": "execute_result"
    }
   ],
   "source": [
    "feature_cols = {\n",
    "    \"sizmek\": [\"account_id\", \"referrer_url\", \"city_code\",\"state_code\", \"dma_code\", \"country_code\"],\n",
    "    \"zync\": [\"client\", \"user_agent_platform\",\"user_agent_language\", \"user_agent_browser\"]\n",
    "}\n",
    "\n",
    "zeta_data = ZetaDataset(\n",
    "    root=\"./data/\",\n",
    "    sizmek_df = sizmek_small,\n",
    "    zync_df = zync_small,\n",
    "    column=[\"url\", \"referrer\"],\n",
    "    label=[\"zeta_user_id\", \"client_id\"],\n",
    "    feature_cols=feature_cols,\n",
    "    parse_url=False,\n",
    "    transform=SumEmbedding()\n",
    ")\n",
    "zeta_data"
   ]
  },
  {
   "cell_type": "code",
   "execution_count": 27,
   "id": "96df15cd-ce79-46ba-9366-b4385665c33b",
   "metadata": {
    "execution": {
     "iopub.execute_input": "2021-09-08T19:04:43.148351Z",
     "iopub.status.busy": "2021-09-08T19:04:43.147994Z",
     "iopub.status.idle": "2021-09-08T19:04:43.192339Z",
     "shell.execute_reply": "2021-09-08T19:04:43.191735Z",
     "shell.execute_reply.started": "2021-09-08T19:04:43.148334Z"
    },
    "tags": []
   },
   "outputs": [
    {
     "data": {
      "text/plain": [
       "RelCNN(976, 256, num_layers=3, batch_norm=False, cat=True, lin=True, dropout=0.5)"
      ]
     },
     "execution_count": 27,
     "metadata": {},
     "output_type": "execute_result"
    }
   ],
   "source": [
    "import argparse\n",
    "\n",
    "parser = argparse.ArgumentParser()\n",
    "parser.add_argument('--dim', type=int, default=256)\n",
    "parser.add_argument('--rnd_dim', type=int, default=32)\n",
    "parser.add_argument('--num_layers', type=int, default=3)\n",
    "parser.add_argument('--num_steps', type=int, default=10)\n",
    "parser.add_argument('--k', type=int, default=10)\n",
    "args = parser.parse_args(\"\")\n",
    "\n",
    "\n",
    "psi_1 = dgmc.models.RelCNN(zeta_data.data.x1.size(-1), args.dim, args.num_layers, batch_norm=False,\n",
    "               cat=True, lin=True, dropout=0.5)\n",
    "psi_2 = dgmc.models.RelCNN(args.rnd_dim, args.rnd_dim, args.num_layers, batch_norm=False,\n",
    "               cat=True, lin=True, dropout=0.0)\n",
    "\n",
    "psi_1"
   ]
  },
  {
   "cell_type": "code",
   "execution_count": 30,
   "id": "01d79f80-2d5e-4231-81fd-a771b3ecc71b",
   "metadata": {
    "execution": {
     "iopub.execute_input": "2021-09-08T19:55:11.905717Z",
     "iopub.status.busy": "2021-09-08T19:55:11.905219Z",
     "iopub.status.idle": "2021-09-08T19:55:11.931887Z",
     "shell.execute_reply": "2021-09-08T19:55:11.931151Z",
     "shell.execute_reply.started": "2021-09-08T19:55:11.905697Z"
    },
    "tags": []
   },
   "outputs": [],
   "source": [
    "model = dgmc.models.DGMC(psi_1, psi_2, num_steps=None, k=args.k).to(device)\n",
    "optimizer = torch.optim.Adam(model.parameters(), lr=0.001)\n",
    "data = zeta_data.data\n",
    "\n",
    "def train():\n",
    "    model.train()\n",
    "    optimizer.zero_grad()\n",
    "\n",
    "    _, S_L = model(data.x1, data.edge_index1, None, None, data.x2,\n",
    "                   data.edge_index2, None, None, data.train_y)\n",
    "\n",
    "    loss = model.loss(S_L, data.train_y)\n",
    "    loss.backward()\n",
    "    optimizer.step()\n",
    "    return loss\n",
    "\n",
    "@torch.no_grad()\n",
    "def test():\n",
    "    model.eval()\n",
    "\n",
    "    _, S_L = model(data.x1, data.edge_index1, None, None, data.x2,\n",
    "                   data.edge_index2, None, None)\n",
    "\n",
    "    hits1 = model.acc(S_L, data.test_y)\n",
    "    hits10 = model.hits_at_k(10, S_L, data.test_y)\n",
    "\n",
    "    return hits1, hits10"
   ]
  },
  {
   "cell_type": "code",
   "execution_count": null,
   "id": "dd900aed-ab46-4813-953f-2e4931b022ed",
   "metadata": {
    "execution": {
     "iopub.execute_input": "2021-09-08T20:22:56.445339Z",
     "iopub.status.busy": "2021-09-08T20:22:56.444822Z"
    },
    "tags": []
   },
   "outputs": [
    {
     "name": "stdout",
     "output_type": "stream",
     "text": [
      "step:1\n",
      "S: torch.Size([5000, 976]), torch.Size([2, 1118134])\n",
      "T: torch.Size([5000, 976]), torch.Size([2, 431140])\n",
      "step:2\n",
      "S: torch.Size([5000, 976]), torch.Size([2, 1118134])\n",
      "T: torch.Size([5000, 976]), torch.Size([2, 431140])\n",
      "step:3\n",
      "S: torch.Size([5000, 976]), torch.Size([2, 1118134])\n",
      "T: torch.Size([5000, 976]), torch.Size([2, 431140])\n",
      "step:4\n",
      "S: torch.Size([5000, 976]), torch.Size([2, 1118134])\n",
      "T: torch.Size([5000, 976]), torch.Size([2, 431140])\n",
      "step:5\n",
      "S: torch.Size([5000, 976]), torch.Size([2, 1118134])\n",
      "T: torch.Size([5000, 976]), torch.Size([2, 431140])\n",
      "S: torch.Size([5000, 976]), torch.Size([2, 1118134])\n",
      "T: torch.Size([5000, 976]), torch.Size([2, 431140])\n",
      "005: Loss: 2.8638, Hits@1: 0.0035, Hits@10: 0.0420\n",
      "step:6\n",
      "S: torch.Size([5000, 976]), torch.Size([2, 1118134])\n",
      "T: torch.Size([5000, 976]), torch.Size([2, 431140])\n",
      "step:7\n",
      "S: torch.Size([5000, 976]), torch.Size([2, 1118134])\n",
      "T: torch.Size([5000, 976]), torch.Size([2, 431140])\n",
      "step:8\n",
      "S: torch.Size([5000, 976]), torch.Size([2, 1118134])\n",
      "T: torch.Size([5000, 976]), torch.Size([2, 431140])\n"
     ]
    }
   ],
   "source": [
    "model.num_steps = 0\n",
    "with torch.profiler.profile(\n",
    "    schedule=torch.profiler.schedule(\n",
    "        wait=2,\n",
    "        warmup=2,\n",
    "        active=6,\n",
    "        repeat=1),\n",
    "    on_trace_ready=torch.profiler.tensorboard_trace_handler(\"./logs/gnn_v5\"),\n",
    "    with_stack=True\n",
    ") as profiler:\n",
    "    for epoch in range(1, 500):\n",
    "        print(\"step:{}\".format(epoch))\n",
    "        loss = train()\n",
    "        profiler.step()\n",
    "        \n",
    "        if epoch % 5 == 0:\n",
    "            hits1, hits10 = test()\n",
    "            print((f\"{epoch:03d}: Loss: {loss:.4f}, Hits@1: {hits1:.4f}, \"\n",
    "               f\"Hits@10: {hits10:.4f}\"))"
   ]
  },
  {
   "cell_type": "code",
   "execution_count": 29,
   "id": "3e27d8fc-e1ec-4648-bd2c-c06a6bcf1abf",
   "metadata": {
    "execution": {
     "iopub.execute_input": "2021-09-08T19:04:43.644401Z",
     "iopub.status.busy": "2021-09-08T19:04:43.643711Z",
     "iopub.status.idle": "2021-09-08T19:12:27.645545Z",
     "shell.execute_reply": "2021-09-08T19:12:27.644966Z",
     "shell.execute_reply.started": "2021-09-08T19:04:43.644343Z"
    },
    "tags": []
   },
   "outputs": [
    {
     "name": "stdout",
     "output_type": "stream",
     "text": [
      "Optimize initial feature matching...\n",
      "S: torch.Size([5000, 976]), torch.Size([2, 1118134])\n",
      "T: torch.Size([5000, 976]), torch.Size([2, 431140])\n",
      "S: torch.Size([5000, 976]), torch.Size([2, 1118134])\n",
      "T: torch.Size([5000, 976]), torch.Size([2, 431140])\n",
      "001: Loss: 3.0431, Hits@1: 0.0010, Hits@10: 0.0095\n",
      "S: torch.Size([5000, 976]), torch.Size([2, 1118134])\n",
      "T: torch.Size([5000, 976]), torch.Size([2, 431140])\n",
      "S: torch.Size([5000, 976]), torch.Size([2, 1118134])\n",
      "T: torch.Size([5000, 976]), torch.Size([2, 431140])\n",
      "002: Loss: 3.0252, Hits@1: 0.0025, Hits@10: 0.0170\n",
      "Refine correspondence matrix...\n",
      "S: torch.Size([5000, 976]), torch.Size([2, 1118134])\n",
      "T: torch.Size([5000, 976]), torch.Size([2, 431140])\n",
      "S: torch.Size([5000, 976]), torch.Size([2, 1118134])\n",
      "T: torch.Size([5000, 976]), torch.Size([2, 431140])\n",
      "003: Loss: 3.0741, Hits@1: 0.0020, Hits@10: 0.0235\n",
      "S: torch.Size([5000, 976]), torch.Size([2, 1118134])\n",
      "T: torch.Size([5000, 976]), torch.Size([2, 431140])\n",
      "S: torch.Size([5000, 976]), torch.Size([2, 1118134])\n",
      "T: torch.Size([5000, 976]), torch.Size([2, 431140])\n",
      "004: Loss: 2.9574, Hits@1: 0.0020, Hits@10: 0.0240\n",
      "S: torch.Size([5000, 976]), torch.Size([2, 1118134])\n",
      "T: torch.Size([5000, 976]), torch.Size([2, 431140])\n",
      "S: torch.Size([5000, 976]), torch.Size([2, 1118134])\n",
      "T: torch.Size([5000, 976]), torch.Size([2, 431140])\n",
      "005: Loss: 2.8137, Hits@1: 0.0035, Hits@10: 0.0245\n"
     ]
    }
   ],
   "source": [
    "print('Optimize initial feature matching...')\n",
    "model.num_steps = 0\n",
    "for epoch in range(1, 6):\n",
    "    if epoch == 3:\n",
    "        print('Refine correspondence matrix...')\n",
    "        model.num_steps = args.num_steps\n",
    "        model.detach = True\n",
    "\n",
    "    loss = train()\n",
    "\n",
    "    #if epoch % 10 == 0 or epoch > 100:\n",
    "    if True:\n",
    "        hits1, hits10 = test()\n",
    "        print((f'{epoch:03d}: Loss: {loss:.4f}, Hits@1: {hits1:.4f}, '\n",
    "               f'Hits@10: {hits10:.4f}'))"
   ]
  },
  {
   "cell_type": "code",
   "execution_count": null,
   "id": "bd60c78d-b161-414c-937e-efc783657ca4",
   "metadata": {},
   "outputs": [],
   "source": []
  }
 ],
 "metadata": {
  "kernelspec": {
   "display_name": "Python 3",
   "language": "python",
   "name": "python3"
  },
  "language_info": {
   "codemirror_mode": {
    "name": "ipython",
    "version": 3
   },
   "file_extension": ".py",
   "mimetype": "text/x-python",
   "name": "python",
   "nbconvert_exporter": "python",
   "pygments_lexer": "ipython3",
   "version": "3.8.3"
  }
 },
 "nbformat": 4,
 "nbformat_minor": 5
}
