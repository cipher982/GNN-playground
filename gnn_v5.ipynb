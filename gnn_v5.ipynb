{
 "cells": [
  {
   "cell_type": "code",
   "execution_count": 1,
   "id": "8c911de7-dedf-460b-96e6-14d214cbe4e1",
   "metadata": {
    "execution": {
     "iopub.execute_input": "2021-09-09T14:41:43.190760Z",
     "iopub.status.busy": "2021-09-09T14:41:43.190177Z",
     "iopub.status.idle": "2021-09-09T14:41:46.298403Z",
     "shell.execute_reply": "2021-09-09T14:41:46.297775Z",
     "shell.execute_reply.started": "2021-09-09T14:41:43.190694Z"
    },
    "tags": []
   },
   "outputs": [],
   "source": [
    "from typing import Optional, Callable, List, Dict, Tuple\n",
    "import os\n",
    "\n",
    "import dgmc\n",
    "import pandas as pd\n",
    "from sklearn.preprocessing import OneHotEncoder, LabelEncoder\n",
    "\n",
    "import torch\n",
    "from torch import Tensor\n",
    "import funcs\n",
    "import pytorch_lightning as pl\n",
    "from torch.nn import Linear\n",
    "from torch_geometric.nn import GCNConv\n",
    "from torch_geometric.data import Data\n",
    "import torch_geometric\n",
    "\n",
    "\n",
    "%reload_ext autoreload\n",
    "%autoreload 2\n",
    "\n",
    "device = 'cuda' if torch.cuda.is_available() else 'cpu'"
   ]
  },
  {
   "cell_type": "code",
   "execution_count": 54,
   "id": "832d50d4-851f-470b-b0dc-a7d3b8d324be",
   "metadata": {
    "execution": {
     "iopub.execute_input": "2021-09-09T15:45:35.794092Z",
     "iopub.status.busy": "2021-09-09T15:45:35.793462Z",
     "iopub.status.idle": "2021-09-09T15:45:45.269405Z",
     "shell.execute_reply": "2021-09-09T15:45:45.268798Z",
     "shell.execute_reply.started": "2021-09-09T15:45:35.794073Z"
    },
    "tags": []
   },
   "outputs": [
    {
     "name": "stdout",
     "output_type": "stream",
     "text": [
      "Shape: 1,000,000 Memory: 2.72GB\n"
     ]
    }
   ],
   "source": [
    "file_path = f\"s3://drose-sandbox/sizmek_zync_1m\"\n",
    "df_raw = pd.read_parquet(file_path)\n",
    "print(f\"Shape: {df_raw.shape[0]:,} Memory: {df_raw.memory_usage(deep=True).sum()/1e9:.2f}GB\")"
   ]
  },
  {
   "cell_type": "code",
   "execution_count": 73,
   "id": "aaf12700-b42f-4a12-9de4-89384494e815",
   "metadata": {
    "execution": {
     "iopub.execute_input": "2021-09-09T15:53:34.593344Z",
     "iopub.status.busy": "2021-09-09T15:53:34.592940Z",
     "iopub.status.idle": "2021-09-09T15:53:35.368979Z",
     "shell.execute_reply": "2021-09-09T15:53:35.368390Z",
     "shell.execute_reply.started": "2021-09-09T15:53:34.593323Z"
    },
    "tags": []
   },
   "outputs": [
    {
     "name": "stdout",
     "output_type": "stream",
     "text": [
      "(1000000, 12)\n",
      "(1000000, 12)\n",
      "(67894, 12)\n",
      "(8386, 12)\n"
     ]
    }
   ],
   "source": [
    "sizmek_cols = [\"account_id\", \"url\", \"city_code\",\n",
    "               \"state_code\", \"dma_code\", \"country_code\"]\n",
    "zync_cols = [\"session_id\", \"referrer\", \"client\", \"user_agent_platform\",\n",
    "             \"user_agent_language\", \"user_agent_browser\"]\n",
    "\n",
    "df = df_raw[sizmek_cols + zync_cols]\n",
    "print(df.shape)\n",
    "df = df[df[sizmek_cols + zync_cols].astype(bool)]  \n",
    "print(df.shape)\n",
    "df = df.dropna()\n",
    "print(df.shape)\n",
    "df = df.drop_duplicates()\n",
    "print(df.shape)\n",
    "df = df.reset_index(drop=True)\n",
    "\n",
    "group_list = [e for e in (sizmek_cols + zync_cols) if e not in (\"url\", \"referrer\")]\n",
    "df = df.groupby(group_list)[[\"url\", \"referrer\"]].agg(lambda x: list(x))\n",
    "df = df.reset_index()\n",
    "\n",
    "sizmek_df = df[sizmek_cols]\n",
    "zync_df = df[zync_cols]"
   ]
  },
  {
   "cell_type": "code",
   "execution_count": 74,
   "id": "b62b05c5-15d4-49a5-8de5-5d265bf77664",
   "metadata": {
    "execution": {
     "iopub.execute_input": "2021-09-09T15:53:38.300289Z",
     "iopub.status.busy": "2021-09-09T15:53:38.299750Z",
     "iopub.status.idle": "2021-09-09T15:53:38.325009Z",
     "shell.execute_reply": "2021-09-09T15:53:38.324217Z",
     "shell.execute_reply.started": "2021-09-09T15:53:38.300270Z"
    },
    "tags": []
   },
   "outputs": [
    {
     "data": {
      "text/html": [
       "<div>\n",
       "<style scoped>\n",
       "    .dataframe tbody tr th:only-of-type {\n",
       "        vertical-align: middle;\n",
       "    }\n",
       "\n",
       "    .dataframe tbody tr th {\n",
       "        vertical-align: top;\n",
       "    }\n",
       "\n",
       "    .dataframe thead th {\n",
       "        text-align: right;\n",
       "    }\n",
       "</style>\n",
       "<table border=\"1\" class=\"dataframe\">\n",
       "  <thead>\n",
       "    <tr style=\"text-align: right;\">\n",
       "      <th></th>\n",
       "      <th>account_id</th>\n",
       "      <th>url</th>\n",
       "      <th>city_code</th>\n",
       "      <th>state_code</th>\n",
       "      <th>dma_code</th>\n",
       "      <th>country_code</th>\n",
       "    </tr>\n",
       "  </thead>\n",
       "  <tbody>\n",
       "    <tr>\n",
       "      <th>0</th>\n",
       "      <td>19967</td>\n",
       "      <td>[milesquest.com, theroot.com, https://milesque...</td>\n",
       "      <td>4049979</td>\n",
       "      <td>AL</td>\n",
       "      <td>630</td>\n",
       "      <td>US</td>\n",
       "    </tr>\n",
       "    <tr>\n",
       "      <th>1</th>\n",
       "      <td>19967</td>\n",
       "      <td>[caninehq.com, https://caninehq.com/can-dogs-e...</td>\n",
       "      <td>4049979</td>\n",
       "      <td>AL</td>\n",
       "      <td>630</td>\n",
       "      <td>US</td>\n",
       "    </tr>\n",
       "    <tr>\n",
       "      <th>2</th>\n",
       "      <td>19967</td>\n",
       "      <td>[pagesix.com, cbssports.com, https://pagesix.c...</td>\n",
       "      <td>4049979</td>\n",
       "      <td>AL</td>\n",
       "      <td>630</td>\n",
       "      <td>US</td>\n",
       "    </tr>\n",
       "  </tbody>\n",
       "</table>\n",
       "</div>"
      ],
      "text/plain": [
       "   account_id                                                url city_code  \\\n",
       "0       19967  [milesquest.com, theroot.com, https://milesque...   4049979   \n",
       "1       19967  [caninehq.com, https://caninehq.com/can-dogs-e...   4049979   \n",
       "2       19967  [pagesix.com, cbssports.com, https://pagesix.c...   4049979   \n",
       "\n",
       "  state_code dma_code country_code  \n",
       "0         AL      630           US  \n",
       "1         AL      630           US  \n",
       "2         AL      630           US  "
      ]
     },
     "execution_count": 74,
     "metadata": {},
     "output_type": "execute_result"
    }
   ],
   "source": [
    "sizmek_df.head(3)"
   ]
  },
  {
   "cell_type": "code",
   "execution_count": 75,
   "id": "ac3883d3-ab56-4aab-9aaf-09816cb396c5",
   "metadata": {
    "execution": {
     "iopub.execute_input": "2021-09-09T15:53:39.813639Z",
     "iopub.status.busy": "2021-09-09T15:53:39.813058Z",
     "iopub.status.idle": "2021-09-09T15:53:39.840300Z",
     "shell.execute_reply": "2021-09-09T15:53:39.839611Z",
     "shell.execute_reply.started": "2021-09-09T15:53:39.813616Z"
    },
    "tags": []
   },
   "outputs": [
    {
     "data": {
      "text/html": [
       "<div>\n",
       "<style scoped>\n",
       "    .dataframe tbody tr th:only-of-type {\n",
       "        vertical-align: middle;\n",
       "    }\n",
       "\n",
       "    .dataframe tbody tr th {\n",
       "        vertical-align: top;\n",
       "    }\n",
       "\n",
       "    .dataframe thead th {\n",
       "        text-align: right;\n",
       "    }\n",
       "</style>\n",
       "<table border=\"1\" class=\"dataframe\">\n",
       "  <thead>\n",
       "    <tr style=\"text-align: right;\">\n",
       "      <th></th>\n",
       "      <th>session_id</th>\n",
       "      <th>referrer</th>\n",
       "      <th>client</th>\n",
       "      <th>user_agent_platform</th>\n",
       "      <th>user_agent_language</th>\n",
       "      <th>user_agent_browser</th>\n",
       "    </tr>\n",
       "  </thead>\n",
       "  <tbody>\n",
       "    <tr>\n",
       "      <th>0</th>\n",
       "      <td>1ca15a3a-fc41-466b-8ecc-2ad5f0997f80:162840229...</td>\n",
       "      <td>[https://d7b2b2ad4fc14f6b19acf619d54f1e63.safe...</td>\n",
       "      <td>sizmek</td>\n",
       "      <td>android</td>\n",
       "      <td>11</td>\n",
       "      <td>chrome</td>\n",
       "    </tr>\n",
       "    <tr>\n",
       "      <th>1</th>\n",
       "      <td>1cc3d46f-ea7e-400b-bf16-6462dbdf69de:1628096090.3</td>\n",
       "      <td>[https://www.yahoo.com/lifestyle/14-9-million-...</td>\n",
       "      <td>sizmek</td>\n",
       "      <td>android</td>\n",
       "      <td>11</td>\n",
       "      <td>chrome</td>\n",
       "    </tr>\n",
       "    <tr>\n",
       "      <th>2</th>\n",
       "      <td>6f41bed7-a384-4540-bcb9-65ed800e62e6:162524377...</td>\n",
       "      <td>[https://www.wyndhamhotels.com/, https://www.w...</td>\n",
       "      <td>sizmek</td>\n",
       "      <td>android</td>\n",
       "      <td>11</td>\n",
       "      <td>chrome</td>\n",
       "    </tr>\n",
       "  </tbody>\n",
       "</table>\n",
       "</div>"
      ],
      "text/plain": [
       "                                          session_id  \\\n",
       "0  1ca15a3a-fc41-466b-8ecc-2ad5f0997f80:162840229...   \n",
       "1  1cc3d46f-ea7e-400b-bf16-6462dbdf69de:1628096090.3   \n",
       "2  6f41bed7-a384-4540-bcb9-65ed800e62e6:162524377...   \n",
       "\n",
       "                                            referrer  client  \\\n",
       "0  [https://d7b2b2ad4fc14f6b19acf619d54f1e63.safe...  sizmek   \n",
       "1  [https://www.yahoo.com/lifestyle/14-9-million-...  sizmek   \n",
       "2  [https://www.wyndhamhotels.com/, https://www.w...  sizmek   \n",
       "\n",
       "  user_agent_platform user_agent_language user_agent_browser  \n",
       "0             android                  11             chrome  \n",
       "1             android                  11             chrome  \n",
       "2             android                  11             chrome  "
      ]
     },
     "execution_count": 75,
     "metadata": {},
     "output_type": "execute_result"
    }
   ],
   "source": [
    "zync_df.head(3)"
   ]
  },
  {
   "cell_type": "code",
   "execution_count": 78,
   "id": "7567f32c-a921-4e4d-a6a1-88002528de10",
   "metadata": {
    "execution": {
     "iopub.execute_input": "2021-09-09T17:42:56.901967Z",
     "iopub.status.busy": "2021-09-09T17:42:56.901243Z",
     "iopub.status.idle": "2021-09-09T17:42:56.939582Z",
     "shell.execute_reply": "2021-09-09T17:42:56.938269Z",
     "shell.execute_reply.started": "2021-09-09T17:42:56.901932Z"
    },
    "tags": []
   },
   "outputs": [
    {
     "name": "stdout",
     "output_type": "stream",
     "text": [
      "Create dict for url\n"
     ]
    },
    {
     "ename": "TypeError",
     "evalue": "unhashable type: 'list'",
     "output_type": "error",
     "traceback": [
      "\u001b[0;31m---------------------------------------------------------------------------\u001b[0m",
      "\u001b[0;31mTypeError\u001b[0m                                 Traceback (most recent call last)",
      "\u001b[0;32m/tmp/ipykernel_20669/2942070365.py\u001b[0m in \u001b[0;36m<module>\u001b[0;34m\u001b[0m\n\u001b[0;32m----> 1\u001b[0;31m \u001b[0mfuncs\u001b[0m\u001b[0;34m.\u001b[0m\u001b[0mconnect_edges\u001b[0m\u001b[0;34m(\u001b[0m\u001b[0msizmek_df\u001b[0m\u001b[0;34m,\u001b[0m \u001b[0;34m\"url\"\u001b[0m\u001b[0;34m)\u001b[0m\u001b[0;34m\u001b[0m\u001b[0;34m\u001b[0m\u001b[0m\n\u001b[0m",
      "\u001b[0;32m~/github/GNN-playground/funcs.py\u001b[0m in \u001b[0;36mconnect_edges\u001b[0;34m(df, column)\u001b[0m\n\u001b[1;32m     39\u001b[0m \u001b[0;32mdef\u001b[0m \u001b[0mconnect_edges\u001b[0m\u001b[0;34m(\u001b[0m\u001b[0mdf\u001b[0m\u001b[0;34m,\u001b[0m \u001b[0mcolumn\u001b[0m\u001b[0;34m)\u001b[0m\u001b[0;34m:\u001b[0m\u001b[0;34m\u001b[0m\u001b[0;34m\u001b[0m\u001b[0m\n\u001b[1;32m     40\u001b[0m     \u001b[0medges\u001b[0m \u001b[0;34m=\u001b[0m \u001b[0;34m[\u001b[0m\u001b[0;34m]\u001b[0m\u001b[0;34m\u001b[0m\u001b[0;34m\u001b[0m\u001b[0m\n\u001b[0;32m---> 41\u001b[0;31m     \u001b[0mlookup_dict\u001b[0m \u001b[0;34m=\u001b[0m \u001b[0mcreate_dict\u001b[0m\u001b[0;34m(\u001b[0m\u001b[0mdf\u001b[0m\u001b[0;34m,\u001b[0m \u001b[0mcolumn\u001b[0m\u001b[0;34m)\u001b[0m\u001b[0;34m\u001b[0m\u001b[0;34m\u001b[0m\u001b[0m\n\u001b[0m\u001b[1;32m     42\u001b[0m     \u001b[0;32mfor\u001b[0m \u001b[0mix\u001b[0m\u001b[0;34m,\u001b[0m \u001b[0mvalue\u001b[0m \u001b[0;32min\u001b[0m \u001b[0menumerate\u001b[0m\u001b[0;34m(\u001b[0m\u001b[0mdf\u001b[0m\u001b[0;34m[\u001b[0m\u001b[0mcolumn\u001b[0m\u001b[0;34m]\u001b[0m\u001b[0;34m)\u001b[0m\u001b[0;34m:\u001b[0m\u001b[0;34m\u001b[0m\u001b[0;34m\u001b[0m\u001b[0m\n\u001b[1;32m     43\u001b[0m         \u001b[0;32mif\u001b[0m \u001b[0mvalue\u001b[0m \u001b[0;32min\u001b[0m \u001b[0mlookup_dict\u001b[0m\u001b[0;34m:\u001b[0m\u001b[0;34m\u001b[0m\u001b[0;34m\u001b[0m\u001b[0m\n",
      "\u001b[0;32m~/github/GNN-playground/funcs.py\u001b[0m in \u001b[0;36mcreate_dict\u001b[0;34m(table, col)\u001b[0m\n\u001b[1;32m     30\u001b[0m         \u001b[0;32mif\u001b[0m \u001b[0mvalue\u001b[0m \u001b[0;34m!=\u001b[0m \u001b[0mvalue\u001b[0m\u001b[0;34m:\u001b[0m\u001b[0;34m\u001b[0m\u001b[0;34m\u001b[0m\u001b[0m\n\u001b[1;32m     31\u001b[0m             \u001b[0;32mcontinue\u001b[0m\u001b[0;34m\u001b[0m\u001b[0;34m\u001b[0m\u001b[0m\n\u001b[0;32m---> 32\u001b[0;31m         \u001b[0;32mif\u001b[0m \u001b[0mvalue\u001b[0m \u001b[0;32min\u001b[0m \u001b[0mtable_dict\u001b[0m\u001b[0;34m:\u001b[0m\u001b[0;34m\u001b[0m\u001b[0;34m\u001b[0m\u001b[0m\n\u001b[0m\u001b[1;32m     33\u001b[0m             \u001b[0mtable_dict\u001b[0m\u001b[0;34m[\u001b[0m\u001b[0mvalue\u001b[0m\u001b[0;34m]\u001b[0m\u001b[0;34m.\u001b[0m\u001b[0mappend\u001b[0m\u001b[0;34m(\u001b[0m\u001b[0mix\u001b[0m\u001b[0;34m)\u001b[0m\u001b[0;34m\u001b[0m\u001b[0;34m\u001b[0m\u001b[0m\n\u001b[1;32m     34\u001b[0m         \u001b[0;32melse\u001b[0m\u001b[0;34m:\u001b[0m\u001b[0;34m\u001b[0m\u001b[0;34m\u001b[0m\u001b[0m\n",
      "\u001b[0;31mTypeError\u001b[0m: unhashable type: 'list'"
     ]
    }
   ],
   "source": [
    "funcs.connect_edges(sizmek_df, \"url\")"
   ]
  },
  {
   "cell_type": "code",
   "execution_count": null,
   "id": "b9cfd7ec-cd58-427a-a1ff-e99e23bcb8b8",
   "metadata": {},
   "outputs": [],
   "source": [
    "edge_index = torch.tensor(\n",
    "            edges[['source','target']].T.values, dtype=torch.long\n",
    "        )"
   ]
  },
  {
   "cell_type": "code",
   "execution_count": 7,
   "id": "65124950-7be0-4691-90be-2b0ad2fecbd4",
   "metadata": {
    "execution": {
     "iopub.execute_input": "2021-09-09T14:41:54.575889Z",
     "iopub.status.busy": "2021-09-09T14:41:54.575756Z",
     "iopub.status.idle": "2021-09-09T14:41:54.601231Z",
     "shell.execute_reply": "2021-09-09T14:41:54.600572Z",
     "shell.execute_reply.started": "2021-09-09T14:41:54.575875Z"
    },
    "tags": []
   },
   "outputs": [],
   "source": [
    "class ZetaDataset(torch_geometric.data.InMemoryDataset):\n",
    "    def __init__(self, root: str, sizmek_df: pd.DataFrame, zync_df: pd.DataFrame, column: str, \n",
    "                 label: str, feature_cols=None, parse_url=False, expand_x=None, transform=None, \n",
    "                 pre_transform=None\n",
    "        ):\n",
    "        self.root = root\n",
    "        self.sizmek_df = sizmek_df\n",
    "        self.zync_df = zync_df\n",
    "        self.column = column\n",
    "        self.label = label\n",
    "        self.feature_cols = feature_cols\n",
    "        self.parse_url = parse_url\n",
    "        self.expand_x = expand_x\n",
    "        super(ZetaDataset, self).__init__(root, transform, pre_transform)\n",
    "        self.data, self.slices = torch.load(self.processed_paths[0])\n",
    "        print(\"Removing processed file. . .\")\n",
    "        os.remove(self.processed_paths[0])\n",
    "\n",
    "    @property\n",
    "    def raw_file_names(self) -> List[str]:\n",
    "        return [\n",
    "            \"sizmek_bidstream_raw_20210625_10k.csv\", \n",
    "            \"zync_session_tracking_orc_20210625_10k.csv\"\n",
    "        ]\n",
    "\n",
    "    @property\n",
    "    def processed_file_names(self):\n",
    "        return [\"ZetaDataset.pt\"]\n",
    "    \n",
    "    @property\n",
    "    def edge_count_1(self):\n",
    "        return zeta_data.data.edge_index1.shape[1]\n",
    "    \n",
    "    @property\n",
    "    def edge_count_2(self):\n",
    "        return zeta_data.data.edge_index2.shape[1]\n",
    "\n",
    "    def download(self):\n",
    "        pass\n",
    "\n",
    "    def process(self):\n",
    "        x1, edge_index1 = self.process_graph(self.sizmek_df, self.column[0], self.feature_cols[\"sizmek\"])\n",
    "        x2, edge_index2 = self.process_graph(self.zync_df, self.column[1], self.feature_cols[\"zync\"], 3029)\n",
    "\n",
    "        train_y = self.process_y()\n",
    "        test_y = self.process_y()\n",
    "\n",
    "        data = Data(x1=x1, edge_index1=edge_index1, x2=x2,\n",
    "                    edge_index2=edge_index2, train_y=train_y,\n",
    "                    test_y=test_y)\n",
    "        torch.save(self.collate([data]), self.processed_paths[0])\n",
    "\n",
    "    def process_graph(self, df, column: str, feature_cols: List, expand_x: int=None):\n",
    "        print(f\"Processing graph on {column}\")\n",
    "        #df = pd.read_csv(file_path, low_memory=False)\n",
    "        #df.columns = [i.split(\".\")[1] for i in df.columns]\n",
    "\n",
    "        # parse URLs\n",
    "        if self.parse_url == True and column in [\"url\", \"referrer\"]:\n",
    "            df[column] = df[column].apply(\n",
    "                lambda x:funcs.urlparse(x).netloc if pd.notnull(x) else x\n",
    "            )\n",
    "\n",
    "        # Encode features\n",
    "        feature_enc = OneHotEncoder(handle_unknown=\"ignore\")\n",
    "        features = pd.DataFrame(\n",
    "            feature_enc.fit_transform(df[feature_cols]).toarray(), \n",
    "            columns=feature_enc.get_feature_names(feature_cols)\n",
    "        )\n",
    "        if expand_x is not None:\n",
    "            print(f\"Expanding X to {expand_x}\")\n",
    "            new_cols = [f\"fake_{expand_x-i}\" for i in range(expand_x - features.shape[1])][::-1]\n",
    "            for col in new_cols:\n",
    "                features[col] = 0\n",
    "        x = torch.tensor(features.values, dtype=torch.float)\n",
    "        \n",
    "        edges = funcs.connect_edges(df, column)\n",
    "        edge_index = torch.tensor(\n",
    "            edges[['source','target']].T.values, dtype=torch.long\n",
    "        )\n",
    "\n",
    "        return x, edge_index\n",
    "\n",
    "    def process_y(self) -> Tensor:\n",
    "        y_1 = torch.tensor([range(0,1_000)])[0]\n",
    "        y_2 = torch.tensor([range(0,1_000)])[0]\n",
    "        train_y = torch.stack([y_1, y_2], dim=0)\n",
    "        return train_y\n",
    "    \n",
    "    def __repr__(self) -> str:\n",
    "        return f\"{self.__class__.__name__}({self.edge_count_1:,}/{self.edge_count_2:,} edges)\""
   ]
  },
  {
   "cell_type": "code",
   "execution_count": 8,
   "id": "e50140f6-7ae9-49de-88a6-7414fee2781c",
   "metadata": {
    "execution": {
     "iopub.execute_input": "2021-09-09T14:41:54.602389Z",
     "iopub.status.busy": "2021-09-09T14:41:54.602198Z",
     "iopub.status.idle": "2021-09-09T14:41:54.621932Z",
     "shell.execute_reply": "2021-09-09T14:41:54.621171Z",
     "shell.execute_reply.started": "2021-09-09T14:41:54.602372Z"
    },
    "tags": []
   },
   "outputs": [],
   "source": [
    "class SumEmbedding(object):\n",
    "    def __call__(self, data):\n",
    "        data.x1, data.x2 = data.x1.sum(dim=1), data.x2.sum(dim=1)\n",
    "        return data"
   ]
  },
  {
   "cell_type": "code",
   "execution_count": 9,
   "id": "ac86e9c8-9603-4c34-b193-63fd5c2f6674",
   "metadata": {
    "execution": {
     "iopub.execute_input": "2021-09-09T14:41:54.623083Z",
     "iopub.status.busy": "2021-09-09T14:41:54.622644Z",
     "iopub.status.idle": "2021-09-09T14:41:54.647684Z",
     "shell.execute_reply": "2021-09-09T14:41:54.646970Z",
     "shell.execute_reply.started": "2021-09-09T14:41:54.623065Z"
    },
    "tags": []
   },
   "outputs": [],
   "source": [
    "sizmek_small = sizmek_df.sample(n=20_000, random_state=0)\n",
    "zync_small = zync_df.iloc[sizmek_small.index,:]"
   ]
  },
  {
   "cell_type": "code",
   "execution_count": 10,
   "id": "0b74141a-fa41-4c10-9633-959fec9c3388",
   "metadata": {
    "execution": {
     "iopub.execute_input": "2021-09-09T14:41:54.649160Z",
     "iopub.status.busy": "2021-09-09T14:41:54.648905Z",
     "iopub.status.idle": "2021-09-09T14:41:57.407356Z",
     "shell.execute_reply": "2021-09-09T14:41:57.406697Z",
     "shell.execute_reply.started": "2021-09-09T14:41:54.649143Z"
    },
    "tags": []
   },
   "outputs": [
    {
     "name": "stdout",
     "output_type": "stream",
     "text": [
      "Processing...\n",
      "Processing graph on url\n",
      "Create dict for url\n",
      "Processing graph on referrer\n",
      "Expanding X to 3029\n"
     ]
    },
    {
     "name": "stderr",
     "output_type": "stream",
     "text": [
      "/tmp/ipykernel_20669/2469473028.py:74: PerformanceWarning: DataFrame is highly fragmented.  This is usually the result of calling `frame.insert` many times, which has poor performance.  Consider using pd.concat instead.  To get a de-fragmented frame, use `newframe = frame.copy()`\n",
      "  features[col] = 0\n"
     ]
    },
    {
     "name": "stdout",
     "output_type": "stream",
     "text": [
      "Create dict for referrer\n",
      "Done!\n",
      "Removing processed file. . .\n"
     ]
    },
    {
     "data": {
      "text/plain": [
       "ZetaDataset(357,944/1,900,120 edges)"
      ]
     },
     "execution_count": 10,
     "metadata": {},
     "output_type": "execute_result"
    }
   ],
   "source": [
    "feature_cols = {\n",
    "    \"sizmek\": [\"account_id\", \"city_code\",\"state_code\", \"dma_code\", \"country_code\"],\n",
    "    \"zync\": [\"client\", \"user_agent_platform\",\"user_agent_language\", \"user_agent_browser\"]\n",
    "}\n",
    "\n",
    "zeta_data = ZetaDataset(\n",
    "    root=\"./data/\",\n",
    "    sizmek_df = sizmek_small,\n",
    "    zync_df = zync_small,\n",
    "    column=[\"url\", \"referrer\"],\n",
    "    label=[\"zeta_user_id\", \"client_id\"],\n",
    "    feature_cols=feature_cols,\n",
    "    parse_url=False,\n",
    "    transform=SumEmbedding()\n",
    ")\n",
    "zeta_data"
   ]
  },
  {
   "cell_type": "code",
   "execution_count": 11,
   "id": "96df15cd-ce79-46ba-9366-b4385665c33b",
   "metadata": {
    "execution": {
     "iopub.execute_input": "2021-09-09T14:42:02.662077Z",
     "iopub.status.busy": "2021-09-09T14:42:02.661722Z",
     "iopub.status.idle": "2021-09-09T14:42:02.725174Z",
     "shell.execute_reply": "2021-09-09T14:42:02.724514Z",
     "shell.execute_reply.started": "2021-09-09T14:42:02.662060Z"
    },
    "tags": []
   },
   "outputs": [
    {
     "data": {
      "text/plain": [
       "RelCNN(1423, 256, num_layers=3, batch_norm=False, cat=True, lin=True, dropout=0.5)"
      ]
     },
     "execution_count": 11,
     "metadata": {},
     "output_type": "execute_result"
    }
   ],
   "source": [
    "import argparse\n",
    "\n",
    "parser = argparse.ArgumentParser()\n",
    "parser.add_argument('--dim', type=int, default=256)\n",
    "parser.add_argument('--rnd_dim', type=int, default=32)\n",
    "parser.add_argument('--num_layers', type=int, default=3)\n",
    "parser.add_argument('--num_steps', type=int, default=10)\n",
    "parser.add_argument('--k', type=int, default=10)\n",
    "args = parser.parse_args(\"\")\n",
    "\n",
    "\n",
    "psi_1 = dgmc.models.RelCNN(zeta_data.data.x1.size(-1), args.dim, args.num_layers, batch_norm=False,\n",
    "               cat=True, lin=True, dropout=0.5)\n",
    "psi_2 = dgmc.models.RelCNN(args.rnd_dim, args.rnd_dim, args.num_layers, batch_norm=False,\n",
    "               cat=True, lin=True, dropout=0.0)\n",
    "\n",
    "psi_1"
   ]
  },
  {
   "cell_type": "code",
   "execution_count": 12,
   "id": "01d79f80-2d5e-4231-81fd-a771b3ecc71b",
   "metadata": {
    "execution": {
     "iopub.execute_input": "2021-09-09T14:42:07.241986Z",
     "iopub.status.busy": "2021-09-09T14:42:07.241608Z",
     "iopub.status.idle": "2021-09-09T14:42:07.269084Z",
     "shell.execute_reply": "2021-09-09T14:42:07.268293Z",
     "shell.execute_reply.started": "2021-09-09T14:42:07.241966Z"
    },
    "tags": []
   },
   "outputs": [],
   "source": [
    "model = dgmc.models.DGMC(psi_1, psi_2, num_steps=None, k=args.k).to(device)\n",
    "optimizer = torch.optim.Adam(model.parameters(), lr=0.001)\n",
    "data = zeta_data.data\n",
    "\n",
    "def train():\n",
    "    model.train()\n",
    "    optimizer.zero_grad()\n",
    "\n",
    "    _, S_L = model(data.x1, data.edge_index1, None, None, data.x2,\n",
    "                   data.edge_index2, None, None, data.train_y)\n",
    "\n",
    "    loss = model.loss(S_L, data.train_y)\n",
    "    loss.backward()\n",
    "    optimizer.step()\n",
    "    return loss\n",
    "\n",
    "@torch.no_grad()\n",
    "def test():\n",
    "    model.eval()\n",
    "\n",
    "    _, S_L = model(data.x1, data.edge_index1, None, None, data.x2,\n",
    "                   data.edge_index2, None, None)\n",
    "\n",
    "    hits1 = model.acc(S_L, data.test_y)\n",
    "    hits10 = model.hits_at_k(10, S_L, data.test_y)\n",
    "\n",
    "    return hits1, hits10"
   ]
  },
  {
   "cell_type": "code",
   "execution_count": 13,
   "id": "dd900aed-ab46-4813-953f-2e4931b022ed",
   "metadata": {
    "execution": {
     "iopub.execute_input": "2021-09-09T14:42:08.976212Z",
     "iopub.status.busy": "2021-09-09T14:42:08.975767Z",
     "iopub.status.idle": "2021-09-09T14:42:14.652755Z",
     "shell.execute_reply": "2021-09-09T14:42:14.651943Z",
     "shell.execute_reply.started": "2021-09-09T14:42:08.976192Z"
    },
    "tags": []
   },
   "outputs": [
    {
     "name": "stdout",
     "output_type": "stream",
     "text": [
      "Epoch: 1\n"
     ]
    },
    {
     "ename": "RuntimeError",
     "evalue": "mat1 and mat2 shapes cannot be multiplied (20000x3029 and 1423x256)",
     "output_type": "error",
     "traceback": [
      "\u001b[0;31m---------------------------------------------------------------------------\u001b[0m",
      "\u001b[0;31mRuntimeError\u001b[0m                              Traceback (most recent call last)",
      "\u001b[0;32m/tmp/ipykernel_20669/1134356774.py\u001b[0m in \u001b[0;36m<module>\u001b[0;34m\u001b[0m\n\u001b[1;32m     11\u001b[0m     \u001b[0;32mfor\u001b[0m \u001b[0mepoch\u001b[0m \u001b[0;32min\u001b[0m \u001b[0mrange\u001b[0m\u001b[0;34m(\u001b[0m\u001b[0;36m1\u001b[0m\u001b[0;34m,\u001b[0m \u001b[0;36m500\u001b[0m\u001b[0;34m)\u001b[0m\u001b[0;34m:\u001b[0m\u001b[0;34m\u001b[0m\u001b[0;34m\u001b[0m\u001b[0m\n\u001b[1;32m     12\u001b[0m         \u001b[0mprint\u001b[0m\u001b[0;34m(\u001b[0m\u001b[0;34m\"Epoch: {}\"\u001b[0m\u001b[0;34m.\u001b[0m\u001b[0mformat\u001b[0m\u001b[0;34m(\u001b[0m\u001b[0mepoch\u001b[0m\u001b[0;34m)\u001b[0m\u001b[0;34m)\u001b[0m\u001b[0;34m\u001b[0m\u001b[0;34m\u001b[0m\u001b[0m\n\u001b[0;32m---> 13\u001b[0;31m         \u001b[0mloss\u001b[0m \u001b[0;34m=\u001b[0m \u001b[0mtrain\u001b[0m\u001b[0;34m(\u001b[0m\u001b[0;34m)\u001b[0m\u001b[0;34m\u001b[0m\u001b[0;34m\u001b[0m\u001b[0m\n\u001b[0m\u001b[1;32m     14\u001b[0m         \u001b[0mprofiler\u001b[0m\u001b[0;34m.\u001b[0m\u001b[0mstep\u001b[0m\u001b[0;34m(\u001b[0m\u001b[0;34m)\u001b[0m\u001b[0;34m\u001b[0m\u001b[0;34m\u001b[0m\u001b[0m\n\u001b[1;32m     15\u001b[0m \u001b[0;34m\u001b[0m\u001b[0m\n",
      "\u001b[0;32m/tmp/ipykernel_20669/1193754241.py\u001b[0m in \u001b[0;36mtrain\u001b[0;34m()\u001b[0m\n\u001b[1;32m      7\u001b[0m     \u001b[0moptimizer\u001b[0m\u001b[0;34m.\u001b[0m\u001b[0mzero_grad\u001b[0m\u001b[0;34m(\u001b[0m\u001b[0;34m)\u001b[0m\u001b[0;34m\u001b[0m\u001b[0;34m\u001b[0m\u001b[0m\n\u001b[1;32m      8\u001b[0m \u001b[0;34m\u001b[0m\u001b[0m\n\u001b[0;32m----> 9\u001b[0;31m     _, S_L = model(data.x1, data.edge_index1, None, None, data.x2,\n\u001b[0m\u001b[1;32m     10\u001b[0m                    data.edge_index2, None, None, data.train_y)\n\u001b[1;32m     11\u001b[0m \u001b[0;34m\u001b[0m\u001b[0m\n",
      "\u001b[0;32m~/github/.envs/.gmc/lib/python3.8/site-packages/torch/nn/modules/module.py\u001b[0m in \u001b[0;36m_call_impl\u001b[0;34m(self, *input, **kwargs)\u001b[0m\n\u001b[1;32m   1049\u001b[0m         if not (self._backward_hooks or self._forward_hooks or self._forward_pre_hooks or _global_backward_hooks\n\u001b[1;32m   1050\u001b[0m                 or _global_forward_hooks or _global_forward_pre_hooks):\n\u001b[0;32m-> 1051\u001b[0;31m             \u001b[0;32mreturn\u001b[0m \u001b[0mforward_call\u001b[0m\u001b[0;34m(\u001b[0m\u001b[0;34m*\u001b[0m\u001b[0minput\u001b[0m\u001b[0;34m,\u001b[0m \u001b[0;34m**\u001b[0m\u001b[0mkwargs\u001b[0m\u001b[0;34m)\u001b[0m\u001b[0;34m\u001b[0m\u001b[0;34m\u001b[0m\u001b[0m\n\u001b[0m\u001b[1;32m   1052\u001b[0m         \u001b[0;31m# Do not call functions when jit is used\u001b[0m\u001b[0;34m\u001b[0m\u001b[0;34m\u001b[0m\u001b[0;34m\u001b[0m\u001b[0m\n\u001b[1;32m   1053\u001b[0m         \u001b[0mfull_backward_hooks\u001b[0m\u001b[0;34m,\u001b[0m \u001b[0mnon_full_backward_hooks\u001b[0m \u001b[0;34m=\u001b[0m \u001b[0;34m[\u001b[0m\u001b[0;34m]\u001b[0m\u001b[0;34m,\u001b[0m \u001b[0;34m[\u001b[0m\u001b[0;34m]\u001b[0m\u001b[0;34m\u001b[0m\u001b[0;34m\u001b[0m\u001b[0m\n",
      "\u001b[0;32m~/github/deep-graph-matching-consensus/dgmc/models/dgmc.py\u001b[0m in \u001b[0;36mforward\u001b[0;34m(self, x_s, edge_index_s, edge_attr_s, batch_s, x_t, edge_index_t, edge_attr_t, batch_t, y)\u001b[0m\n\u001b[1;32m    154\u001b[0m \u001b[0;34m\u001b[0m\u001b[0m\n\u001b[1;32m    155\u001b[0m         \u001b[0mh_s\u001b[0m \u001b[0;34m=\u001b[0m \u001b[0mself\u001b[0m\u001b[0;34m.\u001b[0m\u001b[0mpsi_1\u001b[0m\u001b[0;34m(\u001b[0m\u001b[0mx_s\u001b[0m\u001b[0;34m,\u001b[0m \u001b[0medge_index_s\u001b[0m\u001b[0;34m,\u001b[0m \u001b[0medge_attr_s\u001b[0m\u001b[0;34m)\u001b[0m\u001b[0;34m\u001b[0m\u001b[0;34m\u001b[0m\u001b[0m\n\u001b[0;32m--> 156\u001b[0;31m         \u001b[0mh_t\u001b[0m \u001b[0;34m=\u001b[0m \u001b[0mself\u001b[0m\u001b[0;34m.\u001b[0m\u001b[0mpsi_1\u001b[0m\u001b[0;34m(\u001b[0m\u001b[0mx_t\u001b[0m\u001b[0;34m,\u001b[0m \u001b[0medge_index_t\u001b[0m\u001b[0;34m,\u001b[0m \u001b[0medge_attr_t\u001b[0m\u001b[0;34m)\u001b[0m\u001b[0;34m\u001b[0m\u001b[0;34m\u001b[0m\u001b[0m\n\u001b[0m\u001b[1;32m    157\u001b[0m \u001b[0;34m\u001b[0m\u001b[0m\n\u001b[1;32m    158\u001b[0m         \u001b[0mh_s\u001b[0m\u001b[0;34m,\u001b[0m \u001b[0mh_t\u001b[0m \u001b[0;34m=\u001b[0m \u001b[0;34m(\u001b[0m\u001b[0mh_s\u001b[0m\u001b[0;34m.\u001b[0m\u001b[0mdetach\u001b[0m\u001b[0;34m(\u001b[0m\u001b[0;34m)\u001b[0m\u001b[0;34m,\u001b[0m \u001b[0mh_t\u001b[0m\u001b[0;34m.\u001b[0m\u001b[0mdetach\u001b[0m\u001b[0;34m(\u001b[0m\u001b[0;34m)\u001b[0m\u001b[0;34m)\u001b[0m \u001b[0;32mif\u001b[0m \u001b[0mself\u001b[0m\u001b[0;34m.\u001b[0m\u001b[0mdetach\u001b[0m \u001b[0;32melse\u001b[0m \u001b[0;34m(\u001b[0m\u001b[0mh_s\u001b[0m\u001b[0;34m,\u001b[0m \u001b[0mh_t\u001b[0m\u001b[0;34m)\u001b[0m\u001b[0;34m\u001b[0m\u001b[0;34m\u001b[0m\u001b[0m\n",
      "\u001b[0;32m~/github/.envs/.gmc/lib/python3.8/site-packages/torch/nn/modules/module.py\u001b[0m in \u001b[0;36m_call_impl\u001b[0;34m(self, *input, **kwargs)\u001b[0m\n\u001b[1;32m   1049\u001b[0m         if not (self._backward_hooks or self._forward_hooks or self._forward_pre_hooks or _global_backward_hooks\n\u001b[1;32m   1050\u001b[0m                 or _global_forward_hooks or _global_forward_pre_hooks):\n\u001b[0;32m-> 1051\u001b[0;31m             \u001b[0;32mreturn\u001b[0m \u001b[0mforward_call\u001b[0m\u001b[0;34m(\u001b[0m\u001b[0;34m*\u001b[0m\u001b[0minput\u001b[0m\u001b[0;34m,\u001b[0m \u001b[0;34m**\u001b[0m\u001b[0mkwargs\u001b[0m\u001b[0;34m)\u001b[0m\u001b[0;34m\u001b[0m\u001b[0;34m\u001b[0m\u001b[0m\n\u001b[0m\u001b[1;32m   1052\u001b[0m         \u001b[0;31m# Do not call functions when jit is used\u001b[0m\u001b[0;34m\u001b[0m\u001b[0;34m\u001b[0m\u001b[0;34m\u001b[0m\u001b[0m\n\u001b[1;32m   1053\u001b[0m         \u001b[0mfull_backward_hooks\u001b[0m\u001b[0;34m,\u001b[0m \u001b[0mnon_full_backward_hooks\u001b[0m \u001b[0;34m=\u001b[0m \u001b[0;34m[\u001b[0m\u001b[0;34m]\u001b[0m\u001b[0;34m,\u001b[0m \u001b[0;34m[\u001b[0m\u001b[0;34m]\u001b[0m\u001b[0;34m\u001b[0m\u001b[0;34m\u001b[0m\u001b[0m\n",
      "\u001b[0;32m~/github/deep-graph-matching-consensus/dgmc/models/rel.py\u001b[0m in \u001b[0;36mforward\u001b[0;34m(self, x, edge_index, *args)\u001b[0m\n\u001b[1;32m     83\u001b[0m \u001b[0;34m\u001b[0m\u001b[0m\n\u001b[1;32m     84\u001b[0m         \u001b[0;32mfor\u001b[0m \u001b[0mconv\u001b[0m\u001b[0;34m,\u001b[0m \u001b[0mbatch_norm\u001b[0m \u001b[0;32min\u001b[0m \u001b[0mzip\u001b[0m\u001b[0;34m(\u001b[0m\u001b[0mself\u001b[0m\u001b[0;34m.\u001b[0m\u001b[0mconvs\u001b[0m\u001b[0;34m,\u001b[0m \u001b[0mself\u001b[0m\u001b[0;34m.\u001b[0m\u001b[0mbatch_norms\u001b[0m\u001b[0;34m)\u001b[0m\u001b[0;34m:\u001b[0m\u001b[0;34m\u001b[0m\u001b[0;34m\u001b[0m\u001b[0m\n\u001b[0;32m---> 85\u001b[0;31m             \u001b[0mx\u001b[0m \u001b[0;34m=\u001b[0m \u001b[0mconv\u001b[0m\u001b[0;34m(\u001b[0m\u001b[0mxs\u001b[0m\u001b[0;34m[\u001b[0m\u001b[0;34m-\u001b[0m\u001b[0;36m1\u001b[0m\u001b[0;34m]\u001b[0m\u001b[0;34m,\u001b[0m \u001b[0medge_index\u001b[0m\u001b[0;34m)\u001b[0m\u001b[0;34m\u001b[0m\u001b[0;34m\u001b[0m\u001b[0m\n\u001b[0m\u001b[1;32m     86\u001b[0m             \u001b[0mx\u001b[0m \u001b[0;34m=\u001b[0m \u001b[0mbatch_norm\u001b[0m\u001b[0;34m(\u001b[0m\u001b[0mF\u001b[0m\u001b[0;34m.\u001b[0m\u001b[0mrelu\u001b[0m\u001b[0;34m(\u001b[0m\u001b[0mx\u001b[0m\u001b[0;34m)\u001b[0m\u001b[0;34m)\u001b[0m \u001b[0;32mif\u001b[0m \u001b[0mself\u001b[0m\u001b[0;34m.\u001b[0m\u001b[0mbatch_norm\u001b[0m \u001b[0;32melse\u001b[0m \u001b[0mF\u001b[0m\u001b[0;34m.\u001b[0m\u001b[0mrelu\u001b[0m\u001b[0;34m(\u001b[0m\u001b[0mx\u001b[0m\u001b[0;34m)\u001b[0m\u001b[0;34m\u001b[0m\u001b[0;34m\u001b[0m\u001b[0m\n\u001b[1;32m     87\u001b[0m             \u001b[0mx\u001b[0m \u001b[0;34m=\u001b[0m \u001b[0mF\u001b[0m\u001b[0;34m.\u001b[0m\u001b[0mdropout\u001b[0m\u001b[0;34m(\u001b[0m\u001b[0mx\u001b[0m\u001b[0;34m,\u001b[0m \u001b[0mp\u001b[0m\u001b[0;34m=\u001b[0m\u001b[0mself\u001b[0m\u001b[0;34m.\u001b[0m\u001b[0mdropout\u001b[0m\u001b[0;34m,\u001b[0m \u001b[0mtraining\u001b[0m\u001b[0;34m=\u001b[0m\u001b[0mself\u001b[0m\u001b[0;34m.\u001b[0m\u001b[0mtraining\u001b[0m\u001b[0;34m)\u001b[0m\u001b[0;34m\u001b[0m\u001b[0;34m\u001b[0m\u001b[0m\n",
      "\u001b[0;32m~/github/.envs/.gmc/lib/python3.8/site-packages/torch/nn/modules/module.py\u001b[0m in \u001b[0;36m_call_impl\u001b[0;34m(self, *input, **kwargs)\u001b[0m\n\u001b[1;32m   1049\u001b[0m         if not (self._backward_hooks or self._forward_hooks or self._forward_pre_hooks or _global_backward_hooks\n\u001b[1;32m   1050\u001b[0m                 or _global_forward_hooks or _global_forward_pre_hooks):\n\u001b[0;32m-> 1051\u001b[0;31m             \u001b[0;32mreturn\u001b[0m \u001b[0mforward_call\u001b[0m\u001b[0;34m(\u001b[0m\u001b[0;34m*\u001b[0m\u001b[0minput\u001b[0m\u001b[0;34m,\u001b[0m \u001b[0;34m**\u001b[0m\u001b[0mkwargs\u001b[0m\u001b[0;34m)\u001b[0m\u001b[0;34m\u001b[0m\u001b[0;34m\u001b[0m\u001b[0m\n\u001b[0m\u001b[1;32m   1052\u001b[0m         \u001b[0;31m# Do not call functions when jit is used\u001b[0m\u001b[0;34m\u001b[0m\u001b[0;34m\u001b[0m\u001b[0;34m\u001b[0m\u001b[0m\n\u001b[1;32m   1053\u001b[0m         \u001b[0mfull_backward_hooks\u001b[0m\u001b[0;34m,\u001b[0m \u001b[0mnon_full_backward_hooks\u001b[0m \u001b[0;34m=\u001b[0m \u001b[0;34m[\u001b[0m\u001b[0;34m]\u001b[0m\u001b[0;34m,\u001b[0m \u001b[0;34m[\u001b[0m\u001b[0;34m]\u001b[0m\u001b[0;34m\u001b[0m\u001b[0;34m\u001b[0m\u001b[0m\n",
      "\u001b[0;32m~/github/deep-graph-matching-consensus/dgmc/models/rel.py\u001b[0m in \u001b[0;36mforward\u001b[0;34m(self, x, edge_index)\u001b[0m\n\u001b[1;32m     26\u001b[0m         \u001b[0;34m\"\"\"\"\"\"\u001b[0m\u001b[0;34m\u001b[0m\u001b[0;34m\u001b[0m\u001b[0m\n\u001b[1;32m     27\u001b[0m         \u001b[0mself\u001b[0m\u001b[0;34m.\u001b[0m\u001b[0mflow\u001b[0m \u001b[0;34m=\u001b[0m \u001b[0;34m'source_to_target'\u001b[0m\u001b[0;34m\u001b[0m\u001b[0;34m\u001b[0m\u001b[0m\n\u001b[0;32m---> 28\u001b[0;31m         \u001b[0mout1\u001b[0m \u001b[0;34m=\u001b[0m \u001b[0mself\u001b[0m\u001b[0;34m.\u001b[0m\u001b[0mpropagate\u001b[0m\u001b[0;34m(\u001b[0m\u001b[0medge_index\u001b[0m\u001b[0;34m,\u001b[0m \u001b[0mx\u001b[0m\u001b[0;34m=\u001b[0m\u001b[0mself\u001b[0m\u001b[0;34m.\u001b[0m\u001b[0mlin1\u001b[0m\u001b[0;34m(\u001b[0m\u001b[0mx\u001b[0m\u001b[0;34m)\u001b[0m\u001b[0;34m)\u001b[0m\u001b[0;34m\u001b[0m\u001b[0;34m\u001b[0m\u001b[0m\n\u001b[0m\u001b[1;32m     29\u001b[0m         \u001b[0mself\u001b[0m\u001b[0;34m.\u001b[0m\u001b[0mflow\u001b[0m \u001b[0;34m=\u001b[0m \u001b[0;34m'target_to_source'\u001b[0m\u001b[0;34m\u001b[0m\u001b[0;34m\u001b[0m\u001b[0m\n\u001b[1;32m     30\u001b[0m         \u001b[0mout2\u001b[0m \u001b[0;34m=\u001b[0m \u001b[0mself\u001b[0m\u001b[0;34m.\u001b[0m\u001b[0mpropagate\u001b[0m\u001b[0;34m(\u001b[0m\u001b[0medge_index\u001b[0m\u001b[0;34m,\u001b[0m \u001b[0mx\u001b[0m\u001b[0;34m=\u001b[0m\u001b[0mself\u001b[0m\u001b[0;34m.\u001b[0m\u001b[0mlin2\u001b[0m\u001b[0;34m(\u001b[0m\u001b[0mx\u001b[0m\u001b[0;34m)\u001b[0m\u001b[0;34m)\u001b[0m\u001b[0;34m\u001b[0m\u001b[0;34m\u001b[0m\u001b[0m\n",
      "\u001b[0;32m~/github/.envs/.gmc/lib/python3.8/site-packages/torch/nn/modules/module.py\u001b[0m in \u001b[0;36m_call_impl\u001b[0;34m(self, *input, **kwargs)\u001b[0m\n\u001b[1;32m   1049\u001b[0m         if not (self._backward_hooks or self._forward_hooks or self._forward_pre_hooks or _global_backward_hooks\n\u001b[1;32m   1050\u001b[0m                 or _global_forward_hooks or _global_forward_pre_hooks):\n\u001b[0;32m-> 1051\u001b[0;31m             \u001b[0;32mreturn\u001b[0m \u001b[0mforward_call\u001b[0m\u001b[0;34m(\u001b[0m\u001b[0;34m*\u001b[0m\u001b[0minput\u001b[0m\u001b[0;34m,\u001b[0m \u001b[0;34m**\u001b[0m\u001b[0mkwargs\u001b[0m\u001b[0;34m)\u001b[0m\u001b[0;34m\u001b[0m\u001b[0;34m\u001b[0m\u001b[0m\n\u001b[0m\u001b[1;32m   1052\u001b[0m         \u001b[0;31m# Do not call functions when jit is used\u001b[0m\u001b[0;34m\u001b[0m\u001b[0;34m\u001b[0m\u001b[0;34m\u001b[0m\u001b[0m\n\u001b[1;32m   1053\u001b[0m         \u001b[0mfull_backward_hooks\u001b[0m\u001b[0;34m,\u001b[0m \u001b[0mnon_full_backward_hooks\u001b[0m \u001b[0;34m=\u001b[0m \u001b[0;34m[\u001b[0m\u001b[0;34m]\u001b[0m\u001b[0;34m,\u001b[0m \u001b[0;34m[\u001b[0m\u001b[0;34m]\u001b[0m\u001b[0;34m\u001b[0m\u001b[0;34m\u001b[0m\u001b[0m\n",
      "\u001b[0;32m~/github/.envs/.gmc/lib/python3.8/site-packages/torch/nn/modules/linear.py\u001b[0m in \u001b[0;36mforward\u001b[0;34m(self, input)\u001b[0m\n\u001b[1;32m     94\u001b[0m \u001b[0;34m\u001b[0m\u001b[0m\n\u001b[1;32m     95\u001b[0m     \u001b[0;32mdef\u001b[0m \u001b[0mforward\u001b[0m\u001b[0;34m(\u001b[0m\u001b[0mself\u001b[0m\u001b[0;34m,\u001b[0m \u001b[0minput\u001b[0m\u001b[0;34m:\u001b[0m \u001b[0mTensor\u001b[0m\u001b[0;34m)\u001b[0m \u001b[0;34m->\u001b[0m \u001b[0mTensor\u001b[0m\u001b[0;34m:\u001b[0m\u001b[0;34m\u001b[0m\u001b[0;34m\u001b[0m\u001b[0m\n\u001b[0;32m---> 96\u001b[0;31m         \u001b[0;32mreturn\u001b[0m \u001b[0mF\u001b[0m\u001b[0;34m.\u001b[0m\u001b[0mlinear\u001b[0m\u001b[0;34m(\u001b[0m\u001b[0minput\u001b[0m\u001b[0;34m,\u001b[0m \u001b[0mself\u001b[0m\u001b[0;34m.\u001b[0m\u001b[0mweight\u001b[0m\u001b[0;34m,\u001b[0m \u001b[0mself\u001b[0m\u001b[0;34m.\u001b[0m\u001b[0mbias\u001b[0m\u001b[0;34m)\u001b[0m\u001b[0;34m\u001b[0m\u001b[0;34m\u001b[0m\u001b[0m\n\u001b[0m\u001b[1;32m     97\u001b[0m \u001b[0;34m\u001b[0m\u001b[0m\n\u001b[1;32m     98\u001b[0m     \u001b[0;32mdef\u001b[0m \u001b[0mextra_repr\u001b[0m\u001b[0;34m(\u001b[0m\u001b[0mself\u001b[0m\u001b[0;34m)\u001b[0m \u001b[0;34m->\u001b[0m \u001b[0mstr\u001b[0m\u001b[0;34m:\u001b[0m\u001b[0;34m\u001b[0m\u001b[0;34m\u001b[0m\u001b[0m\n",
      "\u001b[0;32m~/github/.envs/.gmc/lib/python3.8/site-packages/torch/nn/functional.py\u001b[0m in \u001b[0;36mlinear\u001b[0;34m(input, weight, bias)\u001b[0m\n\u001b[1;32m   1845\u001b[0m     \u001b[0;32mif\u001b[0m \u001b[0mhas_torch_function_variadic\u001b[0m\u001b[0;34m(\u001b[0m\u001b[0minput\u001b[0m\u001b[0;34m,\u001b[0m \u001b[0mweight\u001b[0m\u001b[0;34m)\u001b[0m\u001b[0;34m:\u001b[0m\u001b[0;34m\u001b[0m\u001b[0;34m\u001b[0m\u001b[0m\n\u001b[1;32m   1846\u001b[0m         \u001b[0;32mreturn\u001b[0m \u001b[0mhandle_torch_function\u001b[0m\u001b[0;34m(\u001b[0m\u001b[0mlinear\u001b[0m\u001b[0;34m,\u001b[0m \u001b[0;34m(\u001b[0m\u001b[0minput\u001b[0m\u001b[0;34m,\u001b[0m \u001b[0mweight\u001b[0m\u001b[0;34m)\u001b[0m\u001b[0;34m,\u001b[0m \u001b[0minput\u001b[0m\u001b[0;34m,\u001b[0m \u001b[0mweight\u001b[0m\u001b[0;34m,\u001b[0m \u001b[0mbias\u001b[0m\u001b[0;34m=\u001b[0m\u001b[0mbias\u001b[0m\u001b[0;34m)\u001b[0m\u001b[0;34m\u001b[0m\u001b[0;34m\u001b[0m\u001b[0m\n\u001b[0;32m-> 1847\u001b[0;31m     \u001b[0;32mreturn\u001b[0m \u001b[0mtorch\u001b[0m\u001b[0;34m.\u001b[0m\u001b[0m_C\u001b[0m\u001b[0;34m.\u001b[0m\u001b[0m_nn\u001b[0m\u001b[0;34m.\u001b[0m\u001b[0mlinear\u001b[0m\u001b[0;34m(\u001b[0m\u001b[0minput\u001b[0m\u001b[0;34m,\u001b[0m \u001b[0mweight\u001b[0m\u001b[0;34m,\u001b[0m \u001b[0mbias\u001b[0m\u001b[0;34m)\u001b[0m\u001b[0;34m\u001b[0m\u001b[0;34m\u001b[0m\u001b[0m\n\u001b[0m\u001b[1;32m   1848\u001b[0m \u001b[0;34m\u001b[0m\u001b[0m\n\u001b[1;32m   1849\u001b[0m \u001b[0;34m\u001b[0m\u001b[0m\n",
      "\u001b[0;31mRuntimeError\u001b[0m: mat1 and mat2 shapes cannot be multiplied (20000x3029 and 1423x256)"
     ]
    }
   ],
   "source": [
    "model.num_steps = 0\n",
    "with torch.profiler.profile(\n",
    "    schedule=torch.profiler.schedule(\n",
    "        wait=2,\n",
    "        warmup=2,\n",
    "        active=6,\n",
    "        repeat=1),\n",
    "    on_trace_ready=torch.profiler.tensorboard_trace_handler(\"./logs/gnn_v5\"),\n",
    "    with_stack=True\n",
    ") as profiler:\n",
    "    for epoch in range(1, 500):\n",
    "        print(\"Epoch: {}\".format(epoch))\n",
    "        loss = train()\n",
    "        profiler.step()\n",
    "        \n",
    "        if epoch % 5 == 0:\n",
    "            hits1, hits10 = test()\n",
    "            print((f\"{epoch:03d}: Loss: {loss:.4f}, Hits@1: {hits1:.4f}, \"\n",
    "               f\"Hits@10: {hits10:.4f}\"))"
   ]
  },
  {
   "cell_type": "code",
   "execution_count": null,
   "id": "3e27d8fc-e1ec-4648-bd2c-c06a6bcf1abf",
   "metadata": {
    "execution": {
     "iopub.status.busy": "2021-09-09T14:42:14.653161Z",
     "iopub.status.idle": "2021-09-09T14:42:14.653355Z",
     "shell.execute_reply": "2021-09-09T14:42:14.653265Z",
     "shell.execute_reply.started": "2021-09-09T14:42:14.653255Z"
    },
    "tags": []
   },
   "outputs": [],
   "source": [
    "print('Optimize initial feature matching...')\n",
    "model.num_steps = 0\n",
    "for epoch in range(1, 6):\n",
    "    if epoch == 3:\n",
    "        print('Refine correspondence matrix...')\n",
    "        model.num_steps = args.num_steps\n",
    "        model.detach = True\n",
    "\n",
    "    loss = train()\n",
    "\n",
    "    #if epoch % 10 == 0 or epoch > 100:\n",
    "    if True:\n",
    "        hits1, hits10 = test()\n",
    "        print((f'{epoch:03d}: Loss: {loss:.4f}, Hits@1: {hits1:.4f}, '\n",
    "               f'Hits@10: {hits10:.4f}'))"
   ]
  },
  {
   "cell_type": "code",
   "execution_count": null,
   "id": "bd60c78d-b161-414c-937e-efc783657ca4",
   "metadata": {},
   "outputs": [],
   "source": []
  }
 ],
 "metadata": {
  "kernelspec": {
   "display_name": "Python 3",
   "language": "python",
   "name": "python3"
  },
  "language_info": {
   "codemirror_mode": {
    "name": "ipython",
    "version": 3
   },
   "file_extension": ".py",
   "mimetype": "text/x-python",
   "name": "python",
   "nbconvert_exporter": "python",
   "pygments_lexer": "ipython3",
   "version": "3.8.3"
  }
 },
 "nbformat": 4,
 "nbformat_minor": 5
}
