{
 "cells": [
  {
   "cell_type": "markdown",
   "id": "ad13c515-1fcf-4fbe-91b2-a5f2b16d857c",
   "metadata": {},
   "source": [
    "# Node Classification"
   ]
  },
  {
   "cell_type": "code",
   "execution_count": 57,
   "id": "26072b1e-8689-4541-a1eb-e7ba8dccb19b",
   "metadata": {
    "execution": {
     "iopub.execute_input": "2021-08-04T23:13:10.910767Z",
     "iopub.status.busy": "2021-08-04T23:13:10.910427Z",
     "iopub.status.idle": "2021-08-04T23:13:10.931808Z",
     "shell.execute_reply": "2021-08-04T23:13:10.930982Z",
     "shell.execute_reply.started": "2021-08-04T23:13:10.910752Z"
    },
    "tags": []
   },
   "outputs": [],
   "source": [
    "import numpy as np\n",
    "import pandas as pd\n",
    "#import matplotlib.pyplot as plt\n",
    "from sklearn.model_selection import train_test_split\n",
    "from sklearn.preprocessing import OneHotEncoder, LabelEncoder\n",
    "#import tensorflow as tf\n",
    "import torch\n",
    "from torch_geometric.data import Data, DataLoader\n",
    "import dgmc\n",
    "from urllib.parse import urlparse\n",
    "from torch_geometric.utils import to_networkx\n",
    "import networkx as nx\n",
    "import matplotlib.pyplot as plt\n",
    "import funcs\n",
    "\n",
    "%reload_ext autoreload\n",
    "%autoreload 2"
   ]
  },
  {
   "cell_type": "markdown",
   "id": "ba55fbb0-8d49-4a75-8d0f-c2d687077a8b",
   "metadata": {},
   "source": [
    "## Load Data\n",
    "Loading a days sample of data that was manually extracted from Hive. In this notebook we will just use the Sizmek data for node classification."
   ]
  },
  {
   "cell_type": "code",
   "execution_count": 8,
   "id": "5b671253-9a53-446e-83d9-1ee778fd1d5d",
   "metadata": {
    "execution": {
     "iopub.execute_input": "2021-08-04T22:50:53.800613Z",
     "iopub.status.busy": "2021-08-04T22:50:53.800226Z",
     "iopub.status.idle": "2021-08-04T22:50:53.894318Z",
     "shell.execute_reply": "2021-08-04T22:50:53.893445Z",
     "shell.execute_reply.started": "2021-08-04T22:50:53.800594Z"
    },
    "tags": []
   },
   "outputs": [
    {
     "name": "stdout",
     "output_type": "stream",
     "text": [
      "Zync data shape: (10000, 16)\n",
      "Sizmek data shape: (10000, 16)\n"
     ]
    }
   ],
   "source": [
    "zync = pd.read_csv(\"data/zync_session_tracking_orc_20210625_10k.csv\")\n",
    "print(f\"Zync data shape: {zync.shape}\")\n",
    "\n",
    "sizmek = pd.read_csv(\"data/sizmek_bidstream_raw_20210625_10k.csv\")\n",
    "print(f\"Sizmek data shape: {sizmek.shape}\")\n",
    "\n",
    "# Fix column headers\n",
    "zync.columns = [i.split(\".\")[1] for i in zync.columns]\n",
    "sizmek.columns = [i.split(\".\")[1] for i in sizmek.columns]\n",
    "\n",
    "def make_smaller(df, frac):\n",
    "    new_df = df.copy()\n",
    "    new_df = new_df.sample(frac=frac, replace=False)\n",
    "    return new_df\n",
    "\n",
    "#zync = make_smaller(zync, 0.1)\n",
    "#sizmek = make_smaller(sizmek, 0.1)"
   ]
  },
  {
   "cell_type": "code",
   "execution_count": 9,
   "id": "aa2e44fd-ce1c-4d05-b3f6-3c0082a8e9fb",
   "metadata": {
    "execution": {
     "iopub.execute_input": "2021-08-04T22:50:54.111129Z",
     "iopub.status.busy": "2021-08-04T22:50:54.110736Z",
     "iopub.status.idle": "2021-08-04T22:50:54.122492Z",
     "shell.execute_reply": "2021-08-04T22:50:54.121754Z",
     "shell.execute_reply.started": "2021-08-04T22:50:54.111110Z"
    },
    "tags": []
   },
   "outputs": [
    {
     "data": {
      "text/html": [
       "<div>\n",
       "<style scoped>\n",
       "    .dataframe tbody tr th:only-of-type {\n",
       "        vertical-align: middle;\n",
       "    }\n",
       "\n",
       "    .dataframe tbody tr th {\n",
       "        vertical-align: top;\n",
       "    }\n",
       "\n",
       "    .dataframe thead th {\n",
       "        text-align: right;\n",
       "    }\n",
       "</style>\n",
       "<table border=\"1\" class=\"dataframe\">\n",
       "  <thead>\n",
       "    <tr style=\"text-align: right;\">\n",
       "      <th></th>\n",
       "      <th>user_id</th>\n",
       "      <th>household_cluster_id</th>\n",
       "      <th>zeta_user_id</th>\n",
       "      <th>account_id</th>\n",
       "      <th>url</th>\n",
       "      <th>referrer_url</th>\n",
       "      <th>city_code</th>\n",
       "      <th>state_code</th>\n",
       "      <th>zip_code</th>\n",
       "      <th>dma_code</th>\n",
       "      <th>country_code</th>\n",
       "      <th>user_agent</th>\n",
       "      <th>mobile_id</th>\n",
       "      <th>ip</th>\n",
       "      <th>server_timestamp</th>\n",
       "      <th>dt</th>\n",
       "    </tr>\n",
       "  </thead>\n",
       "  <tbody>\n",
       "    <tr>\n",
       "      <th>0</th>\n",
       "      <td>163543465731194</td>\n",
       "      <td>NaN</td>\n",
       "      <td>NaN</td>\n",
       "      <td>19967</td>\n",
       "      <td>http://mob.app.de.wetteronline.wetterapp</td>\n",
       "      <td>NaN</td>\n",
       "      <td>3103824.0</td>\n",
       "      <td>NaN</td>\n",
       "      <td>NaN</td>\n",
       "      <td>NaN</td>\n",
       "      <td>PL</td>\n",
       "      <td>Mozilla/5.0 (Linux; Android 11; SM-A715F Build...</td>\n",
       "      <td>b7f4d610-7879-4394-aa2b-bfb9f2b1c25b</td>\n",
       "      <td>31.0.26.0</td>\n",
       "      <td>1624622086664</td>\n",
       "      <td>20210625</td>\n",
       "    </tr>\n",
       "  </tbody>\n",
       "</table>\n",
       "</div>"
      ],
      "text/plain": [
       "           user_id  household_cluster_id zeta_user_id  account_id  \\\n",
       "0  163543465731194                   NaN          NaN       19967   \n",
       "\n",
       "                                        url referrer_url  city_code  \\\n",
       "0  http://mob.app.de.wetteronline.wetterapp          NaN  3103824.0   \n",
       "\n",
       "  state_code zip_code  dma_code country_code  \\\n",
       "0        NaN      NaN       NaN           PL   \n",
       "\n",
       "                                          user_agent  \\\n",
       "0  Mozilla/5.0 (Linux; Android 11; SM-A715F Build...   \n",
       "\n",
       "                              mobile_id         ip  server_timestamp        dt  \n",
       "0  b7f4d610-7879-4394-aa2b-bfb9f2b1c25b  31.0.26.0     1624622086664  20210625  "
      ]
     },
     "execution_count": 9,
     "metadata": {},
     "output_type": "execute_result"
    }
   ],
   "source": [
    "sizmek.head(1)"
   ]
  },
  {
   "cell_type": "code",
   "execution_count": 10,
   "id": "ab728f5a-694f-4c9a-b50f-294fa677f995",
   "metadata": {
    "execution": {
     "iopub.execute_input": "2021-08-04T22:50:54.983380Z",
     "iopub.status.busy": "2021-08-04T22:50:54.982994Z",
     "iopub.status.idle": "2021-08-04T22:50:54.995612Z",
     "shell.execute_reply": "2021-08-04T22:50:54.994888Z",
     "shell.execute_reply.started": "2021-08-04T22:50:54.983363Z"
    },
    "tags": []
   },
   "outputs": [
    {
     "data": {
      "text/html": [
       "<div>\n",
       "<style scoped>\n",
       "    .dataframe tbody tr th:only-of-type {\n",
       "        vertical-align: middle;\n",
       "    }\n",
       "\n",
       "    .dataframe tbody tr th {\n",
       "        vertical-align: top;\n",
       "    }\n",
       "\n",
       "    .dataframe thead th {\n",
       "        text-align: right;\n",
       "    }\n",
       "</style>\n",
       "<table border=\"1\" class=\"dataframe\">\n",
       "  <thead>\n",
       "    <tr style=\"text-align: right;\">\n",
       "      <th></th>\n",
       "      <th>session_id</th>\n",
       "      <th>client</th>\n",
       "      <th>client_id</th>\n",
       "      <th>remote_addr</th>\n",
       "      <th>referrer</th>\n",
       "      <th>user_agent_platform</th>\n",
       "      <th>user_agent_language</th>\n",
       "      <th>user_agent_browser</th>\n",
       "      <th>user_agent_string</th>\n",
       "      <th>user_agent_version</th>\n",
       "      <th>timestamp</th>\n",
       "      <th>geo_data</th>\n",
       "      <th>partner_data</th>\n",
       "      <th>session</th>\n",
       "      <th>consent_data</th>\n",
       "      <th>dt</th>\n",
       "    </tr>\n",
       "  </thead>\n",
       "  <tbody>\n",
       "    <tr>\n",
       "      <th>0</th>\n",
       "      <td>042daa1a-aa73-47f0-89f4-5ead6821767e:161417230...</td>\n",
       "      <td>disqus</td>\n",
       "      <td>c3rj9u181f91uc2</td>\n",
       "      <td>128.201.40.29</td>\n",
       "      <td>https://www.biorxiv.org/content/10.1101/560755...</td>\n",
       "      <td>windows</td>\n",
       "      <td>NaN</td>\n",
       "      <td>chrome</td>\n",
       "      <td>Mozilla/5.0 (Windows NT 10.0; Win64; x64) Appl...</td>\n",
       "      <td>91.0.4472.114</td>\n",
       "      <td>1.624644e+09</td>\n",
       "      <td>{\"country\":\"BR\",\"subdivision\":\"RJ\",\"coordinate...</td>\n",
       "      <td>NaN</td>\n",
       "      <td>{\"clients\":{\"appnexus\":null,\"disqus\":\"c3rj9u18...</td>\n",
       "      <td>{\"gdpr\":null,\"gdpr_consent\":null}</td>\n",
       "      <td>2021-06-25-18</td>\n",
       "    </tr>\n",
       "  </tbody>\n",
       "</table>\n",
       "</div>"
      ],
      "text/plain": [
       "                                          session_id  client        client_id  \\\n",
       "0  042daa1a-aa73-47f0-89f4-5ead6821767e:161417230...  disqus  c3rj9u181f91uc2   \n",
       "\n",
       "     remote_addr                                           referrer  \\\n",
       "0  128.201.40.29  https://www.biorxiv.org/content/10.1101/560755...   \n",
       "\n",
       "  user_agent_platform user_agent_language user_agent_browser  \\\n",
       "0             windows                 NaN             chrome   \n",
       "\n",
       "                                   user_agent_string user_agent_version  \\\n",
       "0  Mozilla/5.0 (Windows NT 10.0; Win64; x64) Appl...      91.0.4472.114   \n",
       "\n",
       "      timestamp                                           geo_data  \\\n",
       "0  1.624644e+09  {\"country\":\"BR\",\"subdivision\":\"RJ\",\"coordinate...   \n",
       "\n",
       "  partner_data                                            session  \\\n",
       "0          NaN  {\"clients\":{\"appnexus\":null,\"disqus\":\"c3rj9u18...   \n",
       "\n",
       "                        consent_data             dt  \n",
       "0  {\"gdpr\":null,\"gdpr_consent\":null}  2021-06-25-18  "
      ]
     },
     "execution_count": 10,
     "metadata": {},
     "output_type": "execute_result"
    }
   ],
   "source": [
    "zync.head(1)"
   ]
  },
  {
   "cell_type": "markdown",
   "id": "625ff290-9114-4dea-94f5-ca1b8d7dde96",
   "metadata": {},
   "source": [
    "## Transform Data"
   ]
  },
  {
   "cell_type": "markdown",
   "id": "5d005da5-2688-4ffb-9528-f94d3f8160cc",
   "metadata": {},
   "source": [
    "### Create Edges\n",
    "Parse the base url domain for increased matching and then apply the functions defined up top to create the list of edge connections within the dataset."
   ]
  },
  {
   "cell_type": "code",
   "execution_count": 12,
   "id": "5bbf6e0d-bded-4dc6-8056-7f905d88c241",
   "metadata": {
    "execution": {
     "iopub.execute_input": "2021-08-04T22:51:22.812026Z",
     "iopub.status.busy": "2021-08-04T22:51:22.811690Z",
     "iopub.status.idle": "2021-08-04T22:51:23.816378Z",
     "shell.execute_reply": "2021-08-04T22:51:23.815724Z",
     "shell.execute_reply.started": "2021-08-04T22:51:22.812011Z"
    },
    "tags": []
   },
   "outputs": [
    {
     "data": {
      "text/html": [
       "<div>\n",
       "<style scoped>\n",
       "    .dataframe tbody tr th:only-of-type {\n",
       "        vertical-align: middle;\n",
       "    }\n",
       "\n",
       "    .dataframe tbody tr th {\n",
       "        vertical-align: top;\n",
       "    }\n",
       "\n",
       "    .dataframe thead th {\n",
       "        text-align: right;\n",
       "    }\n",
       "</style>\n",
       "<table border=\"1\" class=\"dataframe\">\n",
       "  <thead>\n",
       "    <tr style=\"text-align: right;\">\n",
       "      <th></th>\n",
       "      <th>source</th>\n",
       "      <th>target</th>\n",
       "      <th>column</th>\n",
       "      <th>value</th>\n",
       "    </tr>\n",
       "  </thead>\n",
       "  <tbody>\n",
       "    <tr>\n",
       "      <th>0</th>\n",
       "      <td>0</td>\n",
       "      <td>0</td>\n",
       "      <td>url</td>\n",
       "      <td>http://mob.app.de.wetteronline.wetterapp</td>\n",
       "    </tr>\n",
       "    <tr>\n",
       "      <th>1</th>\n",
       "      <td>0</td>\n",
       "      <td>1</td>\n",
       "      <td>url</td>\n",
       "      <td>http://mob.app.de.wetteronline.wetterapp</td>\n",
       "    </tr>\n",
       "  </tbody>\n",
       "</table>\n",
       "</div>"
      ],
      "text/plain": [
       "   source  target column                                     value\n",
       "0       0       0    url  http://mob.app.de.wetteronline.wetterapp\n",
       "1       0       1    url  http://mob.app.de.wetteronline.wetterapp"
      ]
     },
     "execution_count": 12,
     "metadata": {},
     "output_type": "execute_result"
    }
   ],
   "source": [
    "sizmek[\"url_domain\"] = sizmek['url'].apply(\n",
    "    lambda x: urlparse(x).netloc if pd.notnull(x) else x\n",
    ")\n",
    "sizmek_edges = funcs.connect_edges(sizmek, \"url\")\n",
    "sizmek_edges.head(2)"
   ]
  },
  {
   "cell_type": "code",
   "execution_count": 13,
   "id": "e46413ce-83e4-4b16-865e-c19388555512",
   "metadata": {
    "execution": {
     "iopub.execute_input": "2021-08-04T22:51:25.934072Z",
     "iopub.status.busy": "2021-08-04T22:51:25.933708Z",
     "iopub.status.idle": "2021-08-04T22:51:25.939871Z",
     "shell.execute_reply": "2021-08-04T22:51:25.939187Z",
     "shell.execute_reply.started": "2021-08-04T22:51:25.934057Z"
    },
    "tags": []
   },
   "outputs": [
    {
     "data": {
      "text/plain": [
       "fa3e335a-6b70-45b0-a9fb-ac71d098a924:1613777483.13    4015\n",
       "8fe07ef8-3b0f-4807-a047-1b25e88afdd3:1624070625.62     579\n",
       "8504cfc5-a47f-4d2c-b151-8034b08d313d:1564656094.89     421\n",
       "Name: zeta_user_id, dtype: int64"
      ]
     },
     "execution_count": 13,
     "metadata": {},
     "output_type": "execute_result"
    }
   ],
   "source": [
    "sizmek['zeta_user_id'].value_counts()[:3]"
   ]
  },
  {
   "cell_type": "markdown",
   "id": "4f522d43-1045-42c6-9fe5-0b1e603bc297",
   "metadata": {},
   "source": [
    "### Create Features\n",
    "Use a standard one-hot encoding method of select columns and transform to a new DataFrame"
   ]
  },
  {
   "cell_type": "code",
   "execution_count": 14,
   "id": "91da7a94-06e9-4855-becd-9a404e1ea702",
   "metadata": {
    "execution": {
     "iopub.execute_input": "2021-08-04T22:51:30.782026Z",
     "iopub.status.busy": "2021-08-04T22:51:30.781683Z",
     "iopub.status.idle": "2021-08-04T22:51:30.849863Z",
     "shell.execute_reply": "2021-08-04T22:51:30.849203Z",
     "shell.execute_reply.started": "2021-08-04T22:51:30.782010Z"
    },
    "tags": []
   },
   "outputs": [
    {
     "name": "stdout",
     "output_type": "stream",
     "text": [
      "Unique features: 596\n",
      "Unique labels: 67\n",
      "Percent of labels missing: 29.68%\n"
     ]
    }
   ],
   "source": [
    "feature_cols = [\"account_id\", \"referrer_url\", \"city_code\", \n",
    "                \"state_code\", \"dma_code\", \"country_code\"]\n",
    "\n",
    "feature_enc = OneHotEncoder(handle_unknown=\"ignore\")\n",
    "sizmek_features = pd.DataFrame(\n",
    "    feature_enc.fit_transform(sizmek[feature_cols]).toarray(), \n",
    "    columns=feature_enc.get_feature_names(feature_cols)\n",
    ")\n",
    "print(f\"Unique features: {sizmek_features.shape[1]}\")\n",
    "\n",
    "label_enc = LabelEncoder()\n",
    "labels = label_enc.fit_transform(sizmek[\"zeta_user_id\"])\n",
    "labels = torch.tensor(labels, dtype=torch.long)\n",
    "print(f\"Unique labels: {max(labels)}\")\n",
    "\n",
    "missing_ratio = sizmek[\"zeta_user_id\"].isna().sum() / len(sizmek)\n",
    "print(f\"Percent of labels missing: {missing_ratio:.2%}\")"
   ]
  },
  {
   "cell_type": "markdown",
   "id": "8a8dc9e2-8b70-437e-b44e-9592fd102a42",
   "metadata": {},
   "source": [
    "## Create Custom Graph Class\n",
    "We will use PyTorch Geometric to create a graph by subclassing their standard graph class `torch_geometric.data.Data`. The following are the basics needed to train in this situation:\n",
    "- x: the matrix of features\n",
    "- edge_index: set of connecting edges for source/target\n",
    "- y: the labels for classifying the nodes\n",
    "- train_mask: boolean mask for specifying which nodes to train on"
   ]
  },
  {
   "cell_type": "code",
   "execution_count": 40,
   "id": "a05a4340-f715-4014-9abc-2987eab77fbb",
   "metadata": {
    "execution": {
     "iopub.execute_input": "2021-08-04T23:08:28.733746Z",
     "iopub.status.busy": "2021-08-04T23:08:28.733127Z",
     "iopub.status.idle": "2021-08-04T23:08:28.760680Z",
     "shell.execute_reply": "2021-08-04T23:08:28.759767Z",
     "shell.execute_reply.started": "2021-08-04T23:08:28.733724Z"
    },
    "tags": []
   },
   "outputs": [],
   "source": [
    "class MyData(Data):\n",
    "    def __init__(self, x, edge_index, y, train_mask):\n",
    "        super(MyData, self).__init__()\n",
    "        self.x = x\n",
    "        self.edge_index = edge_index\n",
    "        self.y = y\n",
    "        self.train_mask = train_mask\n",
    "        \n",
    "    @property\n",
    "    def num_features(self):\n",
    "        return self.x.shape[1]\n",
    "    \n",
    "    @property\n",
    "    def num_classes(self):\n",
    "        return self.y.__len__()\n",
    "        \n",
    "\n",
    "sizmek_data = MyData(\n",
    "    x=torch.tensor(sizmek_features.values, dtype=torch.float),\n",
    "    edge_index=torch.tensor(sizmek_edges[['source','target']].T.values, dtype=torch.long),\n",
    "    y=labels,\n",
    "    train_mask=sizmek[\"zeta_user_id\"].isna()\n",
    ")"
   ]
  },
  {
   "cell_type": "markdown",
   "id": "9cb889c6-d1b8-4cce-91dc-22afee297323",
   "metadata": {},
   "source": [
    "## Modeling\n",
    "The model will be a combination of graph convolution layers and tanh activations.\n",
    "\n",
    "### Define Model"
   ]
  },
  {
   "cell_type": "code",
   "execution_count": 42,
   "id": "f70d387a-7fcf-49fa-998d-f8370b3966be",
   "metadata": {
    "execution": {
     "iopub.execute_input": "2021-08-04T23:08:31.745163Z",
     "iopub.status.busy": "2021-08-04T23:08:31.744817Z",
     "iopub.status.idle": "2021-08-04T23:08:31.752648Z",
     "shell.execute_reply": "2021-08-04T23:08:31.751869Z",
     "shell.execute_reply.started": "2021-08-04T23:08:31.745148Z"
    },
    "tags": []
   },
   "outputs": [],
   "source": [
    "import pytorch_lightning as pl\n",
    "from torch.nn import Linear\n",
    "from torch_geometric.nn import GCNConv\n",
    "\n",
    "class GCN(pl.LightningModule):\n",
    "    def __init__(self, dataset):\n",
    "        super(GCN, self).__init__()\n",
    "        torch.manual_seed(0)\n",
    "        self.conv1 = GCNConv(dataset.num_features, 4)\n",
    "        self.conv2 = GCNConv(4, 4)\n",
    "        self.conv3 = GCNConv(4, 2)\n",
    "        self.classifier = Linear(2, dataset.num_classes)\n",
    "        \n",
    "        self.in_channels = dataset.num_features\n",
    "        self.out_channels = dataset.num_classes\n",
    "\n",
    "    def forward(self, x, edge_index, edge_attr=None):\n",
    "        h = self.conv1(x, edge_index)\n",
    "        h = h.tanh()\n",
    "        h = self.conv2(h, edge_index)\n",
    "        h = h.tanh()\n",
    "        h = self.conv3(h, edge_index)\n",
    "        h = h.tanh()  # Final GNN embedding space.\n",
    "        \n",
    "        # Apply a final (linear) classifier.\n",
    "        out = self.classifier(h)\n",
    "\n",
    "        return out, h\n",
    "    \n",
    "model = GCN(sizmek_data)"
   ]
  },
  {
   "cell_type": "markdown",
   "id": "dd27b5de-cd3f-4c92-89e6-96ecd2fb063c",
   "metadata": {},
   "source": [
    "### Visualize Embeddings\n",
    "Before training we can go ahead and do a single pass of the network and visualize the outputs with T-SNE. The ideal outcome is that the different colors will become linearly seperable but for now they will mostly be bunched together due to the random activations of the weights."
   ]
  },
  {
   "cell_type": "code",
   "execution_count": 46,
   "id": "7609d00e-9827-4771-98d4-9e72be6b097d",
   "metadata": {
    "execution": {
     "iopub.execute_input": "2021-08-04T23:09:11.092768Z",
     "iopub.status.busy": "2021-08-04T23:09:11.092351Z",
     "iopub.status.idle": "2021-08-04T23:09:11.542039Z",
     "shell.execute_reply": "2021-08-04T23:09:11.541355Z",
     "shell.execute_reply.started": "2021-08-04T23:09:11.092748Z"
    },
    "tags": []
   },
   "outputs": [
    {
     "name": "stdout",
     "output_type": "stream",
     "text": [
      "Embedding shape: [10000, 2]\n"
     ]
    },
    {
     "data": {
      "image/png": "[encoded data removed]",
      "text/plain": [
       "<Figure size 504x504 with 1 Axes>"
      ]
     },
     "metadata": {},
     "output_type": "display_data"
    }
   ],
   "source": [
    "_, h = model(sizmek_data.x, sizmek_data.edge_index)\n",
    "print(f'Embedding shape: {list(h.shape)}')\n",
    "\n",
    "funcs.visualize(h, color=sizmek_data.y)\n",
    "\n",
    "#G = to_networkx(d, to_undirected=True)\n",
    "#visualize(G, color=d.y)"
   ]
  },
  {
   "cell_type": "markdown",
   "id": "52005f38-d07e-49b1-9c7a-89273214ab3f",
   "metadata": {},
   "source": [
    "### Train"
   ]
  },
  {
   "cell_type": "code",
   "execution_count": 51,
   "id": "d2532f96-383f-45fd-87fd-2f288fca12e8",
   "metadata": {
    "execution": {
     "iopub.execute_input": "2021-08-04T23:11:49.977245Z",
     "iopub.status.busy": "2021-08-04T23:11:49.976834Z",
     "iopub.status.idle": "2021-08-04T23:11:54.825020Z",
     "shell.execute_reply": "2021-08-04T23:11:54.824310Z",
     "shell.execute_reply.started": "2021-08-04T23:11:49.977218Z"
    },
    "tags": []
   },
   "outputs": [
    {
     "name": "stdout",
     "output_type": "stream",
     "text": [
      "Epoch: 000, Loss: 9.4750\n",
      "Epoch: 001, Loss: 9.3362\n",
      "Epoch: 002, Loss: 9.2048\n",
      "Epoch: 003, Loss: 9.0787\n",
      "Epoch: 004, Loss: 8.9613\n"
     ]
    }
   ],
   "source": [
    "criterion = torch.nn.CrossEntropyLoss()  # Define loss criterion\n",
    "optimizer = torch.optim.Adam(model.parameters(), lr=0.01)  # Define optimizer\n",
    "for epoch in range(5):\n",
    "    #loss, h = train(sizmek_data)\n",
    "    #model.train()\n",
    "    optimizer.zero_grad()  # Clear gradients\n",
    "    out, h = model(sizmek_data.x, sizmek_data.edge_index)  # Perform a single forward pass\n",
    "    loss = criterion(out[sizmek_data.train_mask], sizmek_data.y[sizmek_data.train_mask]) # calc loss on training nodes\n",
    "    loss.backward()  # Derive gradients\n",
    "    optimizer.step()  # Update parameters based on gradients\n",
    "    print(f'Epoch: {epoch:03d}, Loss: {loss:.4f}')\n",
    "    #if epoch % 5 == 0:\n",
    "    #    visualize(h, color=d.y, epoch=epoch, loss=loss)\n",
    "    #    time.sleep(0.3)"
   ]
  },
  {
   "cell_type": "markdown",
   "id": "c7b903ba-e409-4a98-9a16-22b6155c55b4",
   "metadata": {},
   "source": [
    "#### Evaluate"
   ]
  },
  {
   "cell_type": "code",
   "execution_count": 61,
   "id": "b8ec08f8-6b2b-45ee-8ae2-1cf358b379be",
   "metadata": {
    "execution": {
     "iopub.execute_input": "2021-08-04T23:13:35.147249Z",
     "iopub.status.busy": "2021-08-04T23:13:35.146877Z",
     "iopub.status.idle": "2021-08-04T23:13:35.551544Z",
     "shell.execute_reply": "2021-08-04T23:13:35.550665Z",
     "shell.execute_reply.started": "2021-08-04T23:13:35.147232Z"
    },
    "tags": []
   },
   "outputs": [
    {
     "name": "stdout",
     "output_type": "stream",
     "text": [
      "Correct predictions: 0\n",
      "Test Accuracy: -0.0000\n"
     ]
    }
   ],
   "source": [
    "test_acc = funcs.test(sizmek_data, model)\n",
    "print(f'Test Accuracy: {test_acc:.4f}')"
   ]
  },
  {
   "cell_type": "code",
   "execution_count": null,
   "id": "96bbf666-19bb-4b3d-b366-4f078d1db8af",
   "metadata": {},
   "outputs": [],
   "source": []
  }
 ],
 "metadata": {
  "kernelspec": {
   "display_name": "Python 3",
   "language": "python",
   "name": "python3"
  },
  "language_info": {
   "codemirror_mode": {
    "name": "ipython",
    "version": 3
   },
   "file_extension": ".py",
   "mimetype": "text/x-python",
   "name": "python",
   "nbconvert_exporter": "python",
   "pygments_lexer": "ipython3",
   "version": "3.8.3"
  }
 },
 "nbformat": 4,
 "nbformat_minor": 5
}
