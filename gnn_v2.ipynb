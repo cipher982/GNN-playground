{
 "cells": [
  {
   "cell_type": "code",
   "execution_count": 63,
   "id": "26072b1e-8689-4541-a1eb-e7ba8dccb19b",
   "metadata": {
    "execution": {
     "iopub.execute_input": "2021-07-31T20:33:13.966786Z",
     "iopub.status.busy": "2021-07-31T20:33:13.966436Z",
     "iopub.status.idle": "2021-07-31T20:33:14.385841Z",
     "shell.execute_reply": "2021-07-31T20:33:14.385205Z",
     "shell.execute_reply.started": "2021-07-31T20:33:13.966767Z"
    },
    "tags": []
   },
   "outputs": [],
   "source": [
    "import numpy as np\n",
    "import pandas as pd\n",
    "#import matplotlib.pyplot as plt\n",
    "from sklearn.model_selection import train_test_split\n",
    "from sklearn.preprocessing import OneHotEncoder, LabelEncoder\n",
    "#import tensorflow as tf\n",
    "import torch\n",
    "from torch_geometric.data import Data\n",
    "from urllib.parse import urlparse\n"
   ]
  },
  {
   "cell_type": "code",
   "execution_count": 50,
   "id": "d4988207-e7bd-44fc-b581-23b8cc781abe",
   "metadata": {
    "execution": {
     "iopub.execute_input": "2021-07-31T20:25:40.882761Z",
     "iopub.status.busy": "2021-07-31T20:25:40.882398Z",
     "iopub.status.idle": "2021-07-31T20:25:40.887205Z",
     "shell.execute_reply": "2021-07-31T20:25:40.886533Z",
     "shell.execute_reply.started": "2021-07-31T20:25:40.882746Z"
    },
    "tags": []
   },
   "outputs": [],
   "source": [
    "def create_dict(table, col):\n",
    "    table_dict = {}\n",
    "    for ix, value in enumerate(table[col]):\n",
    "        #print(value)\n",
    "        if value != value:\n",
    "            continue\n",
    "        if value in table_dict:\n",
    "            table_dict[value].append(ix)\n",
    "        else:\n",
    "            table_dict[value] = [ix]\n",
    "    return table_dict\n",
    "\n",
    "def search_table(table, column):\n",
    "    connections = []\n",
    "    lookup_dict = create_dict(table, column)\n",
    "    for ix, value in enumerate(table[column]):\n",
    "        if value in lookup_dict:\n",
    "            for item in lookup_dict[value]:\n",
    "                connections.append((ix, item, column, value))\n",
    "    connections = pd.DataFrame(\n",
    "        connections, \n",
    "        columns=['source', 'target', 'column', 'value']\n",
    "    )\n",
    "    return connections"
   ]
  },
  {
   "cell_type": "markdown",
   "id": "ba55fbb0-8d49-4a75-8d0f-c2d687077a8b",
   "metadata": {},
   "source": [
    "## Load Data"
   ]
  },
  {
   "cell_type": "code",
   "execution_count": 54,
   "id": "5b671253-9a53-446e-83d9-1ee778fd1d5d",
   "metadata": {
    "execution": {
     "iopub.execute_input": "2021-07-31T20:27:03.065924Z",
     "iopub.status.busy": "2021-07-31T20:27:03.065575Z",
     "iopub.status.idle": "2021-07-31T20:27:03.618452Z",
     "shell.execute_reply": "2021-07-31T20:27:03.617784Z",
     "shell.execute_reply.started": "2021-07-31T20:27:03.065893Z"
    },
    "tags": []
   },
   "outputs": [
    {
     "name": "stdout",
     "output_type": "stream",
     "text": [
      "Zync data shape: (99999, 16)\n",
      "Sizmek data shape: (10000, 16)\n"
     ]
    }
   ],
   "source": [
    "zync = pd.read_csv(\"data/zync_session_tracking_orc_20210625_all.csv\")\n",
    "print(f\"Zync data shape: {zync.shape}\")\n",
    "\n",
    "sizmek = pd.read_csv(\"data/sizmek_bidstream_raw_20210625_10k.csv\")\n",
    "print(f\"Sizmek data shape: {sizmek.shape}\")\n",
    "\n",
    "# Fix column headers\n",
    "zync.columns = [i.split(\".\")[1] for i in zync.columns]\n",
    "sizmek.columns = [i.split(\".\")[1] for i in sizmek.columns]\n",
    "\n",
    "def make_smaller(df, frac):\n",
    "    new_df = df.copy()\n",
    "    new_df = new_df.sample(frac=frac, replace=False)\n",
    "    return new_df\n",
    "\n",
    "#zync = make_smaller(zync, 0.1)\n",
    "#sizmek = make_smaller(sizmek, 0.1)"
   ]
  },
  {
   "cell_type": "code",
   "execution_count": 55,
   "id": "aa2e44fd-ce1c-4d05-b3f6-3c0082a8e9fb",
   "metadata": {
    "execution": {
     "iopub.execute_input": "2021-07-31T20:27:03.747584Z",
     "iopub.status.busy": "2021-07-31T20:27:03.747260Z",
     "iopub.status.idle": "2021-07-31T20:27:03.758427Z",
     "shell.execute_reply": "2021-07-31T20:27:03.757788Z",
     "shell.execute_reply.started": "2021-07-31T20:27:03.747567Z"
    },
    "tags": []
   },
   "outputs": [
    {
     "data": {
      "text/html": [
       "<div>\n",
       "<style scoped>\n",
       "    .dataframe tbody tr th:only-of-type {\n",
       "        vertical-align: middle;\n",
       "    }\n",
       "\n",
       "    .dataframe tbody tr th {\n",
       "        vertical-align: top;\n",
       "    }\n",
       "\n",
       "    .dataframe thead th {\n",
       "        text-align: right;\n",
       "    }\n",
       "</style>\n",
       "<table border=\"1\" class=\"dataframe\">\n",
       "  <thead>\n",
       "    <tr style=\"text-align: right;\">\n",
       "      <th></th>\n",
       "      <th>user_id</th>\n",
       "      <th>household_cluster_id</th>\n",
       "      <th>zeta_user_id</th>\n",
       "      <th>account_id</th>\n",
       "      <th>url</th>\n",
       "      <th>referrer_url</th>\n",
       "      <th>city_code</th>\n",
       "      <th>state_code</th>\n",
       "      <th>zip_code</th>\n",
       "      <th>dma_code</th>\n",
       "      <th>country_code</th>\n",
       "      <th>user_agent</th>\n",
       "      <th>mobile_id</th>\n",
       "      <th>ip</th>\n",
       "      <th>server_timestamp</th>\n",
       "      <th>dt</th>\n",
       "    </tr>\n",
       "  </thead>\n",
       "  <tbody>\n",
       "    <tr>\n",
       "      <th>0</th>\n",
       "      <td>163543465731194</td>\n",
       "      <td>NaN</td>\n",
       "      <td>NaN</td>\n",
       "      <td>19967</td>\n",
       "      <td>http://mob.app.de.wetteronline.wetterapp</td>\n",
       "      <td>NaN</td>\n",
       "      <td>3103824.0</td>\n",
       "      <td>NaN</td>\n",
       "      <td>NaN</td>\n",
       "      <td>NaN</td>\n",
       "      <td>PL</td>\n",
       "      <td>Mozilla/5.0 (Linux; Android 11; SM-A715F Build...</td>\n",
       "      <td>b7f4d610-7879-4394-aa2b-bfb9f2b1c25b</td>\n",
       "      <td>31.0.26.0</td>\n",
       "      <td>1624622086664</td>\n",
       "      <td>20210625</td>\n",
       "    </tr>\n",
       "  </tbody>\n",
       "</table>\n",
       "</div>"
      ],
      "text/plain": [
       "           user_id  household_cluster_id zeta_user_id  account_id  \\\n",
       "0  163543465731194                   NaN          NaN       19967   \n",
       "\n",
       "                                        url referrer_url  city_code  \\\n",
       "0  http://mob.app.de.wetteronline.wetterapp          NaN  3103824.0   \n",
       "\n",
       "  state_code zip_code  dma_code country_code  \\\n",
       "0        NaN      NaN       NaN           PL   \n",
       "\n",
       "                                          user_agent  \\\n",
       "0  Mozilla/5.0 (Linux; Android 11; SM-A715F Build...   \n",
       "\n",
       "                              mobile_id         ip  server_timestamp        dt  \n",
       "0  b7f4d610-7879-4394-aa2b-bfb9f2b1c25b  31.0.26.0     1624622086664  20210625  "
      ]
     },
     "execution_count": 55,
     "metadata": {},
     "output_type": "execute_result"
    }
   ],
   "source": [
    "sizmek.head(1)"
   ]
  },
  {
   "cell_type": "code",
   "execution_count": 56,
   "id": "ab728f5a-694f-4c9a-b50f-294fa677f995",
   "metadata": {
    "execution": {
     "iopub.execute_input": "2021-07-31T20:27:04.281192Z",
     "iopub.status.busy": "2021-07-31T20:27:04.280958Z",
     "iopub.status.idle": "2021-07-31T20:27:04.292930Z",
     "shell.execute_reply": "2021-07-31T20:27:04.292214Z",
     "shell.execute_reply.started": "2021-07-31T20:27:04.281177Z"
    },
    "tags": []
   },
   "outputs": [
    {
     "data": {
      "text/html": [
       "<div>\n",
       "<style scoped>\n",
       "    .dataframe tbody tr th:only-of-type {\n",
       "        vertical-align: middle;\n",
       "    }\n",
       "\n",
       "    .dataframe tbody tr th {\n",
       "        vertical-align: top;\n",
       "    }\n",
       "\n",
       "    .dataframe thead th {\n",
       "        text-align: right;\n",
       "    }\n",
       "</style>\n",
       "<table border=\"1\" class=\"dataframe\">\n",
       "  <thead>\n",
       "    <tr style=\"text-align: right;\">\n",
       "      <th></th>\n",
       "      <th>session_id</th>\n",
       "      <th>client</th>\n",
       "      <th>client_id</th>\n",
       "      <th>remote_addr</th>\n",
       "      <th>referrer</th>\n",
       "      <th>user_agent_platform</th>\n",
       "      <th>user_agent_language</th>\n",
       "      <th>user_agent_browser</th>\n",
       "      <th>user_agent_string</th>\n",
       "      <th>user_agent_version</th>\n",
       "      <th>timestamp</th>\n",
       "      <th>geo_data</th>\n",
       "      <th>partner_data</th>\n",
       "      <th>session</th>\n",
       "      <th>consent_data</th>\n",
       "      <th>dt</th>\n",
       "    </tr>\n",
       "  </thead>\n",
       "  <tbody>\n",
       "    <tr>\n",
       "      <th>0</th>\n",
       "      <td>042daa1a-aa73-47f0-89f4-5ead6821767e:161417230...</td>\n",
       "      <td>disqus</td>\n",
       "      <td>c3rj9u181f91uc2</td>\n",
       "      <td>128.201.40.29</td>\n",
       "      <td>https://www.biorxiv.org/content/10.1101/560755...</td>\n",
       "      <td>windows</td>\n",
       "      <td>NaN</td>\n",
       "      <td>chrome</td>\n",
       "      <td>Mozilla/5.0 (Windows NT 10.0; Win64; x64) Appl...</td>\n",
       "      <td>91.0.4472.114</td>\n",
       "      <td>1.624644e+09</td>\n",
       "      <td>{\"country\":\"BR\",\"subdivision\":\"RJ\",\"coordinate...</td>\n",
       "      <td>NaN</td>\n",
       "      <td>{\"clients\":{\"appnexus\":null,\"disqus\":\"c3rj9u18...</td>\n",
       "      <td>{\"gdpr\":null,\"gdpr_consent\":null}</td>\n",
       "      <td>2021-06-25-18</td>\n",
       "    </tr>\n",
       "  </tbody>\n",
       "</table>\n",
       "</div>"
      ],
      "text/plain": [
       "                                          session_id  client        client_id  \\\n",
       "0  042daa1a-aa73-47f0-89f4-5ead6821767e:161417230...  disqus  c3rj9u181f91uc2   \n",
       "\n",
       "     remote_addr                                           referrer  \\\n",
       "0  128.201.40.29  https://www.biorxiv.org/content/10.1101/560755...   \n",
       "\n",
       "  user_agent_platform user_agent_language user_agent_browser  \\\n",
       "0             windows                 NaN             chrome   \n",
       "\n",
       "                                   user_agent_string user_agent_version  \\\n",
       "0  Mozilla/5.0 (Windows NT 10.0; Win64; x64) Appl...      91.0.4472.114   \n",
       "\n",
       "      timestamp                                           geo_data  \\\n",
       "0  1.624644e+09  {\"country\":\"BR\",\"subdivision\":\"RJ\",\"coordinate...   \n",
       "\n",
       "  partner_data                                            session  \\\n",
       "0          NaN  {\"clients\":{\"appnexus\":null,\"disqus\":\"c3rj9u18...   \n",
       "\n",
       "                        consent_data             dt  \n",
       "0  {\"gdpr\":null,\"gdpr_consent\":null}  2021-06-25-18  "
      ]
     },
     "execution_count": 56,
     "metadata": {},
     "output_type": "execute_result"
    }
   ],
   "source": [
    "zync.head(1)"
   ]
  },
  {
   "cell_type": "markdown",
   "id": "625ff290-9114-4dea-94f5-ca1b8d7dde96",
   "metadata": {},
   "source": [
    "## Transform Data"
   ]
  },
  {
   "cell_type": "markdown",
   "id": "5d005da5-2688-4ffb-9528-f94d3f8160cc",
   "metadata": {},
   "source": [
    "#### Create Edges\n",
    "Parse the base url domain for increased matching and then apply the functions defined up top to create the list of edge connections within the dataset."
   ]
  },
  {
   "cell_type": "code",
   "execution_count": 57,
   "id": "5bbf6e0d-bded-4dc6-8056-7f905d88c241",
   "metadata": {
    "execution": {
     "iopub.execute_input": "2021-07-31T20:27:05.522540Z",
     "iopub.status.busy": "2021-07-31T20:27:05.522162Z",
     "iopub.status.idle": "2021-07-31T20:27:05.544454Z",
     "shell.execute_reply": "2021-07-31T20:27:05.543763Z",
     "shell.execute_reply.started": "2021-07-31T20:27:05.522521Z"
    },
    "tags": []
   },
   "outputs": [],
   "source": [
    "sizmek[\"url_domain\"] = sizmek['url'].apply(\n",
    "    lambda x: urlparse(x).netloc if pd.notnull(x) else x\n",
    ")\n",
    "sizmek_edges = search_table(sizmek, \"url\")\n",
    "sizmek_edges.head(2)"
   ]
  },
  {
   "cell_type": "code",
   "execution_count": 60,
   "id": "e46413ce-83e4-4b16-865e-c19388555512",
   "metadata": {
    "execution": {
     "iopub.execute_input": "2021-07-31T20:32:25.302055Z",
     "iopub.status.busy": "2021-07-31T20:32:25.301713Z",
     "iopub.status.idle": "2021-07-31T20:32:25.307894Z",
     "shell.execute_reply": "2021-07-31T20:32:25.307251Z",
     "shell.execute_reply.started": "2021-07-31T20:32:25.302040Z"
    },
    "tags": []
   },
   "outputs": [
    {
     "data": {
      "text/plain": [
       "centurylink.net                      3354\n",
       "                                     2871\n",
       "mob.app.G15147002586                  589\n",
       "abolt.newsweek.com                    226\n",
       "mob.app.com.abtnprojects.ambatana     214\n",
       "Name: url_domain, dtype: int64"
      ]
     },
     "execution_count": 60,
     "metadata": {},
     "output_type": "execute_result"
    }
   ],
   "source": [
    "sizmek['url_domain'].value_counts()[:5]"
   ]
  },
  {
   "cell_type": "markdown",
   "id": "4f522d43-1045-42c6-9fe5-0b1e603bc297",
   "metadata": {},
   "source": [
    "#### Create Features\n",
    "Use a standard one-hot encoding method of select columns and transform to a new DataFrame"
   ]
  },
  {
   "cell_type": "code",
   "execution_count": 65,
   "id": "91da7a94-06e9-4855-becd-9a404e1ea702",
   "metadata": {
    "execution": {
     "iopub.execute_input": "2021-07-31T20:41:08.146577Z",
     "iopub.status.busy": "2021-07-31T20:41:08.146259Z",
     "iopub.status.idle": "2021-07-31T20:41:08.189584Z",
     "shell.execute_reply": "2021-07-31T20:41:08.188932Z",
     "shell.execute_reply.started": "2021-07-31T20:41:08.146559Z"
    },
    "tags": []
   },
   "outputs": [
    {
     "name": "stdout",
     "output_type": "stream",
     "text": [
      "Unique features: 596\n",
      "Unique labels: 312\n"
     ]
    }
   ],
   "source": [
    "feature_cols = [\"account_id\", \"referrer_url\", \"city_code\", \n",
    "                \"state_code\", \"dma_code\", \"country_code\"]\n",
    "\n",
    "feature_enc = OneHotEncoder(handle_unknown=\"ignore\")\n",
    "sizmek_features = pd.DataFrame(\n",
    "    feature_enc.fit_transform(sizmek[feature_cols]).toarray(), \n",
    "    columns=feature_enc.get_feature_names(feature_cols)\n",
    ")\n",
    "print(f\"Unique features: {sizmek_features.shape[1]}\")\n",
    "\n",
    "label_enc = LabelEncoder()\n",
    "labels = label_enc.fit_transform(sizmek[\"zip_code\"])\n",
    "print(f\"Unique labels: {max(labels)}\")"
   ]
  },
  {
   "cell_type": "markdown",
   "id": "e39ea4fe-ca8a-4c1c-b44b-379bd91fddd2",
   "metadata": {},
   "source": [
    "#### Create Graph\n",
    "Use PyTorch Geometric to create a graph with their standard graph class `torch_geometric.data.Data`"
   ]
  },
  {
   "cell_type": "code",
   "execution_count": null,
   "id": "ebf6b9e4-d21c-48cf-b8a8-cd7a81806d59",
   "metadata": {},
   "outputs": [],
   "source": [
    "sizmek_graph = Data(\n",
    "    x=torch.tensor(sizmek_features.values, dtype=torch.float),\n",
    "    edge_index=torch.tensor(sizmek_edges[['source','target']].values, dtype=torch.long)\n",
    ")"
   ]
  },
  {
   "cell_type": "markdown",
   "id": "9cb889c6-d1b8-4cce-91dc-22afee297323",
   "metadata": {},
   "source": [
    "## Model"
   ]
  },
  {
   "cell_type": "code",
   "execution_count": 76,
   "id": "89b59050-01c9-4892-bf91-75651b431859",
   "metadata": {
    "execution": {
     "iopub.execute_input": "2021-07-31T21:20:23.485548Z",
     "iopub.status.busy": "2021-07-31T21:20:23.485215Z",
     "iopub.status.idle": "2021-07-31T21:20:23.504983Z",
     "shell.execute_reply": "2021-07-31T21:20:23.504258Z",
     "shell.execute_reply.started": "2021-07-31T21:20:23.485531Z"
    },
    "tags": []
   },
   "outputs": [],
   "source": []
  },
  {
   "cell_type": "code",
   "execution_count": null,
   "id": "05adbc8a-a35a-482e-a3aa-ae2ec7a69a24",
   "metadata": {},
   "outputs": [],
   "source": []
  }
 ],
 "metadata": {
  "kernelspec": {
   "display_name": "Python 3",
   "language": "python",
   "name": "python3"
  },
  "language_info": {
   "codemirror_mode": {
    "name": "ipython",
    "version": 3
   },
   "file_extension": ".py",
   "mimetype": "text/x-python",
   "name": "python",
   "nbconvert_exporter": "python",
   "pygments_lexer": "ipython3",
   "version": "3.8.3"
  }
 },
 "nbformat": 4,
 "nbformat_minor": 5
}
