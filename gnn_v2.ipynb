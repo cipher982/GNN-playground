{
 "cells": [
  {
   "cell_type": "code",
   "execution_count": 2,
   "id": "26072b1e-8689-4541-a1eb-e7ba8dccb19b",
   "metadata": {
    "execution": {
     "iopub.execute_input": "2021-07-30T20:32:44.226958Z",
     "iopub.status.busy": "2021-07-30T20:32:44.226654Z",
     "iopub.status.idle": "2021-07-30T20:32:44.474410Z",
     "shell.execute_reply": "2021-07-30T20:32:44.473771Z",
     "shell.execute_reply.started": "2021-07-30T20:32:44.226943Z"
    },
    "tags": []
   },
   "outputs": [],
   "source": [
    "import networkx as nx\n",
    "import numpy as np\n",
    "import pandas as pd\n",
    "#import matplotlib.pyplot as plt\n",
    "from sklearn.model_selection import train_test_split\n",
    "from sklearn.preprocessing import OneHotEncoder, LabelEncoder\n",
    "#import tensorflow as tf"
   ]
  },
  {
   "cell_type": "markdown",
   "id": "ba55fbb0-8d49-4a75-8d0f-c2d687077a8b",
   "metadata": {},
   "source": [
    "## Load Data"
   ]
  },
  {
   "cell_type": "code",
   "execution_count": 3,
   "id": "5b671253-9a53-446e-83d9-1ee778fd1d5d",
   "metadata": {
    "execution": {
     "iopub.execute_input": "2021-07-30T20:32:55.228288Z",
     "iopub.status.busy": "2021-07-30T20:32:55.227451Z",
     "iopub.status.idle": "2021-07-30T20:32:55.896013Z",
     "shell.execute_reply": "2021-07-30T20:32:55.895397Z",
     "shell.execute_reply.started": "2021-07-30T20:32:55.228269Z"
    }
   },
   "outputs": [
    {
     "name": "stdout",
     "output_type": "stream",
     "text": [
      "Zync data shape: (99999, 16)\n",
      "Sizmek data shape: (10000, 16)\n"
     ]
    }
   ],
   "source": [
    "zync = pd.read_csv(\"data/zync_session_tracking_orc_20210625_all.csv\")\n",
    "print(f\"Zync data shape: {zync.shape}\")\n",
    "\n",
    "sizmek = pd.read_csv(\"data/sizmek_bidstream_raw_20210625_10k.csv\")\n",
    "print(f\"Sizmek data shape: {sizmek.shape}\")\n",
    "\n",
    "# Fix column headers\n",
    "zync.columns = [i.split(\".\")[1] for i in zync.columns]\n",
    "sizmek.columns = [i.split(\".\")[1] for i in sizmek.columns]\n",
    "\n",
    "def make_smaller(df, frac):\n",
    "    new_df = df.copy()\n",
    "    new_df = new_df.sample(frac=frac, replace=False)\n",
    "    return new_df\n",
    "\n",
    "zync = make_smaller(zync, 0.1)\n",
    "sizmek = make_smaller(sizmek, 0.1)"
   ]
  },
  {
   "cell_type": "code",
   "execution_count": 4,
   "id": "aa2e44fd-ce1c-4d05-b3f6-3c0082a8e9fb",
   "metadata": {
    "execution": {
     "iopub.execute_input": "2021-07-30T20:33:07.116059Z",
     "iopub.status.busy": "2021-07-30T20:33:07.115732Z",
     "iopub.status.idle": "2021-07-30T20:33:07.131243Z",
     "shell.execute_reply": "2021-07-30T20:33:07.130599Z",
     "shell.execute_reply.started": "2021-07-30T20:33:07.116040Z"
    }
   },
   "outputs": [
    {
     "data": {
      "text/html": [
       "<div>\n",
       "<style scoped>\n",
       "    .dataframe tbody tr th:only-of-type {\n",
       "        vertical-align: middle;\n",
       "    }\n",
       "\n",
       "    .dataframe tbody tr th {\n",
       "        vertical-align: top;\n",
       "    }\n",
       "\n",
       "    .dataframe thead th {\n",
       "        text-align: right;\n",
       "    }\n",
       "</style>\n",
       "<table border=\"1\" class=\"dataframe\">\n",
       "  <thead>\n",
       "    <tr style=\"text-align: right;\">\n",
       "      <th></th>\n",
       "      <th>user_id</th>\n",
       "      <th>household_cluster_id</th>\n",
       "      <th>zeta_user_id</th>\n",
       "      <th>account_id</th>\n",
       "      <th>url</th>\n",
       "      <th>referrer_url</th>\n",
       "      <th>city_code</th>\n",
       "      <th>state_code</th>\n",
       "      <th>zip_code</th>\n",
       "      <th>dma_code</th>\n",
       "      <th>country_code</th>\n",
       "      <th>user_agent</th>\n",
       "      <th>mobile_id</th>\n",
       "      <th>ip</th>\n",
       "      <th>server_timestamp</th>\n",
       "      <th>dt</th>\n",
       "    </tr>\n",
       "  </thead>\n",
       "  <tbody>\n",
       "    <tr>\n",
       "      <th>3917</th>\n",
       "      <td>20410793992826394</td>\n",
       "      <td>NaN</td>\n",
       "      <td>NaN</td>\n",
       "      <td>19967</td>\n",
       "      <td>http://mob.app.com.dencreak.dlcalculator</td>\n",
       "      <td>NaN</td>\n",
       "      <td>3887127.0</td>\n",
       "      <td>TA</td>\n",
       "      <td>NaN</td>\n",
       "      <td>NaN</td>\n",
       "      <td>CL</td>\n",
       "      <td>Mozilla/5.0 (Linux; Android 9; SM-J415G Build/...</td>\n",
       "      <td>a5148ab3-e275-4f56-ba6c-dfe7df181d9e</td>\n",
       "      <td>190.44.18.0</td>\n",
       "      <td>1624645905580</td>\n",
       "      <td>20210625</td>\n",
       "    </tr>\n",
       "  </tbody>\n",
       "</table>\n",
       "</div>"
      ],
      "text/plain": [
       "                user_id  household_cluster_id zeta_user_id  account_id  \\\n",
       "3917  20410793992826394                   NaN          NaN       19967   \n",
       "\n",
       "                                           url referrer_url  city_code  \\\n",
       "3917  http://mob.app.com.dencreak.dlcalculator          NaN  3887127.0   \n",
       "\n",
       "     state_code zip_code  dma_code country_code  \\\n",
       "3917         TA      NaN       NaN           CL   \n",
       "\n",
       "                                             user_agent  \\\n",
       "3917  Mozilla/5.0 (Linux; Android 9; SM-J415G Build/...   \n",
       "\n",
       "                                 mobile_id           ip  server_timestamp  \\\n",
       "3917  a5148ab3-e275-4f56-ba6c-dfe7df181d9e  190.44.18.0     1624645905580   \n",
       "\n",
       "            dt  \n",
       "3917  20210625  "
      ]
     },
     "execution_count": 4,
     "metadata": {},
     "output_type": "execute_result"
    }
   ],
   "source": [
    "sizmek.head(1)"
   ]
  },
  {
   "cell_type": "code",
   "execution_count": 5,
   "id": "ab728f5a-694f-4c9a-b50f-294fa677f995",
   "metadata": {
    "execution": {
     "iopub.execute_input": "2021-07-30T20:33:12.764162Z",
     "iopub.status.busy": "2021-07-30T20:33:12.763802Z",
     "iopub.status.idle": "2021-07-30T20:33:12.776562Z",
     "shell.execute_reply": "2021-07-30T20:33:12.775841Z",
     "shell.execute_reply.started": "2021-07-30T20:33:12.764146Z"
    }
   },
   "outputs": [
    {
     "data": {
      "text/html": [
       "<div>\n",
       "<style scoped>\n",
       "    .dataframe tbody tr th:only-of-type {\n",
       "        vertical-align: middle;\n",
       "    }\n",
       "\n",
       "    .dataframe tbody tr th {\n",
       "        vertical-align: top;\n",
       "    }\n",
       "\n",
       "    .dataframe thead th {\n",
       "        text-align: right;\n",
       "    }\n",
       "</style>\n",
       "<table border=\"1\" class=\"dataframe\">\n",
       "  <thead>\n",
       "    <tr style=\"text-align: right;\">\n",
       "      <th></th>\n",
       "      <th>session_id</th>\n",
       "      <th>client</th>\n",
       "      <th>client_id</th>\n",
       "      <th>remote_addr</th>\n",
       "      <th>referrer</th>\n",
       "      <th>user_agent_platform</th>\n",
       "      <th>user_agent_language</th>\n",
       "      <th>user_agent_browser</th>\n",
       "      <th>user_agent_string</th>\n",
       "      <th>user_agent_version</th>\n",
       "      <th>timestamp</th>\n",
       "      <th>geo_data</th>\n",
       "      <th>partner_data</th>\n",
       "      <th>session</th>\n",
       "      <th>consent_data</th>\n",
       "      <th>dt</th>\n",
       "    </tr>\n",
       "  </thead>\n",
       "  <tbody>\n",
       "    <tr>\n",
       "      <th>48448</th>\n",
       "      <td>b0880531-6f3d-40b6-8ea8-ab4d88a70f80:1612587628.5</td>\n",
       "      <td>disqus</td>\n",
       "      <td>c2ctcul022ejhmm</td>\n",
       "      <td>197.210.61.190</td>\n",
       "      <td>https://thenationonlineng.net/how-to-check-jam...</td>\n",
       "      <td>android</td>\n",
       "      <td>NaN</td>\n",
       "      <td>chrome</td>\n",
       "      <td>Mozilla/5.0 (Linux; Android 8.0.0; SAMSUNG SM-...</td>\n",
       "      <td>83.0.4103.106</td>\n",
       "      <td>1.624644e+09</td>\n",
       "      <td>{\"country\":\"NG\",\"subdivision\":\"LA\",\"coordinate...</td>\n",
       "      <td>NaN</td>\n",
       "      <td>{\"clients\":{\"appnexus\":null,\"disqus\":\"c2ctcul0...</td>\n",
       "      <td>{\"gdpr\":null,\"gdpr_consent\":null}</td>\n",
       "      <td>2021-06-25-18</td>\n",
       "    </tr>\n",
       "  </tbody>\n",
       "</table>\n",
       "</div>"
      ],
      "text/plain": [
       "                                              session_id  client  \\\n",
       "48448  b0880531-6f3d-40b6-8ea8-ab4d88a70f80:1612587628.5  disqus   \n",
       "\n",
       "             client_id     remote_addr  \\\n",
       "48448  c2ctcul022ejhmm  197.210.61.190   \n",
       "\n",
       "                                                referrer user_agent_platform  \\\n",
       "48448  https://thenationonlineng.net/how-to-check-jam...             android   \n",
       "\n",
       "      user_agent_language user_agent_browser  \\\n",
       "48448                 NaN             chrome   \n",
       "\n",
       "                                       user_agent_string user_agent_version  \\\n",
       "48448  Mozilla/5.0 (Linux; Android 8.0.0; SAMSUNG SM-...      83.0.4103.106   \n",
       "\n",
       "          timestamp                                           geo_data  \\\n",
       "48448  1.624644e+09  {\"country\":\"NG\",\"subdivision\":\"LA\",\"coordinate...   \n",
       "\n",
       "      partner_data                                            session  \\\n",
       "48448          NaN  {\"clients\":{\"appnexus\":null,\"disqus\":\"c2ctcul0...   \n",
       "\n",
       "                            consent_data             dt  \n",
       "48448  {\"gdpr\":null,\"gdpr_consent\":null}  2021-06-25-18  "
      ]
     },
     "execution_count": 5,
     "metadata": {},
     "output_type": "execute_result"
    }
   ],
   "source": [
    "zync.head(1)"
   ]
  },
  {
   "cell_type": "markdown",
   "id": "625ff290-9114-4dea-94f5-ca1b8d7dde96",
   "metadata": {},
   "source": [
    "## Transform Data"
   ]
  },
  {
   "cell_type": "code",
   "execution_count": null,
   "id": "11f74d0e-5263-4402-b9e5-b9cef168742e",
   "metadata": {},
   "outputs": [],
   "source": []
  },
  {
   "cell_type": "code",
   "execution_count": null,
   "id": "81b52a05-5745-4b59-bb5f-61820fc24f29",
   "metadata": {},
   "outputs": [],
   "source": []
  },
  {
   "cell_type": "markdown",
   "id": "9cb889c6-d1b8-4cce-91dc-22afee297323",
   "metadata": {},
   "source": [
    "## Model"
   ]
  },
  {
   "cell_type": "code",
   "execution_count": null,
   "id": "91267c50-38a9-413d-aceb-b17927d1c50b",
   "metadata": {},
   "outputs": [],
   "source": []
  }
 ],
 "metadata": {
  "kernelspec": {
   "display_name": ".gmc",
   "language": "python",
   "name": ".gmc"
  },
  "language_info": {
   "codemirror_mode": {
    "name": "ipython",
    "version": 3
   },
   "file_extension": ".py",
   "mimetype": "text/x-python",
   "name": "python",
   "nbconvert_exporter": "python",
   "pygments_lexer": "ipython3",
   "version": "3.8.3"
  }
 },
 "nbformat": 4,
 "nbformat_minor": 5
}
