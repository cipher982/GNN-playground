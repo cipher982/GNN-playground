{
 "cells": [
  {
   "cell_type": "code",
   "execution_count": 1,
   "id": "26072b1e-8689-4541-a1eb-e7ba8dccb19b",
   "metadata": {
    "execution": {
     "iopub.execute_input": "2021-08-03T01:27:03.286937Z",
     "iopub.status.busy": "2021-08-03T01:27:03.286648Z",
     "iopub.status.idle": "2021-08-03T01:27:04.722386Z",
     "shell.execute_reply": "2021-08-03T01:27:04.721643Z",
     "shell.execute_reply.started": "2021-08-03T01:27:03.286886Z"
    },
    "tags": []
   },
   "outputs": [],
   "source": [
    "import numpy as np\n",
    "import pandas as pd\n",
    "#import matplotlib.pyplot as plt\n",
    "from sklearn.model_selection import train_test_split\n",
    "from sklearn.preprocessing import OneHotEncoder, LabelEncoder\n",
    "#import tensorflow as tf\n",
    "import torch\n",
    "from torch_geometric.data import Data, DataLoader\n",
    "import dgmc\n",
    "from urllib.parse import urlparse\n",
    "from torch_geometric.utils import to_networkx\n",
    "import networkx as nx\n",
    "import matplotlib.pyplot as plt"
   ]
  },
  {
   "cell_type": "code",
   "execution_count": 2,
   "id": "d4988207-e7bd-44fc-b581-23b8cc781abe",
   "metadata": {
    "execution": {
     "iopub.execute_input": "2021-08-03T01:27:04.723745Z",
     "iopub.status.busy": "2021-08-03T01:27:04.723319Z",
     "iopub.status.idle": "2021-08-03T01:27:04.729933Z",
     "shell.execute_reply": "2021-08-03T01:27:04.729243Z",
     "shell.execute_reply.started": "2021-08-03T01:27:04.723730Z"
    },
    "tags": []
   },
   "outputs": [],
   "source": [
    "def create_dict(table, col):\n",
    "    table_dict = {}\n",
    "    for ix, value in enumerate(table[col]):\n",
    "        #print(value)\n",
    "        if value != value:\n",
    "            continue\n",
    "        if value in table_dict:\n",
    "            table_dict[value].append(ix)\n",
    "        else:\n",
    "            table_dict[value] = [ix]\n",
    "    return table_dict\n",
    "\n",
    "\n",
    "def search_table(table, column):\n",
    "    connections = []\n",
    "    lookup_dict = create_dict(table, column)\n",
    "    for ix, value in enumerate(table[column]):\n",
    "        if value in lookup_dict:\n",
    "            for item in lookup_dict[value]:\n",
    "                connections.append((ix, item, column, value))\n",
    "    connections = pd.DataFrame(\n",
    "        connections, \n",
    "        columns=['source', 'target', 'column', 'value']\n",
    "    )\n",
    "    return connections\n",
    "\n",
    "\n",
    "def visualize(h, color, epoch=None, loss=None):\n",
    "    plt.figure(figsize=(7,7))\n",
    "    plt.xticks([])\n",
    "    plt.yticks([])\n",
    "\n",
    "    if torch.is_tensor(h):\n",
    "        h = h.detach().cpu().numpy()\n",
    "        plt.scatter(h[:, 0], h[:, 1], s=140, c=color, cmap=\"Set2\")\n",
    "        if epoch is not None and loss is not None:\n",
    "            plt.xlabel(f'Epoch: {epoch}, Loss: {loss.item():.4f}', fontsize=16)\n",
    "    else:\n",
    "        nx.draw_networkx(G, pos=nx.spring_layout(G, seed=42), with_labels=False,\n",
    "                         node_color=color, cmap=\"Set2\")\n",
    "    plt.show()\n",
    "    "
   ]
  },
  {
   "cell_type": "markdown",
   "id": "ba55fbb0-8d49-4a75-8d0f-c2d687077a8b",
   "metadata": {},
   "source": [
    "## Load Data"
   ]
  },
  {
   "cell_type": "code",
   "execution_count": 3,
   "id": "5b671253-9a53-446e-83d9-1ee778fd1d5d",
   "metadata": {
    "execution": {
     "iopub.execute_input": "2021-08-03T01:27:04.730912Z",
     "iopub.status.busy": "2021-08-03T01:27:04.730769Z",
     "iopub.status.idle": "2021-08-03T01:27:05.500266Z",
     "shell.execute_reply": "2021-08-03T01:27:05.499617Z",
     "shell.execute_reply.started": "2021-08-03T01:27:04.730896Z"
    },
    "tags": []
   },
   "outputs": [
    {
     "name": "stdout",
     "output_type": "stream",
     "text": [
      "Zync data shape: (99999, 16)\n",
      "Sizmek data shape: (10000, 16)\n"
     ]
    }
   ],
   "source": [
    "zync = pd.read_csv(\"data/zync_session_tracking_orc_20210625_all.csv\")\n",
    "print(f\"Zync data shape: {zync.shape}\")\n",
    "\n",
    "sizmek = pd.read_csv(\"data/sizmek_bidstream_raw_20210625_10k.csv\")\n",
    "print(f\"Sizmek data shape: {sizmek.shape}\")\n",
    "\n",
    "# Fix column headers\n",
    "zync.columns = [i.split(\".\")[1] for i in zync.columns]\n",
    "sizmek.columns = [i.split(\".\")[1] for i in sizmek.columns]\n",
    "\n",
    "def make_smaller(df, frac):\n",
    "    new_df = df.copy()\n",
    "    new_df = new_df.sample(frac=frac, replace=False)\n",
    "    return new_df\n",
    "\n",
    "#zync = make_smaller(zync, 0.1)\n",
    "#sizmek = make_smaller(sizmek, 0.1)"
   ]
  },
  {
   "cell_type": "code",
   "execution_count": 4,
   "id": "aa2e44fd-ce1c-4d05-b3f6-3c0082a8e9fb",
   "metadata": {
    "execution": {
     "iopub.execute_input": "2021-08-03T01:27:05.501329Z",
     "iopub.status.busy": "2021-08-03T01:27:05.500997Z",
     "iopub.status.idle": "2021-08-03T01:27:05.515019Z",
     "shell.execute_reply": "2021-08-03T01:27:05.514345Z",
     "shell.execute_reply.started": "2021-08-03T01:27:05.501312Z"
    },
    "tags": []
   },
   "outputs": [
    {
     "data": {
      "text/html": [
       "<div>\n",
       "<style scoped>\n",
       "    .dataframe tbody tr th:only-of-type {\n",
       "        vertical-align: middle;\n",
       "    }\n",
       "\n",
       "    .dataframe tbody tr th {\n",
       "        vertical-align: top;\n",
       "    }\n",
       "\n",
       "    .dataframe thead th {\n",
       "        text-align: right;\n",
       "    }\n",
       "</style>\n",
       "<table border=\"1\" class=\"dataframe\">\n",
       "  <thead>\n",
       "    <tr style=\"text-align: right;\">\n",
       "      <th></th>\n",
       "      <th>user_id</th>\n",
       "      <th>household_cluster_id</th>\n",
       "      <th>zeta_user_id</th>\n",
       "      <th>account_id</th>\n",
       "      <th>url</th>\n",
       "      <th>referrer_url</th>\n",
       "      <th>city_code</th>\n",
       "      <th>state_code</th>\n",
       "      <th>zip_code</th>\n",
       "      <th>dma_code</th>\n",
       "      <th>country_code</th>\n",
       "      <th>user_agent</th>\n",
       "      <th>mobile_id</th>\n",
       "      <th>ip</th>\n",
       "      <th>server_timestamp</th>\n",
       "      <th>dt</th>\n",
       "    </tr>\n",
       "  </thead>\n",
       "  <tbody>\n",
       "    <tr>\n",
       "      <th>0</th>\n",
       "      <td>163543465731194</td>\n",
       "      <td>NaN</td>\n",
       "      <td>NaN</td>\n",
       "      <td>19967</td>\n",
       "      <td>http://mob.app.de.wetteronline.wetterapp</td>\n",
       "      <td>NaN</td>\n",
       "      <td>3103824.0</td>\n",
       "      <td>NaN</td>\n",
       "      <td>NaN</td>\n",
       "      <td>NaN</td>\n",
       "      <td>PL</td>\n",
       "      <td>Mozilla/5.0 (Linux; Android 11; SM-A715F Build...</td>\n",
       "      <td>b7f4d610-7879-4394-aa2b-bfb9f2b1c25b</td>\n",
       "      <td>31.0.26.0</td>\n",
       "      <td>1624622086664</td>\n",
       "      <td>20210625</td>\n",
       "    </tr>\n",
       "  </tbody>\n",
       "</table>\n",
       "</div>"
      ],
      "text/plain": [
       "           user_id  household_cluster_id zeta_user_id  account_id  \\\n",
       "0  163543465731194                   NaN          NaN       19967   \n",
       "\n",
       "                                        url referrer_url  city_code  \\\n",
       "0  http://mob.app.de.wetteronline.wetterapp          NaN  3103824.0   \n",
       "\n",
       "  state_code zip_code  dma_code country_code  \\\n",
       "0        NaN      NaN       NaN           PL   \n",
       "\n",
       "                                          user_agent  \\\n",
       "0  Mozilla/5.0 (Linux; Android 11; SM-A715F Build...   \n",
       "\n",
       "                              mobile_id         ip  server_timestamp        dt  \n",
       "0  b7f4d610-7879-4394-aa2b-bfb9f2b1c25b  31.0.26.0     1624622086664  20210625  "
      ]
     },
     "execution_count": 4,
     "metadata": {},
     "output_type": "execute_result"
    }
   ],
   "source": [
    "sizmek.head(1)"
   ]
  },
  {
   "cell_type": "code",
   "execution_count": 5,
   "id": "ab728f5a-694f-4c9a-b50f-294fa677f995",
   "metadata": {
    "execution": {
     "iopub.execute_input": "2021-08-03T01:27:05.515943Z",
     "iopub.status.busy": "2021-08-03T01:27:05.515739Z",
     "iopub.status.idle": "2021-08-03T01:27:05.528818Z",
     "shell.execute_reply": "2021-08-03T01:27:05.528032Z",
     "shell.execute_reply.started": "2021-08-03T01:27:05.515927Z"
    },
    "tags": []
   },
   "outputs": [
    {
     "data": {
      "text/html": [
       "<div>\n",
       "<style scoped>\n",
       "    .dataframe tbody tr th:only-of-type {\n",
       "        vertical-align: middle;\n",
       "    }\n",
       "\n",
       "    .dataframe tbody tr th {\n",
       "        vertical-align: top;\n",
       "    }\n",
       "\n",
       "    .dataframe thead th {\n",
       "        text-align: right;\n",
       "    }\n",
       "</style>\n",
       "<table border=\"1\" class=\"dataframe\">\n",
       "  <thead>\n",
       "    <tr style=\"text-align: right;\">\n",
       "      <th></th>\n",
       "      <th>session_id</th>\n",
       "      <th>client</th>\n",
       "      <th>client_id</th>\n",
       "      <th>remote_addr</th>\n",
       "      <th>referrer</th>\n",
       "      <th>user_agent_platform</th>\n",
       "      <th>user_agent_language</th>\n",
       "      <th>user_agent_browser</th>\n",
       "      <th>user_agent_string</th>\n",
       "      <th>user_agent_version</th>\n",
       "      <th>timestamp</th>\n",
       "      <th>geo_data</th>\n",
       "      <th>partner_data</th>\n",
       "      <th>session</th>\n",
       "      <th>consent_data</th>\n",
       "      <th>dt</th>\n",
       "    </tr>\n",
       "  </thead>\n",
       "  <tbody>\n",
       "    <tr>\n",
       "      <th>0</th>\n",
       "      <td>042daa1a-aa73-47f0-89f4-5ead6821767e:161417230...</td>\n",
       "      <td>disqus</td>\n",
       "      <td>c3rj9u181f91uc2</td>\n",
       "      <td>128.201.40.29</td>\n",
       "      <td>https://www.biorxiv.org/content/10.1101/560755...</td>\n",
       "      <td>windows</td>\n",
       "      <td>NaN</td>\n",
       "      <td>chrome</td>\n",
       "      <td>Mozilla/5.0 (Windows NT 10.0; Win64; x64) Appl...</td>\n",
       "      <td>91.0.4472.114</td>\n",
       "      <td>1.624644e+09</td>\n",
       "      <td>{\"country\":\"BR\",\"subdivision\":\"RJ\",\"coordinate...</td>\n",
       "      <td>NaN</td>\n",
       "      <td>{\"clients\":{\"appnexus\":null,\"disqus\":\"c3rj9u18...</td>\n",
       "      <td>{\"gdpr\":null,\"gdpr_consent\":null}</td>\n",
       "      <td>2021-06-25-18</td>\n",
       "    </tr>\n",
       "  </tbody>\n",
       "</table>\n",
       "</div>"
      ],
      "text/plain": [
       "                                          session_id  client        client_id  \\\n",
       "0  042daa1a-aa73-47f0-89f4-5ead6821767e:161417230...  disqus  c3rj9u181f91uc2   \n",
       "\n",
       "     remote_addr                                           referrer  \\\n",
       "0  128.201.40.29  https://www.biorxiv.org/content/10.1101/560755...   \n",
       "\n",
       "  user_agent_platform user_agent_language user_agent_browser  \\\n",
       "0             windows                 NaN             chrome   \n",
       "\n",
       "                                   user_agent_string user_agent_version  \\\n",
       "0  Mozilla/5.0 (Windows NT 10.0; Win64; x64) Appl...      91.0.4472.114   \n",
       "\n",
       "      timestamp                                           geo_data  \\\n",
       "0  1.624644e+09  {\"country\":\"BR\",\"subdivision\":\"RJ\",\"coordinate...   \n",
       "\n",
       "  partner_data                                            session  \\\n",
       "0          NaN  {\"clients\":{\"appnexus\":null,\"disqus\":\"c3rj9u18...   \n",
       "\n",
       "                        consent_data             dt  \n",
       "0  {\"gdpr\":null,\"gdpr_consent\":null}  2021-06-25-18  "
      ]
     },
     "execution_count": 5,
     "metadata": {},
     "output_type": "execute_result"
    }
   ],
   "source": [
    "zync.head(1)"
   ]
  },
  {
   "cell_type": "markdown",
   "id": "625ff290-9114-4dea-94f5-ca1b8d7dde96",
   "metadata": {},
   "source": [
    "## Transform Data"
   ]
  },
  {
   "cell_type": "markdown",
   "id": "5d005da5-2688-4ffb-9528-f94d3f8160cc",
   "metadata": {},
   "source": [
    "#### Create Edges\n",
    "Parse the base url domain for increased matching and then apply the functions defined up top to create the list of edge connections within the dataset."
   ]
  },
  {
   "cell_type": "code",
   "execution_count": 6,
   "id": "5bbf6e0d-bded-4dc6-8056-7f905d88c241",
   "metadata": {
    "execution": {
     "iopub.execute_input": "2021-08-03T01:27:05.530176Z",
     "iopub.status.busy": "2021-08-03T01:27:05.529753Z",
     "iopub.status.idle": "2021-08-03T01:27:06.633076Z",
     "shell.execute_reply": "2021-08-03T01:27:06.632393Z",
     "shell.execute_reply.started": "2021-08-03T01:27:05.530158Z"
    },
    "tags": []
   },
   "outputs": [
    {
     "data": {
      "text/html": [
       "<div>\n",
       "<style scoped>\n",
       "    .dataframe tbody tr th:only-of-type {\n",
       "        vertical-align: middle;\n",
       "    }\n",
       "\n",
       "    .dataframe tbody tr th {\n",
       "        vertical-align: top;\n",
       "    }\n",
       "\n",
       "    .dataframe thead th {\n",
       "        text-align: right;\n",
       "    }\n",
       "</style>\n",
       "<table border=\"1\" class=\"dataframe\">\n",
       "  <thead>\n",
       "    <tr style=\"text-align: right;\">\n",
       "      <th></th>\n",
       "      <th>source</th>\n",
       "      <th>target</th>\n",
       "      <th>column</th>\n",
       "      <th>value</th>\n",
       "    </tr>\n",
       "  </thead>\n",
       "  <tbody>\n",
       "    <tr>\n",
       "      <th>0</th>\n",
       "      <td>0</td>\n",
       "      <td>0</td>\n",
       "      <td>url</td>\n",
       "      <td>http://mob.app.de.wetteronline.wetterapp</td>\n",
       "    </tr>\n",
       "    <tr>\n",
       "      <th>1</th>\n",
       "      <td>0</td>\n",
       "      <td>1</td>\n",
       "      <td>url</td>\n",
       "      <td>http://mob.app.de.wetteronline.wetterapp</td>\n",
       "    </tr>\n",
       "  </tbody>\n",
       "</table>\n",
       "</div>"
      ],
      "text/plain": [
       "   source  target column                                     value\n",
       "0       0       0    url  http://mob.app.de.wetteronline.wetterapp\n",
       "1       0       1    url  http://mob.app.de.wetteronline.wetterapp"
      ]
     },
     "execution_count": 6,
     "metadata": {},
     "output_type": "execute_result"
    }
   ],
   "source": [
    "sizmek[\"url_domain\"] = sizmek['url'].apply(\n",
    "    lambda x: urlparse(x).netloc if pd.notnull(x) else x\n",
    ")\n",
    "sizmek_edges = search_table(sizmek, \"url\")\n",
    "sizmek_edges.head(2)"
   ]
  },
  {
   "cell_type": "code",
   "execution_count": 49,
   "id": "e46413ce-83e4-4b16-865e-c19388555512",
   "metadata": {
    "execution": {
     "iopub.execute_input": "2021-08-03T04:28:16.446696Z",
     "iopub.status.busy": "2021-08-03T04:28:16.446199Z",
     "iopub.status.idle": "2021-08-03T04:28:16.452124Z",
     "shell.execute_reply": "2021-08-03T04:28:16.451457Z",
     "shell.execute_reply.started": "2021-08-03T04:28:16.446677Z"
    },
    "tags": []
   },
   "outputs": [
    {
     "data": {
      "text/plain": [
       "fa3e335a-6b70-45b0-a9fb-ac71d098a924:1613777483.13    4015\n",
       "8fe07ef8-3b0f-4807-a047-1b25e88afdd3:1624070625.62     579\n",
       "8504cfc5-a47f-4d2c-b151-8034b08d313d:1564656094.89     421\n",
       "Name: zeta_user_id, dtype: int64"
      ]
     },
     "execution_count": 49,
     "metadata": {},
     "output_type": "execute_result"
    }
   ],
   "source": [
    "sizmek['zeta_user_id'].value_counts()[:3]"
   ]
  },
  {
   "cell_type": "markdown",
   "id": "4f522d43-1045-42c6-9fe5-0b1e603bc297",
   "metadata": {},
   "source": [
    "#### Create Features\n",
    "Use a standard one-hot encoding method of select columns and transform to a new DataFrame"
   ]
  },
  {
   "cell_type": "code",
   "execution_count": 64,
   "id": "91da7a94-06e9-4855-becd-9a404e1ea702",
   "metadata": {
    "execution": {
     "iopub.execute_input": "2021-08-03T04:34:02.383847Z",
     "iopub.status.busy": "2021-08-03T04:34:02.383467Z",
     "iopub.status.idle": "2021-08-03T04:34:02.450099Z",
     "shell.execute_reply": "2021-08-03T04:34:02.449384Z",
     "shell.execute_reply.started": "2021-08-03T04:34:02.383827Z"
    },
    "tags": []
   },
   "outputs": [
    {
     "name": "stdout",
     "output_type": "stream",
     "text": [
      "Unique features: 596\n",
      "Unique labels: 67\n"
     ]
    }
   ],
   "source": [
    "feature_cols = [\"account_id\", \"referrer_url\", \"city_code\", \n",
    "                \"state_code\", \"dma_code\", \"country_code\"]\n",
    "\n",
    "feature_enc = OneHotEncoder(handle_unknown=\"ignore\")\n",
    "sizmek_features = pd.DataFrame(\n",
    "    feature_enc.fit_transform(sizmek[feature_cols]).toarray(), \n",
    "    columns=feature_enc.get_feature_names(feature_cols)\n",
    ")\n",
    "print(f\"Unique features: {sizmek_features.shape[1]}\")\n",
    "\n",
    "label_enc = LabelEncoder()\n",
    "labels = label_enc.fit_transform(sizmek[\"zeta_user_id\"])\n",
    "labels = torch.tensor(labels, dtype=torch.long)\n",
    "print(f\"Unique labels: {max(labels)}\")"
   ]
  },
  {
   "cell_type": "markdown",
   "id": "e39ea4fe-ca8a-4c1c-b44b-379bd91fddd2",
   "metadata": {},
   "source": [
    "#### Create Graph\n",
    "Use PyTorch Geometric to create a graph with their standard graph class `torch_geometric.data.Data`"
   ]
  },
  {
   "cell_type": "markdown",
   "id": "8a8dc9e2-8b70-437e-b44e-9592fd102a42",
   "metadata": {},
   "source": [
    "## Create Custom Graph Class"
   ]
  },
  {
   "cell_type": "code",
   "execution_count": 65,
   "id": "77aea6bb-3e72-4c97-8e76-04defd0b87be",
   "metadata": {
    "execution": {
     "iopub.execute_input": "2021-08-03T04:34:04.268858Z",
     "iopub.status.busy": "2021-08-03T04:34:04.268369Z",
     "iopub.status.idle": "2021-08-03T04:34:04.273857Z",
     "shell.execute_reply": "2021-08-03T04:34:04.273209Z",
     "shell.execute_reply.started": "2021-08-03T04:34:04.268842Z"
    },
    "tags": []
   },
   "outputs": [
    {
     "data": {
      "text/plain": [
       "0.2968"
      ]
     },
     "execution_count": 65,
     "metadata": {},
     "output_type": "execute_result"
    }
   ],
   "source": [
    "sizmek[\"zeta_user_id\"].isna().sum() / len(sizmek)"
   ]
  },
  {
   "cell_type": "code",
   "execution_count": null,
   "id": "eaf5f426-385f-49ae-8b89-cd265e4caa5c",
   "metadata": {},
   "outputs": [],
   "source": []
  },
  {
   "cell_type": "code",
   "execution_count": 66,
   "id": "a05a4340-f715-4014-9abc-2987eab77fbb",
   "metadata": {
    "execution": {
     "iopub.execute_input": "2021-08-03T04:34:14.000944Z",
     "iopub.status.busy": "2021-08-03T04:34:14.000574Z",
     "iopub.status.idle": "2021-08-03T04:34:14.020989Z",
     "shell.execute_reply": "2021-08-03T04:34:14.020326Z",
     "shell.execute_reply.started": "2021-08-03T04:34:14.000924Z"
    },
    "tags": []
   },
   "outputs": [],
   "source": [
    "import torch\n",
    "from torch_geometric.data import InMemoryDataset, download_url\n",
    "import numpy as np\n",
    "\n",
    "class MyOwnDataset(Data):\n",
    "    def __init__(self, x=None, edge_index=None, y=None, train_mask=None):\n",
    "        super(MyOwnDataset, self).__init__(x=x, edge_index=edge_index, y=y, train_mask=train_mask)\n",
    "        \n",
    "    @property\n",
    "    def num_features(self):\n",
    "        return self.x.shape[1]\n",
    "\n",
    "    @property\n",
    "    def num_classes(self):\n",
    "        return len(np.unique(self.y))\n",
    "\n",
    "\n",
    "d = MyOwnDataset(\n",
    "    x=torch.tensor(sizmek_features.values, dtype=torch.float),\n",
    "    edge_index=torch.tensor(sizmek_edges[['source','target']].T.values, dtype=torch.long),\n",
    "    y=labels,\n",
    "    train_mask=sizmek[\"zeta_user_id\"].isna()\n",
    ")"
   ]
  },
  {
   "cell_type": "markdown",
   "id": "9cb889c6-d1b8-4cce-91dc-22afee297323",
   "metadata": {},
   "source": [
    "## Model"
   ]
  },
  {
   "cell_type": "code",
   "execution_count": 67,
   "id": "89b59050-01c9-4892-bf91-75651b431859",
   "metadata": {
    "execution": {
     "iopub.execute_input": "2021-08-03T04:34:15.765712Z",
     "iopub.status.busy": "2021-08-03T04:34:15.765319Z",
     "iopub.status.idle": "2021-08-03T04:34:15.773911Z",
     "shell.execute_reply": "2021-08-03T04:34:15.773192Z",
     "shell.execute_reply.started": "2021-08-03T04:34:15.765691Z"
    },
    "tags": []
   },
   "outputs": [
    {
     "name": "stdout",
     "output_type": "stream",
     "text": [
      "GCN(\n",
      "  (conv1): GCNConv(596, 4)\n",
      "  (conv2): GCNConv(4, 4)\n",
      "  (conv3): GCNConv(4, 2)\n",
      "  (classifier): Linear(in_features=2, out_features=68, bias=True)\n",
      ")\n"
     ]
    }
   ],
   "source": [
    "import torch\n",
    "from torch.nn import Linear\n",
    "from torch_geometric.nn import GCNConv\n",
    "\n",
    "class GCN(torch.nn.Module):\n",
    "    def __init__(self, dataset):\n",
    "        super(GCN, self).__init__()\n",
    "        torch.manual_seed(0)\n",
    "        self.conv1 = GCNConv(dataset.num_features, 4)\n",
    "        self.conv2 = GCNConv(4, 4)\n",
    "        self.conv3 = GCNConv(4, 2)\n",
    "        self.classifier = Linear(2, dataset.num_classes)\n",
    "\n",
    "    def forward(self, x, edge_index):\n",
    "        h = self.conv1(x, edge_index)\n",
    "        h = h.tanh()\n",
    "        h = self.conv2(h, edge_index)\n",
    "        h = h.tanh()\n",
    "        h = self.conv3(h, edge_index)\n",
    "        h = h.tanh()  # Final GNN embedding space.\n",
    "        \n",
    "        # Apply a final (linear) classifier.\n",
    "        out = self.classifier(h)\n",
    "\n",
    "        return out, h\n",
    "\n",
    "model = GCN(d)\n",
    "print(model)"
   ]
  },
  {
   "cell_type": "code",
   "execution_count": 16,
   "id": "7609d00e-9827-4771-98d4-9e72be6b097d",
   "metadata": {
    "execution": {
     "iopub.execute_input": "2021-08-03T01:33:17.989608Z",
     "iopub.status.busy": "2021-08-03T01:33:17.989237Z",
     "iopub.status.idle": "2021-08-03T01:33:18.376942Z",
     "shell.execute_reply": "2021-08-03T01:33:18.375722Z",
     "shell.execute_reply.started": "2021-08-03T01:33:17.989588Z"
    },
    "tags": []
   },
   "outputs": [
    {
     "name": "stdout",
     "output_type": "stream",
     "text": [
      "Embedding shape: [10000, 2]\n"
     ]
    },
    {
     "data": {
      "image/png": "[encoded data removed]",
      "text/plain": [
       "<Figure size 504x504 with 1 Axes>"
      ]
     },
     "metadata": {},
     "output_type": "display_data"
    }
   ],
   "source": [
    "model = GCN(d)\n",
    "\n",
    "_, h = model(d.x, d.edge_index)\n",
    "print(f'Embedding shape: {list(h.shape)}')\n",
    "\n",
    "visualize(h, color=d.y)"
   ]
  },
  {
   "cell_type": "code",
   "execution_count": null,
   "id": "bf4b7750-1b3a-4368-a25f-8ac35c4f99d8",
   "metadata": {},
   "outputs": [],
   "source": [
    "G = to_networkx(d, to_undirected=True)\n",
    "#visualize(G, color=d.y)"
   ]
  },
  {
   "cell_type": "code",
   "execution_count": 70,
   "id": "0953b11f-00ba-4e2e-8962-14cbc519f02b",
   "metadata": {
    "execution": {
     "iopub.execute_input": "2021-08-03T04:36:44.990430Z",
     "iopub.status.busy": "2021-08-03T04:36:44.990076Z",
     "iopub.status.idle": "2021-08-03T04:36:59.516540Z",
     "shell.execute_reply": "2021-08-03T04:36:59.515866Z",
     "shell.execute_reply.started": "2021-08-03T04:36:44.990414Z"
    },
    "tags": []
   },
   "outputs": [
    {
     "name": "stdout",
     "output_type": "stream",
     "text": [
      "tensor(4.2234, grad_fn=<NllLossBackward>)\n"
     ]
    },
    {
     "data": {
      "image/png": "[encoded data removed]",
      "text/plain": [
       "<Figure size 504x504 with 1 Axes>"
      ]
     },
     "metadata": {},
     "output_type": "display_data"
    },
    {
     "name": "stdout",
     "output_type": "stream",
     "text": [
      "tensor(4.0927, grad_fn=<NllLossBackward>)\n",
      "tensor(3.9683, grad_fn=<NllLossBackward>)\n",
      "tensor(3.8489, grad_fn=<NllLossBackward>)\n",
      "tensor(3.7373, grad_fn=<NllLossBackward>)\n",
      "tensor(3.6353, grad_fn=<NllLossBackward>)\n",
      "tensor(3.5426, grad_fn=<NllLossBackward>)\n",
      "tensor(3.4575, grad_fn=<NllLossBackward>)\n",
      "tensor(3.3781, grad_fn=<NllLossBackward>)\n",
      "tensor(3.3026, grad_fn=<NllLossBackward>)\n",
      "tensor(3.2299, grad_fn=<NllLossBackward>)\n"
     ]
    },
    {
     "data": {
      "image/png": "[encoded data removed]",
      "text/plain": [
       "<Figure size 504x504 with 1 Axes>"
      ]
     },
     "metadata": {},
     "output_type": "display_data"
    },
    {
     "name": "stdout",
     "output_type": "stream",
     "text": [
      "tensor(3.1591, grad_fn=<NllLossBackward>)\n",
      "tensor(3.0898, grad_fn=<NllLossBackward>)\n",
      "tensor(3.0216, grad_fn=<NllLossBackward>)\n",
      "tensor(2.9544, grad_fn=<NllLossBackward>)\n",
      "tensor(2.8880, grad_fn=<NllLossBackward>)\n",
      "tensor(2.8224, grad_fn=<NllLossBackward>)\n",
      "tensor(2.7576, grad_fn=<NllLossBackward>)\n",
      "tensor(2.6934, grad_fn=<NllLossBackward>)\n",
      "tensor(2.6300, grad_fn=<NllLossBackward>)\n"
     ]
    }
   ],
   "source": [
    "import time\n",
    "#from IPython.display import Javascript  # Restrict height of output cell.\n",
    "#display(Javascript('''google.colab.output.setIframeHeight(0, true, {maxHeight: 430})'''))\n",
    "\n",
    "model = GCN(d)\n",
    "criterion = torch.nn.CrossEntropyLoss()  # Define loss criterion\n",
    "optimizer = torch.optim.Adam(model.parameters(), lr=0.01)  # Define optimizer\n",
    "\n",
    "\n",
    "def train(data):\n",
    "    optimizer.zero_grad()  # Clear gradients\n",
    "    out, h = model(d.x, d.edge_index)  # Perform a single forward pass\n",
    "    loss = criterion(out[d.train_mask], d.y[d.train_mask]) # calc loss on training nodes\n",
    "    loss.backward()  # Derive gradients\n",
    "    optimizer.step()  # Update parameters based on gradients\n",
    "    return loss, h\n",
    "\n",
    "\n",
    "for epoch in range(20):\n",
    "    loss, h = train(d)\n",
    "    print(loss)\n",
    "    if epoch % 10 == 0:\n",
    "        visualize(h, color=d.y, epoch=epoch, loss=loss)\n",
    "        time.sleep(0.3)"
   ]
  },
  {
   "cell_type": "code",
   "execution_count": 17,
   "id": "b8ec08f8-6b2b-45ee-8ae2-1cf358b379be",
   "metadata": {
    "execution": {
     "iopub.execute_input": "2021-08-03T01:33:31.004074Z",
     "iopub.status.busy": "2021-08-03T01:33:31.003580Z",
     "iopub.status.idle": "2021-08-03T01:33:31.006860Z",
     "shell.execute_reply": "2021-08-03T01:33:31.006248Z",
     "shell.execute_reply.started": "2021-08-03T01:33:31.004059Z"
    },
    "tags": []
   },
   "outputs": [],
   "source": [
    "#dgmc.DGMC(psi_1=batch2, psi_2=batch2, num_steps=3)"
   ]
  },
  {
   "cell_type": "code",
   "execution_count": 69,
   "id": "f7eacef0-a88b-456a-ac75-23a7d7e66807",
   "metadata": {
    "execution": {
     "iopub.execute_input": "2021-08-03T04:36:36.828913Z",
     "iopub.status.busy": "2021-08-03T04:36:36.828510Z",
     "iopub.status.idle": "2021-08-03T04:36:36.834945Z",
     "shell.execute_reply": "2021-08-03T04:36:36.834161Z",
     "shell.execute_reply.started": "2021-08-03T04:36:36.828898Z"
    }
   },
   "outputs": [
    {
     "data": {
      "text/plain": [
       "tensor(2.6300, grad_fn=<NllLossBackward>)"
      ]
     },
     "execution_count": 69,
     "metadata": {},
     "output_type": "execute_result"
    }
   ],
   "source": [
    "loss"
   ]
  },
  {
   "cell_type": "code",
   "execution_count": null,
   "id": "27aa1abb-fa12-4a28-83dc-8ea4c418408b",
   "metadata": {},
   "outputs": [],
   "source": []
  }
 ],
 "metadata": {
  "kernelspec": {
   "display_name": "Python 3",
   "language": "python",
   "name": "python3"
  },
  "language_info": {
   "codemirror_mode": {
    "name": "ipython",
    "version": 3
   },
   "file_extension": ".py",
   "mimetype": "text/x-python",
   "name": "python",
   "nbconvert_exporter": "python",
   "pygments_lexer": "ipython3",
   "version": "3.8.3"
  }
 },
 "nbformat": 4,
 "nbformat_minor": 5
}
