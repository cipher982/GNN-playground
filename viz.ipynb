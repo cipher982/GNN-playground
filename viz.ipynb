{
 "cells": [
  {
   "cell_type": "markdown",
   "metadata": {},
   "source": [
    "# Visualization of Zeta Identity Network"
   ]
  },
  {
   "cell_type": "markdown",
   "metadata": {},
   "source": [
    "## Import and Initialize"
   ]
  },
  {
   "cell_type": "code",
   "execution_count": 27,
   "metadata": {
    "execution": {
     "iopub.execute_input": "2021-07-13T17:27:12.111935Z",
     "iopub.status.busy": "2021-07-13T17:27:12.111582Z",
     "iopub.status.idle": "2021-07-13T17:27:12.114970Z",
     "shell.execute_reply": "2021-07-13T17:27:12.114358Z",
     "shell.execute_reply.started": "2021-07-13T17:27:12.111917Z"
    },
    "tags": []
   },
   "outputs": [],
   "source": [
    "import pandas as pd\n",
    "import networkx as nx\n",
    "from pyvis.network import Network\n",
    "import matplotlib.pyplot as plt"
   ]
  },
  {
   "cell_type": "markdown",
   "metadata": {},
   "source": [
    "## Declare Functions"
   ]
  },
  {
   "cell_type": "code",
   "execution_count": 4,
   "metadata": {
    "execution": {
     "iopub.execute_input": "2021-07-13T16:39:57.418145Z",
     "iopub.status.busy": "2021-07-13T16:39:57.417788Z",
     "iopub.status.idle": "2021-07-13T16:39:57.421490Z",
     "shell.execute_reply": "2021-07-13T16:39:57.420860Z",
     "shell.execute_reply.started": "2021-07-13T16:39:57.418127Z"
    },
    "tags": []
   },
   "outputs": [],
   "source": [
    "def search_tables(df, column):\n",
    "    tables = []\n",
    "    for ix, table in enumerate(df.index):\n",
    "        if column in df[ix]:\n",
    "            tables.append(table)\n",
    "    #print(tables)\n",
    "    return tables"
   ]
  },
  {
   "cell_type": "markdown",
   "metadata": {},
   "source": [
    "## Load Data"
   ]
  },
  {
   "cell_type": "markdown",
   "metadata": {},
   "source": [
    "Load the table descriptions that were manually extracted from Hive and placed in a CSV for analysis."
   ]
  },
  {
   "cell_type": "code",
   "execution_count": 5,
   "metadata": {
    "execution": {
     "iopub.execute_input": "2021-07-13T16:39:57.980984Z",
     "iopub.status.busy": "2021-07-13T16:39:57.980642Z",
     "iopub.status.idle": "2021-07-13T16:39:57.986819Z",
     "shell.execute_reply": "2021-07-13T16:39:57.986088Z",
     "shell.execute_reply.started": "2021-07-13T16:39:57.980969Z"
    },
    "tags": []
   },
   "outputs": [],
   "source": [
    "tables_path = \"data/gnn_zeta_tables_hive.csv\"\n",
    "tables = pd.read_csv(tables_path)\n",
    "\n",
    "# Strip whitespace as needed\n",
    "tables['Column'] = tables['Column'].str.strip()"
   ]
  },
  {
   "cell_type": "markdown",
   "metadata": {},
   "source": [
    "## Modify as Needed"
   ]
  },
  {
   "cell_type": "markdown",
   "metadata": {},
   "source": [
    "View the columns of each table."
   ]
  },
  {
   "cell_type": "code",
   "execution_count": 52,
   "metadata": {
    "execution": {
     "iopub.execute_input": "2021-07-13T17:41:06.267718Z",
     "iopub.status.busy": "2021-07-13T17:41:06.267359Z",
     "iopub.status.idle": "2021-07-13T17:41:06.271978Z",
     "shell.execute_reply": "2021-07-13T17:41:06.271330Z",
     "shell.execute_reply.started": "2021-07-13T17:41:06.267701Z"
    },
    "tags": []
   },
   "outputs": [],
   "source": [
    "tables_group = tables.groupby('Table')['Column'].apply(list)"
   ]
  },
  {
   "cell_type": "markdown",
   "metadata": {},
   "source": [
    "An example of searching tables for a particular column, which we can then use to iterate over the table and find links for the graph."
   ]
  },
  {
   "cell_type": "code",
   "execution_count": 53,
   "metadata": {
    "execution": {
     "iopub.execute_input": "2021-07-13T17:41:07.106178Z",
     "iopub.status.busy": "2021-07-13T17:41:07.105867Z",
     "iopub.status.idle": "2021-07-13T17:41:07.110216Z",
     "shell.execute_reply": "2021-07-13T17:41:07.109619Z",
     "shell.execute_reply.started": "2021-07-13T17:41:07.106161Z"
    },
    "tags": []
   },
   "outputs": [
    {
     "data": {
      "text/plain": [
       "['dsp_cookies_export',\n",
       " 'init_embed_hour_orc',\n",
       " 'liveintent_raw_hem_cookie_maid',\n",
       " 'liveramp_mobile_orc',\n",
       " 'liveramp_web_orc',\n",
       " 'sizmek_bidstream_raw',\n",
       " 'zync_session_tracking_orc',\n",
       " 'zync_session_tracking_sync_orc']"
      ]
     },
     "execution_count": 53,
     "metadata": {},
     "output_type": "execute_result"
    }
   ],
   "source": [
    "search_tables(tables_group, 'dt')"
   ]
  },
  {
   "cell_type": "markdown",
   "metadata": {},
   "source": [
    "## Search for Connections"
   ]
  },
  {
   "cell_type": "code",
   "execution_count": 72,
   "metadata": {
    "execution": {
     "iopub.execute_input": "2021-07-13T18:01:38.798082Z",
     "iopub.status.busy": "2021-07-13T18:01:38.797836Z",
     "iopub.status.idle": "2021-07-13T18:01:38.808451Z",
     "shell.execute_reply": "2021-07-13T18:01:38.807813Z",
     "shell.execute_reply.started": "2021-07-13T18:01:38.798064Z"
    },
    "tags": []
   },
   "outputs": [
    {
     "data": {
      "text/html": [
       "<div>\n",
       "<style scoped>\n",
       "    .dataframe tbody tr th:only-of-type {\n",
       "        vertical-align: middle;\n",
       "    }\n",
       "\n",
       "    .dataframe tbody tr th {\n",
       "        vertical-align: top;\n",
       "    }\n",
       "\n",
       "    .dataframe thead th {\n",
       "        text-align: right;\n",
       "    }\n",
       "</style>\n",
       "<table border=\"1\" class=\"dataframe\">\n",
       "  <thead>\n",
       "    <tr style=\"text-align: right;\">\n",
       "      <th></th>\n",
       "      <th>source</th>\n",
       "      <th>target</th>\n",
       "      <th>column_id</th>\n",
       "    </tr>\n",
       "  </thead>\n",
       "  <tbody>\n",
       "    <tr>\n",
       "      <th>0</th>\n",
       "      <td>dsp_cookies_export</td>\n",
       "      <td>sizmek_bidstream_raw</td>\n",
       "      <td>user_id</td>\n",
       "    </tr>\n",
       "    <tr>\n",
       "      <th>1</th>\n",
       "      <td>dsp_cookies_export</td>\n",
       "      <td>sizmek_bidstream_raw</td>\n",
       "      <td>zeta_user_id</td>\n",
       "    </tr>\n",
       "    <tr>\n",
       "      <th>2</th>\n",
       "      <td>liveramp_mobile_orc</td>\n",
       "      <td>liveramp_web_orc</td>\n",
       "      <td>email_md5</td>\n",
       "    </tr>\n",
       "    <tr>\n",
       "      <th>3</th>\n",
       "      <td>liveramp_mobile_orc</td>\n",
       "      <td>pg_auth_user_protected_orc</td>\n",
       "      <td>email_md5</td>\n",
       "    </tr>\n",
       "    <tr>\n",
       "      <th>4</th>\n",
       "      <td>liveramp_mobile_orc</td>\n",
       "      <td>liveramp_web_orc</td>\n",
       "      <td>email_sha256</td>\n",
       "    </tr>\n",
       "  </tbody>\n",
       "</table>\n",
       "</div>"
      ],
      "text/plain": [
       "                source                      target     column_id\n",
       "0   dsp_cookies_export        sizmek_bidstream_raw       user_id\n",
       "1   dsp_cookies_export        sizmek_bidstream_raw  zeta_user_id\n",
       "2  liveramp_mobile_orc            liveramp_web_orc     email_md5\n",
       "3  liveramp_mobile_orc  pg_auth_user_protected_orc     email_md5\n",
       "4  liveramp_mobile_orc            liveramp_web_orc  email_sha256"
      ]
     },
     "execution_count": 72,
     "metadata": {},
     "output_type": "execute_result"
    }
   ],
   "source": [
    "exclude_columns = [\"dt\",\"opt_out_flag\",\"timestamp\",\"referrer\"]\n",
    "id_cols = [\"id\",\"md5\",\"256\"]\n",
    "\n",
    "table_a = []\n",
    "table_b = []\n",
    "column_id = []\n",
    "for ix, table in enumerate(tables_group.index):\n",
    "    #print(\"=\"*5,table,\"=\"*5)\n",
    "    for column in tables_group[ix]:\n",
    "        #if \"id\" in str(column):\n",
    "        if str(column) not in exclude_columns:\n",
    "        #if True:\n",
    "            links = search_tables(tables_group, column)\n",
    "            if len(links) > 1:\n",
    "                #print(column, len(links))\n",
    "                #print(links)\n",
    "                for link in links:\n",
    "                    if link != table:\n",
    "                        table_a.append(table)\n",
    "                        table_b.append(link)\n",
    "                        column_id.append(column)\n",
    "\n",
    "table_connections = pd.DataFrame(data={\n",
    "    \"source\": table_a,\n",
    "    \"target\": table_b,\n",
    "    \"column_id\": column_id\n",
    "})\n",
    "\n",
    "table_connections.head(5)"
   ]
  },
  {
   "cell_type": "markdown",
   "metadata": {},
   "source": [
    "## Plot the Graph"
   ]
  },
  {
   "cell_type": "markdown",
   "metadata": {},
   "source": [
    "### `PyVis`"
   ]
  },
  {
   "cell_type": "code",
   "execution_count": 67,
   "metadata": {
    "execution": {
     "iopub.execute_input": "2021-07-13T17:47:10.830081Z",
     "iopub.status.busy": "2021-07-13T17:47:10.829917Z",
     "iopub.status.idle": "2021-07-13T17:47:10.840309Z",
     "shell.execute_reply": "2021-07-13T17:47:10.839691Z",
     "shell.execute_reply.started": "2021-07-13T17:47:10.830066Z"
    },
    "tags": []
   },
   "outputs": [
    {
     "data": {
      "text/html": [
       "\n",
       "        <iframe\n",
       "            width=\"500px\"\n",
       "            height=\"500px\"\n",
       "            src=\"example.html\"\n",
       "            frameborder=\"0\"\n",
       "            allowfullscreen\n",
       "        ></iframe>\n",
       "        "
      ],
      "text/plain": [
       "<IPython.lib.display.IFrame at 0x7f8f38162dc0>"
      ]
     },
     "execution_count": 67,
     "metadata": {},
     "output_type": "execute_result"
    }
   ],
   "source": [
    "id_graph = nx.from_pandas_edgelist(\n",
    "    df=table_connections,\n",
    "    source=\"source\",\n",
    "    target=\"target\",\n",
    "    edge_attr=\"column_id\"\n",
    ")\n",
    "\n",
    "net = Network(notebook=True)\n",
    "net.from_nx(id_graph)\n",
    "#net.add_edge(0, 1, title=\"this is an edge label\")\n",
    "net.show(\"example.html\")"
   ]
  },
  {
   "cell_type": "markdown",
   "metadata": {
    "execution": {
     "iopub.execute_input": "2021-07-13T17:45:08.528728Z",
     "iopub.status.busy": "2021-07-13T17:45:08.528402Z",
     "iopub.status.idle": "2021-07-13T17:45:08.531570Z",
     "shell.execute_reply": "2021-07-13T17:45:08.530928Z",
     "shell.execute_reply.started": "2021-07-13T17:45:08.528710Z"
    }
   },
   "source": [
    "### `NetworkX`"
   ]
  },
  {
   "cell_type": "code",
   "execution_count": 66,
   "metadata": {
    "execution": {
     "iopub.execute_input": "2021-07-13T17:46:03.081326Z",
     "iopub.status.busy": "2021-07-13T17:46:03.080970Z",
     "iopub.status.idle": "2021-07-13T17:46:03.180865Z",
     "shell.execute_reply": "2021-07-13T17:46:03.180277Z",
     "shell.execute_reply.started": "2021-07-13T17:46:03.081308Z"
    },
    "tags": []
   },
   "outputs": [
    {
     "data": {
      "image/png": "[encoded data removed]",
      "text/plain": [
       "<Figure size 720x720 with 1 Axes>"
      ]
     },
     "metadata": {},
     "output_type": "display_data"
    }
   ],
   "source": [
    "# plot the graph\n",
    "\n",
    "pos = nx.spring_layout(id_graph, scale=2)\n",
    "#nx.draw(id_graph, pos)\n",
    "plt.figure(figsize=(10,10)) \n",
    "\n",
    "nx.draw_networkx_nodes(id_graph, pos, node_size=700)\n",
    "nx.draw_networkx_edges(id_graph, pos, width=6)\n",
    "edge_labels = nx.get_edge_attributes(id_graph,'column_id')\n",
    "nx.draw_networkx_edge_labels(id_graph, pos, edge_labels = edge_labels)\n",
    "plt.show()\n",
    "#plt.savefig('graph_2.')"
   ]
  },
  {
   "cell_type": "code",
   "execution_count": null,
   "metadata": {},
   "outputs": [],
   "source": []
  }
 ],
 "metadata": {
  "kernelspec": {
   "display_name": "Python 3",
   "language": "python",
   "name": "python3"
  },
  "language_info": {
   "codemirror_mode": {
    "name": "ipython",
    "version": 3
   },
   "file_extension": ".py",
   "mimetype": "text/x-python",
   "name": "python",
   "nbconvert_exporter": "python",
   "pygments_lexer": "ipython3",
   "version": "3.8.3"
  }
 },
 "nbformat": 4,
 "nbformat_minor": 4
}
