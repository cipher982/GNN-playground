{
 "cells": [
  {
   "cell_type": "markdown",
   "metadata": {
    "colab_type": "text",
    "id": "view-in-github"
   },
   "source": [
    "<a href=\"https://colab.research.google.com/github/cipher982/GNN-playground/blob/main/dgl_intro.ipynb\" target=\"_parent\"><img src=\"https://colab.research.google.com/assets/colab-badge.svg\" alt=\"Open In Colab\"/></a>"
   ]
  },
  {
   "cell_type": "markdown",
   "metadata": {
    "id": "5CgJ1AvpvaPf"
   },
   "source": [
    "# Graph Neural Networks\n",
    "By David Rose"
   ]
  },
  {
   "cell_type": "markdown",
   "metadata": {
    "id": "9geE8d3EwSFu"
   },
   "source": [
    "# The TL;DR\n",
    "\n",
    "## What?\n",
    "A graph is a method of representing a network data and the connections between. In the most basic form you have two parts that make up a graph: **nodes** and **edges**.\n",
    "\n",
    "The nodes represent the samples of data and the edges represent some sort of link between them. Sometimes the link (edge) can be a single obvious property connecting multiple objects such as:\n",
    "- Distances between cities in miles\n",
    "- Friendships on Facebook\n",
    "- Citations between papers on Arxiv\n",
    "\n",
    "Or sometimes the network can be connected by multiple relevant attributes. With a supply chain network you will have routes that can be described by:\n",
    "- The trucks that deliver on routes between warehouses\n",
    "- The type of route (sea, land, air)\n",
    "- The average time or cost to transfer between locations\n",
    "\n",
    "## Why?\n",
    "Compared to tabular datasets there is no assumption of IID, rather the intent with graphs is the express purpose of the samples of data being related in some way or another. \n",
    "\n",
    "## How?\n",
    "We can transition a graph to the form of a typical machine learning problem by giving both the nodes and the edges their own features, and then performing the task of classifying a label on a specific node or a graph as a whole. Maybe for COVID contact tracing we are wanting to find who may have had contact with a specific person (node) but we only have partial knowledge of contact so far (the labels true/false) based on the edge features (distance in where they live) and node features (demographics, job type, common locations visited).\n",
    "\n",
    "Features can be anything you would normally use in a dataset:\n",
    "- numerical embeddings of words on a webage\n",
    "- pixel values of images\n",
    "- one-hot encoding of categories"
   ]
  },
  {
   "cell_type": "markdown",
   "metadata": {},
   "source": [
    "### Some examples of graph networks\n",
    "\n",
    "| Type of Network | Nodes           | Node Features                                                         | Edges        | Edge Features                                                        |\n",
    "|-----------------|-----------------|-----------------------------------------------------------------------|--------------|----------------------------------------------------------------------|\n",
    "| Traffic Flow    | addresses       | residential/business, amount of parking, size of lot                  | roads        | lane count, road width, average traffic flow                         |\n",
    "| Flights         | airports        | airlines, terminals, geography, city   population, connecting transit | routes       | distance, planes, frequency, costs, passengers                       |\n",
    "| Banking         | account holders | name, demographics, products, balances, credit report                 | transactions | type, amount, timestamp, location, device                            |\n",
    "| Social          | users           | name, demographics, photos, connections, comments                     | interactions | interaction type, timestamp, content                                 |\n",
    "| Physicians      | doctors         | name, demographics, specialty, licenses, affiliations                 | patients     | names, demographics, medical history, referred by, insurance, health |\n",
    "| Supply Chain    | warehouses      | location, size, capacity, products stored, connections, geography     | trucks       | size, year, model, permits, driver experience, load capacity         |\n"
   ]
  },
  {
   "cell_type": "markdown",
   "metadata": {},
   "source": [
    "# The Task\n",
    "### Node Classification\n",
    "\n",
    "One of the most common tasks performed with GNNs. The basic idea is that we can take a specific reference node, in this case node A, and perform neighborhood aggregation on the sorrounding nodes and the edges between them.\n",
    "\n",
    "#### What are the network layers?\n",
    "- **Nodes**: Recurrent networks\n",
    "- **Edges**: feed-forward networks\n",
    "\n",
    "#### What is the process?\n",
    "**Message passing**: In performing the neighborhoood aggregation, we pass messages (or embeddings) between the sorrounding nodes in regards to our reference node A. This in effect causes the information embedded in the nodes and edges to began filtering through the network, where they begin to learn from their neighbors."
   ]
  },
  {
   "cell_type": "markdown",
   "metadata": {},
   "source": [
    "| ![node classification_diagram](https://github.com/cipher982/GNN-playground/blob/main/images/node_classification.png?raw=true) |\n",
    "|:--:| \n",
    "| *Source: https://web.stanford.edu/class/cs224w/slides/08-GNN.pdf* |"
   ]
  },
  {
   "cell_type": "markdown",
   "metadata": {},
   "source": [
    "### Simple steps:\n",
    "1. Neighboring nodes pass their messages (embeddings) through the edge networks into the recurrent network on the refernce node.\n",
    "2. The new embedding of the reference recurrent unit is updated by applying the recurrent function on the current embedding and a summation of the edge network outputs from enighboring nodes."
   ]
  },
  {
   "cell_type": "markdown",
   "metadata": {},
   "source": [
    "| ![message passing diagram](https://github.com/cipher982/GNN-playground/blob/main/images/message_passing_diagram.png?raw=true) |\n",
    "|:--:| \n",
    "| *Source: https://medium.com/dair-ai/an-illustrated-guide-to-graph-neural-networks-d5564a551783*\n"
   ]
  },
  {
   "cell_type": "markdown",
   "metadata": {},
   "source": [
    "## Then what?\n",
    "\n",
    "Once you have performed this step a few times, we now have a set of new embeddings, different from than we began. So the nodes now have their original information, along with an aggregation of the information contained within their sorrounding nodes. We can then take this information and and send them further along other layers in a pipeline, or sum up all the embeddings to get a vector **H** that represents the whole graph."
   ]
  },
  {
   "cell_type": "markdown",
   "metadata": {},
   "source": [
    "| ![graph node aggregation](https://github.com/cipher982/GNN-playground/blob/main/images/graph_node_aggregation.png?raw=true) |\n",
    "|:--:| \n",
    "| *Source: https://medium.com/dair-ai/an-illustrated-guide-to-graph-neural-networks-d5564a551783*"
   ]
  },
  {
   "cell_type": "markdown",
   "metadata": {},
   "source": [
    "## Math Notation\n",
    "\n",
    "### State of each node\n",
    "Each node is represented by the state of it's neigborhood below"
   ]
  },
  {
   "cell_type": "markdown",
   "metadata": {},
   "source": [
    "![node math notation](https://github.com/cipher982/GNN-playground/blob/main/images/node_math_notation.png?raw=true)\n"
   ]
  },
  {
   "cell_type": "markdown",
   "metadata": {},
   "source": [
    "- **x_v**: The node feature\n",
    "- **x_co[v]**: Features of the edges connecting with v\n",
    "- **h_ne[v]**: Embeddings of the neighboring nodes of v\n",
    "- **x_nv[v]**: Features of the neighboring nodes of v\n",
    "- **f**: The transition function that projects these inputs into a d-dimensional space\n"
   ]
  },
  {
   "cell_type": "markdown",
   "metadata": {},
   "source": [
    "### State of aggregate nodes\n",
    "H and X denote the concatenation of all the h and x values as an iterative update process"
   ]
  },
  {
   "cell_type": "markdown",
   "metadata": {},
   "source": [
    "![node math notation 2](https://github.com/cipher982/GNN-playground/blob/main/images/node_math_notation_2.png?raw=true)\n"
   ]
  },
  {
   "cell_type": "markdown",
   "metadata": {},
   "source": [
    "## Typical Sampling Process"
   ]
  },
  {
   "cell_type": "markdown",
   "metadata": {},
   "source": [
    "| ![graphSAGE diagram](https://github.com/cipher982/GNN-playground/blob/main/images/graphSAGE_diagram.png?raw=true) |\n",
    "|:--:| \n",
    "| *Source: https://web.stanford.edu/class/cs224w/slides/08-GNN.pdf* |"
   ]
  },
  {
   "cell_type": "markdown",
   "metadata": {},
   "source": [
    "-------------"
   ]
  },
  {
   "cell_type": "markdown",
   "metadata": {},
   "source": [
    "# Code Example"
   ]
  },
  {
   "cell_type": "code",
   "execution_count": null,
   "metadata": {
    "id": "W3aOfesFCi0Q",
    "tags": []
   },
   "outputs": [],
   "source": [
    "!pip install dgl torch > logs/bash_log.txt"
   ]
  },
  {
   "cell_type": "markdown",
   "metadata": {},
   "source": [
    "### PyTorch or TensorFlow?\n",
    "\n",
    "When importing *dgl* we can specify the backend to use with the environmental variable `DGLBACKEND`."
   ]
  },
  {
   "cell_type": "code",
   "execution_count": 11,
   "metadata": {
    "colab": {
     "base_uri": "https://localhost:8080/"
    },
    "execution": {
     "iopub.execute_input": "2021-07-01T01:54:11.843936Z",
     "iopub.status.busy": "2021-07-01T01:54:11.843775Z",
     "iopub.status.idle": "2021-07-01T01:54:11.848301Z",
     "shell.execute_reply": "2021-07-01T01:54:11.847409Z",
     "shell.execute_reply.started": "2021-07-01T01:54:11.843921Z"
    },
    "id": "mIZJFvcvCbeo",
    "outputId": "dd89f29b-794d-4980-f286-acd6ae3ca396",
    "tags": []
   },
   "outputs": [
    {
     "name": "stdout",
     "output_type": "stream",
     "text": [
      "env: DGLBACKEND='pytorch'\n"
     ]
    }
   ],
   "source": [
    "#%env DGLBACKEND='tensorflow'\n",
    "%env DGLBACKEND='pytorch'\n",
    "\n",
    "import dgl\n",
    "import torch\n",
    "import torch.nn as nn\n",
    "import torch.nn.functional as F\n",
    "import dgl.data\n",
    "\n",
    "USE_GPU = False"
   ]
  },
  {
   "cell_type": "markdown",
   "metadata": {},
   "source": [
    "### Dataset (Reddit)\n",
    "\n",
    "Using the Reddit dataset which has already been processed and ready for download. It is a collection of posts made during the month of September 2014. The label is the subreddit name for the node (post) and nodes are connected if the same user comments on both.\n",
    "\n",
    "#### Sampling\n",
    "We use the first 20 days for training and the remaining days for testing (with 30% used for validation)."
   ]
  },
  {
   "cell_type": "code",
   "execution_count": 2,
   "metadata": {
    "colab": {
     "base_uri": "https://localhost:8080/"
    },
    "execution": {
     "iopub.execute_input": "2021-07-01T01:52:16.392229Z",
     "iopub.status.busy": "2021-07-01T01:52:16.392097Z",
     "iopub.status.idle": "2021-07-01T01:52:22.073540Z",
     "shell.execute_reply": "2021-07-01T01:52:22.072350Z",
     "shell.execute_reply.started": "2021-07-01T01:52:16.392213Z"
    },
    "id": "dpj_ERhuCfWo",
    "outputId": "b835f7c3-48a7-4230-e6be-e86e8f61b3f5",
    "tags": []
   },
   "outputs": [],
   "source": [
    "dataset = dgl.data.RedditDataset()"
   ]
  },
  {
   "cell_type": "code",
   "execution_count": 3,
   "metadata": {
    "execution": {
     "iopub.execute_input": "2021-07-01T01:52:22.074888Z",
     "iopub.status.busy": "2021-07-01T01:52:22.074733Z",
     "iopub.status.idle": "2021-07-01T01:52:22.081884Z",
     "shell.execute_reply": "2021-07-01T01:52:22.080635Z",
     "shell.execute_reply.started": "2021-07-01T01:52:22.074871Z"
    },
    "tags": []
   },
   "outputs": [
    {
     "name": "stdout",
     "output_type": "stream",
     "text": [
      "Number of categories: 41\n",
      "\n",
      "Node features\n",
      "dict_keys(['label', 'feat', 'test_mask', 'train_mask', 'val_mask'])\n",
      "\n",
      "Edge features\n",
      "dict_keys([])\n",
      "\n",
      "Total nodes: 232,965\n",
      "Total edges: 114,615,892\n"
     ]
    }
   ],
   "source": [
    "print('Number of categories:', dataset.num_classes)\n",
    "\n",
    "g = dataset[0]\n",
    "print('\\nNode features')\n",
    "\n",
    "print(g.ndata.keys())\n",
    "print('\\nEdge features')\n",
    "print(g.edata.keys())\n",
    "\n",
    "print(f\"\\nTotal nodes: {g.num_nodes():,}\")\n",
    "print(f\"Total edges: {g.num_edges():,}\")"
   ]
  },
  {
   "cell_type": "markdown",
   "metadata": {},
   "source": [
    "## The Model\n",
    "\n",
    "Here we put together a simple two-layer Graph Convolutional Network (GCN). Each layer computes new node representations by aggregating neighbor information.\n",
    "\n",
    "DGL layers work easily within PyTorch and can be stacked along with standard PyTorch layers."
   ]
  },
  {
   "cell_type": "code",
   "execution_count": 7,
   "metadata": {
    "execution": {
     "iopub.execute_input": "2021-07-01T01:35:43.655151Z",
     "iopub.status.busy": "2021-07-01T01:35:43.654997Z",
     "iopub.status.idle": "2021-07-01T01:35:43.659566Z",
     "shell.execute_reply": "2021-07-01T01:35:43.658941Z",
     "shell.execute_reply.started": "2021-07-01T01:35:43.655136Z"
    },
    "id": "yAJNLNy1p9LA"
   },
   "outputs": [],
   "source": [
    "from dgl.nn import GraphConv\n",
    "\n",
    "class GCN(nn.Module):\n",
    "    def __init__(self, in_feats, h_feats, num_classes):\n",
    "        super(GCN, self).__init__()\n",
    "        self.conv1 = GraphConv(in_feats, h_feats)\n",
    "        self.conv2 = GraphConv(h_feats, num_classes)\n",
    "\n",
    "    def forward(self, g, in_feat):\n",
    "        h = self.conv1(g, in_feat)\n",
    "        h = F.relu(h)\n",
    "        h = self.conv2(g, h)\n",
    "        return h\n",
    "\n",
    "# Create the model with given dimensions\n",
    "model = GCN(g.ndata['feat'].shape[1], 16, dataset.num_classes)"
   ]
  },
  {
   "cell_type": "markdown",
   "metadata": {},
   "source": [
    "## Training\n",
    "\n",
    "The training process is basically similar to any other PyTorch training loop."
   ]
  },
  {
   "cell_type": "code",
   "execution_count": 8,
   "metadata": {
    "colab": {
     "base_uri": "https://localhost:8080/"
    },
    "execution": {
     "iopub.execute_input": "2021-07-01T01:35:47.225706Z",
     "iopub.status.busy": "2021-07-01T01:35:47.225534Z",
     "iopub.status.idle": "2021-07-01T01:37:01.129324Z",
     "shell.execute_reply": "2021-07-01T01:37:01.128647Z",
     "shell.execute_reply.started": "2021-07-01T01:35:47.225681Z"
    },
    "id": "oYuJqQEAqGup",
    "outputId": "4988346d-63ec-48a9-da03-bdae04838d73"
   },
   "outputs": [
    {
     "name": "stdout",
     "output_type": "stream",
     "text": [
      "epoch 0, loss: 3.755, val acc: 0.011 (best 0.011),            test acc: 0.011 (best 0.011)\n",
      "epoch 5, loss: 2.773, val acc: 0.362 (best 0.362),            test acc: 0.362 (best 0.362)\n",
      "epoch 10, loss: 2.177, val acc: 0.598 (best 0.598),            test acc: 0.595 (best 0.595)\n",
      "epoch 15, loss: 1.716, val acc: 0.665 (best 0.665),            test acc: 0.660 (best 0.660)\n",
      "epoch 20, loss: 1.355, val acc: 0.759 (best 0.759),            test acc: 0.754 (best 0.754)\n",
      "epoch 25, loss: 1.083, val acc: 0.824 (best 0.824),            test acc: 0.820 (best 0.820)\n",
      "epoch 30, loss: 0.888, val acc: 0.857 (best 0.857),            test acc: 0.853 (best 0.853)\n",
      "epoch 35, loss: 0.756, val acc: 0.894 (best 0.894),            test acc: 0.891 (best 0.891)\n",
      "epoch 40, loss: 0.661, val acc: 0.902 (best 0.902),            test acc: 0.899 (best 0.899)\n",
      "epoch 45, loss: 0.593, val acc: 0.912 (best 0.912),            test acc: 0.909 (best 0.909)\n"
     ]
    }
   ],
   "source": [
    "def train(g, model):\n",
    "    optimizer = torch.optim.Adam(model.parameters(), lr=0.01)\n",
    "    best_val_acc = 0\n",
    "    best_test_acc = 0\n",
    "\n",
    "    features = g.ndata['feat']\n",
    "    labels = g.ndata['label']\n",
    "    train_mask = g.ndata['train_mask']\n",
    "    val_mask = g.ndata['val_mask']\n",
    "    test_mask = g.ndata['test_mask']\n",
    "    for e in range(50):\n",
    "        # Forward\n",
    "        logits = model(g, features)\n",
    "\n",
    "        # Compute prediction\n",
    "        pred = logits.argmax(1)\n",
    "\n",
    "        # Compute loss\n",
    "        # Only compute the losses of the nodes in the training set\n",
    "        loss = F.cross_entropy(logits[train_mask], labels[train_mask])\n",
    "\n",
    "        # Compute accuracy on training/validation/test\n",
    "        train_acc = (pred[train_mask] == labels[train_mask]).float().mean()\n",
    "        val_acc = (pred[val_mask] == labels[val_mask]).float().mean()\n",
    "        test_acc = (pred[test_mask] == labels[test_mask]).float().mean()\n",
    "\n",
    "        # Save best validation accuracy and corresponding test accuracy\n",
    "        if best_val_acc < val_acc:\n",
    "            best_val_acc = val_acc\n",
    "            best_test_acc = test_acc\n",
    "\n",
    "        # Backward\n",
    "        optimizer.zero_grad()\n",
    "        loss.backward()\n",
    "        optimizer.step()\n",
    "\n",
    "        if e % 5 == 0:\n",
    "            print(\n",
    "            'epoch {}, loss: {:.3f}, val acc: {:.3f} (best {:.3f}),\\\n",
    "            test acc: {:.3f} (best {:.3f})'.format(\n",
    "                e, loss, val_acc, best_val_acc, test_acc, best_test_acc))\n",
    "\n",
    "if USE_GPU:            \n",
    "    g = g.to('cuda')\n",
    "    model = GCN(g.ndata['feat'].shape[1], 16, dataset.num_classes).to('cuda')\n",
    "else:\n",
    "    model = GCN(g.ndata['feat'].shape[1], 16, dataset.num_classes)\n",
    "\n",
    "train(g, model)"
   ]
  },
  {
   "cell_type": "markdown",
   "metadata": {},
   "source": [
    "## Save the trained graph\n",
    "\n",
    "Once the model is trained we can easily save it and load back later on with the built-in functions."
   ]
  },
  {
   "cell_type": "code",
   "execution_count": 10,
   "metadata": {
    "colab": {
     "base_uri": "https://localhost:8080/"
    },
    "execution": {
     "iopub.execute_input": "2021-07-01T01:37:01.138510Z",
     "iopub.status.busy": "2021-07-01T01:37:01.138305Z",
     "iopub.status.idle": "2021-07-01T01:37:02.882449Z",
     "shell.execute_reply": "2021-07-01T01:37:02.881825Z",
     "shell.execute_reply.started": "2021-07-01T01:37:01.138496Z"
    },
    "id": "CmtbKc0fWKrz",
    "outputId": "dbadea92-20ba-4808-803a-bf73adf102aa"
   },
   "outputs": [
    {
     "name": "stdout",
     "output_type": "stream",
     "text": [
      "Graph(num_nodes=232965, num_edges=114615892,\n",
      "      ndata_schemes={'val_mask': Scheme(shape=(), dtype=torch.uint8), 'train_mask': Scheme(shape=(), dtype=torch.uint8), 'test_mask': Scheme(shape=(), dtype=torch.uint8), 'label': Scheme(shape=(), dtype=torch.int64), 'feat': Scheme(shape=(602,), dtype=torch.float32)}\n",
      "      edata_schemes={})\n"
     ]
    }
   ],
   "source": [
    "# Save graphs\n",
    "dgl.save_graphs('graph.dgl', g)\n",
    "\n",
    "# Load graphs\n",
    "(g,), _ = dgl.load_graphs('graph.dgl')\n",
    "print(g)"
   ]
  },
  {
   "cell_type": "code",
   "execution_count": null,
   "metadata": {},
   "outputs": [],
   "source": []
  },
  {
   "cell_type": "markdown",
   "metadata": {},
   "source": [
    "-----------"
   ]
  }
 ],
 "metadata": {
  "colab": {
   "authorship_tag": "ABX9TyMNUxtGKuNylUVlriOuL9sf",
   "collapsed_sections": [],
   "include_colab_link": true,
   "machine_shape": "hm",
   "name": "dgl_intro.ipynb",
   "provenance": []
  },
  "kernelspec": {
   "display_name": "Python 3",
   "language": "python",
   "name": "python3"
  },
  "language_info": {
   "codemirror_mode": {
    "name": "ipython",
    "version": 3
   },
   "file_extension": ".py",
   "mimetype": "text/x-python",
   "name": "python",
   "nbconvert_exporter": "python",
   "pygments_lexer": "ipython3",
   "version": "3.8.2"
  }
 },
 "nbformat": 4,
 "nbformat_minor": 4
}
