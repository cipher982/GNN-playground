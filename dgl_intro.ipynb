{
  "nbformat": 4,
  "nbformat_minor": 0,
  "metadata": {
    "colab": {
      "name": "dgl_intro.ipynb",
      "provenance": [],
      "collapsed_sections": [],
      "machine_shape": "hm",
      "authorship_tag": "ABX9TyMNUxtGKuNylUVlriOuL9sf",
      "include_colab_link": true
    },
    "kernelspec": {
      "name": "python3",
      "display_name": "Python 3"
    },
    "language_info": {
      "name": "python"
    }
  },
  "cells": [
    {
      "cell_type": "markdown",
      "metadata": {
        "id": "view-in-github",
        "colab_type": "text"
      },
      "source": [
        "<a href=\"https://colab.research.google.com/github/cipher982/GNN-playground/blob/main/dgl_intro.ipynb\" target=\"_parent\"><img src=\"https://colab.research.google.com/assets/colab-badge.svg\" alt=\"Open In Colab\"/></a>"
      ]
    },
    {
      "cell_type": "markdown",
      "metadata": {
        "id": "5CgJ1AvpvaPf"
      },
      "source": [
        "# Graph Neural Networks\n",
        "By David Rose"
      ]
    },
    {
      "cell_type": "markdown",
      "metadata": {
        "id": "9geE8d3EwSFu"
      },
      "source": [
        "# Graphs TL;DR\n",
        "\n",
        "## What?\n",
        "A graph is a method of representing a network data and the connections between. In the most basic form you have two parts that make up a graph: **nodes** and **edges**.\n",
        "\n",
        "The nodes represent the samples of data and the edges represent some sort of link between them. Sometimes the link can be a single obvious property connecting multiple objects such as:\n",
        "- Distances between cities in miles\n",
        "- Friendships on Facebook\n",
        "- Citations between papers on Arxiv\n",
        "\n",
        "Or sometimes the network can be connected by multiple relevant attributes. With the Amazon goods supply chain you will have numeroud routes that can be described by:\n",
        "- The trucks that deliver on routes between warehouses\n",
        "- The type of route (sea, land, air)\n",
        "- The average time or cost to transfer between locations\n",
        "\n",
        "## Why?\n",
        "Compared to tabular datasets there is no assumption of IID, rather the intent with graphs is the express purpose of the samples of data being related in some way or another. \n",
        "\n",
        "## How?\n",
        "We can transition a graph to the form of a typical machine learning problem by giving both the nodes and the edges their own features and labels. In the Amazon example "
      ]
    },
    {
      "cell_type": "markdown",
      "metadata": {
        "id": "cajHUrsIvfXM"
      },
      "source": [
        "# History\n",
        "\n",
        "The first mention was in 2009 in a paper from the University of Wollongong, Australia. They proposed the idea of a *Graph Neural Network Model* "
      ]
    },
    {
      "cell_type": "code",
      "metadata": {
        "id": "W3aOfesFCi0Q"
      },
      "source": [
        "!pip install dgl > bash_log.txt"
      ],
      "execution_count": null,
      "outputs": []
    },
    {
      "cell_type": "code",
      "metadata": {
        "id": "mIZJFvcvCbeo",
        "colab": {
          "base_uri": "https://localhost:8080/"
        },
        "outputId": "dd89f29b-794d-4980-f286-acd6ae3ca396"
      },
      "source": [
        "import dgl\n",
        "import torch\n",
        "import torch.nn as nn\n",
        "import torch.nn.functional as F\n",
        "import dgl.data\n",
        "\n",
        "#%env DGLBACKEND='tensorflow'\n",
        "%env DGLBACKEND='pytorch'\n",
        "\n",
        "USE_GPU = False"
      ],
      "execution_count": null,
      "outputs": [
        {
          "output_type": "stream",
          "text": [
            "env: DGLBACKEND='pytorch'\n"
          ],
          "name": "stdout"
        }
      ]
    },
    {
      "cell_type": "code",
      "metadata": {
        "colab": {
          "base_uri": "https://localhost:8080/"
        },
        "id": "dpj_ERhuCfWo",
        "outputId": "b835f7c3-48a7-4230-e6be-e86e8f61b3f5"
      },
      "source": [
        "dataset = dgl.data.CoraGraphDataset()\n",
        "print('Number of categories:', dataset.num_classes)\n",
        "\n",
        "g = dataset[0]\n",
        "print('\\nNode features')\n",
        "print(g.ndata)\n",
        "print('\\nEdge features')\n",
        "print(g.edata)"
      ],
      "execution_count": null,
      "outputs": [
        {
          "output_type": "stream",
          "text": [
            "  NumNodes: 2708\n",
            "  NumEdges: 10556\n",
            "  NumFeats: 1433\n",
            "  NumClasses: 7\n",
            "  NumTrainingSamples: 140\n",
            "  NumValidationSamples: 500\n",
            "  NumTestSamples: 1000\n",
            "Done loading data from cached files.\n",
            "Number of categories: 7\n",
            "\n",
            "Node features\n",
            "{'feat': tensor([[0., 0., 0.,  ..., 0., 0., 0.],\n",
            "        [0., 0., 0.,  ..., 0., 0., 0.],\n",
            "        [0., 0., 0.,  ..., 0., 0., 0.],\n",
            "        ...,\n",
            "        [0., 0., 0.,  ..., 0., 0., 0.],\n",
            "        [0., 0., 0.,  ..., 0., 0., 0.],\n",
            "        [0., 0., 0.,  ..., 0., 0., 0.]]), 'label': tensor([3, 4, 4,  ..., 3, 3, 3]), 'test_mask': tensor([False, False, False,  ...,  True,  True,  True]), 'train_mask': tensor([ True,  True,  True,  ..., False, False, False]), 'val_mask': tensor([False, False, False,  ..., False, False, False])}\n",
            "\n",
            "Edge features\n",
            "{}\n"
          ],
          "name": "stdout"
        }
      ]
    },
    {
      "cell_type": "code",
      "metadata": {
        "id": "yAJNLNy1p9LA"
      },
      "source": [
        "from dgl.nn import GraphConv\n",
        "\n",
        "class GCN(nn.Module):\n",
        "    def __init__(self, in_feats, h_feats, num_classes):\n",
        "        super(GCN, self).__init__()\n",
        "        self.conv1 = GraphConv(in_feats, h_feats)\n",
        "        self.conv2 = GraphConv(h_feats, num_classes)\n",
        "\n",
        "    def forward(self, g, in_feat):\n",
        "        h = self.conv1(g, in_feat)\n",
        "        h = F.relu(h)\n",
        "        h = self.conv2(g, h)\n",
        "        return h\n",
        "\n",
        "# Create the model with given dimensions\n",
        "model = GCN(g.ndata['feat'].shape[1], 16, dataset.num_classes)"
      ],
      "execution_count": null,
      "outputs": []
    },
    {
      "cell_type": "code",
      "metadata": {
        "colab": {
          "base_uri": "https://localhost:8080/"
        },
        "id": "oYuJqQEAqGup",
        "outputId": "4988346d-63ec-48a9-da03-bdae04838d73"
      },
      "source": [
        "def train(g, model):\n",
        "    optimizer = torch.optim.Adam(model.parameters(), lr=0.01)\n",
        "    best_val_acc = 0\n",
        "    best_test_acc = 0\n",
        "\n",
        "    features = g.ndata['feat']\n",
        "    labels = g.ndata['label']\n",
        "    train_mask = g.ndata['train_mask']\n",
        "    val_mask = g.ndata['val_mask']\n",
        "    test_mask = g.ndata['test_mask']\n",
        "    for e in range(50):\n",
        "        # Forward\n",
        "        logits = model(g, features)\n",
        "\n",
        "        # Compute prediction\n",
        "        pred = logits.argmax(1)\n",
        "\n",
        "        # Compute loss\n",
        "        # Only compute the losses of the nodes in the training set\n",
        "        loss = F.cross_entropy(logits[train_mask], labels[train_mask])\n",
        "\n",
        "        # Compute accuracy on training/validation/test\n",
        "        train_acc = (pred[train_mask] == labels[train_mask]).float().mean()\n",
        "        val_acc = (pred[val_mask] == labels[val_mask]).float().mean()\n",
        "        test_acc = (pred[test_mask] == labels[test_mask]).float().mean()\n",
        "\n",
        "        # Save best validation accuracy and corresponding test accuracy\n",
        "        if best_val_acc < val_acc:\n",
        "            best_val_acc = val_acc\n",
        "            best_test_acc = test_acc\n",
        "\n",
        "        # Backward\n",
        "        optimizer.zero_grad()\n",
        "        loss.backward()\n",
        "        optimizer.step()\n",
        "\n",
        "        if e % 5 == 0:\n",
        "            print(\n",
        "            'epoch {}, loss: {:.3f}, val acc: {:.3f} (best {:.3f}),\\\n",
        "            test acc: {:.3f} (best {:.3f})'.format(\n",
        "                e, loss, val_acc, best_val_acc, test_acc, best_test_acc))\n",
        "\n",
        "if USE_GPU:            \n",
        "    g = g.to('cuda')\n",
        "    model = GCN(g.ndata['feat'].shape[1], 16, dataset.num_classes).to('cuda')\n",
        "else:\n",
        "    model = GCN(g.ndata['feat'].shape[1], 16, dataset.num_classes)\n",
        "\n",
        "train(g, model)"
      ],
      "execution_count": null,
      "outputs": [
        {
          "output_type": "stream",
          "text": [
            "epoch 0, loss: 1.946, val acc: 0.102 (best 0.102),            test acc: 0.109 (best 0.109)\n",
            "epoch 5, loss: 1.888, val acc: 0.422 (best 0.422),            test acc: 0.471 (best 0.471)\n",
            "epoch 10, loss: 1.803, val acc: 0.552 (best 0.552),            test acc: 0.583 (best 0.583)\n",
            "epoch 15, loss: 1.693, val acc: 0.612 (best 0.612),            test acc: 0.620 (best 0.620)\n",
            "epoch 20, loss: 1.559, val acc: 0.672 (best 0.672),            test acc: 0.671 (best 0.671)\n",
            "epoch 25, loss: 1.405, val acc: 0.692 (best 0.692),            test acc: 0.702 (best 0.702)\n",
            "epoch 30, loss: 1.236, val acc: 0.712 (best 0.712),            test acc: 0.720 (best 0.717)\n",
            "epoch 35, loss: 1.062, val acc: 0.718 (best 0.718),            test acc: 0.728 (best 0.726)\n",
            "epoch 40, loss: 0.891, val acc: 0.730 (best 0.730),            test acc: 0.749 (best 0.746)\n",
            "epoch 45, loss: 0.733, val acc: 0.732 (best 0.734),            test acc: 0.753 (best 0.753)\n"
          ],
          "name": "stdout"
        }
      ]
    },
    {
      "cell_type": "code",
      "metadata": {
        "colab": {
          "base_uri": "https://localhost:8080/"
        },
        "id": "8cvUk4CDqF8B",
        "outputId": "c2ca5d71-8ddf-4b02-fe1b-f9fbb7cec77e"
      },
      "source": [
        "g"
      ],
      "execution_count": 36,
      "outputs": [
        {
          "output_type": "execute_result",
          "data": {
            "text/plain": [
              "[Graph(num_nodes=2708, num_edges=10556,\n",
              "       ndata_schemes={'label': Scheme(shape=(), dtype=torch.int64), 'feat': Scheme(shape=(1433,), dtype=torch.float32), 'test_mask': Scheme(shape=(), dtype=torch.uint8), 'val_mask': Scheme(shape=(), dtype=torch.uint8), 'train_mask': Scheme(shape=(), dtype=torch.uint8)}\n",
              "       edata_schemes={})]"
            ]
          },
          "metadata": {
            "tags": []
          },
          "execution_count": 36
        }
      ]
    },
    {
      "cell_type": "code",
      "metadata": {
        "id": "CmtbKc0fWKrz",
        "colab": {
          "base_uri": "https://localhost:8080/"
        },
        "outputId": "dbadea92-20ba-4808-803a-bf73adf102aa"
      },
      "source": [
        "# Save graphs\n",
        "dgl.save_graphs('graph.dgl', g)\n",
        "\n",
        "# Load graphs\n",
        "(g,), _ = dgl.load_graphs('graph.dgl')\n",
        "print(g)"
      ],
      "execution_count": 37,
      "outputs": [
        {
          "output_type": "stream",
          "text": [
            "Graph(num_nodes=2708, num_edges=10556,\n",
            "      ndata_schemes={'train_mask': Scheme(shape=(), dtype=torch.uint8), 'val_mask': Scheme(shape=(), dtype=torch.uint8), 'test_mask': Scheme(shape=(), dtype=torch.uint8), 'label': Scheme(shape=(), dtype=torch.int64), 'feat': Scheme(shape=(1433,), dtype=torch.float32)}\n",
            "      edata_schemes={})\n"
          ],
          "name": "stdout"
        }
      ]
    },
    {
      "cell_type": "markdown",
      "metadata": {
        "id": "uFVMOyYztlLH"
      },
      "source": [
        "# Reddit Dataset"
      ]
    },
    {
      "cell_type": "code",
      "metadata": {
        "colab": {
          "base_uri": "https://localhost:8080/"
        },
        "id": "1fxpQ3ehmEXh",
        "outputId": "6d364cd3-8b36-46cb-e379-8647dfa98b9a"
      },
      "source": [
        "reddit = dgl.data.RedditDataset()"
      ],
      "execution_count": 38,
      "outputs": [
        {
          "output_type": "stream",
          "text": [
            "Downloading /root/.dgl/reddit.zip from https://data.dgl.ai/dataset/reddit.zip...\n",
            "Extracting file to /root/.dgl/reddit\n"
          ],
          "name": "stdout"
        }
      ]
    },
    {
      "cell_type": "code",
      "metadata": {
        "colab": {
          "base_uri": "https://localhost:8080/"
        },
        "id": "nXIANnzttnvt",
        "outputId": "53d19016-416c-447f-8796-5baad7584d5c"
      },
      "source": [
        "graph = reddit[0]\n",
        "graph"
      ],
      "execution_count": 49,
      "outputs": [
        {
          "output_type": "execute_result",
          "data": {
            "text/plain": [
              "Graph(num_nodes=232965, num_edges=114615892,\n",
              "      ndata_schemes={'train_mask': Scheme(shape=(), dtype=torch.bool), 'val_mask': Scheme(shape=(), dtype=torch.bool), 'test_mask': Scheme(shape=(), dtype=torch.bool), 'feat': Scheme(shape=(602,), dtype=torch.float32), 'label': Scheme(shape=(), dtype=torch.int64)}\n",
              "      edata_schemes={})"
            ]
          },
          "metadata": {
            "tags": []
          },
          "execution_count": 49
        }
      ]
    },
    {
      "cell_type": "code",
      "metadata": {
        "colab": {
          "base_uri": "https://localhost:8080/"
        },
        "id": "3chmuw3qtxv5",
        "outputId": "b70a880f-3e38-41f0-9f3a-6d0653ba3a3c"
      },
      "source": [
        "print(dir(graph))"
      ],
      "execution_count": 50,
      "outputs": [
        {
          "output_type": "stream",
          "text": [
            "['__class__', '__contains__', '__copy__', '__delattr__', '__dict__', '__dir__', '__doc__', '__eq__', '__format__', '__ge__', '__getattribute__', '__getitem__', '__gt__', '__hash__', '__init__', '__init_subclass__', '__le__', '__len__', '__lt__', '__module__', '__ne__', '__new__', '__reduce__', '__reduce_ex__', '__repr__', '__setattr__', '__setstate__', '__sizeof__', '__str__', '__subclasshook__', '__weakref__', '_batch_num_edges', '_batch_num_nodes', '_canonical_etypes', '_dsttypes_invmap', '_edge_frames', '_etype2canonical', '_etypes', '_etypes_invmap', '_find_etypes', '_get_e_repr', '_get_n_repr', '_graph', '_idtype_str', '_init', '_is_unibipartite', '_node_frames', '_ntypes', '_pop_e_repr', '_pop_n_repr', '_reset_cached_info', '_set_e_repr', '_set_n_repr', '_srctypes_invmap', 'add_edge', 'add_edges', 'add_nodes', 'add_self_loop', 'adj', 'adjacency_matrix', 'adjacency_matrix_scipy', 'all_edges', 'apply_edges', 'apply_nodes', 'astype', 'batch_num_edges', 'batch_num_nodes', 'batch_size', 'canonical_etypes', 'clone', 'cpu', 'create_formats_', 'device', 'dstdata', 'dstnodes', 'dsttypes', 'edata', 'edge_attr_schemes', 'edge_id', 'edge_ids', 'edge_subgraph', 'edge_type_subgraph', 'edges', 'etypes', 'filter_edges', 'filter_nodes', 'find_edges', 'formats', 'from_networkx', 'from_scipy_sparse_matrix', 'get_etype_id', 'get_ntype_id', 'get_ntype_id_from_dst', 'get_ntype_id_from_src', 'group_apply_edges', 'has_edge_between', 'has_edges_between', 'has_node', 'has_nodes', 'idtype', 'in_degree', 'in_degrees', 'in_edges', 'in_subgraph', 'inc', 'incidence_matrix', 'int', 'is_block', 'is_homogeneous', 'is_multigraph', 'is_readonly', 'is_unibipartite', 'line_graph', 'local_scope', 'local_var', 'long', 'metagraph', 'multi_pull', 'multi_recv', 'multi_send_and_recv', 'multi_update_all', 'ndata', 'node_attr_schemes', 'node_type_subgraph', 'nodes', 'ntypes', 'num_dst_nodes', 'num_edges', 'num_nodes', 'num_src_nodes', 'number_of_dst_nodes', 'number_of_edges', 'number_of_nodes', 'number_of_src_nodes', 'out_degree', 'out_degrees', 'out_edges', 'out_subgraph', 'predecessors', 'prop_edges', 'prop_nodes', 'pull', 'push', 'readonly', 'recv', 'register_apply_edge_func', 'register_apply_node_func', 'register_message_func', 'register_reduce_func', 'remove_edges', 'remove_nodes', 'remove_self_loop', 'reverse', 'send', 'send_and_recv', 'set_batch_num_edges', 'set_batch_num_nodes', 'set_e_initializer', 'set_n_initializer', 'shared_memory', 'srcdata', 'srcnodes', 'srctypes', 'subgraph', 'successors', 'to', 'to_canonical_etype', 'to_networkx', 'to_simple', 'update_all']\n"
          ],
          "name": "stdout"
        }
      ]
    },
    {
      "cell_type": "code",
      "metadata": {
        "colab": {
          "base_uri": "https://localhost:8080/"
        },
        "id": "rp9nlo3Xty0d",
        "outputId": "69cdd8dc-b908-4c2d-806b-58e5a7f21719"
      },
      "source": [
        "reddit.num_classes"
      ],
      "execution_count": 55,
      "outputs": [
        {
          "output_type": "execute_result",
          "data": {
            "text/plain": [
              "41"
            ]
          },
          "metadata": {
            "tags": []
          },
          "execution_count": 55
        }
      ]
    },
    {
      "cell_type": "code",
      "metadata": {
        "colab": {
          "base_uri": "https://localhost:8080/"
        },
        "id": "b-omgwJvusXN",
        "outputId": "59cc4994-a265-4fe0-ab2f-143844fe5ff1"
      },
      "source": [
        "reddit.num_labels"
      ],
      "execution_count": 56,
      "outputs": [
        {
          "output_type": "stream",
          "text": [
            "/usr/local/lib/python3.7/dist-packages/dgl/data/utils.py:285: UserWarning: Property dataset.num_labels will be deprecated, please use dataset.num_classes instead.\n",
            "  warnings.warn('Property {} will be deprecated, please use {} instead.'.format(old, new))\n"
          ],
          "name": "stderr"
        },
        {
          "output_type": "execute_result",
          "data": {
            "text/plain": [
              "41"
            ]
          },
          "metadata": {
            "tags": []
          },
          "execution_count": 56
        }
      ]
    },
    {
      "cell_type": "code",
      "metadata": {
        "colab": {
          "base_uri": "https://localhost:8080/"
        },
        "id": "CwjGSuN2t_N5",
        "outputId": "2ea0095f-536d-41dc-c6c7-9eccbdb3882c"
      },
      "source": [
        "graph.ndata"
      ],
      "execution_count": 58,
      "outputs": [
        {
          "output_type": "execute_result",
          "data": {
            "text/plain": [
              "{'train_mask': tensor([False,  True, False,  ...,  True,  True, False]), 'val_mask': tensor([False, False, False,  ..., False, False, False]), 'test_mask': tensor([ True, False,  True,  ..., False, False,  True]), 'feat': tensor([[ 1.2334,  9.0430, -0.9233,  ..., -0.2579,  0.3112, -0.3772],\n",
              "        [-0.1386, -0.2022,  0.1277,  ...,  0.1563,  0.1048, -0.6534],\n",
              "        [-0.1330, -0.1962, -0.0296,  ...,  0.0358,  0.2864,  0.2744],\n",
              "        ...,\n",
              "        [-0.0614, -0.2022,  0.9698,  ...,  1.1064, -1.4323, -0.2398],\n",
              "        [-0.1606, -0.2022, -0.0892,  ...,  0.7440, -0.5046, -2.2288],\n",
              "        [ 0.0929,  0.2822,  0.1768,  ...,  0.2196,  0.5967,  0.5588]]), 'label': tensor([30, 17, 18,  ...,  3, 13, 13])}"
            ]
          },
          "metadata": {
            "tags": []
          },
          "execution_count": 58
        }
      ]
    },
    {
      "cell_type": "code",
      "metadata": {
        "colab": {
          "base_uri": "https://localhost:8080/"
        },
        "id": "HoTwvIdhuHMC",
        "outputId": "77e1b995-9649-48a9-f55f-ca30710bc95c"
      },
      "source": [
        "graph.edata"
      ],
      "execution_count": 59,
      "outputs": [
        {
          "output_type": "execute_result",
          "data": {
            "text/plain": [
              "{}"
            ]
          },
          "metadata": {
            "tags": []
          },
          "execution_count": 59
        }
      ]
    },
    {
      "cell_type": "code",
      "metadata": {
        "id": "dNCQm7gTu1TC"
      },
      "source": [
        ""
      ],
      "execution_count": null,
      "outputs": []
    }
  ]
}